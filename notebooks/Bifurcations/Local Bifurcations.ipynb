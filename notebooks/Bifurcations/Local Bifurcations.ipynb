{
 "cells": [
  {
   "cell_type": "code",
   "execution_count": 1,
   "metadata": {},
   "outputs": [],
   "source": [
    "from IPython.display import display, Markdown\n",
    "def latexify(x):\n",
    "    out = '$' + x + '$'\n",
    "    return out\n",
    "\n",
    "def lprint(x):\n",
    "    display(Markdown(latexify(latex(x))))"
   ]
  },
  {
   "cell_type": "markdown",
   "metadata": {},
   "source": [
    "# Local Bifurcation Theory"
   ]
  },
  {
   "cell_type": "markdown",
   "metadata": {},
   "source": [
    "As per bt_global, we care about solutions to equations of the form \n",
    "\n",
    "$$ F(\\lambda, x) = 0$$\n",
    "\n",
    "Where\n",
    "\n",
    "$$F : \\mathbb{R} \\times X \\rightarrow Y $$\n",
    "\n",
    "We assume that $F(\\lambda,0)=0$, what we want to find are solutions not on the \"x-axis\""
   ]
  },
  {
   "cell_type": "markdown",
   "metadata": {},
   "source": [
    "## A very simple example"
   ]
  },
  {
   "cell_type": "markdown",
   "metadata": {},
   "source": [
    "Lets cook up a toy function to experiment with, in the literature $X$ is taken to be a generic Banach space, for now we'll only consider the case when $X = \\mathbb{R}^n$, and for this example, just set $X = \\mathbb{R}$"
   ]
  },
  {
   "cell_type": "markdown",
   "metadata": {},
   "source": [
    "Define:\n",
    "\n",
    "$$ F : \\mathbb{R} \\times \\mathbb{R} \\rightarrow \\mathbb{R}$$\n",
    "\n",
    "$$F(\\lambda, x) = x(x-\\lambda)$$"
   ]
  },
  {
   "cell_type": "markdown",
   "metadata": {},
   "source": [
    "We see that $x=0$ does indeed lead to a solution of $F$, regardless of the value of $\\lambda$"
   ]
  },
  {
   "cell_type": "code",
   "execution_count": 99,
   "metadata": {},
   "outputs": [
    {
     "data": {
      "text/markdown": [
       "$ \\left( x, {\\lambda} \\right) \\ {\\mapsto} \\ -{\\left({\\lambda} - x\\right)} x $"
      ],
      "text/plain": [
       "<IPython.core.display.Markdown object>"
      ]
     },
     "metadata": {},
     "output_type": "display_data"
    }
   ],
   "source": [
    "var('x')\n",
    "var('l', latex_name=r'\\lambda') # raw string kills off some random error\n",
    "f(x,l) = x*(x-l)\n",
    "lprint(f)"
   ]
  },
  {
   "cell_type": "markdown",
   "metadata": {},
   "source": [
    "We may use the ```solve``` functionality of sage to find the zero set of this equation"
   ]
  },
  {
   "cell_type": "code",
   "execution_count": 100,
   "metadata": {},
   "outputs": [
    {
     "data": {
      "text/markdown": [
       "$ \\left[x = {\\lambda}, x = 0\\right] $"
      ],
      "text/plain": [
       "<IPython.core.display.Markdown object>"
      ]
     },
     "metadata": {},
     "output_type": "display_data"
    }
   ],
   "source": [
    "lprint(solve(f,x))"
   ]
  },
  {
   "cell_type": "markdown",
   "metadata": {},
   "source": [
    "Now we can rearrange the first option to get a function in terms of $x$:"
   ]
  },
  {
   "cell_type": "code",
   "execution_count": 101,
   "metadata": {},
   "outputs": [
    {
     "data": {
      "text/markdown": [
       "$ \\left[{\\lambda} = x\\right] $"
      ],
      "text/plain": [
       "<IPython.core.display.Markdown object>"
      ]
     },
     "metadata": {},
     "output_type": "display_data"
    }
   ],
   "source": [
    "condition = solve(f,x)[0]\n",
    "lprint(solve(condition, l))"
   ]
  },
  {
   "cell_type": "markdown",
   "metadata": {},
   "source": [
    "While this may seem trivial, it builds a blueprint to find harder zero sets"
   ]
  },
  {
   "cell_type": "markdown",
   "metadata": {},
   "source": [
    "Now we can plot the zero set:"
   ]
  },
  {
   "cell_type": "code",
   "execution_count": 102,
   "metadata": {},
   "outputs": [
    {
     "data": {
      "image/png": "[encoded data removed]",
      "text/plain": [
       "Graphics object consisting of 2 graphics primitives"
      ]
     },
     "execution_count": 102,
     "metadata": {},
     "output_type": "execute_result"
    }
   ],
   "source": [
    "plot(x, thickness = 2, color = 'red') + plot(0, thickness = 2, color = 'red')"
   ]
  },
  {
   "cell_type": "markdown",
   "metadata": {},
   "source": [
    "We usually consider $\\lambda$ to be on the horizontal axis, and plot the solution set as a function of $\\lambda$, with $x$ on the vertical axis"
   ]
  },
  {
   "cell_type": "markdown",
   "metadata": {},
   "source": [
    "See that for this function, the zero set has two line components, meeting at $(0,0)$, we call this point a bifurcation point, and will now attempt use the theory set up in bt_global to prove it to be:"
   ]
  },
  {
   "cell_type": "markdown",
   "metadata": {},
   "source": [
    "### The Necessary Condition"
   ]
  },
  {
   "cell_type": "markdown",
   "metadata": {},
   "source": [
    "bt_global provides first a necessary condition for a bifurcation point, let's verify that $(0,0)$ can't be ruled out. The condition is that for $(\\lambda_{0}, 0)$ to be a bifurcation point, we must have that:"
   ]
  },
  {
   "cell_type": "markdown",
   "metadata": {},
   "source": [
    "$$\\{0\\} \\neq \\text{ker} \\;\\partial_{x}f[(\\lambda_{0},0)]$$ "
   ]
  },
  {
   "cell_type": "markdown",
   "metadata": {},
   "source": [
    "This $\\partial_{x}$ is defined to be the best linear approximation to the function $f(\\lambda_{0}, \\cdot) : \\mathbb{R}^n \\rightarrow \\mathbb{R}^m$ \n",
    "\n",
    "i.e $\\lambda$ is fixed. As such we have that:\n",
    "\n",
    "$$\\partial_{x}f[(\\lambda_{0}, x_{0})] \\in \\mathcal{L}(\\mathbb{R}^n, \\mathbb{R}^m)$$\n",
    "\n",
    "In this example we can think of $\\partial_{x}f[(\\lambda_{0}, x_{0})]$ as the best lines that approximate \"lambda fixed slices\" of $f$, if we imagine $f$ rising out of the page"
   ]
  },
  {
   "cell_type": "markdown",
   "metadata": {},
   "source": [
    "This is essentially saying that we need the linear map to \"lie flat\" in a subspace (recall kernels of linear maps are always linear subspaces)"
   ]
  },
  {
   "cell_type": "markdown",
   "metadata": {},
   "source": [
    "In this example we have that:\n",
    "\n",
    "$$\\partial_{x}f[(\\lambda_{0}, x_{0})] \\in \\mathcal{L}(\\mathbb{R}, \\mathbb{R})$$"
   ]
  },
  {
   "cell_type": "markdown",
   "metadata": {},
   "source": [
    "So in this case, we may compute the derivative:"
   ]
  },
  {
   "cell_type": "code",
   "execution_count": 111,
   "metadata": {},
   "outputs": [
    {
     "data": {
      "text/markdown": [
       "$ \\left( x, {\\lambda} \\right) \\ {\\mapsto} \\ -{\\left({\\lambda} - x\\right)} x $"
      ],
      "text/plain": [
       "<IPython.core.display.Markdown object>"
      ]
     },
     "metadata": {},
     "output_type": "display_data"
    }
   ],
   "source": [
    "lprint(f)"
   ]
  },
  {
   "cell_type": "code",
   "execution_count": 118,
   "metadata": {},
   "outputs": [
    {
     "data": {
      "text/markdown": [
       "$ \\left( x, {\\lambda} \\right) \\ {\\mapsto} \\ \\left(-{\\lambda} + 2 \\, x,\\,-x\\right) $"
      ],
      "text/plain": [
       "<IPython.core.display.Markdown object>"
      ]
     },
     "metadata": {},
     "output_type": "display_data"
    },
    {
     "data": {
      "text/markdown": [
       "$ -{\\lambda} $"
      ],
      "text/plain": [
       "<IPython.core.display.Markdown object>"
      ]
     },
     "metadata": {},
     "output_type": "display_data"
    }
   ],
   "source": [
    "lprint(f.diff())\n",
    "\n",
    "lprint(f.diff(x)(0,l)) # only differentiate with respect to x, lambda is assummed to be constant"
   ]
  },
  {
   "cell_type": "markdown",
   "metadata": {},
   "source": [
    "So we see that $\\partial_{x}f[(\\lambda_{0}, 0)] = -\\lambda_{0} $, viewed as the linear operator $-\\lambda_{0} : \\mathbb{R} \\rightarrow \\mathbb{R}$ which sends: $x \\rightarrow  \\lambda_{0}x$"
   ]
  },
  {
   "cell_type": "markdown",
   "metadata": {},
   "source": [
    "Which only has the nontrivial kernel of $\\mathbb{R}$ when $\\lambda_{0} = 0$\n",
    "\n",
    "Therefore the only potential bifurcation point for this example is $(0,0)$, the rest of the horizontal axis cannot."
   ]
  },
  {
   "cell_type": "markdown",
   "metadata": {},
   "source": [
    "### The sufficient condition"
   ]
  },
  {
   "cell_type": "markdown",
   "metadata": {},
   "source": [
    "Sometimes all we care about is ruling out a point's potential to be a bifurcation point. But what if we want to prove that it is definitely a bifurcation point?\n",
    "\n",
    "Now we require theorem 8.3.1 from bt_global:"
   ]
  },
  {
   "cell_type": "markdown",
   "metadata": {},
   "source": [
    "Suppose that\n",
    "\n",
    "$$ f: \\mathbb{R} \\times \\mathbb{R}^n \\rightarrow \\mathbb{R}^m $$ is at least $C^2$,\n",
    "\n",
    "and that $$f(\\lambda, 0) = 0 \\;\\; \\text{  for all  } \\;\\; \\lambda \\in \\mathbb{R}$$\n",
    "\n",
    "Denote $L = \\partial_{x}f[(\\lambda_{0},0)]$\n",
    "\n",
    "Then require that $\\text{ker}(L)$ is one dimensional and of the form:\n",
    "\n",
    "$$\\text{ker}L = \\{\\xi \\in \\mathbb{R}^n \\;:\\; \\xi = a\\xi_{0} \\;\\; \\text{for some } \\; a \\in \\mathbb{R} \\}, \\;\\;\\; \\xi_{0} \\in \\mathbb{R}^n \\setminus \\{0\\} $$\n",
    "\n",
    "Then $(\\lambda_{0}, 0)$ is a bifurcation point if the transversality condition holds:\n",
    "\n",
    "$$\\partial^2_{\\lambda, x} \\; f[(\\lambda_{0}, 0)](1, \\xi_{0}) \\notin \\text{range}(L) $$"
   ]
  },
  {
   "cell_type": "markdown",
   "metadata": {},
   "source": [
    "This second partial is a bit tricky to understand, since it it evaluates to yield a linear map itself, we see that if \n",
    "\n",
    "$$ f: \\mathbb{R} \\times \\mathbb{R}^n \\rightarrow \\mathbb{R}^m $$\n",
    "\n",
    "then (setting $\\mathbb{R}^n = X$ and $\\mathbb{R} = Y$, so that $f : X \\times Y \\rightarrow \\mathbb{R}$):\n",
    "\n",
    "$$ \\partial_{x} \\:f : \\mathbb{R} \\times \\mathbb{R}^n \\rightarrow \\mathcal{L}(\\mathbb{R}^n)$$\n",
    "\n",
    "and then we can take another derivative at $(x_{0}, y_{0})$ to get:\n",
    "\n",
    "$$\\partial_{y} (\\partial_{x})[(x_{0}, y_{0})] \\in \\mathcal{L}(\\mathbb{R}, \\mathcal{L}(\\mathbb{R}^n, \\mathbb{R}))$$\n",
    "\n",
    "i.e. plugging in a value for $y \\in \\mathbb{R}$ will give a linear map that can be interrogated with a value $x \\in \\mathbb{R}$ to give a bilinearly optimal* value. This value along with first order derivative and intercept information can by used to approximate $f(x,y)$. The key fact is that this whole process was catalysed by the choice $(x_{0},y_{0})$, but then this point plays no further role, simply acting as a centre from which the error of the approximation increases, as our $x,y$ choices are moved further away.\n",
    "\n",
    "*optimal for the choice of $(x_{0}, y_{0})$"
   ]
  },
  {
   "cell_type": "markdown",
   "metadata": {},
   "source": [
    "So in the wording of the theorem, we evaluate this bilinear map at $(1,\\xi_{0})$ and hope the value doesn't lie in the range of our linear operator derivative."
   ]
  },
  {
   "cell_type": "markdown",
   "metadata": {},
   "source": [
    "#### Applying to the toy example"
   ]
  },
  {
   "cell_type": "markdown",
   "metadata": {},
   "source": [
    "So now we first need to work out what this $\\xi_{0}$ is"
   ]
  },
  {
   "cell_type": "markdown",
   "metadata": {},
   "source": [
    "We saw that at $(0,0)$, we have that $\\partial_{x}f[(0, 0)] = 0 $, which viewed as a map $\\mathbb{R} \\rightarrow \\mathbb{R}$ has kernel $\\mathbb{R}$,\n",
    "\n",
    "So we may set $\\xi_{0} = 1$, so in the format of the theorem: \n",
    "\n",
    "$$\\text{ker}L = \\{\\xi \\in \\mathbb{R} \\;:\\; \\xi = a \\cdot 1 \\;\\; \\text{for some } \\; a \\in \\mathbb{R} \\}$$\n",
    "\n",
    "A rather convoluted way of constructing $\\mathbb{R}$"
   ]
  },
  {
   "cell_type": "markdown",
   "metadata": {},
   "source": [
    "Now that we have our $\\xi_{0}$ we need to compute the derivative $\\partial^2_{\\lambda, x}f \\;\\; = \\;\\; \\partial_{\\lambda}\\partial_{x}f$"
   ]
  },
  {
   "cell_type": "code",
   "execution_count": 105,
   "metadata": {},
   "outputs": [
    {
     "data": {
      "text/markdown": [
       "$ \\left( x, {\\lambda} \\right) \\ {\\mapsto} \\ -{\\left({\\lambda} - x\\right)} x $"
      ],
      "text/plain": [
       "<IPython.core.display.Markdown object>"
      ]
     },
     "metadata": {},
     "output_type": "display_data"
    }
   ],
   "source": [
    "lprint(f)"
   ]
  },
  {
   "cell_type": "code",
   "execution_count": 106,
   "metadata": {},
   "outputs": [
    {
     "data": {
      "text/markdown": [
       "$ \\left( x, {\\lambda} \\right) \\ {\\mapsto} \\ -{\\lambda} + 2 \\, x $"
      ],
      "text/plain": [
       "<IPython.core.display.Markdown object>"
      ]
     },
     "metadata": {},
     "output_type": "display_data"
    },
    {
     "data": {
      "text/markdown": [
       "$ \\left( x, {\\lambda} \\right) \\ {\\mapsto} \\ -1 $"
      ],
      "text/plain": [
       "<IPython.core.display.Markdown object>"
      ]
     },
     "metadata": {},
     "output_type": "display_data"
    }
   ],
   "source": [
    "lprint(f.diff(x))\n",
    "lprint(f.diff(x).diff(l))"
   ]
  },
  {
   "cell_type": "markdown",
   "metadata": {},
   "source": [
    "This is a constant function so certainly: \n",
    "\n",
    "$$\\partial^2_{\\lambda, x} \\; f[(\\lambda_{0}, 0)](1, \\xi_{0}) \\;\\; = \\;\\; \\partial^2_{\\lambda, x} \\; f[(0, 0)](1, 1) = -1$$"
   ]
  },
  {
   "cell_type": "markdown",
   "metadata": {},
   "source": [
    "So we will have that $(0,0)$ is a bifurcation point if $-1 \\notin \\text{range}(L)$"
   ]
  },
  {
   "cell_type": "markdown",
   "metadata": {},
   "source": [
    "What is $\\text{range}(L)$?, in linear algebra terms it would be the 'image' of  $\\partial_{x}f[(0, 0)] = 0 $, which is just the singleton set $\\{0\\}$. \n",
    "\n",
    "Clearly $-1 \\notin \\{0\\}$ therefore we conclude that the point $(0,0)$ is a bifurcation point. And furthermore that it is the only bifurcation point."
   ]
  },
  {
   "cell_type": "code",
   "execution_count": 109,
   "metadata": {},
   "outputs": [
    {
     "data": {
      "text/markdown": [
       "$ \\left(0,\\,0\\right) $"
      ],
      "text/plain": [
       "<IPython.core.display.Markdown object>"
      ]
     },
     "metadata": {},
     "output_type": "display_data"
    }
   ],
   "source": [
    "lprint(f.diff()(0,0))"
   ]
  },
  {
   "cell_type": "markdown",
   "metadata": {},
   "source": [
    "#### What about Taylor series?"
   ]
  },
  {
   "cell_type": "markdown",
   "metadata": {},
   "source": [
    "We can also use the Taylor series to obtain this information:"
   ]
  },
  {
   "cell_type": "code",
   "execution_count": 36,
   "metadata": {},
   "outputs": [
    {
     "data": {
      "text/markdown": [
       "$ \\left( x, {\\lambda} \\right) \\ {\\mapsto} \\ 0 $"
      ],
      "text/plain": [
       "<IPython.core.display.Markdown object>"
      ]
     },
     "metadata": {},
     "output_type": "display_data"
    }
   ],
   "source": [
    "lprint(f.taylor((x,0),(l,0), 1))"
   ]
  },
  {
   "cell_type": "markdown",
   "metadata": {},
   "source": [
    "Observe that this is of the form: $ax + b\\lambda + c$, so we can see that $a = 0$ implies that that  $\\partial_{x}f[(0, 0)] = 0 $. "
   ]
  },
  {
   "cell_type": "code",
   "execution_count": 37,
   "metadata": {},
   "outputs": [
    {
     "data": {
      "text/markdown": [
       "$ \\left( x, {\\lambda} \\right) \\ {\\mapsto} \\ -{\\lambda} x + x^{2} $"
      ],
      "text/plain": [
       "<IPython.core.display.Markdown object>"
      ]
     },
     "metadata": {},
     "output_type": "display_data"
    }
   ],
   "source": [
    "lprint(f.taylor((x,0),(l,0), 2))"
   ]
  },
  {
   "cell_type": "markdown",
   "metadata": {},
   "source": [
    "We see that these values are obtained from (get scaled down with factorials)"
   ]
  },
  {
   "cell_type": "code",
   "execution_count": 110,
   "metadata": {},
   "outputs": [
    {
     "data": {
      "text/markdown": [
       "$ \\left(0,\\,0\\right) $"
      ],
      "text/plain": [
       "<IPython.core.display.Markdown object>"
      ]
     },
     "metadata": {},
     "output_type": "display_data"
    },
    {
     "data": {
      "text/markdown": [
       "$ \\left(\\begin{array}{rr}\n",
       "2 & -1 \\\\\n",
       "-1 & 0\n",
       "\\end{array}\\right) $"
      ],
      "text/plain": [
       "<IPython.core.display.Markdown object>"
      ]
     },
     "metadata": {},
     "output_type": "display_data"
    }
   ],
   "source": [
    "lprint(f.diff()(0,0))\n",
    "lprint(f.diff().diff()(0,0))"
   ]
  },
  {
   "cell_type": "markdown",
   "metadata": {},
   "source": [
    "TODO - link this"
   ]
  },
  {
   "cell_type": "markdown",
   "metadata": {},
   "source": [
    "## A harder example"
   ]
  },
  {
   "cell_type": "markdown",
   "metadata": {},
   "source": [
    "Lets consider a more involved function:"
   ]
  },
  {
   "cell_type": "code",
   "execution_count": 119,
   "metadata": {},
   "outputs": [
    {
     "data": {
      "text/markdown": [
       "$ \\left( x, {\\lambda} \\right) \\ {\\mapsto} \\ {\\left(x^{2} + e^{{\\lambda}} - 4\\right)} {\\left(x - \\sin\\left({\\lambda}\\right)\\right)} x $"
      ],
      "text/plain": [
       "<IPython.core.display.Markdown object>"
      ]
     },
     "metadata": {},
     "output_type": "display_data"
    }
   ],
   "source": [
    "var('x')\n",
    "var('l', latex_name=r'\\lambda') # raw string kills off some random error}\n",
    "f(x,l) = x*(x-sin(l))*(exp(l) + x^2 -4)\n",
    "lprint(f)"
   ]
  },
  {
   "cell_type": "markdown",
   "metadata": {},
   "source": [
    "We see that this map will be smooth, by the product rule"
   ]
  },
  {
   "cell_type": "code",
   "execution_count": 120,
   "metadata": {},
   "outputs": [
    {
     "data": {
      "text/markdown": [
       "$ \\left[{\\lambda} = \\log\\left(-x^{2} + 4\\right), {\\lambda} = \\arcsin\\left(x\\right)\\right] $"
      ],
      "text/plain": [
       "<IPython.core.display.Markdown object>"
      ]
     },
     "metadata": {},
     "output_type": "display_data"
    }
   ],
   "source": [
    "lprint(solve(f,l))"
   ]
  },
  {
   "cell_type": "code",
   "execution_count": 121,
   "metadata": {},
   "outputs": [
    {
     "data": {
      "text/markdown": [
       "$ \\left[x = -\\sqrt{-e^{{\\lambda}} + 4}, x = \\sqrt{-e^{{\\lambda}} + 4}, x = \\sin\\left({\\lambda}\\right), x = 0\\right] $"
      ],
      "text/plain": [
       "<IPython.core.display.Markdown object>"
      ]
     },
     "metadata": {},
     "output_type": "display_data"
    }
   ],
   "source": [
    "lprint(solve(f,x))"
   ]
  },
  {
   "cell_type": "code",
   "execution_count": 122,
   "metadata": {},
   "outputs": [
    {
     "data": {
      "image/png": "[encoded data removed]",
      "text/plain": [
       "Graphics object consisting of 5 graphics primitives"
      ]
     },
     "execution_count": 122,
     "metadata": {},
     "output_type": "execute_result"
    }
   ],
   "source": [
    "plot(-sqrt(-exp(x) + 4), (x,-2*pi,ln(4)), thickness = 2, color = 'red') \\\n",
    "+ plot(sqrt(-exp(x) + 4), (x,-2*pi,ln(4)), thickness = 2, color = 'red')+  plot(0, (x,-3,3), thickness = 2, color = 'red') \\\n",
    "+ plot(sin(x), (x,-2*pi,2*pi), thickness = 2, color = 'red')+  plot(0, (x,-2*pi,2*pi), thickness = 2, color = 'red') \\"
   ]
  },
  {
   "cell_type": "markdown",
   "metadata": {},
   "source": [
    "We see that this zero set is much more complicated, viewing the Taylor polynomial we see that there is a lot more going on:"
   ]
  },
  {
   "cell_type": "code",
   "execution_count": 123,
   "metadata": {},
   "outputs": [
    {
     "data": {
      "text/markdown": [
       "$ \\left( x, {\\lambda} \\right) \\ {\\mapsto} \\ {\\lambda}^{4} + {\\left(6 \\, {\\lambda}^{2} - 3 \\, {\\lambda} \\sin\\left({\\lambda}\\right) + e^{{\\lambda}} - 4\\right)} {\\left({\\lambda} - x\\right)}^{2} + {\\lambda}^{2} e^{{\\lambda}} - {\\left(4 \\, {\\lambda}^{3} + 2 \\, {\\lambda} e^{{\\lambda}} - {\\left(3 \\, {\\lambda}^{2} + e^{{\\lambda}} - 4\\right)} \\sin\\left({\\lambda}\\right) - 8 \\, {\\lambda}\\right)} {\\left({\\lambda} - x\\right)} - 4 \\, {\\lambda}^{2} - {\\left({\\lambda}^{3} + {\\lambda} e^{{\\lambda}} - 4 \\, {\\lambda}\\right)} \\sin\\left({\\lambda}\\right) $"
      ],
      "text/plain": [
       "<IPython.core.display.Markdown object>"
      ]
     },
     "metadata": {},
     "output_type": "display_data"
    }
   ],
   "source": [
    "lprint(f.taylor(x, l, 2))"
   ]
  },
  {
   "cell_type": "markdown",
   "metadata": {},
   "source": [
    "Evaluating at $(0,0)$:"
   ]
  },
  {
   "cell_type": "code",
   "execution_count": 124,
   "metadata": {},
   "outputs": [
    {
     "data": {
      "text/markdown": [
       "$ \\left( x, {\\lambda} \\right) \\ {\\mapsto} \\ 3 \\, {\\lambda} x - 3 \\, x^{2} $"
      ],
      "text/plain": [
       "<IPython.core.display.Markdown object>"
      ]
     },
     "metadata": {},
     "output_type": "display_data"
    }
   ],
   "source": [
    "lprint(f.taylor((x,0), (l,0), 2))"
   ]
  },
  {
   "cell_type": "markdown",
   "metadata": {},
   "source": [
    "Computing $\\partial_{x}f[(\\lambda_{0}, 0)]$"
   ]
  },
  {
   "cell_type": "code",
   "execution_count": 125,
   "metadata": {},
   "outputs": [
    {
     "data": {
      "text/markdown": [
       "$ \\left( x, {\\lambda} \\right) \\ {\\mapsto} \\ \\left(2 \\, {\\left(x - \\sin\\left({\\lambda}\\right)\\right)} x^{2} + {\\left(x^{2} + e^{{\\lambda}} - 4\\right)} {\\left(x - \\sin\\left({\\lambda}\\right)\\right)} + {\\left(x^{2} + e^{{\\lambda}} - 4\\right)} x,\\,-{\\left(x^{2} + e^{{\\lambda}} - 4\\right)} x \\cos\\left({\\lambda}\\right) + {\\left(x - \\sin\\left({\\lambda}\\right)\\right)} x e^{{\\lambda}}\\right) $"
      ],
      "text/plain": [
       "<IPython.core.display.Markdown object>"
      ]
     },
     "metadata": {},
     "output_type": "display_data"
    }
   ],
   "source": [
    "lprint(f.diff())"
   ]
  },
  {
   "cell_type": "code",
   "execution_count": 126,
   "metadata": {},
   "outputs": [
    {
     "data": {
      "text/markdown": [
       "$ -{\\left(e^{{\\lambda}} - 4\\right)} \\sin\\left({\\lambda}\\right) $"
      ],
      "text/plain": [
       "<IPython.core.display.Markdown object>"
      ]
     },
     "metadata": {},
     "output_type": "display_data"
    }
   ],
   "source": [
    "lprint(f.diff(x)(0,l)) # only differentiate with respect to x, lambda is assummed to be constant"
   ]
  },
  {
   "cell_type": "markdown",
   "metadata": {},
   "source": [
    "In the previous example we saw that the the kernel of this \"one dimensional linear operator\" was non-trivial if and only if it was the zero operator.\n",
    "\n",
    "Which in this case happends when $\\lambda$ is a multiple of $\\pi$, or $\\lambda = \\ln4$, but this was only the necessary condition, we will now show that all of these possibilities are in fact bifurcation points:"
   ]
  },
  {
   "cell_type": "markdown",
   "metadata": {},
   "source": [
    "See that for each time $L = \\partial_{x}f[(\\lambda_{0}, 0)]$ has non-trivial kernel, we have that $\\text{ker} L = \\mathbb{R}$ and $\\text{range}(L) = \\{0\\}$, so we may take $\\xi_{0} = 1$ in each case"
   ]
  },
  {
   "cell_type": "markdown",
   "metadata": {},
   "source": [
    "Now to compute $$\\partial^2_{\\lambda, x} \\; f[(\\lambda_{0}, 0)](1, \\xi_{0})$$"
   ]
  },
  {
   "cell_type": "markdown",
   "metadata": {},
   "source": [
    "Luckily in this case the value of $\\partial^2_{\\lambda, x} \\; f[(\\lambda_{0}, 0)]$ is of the form: $\\mathcal{L}(\\mathbb{R}, \\mathcal{L}(\\mathbb{R}, \\mathbb{R}))$, and so collapses to just being able to be viewed as a scalar. So we just need to evalatute the derivative at the potential bifurcation points and check that they aren't zero."
   ]
  },
  {
   "cell_type": "code",
   "execution_count": 136,
   "metadata": {},
   "outputs": [
    {
     "data": {
      "text/markdown": [
       "$ \\left( x, {\\lambda} \\right) \\ {\\mapsto} \\ -2 \\, x^{2} \\cos\\left({\\lambda}\\right) - {\\left(x^{2} + e^{{\\lambda}} - 4\\right)} \\cos\\left({\\lambda}\\right) + {\\left(x - \\sin\\left({\\lambda}\\right)\\right)} e^{{\\lambda}} + x e^{{\\lambda}} $"
      ],
      "text/plain": [
       "<IPython.core.display.Markdown object>"
      ]
     },
     "metadata": {},
     "output_type": "display_data"
    }
   ],
   "source": [
    "lprint(f.diff(x).diff(l))"
   ]
  },
  {
   "cell_type": "markdown",
   "metadata": {},
   "source": [
    "Check at $(0, \\ln4)$"
   ]
  },
  {
   "cell_type": "code",
   "execution_count": 137,
   "metadata": {},
   "outputs": [
    {
     "data": {
      "text/markdown": [
       "$ -4 \\, \\sin\\left(2 \\, \\log\\left(2\\right)\\right) $"
      ],
      "text/plain": [
       "<IPython.core.display.Markdown object>"
      ]
     },
     "metadata": {},
     "output_type": "display_data"
    }
   ],
   "source": [
    "lprint(f.diff(x).diff(l)(0,ln(4)))"
   ]
  },
  {
   "cell_type": "markdown",
   "metadata": {},
   "source": [
    "See that this is non-zero since $2\\log2$ is not a multiple of $\\pi$"
   ]
  },
  {
   "cell_type": "markdown",
   "metadata": {},
   "source": [
    "now check $(0,0)$"
   ]
  },
  {
   "cell_type": "code",
   "execution_count": 145,
   "metadata": {},
   "outputs": [
    {
     "data": {
      "text/markdown": [
       "$ 3 $"
      ],
      "text/plain": [
       "<IPython.core.display.Markdown object>"
      ]
     },
     "metadata": {},
     "output_type": "display_data"
    }
   ],
   "source": [
    "lprint(f.diff(x).diff(l)(0,0))"
   ]
  },
  {
   "cell_type": "markdown",
   "metadata": {},
   "source": [
    "Again non-zero so we have a bifurcation point"
   ]
  },
  {
   "cell_type": "code",
   "execution_count": 148,
   "metadata": {},
   "outputs": [
    {
     "data": {
      "text/markdown": [
       "$ -{\\left(e^{\\left(\\pi k\\right)} - 4\\right)} \\cos\\left(\\pi k\\right) - e^{\\left(\\pi k\\right)} \\sin\\left(\\pi k\\right) $"
      ],
      "text/plain": [
       "<IPython.core.display.Markdown object>"
      ]
     },
     "metadata": {},
     "output_type": "display_data"
    }
   ],
   "source": [
    "var('k')\n",
    "lprint(f.diff(x).diff(l)(0,k*pi))"
   ]
  },
  {
   "cell_type": "markdown",
   "metadata": {},
   "source": [
    "we see that this reduces to only the cosine evaluation, which means the expression is zero if and only if $e^{k \\pi}  = 4$, which is not possible for integer k, so all the points we considered are bifurcations, and these are the only possible ones."
   ]
  },
  {
   "cell_type": "markdown",
   "metadata": {},
   "source": [
    "## Rod example"
   ]
  },
  {
   "cell_type": "code",
   "execution_count": 151,
   "metadata": {},
   "outputs": [
    {
     "data": {
      "image/png": "[encoded data removed]",
      "text/plain": [
       "<IPython.core.display.Image object>"
      ]
     },
     "execution_count": 151,
     "metadata": {},
     "output_type": "execute_result"
    }
   ],
   "source": [
    "from IPython.display import Image\n",
    "Image(\"springs.png\")"
   ]
  },
  {
   "cell_type": "markdown",
   "metadata": {},
   "source": [
    "Lets try a \"real world\" example"
   ]
  },
  {
   "cell_type": "code",
   "execution_count": 159,
   "metadata": {},
   "outputs": [
    {
     "data": {
      "text/markdown": [
       "$ \\left( x, {\\lambda} \\right) \\ {\\mapsto} \\ \\pi^{2} - \\frac{1}{2} \\, {\\left(\\pi + x\\right)}^{2} - \\frac{1}{2} \\, {\\left(\\pi - x\\right)}^{2} - {\\lambda} {\\left(\\sqrt{-2 \\, \\cos\\left(\\pi + x\\right) + 2} - 2\\right)} $"
      ],
      "text/plain": [
       "<IPython.core.display.Markdown object>"
      ]
     },
     "metadata": {},
     "output_type": "display_data"
    }
   ],
   "source": [
    "var('x')\n",
    "var('l', latex_name=r'\\lambda') # raw string kills off some random error}\n",
    "f(x,l) = l*(2-sqrt(2-2*cos(x+pi))) -1/2*(2*pi -(x+pi))^2 -1/2*(x+pi)^2 + pi^2\n",
    "lprint(f)"
   ]
  },
  {
   "cell_type": "code",
   "execution_count": 168,
   "metadata": {},
   "outputs": [
    {
     "data": {
      "text/markdown": [
       "$ \\left[{\\lambda} = -\\frac{x^{2}}{\\sqrt{2 \\, \\cos\\left(x\\right) + 2} - 2}\\right] $"
      ],
      "text/plain": [
       "<IPython.core.display.Markdown object>"
      ]
     },
     "metadata": {},
     "output_type": "display_data"
    }
   ],
   "source": [
    "lprint(solve(f,l))"
   ]
  },
  {
   "cell_type": "code",
   "execution_count": 161,
   "metadata": {},
   "outputs": [
    {
     "data": {
      "text/markdown": [
       "$ \\left[x = -\\sqrt{-{\\lambda} \\sqrt{2 \\, \\cos\\left(x\\right) + 2} + 2 \\, {\\lambda}}, x = \\sqrt{-{\\lambda} \\sqrt{2 \\, \\cos\\left(x\\right) + 2} + 2 \\, {\\lambda}}\\right] $"
      ],
      "text/plain": [
       "<IPython.core.display.Markdown object>"
      ]
     },
     "metadata": {},
     "output_type": "display_data"
    }
   ],
   "source": [
    "lprint(solve(f,x))"
   ]
  },
  {
   "cell_type": "markdown",
   "metadata": {},
   "source": [
    "Now we see a problem, we cannot solve for $x$ in closed form, so plotting the zero set is more challenging. We can verify that for $x=0$, i.e $\\theta = \\pi$ so the rods are completely straight, that we have a solution. But what about for the rest?"
   ]
  },
  {
   "cell_type": "markdown",
   "metadata": {},
   "source": [
    "We can visulise the set rotated 90 degrees, since $\\lambda$ can be found:"
   ]
  },
  {
   "cell_type": "code",
   "execution_count": 174,
   "metadata": {},
   "outputs": [
    {
     "data": {
      "image/png": "[encoded data removed]",
      "text/plain": [
       "Graphics object consisting of 1 graphics primitive"
      ]
     },
     "execution_count": 174,
     "metadata": {},
     "output_type": "execute_result"
    }
   ],
   "source": [
    "plot((-x^2)/(sqrt(2*cos(x) + 2)-2))"
   ]
  },
  {
   "cell_type": "markdown",
   "metadata": {},
   "source": [
    "This is interesting since it suggests that untill we apply a large enough force, no movement will occur, but then afterwardds the rods can bend either up or down"
   ]
  },
  {
   "cell_type": "markdown",
   "metadata": {},
   "source": []
  },
  {
   "cell_type": "markdown",
   "metadata": {},
   "source": [
    "Evaluting the first derivative, see that "
   ]
  },
  {
   "cell_type": "code",
   "execution_count": 178,
   "metadata": {},
   "outputs": [
    {
     "data": {
      "text/markdown": [
       "$ \\left( x, {\\lambda} \\right) \\ {\\mapsto} \\ -\\frac{{\\lambda} \\sin\\left(\\pi + x\\right)}{\\sqrt{-2 \\, \\cos\\left(\\pi + x\\right) + 2}} - 2 \\, x $"
      ],
      "text/plain": [
       "<IPython.core.display.Markdown object>"
      ]
     },
     "metadata": {},
     "output_type": "display_data"
    }
   ],
   "source": [
    "lprint(f.diff(x))"
   ]
  },
  {
   "cell_type": "markdown",
   "metadata": {},
   "source": [
    "This evaluates to zero whenever $x=0$ (limits)"
   ]
  },
  {
   "cell_type": "code",
   "execution_count": 179,
   "metadata": {},
   "outputs": [
    {
     "data": {
      "text/markdown": [
       "$ 0 $"
      ],
      "text/plain": [
       "<IPython.core.display.Markdown object>"
      ]
     },
     "metadata": {},
     "output_type": "display_data"
    }
   ],
   "source": [
    "lprint(f.diff(x)(0,l))"
   ]
  },
  {
   "cell_type": "markdown",
   "metadata": {},
   "source": [
    "We see that all lambdas represent a possible bifurcation point"
   ]
  },
  {
   "cell_type": "markdown",
   "metadata": {},
   "source": [
    "What about the second derivative?"
   ]
  },
  {
   "cell_type": "code",
   "execution_count": 181,
   "metadata": {},
   "outputs": [
    {
     "data": {
      "text/markdown": [
       "$ \\left( x, {\\lambda} \\right) \\ {\\mapsto} \\ -\\frac{\\sin\\left(\\pi + x\\right)}{\\sqrt{-2 \\, \\cos\\left(\\pi + x\\right) + 2}} $"
      ],
      "text/plain": [
       "<IPython.core.display.Markdown object>"
      ]
     },
     "metadata": {},
     "output_type": "display_data"
    }
   ],
   "source": [
    "lprint(f.diff(x).diff(l))"
   ]
  },
  {
   "cell_type": "markdown",
   "metadata": {},
   "source": [
    "evaluate at $x = 0$"
   ]
  },
  {
   "cell_type": "code",
   "execution_count": 183,
   "metadata": {},
   "outputs": [
    {
     "data": {
      "text/markdown": [
       "$ 0 $"
      ],
      "text/plain": [
       "<IPython.core.display.Markdown object>"
      ]
     },
     "metadata": {},
     "output_type": "display_data"
    }
   ],
   "source": [
    "lprint(f.diff(x).diff(l)(0,0))"
   ]
  },
  {
   "cell_type": "markdown",
   "metadata": {},
   "source": [
    "It seems that out sufficient condition has not worked, we'll have to go back to the drawing board"
   ]
  }
 ],
 "metadata": {
  "kernelspec": {
   "display_name": "SageMath 9.2",
   "language": "sage",
   "name": "sagemath"
  },
  "language_info": {
   "codemirror_mode": {
    "name": "ipython",
    "version": 3
   },
   "file_extension": ".py",
   "mimetype": "text/x-python",
   "name": "python",
   "nbconvert_exporter": "python",
   "pygments_lexer": "ipython3",
   "version": "3.7.7"
  }
 },
 "nbformat": 4,
 "nbformat_minor": 4
}
