{
 "cells": [
  {
   "cell_type": "markdown",
   "metadata": {},
   "source": [
    "# Elastic Rod Model"
   ]
  },
  {
   "cell_type": "code",
   "execution_count": 1,
   "metadata": {},
   "outputs": [],
   "source": [
    "from IPython.display import display, Markdown\n",
    "import random\n",
    "def latexify(x):\n",
    "    out = '$' + x + '$'\n",
    "    return out\n",
    "\n",
    "def lprint(x):\n",
    "    display(Markdown(latexify(latex(x))))\n",
    "    \n",
    "%run -i 'implicit.py'\n",
    "\n",
    "import matplotlib.pyplot as plt"
   ]
  },
  {
   "cell_type": "markdown",
   "metadata": {},
   "source": [
    "In this notebook a discretisation of the elastic rod bifurcation problem will be investigated"
   ]
  },
  {
   "cell_type": "markdown",
   "metadata": {},
   "source": [
    "here we consider rods connected by elastic joints that resist angular perturbation, with a forcing action attempting to squash the rod"
   ]
  },
  {
   "cell_type": "code",
   "execution_count": 2,
   "metadata": {},
   "outputs": [
    {
     "data": {
      "text/markdown": [
       "$ \\arcsin\\left(x\\right) $"
      ],
      "text/plain": [
       "<IPython.core.display.Markdown object>"
      ]
     },
     "metadata": {},
     "output_type": "display_data"
    }
   ],
   "source": [
    "var('x')\n",
    "\n",
    "lprint(arcsin(x))"
   ]
  },
  {
   "cell_type": "code",
   "execution_count": 59,
   "metadata": {},
   "outputs": [],
   "source": [
    "def get_funcs(n):\n",
    "    # returns a set of equations to solve\n",
    "\n",
    "    var_dict = {}\n",
    "    for i in range(0,n):\n",
    "        # theta is the angle from the horizontal the ith line branches from\n",
    "        var_dict['theta{}'.format(i)] = var('theta{}'.format(i), latex_name = r'\\theta_{}'.format(i))\n",
    "        \n",
    "    var_dict['theta{}'.format(n)] = 0 # will update\n",
    "        \n",
    "    # compute the last theta, since must have the endpoints both zero on the vertical\n",
    "    for i in range(0,n):\n",
    "        var_dict['theta{}'.format(n)] = var_dict['theta{}'.format(n)] - sin(var_dict['theta{}'.format(i)])\n",
    "        \n",
    "    var_dict['theta{}'.format(n)] = arcsin(var_dict['theta{}'.format(n)])\n",
    "    \n",
    "    var_dict['l'] = var('l', latex_name=r'\\lambda') # compressive force\n",
    "   \n",
    "    \n",
    "    funcs = []\n",
    "    energy = 0\n",
    "    for j in range(1,n+1):\n",
    "        # iterate through each spring in the rod\n",
    "        e_spring = (var_dict['theta{}'.format(j-1)] - var_dict['theta{}'.format(j)])^2 \n",
    "        # since pi - (pi - theta0 - theta1) e.g\n",
    "        energy = energy + e_spring\n",
    "        \n",
    "    hoz = 0\n",
    "    for i in range(0,n+1):\n",
    "        # total horizontal extension\n",
    "        hoz = hoz + cos(var_dict['theta{}'.format(i)])\n",
    "           \n",
    "    # take away the work done by the force\n",
    "    energy = energy - var_dict['l']*(n + 1 - hoz)\n",
    "            \n",
    "    # solutions will be local minima of the energy equation\n",
    "    for j in range(0,n):\n",
    "        #don't care about the last angle\n",
    "        funcs.append(energy.diff(var_dict['theta{}'.format(j)]))\n",
    "        \n",
    "    del var_dict['theta{}'.format(n)] # this was just a latent variable\n",
    "        \n",
    "    return funcs, var_dict\n",
    "\n",
    "def angles_to_coords(angles):\n",
    "    # produces the coordinates of a line with angles inputted\n",
    "    coords = []\n",
    "    coords.append((0,0))\n",
    "    \n",
    "    sin_sum = sum([sin(angle) for angle in angles])\n",
    "    temp_angles = list(angles)\n",
    "    temp_angles.append(arcsin(-sin_sum))\n",
    "    \n",
    "    for angle in temp_angles:\n",
    "        now = coords[-1]\n",
    "        new_x = now[0] + cos(angle)\n",
    "        new_y = now[1] + sin(angle)\n",
    "        coords.append((new_x, new_y))\n",
    "        \n",
    "        \n",
    "    return coords\n",
    "\n",
    "def plot_angles(angles, save = False, save_name = 'plot1', folder = 'plots', show = True, title=None):\n",
    "\n",
    "    plt.axes\n",
    "    plt.xlim([-1,4])\n",
    "    plt.ylim([-2.5,2.5])\n",
    "\n",
    "    points = angles_to_coords(tuple(angles))\n",
    "    for i in range(int(0), int(len(points) - 1)):\n",
    "        line = plt.Line2D((points[i][0], points[i+1][0]), (points[i][1], points[i+1][1]), lw=2.5)\n",
    "        plt.gca().add_line(line)\n",
    "        plt.gca().set_aspect('equal')\n",
    "        if title is not None:\n",
    "            plt.title(title)\n",
    "    if save is True:\n",
    "        plt.savefig('{}/{}.png'.format(folder, save_name))\n",
    "        \n",
    "    if show is True:\n",
    "        plt.show()\n",
    "        \n",
    "    plt.cla()\n",
    "    return   "
   ]
  },
  {
   "cell_type": "code",
   "execution_count": 4,
   "metadata": {},
   "outputs": [],
   "source": [
    "funcs, var_dict = get_funcs(2)"
   ]
  },
  {
   "cell_type": "code",
   "execution_count": 5,
   "metadata": {},
   "outputs": [
    {
     "data": {
      "text/plain": [
       "{'theta0': theta0, 'theta1': theta1, 'l': l}"
      ]
     },
     "execution_count": 5,
     "metadata": {},
     "output_type": "execute_result"
    }
   ],
   "source": [
    "var_dict"
   ]
  },
  {
   "cell_type": "code",
   "execution_count": 6,
   "metadata": {},
   "outputs": [
    {
     "data": {
      "text/markdown": [
       "$ \\left[-{\\left(\\frac{{\\left(\\sin\\left({\\theta_0}\\right) + \\sin\\left({\\theta_1}\\right)\\right)} \\cos\\left({\\theta_0}\\right)}{\\sqrt{-{\\left(\\sin\\left({\\theta_0}\\right) + \\sin\\left({\\theta_1}\\right)\\right)}^{2} + 1}} + \\sin\\left({\\theta_0}\\right)\\right)} {\\lambda} + \\frac{2 \\, {\\left({\\theta_1} - \\arcsin\\left(-\\sin\\left({\\theta_0}\\right) - \\sin\\left({\\theta_1}\\right)\\right)\\right)} \\cos\\left({\\theta_0}\\right)}{\\sqrt{-{\\left(\\sin\\left({\\theta_0}\\right) + \\sin\\left({\\theta_1}\\right)\\right)}^{2} + 1}} + 2 \\, {\\theta_0} - 2 \\, {\\theta_1}, -{\\left(\\frac{{\\left(\\sin\\left({\\theta_0}\\right) + \\sin\\left({\\theta_1}\\right)\\right)} \\cos\\left({\\theta_1}\\right)}{\\sqrt{-{\\left(\\sin\\left({\\theta_0}\\right) + \\sin\\left({\\theta_1}\\right)\\right)}^{2} + 1}} + \\sin\\left({\\theta_1}\\right)\\right)} {\\lambda} + 2 \\, {\\left({\\theta_1} - \\arcsin\\left(-\\sin\\left({\\theta_0}\\right) - \\sin\\left({\\theta_1}\\right)\\right)\\right)} {\\left(\\frac{\\cos\\left({\\theta_1}\\right)}{\\sqrt{-{\\left(\\sin\\left({\\theta_0}\\right) + \\sin\\left({\\theta_1}\\right)\\right)}^{2} + 1}} + 1\\right)} - 2 \\, {\\theta_0} + 2 \\, {\\theta_1}\\right] $"
      ],
      "text/plain": [
       "<IPython.core.display.Markdown object>"
      ]
     },
     "metadata": {},
     "output_type": "display_data"
    }
   ],
   "source": [
    "lprint(funcs)"
   ]
  },
  {
   "cell_type": "code",
   "execution_count": 7,
   "metadata": {},
   "outputs": [
    {
     "data": {
      "text/markdown": [
       "$ 0 $"
      ],
      "text/plain": [
       "<IPython.core.display.Markdown object>"
      ]
     },
     "metadata": {},
     "output_type": "display_data"
    }
   ],
   "source": [
    "lprint(funcs[1](l,0,0))"
   ]
  },
  {
   "cell_type": "markdown",
   "metadata": {},
   "source": [
    "See that we have trivial solutions"
   ]
  },
  {
   "cell_type": "code",
   "execution_count": 8,
   "metadata": {},
   "outputs": [
    {
     "data": {
      "text/markdown": [
       "$ \\left(\\begin{array}{rr}\n",
       "-2 \\, {\\lambda} + 4 & -{\\lambda} + 2 \\\\\n",
       "-{\\lambda} + 2 & -2 \\, {\\lambda} + 10\n",
       "\\end{array}\\right) $"
      ],
      "text/plain": [
       "<IPython.core.display.Markdown object>"
      ]
     },
     "metadata": {},
     "output_type": "display_data"
    }
   ],
   "source": [
    "old_var = var_dict\n",
    "var_dict = {key : var_dict[key] for key in var_dict.keys() if var_dict[key] != 0}\n",
    "var_dict = {key : var_dict[key] for key in var_dict.keys() if key != 'l'}\n",
    "\n",
    "J = jacobian(funcs,tuple(var_dict.values()))(**{var : 0 for var in var_dict.keys()}).apply_map(lambda x: x.full_simplify())\n",
    "lprint(J)"
   ]
  },
  {
   "cell_type": "code",
   "execution_count": 9,
   "metadata": {},
   "outputs": [
    {
     "data": {
      "text/markdown": [
       "$ -{\\left({\\lambda} - 2\\right)}^{2} + 4 \\, {\\left({\\lambda} - 2\\right)} {\\left({\\lambda} - 5\\right)} $"
      ],
      "text/plain": [
       "<IPython.core.display.Markdown object>"
      ]
     },
     "metadata": {},
     "output_type": "display_data"
    }
   ],
   "source": [
    "lprint(det(matrix(J))) # potential bifurcation point"
   ]
  },
  {
   "cell_type": "code",
   "execution_count": 10,
   "metadata": {},
   "outputs": [
    {
     "data": {
      "text/markdown": [
       "$ \\left[{\\lambda} = 2, {\\lambda} = 6\\right] $"
      ],
      "text/plain": [
       "<IPython.core.display.Markdown object>"
      ]
     },
     "metadata": {},
     "output_type": "display_data"
    }
   ],
   "source": [
    "lprint(solve(det(matrix(J)), l))"
   ]
  },
  {
   "cell_type": "markdown",
   "metadata": {},
   "source": [
    "We see there are two different force strenghts that seem to produce bifurcations"
   ]
  },
  {
   "cell_type": "code",
   "execution_count": 11,
   "metadata": {},
   "outputs": [],
   "source": [
    "bifs = list(solve(det(matrix(J)), l))\n",
    "bif_tuples = []\n",
    "\n",
    "for i in [0,1]:\n",
    "    bif_funcs = [func(l = bifs[i].rhs()) for func in funcs]\n",
    "    J = jacobian(bif_funcs,tuple(var_dict.values()))(**{var : 0 for var in var_dict.keys()}).apply_map(lambda x : float(x))\n",
    "    # do floating point since we are only looking right now\n",
    "    K = [epair for epair in J.eigenvectors_right() if abs(epair[0]) < 10e-15][0][1][0] # since float now a solution is found as a highly degenerate eigenvector\n",
    "    bif_tuples.append((bifs[i].rhs(), K))"
   ]
  },
  {
   "cell_type": "code",
   "execution_count": 12,
   "metadata": {},
   "outputs": [
    {
     "data": {
      "text/plain": [
       "[(2, (1.0, 0.0)), (6, (0.4472135954999579, -0.8944271909999159))]"
      ]
     },
     "execution_count": 12,
     "metadata": {},
     "output_type": "execute_result"
    }
   ],
   "source": [
    "bif_tuples"
   ]
  },
  {
   "cell_type": "code",
   "execution_count": 13,
   "metadata": {},
   "outputs": [],
   "source": [
    "angles = tuple(bif_tuples[0][1])"
   ]
  },
  {
   "cell_type": "code",
   "execution_count": 14,
   "metadata": {},
   "outputs": [
    {
     "name": "stdout",
     "output_type": "stream",
     "text": [
      "2\n"
     ]
    },
    {
     "data": {
      "image/png": "[encoded data removed]",
      "text/plain": [
       "<Figure size 432x288 with 1 Axes>"
      ]
     },
     "metadata": {
      "needs_background": "light"
     },
     "output_type": "display_data"
    },
    {
     "name": "stdout",
     "output_type": "stream",
     "text": [
      "6\n"
     ]
    },
    {
     "data": {
      "image/png": "[encoded data removed]",
      "text/plain": [
       "<Figure size 432x288 with 1 Axes>"
      ]
     },
     "metadata": {
      "needs_background": "light"
     },
     "output_type": "display_data"
    },
    {
     "data": {
      "image/png": "[encoded data removed]",
      "text/plain": [
       "<Figure size 432x288 with 1 Axes>"
      ]
     },
     "metadata": {
      "needs_background": "light"
     },
     "output_type": "display_data"
    }
   ],
   "source": [
    "count = 1\n",
    "for bif_tuple in bif_tuples:\n",
    "    print(bif_tuple[0])\n",
    "    plot_angles(bif_tuple[1], save = True, save_name = 'plot{}'.format(count))\n",
    "    count+=1"
   ]
  },
  {
   "cell_type": "markdown",
   "metadata": {},
   "source": [
    "# $\\lambda = 2 $"
   ]
  },
  {
   "cell_type": "markdown",
   "metadata": {},
   "source": [
    "\\\\_/ bifurcation"
   ]
  },
  {
   "cell_type": "code",
   "execution_count": 15,
   "metadata": {},
   "outputs": [
    {
     "data": {
      "text/markdown": [
       "$ \\left(\\begin{array}{rr}\n",
       "0 & 0 \\\\\n",
       "0 & 6\n",
       "\\end{array}\\right) $"
      ],
      "text/plain": [
       "<IPython.core.display.Markdown object>"
      ]
     },
     "metadata": {},
     "output_type": "display_data"
    }
   ],
   "source": [
    "bif_funcs = [func(l = 2) for func in funcs]\n",
    "J = jacobian(bif_funcs,tuple(var_dict.values()))(**{var : 0 for var in var_dict.keys()})\n",
    "lprint(J)"
   ]
  },
  {
   "cell_type": "markdown",
   "metadata": {},
   "source": [
    "We see there is no need to reorder the variables"
   ]
  },
  {
   "cell_type": "code",
   "execution_count": 16,
   "metadata": {},
   "outputs": [],
   "source": [
    "tfuncs = vector([func(l = l + 2) for func in funcs]) \n",
    "var_dict['l'] = l\n",
    "var_dict_old = var_dict"
   ]
  },
  {
   "cell_type": "code",
   "execution_count": 17,
   "metadata": {},
   "outputs": [
    {
     "name": "stdout",
     "output_type": "stream",
     "text": [
      "computing Taylor approximaton to 3 order for speedup\n"
     ]
    }
   ],
   "source": [
    "position = {key : 0 for key in var_dict_old.keys()}\n",
    "\n",
    "\n",
    "code_funcs = [tfuncs[index] for index in [1]] # the last function has degenerate first derivative always\n",
    "position = {key : 0 for key in var_dict_old.keys()}\n",
    "# var_dict already loaded\n",
    "var_dict = {'y1' : theta1, 'x1' : l, 'x2' : theta0}\n",
    "x_var_keys = ['l', 'theta0'] # the variables in the kernel\n",
    "x_dim = 2\n",
    "y_dim = 1 # invertible part\n",
    "\n",
    "t_dict = TensorDict(code_funcs, position, var_dict, x_dim, y_dim)"
   ]
  },
  {
   "cell_type": "code",
   "execution_count": 18,
   "metadata": {},
   "outputs": [
    {
     "name": "stderr",
     "output_type": "stream",
     "text": [
      "100%|██████████| 1/1 [00:00<00:00, 2328.88it/s]\n",
      "100%|██████████| 1/1 [00:00<00:00, 23.25it/s]\n"
     ]
    },
    {
     "name": "stdout",
     "output_type": "stream",
     "text": [
      "[6]\n"
     ]
    },
    {
     "name": "stderr",
     "output_type": "stream",
     "text": [
      "100%|██████████| 2/2 [00:00<00:00, 4169.29it/s]\n",
      "100%|██████████| 4/4 [00:00<00:00, 16.32it/s]\n"
     ]
    },
    {
     "name": "stdout",
     "output_type": "stream",
     "text": [
      "[6]\n"
     ]
    },
    {
     "name": "stderr",
     "output_type": "stream",
     "text": [
      "100%|██████████| 3/3 [00:00<00:00, 1500.29it/s]\n",
      "100%|██████████| 14/14 [00:01<00:00, 12.16it/s]\n"
     ]
    },
    {
     "name": "stdout",
     "output_type": "stream",
     "text": [
      "[6]\n"
     ]
    },
    {
     "name": "stderr",
     "output_type": "stream",
     "text": [
      "100%|██████████| 4/4 [00:00<00:00, 991.85it/s]\n",
      "  0%|          | 0/51 [00:00<?, ?it/s]"
     ]
    },
    {
     "name": "stdout",
     "output_type": "stream",
     "text": [
      "updating Taylor series\n"
     ]
    },
    {
     "name": "stderr",
     "output_type": "stream",
     "text": [
      "100%|██████████| 51/51 [00:06<00:00,  8.03it/s]\n"
     ]
    },
    {
     "name": "stdout",
     "output_type": "stream",
     "text": [
      "[6]\n"
     ]
    },
    {
     "name": "stderr",
     "output_type": "stream",
     "text": [
      "100%|██████████| 5/5 [00:00<00:00, 292.32it/s]\n",
      "  0%|          | 0/202 [00:00<?, ?it/s]"
     ]
    },
    {
     "name": "stdout",
     "output_type": "stream",
     "text": [
      "updating Taylor series\n"
     ]
    },
    {
     "name": "stderr",
     "output_type": "stream",
     "text": [
      "100%|██████████| 202/202 [00:41<00:00,  4.82it/s]\n"
     ]
    },
    {
     "name": "stdout",
     "output_type": "stream",
     "text": [
      "[6]\n"
     ]
    }
   ],
   "source": [
    "out = get_hkx_polynomial(code_funcs, 5, x_dim, y_dim, var_dict, x_var_keys, t_dict, position)"
   ]
  },
  {
   "cell_type": "code",
   "execution_count": 19,
   "metadata": {},
   "outputs": [
    {
     "data": {
      "text/markdown": [
       "$ \\left[\\frac{4}{81} \\, {\\lambda}^{4} {\\theta_0} - \\frac{17}{81} \\, {\\lambda}^{2} {\\theta_0}^{3} + \\frac{7}{120} \\, {\\theta_0}^{5} + \\frac{2}{27} \\, {\\lambda}^{3} {\\theta_0} - \\frac{25}{108} \\, {\\lambda} {\\theta_0}^{3} + \\frac{1}{9} \\, {\\lambda}^{2} {\\theta_0} - \\frac{1}{18} \\, {\\theta_0}^{3} + \\frac{1}{6} \\, {\\lambda} {\\theta_0}\\right] $"
      ],
      "text/plain": [
       "<IPython.core.display.Markdown object>"
      ]
     },
     "metadata": {},
     "output_type": "display_data"
    }
   ],
   "source": [
    "lprint(out)"
   ]
  },
  {
   "cell_type": "code",
   "execution_count": 20,
   "metadata": {},
   "outputs": [
    {
     "data": {
      "text/plain": [
       "[-0.01945458239316018, 0.0002431365259273066]"
      ]
     },
     "execution_count": 20,
     "metadata": {},
     "output_type": "execute_result"
    }
   ],
   "source": [
    "subbed = [func(theta1 = out[0]) for func in tfuncs]\n",
    "[float(func(l = 0.1, theta0 = 0.1)) for func in subbed]"
   ]
  },
  {
   "cell_type": "markdown",
   "metadata": {},
   "source": [
    "The first function remains to be solved"
   ]
  },
  {
   "cell_type": "code",
   "execution_count": 32,
   "metadata": {},
   "outputs": [
    {
     "data": {
      "text/markdown": [
       "$ \\left(-\\frac{1}{30}\\right) \\theta_{0}^{5} + \\frac{3}{4} \\theta_{0}^{4} \\theta_{1} + \\frac{25}{6} \\theta_{0}^{3} \\theta_{1}^{2} + \\frac{41}{6} \\theta_{0}^{2} \\theta_{1}^{3} + \\frac{47}{12} \\theta_{0} \\theta_{1}^{4} + \\frac{17}{30} \\theta_{1}^{5} + \\frac{1}{3} l \\theta_{0}^{3} - l \\theta_{0}^{2} \\theta_{1} + \\left(-\\frac{3}{2}\\right) l \\theta_{0} \\theta_{1}^{2} + \\left(-\\frac{1}{3}\\right) l \\theta_{1}^{3} + \\frac{2}{3} \\theta_{0}^{3} + \\theta_{0}^{2} \\theta_{1} + 3 \\theta_{0} \\theta_{1}^{2} + \\frac{4}{3} \\theta_{1}^{3} + \\left(-2\\right) l \\theta_{0} - l \\theta_{1} $"
      ],
      "text/plain": [
       "<IPython.core.display.Markdown object>"
      ]
     },
     "metadata": {},
     "output_type": "display_data"
    }
   ],
   "source": [
    "tf_taylor = tfuncs[0].taylor(*[(key,value) for key,value in position.items()],5) # taylor expand the function with degenerate image\n",
    "lprint(tf_taylor.polynomial(SR)) # all three variables are present"
   ]
  },
  {
   "cell_type": "code",
   "execution_count": 33,
   "metadata": {},
   "outputs": [],
   "source": [
    "tf_sub = tf_taylor(theta1 = out[0])"
   ]
  },
  {
   "cell_type": "code",
   "execution_count": 34,
   "metadata": {},
   "outputs": [
    {
     "data": {
      "text/markdown": [
       "$ -\\frac{2}{27} \\, {\\lambda}^{4} {\\theta_0} + \\frac{7}{27} \\, {\\lambda}^{2} {\\theta_0}^{3} - \\frac{4}{45} \\, {\\theta_0}^{5} - \\frac{1}{9} \\, {\\lambda}^{3} {\\theta_0} + \\frac{5}{9} \\, {\\lambda} {\\theta_0}^{3} - \\frac{1}{6} \\, {\\lambda}^{2} {\\theta_0} + \\frac{2}{3} \\, {\\theta_0}^{3} - 2 \\, {\\lambda} {\\theta_0} $"
      ],
      "text/plain": [
       "<IPython.core.display.Markdown object>"
      ]
     },
     "metadata": {},
     "output_type": "display_data"
    }
   ],
   "source": [
    "local = symbolic_expression(sum([a[0]*a[1] for a in tf_sub.polynomial(SR) if a[1].degree() <= 5]))\n",
    "lprint(local) # will see that we can take out a factor of theta0 = xi0"
   ]
  },
  {
   "cell_type": "code",
   "execution_count": 35,
   "metadata": {},
   "outputs": [
    {
     "data": {
      "image/png": "[encoded data removed]",
      "text/plain": [
       "Graphics object consisting of 1 graphics primitive"
      ]
     },
     "execution_count": 35,
     "metadata": {},
     "output_type": "execute_result"
    }
   ],
   "source": [
    "implicit_plot(local, (-1,5), (-5,5))"
   ]
  },
  {
   "cell_type": "code",
   "execution_count": 38,
   "metadata": {},
   "outputs": [
    {
     "data": {
      "text/markdown": [
       "$ \\left[{\\theta_0} = -\\frac{1}{2} \\, \\sqrt{\\frac{35}{6} \\, {\\lambda}^{2} + \\frac{25}{2} \\, {\\lambda} + \\frac{1}{6} \\, \\sqrt{745 \\, {\\lambda}^{4} + 4530 \\, {\\lambda}^{3} + 10845 \\, {\\lambda}^{2} + 540 \\, {\\lambda} + 8100} + 15}, {\\theta_0} = \\frac{1}{2} \\, \\sqrt{\\frac{35}{6} \\, {\\lambda}^{2} + \\frac{25}{2} \\, {\\lambda} + \\frac{1}{6} \\, \\sqrt{745 \\, {\\lambda}^{4} + 4530 \\, {\\lambda}^{3} + 10845 \\, {\\lambda}^{2} + 540 \\, {\\lambda} + 8100} + 15}, {\\theta_0} = -\\frac{1}{2} \\, \\sqrt{\\frac{35}{6} \\, {\\lambda}^{2} + \\frac{25}{2} \\, {\\lambda} - \\frac{1}{6} \\, \\sqrt{745 \\, {\\lambda}^{4} + 4530 \\, {\\lambda}^{3} + 10845 \\, {\\lambda}^{2} + 540 \\, {\\lambda} + 8100} + 15}, {\\theta_0} = \\frac{1}{2} \\, \\sqrt{\\frac{35}{6} \\, {\\lambda}^{2} + \\frac{25}{2} \\, {\\lambda} - \\frac{1}{6} \\, \\sqrt{745 \\, {\\lambda}^{4} + 4530 \\, {\\lambda}^{3} + 10845 \\, {\\lambda}^{2} + 540 \\, {\\lambda} + 8100} + 15}, {\\theta_0} = 0\\right] $"
      ],
      "text/plain": [
       "<IPython.core.display.Markdown object>"
      ]
     },
     "metadata": {},
     "output_type": "display_data"
    }
   ],
   "source": [
    "lprint(solve(local, theta0))"
   ]
  },
  {
   "cell_type": "code",
   "execution_count": 55,
   "metadata": {},
   "outputs": [],
   "source": [
    "sols = [solve(local, theta0)[2].rhs(), out[0](theta0 = solve(local, theta0)[2].rhs())]"
   ]
  },
  {
   "cell_type": "code",
   "execution_count": 56,
   "metadata": {},
   "outputs": [],
   "source": [
    "coords = { list(var_dict_old.keys())[i] : sols[i] for i in [0,1] }\n",
    "sym_funcs = [func.function(*list(var_dict_old.values()))(l = l + 2) for func in funcs]"
   ]
  },
  {
   "cell_type": "code",
   "execution_count": 57,
   "metadata": {},
   "outputs": [
    {
     "data": {
      "text/markdown": [
       "$ \\left[-{\\left(\\frac{{\\left(\\sin\\left({\\theta_0}\\right) + \\sin\\left({\\theta_1}\\right)\\right)} \\cos\\left({\\theta_0}\\right)}{\\sqrt{-{\\left(\\sin\\left({\\theta_0}\\right) + \\sin\\left({\\theta_1}\\right)\\right)}^{2} + 1}} + \\sin\\left({\\theta_0}\\right)\\right)} {\\left({\\lambda} + 2\\right)} + \\frac{2 \\, {\\left({\\theta_1} - \\arcsin\\left(-\\sin\\left({\\theta_0}\\right) - \\sin\\left({\\theta_1}\\right)\\right)\\right)} \\cos\\left({\\theta_0}\\right)}{\\sqrt{-{\\left(\\sin\\left({\\theta_0}\\right) + \\sin\\left({\\theta_1}\\right)\\right)}^{2} + 1}} + 2 \\, {\\theta_0} - 2 \\, {\\theta_1}, -{\\left(\\frac{{\\left(\\sin\\left({\\theta_0}\\right) + \\sin\\left({\\theta_1}\\right)\\right)} \\cos\\left({\\theta_1}\\right)}{\\sqrt{-{\\left(\\sin\\left({\\theta_0}\\right) + \\sin\\left({\\theta_1}\\right)\\right)}^{2} + 1}} + \\sin\\left({\\theta_1}\\right)\\right)} {\\left({\\lambda} + 2\\right)} + 2 \\, {\\left({\\theta_1} - \\arcsin\\left(-\\sin\\left({\\theta_0}\\right) - \\sin\\left({\\theta_1}\\right)\\right)\\right)} {\\left(\\frac{\\cos\\left({\\theta_1}\\right)}{\\sqrt{-{\\left(\\sin\\left({\\theta_0}\\right) + \\sin\\left({\\theta_1}\\right)\\right)}^{2} + 1}} + 1\\right)} - 2 \\, {\\theta_0} + 2 \\, {\\theta_1}\\right] $"
      ],
      "text/plain": [
       "<IPython.core.display.Markdown object>"
      ]
     },
     "metadata": {},
     "output_type": "display_data"
    }
   ],
   "source": [
    "lprint(sym_funcs)"
   ]
  },
  {
   "cell_type": "code",
   "execution_count": 58,
   "metadata": {},
   "outputs": [
    {
     "data": {
      "text/plain": [
       "(1.5916886929033636e-07, 7.352548411943123e-07)"
      ]
     },
     "execution_count": 58,
     "metadata": {},
     "output_type": "execute_result"
    }
   ],
   "source": [
    "vector([float(func(**coords)(l = 0.01)) for func in sym_funcs])"
   ]
  },
  {
   "cell_type": "code",
   "execution_count": 66,
   "metadata": {},
   "outputs": [
    {
     "name": "stderr",
     "output_type": "stream",
     "text": [
      "100%|██████████| 150/150 [00:27<00:00,  5.39it/s]\n"
     ]
    },
    {
     "data": {
      "image/png": "[encoded data removed]",
      "text/plain": [
       "<Figure size 432x288 with 1 Axes>"
      ]
     },
     "metadata": {
      "needs_background": "light"
     },
     "output_type": "display_data"
    }
   ],
   "source": [
    "for i in tqdm.tqdm(range(0,150)):\n",
    "    \n",
    "    angles = [-sol(l = i/1000) for sol in sols] # the upwards bending looks better, a solution by symmetry\n",
    "    plot_angles(angles, save = True, save_name = 'lambda2/plot{}'.format(str(i)), show = False, title = 'lambda = 2.{}'.format(f'{i:03d}'))"
   ]
  },
  {
   "cell_type": "markdown",
   "metadata": {},
   "source": [
    "Suggest bifurcations at $\\lambda = 6$ and $\\lambda = 2$"
   ]
  },
  {
   "cell_type": "markdown",
   "metadata": {},
   "source": [
    "# $\\lambda = 6$"
   ]
  },
  {
   "cell_type": "code",
   "execution_count": 125,
   "metadata": {},
   "outputs": [
    {
     "data": {
      "text/markdown": [
       "$ \\left(\\begin{array}{rr}\n",
       "-8 & -4 \\\\\n",
       "-4 & -2\n",
       "\\end{array}\\right) $"
      ],
      "text/plain": [
       "<IPython.core.display.Markdown object>"
      ]
     },
     "metadata": {},
     "output_type": "display_data"
    }
   ],
   "source": [
    "funcs, var_dict = get_funcs(2)\n",
    "\n",
    "var_dict = {key : var_dict[key] for key in var_dict.keys() if var_dict[key] != 0}\n",
    "var_dict = {key : var_dict[key] for key in var_dict.keys() if key != 'l'}\n",
    "bif_funcs = [func(l =6) for func in funcs]\n",
    "#var_dict['l'] = old_var['l']\n",
    "J = jacobian(bif_funcs,tuple(var_dict.values()))(**{var : 0 for var in var_dict.keys()})\n",
    "\n",
    "lprint(J)"
   ]
  },
  {
   "cell_type": "markdown",
   "metadata": {},
   "source": [
    "### Orthogonalising the kernel"
   ]
  },
  {
   "cell_type": "code",
   "execution_count": 126,
   "metadata": {},
   "outputs": [
    {
     "data": {
      "text/markdown": [
       "$ \\left[\\left(1,\\,-2\\right)\\right] $"
      ],
      "text/plain": [
       "<IPython.core.display.Markdown object>"
      ]
     },
     "metadata": {},
     "output_type": "display_data"
    }
   ],
   "source": [
    "K = J.right_kernel().basis()\n",
    "lprint(K)"
   ]
  },
  {
   "cell_type": "code",
   "execution_count": 127,
   "metadata": {},
   "outputs": [
    {
     "data": {
      "text/markdown": [
       "$ \\left[\\left(1,\\,\\frac{1}{2}\\right)\\right] $"
      ],
      "text/plain": [
       "<IPython.core.display.Markdown object>"
      ]
     },
     "metadata": {},
     "output_type": "display_data"
    }
   ],
   "source": [
    "Kperp = matrix(K).right_kernel().basis()\n",
    "lprint(Kperp)"
   ]
  },
  {
   "cell_type": "code",
   "execution_count": 128,
   "metadata": {},
   "outputs": [
    {
     "data": {
      "text/markdown": [
       "$ \\left(\\begin{array}{rr}\n",
       "1 & 1 \\\\\n",
       "-2 & \\frac{1}{2}\n",
       "\\end{array}\\right) $"
      ],
      "text/plain": [
       "<IPython.core.display.Markdown object>"
      ]
     },
     "metadata": {},
     "output_type": "display_data"
    }
   ],
   "source": [
    "A = matrix(K+Kperp).transpose()\n",
    "lprint(A)"
   ]
  },
  {
   "cell_type": "code",
   "execution_count": 129,
   "metadata": {},
   "outputs": [],
   "source": [
    "key_list = [str(var) for var in var_dict.values()]\n",
    "value_list = list(A*vector(var_dict.values()))\n",
    "mutate_dict = dict(zip(key_list, value_list))"
   ]
  },
  {
   "cell_type": "code",
   "execution_count": 130,
   "metadata": {},
   "outputs": [
    {
     "data": {
      "text/plain": [
       "{'theta0': theta0 + theta1, 'theta1': -2*theta0 + 1/2*theta1}"
      ]
     },
     "execution_count": 130,
     "metadata": {},
     "output_type": "execute_result"
    }
   ],
   "source": [
    "mutate_dict"
   ]
  },
  {
   "cell_type": "code",
   "execution_count": 131,
   "metadata": {},
   "outputs": [],
   "source": [
    "Afuncs = [func(**mutate_dict) for func in bif_funcs]"
   ]
  },
  {
   "cell_type": "code",
   "execution_count": 132,
   "metadata": {},
   "outputs": [],
   "source": [
    "#lprint(Afuncs) "
   ]
  },
  {
   "cell_type": "code",
   "execution_count": 133,
   "metadata": {},
   "outputs": [
    {
     "data": {
      "text/markdown": [
       "$ \\left(\\begin{array}{rr}\n",
       "0 & -10 \\\\\n",
       "0 & -5\n",
       "\\end{array}\\right) $"
      ],
      "text/plain": [
       "<IPython.core.display.Markdown object>"
      ]
     },
     "metadata": {},
     "output_type": "display_data"
    }
   ],
   "source": [
    "Ja = jacobian(Afuncs,tuple(var_dict.values()))(**{var : 0 for var in var_dict.keys()}).apply_map(lambda x: x.full_simplify())\n",
    "lprint(Ja)"
   ]
  },
  {
   "cell_type": "code",
   "execution_count": 134,
   "metadata": {},
   "outputs": [
    {
     "data": {
      "text/markdown": [
       "$ \\left[\\left(1,\\,0\\right)\\right] $"
      ],
      "text/plain": [
       "<IPython.core.display.Markdown object>"
      ]
     },
     "metadata": {},
     "output_type": "display_data"
    }
   ],
   "source": [
    "Ka = Ja(l=0).right_kernel().basis()\n",
    "lprint(Ka)"
   ]
  },
  {
   "cell_type": "markdown",
   "metadata": {},
   "source": [
    "### Orthogonalising the image"
   ]
  },
  {
   "cell_type": "code",
   "execution_count": 135,
   "metadata": {},
   "outputs": [
    {
     "name": "stdout",
     "output_type": "stream",
     "text": [
      "1\n"
     ]
    }
   ],
   "source": [
    "I = Ja.image().basis()\n",
    "I = [Ja*vec for vec in I]\n",
    "print(len(I))"
   ]
  },
  {
   "cell_type": "code",
   "execution_count": 136,
   "metadata": {},
   "outputs": [
    {
     "data": {
      "text/markdown": [
       "$ \\left[\\left(1,\\,-2\\right)\\right] $"
      ],
      "text/plain": [
       "<IPython.core.display.Markdown object>"
      ]
     },
     "metadata": {},
     "output_type": "display_data"
    }
   ],
   "source": [
    "Iperp = matrix(I).right_kernel().basis()\n",
    "lprint(Iperp)"
   ]
  },
  {
   "cell_type": "code",
   "execution_count": 137,
   "metadata": {},
   "outputs": [
    {
     "data": {
      "text/markdown": [
       "$ \\left(\\begin{array}{rr}\n",
       "-\\frac{2}{25} & -\\frac{1}{25} \\\\\n",
       "\\frac{1}{5} & -\\frac{2}{5}\n",
       "\\end{array}\\right) $"
      ],
      "text/plain": [
       "<IPython.core.display.Markdown object>"
      ]
     },
     "metadata": {},
     "output_type": "display_data"
    }
   ],
   "source": [
    "B = matrix(I + Iperp).transpose().inverse().apply_map(lambda x: x.full_simplify())\n",
    "lprint(B)"
   ]
  },
  {
   "cell_type": "code",
   "execution_count": 138,
   "metadata": {},
   "outputs": [],
   "source": [
    "tfuncs = B*vector(Afuncs)"
   ]
  },
  {
   "cell_type": "code",
   "execution_count": 139,
   "metadata": {},
   "outputs": [],
   "source": [
    "#lprint(tfuncs)"
   ]
  },
  {
   "cell_type": "code",
   "execution_count": 140,
   "metadata": {},
   "outputs": [],
   "source": [
    "Jt = jacobian(tfuncs,tuple(var_dict.values()))(**{var : 0 for var in var_dict.keys()}).apply_map(lambda x: x.full_simplify())"
   ]
  },
  {
   "cell_type": "code",
   "execution_count": 141,
   "metadata": {},
   "outputs": [
    {
     "data": {
      "text/markdown": [
       "$ \\left(\\begin{array}{rr}\n",
       "0 & 1 \\\\\n",
       "0 & 0\n",
       "\\end{array}\\right) $"
      ],
      "text/plain": [
       "<IPython.core.display.Markdown object>"
      ]
     },
     "metadata": {},
     "output_type": "display_data"
    }
   ],
   "source": [
    "lprint(Jt)"
   ]
  },
  {
   "cell_type": "code",
   "execution_count": 142,
   "metadata": {},
   "outputs": [
    {
     "data": {
      "text/plain": [
       "dict_values([theta0, theta1])"
      ]
     },
     "execution_count": 142,
     "metadata": {},
     "output_type": "execute_result"
    }
   ],
   "source": [
    "var_dict.values()"
   ]
  },
  {
   "cell_type": "code",
   "execution_count": 143,
   "metadata": {},
   "outputs": [
    {
     "data": {
      "text/markdown": [
       "$ \\left[\\left(1,\\,0\\right)\\right] $"
      ],
      "text/plain": [
       "<IPython.core.display.Markdown object>"
      ]
     },
     "metadata": {},
     "output_type": "display_data"
    }
   ],
   "source": [
    "It = Jt.image().basis()\n",
    "It = [Jt*vec for vec in It]\n",
    "lprint(It)"
   ]
  },
  {
   "cell_type": "markdown",
   "metadata": {},
   "source": [
    "## Adding lambda back in"
   ]
  },
  {
   "cell_type": "code",
   "execution_count": 144,
   "metadata": {},
   "outputs": [],
   "source": [
    "tfuncs = B*vector([func(**mutate_dict)(l = l + 6) for func in funcs])# now lambda is not fixed at the bifurcation point\n",
    "# ***IF SOMETHING IS BROKEN CHECK RIGHT LAMBDA HERE***\n",
    "# but we do shift so that l=0 is the new bifurcation\n",
    "var_dict['l'] = l"
   ]
  },
  {
   "cell_type": "code",
   "execution_count": 145,
   "metadata": {},
   "outputs": [
    {
     "data": {
      "text/plain": [
       "{'theta0': theta0, 'theta1': theta1, 'l': l}"
      ]
     },
     "execution_count": 145,
     "metadata": {},
     "output_type": "execute_result"
    }
   ],
   "source": [
    "var_dict_old = var_dict\n",
    "var_dict_old"
   ]
  },
  {
   "cell_type": "code",
   "execution_count": 146,
   "metadata": {},
   "outputs": [
    {
     "data": {
      "text/plain": [
       "dict_values([theta0, theta1, l])"
      ]
     },
     "execution_count": 146,
     "metadata": {},
     "output_type": "execute_result"
    }
   ],
   "source": [
    "var_dict.values()"
   ]
  },
  {
   "cell_type": "code",
   "execution_count": 147,
   "metadata": {},
   "outputs": [
    {
     "data": {
      "text/markdown": [
       "$ -\\frac{1}{5} \\, {\\left(\\frac{{\\left(\\sin\\left({\\theta_0} + {\\theta_1}\\right) + \\sin\\left(-2 \\, {\\theta_0} + \\frac{1}{2} \\, {\\theta_1}\\right)\\right)} \\cos\\left({\\theta_0} + {\\theta_1}\\right)}{\\sqrt{-{\\left(\\sin\\left({\\theta_0} + {\\theta_1}\\right) + \\sin\\left(-2 \\, {\\theta_0} + \\frac{1}{2} \\, {\\theta_1}\\right)\\right)}^{2} + 1}} + \\sin\\left({\\theta_0} + {\\theta_1}\\right)\\right)} {\\left({\\lambda} + 6\\right)} + \\frac{2}{5} \\, {\\left(\\frac{{\\left(\\sin\\left({\\theta_0} + {\\theta_1}\\right) + \\sin\\left(-2 \\, {\\theta_0} + \\frac{1}{2} \\, {\\theta_1}\\right)\\right)} \\cos\\left(-2 \\, {\\theta_0} + \\frac{1}{2} \\, {\\theta_1}\\right)}{\\sqrt{-{\\left(\\sin\\left({\\theta_0} + {\\theta_1}\\right) + \\sin\\left(-2 \\, {\\theta_0} + \\frac{1}{2} \\, {\\theta_1}\\right)\\right)}^{2} + 1}} + \\sin\\left(-2 \\, {\\theta_0} + \\frac{1}{2} \\, {\\theta_1}\\right)\\right)} {\\left({\\lambda} + 6\\right)} + \\frac{2}{5} \\, {\\left(4 \\, {\\theta_0} - {\\theta_1} + 2 \\, \\arcsin\\left(-\\sin\\left({\\theta_0} + {\\theta_1}\\right) - \\sin\\left(-2 \\, {\\theta_0} + \\frac{1}{2} \\, {\\theta_1}\\right)\\right)\\right)} {\\left(\\frac{\\cos\\left(-2 \\, {\\theta_0} + \\frac{1}{2} \\, {\\theta_1}\\right)}{\\sqrt{-{\\left(\\sin\\left({\\theta_0} + {\\theta_1}\\right) + \\sin\\left(-2 \\, {\\theta_0} + \\frac{1}{2} \\, {\\theta_1}\\right)\\right)}^{2} + 1}} + 1\\right)} - \\frac{{\\left(4 \\, {\\theta_0} - {\\theta_1} + 2 \\, \\arcsin\\left(-\\sin\\left({\\theta_0} + {\\theta_1}\\right) - \\sin\\left(-2 \\, {\\theta_0} + \\frac{1}{2} \\, {\\theta_1}\\right)\\right)\\right)} \\cos\\left({\\theta_0} + {\\theta_1}\\right)}{5 \\, \\sqrt{-{\\left(\\sin\\left({\\theta_0} + {\\theta_1}\\right) + \\sin\\left(-2 \\, {\\theta_0} + \\frac{1}{2} \\, {\\theta_1}\\right)\\right)}^{2} + 1}} + \\frac{18}{5} \\, {\\theta_0} + \\frac{3}{5} \\, {\\theta_1} $"
      ],
      "text/plain": [
       "<IPython.core.display.Markdown object>"
      ]
     },
     "metadata": {},
     "output_type": "display_data"
    }
   ],
   "source": [
    "lprint(tfuncs[1])"
   ]
  },
  {
   "cell_type": "markdown",
   "metadata": {},
   "source": [
    "## Running the implicit function theorem"
   ]
  },
  {
   "cell_type": "code",
   "execution_count": 148,
   "metadata": {},
   "outputs": [
    {
     "data": {
      "text/plain": [
       "2"
      ]
     },
     "execution_count": 148,
     "metadata": {},
     "output_type": "execute_result"
    }
   ],
   "source": [
    "len(tfuncs)"
   ]
  },
  {
   "cell_type": "code",
   "execution_count": 149,
   "metadata": {},
   "outputs": [
    {
     "data": {
      "text/plain": [
       "{'theta0': 0, 'theta1': 0, 'l': 0}"
      ]
     },
     "execution_count": 149,
     "metadata": {},
     "output_type": "execute_result"
    }
   ],
   "source": [
    "position = {key : 0 for key in var_dict_old.keys()}\n",
    "position"
   ]
  },
  {
   "cell_type": "code",
   "execution_count": 150,
   "metadata": {},
   "outputs": [],
   "source": [
    "var_dict['l'] = l\n",
    "var_dict_old = var_dict"
   ]
  },
  {
   "cell_type": "code",
   "execution_count": 151,
   "metadata": {},
   "outputs": [],
   "source": [
    "#code_funcs = [tfuncs[index].function(*list(var_dict_old.values())) for index in [0,1,2,3,4,5,6]] # careful with computer science indexing from zero\n",
    "code_funcs = [tfuncs[index] for index in [0]] # the last function has degenerate first derivative always\n",
    "position = {key : 0 for key in var_dict_old.keys()}\n",
    "# var_dict already loaded\n",
    "var_dict = {'y1' : theta1, 'x1' : l, 'x2' : theta0}\n",
    "x_var_keys = ['l', 'theta0'] # the variables in the kernel\n",
    "x_dim = 2\n",
    "y_dim = 1 # invertible part"
   ]
  },
  {
   "cell_type": "code",
   "execution_count": 152,
   "metadata": {},
   "outputs": [
    {
     "data": {
      "text/plain": [
       "dict_keys(['y1', 'x1', 'x2'])"
      ]
     },
     "execution_count": 152,
     "metadata": {},
     "output_type": "execute_result"
    }
   ],
   "source": [
    "var_dict.keys()"
   ]
  },
  {
   "cell_type": "code",
   "execution_count": 153,
   "metadata": {},
   "outputs": [
    {
     "name": "stdout",
     "output_type": "stream",
     "text": [
      "computing Taylor approximaton to 3 order for speedup\n"
     ]
    }
   ],
   "source": [
    "t_dict = TensorDict(code_funcs, position, var_dict, x_dim, y_dim)"
   ]
  },
  {
   "cell_type": "code",
   "execution_count": 154,
   "metadata": {},
   "outputs": [
    {
     "name": "stderr",
     "output_type": "stream",
     "text": [
      "100%|██████████| 1/1 [00:00<00:00, 2144.33it/s]\n",
      "100%|██████████| 1/1 [00:00<00:00, 24.79it/s]\n"
     ]
    },
    {
     "name": "stdout",
     "output_type": "stream",
     "text": [
      "[1]\n"
     ]
    },
    {
     "name": "stderr",
     "output_type": "stream",
     "text": [
      "100%|██████████| 2/2 [00:00<00:00, 3288.36it/s]\n",
      "100%|██████████| 4/4 [00:00<00:00, 13.42it/s]\n"
     ]
    },
    {
     "name": "stdout",
     "output_type": "stream",
     "text": [
      "[1]\n"
     ]
    },
    {
     "name": "stderr",
     "output_type": "stream",
     "text": [
      "100%|██████████| 3/3 [00:00<00:00, 1677.27it/s]\n",
      "100%|██████████| 14/14 [00:01<00:00, 12.18it/s]\n"
     ]
    },
    {
     "name": "stdout",
     "output_type": "stream",
     "text": [
      "[1]\n"
     ]
    },
    {
     "name": "stderr",
     "output_type": "stream",
     "text": [
      "100%|██████████| 4/4 [00:00<00:00, 1021.94it/s]\n",
      "  0%|          | 0/51 [00:00<?, ?it/s]"
     ]
    },
    {
     "name": "stdout",
     "output_type": "stream",
     "text": [
      "updating Taylor series\n"
     ]
    },
    {
     "name": "stderr",
     "output_type": "stream",
     "text": [
      "100%|██████████| 51/51 [00:06<00:00,  7.72it/s]\n"
     ]
    },
    {
     "name": "stdout",
     "output_type": "stream",
     "text": [
      "[1]\n"
     ]
    },
    {
     "name": "stderr",
     "output_type": "stream",
     "text": [
      "100%|██████████| 5/5 [00:00<00:00, 290.24it/s]\n",
      "  0%|          | 0/202 [00:00<?, ?it/s]"
     ]
    },
    {
     "name": "stdout",
     "output_type": "stream",
     "text": [
      "updating Taylor series\n"
     ]
    },
    {
     "name": "stderr",
     "output_type": "stream",
     "text": [
      "100%|██████████| 202/202 [00:42<00:00,  4.74it/s]\n"
     ]
    },
    {
     "name": "stdout",
     "output_type": "stream",
     "text": [
      "[1]\n"
     ]
    }
   ],
   "source": [
    "out = get_hkx_polynomial(code_funcs, 5, x_dim, y_dim, var_dict, x_var_keys, t_dict, position)"
   ]
  },
  {
   "cell_type": "code",
   "execution_count": 155,
   "metadata": {},
   "outputs": [
    {
     "data": {
      "text/markdown": [
       "$ \\left[-\\frac{8232}{390625} \\, {\\lambda}^{4} {\\theta_0} - \\frac{20333}{31250} \\, {\\lambda}^{2} {\\theta_0}^{3} - \\frac{7669}{2500} \\, {\\theta_0}^{5} + \\frac{588}{15625} \\, {\\lambda}^{3} {\\theta_0} + \\frac{961}{1250} \\, {\\lambda} {\\theta_0}^{3} - \\frac{42}{625} \\, {\\lambda}^{2} {\\theta_0} - \\frac{19}{25} \\, {\\theta_0}^{3} + \\frac{3}{25} \\, {\\lambda} {\\theta_0}\\right] $"
      ],
      "text/plain": [
       "<IPython.core.display.Markdown object>"
      ]
     },
     "metadata": {},
     "output_type": "display_data"
    }
   ],
   "source": [
    "lprint(out) # our h function"
   ]
  },
  {
   "cell_type": "markdown",
   "metadata": {},
   "source": [
    "## Testing the implicit function theorem"
   ]
  },
  {
   "cell_type": "code",
   "execution_count": 156,
   "metadata": {},
   "outputs": [],
   "source": [
    "subbed = [func(theta1 = out[0]) for func in tfuncs]"
   ]
  },
  {
   "cell_type": "code",
   "execution_count": 157,
   "metadata": {},
   "outputs": [
    {
     "data": {
      "text/plain": [
       "[-1.4134419517586316e-06, -0.008314743254685286]"
      ]
     },
     "execution_count": 157,
     "metadata": {},
     "output_type": "execute_result"
    }
   ],
   "source": [
    "[float(func(l = 0.1, theta0 = 0.1)) for func in subbed]"
   ]
  },
  {
   "cell_type": "markdown",
   "metadata": {},
   "source": [
    "the last function remains to be solved"
   ]
  },
  {
   "cell_type": "markdown",
   "metadata": {},
   "source": [
    "### Looking for more solutions"
   ]
  },
  {
   "cell_type": "markdown",
   "metadata": {},
   "source": [
    "Now substitute this into the equation that had degenerate image"
   ]
  },
  {
   "cell_type": "code",
   "execution_count": 158,
   "metadata": {},
   "outputs": [
    {
     "data": {
      "text/markdown": [
       "$ \\left(-\\frac{213}{50}\\right) \\theta_{0}^{5} + \\frac{313}{40} \\theta_{0}^{4} \\theta_{1} + \\frac{81}{40} \\theta_{0}^{3} \\theta_{1}^{2} + \\left(-\\frac{553}{80}\\right) \\theta_{0}^{2} \\theta_{1}^{3} + \\left(-\\frac{161}{320}\\right) \\theta_{0} \\theta_{1}^{4} + \\frac{68}{75} \\theta_{1}^{5} + \\frac{7}{5} l \\theta_{0}^{3} + \\left(-\\frac{9}{5}\\right) l \\theta_{0}^{2} \\theta_{1} + \\frac{13}{40} l \\theta_{0} \\theta_{1}^{2} + \\frac{2}{5} l \\theta_{1}^{3} + \\frac{18}{5} \\theta_{0}^{3} + \\left(-\\frac{57}{10}\\right) \\theta_{0}^{2} \\theta_{1} + \\frac{81}{20} \\theta_{0} \\theta_{1}^{2} + \\frac{17}{20} \\theta_{1}^{3} + \\left(-\\frac{6}{5}\\right) l \\theta_{0} + \\frac{3}{10} l \\theta_{1} $"
      ],
      "text/plain": [
       "<IPython.core.display.Markdown object>"
      ]
     },
     "metadata": {},
     "output_type": "display_data"
    }
   ],
   "source": [
    "tf_taylor = tfuncs[1].taylor(*[(key,value) for key,value in position.items()],5) # taylor expand the function with degenerate image\n",
    "lprint(tf_taylor.polynomial(SR)) # all three variables are present"
   ]
  },
  {
   "cell_type": "code",
   "execution_count": 159,
   "metadata": {},
   "outputs": [],
   "source": [
    "tf_sub = tf_taylor(theta1 = out[0]) # substitute in h"
   ]
  },
  {
   "cell_type": "code",
   "execution_count": 160,
   "metadata": {},
   "outputs": [
    {
     "data": {
      "text/markdown": [
       "$ \\frac{882}{78125} \\, {\\lambda}^{4} {\\theta_0} + \\frac{57}{125} \\, {\\lambda}^{2} {\\theta_0}^{3} + \\frac{9}{125} \\, {\\theta_0}^{5} - \\frac{63}{3125} \\, {\\lambda}^{3} {\\theta_0} + \\frac{61}{125} \\, {\\lambda} {\\theta_0}^{3} + \\frac{9}{250} \\, {\\lambda}^{2} {\\theta_0} + \\frac{18}{5} \\, {\\theta_0}^{3} - \\frac{6}{5} \\, {\\lambda} {\\theta_0} $"
      ],
      "text/plain": [
       "<IPython.core.display.Markdown object>"
      ]
     },
     "metadata": {},
     "output_type": "display_data"
    }
   ],
   "source": [
    "local = symbolic_expression(sum([a[0]*a[1] for a in tf_sub.polynomial(SR) if a[1].degree() <= 5]))\n",
    "#local = tf_sub.polynomial(SR).truncate(4)\n",
    "lprint(local) # will see that we can take out a factor of theta0 = xi0"
   ]
  },
  {
   "cell_type": "markdown",
   "metadata": {},
   "source": [
    "We see that this will have solutions, therefore the point $\\lambda$ is indeed a bifurcation point, and if we fix the $p10x$ variable at zero then $\\lambda$ will span the local solutions."
   ]
  },
  {
   "cell_type": "code",
   "execution_count": 161,
   "metadata": {},
   "outputs": [
    {
     "data": {
      "text/markdown": [
       "$ \\left[{\\theta_0} = -\\frac{1}{15} \\, \\sqrt{-\\frac{1425}{2} \\, {\\lambda}^{2} - \\frac{1525}{2} \\, {\\lambda} + \\frac{1}{2} \\, \\sqrt{1998873 \\, {\\lambda}^{4} + 4402950 \\, {\\lambda}^{3} + 34286875 \\, {\\lambda}^{2} + 37687500 \\, {\\lambda} + 126562500} - 5625}, {\\theta_0} = \\frac{1}{15} \\, \\sqrt{-\\frac{1425}{2} \\, {\\lambda}^{2} - \\frac{1525}{2} \\, {\\lambda} + \\frac{1}{2} \\, \\sqrt{1998873 \\, {\\lambda}^{4} + 4402950 \\, {\\lambda}^{3} + 34286875 \\, {\\lambda}^{2} + 37687500 \\, {\\lambda} + 126562500} - 5625}, {\\theta_0} = -\\frac{1}{15} \\, \\sqrt{-\\frac{1425}{2} \\, {\\lambda}^{2} - \\frac{1525}{2} \\, {\\lambda} - \\frac{1}{2} \\, \\sqrt{1998873 \\, {\\lambda}^{4} + 4402950 \\, {\\lambda}^{3} + 34286875 \\, {\\lambda}^{2} + 37687500 \\, {\\lambda} + 126562500} - 5625}, {\\theta_0} = \\frac{1}{15} \\, \\sqrt{-\\frac{1425}{2} \\, {\\lambda}^{2} - \\frac{1525}{2} \\, {\\lambda} - \\frac{1}{2} \\, \\sqrt{1998873 \\, {\\lambda}^{4} + 4402950 \\, {\\lambda}^{3} + 34286875 \\, {\\lambda}^{2} + 37687500 \\, {\\lambda} + 126562500} - 5625}, {\\theta_0} = 0\\right] $"
      ],
      "text/plain": [
       "<IPython.core.display.Markdown object>"
      ]
     },
     "metadata": {},
     "output_type": "display_data"
    }
   ],
   "source": [
    "lprint(solve(local, theta0))"
   ]
  },
  {
   "cell_type": "code",
   "execution_count": 162,
   "metadata": {},
   "outputs": [
    {
     "data": {
      "image/png": "[encoded data removed]",
      "text/plain": [
       "Graphics object consisting of 1 graphics primitive"
      ]
     },
     "execution_count": 162,
     "metadata": {},
     "output_type": "execute_result"
    }
   ],
   "source": [
    "implicit_plot(local, (-1,5), (-5,5))"
   ]
  },
  {
   "cell_type": "markdown",
   "metadata": {},
   "source": [
    "looks like a bifurcation to me"
   ]
  },
  {
   "cell_type": "code",
   "execution_count": 163,
   "metadata": {},
   "outputs": [
    {
     "data": {
      "text/markdown": [
       "$ \\left[-\\frac{1}{15} \\, \\sqrt{-\\frac{1425}{2} \\, {\\lambda}^{2} - \\frac{1525}{2} \\, {\\lambda} + \\frac{1}{2} \\, \\sqrt{1998873 \\, {\\lambda}^{4} + 4402950 \\, {\\lambda}^{3} + 34286875 \\, {\\lambda}^{2} + 37687500 \\, {\\lambda} + 126562500} - 5625}, \\frac{2744}{1953125} \\, \\sqrt{-\\frac{1425}{2} \\, {\\lambda}^{2} - \\frac{1525}{2} \\, {\\lambda} + \\frac{1}{2} \\, \\sqrt{1998873 \\, {\\lambda}^{4} + 4402950 \\, {\\lambda}^{3} + 34286875 \\, {\\lambda}^{2} + 37687500 \\, {\\lambda} + 126562500} - 5625} {\\lambda}^{4} + \\frac{20333}{105468750} \\, {\\left(-\\frac{1425}{2} \\, {\\lambda}^{2} - \\frac{1525}{2} \\, {\\lambda} + \\frac{1}{2} \\, \\sqrt{1998873 \\, {\\lambda}^{4} + 4402950 \\, {\\lambda}^{3} + 34286875 \\, {\\lambda}^{2} + 37687500 \\, {\\lambda} + 126562500} - 5625\\right)}^{\\frac{3}{2}} {\\lambda}^{2} - \\frac{196}{78125} \\, \\sqrt{-\\frac{1425}{2} \\, {\\lambda}^{2} - \\frac{1525}{2} \\, {\\lambda} + \\frac{1}{2} \\, \\sqrt{1998873 \\, {\\lambda}^{4} + 4402950 \\, {\\lambda}^{3} + 34286875 \\, {\\lambda}^{2} + 37687500 \\, {\\lambda} + 126562500} - 5625} {\\lambda}^{3} + \\frac{7669}{1898437500} \\, {\\left(-\\frac{1425}{2} \\, {\\lambda}^{2} - \\frac{1525}{2} \\, {\\lambda} + \\frac{1}{2} \\, \\sqrt{1998873 \\, {\\lambda}^{4} + 4402950 \\, {\\lambda}^{3} + 34286875 \\, {\\lambda}^{2} + 37687500 \\, {\\lambda} + 126562500} - 5625\\right)}^{\\frac{5}{2}} - \\frac{961}{4218750} \\, {\\left(-\\frac{1425}{2} \\, {\\lambda}^{2} - \\frac{1525}{2} \\, {\\lambda} + \\frac{1}{2} \\, \\sqrt{1998873 \\, {\\lambda}^{4} + 4402950 \\, {\\lambda}^{3} + 34286875 \\, {\\lambda}^{2} + 37687500 \\, {\\lambda} + 126562500} - 5625\\right)}^{\\frac{3}{2}} {\\lambda} + \\frac{14}{3125} \\, \\sqrt{-\\frac{1425}{2} \\, {\\lambda}^{2} - \\frac{1525}{2} \\, {\\lambda} + \\frac{1}{2} \\, \\sqrt{1998873 \\, {\\lambda}^{4} + 4402950 \\, {\\lambda}^{3} + 34286875 \\, {\\lambda}^{2} + 37687500 \\, {\\lambda} + 126562500} - 5625} {\\lambda}^{2} + \\frac{19}{84375} \\, {\\left(-\\frac{1425}{2} \\, {\\lambda}^{2} - \\frac{1525}{2} \\, {\\lambda} + \\frac{1}{2} \\, \\sqrt{1998873 \\, {\\lambda}^{4} + 4402950 \\, {\\lambda}^{3} + 34286875 \\, {\\lambda}^{2} + 37687500 \\, {\\lambda} + 126562500} - 5625\\right)}^{\\frac{3}{2}} - \\frac{1}{125} \\, \\sqrt{-\\frac{1425}{2} \\, {\\lambda}^{2} - \\frac{1525}{2} \\, {\\lambda} + \\frac{1}{2} \\, \\sqrt{1998873 \\, {\\lambda}^{4} + 4402950 \\, {\\lambda}^{3} + 34286875 \\, {\\lambda}^{2} + 37687500 \\, {\\lambda} + 126562500} - 5625} {\\lambda}\\right] $"
      ],
      "text/plain": [
       "<IPython.core.display.Markdown object>"
      ]
     },
     "metadata": {},
     "output_type": "display_data"
    }
   ],
   "source": [
    "sols = [solve(local, theta0)[0].rhs(), out[0](theta0 = solve(local, theta0)[0].rhs())] # now solutions are spanned by lambda\n",
    "        # theta0 = g(l)                 # theta1 = h(g(l), l)\n",
    "\n",
    "lprint(sols) # now only in terms of lambda"
   ]
  },
  {
   "cell_type": "code",
   "execution_count": 164,
   "metadata": {},
   "outputs": [
    {
     "data": {
      "text/plain": [
       "[6.20229049029530e-7, -3.05906829034530e-9]"
      ]
     },
     "execution_count": 164,
     "metadata": {},
     "output_type": "execute_result"
    }
   ],
   "source": [
    "coords = { list(var_dict_old.keys())[i] : sols[i] for i in [0,1] }\n",
    "coords\n",
    "[tfuncs[i](**coords)(l = 0.01) for i in [0,1]] # see that we solve both equations"
   ]
  },
  {
   "cell_type": "markdown",
   "metadata": {},
   "source": [
    "However solutions are in the reformed space, needed to undo the action that reorganised the kernel"
   ]
  },
  {
   "cell_type": "markdown",
   "metadata": {},
   "source": [
    "### Generating more solutions"
   ]
  },
  {
   "cell_type": "markdown",
   "metadata": {},
   "source": [
    "We have solved $f \\circ A$ where $A$ orthogonalised the kernel, thus by applying $A$ we can get a traversel of the new solutions."
   ]
  },
  {
   "cell_type": "code",
   "execution_count": 165,
   "metadata": {},
   "outputs": [
    {
     "data": {
      "text/markdown": [
       "$ \\left(\\begin{array}{rr}\n",
       "1 & 1 \\\\\n",
       "-2 & \\frac{1}{2}\n",
       "\\end{array}\\right) $"
      ],
      "text/plain": [
       "<IPython.core.display.Markdown object>"
      ]
     },
     "metadata": {},
     "output_type": "display_data"
    }
   ],
   "source": [
    "lprint(A)"
   ]
  },
  {
   "cell_type": "code",
   "execution_count": 166,
   "metadata": {},
   "outputs": [
    {
     "data": {
      "text/plain": [
       "2"
      ]
     },
     "execution_count": 166,
     "metadata": {},
     "output_type": "execute_result"
    }
   ],
   "source": [
    "fsols = list(A*vector(sols))\n",
    "len(fsols)"
   ]
  },
  {
   "cell_type": "code",
   "execution_count": 167,
   "metadata": {},
   "outputs": [],
   "source": [
    "#fsols = [random.random()/10000 for i in range(0,2)] # can check these are giving solutions"
   ]
  },
  {
   "cell_type": "code",
   "execution_count": 168,
   "metadata": {},
   "outputs": [
    {
     "data": {
      "text/plain": [
       "{'theta0': 2744/1953125*sqrt(-1425/2*l^2 - 1525/2*l + 1/2*sqrt(1998873*l^4 + 4402950*l^3 + 34286875*l^2 + 37687500*l + 126562500) - 5625)*l^4 + 20333/105468750*(-1425/2*l^2 - 1525/2*l + 1/2*sqrt(1998873*l^4 + 4402950*l^3 + 34286875*l^2 + 37687500*l + 126562500) - 5625)^(3/2)*l^2 - 196/78125*sqrt(-1425/2*l^2 - 1525/2*l + 1/2*sqrt(1998873*l^4 + 4402950*l^3 + 34286875*l^2 + 37687500*l + 126562500) - 5625)*l^3 + 7669/1898437500*(-1425/2*l^2 - 1525/2*l + 1/2*sqrt(1998873*l^4 + 4402950*l^3 + 34286875*l^2 + 37687500*l + 126562500) - 5625)^(5/2) - 961/4218750*(-1425/2*l^2 - 1525/2*l + 1/2*sqrt(1998873*l^4 + 4402950*l^3 + 34286875*l^2 + 37687500*l + 126562500) - 5625)^(3/2)*l + 14/3125*sqrt(-1425/2*l^2 - 1525/2*l + 1/2*sqrt(1998873*l^4 + 4402950*l^3 + 34286875*l^2 + 37687500*l + 126562500) - 5625)*l^2 + 19/84375*(-1425/2*l^2 - 1525/2*l + 1/2*sqrt(1998873*l^4 + 4402950*l^3 + 34286875*l^2 + 37687500*l + 126562500) - 5625)^(3/2) - 1/125*sqrt(-1425/2*l^2 - 1525/2*l + 1/2*sqrt(1998873*l^4 + 4402950*l^3 + 34286875*l^2 + 37687500*l + 126562500) - 5625)*l - 1/15*sqrt(-1425/2*l^2 - 1525/2*l + 1/2*sqrt(1998873*l^4 + 4402950*l^3 + 34286875*l^2 + 37687500*l + 126562500) - 5625),\n",
       " 'theta1': 1372/1953125*sqrt(-1425/2*l^2 - 1525/2*l + 1/2*sqrt(1998873*l^4 + 4402950*l^3 + 34286875*l^2 + 37687500*l + 126562500) - 5625)*l^4 + 20333/210937500*(-1425/2*l^2 - 1525/2*l + 1/2*sqrt(1998873*l^4 + 4402950*l^3 + 34286875*l^2 + 37687500*l + 126562500) - 5625)^(3/2)*l^2 - 98/78125*sqrt(-1425/2*l^2 - 1525/2*l + 1/2*sqrt(1998873*l^4 + 4402950*l^3 + 34286875*l^2 + 37687500*l + 126562500) - 5625)*l^3 + 7669/3796875000*(-1425/2*l^2 - 1525/2*l + 1/2*sqrt(1998873*l^4 + 4402950*l^3 + 34286875*l^2 + 37687500*l + 126562500) - 5625)^(5/2) - 961/8437500*(-1425/2*l^2 - 1525/2*l + 1/2*sqrt(1998873*l^4 + 4402950*l^3 + 34286875*l^2 + 37687500*l + 126562500) - 5625)^(3/2)*l + 7/3125*sqrt(-1425/2*l^2 - 1525/2*l + 1/2*sqrt(1998873*l^4 + 4402950*l^3 + 34286875*l^2 + 37687500*l + 126562500) - 5625)*l^2 + 19/168750*(-1425/2*l^2 - 1525/2*l + 1/2*sqrt(1998873*l^4 + 4402950*l^3 + 34286875*l^2 + 37687500*l + 126562500) - 5625)^(3/2) - 1/250*sqrt(-1425/2*l^2 - 1525/2*l + 1/2*sqrt(1998873*l^4 + 4402950*l^3 + 34286875*l^2 + 37687500*l + 126562500) - 5625)*l + 2/15*sqrt(-1425/2*l^2 - 1525/2*l + 1/2*sqrt(1998873*l^4 + 4402950*l^3 + 34286875*l^2 + 37687500*l + 126562500) - 5625)}"
      ]
     },
     "execution_count": 168,
     "metadata": {},
     "output_type": "execute_result"
    }
   ],
   "source": [
    "coords = { list(var_dict_old.keys())[i] : fsols[i] for i in [0,1] }\n",
    "coords"
   ]
  },
  {
   "cell_type": "code",
   "execution_count": 169,
   "metadata": {},
   "outputs": [],
   "source": [
    "sym_funcs = [func.function(*list(var_dict_old.values()))(l = l + 6) for func in funcs] # convert to symbolic functions\n",
    "# *** IF SOMETHING IS BREAKING CHECK THAT RIGHT SHIFT HERE ***"
   ]
  },
  {
   "cell_type": "code",
   "execution_count": 170,
   "metadata": {},
   "outputs": [
    {
     "data": {
      "text/plain": [
       "(-6.205349558530138e-06, -3.095027107935522e-06)"
      ]
     },
     "execution_count": 170,
     "metadata": {},
     "output_type": "execute_result"
    }
   ],
   "source": [
    "vector([float(func(**coords)(l = 0.01)) for func in sym_funcs])"
   ]
  },
  {
   "cell_type": "markdown",
   "metadata": {},
   "source": [
    "We see that these solutions do indeed comprise a new set of solutions"
   ]
  },
  {
   "cell_type": "code",
   "execution_count": 61,
   "metadata": {},
   "outputs": [
    {
     "name": "stdout",
     "output_type": "stream",
     "text": [
      "0.0 0.0 0.0\n",
      "0.01 -0.05760750448187771 0.11540886424115876\n",
      "0.02 -0.08128661416098402 0.16312556369654008\n",
      "0.03 -0.0993286827488509 0.19967957332207306\n",
      "0.04 -0.11442972405422873 0.23044494175044178\n",
      "0.05 -0.1276360086339418 0.2575043711153909\n",
      "0.06 -0.1394849996589075 0.2819265364072334\n",
      "0.07 -0.15029642126340803 0.30434659388508134\n",
      "0.08 -0.16027883816976735 0.32517858781785536\n",
      "0.09 -0.1695772610882078 0.34471025838721187\n"
     ]
    }
   ],
   "source": [
    "for i in range(0,10):\n",
    "    print(float(i/100), float(fsols[0](l = i/100)), float(fsols[1](l = i/100)))"
   ]
  },
  {
   "cell_type": "raw",
   "metadata": {},
   "source": [
    "\\/\\ bending action"
   ]
  },
  {
   "cell_type": "code",
   "execution_count": 175,
   "metadata": {},
   "outputs": [
    {
     "name": "stderr",
     "output_type": "stream",
     "text": [
      "100%|██████████| 150/150 [00:29<00:00,  5.03it/s]\n"
     ]
    },
    {
     "data": {
      "image/png": "[encoded data removed]",
      "text/plain": [
       "<Figure size 432x288 with 1 Axes>"
      ]
     },
     "metadata": {
      "needs_background": "light"
     },
     "output_type": "display_data"
    }
   ],
   "source": [
    "for i in tqdm.tqdm(range(0,150)):\n",
    "    \n",
    "    angles = [-fsol(l = i/1000) for fsol in fsols] # the upwards bending looks better, a solution by symmetry\n",
    "    plot_angles(angles, save = True, save_name = 'lambda6/plot{}'.format(str(i)), show = False, title = 'lambda = 6.{}'.format(f'{i:03d}'))"
   ]
  },
  {
   "cell_type": "code",
   "execution_count": null,
   "metadata": {},
   "outputs": [],
   "source": []
  }
 ],
 "metadata": {
  "kernelspec": {
   "display_name": "SageMath 9.2",
   "language": "sage",
   "name": "sagemath"
  },
  "language_info": {
   "codemirror_mode": {
    "name": "ipython",
    "version": 3
   },
   "file_extension": ".py",
   "mimetype": "text/x-python",
   "name": "python",
   "nbconvert_exporter": "python",
   "pygments_lexer": "ipython3",
   "version": "3.7.7"
  }
 },
 "nbformat": 4,
 "nbformat_minor": 4
}
