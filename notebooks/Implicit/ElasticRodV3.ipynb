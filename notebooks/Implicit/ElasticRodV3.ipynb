{
 "cells": [
  {
   "cell_type": "markdown",
   "metadata": {},
   "source": [
    "# Elastic Rod Model"
   ]
  },
  {
   "cell_type": "code",
   "execution_count": 1,
   "metadata": {},
   "outputs": [],
   "source": [
    "from IPython.display import display, Markdown\n",
    "import random\n",
    "def latexify(x):\n",
    "    out = '$' + x + '$'\n",
    "    return out\n",
    "\n",
    "def lprint(x):\n",
    "    display(Markdown(latexify(latex(x))))\n",
    "    \n",
    "%run -i 'implicit.py'"
   ]
  },
  {
   "cell_type": "markdown",
   "metadata": {},
   "source": [
    "In this notebook a discretisation of the elastic rod bifurcation problem will be investigated"
   ]
  },
  {
   "cell_type": "markdown",
   "metadata": {},
   "source": [
    "https://pubs.rsc.org/en/content/chapterhtml/2015/bk9781849738132-00001?isbn=978-1-84973-813-2&sercode=bk\n",
    "\n",
    "derives a system of equations that correspond to a period truss network model for an elastic rod."
   ]
  },
  {
   "cell_type": "code",
   "execution_count": 2,
   "metadata": {},
   "outputs": [],
   "source": [
    "def get_funcs(n, f = None):\n",
    "    # returns a set of equations to solve\n",
    "    if f is None:\n",
    "        var('x')\n",
    "        f = x # default spring energy function\n",
    "        \n",
    "    var_dict = {}\n",
    "    for i in range(0,n+1):\n",
    "        # create a grid\n",
    "        # Pij is the displacement from the point (i,j) on the grid\n",
    "        # then split into x,y position of where that point goes\n",
    "        var_dict['p{}0x'.format(i)] = var('p{}0x'.format(i))\n",
    "        var_dict['p{}0y'.format(i)] = var('p{}0y'.format(i))\n",
    "        var_dict['p{}1x'.format(i)] = var('p{}1x'.format(i))\n",
    "        var_dict['p{}1y'.format(i)] = var('p{}1y'.format(i))\n",
    "        \n",
    "    # enforce fixed points at left side of truss network\n",
    "    var_dict['p00x'] = 0\n",
    "    var_dict['p00y'] = 0\n",
    "    var_dict['p01x'] = 0\n",
    "    var_dict['p01y'] = 0 \n",
    "    \n",
    "    var_dict['l'] = var('l', latex_name=r'\\lambda') # forced constriction\n",
    "    \n",
    "    var_dict['p{}0x'.format(n)] = var_dict['l'] - n\n",
    "    var_dict['p{}1x'.format(n)] = var_dict['l'] - n\n",
    "    var_dict['p{}0y'.format(n)] = 0 # these don't change\n",
    "    var_dict['p{}1y'.format(n)] = 0 # could do in a later implementation though  \n",
    "   \n",
    "    \n",
    "    # so after constraints at endpoints we have 4(n-1) uknowns\n",
    "    \n",
    "    funcs = []\n",
    "    e_truss = 0\n",
    "    for j in range(1,n+1):\n",
    "        # iterate through each square in the truss\n",
    "        # get the length of each of the five springs\n",
    "        \n",
    "        top_x = 1 + var_dict['p{}1x'.format(j)] - var_dict['p{}1x'.format(j-1)]\n",
    "        top_y = var_dict['p{}1y'.format(j)] - var_dict['p{}1y'.format(j-1)]  \n",
    "        top = f(sqrt(top_x^2 + top_y^2))\n",
    "        \n",
    "        right_x = var_dict['p{}1x'.format(j)] - var_dict['p{}0x'.format(j)] \n",
    "        right_y = 1 + var_dict['p{}1y'.format(j)] - var_dict['p{}0y'.format(j)] \n",
    "        right = f(sqrt(right_x^2 + right_y^2))\n",
    " \n",
    "        bottom_x = 1 + var_dict['p{}0x'.format(j)] - var_dict['p{}0x'.format(j-1)]\n",
    "        bottom_y = var_dict['p{}0y'.format(j)] - var_dict['p{}0y'.format(j-1)]  \n",
    "        bottom = f(sqrt(bottom_x^2 + bottom_y^2))\n",
    "        \n",
    "        \n",
    "        # \\ spring\n",
    "        diag1_x = 1 + var_dict['p{}0x'.format(j)] - var_dict['p{}1x'.format(j-1)]\n",
    "        diag1_y = 1 + var_dict['p{}1y'.format(j-1)] - var_dict['p{}0y'.format(j)]\n",
    "        diag1 = f(sqrt(diag1_x^2 + diag1_y^2)/sqrt(2)) # scale by root 2\n",
    "        \n",
    "        \n",
    "        # / spring\n",
    "        diag2_x = 1 + var_dict['p{}1x'.format(j)] - var_dict['p{}0x'.format(j-1)]\n",
    "        diag2_y = 1 + var_dict['p{}1y'.format(j)] - var_dict['p{}0y'.format(j-1)]\n",
    "        diag2 = f(sqrt(diag1_x^2 + diag1_y^2)/sqrt(2)) # so that zero is indeed a solution \n",
    "        \n",
    "        e_truss = e_truss + top + right + bottom + diag1 + diag2\n",
    "        \n",
    "        \n",
    "    # solutions will be local minima of the energy equation\n",
    "    for j in range(1,n):\n",
    "        # only care about 1,...,n\n",
    "        # 0 and n are fixed points\n",
    "        funcs.append(e_truss.diff(var_dict['p{}0x'.format(j)]))\n",
    "        funcs.append(e_truss.diff(var_dict['p{}0y'.format(j)]))\n",
    "        funcs.append(e_truss.diff(var_dict['p{}1x'.format(j)]))\n",
    "        funcs.append(e_truss.diff(var_dict['p{}1y'.format(j)]))\n",
    "        \n",
    "        \n",
    "    var_dict['p{}0x'.format(n)] = 0\n",
    "    var_dict['p{}1x'.format(n)] = 0 \n",
    "    # these we just latent variables, they never really existed\n",
    "        \n",
    "    return funcs, var_dict\n",
    "    "
   ]
  },
  {
   "cell_type": "code",
   "execution_count": 3,
   "metadata": {},
   "outputs": [
    {
     "name": "stderr",
     "output_type": "stream",
     "text": [
      "implicit.py:1: DeprecationWarning: Substitution using function-call syntax and unnamed arguments is deprecated and will be removed from a future release of Sage; you can use named arguments instead, like EXPR(x=..., y=...)\n",
      "See http://trac.sagemath.org/5930 for details.\n",
      "  from math import factorial\n"
     ]
    }
   ],
   "source": [
    "funcs, var_dict = get_funcs(2,f = (x-1)^2)"
   ]
  },
  {
   "cell_type": "code",
   "execution_count": 4,
   "metadata": {},
   "outputs": [
    {
     "data": {
      "text/plain": [
       "{'p00x': 0,\n",
       " 'p00y': 0,\n",
       " 'p01x': 0,\n",
       " 'p01y': 0,\n",
       " 'p10x': p10x,\n",
       " 'p10y': p10y,\n",
       " 'p11x': p11x,\n",
       " 'p11y': p11y,\n",
       " 'p20x': 0,\n",
       " 'p20y': 0,\n",
       " 'p21x': 0,\n",
       " 'p21y': 0,\n",
       " 'l': l}"
      ]
     },
     "execution_count": 4,
     "metadata": {},
     "output_type": "execute_result"
    }
   ],
   "source": [
    "var_dict"
   ]
  },
  {
   "cell_type": "code",
   "execution_count": 5,
   "metadata": {},
   "outputs": [
    {
     "data": {
      "text/markdown": [
       "$ \\left[\\frac{\\sqrt{2} {\\left(\\sqrt{2} \\sqrt{{\\left(\\mathit{p10x} + 1\\right)}^{2} + {\\left(\\mathit{p10y} - 1\\right)}^{2}} - 2\\right)} {\\left(\\mathit{p10x} + 1\\right)}}{\\sqrt{{\\left(\\mathit{p10x} + 1\\right)}^{2} + {\\left(\\mathit{p10y} - 1\\right)}^{2}}} - \\frac{2 \\, {\\left({\\lambda} - \\mathit{p10x} - 1\\right)} {\\left(\\sqrt{{\\left({\\lambda} - \\mathit{p10x} - 1\\right)}^{2} + \\mathit{p10y}^{2}} - 1\\right)}}{\\sqrt{{\\left({\\lambda} - \\mathit{p10x} - 1\\right)}^{2} + \\mathit{p10y}^{2}}} + \\frac{2 \\, {\\left(\\mathit{p10x} - \\mathit{p11x}\\right)} {\\left(\\sqrt{{\\left(\\mathit{p10x} - \\mathit{p11x}\\right)}^{2} + {\\left(\\mathit{p10y} - \\mathit{p11y} - 1\\right)}^{2}} - 1\\right)}}{\\sqrt{{\\left(\\mathit{p10x} - \\mathit{p11x}\\right)}^{2} + {\\left(\\mathit{p10y} - \\mathit{p11y} - 1\\right)}^{2}}} + \\frac{2 \\, {\\left(\\mathit{p10x} + 1\\right)} {\\left(\\sqrt{{\\left(\\mathit{p10x} + 1\\right)}^{2} + \\mathit{p10y}^{2}} - 1\\right)}}{\\sqrt{{\\left(\\mathit{p10x} + 1\\right)}^{2} + \\mathit{p10y}^{2}}}, \\frac{\\sqrt{2} {\\left(\\sqrt{2} \\sqrt{{\\left(\\mathit{p10x} + 1\\right)}^{2} + {\\left(\\mathit{p10y} - 1\\right)}^{2}} - 2\\right)} {\\left(\\mathit{p10y} - 1\\right)}}{\\sqrt{{\\left(\\mathit{p10x} + 1\\right)}^{2} + {\\left(\\mathit{p10y} - 1\\right)}^{2}}} + \\frac{2 \\, \\mathit{p10y} {\\left(\\sqrt{{\\left({\\lambda} - \\mathit{p10x} - 1\\right)}^{2} + \\mathit{p10y}^{2}} - 1\\right)}}{\\sqrt{{\\left({\\lambda} - \\mathit{p10x} - 1\\right)}^{2} + \\mathit{p10y}^{2}}} + \\frac{2 \\, {\\left(\\mathit{p10y} - \\mathit{p11y} - 1\\right)} {\\left(\\sqrt{{\\left(\\mathit{p10x} - \\mathit{p11x}\\right)}^{2} + {\\left(\\mathit{p10y} - \\mathit{p11y} - 1\\right)}^{2}} - 1\\right)}}{\\sqrt{{\\left(\\mathit{p10x} - \\mathit{p11x}\\right)}^{2} + {\\left(\\mathit{p10y} - \\mathit{p11y} - 1\\right)}^{2}}} + \\frac{2 \\, \\mathit{p10y} {\\left(\\sqrt{{\\left(\\mathit{p10x} + 1\\right)}^{2} + \\mathit{p10y}^{2}} - 1\\right)}}{\\sqrt{{\\left(\\mathit{p10x} + 1\\right)}^{2} + \\mathit{p10y}^{2}}}, -\\frac{\\sqrt{2} {\\left(\\sqrt{2} \\sqrt{{\\left({\\lambda} - \\mathit{p11x} - 1\\right)}^{2} + {\\left(\\mathit{p11y} + 1\\right)}^{2}} - 2\\right)} {\\left({\\lambda} - \\mathit{p11x} - 1\\right)}}{\\sqrt{{\\left({\\lambda} - \\mathit{p11x} - 1\\right)}^{2} + {\\left(\\mathit{p11y} + 1\\right)}^{2}}} - \\frac{2 \\, {\\left({\\lambda} - \\mathit{p11x} - 1\\right)} {\\left(\\sqrt{{\\left({\\lambda} - \\mathit{p11x} - 1\\right)}^{2} + \\mathit{p11y}^{2}} - 1\\right)}}{\\sqrt{{\\left({\\lambda} - \\mathit{p11x} - 1\\right)}^{2} + \\mathit{p11y}^{2}}} - \\frac{2 \\, {\\left(\\mathit{p10x} - \\mathit{p11x}\\right)} {\\left(\\sqrt{{\\left(\\mathit{p10x} - \\mathit{p11x}\\right)}^{2} + {\\left(\\mathit{p10y} - \\mathit{p11y} - 1\\right)}^{2}} - 1\\right)}}{\\sqrt{{\\left(\\mathit{p10x} - \\mathit{p11x}\\right)}^{2} + {\\left(\\mathit{p10y} - \\mathit{p11y} - 1\\right)}^{2}}} + \\frac{2 \\, {\\left(\\mathit{p11x} + 1\\right)} {\\left(\\sqrt{{\\left(\\mathit{p11x} + 1\\right)}^{2} + \\mathit{p11y}^{2}} - 1\\right)}}{\\sqrt{{\\left(\\mathit{p11x} + 1\\right)}^{2} + \\mathit{p11y}^{2}}}, \\frac{\\sqrt{2} {\\left(\\sqrt{2} \\sqrt{{\\left({\\lambda} - \\mathit{p11x} - 1\\right)}^{2} + {\\left(\\mathit{p11y} + 1\\right)}^{2}} - 2\\right)} {\\left(\\mathit{p11y} + 1\\right)}}{\\sqrt{{\\left({\\lambda} - \\mathit{p11x} - 1\\right)}^{2} + {\\left(\\mathit{p11y} + 1\\right)}^{2}}} + \\frac{2 \\, \\mathit{p11y} {\\left(\\sqrt{{\\left({\\lambda} - \\mathit{p11x} - 1\\right)}^{2} + \\mathit{p11y}^{2}} - 1\\right)}}{\\sqrt{{\\left({\\lambda} - \\mathit{p11x} - 1\\right)}^{2} + \\mathit{p11y}^{2}}} - \\frac{2 \\, {\\left(\\mathit{p10y} - \\mathit{p11y} - 1\\right)} {\\left(\\sqrt{{\\left(\\mathit{p10x} - \\mathit{p11x}\\right)}^{2} + {\\left(\\mathit{p10y} - \\mathit{p11y} - 1\\right)}^{2}} - 1\\right)}}{\\sqrt{{\\left(\\mathit{p10x} - \\mathit{p11x}\\right)}^{2} + {\\left(\\mathit{p10y} - \\mathit{p11y} - 1\\right)}^{2}}} + \\frac{2 \\, \\mathit{p11y} {\\left(\\sqrt{{\\left(\\mathit{p11x} + 1\\right)}^{2} + \\mathit{p11y}^{2}} - 1\\right)}}{\\sqrt{{\\left(\\mathit{p11x} + 1\\right)}^{2} + \\mathit{p11y}^{2}}}\\right] $"
      ],
      "text/plain": [
       "<IPython.core.display.Markdown object>"
      ]
     },
     "metadata": {},
     "output_type": "display_data"
    }
   ],
   "source": [
    "lprint(funcs)"
   ]
  },
  {
   "cell_type": "code",
   "execution_count": 6,
   "metadata": {},
   "outputs": [
    {
     "data": {
      "text/markdown": [
       "$ 0 $"
      ],
      "text/plain": [
       "<IPython.core.display.Markdown object>"
      ]
     },
     "metadata": {},
     "output_type": "display_data"
    }
   ],
   "source": [
    "lprint(funcs[1](2,0,0,0,0)) # lambda = 2 corresponds to no compression"
   ]
  },
  {
   "cell_type": "code",
   "execution_count": 7,
   "metadata": {},
   "outputs": [
    {
     "data": {
      "text/markdown": [
       "$ 1.00000000000000 $"
      ],
      "text/plain": [
       "<IPython.core.display.Markdown object>"
      ]
     },
     "metadata": {},
     "output_type": "display_data"
    }
   ],
   "source": [
    "lprint(funcs[0](1.5,0,0,0,0)) # however see that we no longer have trivial solutions"
   ]
  },
  {
   "cell_type": "code",
   "execution_count": 11,
   "metadata": {},
   "outputs": [],
   "source": [
    "def get_trivial_sols(n):\n",
    "    var_dict = {}\n",
    "    sol_dict = {}\n",
    "    var_dict['l'] = var('l', latex_name=r'\\lambda')\n",
    "    for i in range(1,n):\n",
    "        var_dict['p{}0x'.format(i)] = var('p{}0x'.format(i))\n",
    "        var_dict['p{}0y'.format(i)] = var('p{}0y'.format(i))\n",
    "        var_dict['p{}1x'.format(i)] = var('p{}1x'.format(i))\n",
    "        var_dict['p{}1y'.format(i)] = var('p{}1y'.format(i))\n",
    "        \n",
    "        sol_dict['p{}0x'.format(i)] = var_dict['l']*i/n - i \n",
    "        sol_dict['p{}0y'.format(i)] = -var('p{}1y'.format(i))\n",
    "        sol_dict['p{}1x'.format(i)] = var_dict['l']*i/n - i \n",
    "        sol_dict['p{}1y'.format(i)] = var('p{}1y'.format(i))\n",
    "        \n",
    "    return sol_dict     "
   ]
  },
  {
   "cell_type": "code",
   "execution_count": 12,
   "metadata": {},
   "outputs": [
    {
     "data": {
      "text/plain": [
       "{'p10x': 1/2*l - 1, 'p10y': -p11y, 'p11x': 1/2*l - 1, 'p11y': p11y}"
      ]
     },
     "execution_count": 12,
     "metadata": {},
     "output_type": "execute_result"
    }
   ],
   "source": [
    "sols = get_trivial_sols(2)\n",
    "sols"
   ]
  },
  {
   "cell_type": "code",
   "execution_count": 19,
   "metadata": {},
   "outputs": [
    {
     "data": {
      "text/markdown": [
       "$ \\frac{\\sqrt{2} {\\left(\\sqrt{2} \\sqrt{{\\lambda}^{2} + 4 \\, {\\left(\\mathit{p11y} + 1\\right)}^{2}} - 4\\right)} {\\left(\\mathit{p11y} + 1\\right)}}{\\sqrt{{\\lambda}^{2} + 4 \\, {\\left(\\mathit{p11y} + 1\\right)}^{2}}} + \\frac{4 \\, \\mathit{p11y} {\\left(\\sqrt{{\\lambda}^{2} + 4 \\, \\mathit{p11y}^{2}} - 2\\right)}}{\\sqrt{{\\lambda}^{2} + 4 \\, \\mathit{p11y}^{2}}} + \\frac{2 \\, {\\left(2 \\, \\mathit{p11y} + 1\\right)} {\\left(\\sqrt{{\\left(2 \\, \\mathit{p11y} + 1\\right)}^{2}} - 1\\right)}}{\\sqrt{{\\left(2 \\, \\mathit{p11y} + 1\\right)}^{2}}} $"
      ],
      "text/plain": [
       "<IPython.core.display.Markdown object>"
      ]
     },
     "metadata": {},
     "output_type": "display_data"
    }
   ],
   "source": [
    "lprint((funcs[3](**sols)))"
   ]
  },
  {
   "cell_type": "markdown",
   "metadata": {},
   "source": [
    "we see that the we get a solution independant of the input for lambda"
   ]
  },
  {
   "cell_type": "code",
   "execution_count": 14,
   "metadata": {},
   "outputs": [],
   "source": [
    "def get_trivial_free(n):\n",
    "    var_dict = {}\n",
    "    sol_dict = {}\n",
    "    var_dict['l'] = var('l', latex_name=r'\\lambda')\n",
    "    for i in range(1,n):\n",
    "        var_dict['p{}0x'.format(i)] = var('p{}0x'.format(i))\n",
    "        var_dict['p{}0y'.format(i)] = var('p{}0y'.format(i))\n",
    "        var_dict['p{}1x'.format(i)] = var('p{}1x'.format(i))\n",
    "        var_dict['p{}1y'.format(i)] = var('p{}1y'.format(i))\n",
    "        \n",
    "        sol_dict['p{}0x'.format(i)] = var_dict['l']*i/n - i \n",
    "        sol_dict['p{}0y'.format(i)] = -var('p{}1y'.format(i))\n",
    "        sol_dict['p{}1x'.format(i)] = var_dict['l']*i/n - i \n",
    "        sol_dict['p{}1y'.format(i)] = var('p{}1y'.format(i))\n",
    "        \n",
    "    return sol_dict "
   ]
  },
  {
   "cell_type": "code",
   "execution_count": 15,
   "metadata": {},
   "outputs": [
    {
     "data": {
      "image/png": "[encoded data removed]",
      "text/plain": [
       "Graphics object consisting of 1 graphics primitive"
      ]
     },
     "execution_count": 15,
     "metadata": {},
     "output_type": "execute_result"
    }
   ],
   "source": [
    "sols = get_trivial_free(2)\n",
    "sols\n",
    "implicit_plot(funcs[3](**sols), (0,2.5), (-1,1))"
   ]
  },
  {
   "cell_type": "markdown",
   "metadata": {},
   "source": [
    "We also see that a bifurcation occurs in these solutions (assuming symmmetry), which corresponds to the truss \"squishing\""
   ]
  },
  {
   "cell_type": "markdown",
   "metadata": {},
   "source": [
    "$ p11y = \\frac{1}{2} \\sqrt{1 - \\lambda ^2} $ can be shown to be the solution"
   ]
  },
  {
   "cell_type": "code",
   "execution_count": 13,
   "metadata": {},
   "outputs": [],
   "source": [
    "def get_trivial_bif(n):\n",
    "    var_dict = {}\n",
    "    sol_dict = {}\n",
    "    var_dict['l'] = var('l', latex_name=r'\\lambda')\n",
    "    for i in range(1,n):\n",
    "        var_dict['p{}0x'.format(i)] = var('p{}0x'.format(i))\n",
    "        var_dict['p{}0y'.format(i)] = var('p{}0y'.format(i))\n",
    "        var_dict['p{}1x'.format(i)] = var('p{}1x'.format(i))\n",
    "        var_dict['p{}1y'.format(i)] = var('p{}1y'.format(i))\n",
    "        \n",
    "        sol_dict['p{}0x'.format(i)] = var_dict['l']*i/n - i \n",
    "        sol_dict['p{}0y'.format(i)] = - (1/2) * sqrt(1 - var_dict['l']^2)\n",
    "        sol_dict['p{}1x'.format(i)] = var_dict['l']*i/n - i \n",
    "        sol_dict['p{}1y'.format(i)] = (1/2) * sqrt(1 - var_dict['l']^2)\n",
    "        \n",
    "    return sol_dict   "
   ]
  },
  {
   "cell_type": "code",
   "execution_count": 14,
   "metadata": {},
   "outputs": [
    {
     "data": {
      "text/plain": [
       "{'p10x': 1/2*l - 1,\n",
       " 'p10y': -1/2*sqrt(-l^2 + 1),\n",
       " 'p11x': 1/2*l - 1,\n",
       " 'p11y': 1/2*sqrt(-l^2 + 1)}"
      ]
     },
     "execution_count": 14,
     "metadata": {},
     "output_type": "execute_result"
    }
   ],
   "source": [
    "sols = get_trivial_bif(2)\n",
    "sols"
   ]
  },
  {
   "cell_type": "code",
   "execution_count": 15,
   "metadata": {},
   "outputs": [
    {
     "data": {
      "text/markdown": [
       "$ 0 $"
      ],
      "text/plain": [
       "<IPython.core.display.Markdown object>"
      ]
     },
     "metadata": {},
     "output_type": "display_data"
    }
   ],
   "source": [
    "lprint(simplify(funcs[3](**sols)))"
   ]
  },
  {
   "cell_type": "code",
   "execution_count": 16,
   "metadata": {},
   "outputs": [],
   "source": [
    "def get_perturbed_funcs(n):\n",
    "    # returns a set of equations to solve\n",
    "    \n",
    "    funcs, var_dict = get_funcs(n,(x-1)^2)\n",
    "    \n",
    "    sols = get_trivial_sols(2)\n",
    "    \n",
    "    for var in sols.keys():\n",
    "        sols[var] = var_dict[var] + sols[var] # update with shift of the trivial solution\n",
    "    \n",
    "    for i in range(0, len(funcs)):\n",
    "        funcs[i] = funcs[i](**sols)\n",
    "        \n",
    "    return funcs, var_dict"
   ]
  },
  {
   "cell_type": "code",
   "execution_count": 17,
   "metadata": {},
   "outputs": [
    {
     "name": "stderr",
     "output_type": "stream",
     "text": [
      "implicit.py:4: DeprecationWarning: Substitution using function-call syntax and unnamed arguments is deprecated and will be removed from a future release of Sage; you can use named arguments instead, like EXPR(x=..., y=...)\n",
      "See http://trac.sagemath.org/5930 for details.\n",
      "  import numpy as np\n"
     ]
    }
   ],
   "source": [
    "funcs, var_dict = get_perturbed_funcs(2)"
   ]
  },
  {
   "cell_type": "code",
   "execution_count": 18,
   "metadata": {},
   "outputs": [
    {
     "data": {
      "text/markdown": [
       "$ \\frac{{\\left({\\lambda} + 2 \\, \\mathit{p10x}\\right)} {\\left(\\sqrt{{\\left({\\lambda} + 2 \\, \\mathit{p10x}\\right)}^{2} + 4 \\, \\mathit{p10y}^{2}} - 2\\right)}}{\\sqrt{{\\left({\\lambda} + 2 \\, \\mathit{p10x}\\right)}^{2} + 4 \\, \\mathit{p10y}^{2}}} - \\frac{{\\left({\\lambda} - 2 \\, \\mathit{p10x}\\right)} {\\left(\\sqrt{{\\left({\\lambda} - 2 \\, \\mathit{p10x}\\right)}^{2} + 4 \\, \\mathit{p10y}^{2}} - 2\\right)}}{\\sqrt{{\\left({\\lambda} - 2 \\, \\mathit{p10x}\\right)}^{2} + 4 \\, \\mathit{p10y}^{2}}} + \\frac{2 \\, {\\left(\\mathit{p10x} - \\mathit{p11x}\\right)} {\\left(\\sqrt{{\\left(\\mathit{p10x} - \\mathit{p11x}\\right)}^{2} + {\\left(\\mathit{p10y} - \\mathit{p11y} - 1\\right)}^{2}} - 1\\right)}}{\\sqrt{{\\left(\\mathit{p10x} - \\mathit{p11x}\\right)}^{2} + {\\left(\\mathit{p10y} - \\mathit{p11y} - 1\\right)}^{2}}} $"
      ],
      "text/plain": [
       "<IPython.core.display.Markdown object>"
      ]
     },
     "metadata": {},
     "output_type": "display_data"
    }
   ],
   "source": [
    "lprint(funcs[0])"
   ]
  },
  {
   "cell_type": "code",
   "execution_count": 19,
   "metadata": {},
   "outputs": [
    {
     "data": {
      "text/markdown": [
       "$ 0 $"
      ],
      "text/plain": [
       "<IPython.core.display.Markdown object>"
      ]
     },
     "metadata": {},
     "output_type": "display_data"
    }
   ],
   "source": [
    "lprint(funcs[3](1.78,0,0,0,0))"
   ]
  },
  {
   "cell_type": "code",
   "execution_count": 22,
   "metadata": {},
   "outputs": [
    {
     "data": {
      "text/markdown": [
       "$ 0.000000000000000 $"
      ],
      "text/plain": [
       "<IPython.core.display.Markdown object>"
      ]
     },
     "metadata": {},
     "output_type": "display_data"
    }
   ],
   "source": [
    "lprint(funcs[2](1.9,0,0,0,0))"
   ]
  },
  {
   "cell_type": "markdown",
   "metadata": {},
   "source": [
    "Now we have trivial solutions"
   ]
  },
  {
   "cell_type": "code",
   "execution_count": 23,
   "metadata": {},
   "outputs": [
    {
     "data": {
      "text/markdown": [
       "$ \\left(\\begin{array}{rrrr}\n",
       "4 & 0 & 0 & 0 \\\\\n",
       "0 & \\frac{2 \\, {\\left(3 \\, \\sqrt{{\\lambda}^{2}} - 4\\right)}}{\\sqrt{{\\lambda}^{2}}} & 0 & -2 \\\\\n",
       "0 & 0 & 4 & 0 \\\\\n",
       "0 & -2 & 0 & \\frac{2 \\, {\\left(3 \\, \\sqrt{{\\lambda}^{2}} - 4\\right)}}{\\sqrt{{\\lambda}^{2}}}\n",
       "\\end{array}\\right) $"
      ],
      "text/plain": [
       "<IPython.core.display.Markdown object>"
      ]
     },
     "metadata": {},
     "output_type": "display_data"
    }
   ],
   "source": [
    "old_var = var_dict\n",
    "var_dict = {key : var_dict[key] for key in var_dict.keys() if var_dict[key] != 0}\n",
    "var_dict = {key : var_dict[key] for key in var_dict.keys() if key != 'l'}\n",
    "\n",
    "J = jacobian(funcs,tuple(var_dict.values()))(**{var : 0 for var in var_dict.keys()}).apply_map(lambda x: x.full_simplify())\n",
    "lprint(J)"
   ]
  },
  {
   "cell_type": "code",
   "execution_count": 24,
   "metadata": {},
   "outputs": [
    {
     "data": {
      "text/markdown": [
       "$ -\\frac{1536}{\\sqrt{{\\lambda}^{2}}} + \\frac{1024}{{\\lambda}^{2}} + 512 $"
      ],
      "text/plain": [
       "<IPython.core.display.Markdown object>"
      ]
     },
     "metadata": {},
     "output_type": "display_data"
    }
   ],
   "source": [
    "lprint(det(matrix(J))) # potential bifurcation point"
   ]
  },
  {
   "cell_type": "code",
   "execution_count": 25,
   "metadata": {},
   "outputs": [
    {
     "data": {
      "text/markdown": [
       "$ 0 $"
      ],
      "text/plain": [
       "<IPython.core.display.Markdown object>"
      ]
     },
     "metadata": {},
     "output_type": "display_data"
    }
   ],
   "source": [
    "lprint(det(matrix(J))(l =1))"
   ]
  },
  {
   "cell_type": "code",
   "execution_count": 26,
   "metadata": {},
   "outputs": [
    {
     "data": {
      "text/markdown": [
       "$ 0 $"
      ],
      "text/plain": [
       "<IPython.core.display.Markdown object>"
      ]
     },
     "metadata": {},
     "output_type": "display_data"
    }
   ],
   "source": [
    "lprint(det(matrix(J))(l = 2))"
   ]
  },
  {
   "cell_type": "markdown",
   "metadata": {},
   "source": [
    "Suggest bifurcations at $\\lambda = 2$ and $\\lambda = 1$"
   ]
  },
  {
   "cell_type": "code",
   "execution_count": 50,
   "metadata": {},
   "outputs": [
    {
     "data": {
      "text/markdown": [
       "$ \\left(\\begin{array}{rrrr}\n",
       "4 & 0 & 0 & 0 \\\\\n",
       "0 & -2 & 0 & -2 \\\\\n",
       "0 & 0 & 4 & 0 \\\\\n",
       "0 & -2 & 0 & -2\n",
       "\\end{array}\\right) $"
      ],
      "text/plain": [
       "<IPython.core.display.Markdown object>"
      ]
     },
     "metadata": {},
     "output_type": "display_data"
    }
   ],
   "source": [
    "#bif_funcs = [func(l = 2/((32*sqrt(2)) + 36)) for func in funcs] #\n",
    "#bif_funcs = [func(l = (sqrt(2)*(9/4))/((225*sqrt(2))/2 + 108)) for func in funcs] #\n",
    "bif_funcs = [func(l = 1) for func in funcs]\n",
    "#var_dict['l'] = old_var['l']\n",
    "J = jacobian(bif_funcs,tuple(var_dict.values()))(**{var : 0 for var in var_dict.keys()})\n",
    "\n",
    "lprint(J)"
   ]
  },
  {
   "cell_type": "code",
   "execution_count": 51,
   "metadata": {},
   "outputs": [
    {
     "data": {
      "text/markdown": [
       "$ 0 $"
      ],
      "text/plain": [
       "<IPython.core.display.Markdown object>"
      ]
     },
     "metadata": {},
     "output_type": "display_data"
    }
   ],
   "source": [
    "lprint(det(matrix(J.rows()[0:6])))"
   ]
  },
  {
   "cell_type": "markdown",
   "metadata": {},
   "source": [
    "### Orthogonalising the kernel"
   ]
  },
  {
   "cell_type": "code",
   "execution_count": 52,
   "metadata": {},
   "outputs": [
    {
     "data": {
      "text/markdown": [
       "$ \\left[\\left(0,\\,1,\\,0,\\,-1\\right)\\right] $"
      ],
      "text/plain": [
       "<IPython.core.display.Markdown object>"
      ]
     },
     "metadata": {},
     "output_type": "display_data"
    }
   ],
   "source": [
    "K = J.right_kernel().basis()\n",
    "lprint(K)"
   ]
  },
  {
   "cell_type": "code",
   "execution_count": 53,
   "metadata": {},
   "outputs": [
    {
     "data": {
      "text/markdown": [
       "$ \\left[\\left(1,\\,0,\\,0,\\,0\\right), \\left(0,\\,1,\\,0,\\,1\\right), \\left(0,\\,0,\\,1,\\,0\\right)\\right] $"
      ],
      "text/plain": [
       "<IPython.core.display.Markdown object>"
      ]
     },
     "metadata": {},
     "output_type": "display_data"
    }
   ],
   "source": [
    "Kperp = matrix(K).right_kernel().basis()\n",
    "lprint(Kperp)"
   ]
  },
  {
   "cell_type": "code",
   "execution_count": 54,
   "metadata": {},
   "outputs": [
    {
     "data": {
      "text/markdown": [
       "$ \\left(\\begin{array}{rrrr}\n",
       "0 & 1 & 0 & 0 \\\\\n",
       "\\frac{1}{2} & 0 & \\frac{1}{2} & 0 \\\\\n",
       "0 & 0 & 0 & 1 \\\\\n",
       "-\\frac{1}{2} & 0 & \\frac{1}{2} & 0\n",
       "\\end{array}\\right) $"
      ],
      "text/plain": [
       "<IPython.core.display.Markdown object>"
      ]
     },
     "metadata": {},
     "output_type": "display_data"
    }
   ],
   "source": [
    "A = matrix(K+Kperp).inverse().apply_map(lambda x: x.full_simplify())\n",
    "lprint(A)"
   ]
  },
  {
   "cell_type": "code",
   "execution_count": 55,
   "metadata": {},
   "outputs": [],
   "source": [
    "key_list = [str(var) for var in var_dict.values()]\n",
    "value_list = list(A*vector(var_dict.values()))\n",
    "mutate_dict = dict(zip(key_list, value_list))"
   ]
  },
  {
   "cell_type": "code",
   "execution_count": 56,
   "metadata": {},
   "outputs": [
    {
     "data": {
      "text/plain": [
       "{'p10x': p10y,\n",
       " 'p10y': 1/2*p10x + 1/2*p11x,\n",
       " 'p11x': p11y,\n",
       " 'p11y': -1/2*p10x + 1/2*p11x}"
      ]
     },
     "execution_count": 56,
     "metadata": {},
     "output_type": "execute_result"
    }
   ],
   "source": [
    "mutate_dict"
   ]
  },
  {
   "cell_type": "code",
   "execution_count": 57,
   "metadata": {},
   "outputs": [],
   "source": [
    "Afuncs = [func(**mutate_dict) for func in bif_funcs]"
   ]
  },
  {
   "cell_type": "code",
   "execution_count": 58,
   "metadata": {},
   "outputs": [],
   "source": [
    "#lprint(Afuncs) "
   ]
  },
  {
   "cell_type": "code",
   "execution_count": 59,
   "metadata": {},
   "outputs": [
    {
     "data": {
      "text/markdown": [
       "$ \\left(\\begin{array}{rrrr}\n",
       "0 & 4 & 0 & 0 \\\\\n",
       "0 & 0 & -2 & 0 \\\\\n",
       "0 & 0 & 0 & 4 \\\\\n",
       "0 & 0 & -2 & 0\n",
       "\\end{array}\\right) $"
      ],
      "text/plain": [
       "<IPython.core.display.Markdown object>"
      ]
     },
     "metadata": {},
     "output_type": "display_data"
    }
   ],
   "source": [
    "Ja = jacobian(Afuncs,tuple(var_dict.values()))(**{var : 0 for var in var_dict.keys()}).apply_map(lambda x: x.full_simplify())\n",
    "lprint(Ja)"
   ]
  },
  {
   "cell_type": "code",
   "execution_count": 60,
   "metadata": {},
   "outputs": [
    {
     "data": {
      "text/markdown": [
       "$ \\left[\\left(1,\\,0,\\,0,\\,0\\right)\\right] $"
      ],
      "text/plain": [
       "<IPython.core.display.Markdown object>"
      ]
     },
     "metadata": {},
     "output_type": "display_data"
    }
   ],
   "source": [
    "Ka = Ja(l=0).right_kernel().basis()\n",
    "lprint(Ka)"
   ]
  },
  {
   "cell_type": "markdown",
   "metadata": {},
   "source": [
    "### Orthogonalising the image"
   ]
  },
  {
   "cell_type": "code",
   "execution_count": 61,
   "metadata": {},
   "outputs": [
    {
     "name": "stdout",
     "output_type": "stream",
     "text": [
      "3\n"
     ]
    }
   ],
   "source": [
    "I = Ja.image().basis()\n",
    "I = [Ja*vec for vec in I]\n",
    "print(len(I))"
   ]
  },
  {
   "cell_type": "code",
   "execution_count": 62,
   "metadata": {},
   "outputs": [
    {
     "data": {
      "text/markdown": [
       "$ \\left[\\left(0,\\,1,\\,0,\\,-1\\right)\\right] $"
      ],
      "text/plain": [
       "<IPython.core.display.Markdown object>"
      ]
     },
     "metadata": {},
     "output_type": "display_data"
    }
   ],
   "source": [
    "Iperp = matrix(I).right_kernel().basis()\n",
    "lprint(Iperp)"
   ]
  },
  {
   "cell_type": "code",
   "execution_count": 63,
   "metadata": {},
   "outputs": [
    {
     "data": {
      "text/markdown": [
       "$ \\left(\\begin{array}{rrrr}\n",
       "\\frac{1}{4} & 0 & 0 & 0 \\\\\n",
       "0 & -\\frac{1}{4} & 0 & \\frac{1}{2} \\\\\n",
       "0 & 0 & \\frac{1}{4} & 0 \\\\\n",
       "0 & -\\frac{1}{4} & 0 & -\\frac{1}{2}\n",
       "\\end{array}\\right) $"
      ],
      "text/plain": [
       "<IPython.core.display.Markdown object>"
      ]
     },
     "metadata": {},
     "output_type": "display_data"
    }
   ],
   "source": [
    "B = matrix(I + Iperp).inverse().apply_map(lambda x: x.full_simplify())\n",
    "lprint(B)"
   ]
  },
  {
   "cell_type": "code",
   "execution_count": 64,
   "metadata": {},
   "outputs": [],
   "source": [
    "tfuncs = vector(Afuncs)*B"
   ]
  },
  {
   "cell_type": "code",
   "execution_count": 65,
   "metadata": {},
   "outputs": [],
   "source": [
    "#lprint(tfuncs)"
   ]
  },
  {
   "cell_type": "code",
   "execution_count": 66,
   "metadata": {},
   "outputs": [],
   "source": [
    "Jt = jacobian(tfuncs,tuple(var_dict.values()))(**{var : 0 for var in var_dict.keys()}).apply_map(lambda x: x.full_simplify())"
   ]
  },
  {
   "cell_type": "code",
   "execution_count": 67,
   "metadata": {},
   "outputs": [
    {
     "data": {
      "text/plain": [
       "dict_values([p10x, p10y, p11x, p11y])"
      ]
     },
     "execution_count": 67,
     "metadata": {},
     "output_type": "execute_result"
    }
   ],
   "source": [
    "var_dict.values()"
   ]
  },
  {
   "cell_type": "code",
   "execution_count": 68,
   "metadata": {},
   "outputs": [
    {
     "data": {
      "text/markdown": [
       "$ \\left(\\begin{array}{rrrr}\n",
       "0 & 1 & 0 & 0 \\\\\n",
       "0 & 0 & 1 & 0 \\\\\n",
       "0 & 0 & 0 & 1 \\\\\n",
       "0 & 0 & 0 & 0\n",
       "\\end{array}\\right) $"
      ],
      "text/plain": [
       "<IPython.core.display.Markdown object>"
      ]
     },
     "metadata": {},
     "output_type": "display_data"
    }
   ],
   "source": [
    "lprint(Jt)"
   ]
  },
  {
   "cell_type": "code",
   "execution_count": 69,
   "metadata": {},
   "outputs": [
    {
     "data": {
      "text/markdown": [
       "$ \\left[\\left(1,\\,0,\\,0,\\,0\\right), \\left(0,\\,1,\\,0,\\,0\\right), \\left(0,\\,0,\\,1,\\,0\\right)\\right] $"
      ],
      "text/plain": [
       "<IPython.core.display.Markdown object>"
      ]
     },
     "metadata": {},
     "output_type": "display_data"
    }
   ],
   "source": [
    "It = Jt.image().basis()\n",
    "It = [Jt*vec for vec in It]\n",
    "lprint(It)"
   ]
  },
  {
   "cell_type": "markdown",
   "metadata": {},
   "source": [
    "## Adding lambda back in"
   ]
  },
  {
   "cell_type": "code",
   "execution_count": 71,
   "metadata": {},
   "outputs": [],
   "source": [
    "tfuncs = vector([func(**mutate_dict)(l = l + 1) for func in funcs])*B # now lambda is not fixed at the bifurcation point\n",
    "# ***IF SOMETHING IS BROKEN CHECK RIGHT LAMBDA HERE***\n",
    "# but we do shift so that l=0 is the new bifurcation\n",
    "var_dict['l'] = l"
   ]
  },
  {
   "cell_type": "code",
   "execution_count": 72,
   "metadata": {},
   "outputs": [
    {
     "data": {
      "text/plain": [
       "{'p10x': p10x, 'p10y': p10y, 'p11x': p11x, 'p11y': p11y, 'l': l}"
      ]
     },
     "execution_count": 72,
     "metadata": {},
     "output_type": "execute_result"
    }
   ],
   "source": [
    "var_dict_old = var_dict\n",
    "var_dict_old"
   ]
  },
  {
   "cell_type": "code",
   "execution_count": 73,
   "metadata": {},
   "outputs": [
    {
     "data": {
      "text/plain": [
       "dict_values([p10x, p10y, p11x, p11y, l])"
      ]
     },
     "execution_count": 73,
     "metadata": {},
     "output_type": "execute_result"
    }
   ],
   "source": [
    "var_dict.values()"
   ]
  },
  {
   "cell_type": "code",
   "execution_count": 74,
   "metadata": {},
   "outputs": [
    {
     "data": {
      "text/markdown": [
       "$ \\frac{{\\left(\\mathit{p10x} + \\mathit{p11x}\\right)} {\\left(\\sqrt{{\\left({\\lambda} + 2 \\, \\mathit{p10y} + 1\\right)}^{2} + {\\left(\\mathit{p10x} + \\mathit{p11x}\\right)}^{2}} - 2\\right)}}{2 \\, \\sqrt{{\\left({\\lambda} + 2 \\, \\mathit{p10y} + 1\\right)}^{2} + {\\left(\\mathit{p10x} + \\mathit{p11x}\\right)}^{2}}} + \\frac{{\\left(\\mathit{p10x} + \\mathit{p11x}\\right)} {\\left(\\sqrt{{\\left({\\lambda} - 2 \\, \\mathit{p10y} + 1\\right)}^{2} + {\\left(\\mathit{p10x} + \\mathit{p11x}\\right)}^{2}} - 2\\right)}}{2 \\, \\sqrt{{\\left({\\lambda} - 2 \\, \\mathit{p10y} + 1\\right)}^{2} + {\\left(\\mathit{p10x} + \\mathit{p11x}\\right)}^{2}}} + \\frac{{\\left(\\mathit{p10x} - \\mathit{p11x}\\right)} {\\left(\\sqrt{{\\left({\\lambda} + 2 \\, \\mathit{p11y} + 1\\right)}^{2} + {\\left(\\mathit{p10x} - \\mathit{p11x}\\right)}^{2}} - 2\\right)}}{2 \\, \\sqrt{{\\left({\\lambda} + 2 \\, \\mathit{p11y} + 1\\right)}^{2} + {\\left(\\mathit{p10x} - \\mathit{p11x}\\right)}^{2}}} + \\frac{{\\left(\\mathit{p10x} - \\mathit{p11x}\\right)} {\\left(\\sqrt{{\\left({\\lambda} - 2 \\, \\mathit{p11y} + 1\\right)}^{2} + {\\left(\\mathit{p10x} - \\mathit{p11x}\\right)}^{2}} - 2\\right)}}{2 \\, \\sqrt{{\\left({\\lambda} - 2 \\, \\mathit{p11y} + 1\\right)}^{2} + {\\left(\\mathit{p10x} - \\mathit{p11x}\\right)}^{2}}} + \\frac{2 \\, {\\left(\\mathit{p10x} - 1\\right)} {\\left(\\sqrt{{\\left(\\mathit{p10x} - 1\\right)}^{2} + {\\left(\\mathit{p10y} - \\mathit{p11y}\\right)}^{2}} - 1\\right)}}{\\sqrt{{\\left(\\mathit{p10x} - 1\\right)}^{2} + {\\left(\\mathit{p10y} - \\mathit{p11y}\\right)}^{2}}} $"
      ],
      "text/plain": [
       "<IPython.core.display.Markdown object>"
      ]
     },
     "metadata": {},
     "output_type": "display_data"
    }
   ],
   "source": [
    "lprint(tfuncs[3])"
   ]
  },
  {
   "cell_type": "markdown",
   "metadata": {},
   "source": [
    "## Running the implicit function theorem"
   ]
  },
  {
   "cell_type": "code",
   "execution_count": 75,
   "metadata": {},
   "outputs": [
    {
     "data": {
      "text/plain": [
       "{'p10x': 0, 'p10y': 0, 'p11x': 0, 'p11y': 0, 'l': 0}"
      ]
     },
     "execution_count": 75,
     "metadata": {},
     "output_type": "execute_result"
    }
   ],
   "source": [
    "position = {key : 0 for key in var_dict_old.keys()}\n",
    "position"
   ]
  },
  {
   "cell_type": "code",
   "execution_count": 76,
   "metadata": {},
   "outputs": [],
   "source": [
    "#code_funcs = [tfuncs[index].function(*list(var_dict_old.values())) for index in [0,1,2,3,4,5,6]] # careful with computer science indexing from zero\n",
    "code_funcs = [tfuncs[index] for index in [0,1,2]] # the last function has degenerate first derivative always\n",
    "position = {key : 0 for key in var_dict_old.keys()}\n",
    "# var_dict already loaded\n",
    "var_dict = {'y1' : p10y, 'y2' : p11x, 'y3' : p11y, 'x1' : l, 'x2' : p10x}\n",
    "x_var_keys = ['l', 'p10x'] # the variables in the kernel\n",
    "x_dim = 2\n",
    "y_dim = 3 # invertible part"
   ]
  },
  {
   "cell_type": "code",
   "execution_count": 77,
   "metadata": {},
   "outputs": [
    {
     "data": {
      "text/plain": [
       "dict_keys(['y1', 'y2', 'y3', 'x1', 'x2'])"
      ]
     },
     "execution_count": 77,
     "metadata": {},
     "output_type": "execute_result"
    }
   ],
   "source": [
    "var_dict.keys()"
   ]
  },
  {
   "cell_type": "code",
   "execution_count": 78,
   "metadata": {},
   "outputs": [
    {
     "name": "stdout",
     "output_type": "stream",
     "text": [
      "computing Taylor approximaton to 3 order for speedup\n"
     ]
    }
   ],
   "source": [
    "t_dict = TensorDict(code_funcs, position, var_dict, x_dim, y_dim)"
   ]
  },
  {
   "cell_type": "code",
   "execution_count": 79,
   "metadata": {},
   "outputs": [
    {
     "name": "stderr",
     "output_type": "stream",
     "text": [
      "100%|██████████| 1/1 [00:00<00:00, 2728.89it/s]\n",
      "100%|██████████| 1/1 [00:00<00:00,  4.20it/s]\n"
     ]
    },
    {
     "name": "stdout",
     "output_type": "stream",
     "text": [
      "[1 0 0]\n",
      "[0 1 0]\n",
      "[0 0 1]\n"
     ]
    },
    {
     "name": "stderr",
     "output_type": "stream",
     "text": [
      "100%|██████████| 2/2 [00:00<00:00, 2862.03it/s]\n",
      "100%|██████████| 4/4 [00:02<00:00,  1.92it/s]\n"
     ]
    },
    {
     "name": "stdout",
     "output_type": "stream",
     "text": [
      "[1 0 0]\n",
      "[0 1 0]\n",
      "[0 0 1]\n"
     ]
    },
    {
     "name": "stderr",
     "output_type": "stream",
     "text": [
      "100%|██████████| 3/3 [00:00<00:00, 1628.86it/s]\n",
      "100%|██████████| 14/14 [00:09<00:00,  1.55it/s]\n"
     ]
    },
    {
     "name": "stdout",
     "output_type": "stream",
     "text": [
      "[1 0 0]\n",
      "[0 1 0]\n",
      "[0 0 1]\n"
     ]
    }
   ],
   "source": [
    "out = get_hkx_polynomial(code_funcs, 3, x_dim, y_dim, var_dict, x_var_keys, t_dict, position)"
   ]
  },
  {
   "cell_type": "code",
   "execution_count": 80,
   "metadata": {},
   "outputs": [
    {
     "data": {
      "text/markdown": [
       "$ \\left[0, 0, 0\\right] $"
      ],
      "text/plain": [
       "<IPython.core.display.Markdown object>"
      ]
     },
     "metadata": {},
     "output_type": "display_data"
    }
   ],
   "source": [
    "lprint(out)"
   ]
  },
  {
   "cell_type": "code",
   "execution_count": 65,
   "metadata": {},
   "outputs": [
    {
     "data": {
      "text/plain": [
       "{'fX': <__main__.SymbolicXYVectorTensor object at 0x6ffe3bc81bd0>, 'hX': <__main__.SymbolicXYVectorTensor object at 0x6ffe3d751690>, 'fXX': <__main__.SymbolicXYVectorTensor object at 0x6ffe3bc54ed0>, 'fXY': <__main__.SymbolicXYVectorTensor object at 0x6ffe3bc5b0d0>, 'fYY': <__main__.SymbolicXYVectorTensor object at 0x6ffe3d75f190>, 'hXX': <__main__.SymbolicXYVectorTensor object at 0x6ffe3f8d6f90>, 'fXXX': <__main__.SymbolicXYVectorTensor object at 0x6ffe3bcde150>, 'fXXY': <__main__.SymbolicXYVectorTensor object at 0x6ffe3bc6a750>, 'fXYY': <__main__.SymbolicXYVectorTensor object at 0x6ffe41a095d0>, 'fYYY': <__main__.SymbolicXYVectorTensor object at 0x6ffe3bcdec90>, 'hXXX': <__main__.SymbolicXYVectorTensor object at 0x6ffe40514050>}"
      ]
     },
     "execution_count": 65,
     "metadata": {},
     "output_type": "execute_result"
    }
   ],
   "source": [
    "t_dict"
   ]
  },
  {
   "cell_type": "code",
   "execution_count": 98,
   "metadata": {},
   "outputs": [
    {
     "data": {
      "text/html": [
       "<div>\n",
       "<style scoped>\n",
       "    .dataframe tbody tr th:only-of-type {\n",
       "        vertical-align: middle;\n",
       "    }\n",
       "\n",
       "    .dataframe tbody tr th {\n",
       "        vertical-align: top;\n",
       "    }\n",
       "\n",
       "    .dataframe thead th {\n",
       "        text-align: right;\n",
       "    }\n",
       "</style>\n",
       "<table border=\"1\" class=\"dataframe\">\n",
       "  <thead>\n",
       "    <tr style=\"text-align: right;\">\n",
       "      <th></th>\n",
       "      <th></th>\n",
       "      <th></th>\n",
       "      <th>data</th>\n",
       "    </tr>\n",
       "    <tr>\n",
       "      <th>1</th>\n",
       "      <th>2</th>\n",
       "      <th>3</th>\n",
       "      <th></th>\n",
       "    </tr>\n",
       "  </thead>\n",
       "  <tbody>\n",
       "    <tr>\n",
       "      <th rowspan=\"4\" valign=\"top\">x1</th>\n",
       "      <th rowspan=\"2\" valign=\"top\">x1</th>\n",
       "      <th>x1</th>\n",
       "      <td>0</td>\n",
       "    </tr>\n",
       "    <tr>\n",
       "      <th>x2</th>\n",
       "      <td>0</td>\n",
       "    </tr>\n",
       "    <tr>\n",
       "      <th rowspan=\"2\" valign=\"top\">x2</th>\n",
       "      <th>x1</th>\n",
       "      <td>0</td>\n",
       "    </tr>\n",
       "    <tr>\n",
       "      <th>x2</th>\n",
       "      <td>0</td>\n",
       "    </tr>\n",
       "    <tr>\n",
       "      <th rowspan=\"4\" valign=\"top\">x2</th>\n",
       "      <th rowspan=\"2\" valign=\"top\">x1</th>\n",
       "      <th>x1</th>\n",
       "      <td>0</td>\n",
       "    </tr>\n",
       "    <tr>\n",
       "      <th>x2</th>\n",
       "      <td>0</td>\n",
       "    </tr>\n",
       "    <tr>\n",
       "      <th rowspan=\"2\" valign=\"top\">x2</th>\n",
       "      <th>x1</th>\n",
       "      <td>0</td>\n",
       "    </tr>\n",
       "    <tr>\n",
       "      <th>x2</th>\n",
       "      <td>0</td>\n",
       "    </tr>\n",
       "  </tbody>\n",
       "</table>\n",
       "</div>"
      ],
      "text/plain": [
       "         data\n",
       "1  2  3      \n",
       "x1 x1 x1    0\n",
       "      x2    0\n",
       "   x2 x1    0\n",
       "      x2    0\n",
       "x2 x1 x1    0\n",
       "      x2    0\n",
       "   x2 x1    0\n",
       "      x2    0"
      ]
     },
     "execution_count": 98,
     "metadata": {},
     "output_type": "execute_result"
    }
   ],
   "source": [
    "t_dict['fXXX'].tensors[2].data"
   ]
  },
  {
   "cell_type": "markdown",
   "metadata": {},
   "source": [
    "## Testing the implicit function theorem"
   ]
  },
  {
   "cell_type": "code",
   "execution_count": null,
   "metadata": {},
   "outputs": [],
   "source": [
    "subbed = [func(p10y = out[0], p11x = out[1], p11y = out[2]) for func in tfuncs]"
   ]
  },
  {
   "cell_type": "code",
   "execution_count": null,
   "metadata": {},
   "outputs": [],
   "source": [
    "[float(func(l = 0.1, p10x = 0.1)) for func in subbed]"
   ]
  },
  {
   "cell_type": "markdown",
   "metadata": {},
   "source": [
    "the last function remains to be solved"
   ]
  },
  {
   "cell_type": "markdown",
   "metadata": {},
   "source": [
    "### Looking for more solutions"
   ]
  },
  {
   "cell_type": "markdown",
   "metadata": {},
   "source": [
    "Now substitute this into the equation that had degenerate image"
   ]
  },
  {
   "cell_type": "code",
   "execution_count": null,
   "metadata": {},
   "outputs": [],
   "source": [
    "loc = [(value,0) for value in var_dict_old.values() ] + [3]\n",
    "print(loc)"
   ]
  },
  {
   "cell_type": "code",
   "execution_count": null,
   "metadata": {},
   "outputs": [],
   "source": [
    "#lprint(taylor(tfuncs[5], *loc))"
   ]
  },
  {
   "cell_type": "code",
   "execution_count": null,
   "metadata": {},
   "outputs": [],
   "source": [
    "tf_taylor = tfuncs[3].taylor(*[(key,value) for key,value in position.items()],3)\n",
    "#lprint(tf_taylor.polynomial(SR))"
   ]
  },
  {
   "cell_type": "code",
   "execution_count": null,
   "metadata": {},
   "outputs": [],
   "source": [
    "#var_dict_old"
   ]
  },
  {
   "cell_type": "code",
   "execution_count": null,
   "metadata": {},
   "outputs": [],
   "source": [
    "tf_sub = tf_taylor(p10y = out[0], p11x = out[1], p11y = out[2])"
   ]
  },
  {
   "cell_type": "code",
   "execution_count": null,
   "metadata": {},
   "outputs": [],
   "source": [
    "local = symbolic_expression(sum([a[0]*a[1] for a in tf_sub.polynomial(SR) if a[1].degree() <= 2]))\n",
    "#local = tf_sub.polynomial(SR).truncate(4)\n",
    "lprint(local)"
   ]
  },
  {
   "cell_type": "markdown",
   "metadata": {},
   "source": [
    "We see that this will have solutions, therefore the point $\\lambda$ is indeed a bifurcation point, and if we fix the $p10x$ variable at zero then $\\lambda$ will span the local solutions."
   ]
  },
  {
   "cell_type": "code",
   "execution_count": null,
   "metadata": {},
   "outputs": [],
   "source": [
    "lprint(solve(local, p10x))"
   ]
  },
  {
   "cell_type": "code",
   "execution_count": null,
   "metadata": {},
   "outputs": [],
   "source": [
    "implicit_plot(local, (-1,5), (-5,5))"
   ]
  },
  {
   "cell_type": "markdown",
   "metadata": {},
   "source": [
    "Now we can inspect the value of the kernel to see what the new solutions look like"
   ]
  },
  {
   "cell_type": "code",
   "execution_count": null,
   "metadata": {},
   "outputs": [],
   "source": [
    "sols = out + [0.1] # try xi = 0.1 to start with"
   ]
  },
  {
   "cell_type": "code",
   "execution_count": null,
   "metadata": {},
   "outputs": [],
   "source": [
    "fsols = list(A*vector(sols)(l = 2))\n",
    "fsols"
   ]
  },
  {
   "cell_type": "markdown",
   "metadata": {},
   "source": [
    "### Generating more solutions"
   ]
  },
  {
   "cell_type": "markdown",
   "metadata": {},
   "source": [
    "We have solved $f \\circ A$ where $A$ orthogonalised the kernel, thus by applying $A$ we can get a traversel of the new solutions."
   ]
  },
  {
   "cell_type": "code",
   "execution_count": null,
   "metadata": {},
   "outputs": [],
   "source": [
    "eps = 0.01"
   ]
  },
  {
   "cell_type": "code",
   "execution_count": null,
   "metadata": {},
   "outputs": [],
   "source": [
    "strand = solve(local, p10x)[0].rhs()\n",
    "\n",
    "out2 = [exp(p10x = strand) for exp in out]\n",
    "sols = [strand] + out2\n",
    "#[sol(l = 0.01) for sol in sols]\n",
    "\n",
    "#sols = [0.1] + [exp(p10x = 0.1, l = 0.1) for exp in out]\n",
    "#[sol(l = 0.001) for sol in sols]\n",
    "#lprint(sols)"
   ]
  },
  {
   "cell_type": "code",
   "execution_count": null,
   "metadata": {},
   "outputs": [],
   "source": [
    "strand"
   ]
  },
  {
   "cell_type": "code",
   "execution_count": null,
   "metadata": {},
   "outputs": [],
   "source": [
    "strand(l = eps) # the big scaling means we need to choose a very small lambda"
   ]
  },
  {
   "cell_type": "code",
   "execution_count": null,
   "metadata": {},
   "outputs": [],
   "source": [
    "#subbed = [func(p10y = out[0], p11x = out[1], p11y = out[2], p20x = out[3], p21x = out[4]) for func in tfuncs]\n",
    "\n",
    "subbed = [func(p10x = sols[0], p10y = sols[1], p11x = sols[2], p11y = sols[3], p20x = sols[4], p21x = sols[5]) for func in tfuncs]\n",
    "[float(func(l = eps)) for func in subbed]"
   ]
  },
  {
   "cell_type": "code",
   "execution_count": null,
   "metadata": {},
   "outputs": [],
   "source": [
    "#lprint(A*vector(sols))"
   ]
  },
  {
   "cell_type": "code",
   "execution_count": null,
   "metadata": {},
   "outputs": [],
   "source": [
    "fsols = list(A*vector(sols)(l = eps))\n",
    "fsols"
   ]
  },
  {
   "cell_type": "code",
   "execution_count": null,
   "metadata": {},
   "outputs": [],
   "source": [
    "#fsols = [random.random()/1000 for i in range(0,6)] # can check these are giving solutions"
   ]
  },
  {
   "cell_type": "code",
   "execution_count": null,
   "metadata": {},
   "outputs": [],
   "source": [
    "coords = { list(var_dict_old.keys())[i] : fsols[i] for i in [0,1,2,3,4,5] }\n",
    "coords['l'] = eps\n",
    "coords"
   ]
  },
  {
   "cell_type": "code",
   "execution_count": null,
   "metadata": {},
   "outputs": [],
   "source": [
    "funcs[0].function(*list(var_dict_old.values()))(**coords)"
   ]
  },
  {
   "cell_type": "code",
   "execution_count": null,
   "metadata": {},
   "outputs": [],
   "source": [
    "sym_funcs = [func.function(*list(var_dict_old.values())) for func in funcs] # convert to symbolic functions"
   ]
  },
  {
   "cell_type": "code",
   "execution_count": null,
   "metadata": {},
   "outputs": [],
   "source": [
    "[float(func(**coords)) for func in sym_funcs]"
   ]
  },
  {
   "cell_type": "code",
   "execution_count": null,
   "metadata": {},
   "outputs": [],
   "source": [
    "lprint(A)"
   ]
  },
  {
   "cell_type": "code",
   "execution_count": null,
   "metadata": {},
   "outputs": [],
   "source": [
    "lprint(sym_funcs[0])"
   ]
  },
  {
   "cell_type": "code",
   "execution_count": null,
   "metadata": {},
   "outputs": [],
   "source": [
    "mutate_dict"
   ]
  },
  {
   "cell_type": "code",
   "execution_count": null,
   "metadata": {},
   "outputs": [],
   "source": [
    "lprint(sym_funcs[4])"
   ]
  },
  {
   "cell_type": "code",
   "execution_count": null,
   "metadata": {},
   "outputs": [],
   "source": []
  },
  {
   "cell_type": "code",
   "execution_count": null,
   "metadata": {},
   "outputs": [],
   "source": []
  },
  {
   "cell_type": "markdown",
   "metadata": {},
   "source": [
    "### "
   ]
  }
 ],
 "metadata": {
  "kernelspec": {
   "display_name": "SageMath 9.2",
   "language": "sage",
   "name": "sagemath"
  },
  "language_info": {
   "codemirror_mode": {
    "name": "ipython",
    "version": 3
   },
   "file_extension": ".py",
   "mimetype": "text/x-python",
   "name": "python",
   "nbconvert_exporter": "python",
   "pygments_lexer": "ipython3",
   "version": "3.7.7"
  }
 },
 "nbformat": 4,
 "nbformat_minor": 4
}
