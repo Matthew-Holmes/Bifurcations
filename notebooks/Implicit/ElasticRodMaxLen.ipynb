{
 "cells": [
  {
   "cell_type": "markdown",
   "metadata": {},
   "source": [
    "# Elastic Rod Model"
   ]
  },
  {
   "cell_type": "code",
   "execution_count": 61,
   "metadata": {},
   "outputs": [],
   "source": [
    "from IPython.display import display, Markdown\n",
    "import random\n",
    "def latexify(x):\n",
    "    out = '$' + x + '$'\n",
    "    return out\n",
    "\n",
    "def lprint(x):\n",
    "    display(Markdown(latexify(latex(x))))\n",
    "    \n",
    "%run -i 'implicit.py'\n",
    "\n",
    "import matplotlib.pyplot as plt"
   ]
  },
  {
   "cell_type": "markdown",
   "metadata": {},
   "source": [
    "In this notebook a discretisation of the elastic rod bifurcation problem will be investigated"
   ]
  },
  {
   "cell_type": "markdown",
   "metadata": {},
   "source": [
    "here we consider rods connected by elastic joints that resist angular perturbation, with a forcing action attempting to squash the rod"
   ]
  },
  {
   "cell_type": "code",
   "execution_count": 62,
   "metadata": {},
   "outputs": [
    {
     "data": {
      "text/markdown": [
       "$ \\arcsin\\left(x\\right) $"
      ],
      "text/plain": [
       "<IPython.core.display.Markdown object>"
      ]
     },
     "metadata": {},
     "output_type": "display_data"
    }
   ],
   "source": [
    "var('x')\n",
    "\n",
    "lprint(arcsin(x))"
   ]
  },
  {
   "cell_type": "code",
   "execution_count": 91,
   "metadata": {},
   "outputs": [],
   "source": [
    "def get_funcs(n):\n",
    "    # returns a set of equations to solve\n",
    "\n",
    "    var_dict = {}\n",
    "    for i in range(0,n):\n",
    "        # theta is the angle from the horizontal the ith line branches from\n",
    "        var_dict['theta{}'.format(i)] = var('theta{}'.format(i), latex_name = r'\\theta_{}'.format(i))\n",
    "        \n",
    "    var_dict['theta{}'.format(n)] = 0 # will update\n",
    "        \n",
    "    # compute the last theta, since must have the endpoints both zero on the vertical\n",
    "    for i in range(0,n):\n",
    "        var_dict['theta{}'.format(n)] = var_dict['theta{}'.format(n)] - sin(var_dict['theta{}'.format(i)])\n",
    "        \n",
    "    var_dict['theta{}'.format(n)] = arcsin(var_dict['theta{}'.format(n)])\n",
    "    \n",
    "    var_dict['l'] = var('l', latex_name=r'\\lambda') # compressive force\n",
    "   \n",
    "    \n",
    "    funcs = []\n",
    "    energy = 0\n",
    "    for j in range(1,n+1):\n",
    "        # iterate through each spring in the rod\n",
    "        e_spring = (var_dict['theta{}'.format(j-1)] - var_dict['theta{}'.format(j)])^2 \n",
    "        # since pi - (pi - theta0 - theta1) e.g\n",
    "        energy = energy + e_spring\n",
    "        \n",
    "    hoz = 0\n",
    "    for i in range(0,n+1):\n",
    "        # total horizontal extension\n",
    "        hoz = hoz + cos(var_dict['theta{}'.format(i)])\n",
    "           \n",
    "    # take away the work done by the force\n",
    "    energy = energy - var_dict['l']*(n + 1 - hoz)\n",
    "            \n",
    "    # solutions will be local minima of the energy equation\n",
    "    for j in range(0,n):\n",
    "        #don't care about the last angle\n",
    "        funcs.append(energy.diff(var_dict['theta{}'.format(j)]))\n",
    "        \n",
    "    del var_dict['theta{}'.format(n)] # this was just a latent variable\n",
    "        \n",
    "    return funcs, var_dict\n",
    "    "
   ]
  },
  {
   "cell_type": "code",
   "execution_count": 92,
   "metadata": {},
   "outputs": [],
   "source": [
    "funcs, var_dict = get_funcs(7)"
   ]
  },
  {
   "cell_type": "code",
   "execution_count": 93,
   "metadata": {},
   "outputs": [
    {
     "data": {
      "text/markdown": [
       "$ -{\\left(\\frac{{\\left(\\sin\\left({\\theta_0}\\right) + \\sin\\left({\\theta_1}\\right) + \\sin\\left({\\theta_2}\\right) + \\sin\\left({\\theta_3}\\right) + \\sin\\left({\\theta_4}\\right) + \\sin\\left({\\theta_5}\\right) + \\sin\\left({\\theta_6}\\right)\\right)} \\cos\\left({\\theta_6}\\right)}{\\sqrt{-{\\left(\\sin\\left({\\theta_0}\\right) + \\sin\\left({\\theta_1}\\right) + \\sin\\left({\\theta_2}\\right) + \\sin\\left({\\theta_3}\\right) + \\sin\\left({\\theta_4}\\right) + \\sin\\left({\\theta_5}\\right) + \\sin\\left({\\theta_6}\\right)\\right)}^{2} + 1}} + \\sin\\left({\\theta_6}\\right)\\right)} {\\lambda} + 2 \\, {\\left({\\theta_6} - \\arcsin\\left(-\\sin\\left({\\theta_0}\\right) - \\sin\\left({\\theta_1}\\right) - \\sin\\left({\\theta_2}\\right) - \\sin\\left({\\theta_3}\\right) - \\sin\\left({\\theta_4}\\right) - \\sin\\left({\\theta_5}\\right) - \\sin\\left({\\theta_6}\\right)\\right)\\right)} {\\left(\\frac{\\cos\\left({\\theta_6}\\right)}{\\sqrt{-{\\left(\\sin\\left({\\theta_0}\\right) + \\sin\\left({\\theta_1}\\right) + \\sin\\left({\\theta_2}\\right) + \\sin\\left({\\theta_3}\\right) + \\sin\\left({\\theta_4}\\right) + \\sin\\left({\\theta_5}\\right) + \\sin\\left({\\theta_6}\\right)\\right)}^{2} + 1}} + 1\\right)} - 2 \\, {\\theta_5} + 2 \\, {\\theta_6} $"
      ],
      "text/plain": [
       "<IPython.core.display.Markdown object>"
      ]
     },
     "metadata": {},
     "output_type": "display_data"
    }
   ],
   "source": [
    "lprint(funcs[6])"
   ]
  },
  {
   "cell_type": "code",
   "execution_count": 94,
   "metadata": {},
   "outputs": [
    {
     "data": {
      "text/plain": [
       "{'theta0': theta0,\n",
       " 'theta1': theta1,\n",
       " 'theta2': theta2,\n",
       " 'theta3': theta3,\n",
       " 'theta4': theta4,\n",
       " 'theta5': theta5,\n",
       " 'theta6': theta6,\n",
       " 'l': l}"
      ]
     },
     "execution_count": 94,
     "metadata": {},
     "output_type": "execute_result"
    }
   ],
   "source": [
    "var_dict"
   ]
  },
  {
   "cell_type": "code",
   "execution_count": 95,
   "metadata": {},
   "outputs": [],
   "source": [
    "#lprint(funcs)"
   ]
  },
  {
   "cell_type": "markdown",
   "metadata": {},
   "source": [
    "See that we have trivial solutions"
   ]
  },
  {
   "cell_type": "code",
   "execution_count": 96,
   "metadata": {},
   "outputs": [
    {
     "data": {
      "text/markdown": [
       "$ \\left(\\begin{array}{rrrrrrr}\n",
       "-2 \\, {\\lambda} + 4 & -{\\lambda} & -{\\lambda} + 2 & -{\\lambda} + 2 & -{\\lambda} + 2 & -{\\lambda} + 2 & -{\\lambda} + 4 \\\\\n",
       "-{\\lambda} & -2 \\, {\\lambda} + 6 & -{\\lambda} & -{\\lambda} + 2 & -{\\lambda} + 2 & -{\\lambda} + 2 & -{\\lambda} + 4 \\\\\n",
       "-{\\lambda} + 2 & -{\\lambda} & -2 \\, {\\lambda} + 6 & -{\\lambda} & -{\\lambda} + 2 & -{\\lambda} + 2 & -{\\lambda} + 4 \\\\\n",
       "-{\\lambda} + 2 & -{\\lambda} + 2 & -{\\lambda} & -2 \\, {\\lambda} + 6 & -{\\lambda} & -{\\lambda} + 2 & -{\\lambda} + 4 \\\\\n",
       "-{\\lambda} + 2 & -{\\lambda} + 2 & -{\\lambda} + 2 & -{\\lambda} & -2 \\, {\\lambda} + 6 & -{\\lambda} & -{\\lambda} + 4 \\\\\n",
       "-{\\lambda} + 2 & -{\\lambda} + 2 & -{\\lambda} + 2 & -{\\lambda} + 2 & -{\\lambda} & -2 \\, {\\lambda} + 6 & -{\\lambda} + 2 \\\\\n",
       "-{\\lambda} + 4 & -{\\lambda} + 4 & -{\\lambda} + 4 & -{\\lambda} + 4 & -{\\lambda} + 4 & -{\\lambda} + 2 & -2 \\, {\\lambda} + 10\n",
       "\\end{array}\\right) $"
      ],
      "text/plain": [
       "<IPython.core.display.Markdown object>"
      ]
     },
     "metadata": {},
     "output_type": "display_data"
    }
   ],
   "source": [
    "old_var = var_dict\n",
    "var_dict = {key : var_dict[key] for key in var_dict.keys() if var_dict[key] != 0}\n",
    "var_dict = {key : var_dict[key] for key in var_dict.keys() if key != 'l'}\n",
    "\n",
    "J = jacobian(funcs,tuple(var_dict.values()))(**{var : 0 for var in var_dict.keys()}).apply_map(lambda x: x.full_simplify())\n",
    "lprint(J)"
   ]
  },
  {
   "cell_type": "code",
   "execution_count": 97,
   "metadata": {},
   "outputs": [
    {
     "data": {
      "text/markdown": [
       "$ -8 \\, {\\lambda}^{7} + 224 \\, {\\lambda}^{6} - 2496 \\, {\\lambda}^{5} + 14080 \\, {\\lambda}^{4} - 42240 \\, {\\lambda}^{3} + 64512 \\, {\\lambda}^{2} - 43008 \\, {\\lambda} + 8192 $"
      ],
      "text/plain": [
       "<IPython.core.display.Markdown object>"
      ]
     },
     "metadata": {},
     "output_type": "display_data"
    }
   ],
   "source": [
    "lprint(det(matrix(J))) # potential bifurcation point"
   ]
  },
  {
   "cell_type": "code",
   "execution_count": 98,
   "metadata": {},
   "outputs": [
    {
     "data": {
      "text/markdown": [
       "$ \\left[{\\lambda} = -2 \\, \\sqrt{2} + 4, {\\lambda} = 2 \\, \\sqrt{2} + 4, {\\lambda} = 4, {\\lambda} = -\\frac{1}{2} \\, \\sqrt{-16 \\, \\sqrt{2} + 32} + 4, {\\lambda} = \\frac{1}{2} \\, \\sqrt{-16 \\, \\sqrt{2} + 32} + 4, {\\lambda} = -2 \\, \\sqrt{\\sqrt{2} + 2} + 4, {\\lambda} = 2 \\, \\sqrt{\\sqrt{2} + 2} + 4\\right] $"
      ],
      "text/plain": [
       "<IPython.core.display.Markdown object>"
      ]
     },
     "metadata": {},
     "output_type": "display_data"
    }
   ],
   "source": [
    "bifs = list(solve(det(matrix(J)), l))\n",
    "lprint(bifs)"
   ]
  },
  {
   "cell_type": "code",
   "execution_count": 99,
   "metadata": {},
   "outputs": [
    {
     "data": {
      "text/plain": [
       "[1.1715728752538097,\n",
       " 6.82842712474619,\n",
       " 4.0,\n",
       " 2.469266270539641,\n",
       " 5.5307337294603585,\n",
       " 0.30448186995485305,\n",
       " 7.695518130045147]"
      ]
     },
     "execution_count": 99,
     "metadata": {},
     "output_type": "execute_result"
    }
   ],
   "source": [
    "[float(bif.rhs()) for bif in bifs]"
   ]
  },
  {
   "cell_type": "markdown",
   "metadata": {},
   "source": [
    "Lets loop throught the bifurcations forces and see the shapes produced as the force increases"
   ]
  },
  {
   "cell_type": "code",
   "execution_count": 100,
   "metadata": {},
   "outputs": [
    {
     "name": "stderr",
     "output_type": "stream",
     "text": [
      "100%|██████████| 7/7 [00:00<00:00, 27.17it/s]\n"
     ]
    }
   ],
   "source": [
    "bif_tuples = []\n",
    "\n",
    "for i in tqdm.tqdm([5,0,3,2,4,1,6]):\n",
    "    bif_funcs = [func(l = bifs[i].rhs()) for func in funcs]\n",
    "    J = jacobian(bif_funcs,tuple(var_dict.values()))(**{var : 0 for var in var_dict.keys()}).apply_map(lambda x : float(x))\n",
    "    # do floating point since we are only looking right now\n",
    "    K = [epair for epair in J.eigenvectors_right() if abs(epair[0]) < 10e-15][0][1][0] # since float now a solution is found as a highly degenerate eigenvector\n",
    "    bif_tuples.append((bifs[i].rhs(), K))"
   ]
  },
  {
   "cell_type": "code",
   "execution_count": 101,
   "metadata": {},
   "outputs": [
    {
     "data": {
      "text/markdown": [
       "$ -2 \\, \\sqrt{\\sqrt{2} + 2} + 4 $"
      ],
      "text/plain": [
       "<IPython.core.display.Markdown object>"
      ]
     },
     "metadata": {},
     "output_type": "display_data"
    },
    {
     "name": "stdout",
     "output_type": "stream",
     "text": [
      "(0.5626984894385378, 0.47703274529602996, 0.31874308999480544, 0.11192768865517755, -0.11192768865517722, -0.3187430899948053, -0.47703274529602985)\n"
     ]
    },
    {
     "data": {
      "text/markdown": [
       "$ -2 \\, \\sqrt{2} + 4 $"
      ],
      "text/plain": [
       "<IPython.core.display.Markdown object>"
      ]
     },
     "metadata": {},
     "output_type": "display_data"
    },
    {
     "name": "stdout",
     "output_type": "stream",
     "text": [
      "(0.5208409981466111, 0.21573940527226654, -0.21573940527226643, -0.5208409981466114, -0.5208409981466113, -0.2157394052722664, 0.21573940527226682)\n"
     ]
    },
    {
     "data": {
      "text/markdown": [
       "$ -\\frac{1}{2} \\, \\sqrt{-16 \\, \\sqrt{2} + 32} + 4 $"
      ],
      "text/plain": [
       "<IPython.core.display.Markdown object>"
      ]
     },
     "metadata": {},
     "output_type": "display_data"
    },
    {
     "name": "stdout",
     "output_type": "stream",
     "text": [
      "(-0.4571096858435821, 0.10725307875168272, 0.5391976384604162, 0.3054309272666829, -0.30543092726668414, -0.5391976384604169, -0.10725307875168247)\n"
     ]
    },
    {
     "data": {
      "text/markdown": [
       "$ 4 $"
      ],
      "text/plain": [
       "<IPython.core.display.Markdown object>"
      ]
     },
     "metadata": {},
     "output_type": "display_data"
    },
    {
     "name": "stdout",
     "output_type": "stream",
     "text": [
      "(-0.3779644730092271, 0.3779644730092271, 0.37796447300922714, -0.37796447300922714, -0.3779644730092273, 0.37796447300922714, 0.37796447300922753)\n"
     ]
    },
    {
     "data": {
      "text/markdown": [
       "$ \\frac{1}{2} \\, \\sqrt{-16 \\, \\sqrt{2} + 32} + 4 $"
      ],
      "text/plain": [
       "<IPython.core.display.Markdown object>"
      ]
     },
     "metadata": {},
     "output_type": "display_data"
    },
    {
     "name": "stdout",
     "output_type": "stream",
     "text": [
      "(0.2891657441314018, -0.5104836231046228, 0.10154150598028569, 0.4327671190325108, -0.43276711903251086, -0.10154150598028558, 0.5104836231046229)\n"
     ]
    },
    {
     "data": {
      "text/markdown": [
       "$ 2 \\, \\sqrt{2} + 4 $"
      ],
      "text/plain": [
       "<IPython.core.display.Markdown object>"
      ]
     },
     "metadata": {},
     "output_type": "display_data"
    },
    {
     "name": "stdout",
     "output_type": "stream",
     "text": [
      "(-0.19494359482964688, 0.4706354705354995, -0.47063547053549987, 0.19494359482964765, 0.19494359482964654, -0.4706354705354989, 0.47063547053549915)\n"
     ]
    },
    {
     "data": {
      "text/markdown": [
       "$ 2 \\, \\sqrt{\\sqrt{2} + 2} + 4 $"
      ],
      "text/plain": [
       "<IPython.core.display.Markdown object>"
      ]
     },
     "metadata": {},
     "output_type": "display_data"
    },
    {
     "name": "stdout",
     "output_type": "stream",
     "text": [
      "(-0.09801257320997027, 0.27911619384488096, -0.417726904161507, 0.49274248002335924, -0.4927424800233584, 0.4177269041615067, -0.279116193844881)\n"
     ]
    }
   ],
   "source": [
    "for bif_tuple in bif_tuples:\n",
    "    lprint(bif_tuple[0])\n",
    "    print(bif_tuple[1])"
   ]
  },
  {
   "cell_type": "code",
   "execution_count": 131,
   "metadata": {},
   "outputs": [],
   "source": [
    "def angles_to_coords(angles):\n",
    "    # produces the coordinates of a line with angles inputted\n",
    "    coords = []\n",
    "    coords.append((0,0))\n",
    "    \n",
    "    sin_sum = sum([sin(angle) for angle in angles])\n",
    "    temp_angles = list(angles)\n",
    "    temp_angles.append(arcsin(-sin_sum))\n",
    "    \n",
    "    for angle in temp_angles:\n",
    "        now = coords[-1]\n",
    "        new_x = now[0] + cos(angle)\n",
    "        new_y = now[1] + sin(angle)\n",
    "        coords.append((new_x, new_y))\n",
    "        \n",
    "        \n",
    "    return coords"
   ]
  },
  {
   "cell_type": "code",
   "execution_count": 133,
   "metadata": {},
   "outputs": [
    {
     "data": {
      "text/plain": [
       "[(0, 0),\n",
       " (0.8458186276196313, 0.5334705701082708),\n",
       " (1.7341798600039402, 0.9926157767658508),\n",
       " (2.6838099100278527, 1.305988985722171),\n",
       " (3.677552542968819, 1.4176831192993438),\n",
       " (4.671295175909786, 1.3059889857221711),\n",
       " (5.620925225933698, 0.9926157767658512),\n",
       " (6.509286458318007, 0.5334705701082714),\n",
       " (7.3551050859376375, 0.0)]"
      ]
     },
     "execution_count": 133,
     "metadata": {},
     "output_type": "execute_result"
    }
   ],
   "source": [
    "angles = tuple(bif_tuples[0][1])\n",
    "\n",
    "angles_to_coords(angles)"
   ]
  },
  {
   "cell_type": "code",
   "execution_count": 265,
   "metadata": {},
   "outputs": [],
   "source": [
    "def plot_angles(angles, save = False, save_name = 'plot1', folder = 'plots', show = True):\n",
    "\n",
    "    plt.axes\n",
    "    plt.xlim([-1,9])\n",
    "    plt.ylim([-4,4])\n",
    "\n",
    "    points = angles_to_coords(tuple(angles))\n",
    "    for i in range(int(0), int(len(points) - 1)):\n",
    "        line = plt.Line2D((points[i][0], points[i+1][0]), (points[i][1], points[i+1][1]), lw=2.5)\n",
    "        plt.gca().add_line(line)\n",
    "    if save is True:\n",
    "        plt.savefig('{}/{}.png'.format(folder, save_name))\n",
    "        \n",
    "    if show is True:\n",
    "        plt.show()\n",
    "        \n",
    "    plt.cla()\n",
    "    return"
   ]
  },
  {
   "cell_type": "code",
   "execution_count": 153,
   "metadata": {},
   "outputs": [
    {
     "data": {
      "image/png": "[encoded data removed]",
      "text/plain": [
       "<Figure size 432x288 with 1 Axes>"
      ]
     },
     "metadata": {
      "needs_background": "light"
     },
     "output_type": "display_data"
    }
   ],
   "source": [
    "angles = tuple(bif_tuples[0][1])\n",
    "plot_angles(angles)"
   ]
  },
  {
   "cell_type": "code",
   "execution_count": 154,
   "metadata": {},
   "outputs": [
    {
     "name": "stdout",
     "output_type": "stream",
     "text": [
      "-2*sqrt(sqrt(2) + 2) + 4\n"
     ]
    },
    {
     "data": {
      "image/png": "[encoded data removed]",
      "text/plain": [
       "<Figure size 432x288 with 1 Axes>"
      ]
     },
     "metadata": {
      "needs_background": "light"
     },
     "output_type": "display_data"
    },
    {
     "name": "stdout",
     "output_type": "stream",
     "text": [
      "-2*sqrt(2) + 4\n"
     ]
    },
    {
     "data": {
      "image/png": "[encoded data removed]",
      "text/plain": [
       "<Figure size 432x288 with 1 Axes>"
      ]
     },
     "metadata": {
      "needs_background": "light"
     },
     "output_type": "display_data"
    },
    {
     "name": "stdout",
     "output_type": "stream",
     "text": [
      "-1/2*sqrt(-16*sqrt(2) + 32) + 4\n"
     ]
    },
    {
     "data": {
      "image/png": "[encoded data removed]",
      "text/plain": [
       "<Figure size 432x288 with 1 Axes>"
      ]
     },
     "metadata": {
      "needs_background": "light"
     },
     "output_type": "display_data"
    },
    {
     "name": "stdout",
     "output_type": "stream",
     "text": [
      "4\n"
     ]
    },
    {
     "data": {
      "image/png": "[encoded data removed]",
      "text/plain": [
       "<Figure size 432x288 with 1 Axes>"
      ]
     },
     "metadata": {
      "needs_background": "light"
     },
     "output_type": "display_data"
    },
    {
     "name": "stdout",
     "output_type": "stream",
     "text": [
      "1/2*sqrt(-16*sqrt(2) + 32) + 4\n"
     ]
    },
    {
     "data": {
      "image/png": "[encoded data removed]",
      "text/plain": [
       "<Figure size 432x288 with 1 Axes>"
      ]
     },
     "metadata": {
      "needs_background": "light"
     },
     "output_type": "display_data"
    },
    {
     "name": "stdout",
     "output_type": "stream",
     "text": [
      "2*sqrt(2) + 4\n"
     ]
    },
    {
     "data": {
      "image/png": "[encoded data removed]",
      "text/plain": [
       "<Figure size 432x288 with 1 Axes>"
      ]
     },
     "metadata": {
      "needs_background": "light"
     },
     "output_type": "display_data"
    },
    {
     "name": "stdout",
     "output_type": "stream",
     "text": [
      "2*sqrt(sqrt(2) + 2) + 4\n"
     ]
    },
    {
     "data": {
      "image/png": "[encoded data removed]",
      "text/plain": [
       "<Figure size 432x288 with 1 Axes>"
      ]
     },
     "metadata": {
      "needs_background": "light"
     },
     "output_type": "display_data"
    }
   ],
   "source": [
    "count = 1\n",
    "for bif_tuple in bif_tuples:\n",
    "    print(bif_tuple[0])\n",
    "    plot_angles(bif_tuple[1], save = True, save_name = 'plot{}'.format(count))\n",
    "    count+=1"
   ]
  },
  {
   "cell_type": "markdown",
   "metadata": {},
   "source": [
    "Lets do the further investigation with the $\\lambda = 4$ case since this will be least computationally intensive"
   ]
  },
  {
   "cell_type": "code",
   "execution_count": 165,
   "metadata": {},
   "outputs": [],
   "source": [
    "bif_funcs = [func(l = 4) for func in funcs]\n",
    "J = jacobian(bif_funcs,tuple(var_dict.values()))(**{var : 0 for var in var_dict.keys()})\n",
    "K = J.right_kernel().basis() # do floating point since we are only looking right now"
   ]
  },
  {
   "cell_type": "code",
   "execution_count": 166,
   "metadata": {},
   "outputs": [
    {
     "data": {
      "text/markdown": [
       "$ \\left(\\begin{array}{rrrrrrr}\n",
       "-4 & -4 & -2 & -2 & -2 & -2 & 0 \\\\\n",
       "-4 & -2 & -4 & -2 & -2 & -2 & 0 \\\\\n",
       "-2 & -4 & -2 & -4 & -2 & -2 & 0 \\\\\n",
       "-2 & -2 & -4 & -2 & -4 & -2 & 0 \\\\\n",
       "-2 & -2 & -2 & -4 & -2 & -4 & 0 \\\\\n",
       "-2 & -2 & -2 & -2 & -4 & -2 & -2 \\\\\n",
       "0 & 0 & 0 & 0 & 0 & -2 & 2\n",
       "\\end{array}\\right) $"
      ],
      "text/plain": [
       "<IPython.core.display.Markdown object>"
      ]
     },
     "metadata": {},
     "output_type": "display_data"
    }
   ],
   "source": [
    "lprint(J)"
   ]
  },
  {
   "cell_type": "code",
   "execution_count": 167,
   "metadata": {},
   "outputs": [
    {
     "data": {
      "text/markdown": [
       "$ \\left(\\begin{array}{rrrrrrr}\n",
       "-4 & -4 & -2 & -2 & -2 & -2 & 0 \\\\\n",
       "-4 & -2 & -4 & -2 & -2 & -2 & 0 \\\\\n",
       "-2 & -4 & -2 & -4 & -2 & -2 & 0 \\\\\n",
       "-2 & -2 & -4 & -2 & -4 & -2 & 0 \\\\\n",
       "-2 & -2 & -2 & -4 & -2 & -4 & 0 \\\\\n",
       "-2 & -2 & -2 & -2 & -4 & -2 & -2 \\\\\n",
       "0 & 0 & 0 & 0 & 0 & -2 & 2\n",
       "\\end{array}\\right) $"
      ],
      "text/plain": [
       "<IPython.core.display.Markdown object>"
      ]
     },
     "metadata": {},
     "output_type": "display_data"
    }
   ],
   "source": [
    "#bif_funcs = [func(l = 2/((32*sqrt(2)) + 36)) for func in funcs] #\n",
    "#bif_funcs = [func(l = (sqrt(2)*(9/4))/((225*sqrt(2))/2 + 108)) for func in funcs] #\n",
    "bif_funcs = [func(l = 4) for func in funcs]\n",
    "#var_dict['l'] = old_var['l']\n",
    "J = jacobian(bif_funcs,tuple(var_dict.values()))(**{var : 0 for var in var_dict.keys()})\n",
    "\n",
    "lprint(J)"
   ]
  },
  {
   "cell_type": "markdown",
   "metadata": {},
   "source": [
    "### Orthogonalising the kernel"
   ]
  },
  {
   "cell_type": "code",
   "execution_count": 168,
   "metadata": {},
   "outputs": [
    {
     "data": {
      "text/markdown": [
       "$ \\left(1.0,\\,-1.0,\\,-1.0,\\,1.0,\\,1.0,\\,-1.0,\\,-1.0\\right) $"
      ],
      "text/plain": [
       "<IPython.core.display.Markdown object>"
      ]
     },
     "metadata": {},
     "output_type": "display_data"
    }
   ],
   "source": [
    "K = J.right_kernel().basis()\n",
    "lprint(K[0].apply_map(lambda x: float(x)))"
   ]
  },
  {
   "cell_type": "code",
   "execution_count": 169,
   "metadata": {},
   "outputs": [
    {
     "data": {
      "text/markdown": [
       "$ \\left[\\left(1,\\,0,\\,0,\\,0,\\,0,\\,0,\\,1\\right), \\left(0,\\,1,\\,0,\\,0,\\,0,\\,0,\\,-1\\right), \\left(0,\\,0,\\,1,\\,0,\\,0,\\,0,\\,-1\\right), \\left(0,\\,0,\\,0,\\,1,\\,0,\\,0,\\,1\\right), \\left(0,\\,0,\\,0,\\,0,\\,1,\\,0,\\,1\\right), \\left(0,\\,0,\\,0,\\,0,\\,0,\\,1,\\,-1\\right)\\right] $"
      ],
      "text/plain": [
       "<IPython.core.display.Markdown object>"
      ]
     },
     "metadata": {},
     "output_type": "display_data"
    }
   ],
   "source": [
    "Kperp = matrix(K).right_kernel().basis()\n",
    "lprint(Kperp)"
   ]
  },
  {
   "cell_type": "code",
   "execution_count": 170,
   "metadata": {},
   "outputs": [
    {
     "data": {
      "text/markdown": [
       "$ \\left(\\begin{array}{rrrrrrr}\n",
       "\\frac{1}{7} & \\frac{6}{7} & \\frac{1}{7} & \\frac{1}{7} & -\\frac{1}{7} & -\\frac{1}{7} & \\frac{1}{7} \\\\\n",
       "-\\frac{1}{7} & \\frac{1}{7} & \\frac{6}{7} & -\\frac{1}{7} & \\frac{1}{7} & \\frac{1}{7} & -\\frac{1}{7} \\\\\n",
       "-\\frac{1}{7} & \\frac{1}{7} & -\\frac{1}{7} & \\frac{6}{7} & \\frac{1}{7} & \\frac{1}{7} & -\\frac{1}{7} \\\\\n",
       "\\frac{1}{7} & -\\frac{1}{7} & \\frac{1}{7} & \\frac{1}{7} & \\frac{6}{7} & -\\frac{1}{7} & \\frac{1}{7} \\\\\n",
       "\\frac{1}{7} & -\\frac{1}{7} & \\frac{1}{7} & \\frac{1}{7} & -\\frac{1}{7} & \\frac{6}{7} & \\frac{1}{7} \\\\\n",
       "-\\frac{1}{7} & \\frac{1}{7} & -\\frac{1}{7} & -\\frac{1}{7} & \\frac{1}{7} & \\frac{1}{7} & \\frac{6}{7} \\\\\n",
       "-\\frac{1}{7} & \\frac{1}{7} & -\\frac{1}{7} & -\\frac{1}{7} & \\frac{1}{7} & \\frac{1}{7} & -\\frac{1}{7}\n",
       "\\end{array}\\right) $"
      ],
      "text/plain": [
       "<IPython.core.display.Markdown object>"
      ]
     },
     "metadata": {},
     "output_type": "display_data"
    }
   ],
   "source": [
    "A = matrix(K+Kperp).inverse().apply_map(lambda x: x.full_simplify())\n",
    "lprint(A)"
   ]
  },
  {
   "cell_type": "code",
   "execution_count": 171,
   "metadata": {},
   "outputs": [],
   "source": [
    "key_list = [str(var) for var in var_dict.values()]\n",
    "value_list = list(A*vector(var_dict.values()))\n",
    "mutate_dict = dict(zip(key_list, value_list))"
   ]
  },
  {
   "cell_type": "code",
   "execution_count": 172,
   "metadata": {},
   "outputs": [
    {
     "data": {
      "text/plain": [
       "{'theta0': 1/7*theta0 + 6/7*theta1 + 1/7*theta2 + 1/7*theta3 - 1/7*theta4 - 1/7*theta5 + 1/7*theta6,\n",
       " 'theta1': -1/7*theta0 + 1/7*theta1 + 6/7*theta2 - 1/7*theta3 + 1/7*theta4 + 1/7*theta5 - 1/7*theta6,\n",
       " 'theta2': -1/7*theta0 + 1/7*theta1 - 1/7*theta2 + 6/7*theta3 + 1/7*theta4 + 1/7*theta5 - 1/7*theta6,\n",
       " 'theta3': 1/7*theta0 - 1/7*theta1 + 1/7*theta2 + 1/7*theta3 + 6/7*theta4 - 1/7*theta5 + 1/7*theta6,\n",
       " 'theta4': 1/7*theta0 - 1/7*theta1 + 1/7*theta2 + 1/7*theta3 - 1/7*theta4 + 6/7*theta5 + 1/7*theta6,\n",
       " 'theta5': -1/7*theta0 + 1/7*theta1 - 1/7*theta2 - 1/7*theta3 + 1/7*theta4 + 1/7*theta5 + 6/7*theta6,\n",
       " 'theta6': -1/7*theta0 + 1/7*theta1 - 1/7*theta2 - 1/7*theta3 + 1/7*theta4 + 1/7*theta5 - 1/7*theta6}"
      ]
     },
     "execution_count": 172,
     "metadata": {},
     "output_type": "execute_result"
    }
   ],
   "source": [
    "mutate_dict"
   ]
  },
  {
   "cell_type": "code",
   "execution_count": 173,
   "metadata": {},
   "outputs": [],
   "source": [
    "Afuncs = [func(**mutate_dict) for func in bif_funcs]"
   ]
  },
  {
   "cell_type": "code",
   "execution_count": 174,
   "metadata": {},
   "outputs": [],
   "source": [
    "#lprint(Afuncs) "
   ]
  },
  {
   "cell_type": "code",
   "execution_count": 175,
   "metadata": {},
   "outputs": [
    {
     "data": {
      "text/markdown": [
       "$ \\left(\\begin{array}{rrrrrrr}\n",
       "0 & -4 & -4 & -2 & -2 & -2 & -2 \\\\\n",
       "0 & -4 & -2 & -4 & -2 & -2 & -2 \\\\\n",
       "0 & -2 & -4 & -2 & -4 & -2 & -2 \\\\\n",
       "0 & -2 & -2 & -4 & -2 & -4 & -2 \\\\\n",
       "0 & -2 & -2 & -2 & -4 & -2 & -4 \\\\\n",
       "0 & -2 & -2 & -2 & -2 & -4 & -2 \\\\\n",
       "0 & 0 & 0 & 0 & 0 & 0 & -2\n",
       "\\end{array}\\right) $"
      ],
      "text/plain": [
       "<IPython.core.display.Markdown object>"
      ]
     },
     "metadata": {},
     "output_type": "display_data"
    }
   ],
   "source": [
    "Ja = jacobian(Afuncs,tuple(var_dict.values()))(**{var : 0 for var in var_dict.keys()}).apply_map(lambda x: x.full_simplify())\n",
    "lprint(Ja)"
   ]
  },
  {
   "cell_type": "code",
   "execution_count": 176,
   "metadata": {},
   "outputs": [
    {
     "data": {
      "text/markdown": [
       "$ \\left[\\left(1,\\,0,\\,0,\\,0,\\,0,\\,0,\\,0\\right)\\right] $"
      ],
      "text/plain": [
       "<IPython.core.display.Markdown object>"
      ]
     },
     "metadata": {},
     "output_type": "display_data"
    }
   ],
   "source": [
    "Ka = Ja(l=0).right_kernel().basis()\n",
    "lprint(Ka)"
   ]
  },
  {
   "cell_type": "markdown",
   "metadata": {},
   "source": [
    "### Orthogonalising the image"
   ]
  },
  {
   "cell_type": "code",
   "execution_count": 177,
   "metadata": {},
   "outputs": [
    {
     "name": "stdout",
     "output_type": "stream",
     "text": [
      "6\n"
     ]
    }
   ],
   "source": [
    "I = Ja.image().basis()\n",
    "I = [Ja*vec for vec in I]\n",
    "print(len(I))"
   ]
  },
  {
   "cell_type": "code",
   "execution_count": 178,
   "metadata": {},
   "outputs": [
    {
     "data": {
      "text/markdown": [
       "$ \\left[\\left(1,\\,-1,\\,-1,\\,1,\\,1,\\,-1,\\,-1\\right)\\right] $"
      ],
      "text/plain": [
       "<IPython.core.display.Markdown object>"
      ]
     },
     "metadata": {},
     "output_type": "display_data"
    }
   ],
   "source": [
    "Iperp = matrix(I).right_kernel().basis()\n",
    "lprint(Iperp)"
   ]
  },
  {
   "cell_type": "code",
   "execution_count": 179,
   "metadata": {},
   "outputs": [
    {
     "data": {
      "text/markdown": [
       "$ \\left(\\begin{array}{rrrrrrr}\n",
       "-\\frac{1}{7} & -\\frac{3}{14} & \\frac{1}{7} & \\frac{3}{14} & 0 & -\\frac{1}{14} & \\frac{1}{7} \\\\\n",
       "-\\frac{13}{56} & \\frac{3}{14} & -\\frac{1}{7} & -\\frac{5}{56} & \\frac{1}{8} & \\frac{1}{14} & -\\frac{1}{7} \\\\\n",
       "\\frac{15}{56} & -\\frac{2}{7} & -\\frac{1}{7} & -\\frac{5}{56} & \\frac{1}{8} & \\frac{1}{14} & -\\frac{1}{7} \\\\\n",
       "\\frac{5}{14} & -\\frac{3}{14} & -\\frac{5}{14} & \\frac{3}{14} & 0 & -\\frac{1}{14} & \\frac{1}{7} \\\\\n",
       "-\\frac{1}{7} & \\frac{2}{7} & \\frac{1}{7} & -\\frac{2}{7} & 0 & -\\frac{1}{14} & \\frac{1}{7} \\\\\n",
       "-\\frac{13}{56} & \\frac{3}{14} & \\frac{5}{14} & -\\frac{5}{56} & -\\frac{3}{8} & \\frac{1}{14} & -\\frac{1}{7} \\\\\n",
       "\\frac{15}{56} & -\\frac{2}{7} & -\\frac{1}{7} & \\frac{23}{56} & \\frac{1}{8} & -\\frac{3}{7} & -\\frac{1}{7}\n",
       "\\end{array}\\right) $"
      ],
      "text/plain": [
       "<IPython.core.display.Markdown object>"
      ]
     },
     "metadata": {},
     "output_type": "display_data"
    }
   ],
   "source": [
    "B = matrix(I + Iperp).inverse().apply_map(lambda x: x.full_simplify())\n",
    "lprint(B)"
   ]
  },
  {
   "cell_type": "code",
   "execution_count": 180,
   "metadata": {},
   "outputs": [],
   "source": [
    "tfuncs = vector(Afuncs)*B"
   ]
  },
  {
   "cell_type": "code",
   "execution_count": 181,
   "metadata": {},
   "outputs": [],
   "source": [
    "#lprint(tfuncs)"
   ]
  },
  {
   "cell_type": "code",
   "execution_count": 182,
   "metadata": {},
   "outputs": [],
   "source": [
    "Jt = jacobian(tfuncs,tuple(var_dict.values()))(**{var : 0 for var in var_dict.keys()}).apply_map(lambda x: x.full_simplify())"
   ]
  },
  {
   "cell_type": "code",
   "execution_count": 183,
   "metadata": {},
   "outputs": [
    {
     "data": {
      "text/plain": [
       "dict_values([theta0, theta1, theta2, theta3, theta4, theta5, theta6])"
      ]
     },
     "execution_count": 183,
     "metadata": {},
     "output_type": "execute_result"
    }
   ],
   "source": [
    "var_dict.values()"
   ]
  },
  {
   "cell_type": "code",
   "execution_count": 184,
   "metadata": {},
   "outputs": [
    {
     "data": {
      "text/markdown": [
       "$ \\left(\\begin{array}{rrrrrrr}\n",
       "0 & 1 & 0 & 0 & 0 & 0 & 0 \\\\\n",
       "0 & 0 & 1 & 0 & 0 & 0 & 0 \\\\\n",
       "0 & 0 & 0 & 1 & 0 & 0 & 0 \\\\\n",
       "0 & 0 & 0 & 0 & 1 & 0 & 0 \\\\\n",
       "0 & 0 & 0 & 0 & 0 & 1 & 0 \\\\\n",
       "0 & 0 & 0 & 0 & 0 & 0 & 1 \\\\\n",
       "0 & 0 & 0 & 0 & 0 & 0 & 0\n",
       "\\end{array}\\right) $"
      ],
      "text/plain": [
       "<IPython.core.display.Markdown object>"
      ]
     },
     "metadata": {},
     "output_type": "display_data"
    }
   ],
   "source": [
    "lprint(Jt)"
   ]
  },
  {
   "cell_type": "code",
   "execution_count": 185,
   "metadata": {},
   "outputs": [
    {
     "data": {
      "text/markdown": [
       "$ \\left[\\left(1,\\,0,\\,0,\\,0,\\,0,\\,0,\\,0\\right), \\left(0,\\,1,\\,0,\\,0,\\,0,\\,0,\\,0\\right), \\left(0,\\,0,\\,1,\\,0,\\,0,\\,0,\\,0\\right), \\left(0,\\,0,\\,0,\\,1,\\,0,\\,0,\\,0\\right), \\left(0,\\,0,\\,0,\\,0,\\,1,\\,0,\\,0\\right), \\left(0,\\,0,\\,0,\\,0,\\,0,\\,1,\\,0\\right)\\right] $"
      ],
      "text/plain": [
       "<IPython.core.display.Markdown object>"
      ]
     },
     "metadata": {},
     "output_type": "display_data"
    }
   ],
   "source": [
    "It = Jt.image().basis()\n",
    "It = [Jt*vec for vec in It]\n",
    "lprint(It)"
   ]
  },
  {
   "cell_type": "markdown",
   "metadata": {},
   "source": [
    "## Adding lambda back in"
   ]
  },
  {
   "cell_type": "code",
   "execution_count": 186,
   "metadata": {},
   "outputs": [],
   "source": [
    "tfuncs = vector([func(**mutate_dict)(l = l + 4) for func in funcs])*B # now lambda is not fixed at the bifurcation point\n",
    "# ***IF SOMETHING IS BROKEN CHECK RIGHT LAMBDA HERE***\n",
    "# but we do shift so that l=0 is the new bifurcation\n",
    "var_dict['l'] = l"
   ]
  },
  {
   "cell_type": "code",
   "execution_count": 187,
   "metadata": {},
   "outputs": [
    {
     "data": {
      "text/plain": [
       "{'theta0': theta0,\n",
       " 'theta1': theta1,\n",
       " 'theta2': theta2,\n",
       " 'theta3': theta3,\n",
       " 'theta4': theta4,\n",
       " 'theta5': theta5,\n",
       " 'theta6': theta6,\n",
       " 'l': l}"
      ]
     },
     "execution_count": 187,
     "metadata": {},
     "output_type": "execute_result"
    }
   ],
   "source": [
    "var_dict_old = var_dict\n",
    "var_dict_old"
   ]
  },
  {
   "cell_type": "code",
   "execution_count": 188,
   "metadata": {},
   "outputs": [
    {
     "data": {
      "text/plain": [
       "dict_values([theta0, theta1, theta2, theta3, theta4, theta5, theta6, l])"
      ]
     },
     "execution_count": 188,
     "metadata": {},
     "output_type": "execute_result"
    }
   ],
   "source": [
    "var_dict.values()"
   ]
  },
  {
   "cell_type": "code",
   "execution_count": 190,
   "metadata": {},
   "outputs": [],
   "source": [
    "#lprint(tfuncs[1])"
   ]
  },
  {
   "cell_type": "markdown",
   "metadata": {},
   "source": [
    "## Running the implicit function theorem"
   ]
  },
  {
   "cell_type": "code",
   "execution_count": 191,
   "metadata": {},
   "outputs": [
    {
     "data": {
      "text/plain": [
       "7"
      ]
     },
     "execution_count": 191,
     "metadata": {},
     "output_type": "execute_result"
    }
   ],
   "source": [
    "len(tfuncs)"
   ]
  },
  {
   "cell_type": "code",
   "execution_count": 192,
   "metadata": {},
   "outputs": [
    {
     "data": {
      "text/plain": [
       "{'theta0': 0,\n",
       " 'theta1': 0,\n",
       " 'theta2': 0,\n",
       " 'theta3': 0,\n",
       " 'theta4': 0,\n",
       " 'theta5': 0,\n",
       " 'theta6': 0,\n",
       " 'l': 0}"
      ]
     },
     "execution_count": 192,
     "metadata": {},
     "output_type": "execute_result"
    }
   ],
   "source": [
    "position = {key : 0 for key in var_dict_old.keys()}\n",
    "position"
   ]
  },
  {
   "cell_type": "code",
   "execution_count": 193,
   "metadata": {},
   "outputs": [],
   "source": [
    "#code_funcs = [tfuncs[index].function(*list(var_dict_old.values())) for index in [0,1,2,3,4,5,6]] # careful with computer science indexing from zero\n",
    "code_funcs = [tfuncs[index] for index in [0,1,2,3,4,5]] # the last function has degenerate first derivative always\n",
    "position = {key : 0 for key in var_dict_old.keys()}\n",
    "# var_dict already loaded\n",
    "var_dict = {'y1' : theta1, 'y2' : theta2, 'y3' : theta3, 'y4' : theta4, 'y5' : theta5, 'y6' : theta6, 'x1' : l, 'x2' : theta0}\n",
    "x_var_keys = ['l', 'theta0'] # the variables in the kernel\n",
    "x_dim = 2\n",
    "y_dim = 6 # invertible part"
   ]
  },
  {
   "cell_type": "code",
   "execution_count": 194,
   "metadata": {},
   "outputs": [
    {
     "data": {
      "text/plain": [
       "dict_keys(['y1', 'y2', 'y3', 'y4', 'y5', 'y6', 'x1', 'x2'])"
      ]
     },
     "execution_count": 194,
     "metadata": {},
     "output_type": "execute_result"
    }
   ],
   "source": [
    "var_dict.keys()"
   ]
  },
  {
   "cell_type": "code",
   "execution_count": 195,
   "metadata": {},
   "outputs": [
    {
     "name": "stdout",
     "output_type": "stream",
     "text": [
      "computing Taylor approximaton to 3 order for speedup\n"
     ]
    }
   ],
   "source": [
    "t_dict = TensorDict(code_funcs, position, var_dict, x_dim, y_dim)"
   ]
  },
  {
   "cell_type": "code",
   "execution_count": 215,
   "metadata": {},
   "outputs": [
    {
     "name": "stderr",
     "output_type": "stream",
     "text": [
      "100%|██████████| 1/1 [00:00<00:00, 1576.21it/s]\n",
      "100%|██████████| 1/1 [00:00<00:00, 91.71it/s]\n"
     ]
    },
    {
     "name": "stdout",
     "output_type": "stream",
     "text": [
      "[1 0 0 0 0 0]\n",
      "[0 1 0 0 0 0]\n",
      "[0 0 1 0 0 0]\n",
      "[0 0 0 1 0 0]\n",
      "[0 0 0 0 1 0]\n",
      "[0 0 0 0 0 1]\n"
     ]
    },
    {
     "name": "stderr",
     "output_type": "stream",
     "text": [
      "100%|██████████| 2/2 [00:00<00:00, 2074.85it/s]\n",
      "100%|██████████| 4/4 [00:00<00:00,  4.05it/s]\n"
     ]
    },
    {
     "name": "stdout",
     "output_type": "stream",
     "text": [
      "[1 0 0 0 0 0]\n",
      "[0 1 0 0 0 0]\n",
      "[0 0 1 0 0 0]\n",
      "[0 0 0 1 0 0]\n",
      "[0 0 0 0 1 0]\n",
      "[0 0 0 0 0 1]\n"
     ]
    },
    {
     "name": "stderr",
     "output_type": "stream",
     "text": [
      "100%|██████████| 3/3 [00:00<00:00, 2820.65it/s]\n",
      "100%|██████████| 14/14 [07:40<00:00, 32.89s/it]\n"
     ]
    },
    {
     "name": "stdout",
     "output_type": "stream",
     "text": [
      "[1 0 0 0 0 0]\n",
      "[0 1 0 0 0 0]\n",
      "[0 0 1 0 0 0]\n",
      "[0 0 0 1 0 0]\n",
      "[0 0 0 0 1 0]\n",
      "[0 0 0 0 0 1]\n"
     ]
    }
   ],
   "source": [
    "out = get_hkx_polynomial(code_funcs, 3, x_dim, y_dim, var_dict, x_var_keys, t_dict, position)"
   ]
  },
  {
   "cell_type": "code",
   "execution_count": 216,
   "metadata": {},
   "outputs": [
    {
     "data": {
      "text/markdown": [
       "$ \\left[-\\frac{239}{4802} \\, {\\lambda}^{2} {\\theta_0} + \\frac{2}{7203} \\, {\\theta_0}^{3} - \\frac{1}{49} \\, {\\lambda} {\\theta_0}, \\frac{92}{2401} \\, {\\lambda}^{2} {\\theta_0} - \\frac{4}{7203} \\, {\\theta_0}^{3} + \\frac{2}{49} \\, {\\lambda} {\\theta_0}, \\frac{95}{2401} \\, {\\lambda}^{2} {\\theta_0} - \\frac{2}{7203} \\, {\\theta_0}^{3} + \\frac{1}{49} \\, {\\lambda} {\\theta_0}, -\\frac{135}{4802} \\, {\\lambda}^{2} {\\theta_0} + \\frac{4}{7203} \\, {\\theta_0}^{3} - \\frac{2}{49} \\, {\\lambda} {\\theta_0}, -\\frac{3}{98} \\, {\\lambda}^{2} {\\theta_0}, -\\frac{9}{2401} \\, {\\lambda}^{2} {\\theta_0} - \\frac{2}{2401} \\, {\\theta_0}^{3} + \\frac{3}{49} \\, {\\lambda} {\\theta_0}\\right] $"
      ],
      "text/plain": [
       "<IPython.core.display.Markdown object>"
      ]
     },
     "metadata": {},
     "output_type": "display_data"
    }
   ],
   "source": [
    "lprint(out) # our h function"
   ]
  },
  {
   "cell_type": "markdown",
   "metadata": {},
   "source": [
    "## Testing the implicit function theorem"
   ]
  },
  {
   "cell_type": "code",
   "execution_count": 217,
   "metadata": {},
   "outputs": [],
   "source": [
    "subbed = [func(theta1 = out[0],theta2 = out[1], theta3 = out[2], theta4 = out[3], theta5 = out[4], theta6 = out[5]) for func in tfuncs]"
   ]
  },
  {
   "cell_type": "code",
   "execution_count": 221,
   "metadata": {},
   "outputs": [
    {
     "data": {
      "text/plain": [
       "[-2.4570855571136307e-05,\n",
       " 1.715749407334849e-05,\n",
       " 2.042503487807018e-05,\n",
       " -1.098048838230059e-05,\n",
       " -1.6500064342110654e-05,\n",
       " -5.740110213252325e-06,\n",
       " -0.0016262643791677307]"
      ]
     },
     "execution_count": 221,
     "metadata": {},
     "output_type": "execute_result"
    }
   ],
   "source": [
    "[float(func(l = 0.1, theta0 = 0.1)) for func in subbed]"
   ]
  },
  {
   "cell_type": "markdown",
   "metadata": {},
   "source": [
    "the last function remains to be solved"
   ]
  },
  {
   "cell_type": "markdown",
   "metadata": {},
   "source": [
    "### Looking for more solutions"
   ]
  },
  {
   "cell_type": "markdown",
   "metadata": {},
   "source": [
    "Now substitute this into the equation that had degenerate image"
   ]
  },
  {
   "cell_type": "code",
   "execution_count": 231,
   "metadata": {},
   "outputs": [
    {
     "data": {
      "text/markdown": [
       "$ \\frac{16}{7203} \\theta_{0}^{3} + \\left(-\\frac{16}{2401}\\right) \\theta_{0}^{2} \\theta_{1} + \\frac{212}{2401} \\theta_{0} \\theta_{1}^{2} + \\frac{1454}{7203} \\theta_{1}^{3} + \\left(-\\frac{12}{2401}\\right) \\theta_{0}^{2} \\theta_{2} + \\frac{220}{2401} \\theta_{0} \\theta_{1} \\theta_{2} + \\frac{674}{2401} \\theta_{1}^{2} \\theta_{2} + \\frac{156}{2401} \\theta_{0} \\theta_{2}^{2} + \\frac{40}{2401} \\theta_{1} \\theta_{2}^{2} + \\left(-\\frac{284}{2401}\\right) \\theta_{2}^{3} + \\left(-\\frac{12}{2401}\\right) \\theta_{0}^{2} \\theta_{3} + \\frac{220}{2401} \\theta_{0} \\theta_{1} \\theta_{3} + \\frac{674}{2401} \\theta_{1}^{2} \\theta_{3} + \\frac{116}{2401} \\theta_{0} \\theta_{2} \\theta_{3} + \\frac{962}{2401} \\theta_{1} \\theta_{2} \\theta_{3} + \\frac{324}{2401} \\theta_{2}^{2} \\theta_{3} + \\frac{156}{2401} \\theta_{0} \\theta_{3}^{2} + \\frac{40}{2401} \\theta_{1} \\theta_{3}^{2} + \\frac{324}{2401} \\theta_{2} \\theta_{3}^{2} + \\left(-\\frac{284}{2401}\\right) \\theta_{3}^{3} + \\left(-\\frac{16}{2401}\\right) \\theta_{0}^{2} \\theta_{4} + \\frac{228}{2401} \\theta_{0} \\theta_{1} \\theta_{4} + \\frac{278}{2401} \\theta_{1}^{2} \\theta_{4} + \\frac{220}{2401} \\theta_{0} \\theta_{2} \\theta_{4} + \\frac{466}{2401} \\theta_{1} \\theta_{2} \\theta_{4} + \\frac{40}{2401} \\theta_{2}^{2} \\theta_{4} + \\frac{220}{2401} \\theta_{0} \\theta_{3} \\theta_{4} + \\frac{466}{2401} \\theta_{1} \\theta_{3} \\theta_{4} + \\frac{962}{2401} \\theta_{2} \\theta_{3} \\theta_{4} + \\frac{40}{2401} \\theta_{3}^{2} \\theta_{4} + \\frac{212}{2401} \\theta_{0} \\theta_{4}^{2} + \\frac{278}{2401} \\theta_{1} \\theta_{4}^{2} + \\frac{674}{2401} \\theta_{2} \\theta_{4}^{2} + \\frac{674}{2401} \\theta_{3} \\theta_{4}^{2} + \\frac{1454}{7203} \\theta_{4}^{3} + \\left(-\\frac{16}{2401}\\right) \\theta_{0}^{2} \\theta_{5} + \\frac{228}{2401} \\theta_{0} \\theta_{1} \\theta_{5} + \\frac{278}{2401} \\theta_{1}^{2} \\theta_{5} + \\frac{220}{2401} \\theta_{0} \\theta_{2} \\theta_{5} + \\frac{466}{2401} \\theta_{1} \\theta_{2} \\theta_{5} + \\frac{40}{2401} \\theta_{2}^{2} \\theta_{5} + \\frac{220}{2401} \\theta_{0} \\theta_{3} \\theta_{5} + \\frac{466}{2401} \\theta_{1} \\theta_{3} \\theta_{5} + \\frac{962}{2401} \\theta_{2} \\theta_{3} \\theta_{5} + \\frac{40}{2401} \\theta_{3}^{2} \\theta_{5} + \\frac{228}{2401} \\theta_{0} \\theta_{4} \\theta_{5} + \\frac{66}{2401} \\theta_{1} \\theta_{4} \\theta_{5} + \\frac{466}{2401} \\theta_{2} \\theta_{4} \\theta_{5} + \\frac{466}{2401} \\theta_{3} \\theta_{4} \\theta_{5} + \\frac{278}{2401} \\theta_{4}^{2} \\theta_{5} + \\frac{212}{2401} \\theta_{0} \\theta_{5}^{2} + \\frac{278}{2401} \\theta_{1} \\theta_{5}^{2} + \\frac{674}{2401} \\theta_{2} \\theta_{5}^{2} + \\frac{674}{2401} \\theta_{3} \\theta_{5}^{2} + \\frac{278}{2401} \\theta_{4} \\theta_{5}^{2} + \\frac{1454}{7203} \\theta_{5}^{3} + \\left(-\\frac{12}{2401}\\right) \\theta_{0}^{2} \\theta_{6} + \\frac{220}{2401} \\theta_{0} \\theta_{1} \\theta_{6} + \\frac{674}{2401} \\theta_{1}^{2} \\theta_{6} + \\frac{116}{2401} \\theta_{0} \\theta_{2} \\theta_{6} + \\frac{962}{2401} \\theta_{1} \\theta_{2} \\theta_{6} + \\frac{324}{2401} \\theta_{2}^{2} \\theta_{6} + \\frac{116}{2401} \\theta_{0} \\theta_{3} \\theta_{6} + \\frac{962}{2401} \\theta_{1} \\theta_{3} \\theta_{6} + \\frac{1138}{2401} \\theta_{2} \\theta_{3} \\theta_{6} + \\frac{324}{2401} \\theta_{3}^{2} \\theta_{6} + \\frac{220}{2401} \\theta_{0} \\theta_{4} \\theta_{6} + \\frac{466}{2401} \\theta_{1} \\theta_{4} \\theta_{6} + \\frac{962}{2401} \\theta_{2} \\theta_{4} \\theta_{6} + \\frac{962}{2401} \\theta_{3} \\theta_{4} \\theta_{6} + \\frac{674}{2401} \\theta_{4}^{2} \\theta_{6} + \\frac{220}{2401} \\theta_{0} \\theta_{5} \\theta_{6} + \\frac{466}{2401} \\theta_{1} \\theta_{5} \\theta_{6} + \\frac{962}{2401} \\theta_{2} \\theta_{5} \\theta_{6} + \\frac{962}{2401} \\theta_{3} \\theta_{5} \\theta_{6} + \\frac{466}{2401} \\theta_{4} \\theta_{5} \\theta_{6} + \\frac{674}{2401} \\theta_{5}^{2} \\theta_{6} + \\frac{156}{2401} \\theta_{0} \\theta_{6}^{2} + \\frac{40}{2401} \\theta_{1} \\theta_{6}^{2} + \\frac{324}{2401} \\theta_{2} \\theta_{6}^{2} + \\frac{324}{2401} \\theta_{3} \\theta_{6}^{2} + \\frac{40}{2401} \\theta_{4} \\theta_{6}^{2} + \\frac{40}{2401} \\theta_{5} \\theta_{6}^{2} + \\left(-\\frac{284}{2401}\\right) \\theta_{6}^{3} + \\left(-\\frac{8}{49}\\right) l \\theta_{0} + \\frac{8}{49} l \\theta_{1} + \\frac{6}{49} l \\theta_{2} + \\frac{6}{49} l \\theta_{3} + \\frac{8}{49} l \\theta_{4} + \\frac{8}{49} l \\theta_{5} + \\frac{6}{49} l \\theta_{6} $"
      ],
      "text/plain": [
       "<IPython.core.display.Markdown object>"
      ]
     },
     "metadata": {},
     "output_type": "display_data"
    }
   ],
   "source": [
    "tf_taylor = tfuncs[6].taylor(*[(key,value) for key,value in position.items()],3) # taylor expand the function with degenerate image\n",
    "# *** CHECK SUBBING INTO CORRECT FUNCTION - SHOULD BE THE LAST ONE ***\n",
    "lprint(tf_taylor.polynomial(SR)) # all three variables are present"
   ]
  },
  {
   "cell_type": "code",
   "execution_count": 232,
   "metadata": {},
   "outputs": [],
   "source": [
    "tf_sub = tf_taylor(theta1 = out[0],theta2 = out[1], theta3 = out[2], theta4 = out[3], theta5 = out[4], theta6 = out[5]) # substitute in h"
   ]
  },
  {
   "cell_type": "code",
   "execution_count": 233,
   "metadata": {},
   "outputs": [
    {
     "data": {
      "text/markdown": [
       "$ \\frac{12}{2401} \\, {\\lambda}^{2} {\\theta_0} + \\frac{16}{7203} \\, {\\theta_0}^{3} - \\frac{8}{49} \\, {\\lambda} {\\theta_0} $"
      ],
      "text/plain": [
       "<IPython.core.display.Markdown object>"
      ]
     },
     "metadata": {},
     "output_type": "display_data"
    }
   ],
   "source": [
    "local = symbolic_expression(sum([a[0]*a[1] for a in tf_sub.polynomial(SR) if a[1].degree() <= 3]))\n",
    "#local = tf_sub.polynomial(SR).truncate(4)\n",
    "lprint(local) # will see that we can take out a factor of theta0 = xi0"
   ]
  },
  {
   "cell_type": "code",
   "execution_count": 234,
   "metadata": {},
   "outputs": [
    {
     "data": {
      "text/markdown": [
       "$ \\left[{\\theta_0} = -\\frac{1}{2} \\, \\sqrt{-9 \\, {\\lambda}^{2} + 294 \\, {\\lambda}}, {\\theta_0} = \\frac{1}{2} \\, \\sqrt{-9 \\, {\\lambda}^{2} + 294 \\, {\\lambda}}, {\\theta_0} = 0\\right] $"
      ],
      "text/plain": [
       "<IPython.core.display.Markdown object>"
      ]
     },
     "metadata": {},
     "output_type": "display_data"
    }
   ],
   "source": [
    "lprint(solve(local, theta0))"
   ]
  },
  {
   "cell_type": "code",
   "execution_count": 235,
   "metadata": {},
   "outputs": [
    {
     "data": {
      "image/png": "[encoded data removed]",
      "text/plain": [
       "Graphics object consisting of 1 graphics primitive"
      ]
     },
     "execution_count": 235,
     "metadata": {},
     "output_type": "execute_result"
    }
   ],
   "source": [
    "implicit_plot(local, (-1,5), (-5,5))"
   ]
  },
  {
   "cell_type": "markdown",
   "metadata": {},
   "source": [
    "looks like a bifurcation to me"
   ]
  },
  {
   "cell_type": "code",
   "execution_count": 236,
   "metadata": {},
   "outputs": [
    {
     "data": {
      "text/markdown": [
       "$ \\left[-\\frac{1}{2} \\, \\sqrt{-9 \\, {\\lambda}^{2} + 294 \\, {\\lambda}}, \\frac{239}{9604} \\, \\sqrt{-9 \\, {\\lambda}^{2} + 294 \\, {\\lambda}} {\\lambda}^{2} - \\frac{1}{28812} \\, {\\left(-9 \\, {\\lambda}^{2} + 294 \\, {\\lambda}\\right)}^{\\frac{3}{2}} + \\frac{1}{98} \\, \\sqrt{-9 \\, {\\lambda}^{2} + 294 \\, {\\lambda}} {\\lambda}, -\\frac{46}{2401} \\, \\sqrt{-9 \\, {\\lambda}^{2} + 294 \\, {\\lambda}} {\\lambda}^{2} + \\frac{1}{14406} \\, {\\left(-9 \\, {\\lambda}^{2} + 294 \\, {\\lambda}\\right)}^{\\frac{3}{2}} - \\frac{1}{49} \\, \\sqrt{-9 \\, {\\lambda}^{2} + 294 \\, {\\lambda}} {\\lambda}, -\\frac{95}{4802} \\, \\sqrt{-9 \\, {\\lambda}^{2} + 294 \\, {\\lambda}} {\\lambda}^{2} + \\frac{1}{28812} \\, {\\left(-9 \\, {\\lambda}^{2} + 294 \\, {\\lambda}\\right)}^{\\frac{3}{2}} - \\frac{1}{98} \\, \\sqrt{-9 \\, {\\lambda}^{2} + 294 \\, {\\lambda}} {\\lambda}, \\frac{135}{9604} \\, \\sqrt{-9 \\, {\\lambda}^{2} + 294 \\, {\\lambda}} {\\lambda}^{2} - \\frac{1}{14406} \\, {\\left(-9 \\, {\\lambda}^{2} + 294 \\, {\\lambda}\\right)}^{\\frac{3}{2}} + \\frac{1}{49} \\, \\sqrt{-9 \\, {\\lambda}^{2} + 294 \\, {\\lambda}} {\\lambda}, \\frac{3}{196} \\, \\sqrt{-9 \\, {\\lambda}^{2} + 294 \\, {\\lambda}} {\\lambda}^{2}, \\frac{9}{4802} \\, \\sqrt{-9 \\, {\\lambda}^{2} + 294 \\, {\\lambda}} {\\lambda}^{2} + \\frac{1}{9604} \\, {\\left(-9 \\, {\\lambda}^{2} + 294 \\, {\\lambda}\\right)}^{\\frac{3}{2}} - \\frac{3}{98} \\, \\sqrt{-9 \\, {\\lambda}^{2} + 294 \\, {\\lambda}} {\\lambda}\\right] $"
      ],
      "text/plain": [
       "<IPython.core.display.Markdown object>"
      ]
     },
     "metadata": {},
     "output_type": "display_data"
    }
   ],
   "source": [
    "\n",
    "sols = [solve(local, theta0)[0].rhs()] + [ sol(theta0 = solve(local, theta0)[0].rhs()) for sol in out] # now solutions are spanned by lambda\n",
    "        # theta0 = g(l)                 # theta_n = h(g(l), l)\n",
    "\n",
    "lprint(sols) # now only in terms of lambda"
   ]
  },
  {
   "cell_type": "code",
   "execution_count": 237,
   "metadata": {},
   "outputs": [
    {
     "data": {
      "text/plain": [
       "7"
      ]
     },
     "execution_count": 237,
     "metadata": {},
     "output_type": "execute_result"
    }
   ],
   "source": [
    "len(sols)"
   ]
  },
  {
   "cell_type": "code",
   "execution_count": 239,
   "metadata": {},
   "outputs": [
    {
     "data": {
      "text/plain": [
       "[4.58136005229747e-6,\n",
       " -3.93374285089475e-6,\n",
       " -3.68942503451331e-6,\n",
       " 3.07684643436408e-6,\n",
       " 2.60572828138716e-6,\n",
       " -6.62880292617244e-7,\n",
       " -2.03258755476223e-6]"
      ]
     },
     "execution_count": 239,
     "metadata": {},
     "output_type": "execute_result"
    }
   ],
   "source": [
    "coords = { list(var_dict_old.keys())[i] : sols[i] for i in [0,1,2,3,4,5,6] }\n",
    "coords\n",
    "[tfuncs[i](**coords)(l = 0.01) for i in [0,1,2,3,4,5,6]] # see that we solve both equations"
   ]
  },
  {
   "cell_type": "markdown",
   "metadata": {},
   "source": [
    "However solutions are in the reformed space, needed to undo the action that reorganised the kernel"
   ]
  },
  {
   "cell_type": "markdown",
   "metadata": {},
   "source": [
    "### Generating more solutions"
   ]
  },
  {
   "cell_type": "markdown",
   "metadata": {},
   "source": [
    "We have solved $f \\circ A$ where $A$ orthogonalised the kernel, thus by applying $A$ we can get a traversel of the new solutions."
   ]
  },
  {
   "cell_type": "code",
   "execution_count": 240,
   "metadata": {},
   "outputs": [
    {
     "data": {
      "text/markdown": [
       "$ \\left(\\begin{array}{rrrrrrr}\n",
       "\\frac{1}{7} & \\frac{6}{7} & \\frac{1}{7} & \\frac{1}{7} & -\\frac{1}{7} & -\\frac{1}{7} & \\frac{1}{7} \\\\\n",
       "-\\frac{1}{7} & \\frac{1}{7} & \\frac{6}{7} & -\\frac{1}{7} & \\frac{1}{7} & \\frac{1}{7} & -\\frac{1}{7} \\\\\n",
       "-\\frac{1}{7} & \\frac{1}{7} & -\\frac{1}{7} & \\frac{6}{7} & \\frac{1}{7} & \\frac{1}{7} & -\\frac{1}{7} \\\\\n",
       "\\frac{1}{7} & -\\frac{1}{7} & \\frac{1}{7} & \\frac{1}{7} & \\frac{6}{7} & -\\frac{1}{7} & \\frac{1}{7} \\\\\n",
       "\\frac{1}{7} & -\\frac{1}{7} & \\frac{1}{7} & \\frac{1}{7} & -\\frac{1}{7} & \\frac{6}{7} & \\frac{1}{7} \\\\\n",
       "-\\frac{1}{7} & \\frac{1}{7} & -\\frac{1}{7} & -\\frac{1}{7} & \\frac{1}{7} & \\frac{1}{7} & \\frac{6}{7} \\\\\n",
       "-\\frac{1}{7} & \\frac{1}{7} & -\\frac{1}{7} & -\\frac{1}{7} & \\frac{1}{7} & \\frac{1}{7} & -\\frac{1}{7}\n",
       "\\end{array}\\right) $"
      ],
      "text/plain": [
       "<IPython.core.display.Markdown object>"
      ]
     },
     "metadata": {},
     "output_type": "display_data"
    }
   ],
   "source": [
    "lprint(A)"
   ]
  },
  {
   "cell_type": "code",
   "execution_count": 241,
   "metadata": {},
   "outputs": [
    {
     "data": {
      "text/plain": [
       "7"
      ]
     },
     "execution_count": 241,
     "metadata": {},
     "output_type": "execute_result"
    }
   ],
   "source": [
    "fsols = list(A*vector(sols))\n",
    "len(fsols)"
   ]
  },
  {
   "cell_type": "code",
   "execution_count": 242,
   "metadata": {},
   "outputs": [],
   "source": [
    "#fsols = [random.random()/10000 for i in range(0,2)] # can check these are giving solutions"
   ]
  },
  {
   "cell_type": "code",
   "execution_count": 252,
   "metadata": {},
   "outputs": [
    {
     "data": {
      "text/plain": [
       "{'theta0': 199/16807*sqrt(-9*l^2 + 294*l)*l^2 + 1/100842*(-9*l^2 + 294*l)^(3/2) - 1/343*sqrt(-9*l^2 + 294*l)*l - 1/14*sqrt(-9*l^2 + 294*l),\n",
       " 'theta1': -411/67228*sqrt(-9*l^2 + 294*l)*l^2 + 5/201684*(-9*l^2 + 294*l)^(3/2) - 5/686*sqrt(-9*l^2 + 294*l)*l + 1/14*sqrt(-9*l^2 + 294*l),\n",
       " 'theta2': -453/67228*sqrt(-9*l^2 + 294*l)*l^2 - 1/100842*(-9*l^2 + 294*l)^(3/2) + 1/343*sqrt(-9*l^2 + 294*l)*l + 1/14*sqrt(-9*l^2 + 294*l),\n",
       " 'theta3': 17/16807*sqrt(-9*l^2 + 294*l)*l^2 - 5/201684*(-9*l^2 + 294*l)^(3/2) + 5/686*sqrt(-9*l^2 + 294*l)*l - 1/14*sqrt(-9*l^2 + 294*l),\n",
       " 'theta4': 38/16807*sqrt(-9*l^2 + 294*l)*l^2 + 3/67228*(-9*l^2 + 294*l)^(3/2) - 9/686*sqrt(-9*l^2 + 294*l)*l - 1/14*sqrt(-9*l^2 + 294*l),\n",
       " 'theta5': 1003/67228*sqrt(-9*l^2 + 294*l)*l^2 + 1/16807*(-9*l^2 + 294*l)^(3/2) - 6/343*sqrt(-9*l^2 + 294*l)*l + 1/14*sqrt(-9*l^2 + 294*l),\n",
       " 'theta6': 877/67228*sqrt(-9*l^2 + 294*l)*l^2 - 3/67228*(-9*l^2 + 294*l)^(3/2) + 9/686*sqrt(-9*l^2 + 294*l)*l + 1/14*sqrt(-9*l^2 + 294*l)}"
      ]
     },
     "execution_count": 252,
     "metadata": {},
     "output_type": "execute_result"
    }
   ],
   "source": [
    "coords = { list(var_dict_old.keys())[i] : fsols[i] for i in [0,1,2,3,4,5,6] } \n",
    "# *** makes sure it is fsols[i] ***\n",
    "coords"
   ]
  },
  {
   "cell_type": "code",
   "execution_count": 253,
   "metadata": {},
   "outputs": [],
   "source": [
    "sym_funcs = [func.function(*list(var_dict_old.values()))(l = l + 4) for func in funcs] # convert to symbolic functions\n",
    "# *** IF SOMETHING IS BREAKING CHECK THAT RIGHT SHIFT HERE ***"
   ]
  },
  {
   "cell_type": "code",
   "execution_count": 254,
   "metadata": {},
   "outputs": [
    {
     "data": {
      "text/plain": [
       "(-7.283595137586989e-06, -3.7070556607700844e-06, -2.0939279230653123e-07, -3.820967228557095e-06, -1.0816293018275198e-05, -7.134642188059244e-06, 3.3583481402186567e-06)"
      ]
     },
     "execution_count": 254,
     "metadata": {},
     "output_type": "execute_result"
    }
   ],
   "source": [
    "vector([float(func(**coords)(l = 0.01)) for func in sym_funcs])"
   ]
  },
  {
   "cell_type": "markdown",
   "metadata": {},
   "source": [
    "We see that these solutions do indeed comprise a new set of solutions"
   ]
  },
  {
   "cell_type": "code",
   "execution_count": 260,
   "metadata": {},
   "outputs": [
    {
     "name": "stdout",
     "output_type": "stream",
     "text": [
      "0.0 0.0 0.0 0.0 0.0 0.0 0.0 0.0\n",
      "0.01 -0.1225 0.1225 0.1225 -0.1225 -0.1225 0.1225 0.1225\n",
      "0.02 -0.1731 0.1731 0.1731 -0.1732 -0.1732 0.1732 0.1732\n",
      "0.03 -0.212 0.212 0.212 -0.212 -0.212 0.2121 0.2121\n",
      "0.04 -0.2447 0.2448 0.2448 -0.2448 -0.2448 0.2449 0.2449\n",
      "0.05 -0.2735 0.2736 0.2736 -0.2736 -0.2736 0.2738 0.2738\n",
      "0.06 -0.2995 0.2996 0.2996 -0.2997 -0.2997 0.2999 0.2999\n",
      "0.07 -0.3234 0.3235 0.3235 -0.3237 -0.3236 0.324 0.324\n",
      "0.08 -0.3456 0.3458 0.3458 -0.3459 -0.3459 0.3464 0.3464\n",
      "0.09 -0.3664 0.3667 0.3666 -0.3669 -0.3668 0.3675 0.3675\n"
     ]
    }
   ],
   "source": [
    "for i in range(0,10):\n",
    "    to_print = [float(i/100)]\n",
    "    for j in [0,1,2,3,4,5,6]:\n",
    "        to_print.append(round(float(fsols[j](l = i/100)), 4))\n",
    "    print(*to_print)"
   ]
  },
  {
   "cell_type": "raw",
   "metadata": {},
   "source": [
    "\\/\\ bending action"
   ]
  },
  {
   "cell_type": "code",
   "execution_count": 268,
   "metadata": {},
   "outputs": [
    {
     "name": "stderr",
     "output_type": "stream",
     "text": [
      " 79%|███████▉  | 792/1000 [05:56<01:33,  2.22it/s]\n"
     ]
    },
    {
     "ename": "TypeError",
     "evalue": "unable to simplify to float approximation",
     "output_type": "error",
     "traceback": [
      "\u001b[0;31m---------------------------------------------------------------------------\u001b[0m",
      "\u001b[0;31mTypeError\u001b[0m                                 Traceback (most recent call last)",
      "\u001b[0;32m/opt/sagemath-9.2/local/lib/python3.7/site-packages/sage/symbolic/expression.pyx\u001b[0m in \u001b[0;36msage.symbolic.expression.Expression.__float__ (build/cythonized/sage/symbolic/expression.cpp:12076)\u001b[0;34m()\u001b[0m\n\u001b[1;32m   1674\u001b[0m                 \u001b[0;32melse\u001b[0m\u001b[0;34m:\u001b[0m\u001b[0;34m\u001b[0m\u001b[0;34m\u001b[0m\u001b[0m\n\u001b[0;32m-> 1675\u001b[0;31m                     \u001b[0;32mraise\u001b[0m\u001b[0;34m\u001b[0m\u001b[0;34m\u001b[0m\u001b[0m\n\u001b[0m\u001b[1;32m   1676\u001b[0m             \u001b[0;32mexcept\u001b[0m \u001b[0mTypeError\u001b[0m\u001b[0;34m:\u001b[0m\u001b[0;34m\u001b[0m\u001b[0;34m\u001b[0m\u001b[0m\n",
      "\u001b[0;32m/opt/sagemath-9.2/local/lib/python3.7/site-packages/sage/symbolic/expression.pyx\u001b[0m in \u001b[0;36msage.symbolic.expression.Expression.__float__ (build/cythonized/sage/symbolic/expression.cpp:11930)\u001b[0;34m()\u001b[0m\n\u001b[1;32m   1667\u001b[0m         \u001b[0;32mtry\u001b[0m\u001b[0;34m:\u001b[0m\u001b[0;34m\u001b[0m\u001b[0;34m\u001b[0m\u001b[0m\n\u001b[0;32m-> 1668\u001b[0;31m             \u001b[0mret\u001b[0m \u001b[0;34m=\u001b[0m \u001b[0mfloat\u001b[0m\u001b[0;34m(\u001b[0m\u001b[0mself\u001b[0m\u001b[0;34m.\u001b[0m\u001b[0m_eval_self\u001b[0m\u001b[0;34m(\u001b[0m\u001b[0mfloat\u001b[0m\u001b[0;34m)\u001b[0m\u001b[0;34m)\u001b[0m\u001b[0;34m\u001b[0m\u001b[0;34m\u001b[0m\u001b[0m\n\u001b[0m\u001b[1;32m   1669\u001b[0m         \u001b[0;32mexcept\u001b[0m \u001b[0mTypeError\u001b[0m\u001b[0;34m:\u001b[0m\u001b[0;34m\u001b[0m\u001b[0;34m\u001b[0m\u001b[0m\n",
      "\u001b[0;32m/opt/sagemath-9.2/local/lib/python3.7/site-packages/sage/symbolic/expression.pyx\u001b[0m in \u001b[0;36msage.symbolic.expression.Expression._eval_self (build/cythonized/sage/symbolic/expression.cpp:10116)\u001b[0;34m()\u001b[0m\n\u001b[1;32m   1415\u001b[0m                 \u001b[0mans\u001b[0m \u001b[0;34m=\u001b[0m \u001b[0mans\u001b[0m\u001b[0;34m.\u001b[0m\u001b[0mreal\u001b[0m\u001b[0;34m\u001b[0m\u001b[0;34m\u001b[0m\u001b[0m\n\u001b[0;32m-> 1416\u001b[0;31m             \u001b[0;32mreturn\u001b[0m \u001b[0mR\u001b[0m\u001b[0;34m(\u001b[0m\u001b[0mans\u001b[0m\u001b[0;34m)\u001b[0m\u001b[0;34m\u001b[0m\u001b[0;34m\u001b[0m\u001b[0m\n\u001b[0m\u001b[1;32m   1417\u001b[0m         \u001b[0;32melse\u001b[0m\u001b[0;34m:\u001b[0m\u001b[0;34m\u001b[0m\u001b[0;34m\u001b[0m\u001b[0m\n",
      "\u001b[0;31mTypeError\u001b[0m: can't convert complex to float",
      "\nDuring handling of the above exception, another exception occurred:\n",
      "\u001b[0;31mTypeError\u001b[0m                                 Traceback (most recent call last)",
      "\u001b[0;32m~/Documents/Work/Homework/Uni/Year 5/YLP/notebooks/implicit.py\u001b[0m in \u001b[0;36m<module>\u001b[0;34m\u001b[0m\n\u001b[1;32m      2\u001b[0m \u001b[0;34m\u001b[0m\u001b[0m\n\u001b[1;32m      3\u001b[0m     \u001b[0mangles\u001b[0m \u001b[0;34m=\u001b[0m \u001b[0;34m[\u001b[0m\u001b[0mfsol\u001b[0m\u001b[0;34m(\u001b[0m\u001b[0ml\u001b[0m \u001b[0;34m=\u001b[0m \u001b[0mi\u001b[0m\u001b[0;34m/\u001b[0m\u001b[0mInteger\u001b[0m\u001b[0;34m(\u001b[0m\u001b[0;36m1000\u001b[0m\u001b[0;34m)\u001b[0m\u001b[0;34m)\u001b[0m \u001b[0;32mfor\u001b[0m \u001b[0mfsol\u001b[0m \u001b[0;32min\u001b[0m \u001b[0mfsols\u001b[0m\u001b[0;34m]\u001b[0m\u001b[0;34m\u001b[0m\u001b[0;34m\u001b[0m\u001b[0m\n\u001b[0;32m----> 4\u001b[0;31m     \u001b[0mplot_angles\u001b[0m\u001b[0;34m(\u001b[0m\u001b[0mangles\u001b[0m\u001b[0;34m,\u001b[0m \u001b[0msave\u001b[0m \u001b[0;34m=\u001b[0m \u001b[0;32mTrue\u001b[0m\u001b[0;34m,\u001b[0m \u001b[0msave_name\u001b[0m \u001b[0;34m=\u001b[0m \u001b[0;34m'multi/plot{}'\u001b[0m\u001b[0;34m.\u001b[0m\u001b[0mformat\u001b[0m\u001b[0;34m(\u001b[0m\u001b[0mstr\u001b[0m\u001b[0;34m(\u001b[0m\u001b[0mi\u001b[0m\u001b[0;34m)\u001b[0m\u001b[0;34m)\u001b[0m\u001b[0;34m,\u001b[0m \u001b[0mshow\u001b[0m \u001b[0;34m=\u001b[0m \u001b[0;32mFalse\u001b[0m\u001b[0;34m)\u001b[0m\u001b[0;34m\u001b[0m\u001b[0;34m\u001b[0m\u001b[0m\n\u001b[0m",
      "\u001b[0;32m~/Documents/Work/Homework/Uni/Year 5/YLP/notebooks/implicit.py\u001b[0m in \u001b[0;36mplot_angles\u001b[0;34m(angles, save, save_name, folder, show)\u001b[0m\n\u001b[1;32m      8\u001b[0m     \u001b[0;32mfor\u001b[0m \u001b[0mi\u001b[0m \u001b[0;32min\u001b[0m \u001b[0mrange\u001b[0m\u001b[0;34m(\u001b[0m\u001b[0mint\u001b[0m\u001b[0;34m(\u001b[0m\u001b[0mInteger\u001b[0m\u001b[0;34m(\u001b[0m\u001b[0;36m0\u001b[0m\u001b[0;34m)\u001b[0m\u001b[0;34m)\u001b[0m\u001b[0;34m,\u001b[0m \u001b[0mint\u001b[0m\u001b[0;34m(\u001b[0m\u001b[0mlen\u001b[0m\u001b[0;34m(\u001b[0m\u001b[0mpoints\u001b[0m\u001b[0;34m)\u001b[0m \u001b[0;34m-\u001b[0m \u001b[0mInteger\u001b[0m\u001b[0;34m(\u001b[0m\u001b[0;36m1\u001b[0m\u001b[0;34m)\u001b[0m\u001b[0;34m)\u001b[0m\u001b[0;34m)\u001b[0m\u001b[0;34m:\u001b[0m\u001b[0;34m\u001b[0m\u001b[0;34m\u001b[0m\u001b[0m\n\u001b[1;32m      9\u001b[0m         \u001b[0mline\u001b[0m \u001b[0;34m=\u001b[0m \u001b[0mplt\u001b[0m\u001b[0;34m.\u001b[0m\u001b[0mLine2D\u001b[0m\u001b[0;34m(\u001b[0m\u001b[0;34m(\u001b[0m\u001b[0mpoints\u001b[0m\u001b[0;34m[\u001b[0m\u001b[0mi\u001b[0m\u001b[0;34m]\u001b[0m\u001b[0;34m[\u001b[0m\u001b[0mInteger\u001b[0m\u001b[0;34m(\u001b[0m\u001b[0;36m0\u001b[0m\u001b[0;34m)\u001b[0m\u001b[0;34m]\u001b[0m\u001b[0;34m,\u001b[0m \u001b[0mpoints\u001b[0m\u001b[0;34m[\u001b[0m\u001b[0mi\u001b[0m\u001b[0;34m+\u001b[0m\u001b[0mInteger\u001b[0m\u001b[0;34m(\u001b[0m\u001b[0;36m1\u001b[0m\u001b[0;34m)\u001b[0m\u001b[0;34m]\u001b[0m\u001b[0;34m[\u001b[0m\u001b[0mInteger\u001b[0m\u001b[0;34m(\u001b[0m\u001b[0;36m0\u001b[0m\u001b[0;34m)\u001b[0m\u001b[0;34m]\u001b[0m\u001b[0;34m)\u001b[0m\u001b[0;34m,\u001b[0m \u001b[0;34m(\u001b[0m\u001b[0mpoints\u001b[0m\u001b[0;34m[\u001b[0m\u001b[0mi\u001b[0m\u001b[0;34m]\u001b[0m\u001b[0;34m[\u001b[0m\u001b[0mInteger\u001b[0m\u001b[0;34m(\u001b[0m\u001b[0;36m1\u001b[0m\u001b[0;34m)\u001b[0m\u001b[0;34m]\u001b[0m\u001b[0;34m,\u001b[0m \u001b[0mpoints\u001b[0m\u001b[0;34m[\u001b[0m\u001b[0mi\u001b[0m\u001b[0;34m+\u001b[0m\u001b[0mInteger\u001b[0m\u001b[0;34m(\u001b[0m\u001b[0;36m1\u001b[0m\u001b[0;34m)\u001b[0m\u001b[0;34m]\u001b[0m\u001b[0;34m[\u001b[0m\u001b[0mInteger\u001b[0m\u001b[0;34m(\u001b[0m\u001b[0;36m1\u001b[0m\u001b[0;34m)\u001b[0m\u001b[0;34m]\u001b[0m\u001b[0;34m)\u001b[0m\u001b[0;34m,\u001b[0m \u001b[0mlw\u001b[0m\u001b[0;34m=\u001b[0m\u001b[0mRealNumber\u001b[0m\u001b[0;34m(\u001b[0m\u001b[0;34m'2.5'\u001b[0m\u001b[0;34m)\u001b[0m\u001b[0;34m)\u001b[0m\u001b[0;34m\u001b[0m\u001b[0;34m\u001b[0m\u001b[0m\n\u001b[0;32m---> 10\u001b[0;31m         \u001b[0mplt\u001b[0m\u001b[0;34m.\u001b[0m\u001b[0mgca\u001b[0m\u001b[0;34m(\u001b[0m\u001b[0;34m)\u001b[0m\u001b[0;34m.\u001b[0m\u001b[0madd_line\u001b[0m\u001b[0;34m(\u001b[0m\u001b[0mline\u001b[0m\u001b[0;34m)\u001b[0m\u001b[0;34m\u001b[0m\u001b[0;34m\u001b[0m\u001b[0m\n\u001b[0m\u001b[1;32m     11\u001b[0m     \u001b[0;32mif\u001b[0m \u001b[0msave\u001b[0m \u001b[0;32mis\u001b[0m \u001b[0;32mTrue\u001b[0m\u001b[0;34m:\u001b[0m\u001b[0;34m\u001b[0m\u001b[0;34m\u001b[0m\u001b[0m\n\u001b[1;32m     12\u001b[0m         \u001b[0mplt\u001b[0m\u001b[0;34m.\u001b[0m\u001b[0msavefig\u001b[0m\u001b[0;34m(\u001b[0m\u001b[0;34m'{}/{}.png'\u001b[0m\u001b[0;34m.\u001b[0m\u001b[0mformat\u001b[0m\u001b[0;34m(\u001b[0m\u001b[0mfolder\u001b[0m\u001b[0;34m,\u001b[0m \u001b[0msave_name\u001b[0m\u001b[0;34m)\u001b[0m\u001b[0;34m)\u001b[0m\u001b[0;34m\u001b[0m\u001b[0;34m\u001b[0m\u001b[0m\n",
      "\u001b[0;32m/opt/sagemath-9.2/local/lib/python3.7/site-packages/matplotlib/axes/_base.py\u001b[0m in \u001b[0;36madd_line\u001b[0;34m(self, line)\u001b[0m\n\u001b[1;32m   1967\u001b[0m             \u001b[0mline\u001b[0m\u001b[0;34m.\u001b[0m\u001b[0mset_clip_path\u001b[0m\u001b[0;34m(\u001b[0m\u001b[0mself\u001b[0m\u001b[0;34m.\u001b[0m\u001b[0mpatch\u001b[0m\u001b[0;34m)\u001b[0m\u001b[0;34m\u001b[0m\u001b[0;34m\u001b[0m\u001b[0m\n\u001b[1;32m   1968\u001b[0m \u001b[0;34m\u001b[0m\u001b[0m\n\u001b[0;32m-> 1969\u001b[0;31m         \u001b[0mself\u001b[0m\u001b[0;34m.\u001b[0m\u001b[0m_update_line_limits\u001b[0m\u001b[0;34m(\u001b[0m\u001b[0mline\u001b[0m\u001b[0;34m)\u001b[0m\u001b[0;34m\u001b[0m\u001b[0;34m\u001b[0m\u001b[0m\n\u001b[0m\u001b[1;32m   1970\u001b[0m         \u001b[0;32mif\u001b[0m \u001b[0;32mnot\u001b[0m \u001b[0mline\u001b[0m\u001b[0;34m.\u001b[0m\u001b[0mget_label\u001b[0m\u001b[0;34m(\u001b[0m\u001b[0;34m)\u001b[0m\u001b[0;34m:\u001b[0m\u001b[0;34m\u001b[0m\u001b[0;34m\u001b[0m\u001b[0m\n\u001b[1;32m   1971\u001b[0m             \u001b[0mline\u001b[0m\u001b[0;34m.\u001b[0m\u001b[0mset_label\u001b[0m\u001b[0;34m(\u001b[0m\u001b[0;34m'_line%d'\u001b[0m \u001b[0;34m%\u001b[0m \u001b[0mlen\u001b[0m\u001b[0;34m(\u001b[0m\u001b[0mself\u001b[0m\u001b[0;34m.\u001b[0m\u001b[0mlines\u001b[0m\u001b[0;34m)\u001b[0m\u001b[0;34m)\u001b[0m\u001b[0;34m\u001b[0m\u001b[0;34m\u001b[0m\u001b[0m\n",
      "\u001b[0;32m/opt/sagemath-9.2/local/lib/python3.7/site-packages/matplotlib/axes/_base.py\u001b[0m in \u001b[0;36m_update_line_limits\u001b[0;34m(self, line)\u001b[0m\n\u001b[1;32m   1989\u001b[0m         \u001b[0mFigures\u001b[0m \u001b[0mout\u001b[0m \u001b[0mthe\u001b[0m \u001b[0mdata\u001b[0m \u001b[0mlimit\u001b[0m \u001b[0mof\u001b[0m \u001b[0mthe\u001b[0m \u001b[0mgiven\u001b[0m \u001b[0mline\u001b[0m\u001b[0;34m,\u001b[0m \u001b[0mupdating\u001b[0m \u001b[0mself\u001b[0m\u001b[0;34m.\u001b[0m\u001b[0mdataLim\u001b[0m\u001b[0;34m.\u001b[0m\u001b[0;34m\u001b[0m\u001b[0;34m\u001b[0m\u001b[0m\n\u001b[1;32m   1990\u001b[0m         \"\"\"\n\u001b[0;32m-> 1991\u001b[0;31m         \u001b[0mpath\u001b[0m \u001b[0;34m=\u001b[0m \u001b[0mline\u001b[0m\u001b[0;34m.\u001b[0m\u001b[0mget_path\u001b[0m\u001b[0;34m(\u001b[0m\u001b[0;34m)\u001b[0m\u001b[0;34m\u001b[0m\u001b[0;34m\u001b[0m\u001b[0m\n\u001b[0m\u001b[1;32m   1992\u001b[0m         \u001b[0;32mif\u001b[0m \u001b[0mpath\u001b[0m\u001b[0;34m.\u001b[0m\u001b[0mvertices\u001b[0m\u001b[0;34m.\u001b[0m\u001b[0msize\u001b[0m \u001b[0;34m==\u001b[0m \u001b[0;36m0\u001b[0m\u001b[0;34m:\u001b[0m\u001b[0;34m\u001b[0m\u001b[0;34m\u001b[0m\u001b[0m\n\u001b[1;32m   1993\u001b[0m             \u001b[0;32mreturn\u001b[0m\u001b[0;34m\u001b[0m\u001b[0;34m\u001b[0m\u001b[0m\n",
      "\u001b[0;32m/opt/sagemath-9.2/local/lib/python3.7/site-packages/matplotlib/lines.py\u001b[0m in \u001b[0;36mget_path\u001b[0;34m(self)\u001b[0m\n\u001b[1;32m   1009\u001b[0m         \"\"\"\n\u001b[1;32m   1010\u001b[0m         \u001b[0;32mif\u001b[0m \u001b[0mself\u001b[0m\u001b[0;34m.\u001b[0m\u001b[0m_invalidy\u001b[0m \u001b[0;32mor\u001b[0m \u001b[0mself\u001b[0m\u001b[0;34m.\u001b[0m\u001b[0m_invalidx\u001b[0m\u001b[0;34m:\u001b[0m\u001b[0;34m\u001b[0m\u001b[0;34m\u001b[0m\u001b[0m\n\u001b[0;32m-> 1011\u001b[0;31m             \u001b[0mself\u001b[0m\u001b[0;34m.\u001b[0m\u001b[0mrecache\u001b[0m\u001b[0;34m(\u001b[0m\u001b[0;34m)\u001b[0m\u001b[0;34m\u001b[0m\u001b[0;34m\u001b[0m\u001b[0m\n\u001b[0m\u001b[1;32m   1012\u001b[0m         \u001b[0;32mreturn\u001b[0m \u001b[0mself\u001b[0m\u001b[0;34m.\u001b[0m\u001b[0m_path\u001b[0m\u001b[0;34m\u001b[0m\u001b[0;34m\u001b[0m\u001b[0m\n\u001b[1;32m   1013\u001b[0m \u001b[0;34m\u001b[0m\u001b[0m\n",
      "\u001b[0;32m/opt/sagemath-9.2/local/lib/python3.7/site-packages/matplotlib/lines.py\u001b[0m in \u001b[0;36mrecache\u001b[0;34m(self, always)\u001b[0m\n\u001b[1;32m    651\u001b[0m         \u001b[0;32mif\u001b[0m \u001b[0malways\u001b[0m \u001b[0;32mor\u001b[0m \u001b[0mself\u001b[0m\u001b[0;34m.\u001b[0m\u001b[0m_invalidx\u001b[0m\u001b[0;34m:\u001b[0m\u001b[0;34m\u001b[0m\u001b[0;34m\u001b[0m\u001b[0m\n\u001b[1;32m    652\u001b[0m             \u001b[0mxconv\u001b[0m \u001b[0;34m=\u001b[0m \u001b[0mself\u001b[0m\u001b[0;34m.\u001b[0m\u001b[0mconvert_xunits\u001b[0m\u001b[0;34m(\u001b[0m\u001b[0mself\u001b[0m\u001b[0;34m.\u001b[0m\u001b[0m_xorig\u001b[0m\u001b[0;34m)\u001b[0m\u001b[0;34m\u001b[0m\u001b[0;34m\u001b[0m\u001b[0m\n\u001b[0;32m--> 653\u001b[0;31m             \u001b[0mx\u001b[0m \u001b[0;34m=\u001b[0m \u001b[0m_to_unmasked_float_array\u001b[0m\u001b[0;34m(\u001b[0m\u001b[0mxconv\u001b[0m\u001b[0;34m)\u001b[0m\u001b[0;34m.\u001b[0m\u001b[0mravel\u001b[0m\u001b[0;34m(\u001b[0m\u001b[0;34m)\u001b[0m\u001b[0;34m\u001b[0m\u001b[0;34m\u001b[0m\u001b[0m\n\u001b[0m\u001b[1;32m    654\u001b[0m         \u001b[0;32melse\u001b[0m\u001b[0;34m:\u001b[0m\u001b[0;34m\u001b[0m\u001b[0;34m\u001b[0m\u001b[0m\n\u001b[1;32m    655\u001b[0m             \u001b[0mx\u001b[0m \u001b[0;34m=\u001b[0m \u001b[0mself\u001b[0m\u001b[0;34m.\u001b[0m\u001b[0m_x\u001b[0m\u001b[0;34m\u001b[0m\u001b[0;34m\u001b[0m\u001b[0m\n",
      "\u001b[0;32m/opt/sagemath-9.2/local/lib/python3.7/site-packages/matplotlib/cbook/__init__.py\u001b[0m in \u001b[0;36m_to_unmasked_float_array\u001b[0;34m(x)\u001b[0m\n\u001b[1;32m   1287\u001b[0m         \u001b[0;32mreturn\u001b[0m \u001b[0mnp\u001b[0m\u001b[0;34m.\u001b[0m\u001b[0mma\u001b[0m\u001b[0;34m.\u001b[0m\u001b[0masarray\u001b[0m\u001b[0;34m(\u001b[0m\u001b[0mx\u001b[0m\u001b[0;34m,\u001b[0m \u001b[0mfloat\u001b[0m\u001b[0;34m)\u001b[0m\u001b[0;34m.\u001b[0m\u001b[0mfilled\u001b[0m\u001b[0;34m(\u001b[0m\u001b[0mnp\u001b[0m\u001b[0;34m.\u001b[0m\u001b[0mnan\u001b[0m\u001b[0;34m)\u001b[0m\u001b[0;34m\u001b[0m\u001b[0;34m\u001b[0m\u001b[0m\n\u001b[1;32m   1288\u001b[0m     \u001b[0;32melse\u001b[0m\u001b[0;34m:\u001b[0m\u001b[0;34m\u001b[0m\u001b[0;34m\u001b[0m\u001b[0m\n\u001b[0;32m-> 1289\u001b[0;31m         \u001b[0;32mreturn\u001b[0m \u001b[0mnp\u001b[0m\u001b[0;34m.\u001b[0m\u001b[0masarray\u001b[0m\u001b[0;34m(\u001b[0m\u001b[0mx\u001b[0m\u001b[0;34m,\u001b[0m \u001b[0mfloat\u001b[0m\u001b[0;34m)\u001b[0m\u001b[0;34m\u001b[0m\u001b[0;34m\u001b[0m\u001b[0m\n\u001b[0m\u001b[1;32m   1290\u001b[0m \u001b[0;34m\u001b[0m\u001b[0m\n\u001b[1;32m   1291\u001b[0m \u001b[0;34m\u001b[0m\u001b[0m\n",
      "\u001b[0;32m/opt/sagemath-9.2/local/lib/python3.7/site-packages/numpy/core/_asarray.py\u001b[0m in \u001b[0;36masarray\u001b[0;34m(a, dtype, order)\u001b[0m\n\u001b[1;32m     81\u001b[0m \u001b[0;34m\u001b[0m\u001b[0m\n\u001b[1;32m     82\u001b[0m     \"\"\"\n\u001b[0;32m---> 83\u001b[0;31m     \u001b[0;32mreturn\u001b[0m \u001b[0marray\u001b[0m\u001b[0;34m(\u001b[0m\u001b[0ma\u001b[0m\u001b[0;34m,\u001b[0m \u001b[0mdtype\u001b[0m\u001b[0;34m,\u001b[0m \u001b[0mcopy\u001b[0m\u001b[0;34m=\u001b[0m\u001b[0;32mFalse\u001b[0m\u001b[0;34m,\u001b[0m \u001b[0morder\u001b[0m\u001b[0;34m=\u001b[0m\u001b[0morder\u001b[0m\u001b[0;34m)\u001b[0m\u001b[0;34m\u001b[0m\u001b[0;34m\u001b[0m\u001b[0m\n\u001b[0m\u001b[1;32m     84\u001b[0m \u001b[0;34m\u001b[0m\u001b[0m\n\u001b[1;32m     85\u001b[0m \u001b[0;34m\u001b[0m\u001b[0m\n",
      "\u001b[0;32m/opt/sagemath-9.2/local/lib/python3.7/site-packages/sage/symbolic/expression.pyx\u001b[0m in \u001b[0;36msage.symbolic.expression.Expression.__float__ (build/cythonized/sage/symbolic/expression.cpp:12123)\u001b[0;34m()\u001b[0m\n\u001b[1;32m   1675\u001b[0m                     \u001b[0;32mraise\u001b[0m\u001b[0;34m\u001b[0m\u001b[0;34m\u001b[0m\u001b[0m\n\u001b[1;32m   1676\u001b[0m             \u001b[0;32mexcept\u001b[0m \u001b[0mTypeError\u001b[0m\u001b[0;34m:\u001b[0m\u001b[0;34m\u001b[0m\u001b[0;34m\u001b[0m\u001b[0m\n\u001b[0;32m-> 1677\u001b[0;31m                 \u001b[0;32mraise\u001b[0m \u001b[0mTypeError\u001b[0m\u001b[0;34m(\u001b[0m\u001b[0;34m\"unable to simplify to float approximation\"\u001b[0m\u001b[0;34m)\u001b[0m\u001b[0;34m\u001b[0m\u001b[0;34m\u001b[0m\u001b[0m\n\u001b[0m\u001b[1;32m   1678\u001b[0m         \u001b[0;32mreturn\u001b[0m \u001b[0mret\u001b[0m\u001b[0;34m\u001b[0m\u001b[0;34m\u001b[0m\u001b[0m\n\u001b[1;32m   1679\u001b[0m \u001b[0;34m\u001b[0m\u001b[0m\n",
      "\u001b[0;31mTypeError\u001b[0m: unable to simplify to float approximation"
     ]
    },
    {
     "data": {
      "image/png": "[encoded data removed]",
      "text/plain": [
       "<Figure size 432x288 with 1 Axes>"
      ]
     },
     "metadata": {
      "needs_background": "light"
     },
     "output_type": "display_data"
    }
   ],
   "source": [
    "for i in tqdm.tqdm(range(0,1000)):\n",
    "    \n",
    "    angles = [fsol(l = i/1000) for fsol in fsols]\n",
    "    plot_angles(angles, save = True, save_name = 'multi/plot{}'.format(str(i)), show = False)"
   ]
  },
  {
   "cell_type": "code",
   "execution_count": null,
   "metadata": {},
   "outputs": [],
   "source": []
  }
 ],
 "metadata": {
  "kernelspec": {
   "display_name": "SageMath 9.2",
   "language": "sage",
   "name": "sagemath"
  },
  "language_info": {
   "codemirror_mode": {
    "name": "ipython",
    "version": 3
   },
   "file_extension": ".py",
   "mimetype": "text/x-python",
   "name": "python",
   "nbconvert_exporter": "python",
   "pygments_lexer": "ipython3",
   "version": "3.7.7"
  }
 },
 "nbformat": 4,
 "nbformat_minor": 4
}
