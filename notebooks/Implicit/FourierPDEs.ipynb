{
 "cells": [
  {
   "cell_type": "markdown",
   "metadata": {},
   "source": [
    "# Differential Equations"
   ]
  },
  {
   "cell_type": "code",
   "execution_count": null,
   "metadata": {},
   "outputs": [],
   "source": []
  },
  {
   "cell_type": "code",
   "execution_count": 1,
   "metadata": {},
   "outputs": [],
   "source": [
    "from IPython.display import display, Markdown\n",
    "def latexify(x):\n",
    "    out = '$' + x + '$'\n",
    "    return out\n",
    "\n",
    "def lprint(x):\n",
    "    display(Markdown(latexify(latex(x))))"
   ]
  },
  {
   "cell_type": "code",
   "execution_count": 2,
   "metadata": {},
   "outputs": [],
   "source": [
    "%run -i 'implicit.py'"
   ]
  },
  {
   "cell_type": "markdown",
   "metadata": {},
   "source": [
    "In this notebook we will implement Luvunkin? methods, reducing a partial differential equation to a finite dimensional problem"
   ]
  },
  {
   "cell_type": "markdown",
   "metadata": {},
   "source": [
    "## Encoding differential equations"
   ]
  },
  {
   "cell_type": "markdown",
   "metadata": {},
   "source": [
    "First we seek a way to encode differential equations in SageMath"
   ]
  },
  {
   "cell_type": "markdown",
   "metadata": {},
   "source": [
    "For now we will only attempt to solve for functions of one variable,\n",
    "\n",
    "$$ f : \\mathbb{R} \\rightarrow \\mathbb{R} $$"
   ]
  },
  {
   "cell_type": "markdown",
   "metadata": {},
   "source": [
    "The simplicity of these functions is that all their higher order derivatives, if defined, are also just functions \n",
    "\n",
    "$$ f^{(k)} : \\mathbb{R} \\rightarrow \\mathbb{R} $$"
   ]
  },
  {
   "cell_type": "markdown",
   "metadata": {},
   "source": [
    "Thus a $k$-th order system of partial differential equations can be thought of as function:\n",
    "\n",
    "\n",
    "$$ \\Phi = \\phi \\circ P_{k} $$"
   ]
  },
  {
   "cell_type": "markdown",
   "metadata": {},
   "source": [
    "Where:\n",
    "    \n",
    "$$ P_k : C^{\\infty}(\\mathbb{R}) \\rightarrow \\mathbb{R}^{k+1} $$\n",
    "\n",
    "$$ P_k(f)(x) = [x , f(x), f^{1}(x), .... , f^{k}(x) ] $$"
   ]
  },
  {
   "cell_type": "markdown",
   "metadata": {},
   "source": [
    "And \n",
    "$$ \\phi : \\mathbb{R}^{k+1} \\rightarrow \\mathbb{R}^n $$"
   ]
  },
  {
   "cell_type": "markdown",
   "metadata": {},
   "source": [
    "for example if $k = 2$ and then we may attempt to solve:\n",
    "\n",
    "$$ \\Phi(f)(x) = f^{(2)}(x) + \\cos(x) f^{1}(x) - 10 $$"
   ]
  },
  {
   "cell_type": "markdown",
   "metadata": {},
   "source": [
    "This notation allows us to encode partial differential equations as multivariable equations, only omitting equations such as:\n",
    "\n",
    "$$f^{1}(x - 2) = -f^{2}(x) + f(cos(x)) $$\n",
    "\n",
    "Which would need an alternative treatment"
   ]
  },
  {
   "cell_type": "markdown",
   "metadata": {},
   "source": [
    "## Fourier series approximation"
   ]
  },
  {
   "cell_type": "markdown",
   "metadata": {},
   "source": [
    "Now we recall that functions in $C^{\\infty}(\\mathbb{R})$ can be approximated by sines and cosine, in a Fourier series"
   ]
  },
  {
   "cell_type": "markdown",
   "metadata": {},
   "source": [
    "$$f(x) = \\frac{a_{0}}{2} + \\sum_{n = 1}^{\\infty}a_n \\cos(nx) + \\sum_{n = 1}^{\\infty}\\sin(nx) $$"
   ]
  },
  {
   "cell_type": "markdown",
   "metadata": {},
   "source": [
    "If we truncate to say $n = 2$ then we can approximate $C^{\\infty}(\\mathbb{R})$ by $\\mathbb{R}^5$, one dimension for each coefficient."
   ]
  },
  {
   "cell_type": "code",
   "execution_count": 3,
   "metadata": {},
   "outputs": [],
   "source": [
    "class PDE():\n",
    "    def __init__(self, k , phi, phi_var):\n",
    "        if len(phi_var) != k+2:\n",
    "            raise(Exception('wrong number of functions given, should be a list {} long'.format(k)))\n",
    "        self.k = k # order of the PDE\n",
    "        self.phi = phi # list of $k + 1$ functions\n",
    "        self.phi_var = phi_var # should be a dictionary\n",
    "        \n",
    "    \n",
    "    def __str__(self):\n",
    "        # reformat phi so shows as a pde\n",
    "        out = latex(self.phi)\n",
    "        for var in self.phi_var.keys():\n",
    "            if var == 'x':\n",
    "                continue\n",
    "            out = out.replace(latex(self.phi_var[var]), var)\n",
    "            \n",
    "        return out\n",
    "    \n",
    "    def _latex_(self):\n",
    "        return str(self)               \n",
    "            \n",
    "        \n",
    "        \n",
    "    def fourier_approx_raw(self, x, anbn, n = 2, p = 2*pi):\n",
    "        # n is the order of the Fourier approximation\n",
    "        # x should be a SageMath variable\n",
    "        if len(anbn) != 2*n + 1:\n",
    "            raise(Exception('Should be {} coefficients'.format(2*n+1)))\n",
    "        \n",
    "        # first generate the fourier approx f(x)\n",
    "        \n",
    "        f(x) = anbn[0]/2 \n",
    "        for i in range(1,n+1):\n",
    "            f(x) = f(x) + anbn[i] * cos(i*x * (2*pi / p)) + anbn[n + i] * sin(i*x * (2*pi / p))\n",
    "        \n",
    "        temp(x) = x\n",
    "        fr_vars = [temp, f]\n",
    "        if self.k > 0:\n",
    "            for i in range(1, self.k +1):\n",
    "                f = f.diff()[0] # returns a matrix of one, so take first elt\n",
    "                fr_vars.append(f)\n",
    "        out(x) = phi(*fr_vars)\n",
    "        \n",
    "        return out\n",
    "    \n",
    "    def fourier_approx(self, x, anbn, n = 2, p = 2*pi):\n",
    "        raw = self.fourier_approx_raw(x, anbn, n, p)\n",
    "        out = [0]*(2*n+1)\n",
    "        \n",
    "        # first get a0\n",
    "        a0 = integral(raw, (x,0,p))\n",
    "        \n",
    "        out[0] = a0\n",
    "        for i in range(1, n+1):\n",
    "            ai = integral(raw * cos(i*x * (2*pi / p)), (x,0,p))\n",
    "            bi = integral(raw * sin(i*x * (2*pi / p)), (x,0,p))\n",
    "            out[i] = ai\n",
    "            out[n + i] = bi\n",
    "        \n",
    "        return out\n",
    "        \n",
    "        \n",
    "    # TODO overide display method, so can view the PDE"
   ]
  },
  {
   "cell_type": "code",
   "execution_count": 4,
   "metadata": {},
   "outputs": [
    {
     "data": {
      "text/plain": [
       "l"
      ]
     },
     "execution_count": 4,
     "metadata": {},
     "output_type": "execute_result"
    }
   ],
   "source": [
    "var('x a0 a1 a2 b1 b2 x0 x1')\n",
    "var('l', latex_name=r'\\lambda')"
   ]
  },
  {
   "cell_type": "code",
   "execution_count": 5,
   "metadata": {},
   "outputs": [],
   "source": [
    "phi(x, x0, x1) = x0*cos(x) + l*x1 - x0^2  # solving f'(x) - f(x)^2 + cos(x) = 0"
   ]
  },
  {
   "cell_type": "code",
   "execution_count": 6,
   "metadata": {},
   "outputs": [],
   "source": [
    "pde = PDE(1, phi, phi_var = {'x' : x, 'f(x)' : x0, 'f^{1}(x)' : x1} )"
   ]
  },
  {
   "cell_type": "code",
   "execution_count": 7,
   "metadata": {},
   "outputs": [
    {
     "data": {
      "text/markdown": [
       "$ \\left( x, f(x), f^{1}(x) \\right) \\ {\\mapsto} \\ -f(x)^{2} + {\\lambda} f^{1}(x) + f(x) \\cos\\left(x\\right) $"
      ],
      "text/plain": [
       "<IPython.core.display.Markdown object>"
      ]
     },
     "metadata": {},
     "output_type": "display_data"
    }
   ],
   "source": [
    "lprint(pde)"
   ]
  },
  {
   "cell_type": "markdown",
   "metadata": {},
   "source": [
    "See that the zero function is a solution of this system"
   ]
  },
  {
   "cell_type": "code",
   "execution_count": 8,
   "metadata": {},
   "outputs": [],
   "source": [
    "f = pde.fourier_approx_raw(x, [a0, a1, a2, b1, b2])"
   ]
  },
  {
   "cell_type": "code",
   "execution_count": 9,
   "metadata": {},
   "outputs": [
    {
     "data": {
      "text/markdown": [
       "$ x \\ {\\mapsto}\\ -\\frac{1}{4} \\, {\\left(2 \\, a_{2} \\cos\\left(2 \\, x\\right) + 2 \\, a_{1} \\cos\\left(x\\right) + 2 \\, b_{2} \\sin\\left(2 \\, x\\right) + 2 \\, b_{1} \\sin\\left(x\\right) + a_{0}\\right)}^{2} + {\\left(2 \\, b_{2} \\cos\\left(2 \\, x\\right) + b_{1} \\cos\\left(x\\right) - 2 \\, a_{2} \\sin\\left(2 \\, x\\right) - a_{1} \\sin\\left(x\\right)\\right)} {\\lambda} + \\frac{1}{2} \\, {\\left(2 \\, a_{2} \\cos\\left(2 \\, x\\right) + 2 \\, a_{1} \\cos\\left(x\\right) + 2 \\, b_{2} \\sin\\left(2 \\, x\\right) + 2 \\, b_{1} \\sin\\left(x\\right) + a_{0}\\right)} \\cos\\left(x\\right) $"
      ],
      "text/plain": [
       "<IPython.core.display.Markdown object>"
      ]
     },
     "metadata": {},
     "output_type": "display_data"
    }
   ],
   "source": [
    "lprint(f)"
   ]
  },
  {
   "cell_type": "markdown",
   "metadata": {},
   "source": [
    "Here we have replaced $f(x)$ with a Fourier series, and then computed derivatives from those to act as new inputs to phi, now we would like to return this to a standard fourier series"
   ]
  },
  {
   "cell_type": "code",
   "execution_count": 10,
   "metadata": {},
   "outputs": [],
   "source": [
    "flist = pde.fourier_approx(x, [a0, a1, a2, b1, b2])"
   ]
  },
  {
   "cell_type": "code",
   "execution_count": 11,
   "metadata": {},
   "outputs": [
    {
     "data": {
      "text/markdown": [
       "$ -\\frac{1}{2} \\, \\pi a_{0}^{2} - \\pi a_{1}^{2} - \\pi a_{2}^{2} - \\pi b_{1}^{2} - \\pi b_{2}^{2} + \\pi a_{1} $"
      ],
      "text/plain": [
       "<IPython.core.display.Markdown object>"
      ]
     },
     "metadata": {},
     "output_type": "display_data"
    },
    {
     "data": {
      "text/markdown": [
       "$ -\\pi a_{0} a_{1} + \\frac{1}{2} \\, \\pi a_{0} + \\frac{1}{2} \\, {\\left(\\pi - 2 \\, \\pi a_{1}\\right)} a_{2} - \\frac{1}{30} \\, {\\left(30 \\, \\pi b_{1} - 20 \\, a_{0} - 30 \\, a_{1} - 8 \\, a_{2} + 15\\right)} b_{2} - \\frac{1}{30} \\, {\\left(20 \\, a_{0} + 30 \\, a_{1} + 8 \\, a_{2} - 15\\right)} b_{2} + \\frac{1}{6} \\, {\\left(6 \\, \\pi b_{1} + 3 \\, a_{1} + 8 \\, a_{2}\\right)} {\\lambda} - \\frac{1}{6} \\, {\\left(3 \\, a_{1} + 8 \\, a_{2}\\right)} {\\lambda} $"
      ],
      "text/plain": [
       "<IPython.core.display.Markdown object>"
      ]
     },
     "metadata": {},
     "output_type": "display_data"
    },
    {
     "data": {
      "text/markdown": [
       "$ -\\frac{1}{2} \\, \\pi a_{1}^{2} - \\pi a_{0} a_{2} + \\frac{1}{2} \\, \\pi b_{1}^{2} + \\frac{1}{2} \\, \\pi a_{1} + \\frac{1}{6} \\, {\\left(12 \\, \\pi b_{2} - 2 \\, a_{1} + 3 \\, a_{2}\\right)} {\\lambda} + \\frac{1}{6} \\, {\\left(2 \\, a_{1} - 3 \\, a_{2}\\right)} {\\lambda} $"
      ],
      "text/plain": [
       "<IPython.core.display.Markdown object>"
      ]
     },
     "metadata": {},
     "output_type": "display_data"
    },
    {
     "data": {
      "text/markdown": [
       "$ -{\\left(\\pi a_{0} - \\pi a_{2}\\right)} b_{1} + \\frac{1}{2} \\, {\\left(\\pi - 2 \\, \\pi a_{1}\\right)} b_{2} - \\frac{1}{6} \\, {\\left(6 \\, \\pi a_{1} + 3 \\, b_{1} - 4 \\, b_{2}\\right)} {\\lambda} + \\frac{1}{6} \\, {\\left(3 \\, b_{1} - 4 \\, b_{2}\\right)} {\\lambda} $"
      ],
      "text/plain": [
       "<IPython.core.display.Markdown object>"
      ]
     },
     "metadata": {},
     "output_type": "display_data"
    },
    {
     "data": {
      "text/markdown": [
       "$ \\frac{1}{2} \\, {\\left(\\pi - 2 \\, \\pi a_{1}\\right)} b_{1} - \\frac{1}{15} \\, {\\left(15 \\, \\pi a_{0} - 16 \\, b_{1}\\right)} b_{2} - \\frac{16}{15} \\, b_{1} b_{2} - \\frac{1}{6} \\, {\\left(12 \\, \\pi a_{2} + 4 \\, b_{1} + 3 \\, b_{2}\\right)} {\\lambda} + \\frac{1}{6} \\, {\\left(4 \\, b_{1} + 3 \\, b_{2}\\right)} {\\lambda} $"
      ],
      "text/plain": [
       "<IPython.core.display.Markdown object>"
      ]
     },
     "metadata": {},
     "output_type": "display_data"
    }
   ],
   "source": [
    "for i in flist:\n",
    "    lprint(i)"
   ]
  },
  {
   "cell_type": "markdown",
   "metadata": {},
   "source": [
    "This reduces our problem from an infinite dimensional one to trying to solve:\n",
    "$\\tilde{f} : \\mathbb{R}^5 \\rightarrow \\mathbb{R}^5$"
   ]
  },
  {
   "cell_type": "markdown",
   "metadata": {},
   "source": [
    "## Dimension reduction"
   ]
  },
  {
   "cell_type": "markdown",
   "metadata": {},
   "source": [
    "Lets define a system:"
   ]
  },
  {
   "cell_type": "code",
   "execution_count": 12,
   "metadata": {},
   "outputs": [],
   "source": [
    "f1(a0, a1, a2, b1, b2, l) = flist[0]\n",
    "f2(a0, a1, a2, b1, b2, l) = flist[1]\n",
    "f3(a0, a1, a2, b1, b2, l) = flist[2]\n",
    "f4(a0, a1, a2, b1, b2, l) = flist[3]\n",
    "f5(a0, a1, a2, b1, b2, l) = flist[4]\n",
    "funcs = [f1,f2,f3,f4,f5]"
   ]
  },
  {
   "cell_type": "code",
   "execution_count": 13,
   "metadata": {},
   "outputs": [
    {
     "data": {
      "text/markdown": [
       "$ \\left( a_{0}, a_{1}, a_{2}, b_{1}, b_{2}, {\\lambda} \\right) \\ {\\mapsto} \\ -\\pi a_{0} a_{1} + \\frac{1}{2} \\, \\pi a_{0} + \\frac{1}{2} \\, {\\left(\\pi - 2 \\, \\pi a_{1}\\right)} a_{2} - \\frac{1}{30} \\, {\\left(30 \\, \\pi b_{1} - 20 \\, a_{0} - 30 \\, a_{1} - 8 \\, a_{2} + 15\\right)} b_{2} - \\frac{1}{30} \\, {\\left(20 \\, a_{0} + 30 \\, a_{1} + 8 \\, a_{2} - 15\\right)} b_{2} + \\frac{1}{6} \\, {\\left(6 \\, \\pi b_{1} + 3 \\, a_{1} + 8 \\, a_{2}\\right)} {\\lambda} - \\frac{1}{6} \\, {\\left(3 \\, a_{1} + 8 \\, a_{2}\\right)} {\\lambda} $"
      ],
      "text/plain": [
       "<IPython.core.display.Markdown object>"
      ]
     },
     "metadata": {},
     "output_type": "display_data"
    }
   ],
   "source": [
    "lprint(f2)"
   ]
  },
  {
   "cell_type": "markdown",
   "metadata": {},
   "source": [
    "Lets check that zero is still a solution:"
   ]
  },
  {
   "cell_type": "code",
   "execution_count": 14,
   "metadata": {},
   "outputs": [
    {
     "data": {
      "text/plain": [
       "[0, 0, 0, 0, 0]"
      ]
     },
     "execution_count": 14,
     "metadata": {},
     "output_type": "execute_result"
    }
   ],
   "source": [
    "[func(0,0,0,0,0,l) for func in funcs]"
   ]
  },
  {
   "cell_type": "markdown",
   "metadata": {},
   "source": [
    "So now we compute the Jacobian as usual:"
   ]
  },
  {
   "cell_type": "code",
   "execution_count": 15,
   "metadata": {},
   "outputs": [
    {
     "data": {
      "text/markdown": [
       "$ \\left(\\begin{array}{rrrrr}\n",
       "0 & \\pi & 0 & 0 & 0 \\\\\n",
       "\\frac{1}{2} \\, \\pi & 0 & \\frac{1}{2} \\, \\pi & 0 & 0 \\\\\n",
       "0 & \\frac{1}{2} \\, \\pi & 0 & 0 & 0 \\\\\n",
       "0 & 0 & 0 & 0 & \\frac{1}{2} \\, \\pi \\\\\n",
       "0 & 0 & 0 & \\frac{1}{2} \\, \\pi & 0\n",
       "\\end{array}\\right) $"
      ],
      "text/plain": [
       "<IPython.core.display.Markdown object>"
      ]
     },
     "metadata": {},
     "output_type": "display_data"
    }
   ],
   "source": [
    "J = jacobian(funcs, (a0, a1, a2, b1, b2))(a0=0, a1=0, a2=0, b1=0, b2=0, l=0 )\n",
    "lprint(J)"
   ]
  },
  {
   "cell_type": "code",
   "execution_count": 16,
   "metadata": {},
   "outputs": [
    {
     "data": {
      "text/markdown": [
       "$ \\left[\\left(1,\\,0,\\,-1,\\,0,\\,0\\right)\\right] $"
      ],
      "text/plain": [
       "<IPython.core.display.Markdown object>"
      ]
     },
     "metadata": {},
     "output_type": "display_data"
    }
   ],
   "source": [
    "K = J.right_kernel().basis()\n",
    "lprint(K)"
   ]
  },
  {
   "cell_type": "markdown",
   "metadata": {},
   "source": [
    "We see that the Jacobian has a one dimensional kernel at 0, indicating a potential new strand of solutions:"
   ]
  },
  {
   "cell_type": "code",
   "execution_count": 17,
   "metadata": {},
   "outputs": [
    {
     "data": {
      "text/markdown": [
       "$ \\left[\\left(1,\\,0,\\,1,\\,0,\\,0\\right), \\left(0,\\,1,\\,0,\\,0,\\,0\\right), \\left(0,\\,0,\\,0,\\,1,\\,0\\right), \\left(0,\\,0,\\,0,\\,0,\\,1\\right)\\right] $"
      ],
      "text/plain": [
       "<IPython.core.display.Markdown object>"
      ]
     },
     "metadata": {},
     "output_type": "display_data"
    }
   ],
   "source": [
    "I = J.image().basis()\n",
    "lprint(I)"
   ]
  },
  {
   "cell_type": "markdown",
   "metadata": {},
   "source": [
    "And as expected a 4 dimensional solution set"
   ]
  },
  {
   "cell_type": "code",
   "execution_count": 18,
   "metadata": {},
   "outputs": [
    {
     "data": {
      "text/markdown": [
       "$ \\left[\\left(1,\\,0,\\,1,\\,0,\\,0\\right), \\left(0,\\,1,\\,0,\\,0,\\,0\\right), \\left(0,\\,0,\\,0,\\,1,\\,0\\right), \\left(0,\\,0,\\,0,\\,0,\\,1\\right)\\right] $"
      ],
      "text/plain": [
       "<IPython.core.display.Markdown object>"
      ]
     },
     "metadata": {},
     "output_type": "display_data"
    }
   ],
   "source": [
    "Kperp = matrix(K).right_kernel().basis()\n",
    "lprint(Kperp)"
   ]
  },
  {
   "cell_type": "code",
   "execution_count": 19,
   "metadata": {},
   "outputs": [
    {
     "data": {
      "text/markdown": [
       "$ \\left[\\left(1,\\,0,\\,-1,\\,0,\\,0\\right)\\right] $"
      ],
      "text/plain": [
       "<IPython.core.display.Markdown object>"
      ]
     },
     "metadata": {},
     "output_type": "display_data"
    }
   ],
   "source": [
    "Iperp = matrix(I).right_kernel().basis()\n",
    "lprint(Iperp)"
   ]
  },
  {
   "cell_type": "markdown",
   "metadata": {},
   "source": [
    "### Getting the A,B matrices"
   ]
  },
  {
   "cell_type": "code",
   "execution_count": 20,
   "metadata": {},
   "outputs": [
    {
     "data": {
      "text/markdown": [
       "$ \\left(\\begin{array}{rrrrr}\n",
       "\\frac{1}{2} & \\frac{1}{2} & 0 & 0 & 0 \\\\\n",
       "0 & 0 & 1 & 0 & 0 \\\\\n",
       "-\\frac{1}{2} & \\frac{1}{2} & 0 & 0 & 0 \\\\\n",
       "0 & 0 & 0 & 1 & 0 \\\\\n",
       "0 & 0 & 0 & 0 & 1\n",
       "\\end{array}\\right) $"
      ],
      "text/plain": [
       "<IPython.core.display.Markdown object>"
      ]
     },
     "metadata": {},
     "output_type": "display_data"
    }
   ],
   "source": [
    "A = matrix(K+Kperp).inverse()\n",
    "lprint(A) # inverse so is change of basis"
   ]
  },
  {
   "cell_type": "code",
   "execution_count": 21,
   "metadata": {},
   "outputs": [
    {
     "data": {
      "text/markdown": [
       "$ \\left(\\begin{array}{rrrrr}\n",
       "\\frac{1}{2} & 0 & 0 & 0 & \\frac{1}{2} \\\\\n",
       "0 & 1 & 0 & 0 & 0 \\\\\n",
       "\\frac{1}{2} & 0 & 0 & 0 & -\\frac{1}{2} \\\\\n",
       "0 & 0 & 1 & 0 & 0 \\\\\n",
       "0 & 0 & 0 & 1 & 0\n",
       "\\end{array}\\right) $"
      ],
      "text/plain": [
       "<IPython.core.display.Markdown object>"
      ]
     },
     "metadata": {},
     "output_type": "display_data"
    }
   ],
   "source": [
    "B = matrix(I + Iperp).inverse()\n",
    "lprint(B)"
   ]
  },
  {
   "cell_type": "markdown",
   "metadata": {},
   "source": [
    "### The new f"
   ]
  },
  {
   "cell_type": "code",
   "execution_count": 22,
   "metadata": {},
   "outputs": [],
   "source": [
    "f1A(a0, a1, a2, b1, b2, l) = f1(*list(A*vector([a0, a1, a2, b1, b2])), l)\n",
    "f2A(a0, a1, a2, b1, b2, l) = f2(*list(A*vector([a0, a1, a2, b1, b2])), l)\n",
    "f3A(a0, a1, a2, b1, b2, l) = f3(*list(A*vector([a0, a1, a2, b1, b2])), l)\n",
    "f4A(a0, a1, a2, b1, b2, l) = f4(*list(A*vector([a0, a1, a2, b1, b2])), l)\n",
    "f5A(a0, a1, a2, b1, b2, l) = f5(*list(A*vector([a0, a1, a2, b1, b2])), l)"
   ]
  },
  {
   "cell_type": "code",
   "execution_count": 23,
   "metadata": {},
   "outputs": [],
   "source": [
    "[ft1,ft2,ft3,ft4,ft5] = B.inverse()*vector([f1A,f2A,f3A,f4A,f5A])\n",
    "funcs = [ft1,ft2,ft3,ft4,ft5]"
   ]
  },
  {
   "cell_type": "code",
   "execution_count": 24,
   "metadata": {},
   "outputs": [
    {
     "data": {
      "text/markdown": [
       "$ \\left( a_{0}, a_{1}, a_{2}, b_{1}, b_{2}, {\\lambda} \\right) \\ {\\mapsto} \\ -\\frac{1}{2} \\, \\pi {\\left(a_{0} + a_{1}\\right)} a_{2} + \\frac{1}{4} \\, \\pi {\\left(a_{0} + a_{1}\\right)} - \\frac{1}{4} \\, {\\left(\\pi - 2 \\, \\pi a_{2}\\right)} {\\left(a_{0} - a_{1}\\right)} - \\frac{1}{30} \\, {\\left(30 \\, \\pi b_{1} - 6 \\, a_{0} - 14 \\, a_{1} - 30 \\, a_{2} + 15\\right)} b_{2} - \\frac{1}{30} \\, {\\left(6 \\, a_{0} + 14 \\, a_{1} + 30 \\, a_{2} - 15\\right)} b_{2} + \\frac{1}{6} \\, {\\left(6 \\, \\pi b_{1} - 4 \\, a_{0} + 4 \\, a_{1} + 3 \\, a_{2}\\right)} {\\lambda} + \\frac{1}{6} \\, {\\left(4 \\, a_{0} - 4 \\, a_{1} - 3 \\, a_{2}\\right)} {\\lambda} $"
      ],
      "text/plain": [
       "<IPython.core.display.Markdown object>"
      ]
     },
     "metadata": {},
     "output_type": "display_data"
    }
   ],
   "source": [
    "lprint(ft2)"
   ]
  },
  {
   "cell_type": "code",
   "execution_count": 25,
   "metadata": {},
   "outputs": [
    {
     "data": {
      "text/markdown": [
       "$ \\left(\\begin{array}{rrrrr}\n",
       "0 & 0 & \\frac{3}{2} \\, \\pi & 0 & 0 \\\\\n",
       "0 & \\frac{1}{2} \\, \\pi & 0 & 0 & 0 \\\\\n",
       "0 & 0 & 0 & 0 & \\frac{1}{2} \\, \\pi \\\\\n",
       "0 & 0 & 0 & \\frac{1}{2} \\, \\pi & 0 \\\\\n",
       "0 & 0 & \\frac{1}{2} \\, \\pi & 0 & 0\n",
       "\\end{array}\\right) $"
      ],
      "text/plain": [
       "<IPython.core.display.Markdown object>"
      ]
     },
     "metadata": {},
     "output_type": "display_data"
    }
   ],
   "source": [
    "Jt = jacobian(funcs, (a0, a1, a2, b1, b2))(a0=0, a1=0, a2=0, b1=0, b2=0, l=0)\n",
    "lprint(Jt)"
   ]
  },
  {
   "cell_type": "code",
   "execution_count": 26,
   "metadata": {},
   "outputs": [
    {
     "data": {
      "text/markdown": [
       "$ \\left[\\left(1,\\,0,\\,0,\\,0,\\,0\\right)\\right] $"
      ],
      "text/plain": [
       "<IPython.core.display.Markdown object>"
      ]
     },
     "metadata": {},
     "output_type": "display_data"
    }
   ],
   "source": [
    "Kt = Jt.right_kernel().basis()\n",
    "lprint(Kt)"
   ]
  },
  {
   "cell_type": "code",
   "execution_count": 27,
   "metadata": {},
   "outputs": [
    {
     "data": {
      "text/markdown": [
       "$ \\left[\\left(0,\\,1,\\,0,\\,0,\\,0\\right), \\left(0,\\,0,\\,1,\\,0,\\,0\\right), \\left(0,\\,0,\\,0,\\,1,\\,0\\right), \\left(0,\\,0,\\,0,\\,0,\\,1\\right)\\right] $"
      ],
      "text/plain": [
       "<IPython.core.display.Markdown object>"
      ]
     },
     "metadata": {},
     "output_type": "display_data"
    }
   ],
   "source": [
    "It = Jt.image().basis()\n",
    "lprint(It)"
   ]
  },
  {
   "cell_type": "markdown",
   "metadata": {},
   "source": [
    "So we see all is working as expected, we can run the implicit function code on the last four functions"
   ]
  },
  {
   "cell_type": "code",
   "execution_count": 28,
   "metadata": {},
   "outputs": [],
   "source": [
    "funcs = [ft2,ft3,ft4,ft5]\n",
    "position = {'a0' : 0, 'a1' : 0, 'a2' : 0, 'b1' : 0, 'b2' : 0, 'l' : 0} # drawback that have to write this way\n",
    "var_dict = {'y1' : a1, 'y2' : a2, 'y3' : b1, 'y4' : b2, 'x1' : a0, 'x2' : l}\n",
    "x_var_keys = ['x1', 'x2']\n",
    "x_dim = 2\n",
    "y_dim = 4"
   ]
  },
  {
   "cell_type": "code",
   "execution_count": 29,
   "metadata": {},
   "outputs": [
    {
     "name": "stdout",
     "output_type": "stream",
     "text": [
      "computing Taylor approximaton to 3 order for speedup\n"
     ]
    }
   ],
   "source": [
    "t_dict = TensorDict(funcs, position, var_dict, x_dim, y_dim)"
   ]
  },
  {
   "cell_type": "code",
   "execution_count": 30,
   "metadata": {},
   "outputs": [
    {
     "name": "stderr",
     "output_type": "stream",
     "text": [
      "100%|██████████| 1/1 [00:00<00:00, 1916.96it/s]\n",
      "100%|██████████| 1/1 [00:00<00:00,  2.46it/s]\n"
     ]
    },
    {
     "name": "stdout",
     "output_type": "stream",
     "text": [
      "[1/2*pi      0      0      0]\n",
      "[     0      0      0 1/2*pi]\n",
      "[     0      0 1/2*pi      0]\n",
      "[     0 1/2*pi      0      0]\n"
     ]
    },
    {
     "name": "stderr",
     "output_type": "stream",
     "text": [
      "100%|██████████| 2/2 [00:00<00:00, 4258.18it/s]\n",
      "100%|██████████| 4/4 [00:09<00:00,  2.28s/it]\n"
     ]
    },
    {
     "name": "stdout",
     "output_type": "stream",
     "text": [
      "[1/2*pi      0      0      0]\n",
      "[     0      0      0 1/2*pi]\n",
      "[     0      0 1/2*pi      0]\n",
      "[     0 1/2*pi      0      0]\n"
     ]
    },
    {
     "name": "stderr",
     "output_type": "stream",
     "text": [
      "100%|██████████| 3/3 [00:00<00:00, 2056.37it/s]\n",
      "100%|██████████| 14/14 [00:30<00:00,  2.16s/it]\n"
     ]
    },
    {
     "name": "stdout",
     "output_type": "stream",
     "text": [
      "[1/2*pi      0      0      0]\n",
      "[     0      0      0 1/2*pi]\n",
      "[     0      0 1/2*pi      0]\n",
      "[     0 1/2*pi      0      0]\n"
     ]
    }
   ],
   "source": [
    "out = get_hkx_polynomial(funcs, 3, x_dim, y_dim, var_dict, x_var_keys, t_dict, position)"
   ]
  },
  {
   "cell_type": "code",
   "execution_count": 31,
   "metadata": {},
   "outputs": [
    {
     "data": {
      "text/markdown": [
       "$ \\left[8 \\, a_{0} {\\lambda}^{2}, \\frac{5}{4} \\, a_{0}^{2}, -2 \\, a_{0} {\\lambda}, -3 \\, a_{0}^{2} {\\lambda}\\right] $"
      ],
      "text/plain": [
       "<IPython.core.display.Markdown object>"
      ]
     },
     "metadata": {},
     "output_type": "display_data"
    }
   ],
   "source": [
    "lprint(out)"
   ]
  },
  {
   "cell_type": "markdown",
   "metadata": {},
   "source": [
    "This is the parametrisation of the zero set of the 2nd-5th compoments of $\\tilde{F} = B^{-1} \\circ F \\circ A$, lets substitute into the first equation, we'll only require the first two terms in its taylor expansion"
   ]
  },
  {
   "cell_type": "code",
   "execution_count": 32,
   "metadata": {},
   "outputs": [
    {
     "data": {
      "text/markdown": [
       "$ \\left(-\\frac{1}{8} \\, \\pi\\right) a_{0}^{2} + \\left(\\frac{1}{4} \\, \\pi\\right) a_{0} a_{1} + \\left(-\\frac{5}{8} \\, \\pi\\right) a_{1}^{2} + \\left(-\\frac{3}{2} \\, \\pi\\right) a_{2}^{2} + \\left(-\\frac{1}{2} \\, \\pi\\right) b_{1}^{2} + \\left(-\\pi\\right) b_{2}^{2} + \\left(2 \\, \\pi\\right) b_{2} l + \\left(\\frac{3}{2} \\, \\pi\\right) a_{2} $"
      ],
      "text/plain": [
       "<IPython.core.display.Markdown object>"
      ]
     },
     "metadata": {},
     "output_type": "display_data"
    }
   ],
   "source": [
    "ft1_taylor = ft1.taylor(*[(key,value) for key,value in position.items()],3)\n",
    "# unpacking the position we take the expansion at\n",
    "lprint(ft1_taylor.polynomial(SR))"
   ]
  },
  {
   "cell_type": "code",
   "execution_count": 33,
   "metadata": {},
   "outputs": [
    {
     "data": {
      "text/markdown": [
       "$ \\left(-9 \\, \\pi\\right) a_{0}^{4} l^{2} + \\left(-40 \\, \\pi\\right) a_{0}^{2} l^{4} + \\left(-\\frac{75}{32} \\, \\pi\\right) a_{0}^{4} + \\left(-6 \\, \\pi\\right) a_{0}^{2} l^{2} + \\left(\\frac{7}{4} \\, \\pi\\right) a_{0}^{2} $"
      ],
      "text/plain": [
       "<IPython.core.display.Markdown object>"
      ]
     },
     "metadata": {},
     "output_type": "display_data"
    }
   ],
   "source": [
    "ft1_sub = ft1_taylor(a1 = out[0], a2 = out[1], b1 = out[2], b2 = out[3])\n",
    "poly = ft1_sub.polynomial(SR)\n",
    "lprint(poly)"
   ]
  },
  {
   "cell_type": "code",
   "execution_count": 34,
   "metadata": {},
   "outputs": [
    {
     "data": {
      "text/markdown": [
       "$ \\left[\\left[a_{0} = 0, {\\lambda} = r_{1}\\right], \\left[a_{0} = r_{2}, {\\lambda} = \\frac{1}{4} \\, \\sqrt{-\\frac{9}{5} \\, r_{2}^{2} - \\frac{1}{5} \\, \\sqrt{81 \\, r_{2}^{4} - 267 \\, r_{2}^{2} + 316} - \\frac{6}{5}}\\right], \\left[a_{0} = r_{3}, {\\lambda} = -\\frac{1}{4} \\, \\sqrt{-\\frac{9}{5} \\, r_{3}^{2} - \\frac{1}{5} \\, \\sqrt{81 \\, r_{3}^{4} - 267 \\, r_{3}^{2} + 316} - \\frac{6}{5}}\\right], \\left[a_{0} = r_{4}, {\\lambda} = \\frac{1}{4} \\, \\sqrt{-\\frac{9}{5} \\, r_{4}^{2} + \\frac{1}{5} \\, \\sqrt{81 \\, r_{4}^{4} - 267 \\, r_{4}^{2} + 316} - \\frac{6}{5}}\\right], \\left[a_{0} = r_{5}, {\\lambda} = -\\frac{1}{4} \\, \\sqrt{-\\frac{9}{5} \\, r_{5}^{2} + \\frac{1}{5} \\, \\sqrt{81 \\, r_{5}^{4} - 267 \\, r_{5}^{2} + 316} - \\frac{6}{5}}\\right]\\right] $"
      ],
      "text/plain": [
       "<IPython.core.display.Markdown object>"
      ]
     },
     "metadata": {},
     "output_type": "display_data"
    }
   ],
   "source": [
    "lprint(solve(symbolic_expression(poly), a0, l))"
   ]
  },
  {
   "cell_type": "markdown",
   "metadata": {},
   "source": [
    "Here we see that a non-trivial solutions seem possible, so there is potential for bifurcations. "
   ]
  },
  {
   "cell_type": "markdown",
   "metadata": {},
   "source": [
    "## Elastic rod"
   ]
  },
  {
   "cell_type": "markdown",
   "metadata": {},
   "source": [
    "we wish to encode the problem:\n",
    "    \n",
    "$f^{2}(x) + \\lambda sin (f(x)) = 0 $\n",
    "\n",
    "$f^{1}(0) = f^{1}(2 \\pi) = 0 $"
   ]
  },
  {
   "cell_type": "code",
   "execution_count": 35,
   "metadata": {},
   "outputs": [
    {
     "data": {
      "text/markdown": [
       "$ \\left( x, x_{0}, x_{1}, x_{2} \\right) \\ {\\mapsto} \\ {\\lambda} \\sin\\left(x_{0}\\right) + x_{2} $"
      ],
      "text/plain": [
       "<IPython.core.display.Markdown object>"
      ]
     },
     "metadata": {},
     "output_type": "display_data"
    }
   ],
   "source": [
    "var('x a0 a1 a2 b1 b2 x0 x1 x2')\n",
    "var('l', latex_name=r'\\lambda')\n",
    "\n",
    "phi(x, x0, x1, x2) = x2 + l * sin(x0) \n",
    "lprint(phi)"
   ]
  },
  {
   "cell_type": "code",
   "execution_count": 36,
   "metadata": {},
   "outputs": [
    {
     "data": {
      "text/markdown": [
       "$ \\left( x, f(x), f^{1}(x), f^{2}(x) \\right) \\ {\\mapsto} \\ {\\lambda} \\sin\\left(f(x)\\right) + f^{2}(x) $"
      ],
      "text/plain": [
       "<IPython.core.display.Markdown object>"
      ]
     },
     "metadata": {},
     "output_type": "display_data"
    }
   ],
   "source": [
    "pde = PDE(2, phi, phi_var = {'x' : x, 'f(x)' : x0, 'f^{1}(x)' : x1, 'f^{2}(x)' : x2} )\n",
    "lprint(pde)"
   ]
  },
  {
   "cell_type": "code",
   "execution_count": 37,
   "metadata": {},
   "outputs": [
    {
     "data": {
      "text/markdown": [
       "$ x \\ {\\mapsto}\\ -4 \\, a_{2} \\cos\\left(2 \\, x\\right) - a_{1} \\cos\\left(x\\right) + {\\lambda} \\sin\\left(a_{2} \\cos\\left(2 \\, x\\right) + a_{1} \\cos\\left(x\\right) + b_{2} \\sin\\left(2 \\, x\\right) + b_{1} \\sin\\left(x\\right) + \\frac{1}{2} \\, a_{0}\\right) - 4 \\, b_{2} \\sin\\left(2 \\, x\\right) - b_{1} \\sin\\left(x\\right) $"
      ],
      "text/plain": [
       "<IPython.core.display.Markdown object>"
      ]
     },
     "metadata": {},
     "output_type": "display_data"
    }
   ],
   "source": [
    "f = pde.fourier_approx_raw(x, [a0, a1, a2, b1, b2])\n",
    "lprint(f)"
   ]
  },
  {
   "cell_type": "code",
   "execution_count": 38,
   "metadata": {},
   "outputs": [
    {
     "name": "stdout",
     "output_type": "stream",
     "text": [
      "Interrupting Giac...\n"
     ]
    },
    {
     "name": "stderr",
     "output_type": "stream",
     "text": [
      "ERROR:root:Internal Python error in the inspect module.\n",
      "Below is the traceback from this internal error.\n",
      "\n",
      "\n",
      "KeyboardInterrupt\n",
      "\n"
     ]
    }
   ],
   "source": [
    "flist = pde.fourier_approx(x, [a0, a1, a2, b1, b2])\n",
    "for i in flist:\n",
    "    lprint(i)"
   ]
  },
  {
   "cell_type": "markdown",
   "metadata": {},
   "source": [
    "Python chokes here, perhaps a new approach"
   ]
  },
  {
   "cell_type": "code",
   "execution_count": null,
   "metadata": {},
   "outputs": [],
   "source": [
    "phi(l, x0, x2) = l*sin(x0) +x2"
   ]
  },
  {
   "cell_type": "code",
   "execution_count": null,
   "metadata": {},
   "outputs": [],
   "source": [
    "J = jacobian([phi],(l, x0, x2))(l=0,x0=0,x2=0)\n",
    "lprint(J)"
   ]
  },
  {
   "cell_type": "code",
   "execution_count": null,
   "metadata": {},
   "outputs": [],
   "source": [
    "K = J.right_kernel().basis()\n",
    "lprint(K)"
   ]
  },
  {
   "cell_type": "code",
   "execution_count": null,
   "metadata": {},
   "outputs": [],
   "source": [
    "I = J.image().basis()\n",
    "lprint(I)"
   ]
  },
  {
   "cell_type": "code",
   "execution_count": null,
   "metadata": {},
   "outputs": [],
   "source": [
    "funcs = [phi]\n",
    "position = {'x0' : 0, 'x2' : 0, 'l' : 0} # drawback that have to write this way\n",
    "var_dict = {'y1' : x2, 'x1' : x0, 'x2' : l}\n",
    "x_var_keys = ['x1','x2']\n",
    "x_dim = 2\n",
    "y_dim = 1"
   ]
  },
  {
   "cell_type": "code",
   "execution_count": null,
   "metadata": {},
   "outputs": [],
   "source": [
    "t_dict = TensorDict(funcs, position, var_dict, x_dim, y_dim)"
   ]
  },
  {
   "cell_type": "code",
   "execution_count": null,
   "metadata": {},
   "outputs": [],
   "source": [
    "out = get_hkx_polynomial(funcs, 5, x_dim, y_dim, var_dict, x_var_keys, t_dict, position)"
   ]
  },
  {
   "cell_type": "code",
   "execution_count": null,
   "metadata": {},
   "outputs": [],
   "source": [
    "lprint(out)"
   ]
  },
  {
   "cell_type": "code",
   "execution_count": null,
   "metadata": {},
   "outputs": [],
   "source": [
    "lprint(solve(out, l, x0))"
   ]
  },
  {
   "cell_type": "code",
   "execution_count": null,
   "metadata": {},
   "outputs": [],
   "source": [
    "lprint(phi)"
   ]
  },
  {
   "cell_type": "code",
   "execution_count": null,
   "metadata": {},
   "outputs": [],
   "source": [
    "phi(l = 0.1, x0 = 0.1, x2 = out[0](l = 0.1, x0 = 0.1))"
   ]
  },
  {
   "cell_type": "code",
   "execution_count": null,
   "metadata": {},
   "outputs": [],
   "source": []
  }
 ],
 "metadata": {
  "kernelspec": {
   "display_name": "SageMath 9.2",
   "language": "sage",
   "name": "sagemath"
  },
  "language_info": {
   "codemirror_mode": {
    "name": "ipython",
    "version": 3
   },
   "file_extension": ".py",
   "mimetype": "text/x-python",
   "name": "python",
   "nbconvert_exporter": "python",
   "pygments_lexer": "ipython3",
   "version": "3.7.7"
  }
 },
 "nbformat": 4,
 "nbformat_minor": 4
}
