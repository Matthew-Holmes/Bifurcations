{
 "cells": [
  {
   "cell_type": "markdown",
   "metadata": {},
   "source": [
    "# Elastic Rod Model"
   ]
  },
  {
   "cell_type": "code",
   "execution_count": 1,
   "metadata": {},
   "outputs": [],
   "source": [
    "from IPython.display import display, Markdown\n",
    "import random\n",
    "def latexify(x):\n",
    "    out = '$' + x + '$'\n",
    "    return out\n",
    "\n",
    "def lprint(x):\n",
    "    display(Markdown(latexify(latex(x))))\n",
    "    \n",
    "%run -i 'implicit.py'"
   ]
  },
  {
   "cell_type": "markdown",
   "metadata": {},
   "source": [
    "In this notebook a discretisation of the elastic rod bifurcation problem will be investigated"
   ]
  },
  {
   "cell_type": "markdown",
   "metadata": {},
   "source": [
    "here we consider rods connected by elastic joints that resist angular perturbation, with a forcing action attempting to squash the rod"
   ]
  },
  {
   "cell_type": "code",
   "execution_count": 2,
   "metadata": {},
   "outputs": [
    {
     "data": {
      "text/markdown": [
       "$ \\arcsin\\left(x\\right) $"
      ],
      "text/plain": [
       "<IPython.core.display.Markdown object>"
      ]
     },
     "metadata": {},
     "output_type": "display_data"
    }
   ],
   "source": [
    "var('x')\n",
    "\n",
    "lprint(arcsin(x))"
   ]
  },
  {
   "cell_type": "code",
   "execution_count": 3,
   "metadata": {},
   "outputs": [],
   "source": [
    "def get_funcs(n):\n",
    "    # returns a set of equations to solve\n",
    "\n",
    "    var_dict = {}\n",
    "    for i in range(0,n):\n",
    "        # theta is the angle from the horizontal the ith line branches from\n",
    "        var_dict['theta{}'.format(i)] = var('theta{}'.format(i), latex_name = r'\\theta_{}'.format(i))\n",
    "        \n",
    "    var_dict['theta{}'.format(n)] = 0 # will update\n",
    "        \n",
    "    # compute the last theta, since must have the endpoints both zero on the vertical\n",
    "    for i in range(0,n):\n",
    "        var_dict['theta{}'.format(n)] = var_dict['theta{}'.format(n)] - sin(var_dict['theta{}'.format(i)])\n",
    "        \n",
    "    var_dict['theta{}'.format(n)] = arcsin(var_dict['theta{}'.format(n)])\n",
    "    \n",
    "    var_dict['l'] = var('l', latex_name=r'\\lambda') # compressive force\n",
    "   \n",
    "    \n",
    "    funcs = []\n",
    "    energy = 0\n",
    "    for j in range(1,n+1):\n",
    "        # iterate through each spring in the rod\n",
    "        e_spring = (var_dict['theta{}'.format(j-1)] - var_dict['theta{}'.format(j)])^2 \n",
    "        # since pi - (pi - theta0 - theta1) e.g\n",
    "        energy = energy + e_spring\n",
    "        \n",
    "    hoz = 0\n",
    "    for i in range(0,n+1):\n",
    "        # total horizontal extension\n",
    "        hoz = hoz + cos(var_dict['theta{}'.format(i)])\n",
    "           \n",
    "    # take away the work done by the force\n",
    "    energy = energy - var_dict['l']*(n + 1 - hoz)\n",
    "            \n",
    "    # solutions will be local minima of the energy equation\n",
    "    for j in range(0,n):\n",
    "        #don't care about the last angle\n",
    "        funcs.append(energy.diff(var_dict['theta{}'.format(j)]))\n",
    "        \n",
    "    del var_dict['theta{}'.format(n)] # this was just a latent variable\n",
    "        \n",
    "    return funcs, var_dict\n",
    "    "
   ]
  },
  {
   "cell_type": "code",
   "execution_count": 4,
   "metadata": {},
   "outputs": [],
   "source": [
    "funcs, var_dict = get_funcs(2)"
   ]
  },
  {
   "cell_type": "code",
   "execution_count": 5,
   "metadata": {},
   "outputs": [
    {
     "data": {
      "text/plain": [
       "{'theta0': theta0, 'theta1': theta1, 'l': l}"
      ]
     },
     "execution_count": 5,
     "metadata": {},
     "output_type": "execute_result"
    }
   ],
   "source": [
    "var_dict"
   ]
  },
  {
   "cell_type": "code",
   "execution_count": 6,
   "metadata": {},
   "outputs": [
    {
     "data": {
      "text/markdown": [
       "$ \\left[-{\\left(\\frac{{\\left(\\sin\\left({\\theta_0}\\right) + \\sin\\left({\\theta_1}\\right)\\right)} \\cos\\left({\\theta_0}\\right)}{\\sqrt{-{\\left(\\sin\\left({\\theta_0}\\right) + \\sin\\left({\\theta_1}\\right)\\right)}^{2} + 1}} + \\sin\\left({\\theta_0}\\right)\\right)} {\\lambda} + \\frac{2 \\, {\\left({\\theta_1} - \\arcsin\\left(-\\sin\\left({\\theta_0}\\right) - \\sin\\left({\\theta_1}\\right)\\right)\\right)} \\cos\\left({\\theta_0}\\right)}{\\sqrt{-{\\left(\\sin\\left({\\theta_0}\\right) + \\sin\\left({\\theta_1}\\right)\\right)}^{2} + 1}} + 2 \\, {\\theta_0} - 2 \\, {\\theta_1}, -{\\left(\\frac{{\\left(\\sin\\left({\\theta_0}\\right) + \\sin\\left({\\theta_1}\\right)\\right)} \\cos\\left({\\theta_1}\\right)}{\\sqrt{-{\\left(\\sin\\left({\\theta_0}\\right) + \\sin\\left({\\theta_1}\\right)\\right)}^{2} + 1}} + \\sin\\left({\\theta_1}\\right)\\right)} {\\lambda} + 2 \\, {\\left({\\theta_1} - \\arcsin\\left(-\\sin\\left({\\theta_0}\\right) - \\sin\\left({\\theta_1}\\right)\\right)\\right)} {\\left(\\frac{\\cos\\left({\\theta_1}\\right)}{\\sqrt{-{\\left(\\sin\\left({\\theta_0}\\right) + \\sin\\left({\\theta_1}\\right)\\right)}^{2} + 1}} + 1\\right)} - 2 \\, {\\theta_0} + 2 \\, {\\theta_1}\\right] $"
      ],
      "text/plain": [
       "<IPython.core.display.Markdown object>"
      ]
     },
     "metadata": {},
     "output_type": "display_data"
    }
   ],
   "source": [
    "lprint(funcs)"
   ]
  },
  {
   "cell_type": "code",
   "execution_count": 7,
   "metadata": {},
   "outputs": [
    {
     "data": {
      "text/markdown": [
       "$ 0 $"
      ],
      "text/plain": [
       "<IPython.core.display.Markdown object>"
      ]
     },
     "metadata": {},
     "output_type": "display_data"
    }
   ],
   "source": [
    "lprint(funcs[1](l,0,0))"
   ]
  },
  {
   "cell_type": "markdown",
   "metadata": {},
   "source": [
    "See that we have trivial solutions"
   ]
  },
  {
   "cell_type": "code",
   "execution_count": 8,
   "metadata": {},
   "outputs": [
    {
     "data": {
      "text/markdown": [
       "$ \\left(\\begin{array}{rr}\n",
       "-2 \\, {\\lambda} + 4 & -{\\lambda} + 2 \\\\\n",
       "-{\\lambda} + 2 & -2 \\, {\\lambda} + 10\n",
       "\\end{array}\\right) $"
      ],
      "text/plain": [
       "<IPython.core.display.Markdown object>"
      ]
     },
     "metadata": {},
     "output_type": "display_data"
    }
   ],
   "source": [
    "old_var = var_dict\n",
    "var_dict = {key : var_dict[key] for key in var_dict.keys() if var_dict[key] != 0}\n",
    "var_dict = {key : var_dict[key] for key in var_dict.keys() if key != 'l'}\n",
    "\n",
    "J = jacobian(funcs,tuple(var_dict.values()))(**{var : 0 for var in var_dict.keys()}).apply_map(lambda x: x.full_simplify())\n",
    "lprint(J)"
   ]
  },
  {
   "cell_type": "code",
   "execution_count": 9,
   "metadata": {},
   "outputs": [
    {
     "data": {
      "text/markdown": [
       "$ -{\\left({\\lambda} - 2\\right)}^{2} + 4 \\, {\\left({\\lambda} - 2\\right)} {\\left({\\lambda} - 5\\right)} $"
      ],
      "text/plain": [
       "<IPython.core.display.Markdown object>"
      ]
     },
     "metadata": {},
     "output_type": "display_data"
    }
   ],
   "source": [
    "lprint(det(matrix(J))) # potential bifurcation point"
   ]
  },
  {
   "cell_type": "code",
   "execution_count": 10,
   "metadata": {},
   "outputs": [
    {
     "data": {
      "text/markdown": [
       "$ \\left[{\\lambda} = 2, {\\lambda} = 6\\right] $"
      ],
      "text/plain": [
       "<IPython.core.display.Markdown object>"
      ]
     },
     "metadata": {},
     "output_type": "display_data"
    }
   ],
   "source": [
    "lprint(solve(det(matrix(J)), l))"
   ]
  },
  {
   "cell_type": "markdown",
   "metadata": {},
   "source": [
    "We see there are two different force strenghts that seem to produce bifurcations"
   ]
  },
  {
   "cell_type": "markdown",
   "metadata": {},
   "source": [
    "Suggest bifurcations at $\\lambda = 6$ and $\\lambda = 2$"
   ]
  },
  {
   "cell_type": "code",
   "execution_count": 11,
   "metadata": {},
   "outputs": [
    {
     "data": {
      "text/markdown": [
       "$ \\left(\\begin{array}{rr}\n",
       "0 & 0 \\\\\n",
       "0 & 6\n",
       "\\end{array}\\right) $"
      ],
      "text/plain": [
       "<IPython.core.display.Markdown object>"
      ]
     },
     "metadata": {},
     "output_type": "display_data"
    }
   ],
   "source": [
    "#bif_funcs = [func(l = 2/((32*sqrt(2)) + 36)) for func in funcs] #\n",
    "#bif_funcs = [func(l = (sqrt(2)*(9/4))/((225*sqrt(2))/2 + 108)) for func in funcs] #\n",
    "bif_funcs = [func(l = 2) for func in funcs]\n",
    "#var_dict['l'] = old_var['l']\n",
    "J = jacobian(bif_funcs,tuple(var_dict.values()))(**{var : 0 for var in var_dict.keys()})\n",
    "\n",
    "lprint(J)"
   ]
  },
  {
   "cell_type": "markdown",
   "metadata": {},
   "source": [
    "### Orthogonalising the kernel"
   ]
  },
  {
   "cell_type": "code",
   "execution_count": 12,
   "metadata": {},
   "outputs": [
    {
     "data": {
      "text/markdown": [
       "$ \\left[\\left(1,\\,0\\right)\\right] $"
      ],
      "text/plain": [
       "<IPython.core.display.Markdown object>"
      ]
     },
     "metadata": {},
     "output_type": "display_data"
    }
   ],
   "source": [
    "K = J.right_kernel().basis()\n",
    "lprint(K)"
   ]
  },
  {
   "cell_type": "code",
   "execution_count": 13,
   "metadata": {},
   "outputs": [
    {
     "data": {
      "text/markdown": [
       "$ \\left[\\left(0,\\,1\\right)\\right] $"
      ],
      "text/plain": [
       "<IPython.core.display.Markdown object>"
      ]
     },
     "metadata": {},
     "output_type": "display_data"
    }
   ],
   "source": [
    "Kperp = matrix(K).right_kernel().basis()\n",
    "lprint(Kperp)"
   ]
  },
  {
   "cell_type": "code",
   "execution_count": 14,
   "metadata": {},
   "outputs": [
    {
     "data": {
      "text/markdown": [
       "$ \\left(\\begin{array}{rr}\n",
       "1 & 0 \\\\\n",
       "0 & 1\n",
       "\\end{array}\\right) $"
      ],
      "text/plain": [
       "<IPython.core.display.Markdown object>"
      ]
     },
     "metadata": {},
     "output_type": "display_data"
    }
   ],
   "source": [
    "A = matrix(K+Kperp).inverse().apply_map(lambda x: x.full_simplify())\n",
    "lprint(A)"
   ]
  },
  {
   "cell_type": "code",
   "execution_count": 15,
   "metadata": {},
   "outputs": [],
   "source": [
    "key_list = [str(var) for var in var_dict.values()]\n",
    "value_list = list(A*vector(var_dict.values()))\n",
    "mutate_dict = dict(zip(key_list, value_list))"
   ]
  },
  {
   "cell_type": "code",
   "execution_count": 16,
   "metadata": {},
   "outputs": [
    {
     "data": {
      "text/plain": [
       "{'theta0': theta0, 'theta1': theta1}"
      ]
     },
     "execution_count": 16,
     "metadata": {},
     "output_type": "execute_result"
    }
   ],
   "source": [
    "mutate_dict"
   ]
  },
  {
   "cell_type": "code",
   "execution_count": 17,
   "metadata": {},
   "outputs": [],
   "source": [
    "Afuncs = [func(**mutate_dict) for func in bif_funcs]"
   ]
  },
  {
   "cell_type": "code",
   "execution_count": 18,
   "metadata": {},
   "outputs": [],
   "source": [
    "#lprint(Afuncs) "
   ]
  },
  {
   "cell_type": "code",
   "execution_count": 19,
   "metadata": {},
   "outputs": [
    {
     "data": {
      "text/markdown": [
       "$ \\left(\\begin{array}{rr}\n",
       "0 & 0 \\\\\n",
       "0 & 6\n",
       "\\end{array}\\right) $"
      ],
      "text/plain": [
       "<IPython.core.display.Markdown object>"
      ]
     },
     "metadata": {},
     "output_type": "display_data"
    }
   ],
   "source": [
    "Ja = jacobian(Afuncs,tuple(var_dict.values()))(**{var : 0 for var in var_dict.keys()}).apply_map(lambda x: x.full_simplify())\n",
    "lprint(Ja)"
   ]
  },
  {
   "cell_type": "code",
   "execution_count": 20,
   "metadata": {},
   "outputs": [
    {
     "data": {
      "text/markdown": [
       "$ \\left[\\left(1,\\,0\\right)\\right] $"
      ],
      "text/plain": [
       "<IPython.core.display.Markdown object>"
      ]
     },
     "metadata": {},
     "output_type": "display_data"
    }
   ],
   "source": [
    "Ka = Ja(l=0).right_kernel().basis()\n",
    "lprint(Ka)"
   ]
  },
  {
   "cell_type": "markdown",
   "metadata": {},
   "source": [
    "### Orthogonalising the image"
   ]
  },
  {
   "cell_type": "code",
   "execution_count": 21,
   "metadata": {},
   "outputs": [
    {
     "name": "stdout",
     "output_type": "stream",
     "text": [
      "1\n"
     ]
    }
   ],
   "source": [
    "I = Ja.image().basis()\n",
    "I = [Ja*vec for vec in I]\n",
    "print(len(I))"
   ]
  },
  {
   "cell_type": "code",
   "execution_count": 22,
   "metadata": {},
   "outputs": [
    {
     "data": {
      "text/markdown": [
       "$ \\left[\\left(1,\\,0\\right)\\right] $"
      ],
      "text/plain": [
       "<IPython.core.display.Markdown object>"
      ]
     },
     "metadata": {},
     "output_type": "display_data"
    }
   ],
   "source": [
    "Iperp = matrix(I).right_kernel().basis()\n",
    "lprint(Iperp)"
   ]
  },
  {
   "cell_type": "code",
   "execution_count": 23,
   "metadata": {},
   "outputs": [
    {
     "data": {
      "text/markdown": [
       "$ \\left(\\begin{array}{rr}\n",
       "0 & 1 \\\\\n",
       "\\frac{1}{6} & 0\n",
       "\\end{array}\\right) $"
      ],
      "text/plain": [
       "<IPython.core.display.Markdown object>"
      ]
     },
     "metadata": {},
     "output_type": "display_data"
    }
   ],
   "source": [
    "B = matrix(I + Iperp).inverse().apply_map(lambda x: x.full_simplify())\n",
    "lprint(B)"
   ]
  },
  {
   "cell_type": "code",
   "execution_count": 24,
   "metadata": {},
   "outputs": [],
   "source": [
    "tfuncs = vector(Afuncs)*B"
   ]
  },
  {
   "cell_type": "code",
   "execution_count": 25,
   "metadata": {},
   "outputs": [],
   "source": [
    "#lprint(tfuncs)"
   ]
  },
  {
   "cell_type": "code",
   "execution_count": 26,
   "metadata": {},
   "outputs": [],
   "source": [
    "Jt = jacobian(tfuncs,tuple(var_dict.values()))(**{var : 0 for var in var_dict.keys()}).apply_map(lambda x: x.full_simplify())"
   ]
  },
  {
   "cell_type": "code",
   "execution_count": 27,
   "metadata": {},
   "outputs": [
    {
     "data": {
      "text/plain": [
       "dict_values([theta0, theta1])"
      ]
     },
     "execution_count": 27,
     "metadata": {},
     "output_type": "execute_result"
    }
   ],
   "source": [
    "var_dict.values()"
   ]
  },
  {
   "cell_type": "code",
   "execution_count": 28,
   "metadata": {},
   "outputs": [
    {
     "data": {
      "text/markdown": [
       "$ \\left(\\begin{array}{rr}\n",
       "0 & 1 \\\\\n",
       "0 & 0\n",
       "\\end{array}\\right) $"
      ],
      "text/plain": [
       "<IPython.core.display.Markdown object>"
      ]
     },
     "metadata": {},
     "output_type": "display_data"
    }
   ],
   "source": [
    "lprint(Jt)"
   ]
  },
  {
   "cell_type": "code",
   "execution_count": 29,
   "metadata": {},
   "outputs": [
    {
     "data": {
      "text/markdown": [
       "$ \\left[\\left(1,\\,0\\right)\\right] $"
      ],
      "text/plain": [
       "<IPython.core.display.Markdown object>"
      ]
     },
     "metadata": {},
     "output_type": "display_data"
    }
   ],
   "source": [
    "It = Jt.image().basis()\n",
    "It = [Jt*vec for vec in It]\n",
    "lprint(It)"
   ]
  },
  {
   "cell_type": "markdown",
   "metadata": {},
   "source": [
    "## Adding lambda back in"
   ]
  },
  {
   "cell_type": "code",
   "execution_count": 31,
   "metadata": {},
   "outputs": [],
   "source": [
    "tfuncs = vector([func(**mutate_dict)(l = l + 2) for func in funcs])*B # now lambda is not fixed at the bifurcation point\n",
    "# ***IF SOMETHING IS BROKEN CHECK RIGHT LAMBDA HERE***\n",
    "# but we do shift so that l=0 is the new bifurcation\n",
    "var_dict['l'] = l"
   ]
  },
  {
   "cell_type": "code",
   "execution_count": 32,
   "metadata": {},
   "outputs": [
    {
     "data": {
      "text/plain": [
       "{'theta0': theta0, 'theta1': theta1, 'l': l}"
      ]
     },
     "execution_count": 32,
     "metadata": {},
     "output_type": "execute_result"
    }
   ],
   "source": [
    "var_dict_old = var_dict\n",
    "var_dict_old"
   ]
  },
  {
   "cell_type": "code",
   "execution_count": 33,
   "metadata": {},
   "outputs": [
    {
     "data": {
      "text/plain": [
       "dict_values([theta0, theta1, l])"
      ]
     },
     "execution_count": 33,
     "metadata": {},
     "output_type": "execute_result"
    }
   ],
   "source": [
    "var_dict.values()"
   ]
  },
  {
   "cell_type": "code",
   "execution_count": 34,
   "metadata": {},
   "outputs": [
    {
     "data": {
      "text/markdown": [
       "$ -{\\left(\\frac{{\\left(\\sin\\left({\\theta_0}\\right) + \\sin\\left({\\theta_1}\\right)\\right)} \\cos\\left({\\theta_0}\\right)}{\\sqrt{-{\\left(\\sin\\left({\\theta_0}\\right) + \\sin\\left({\\theta_1}\\right)\\right)}^{2} + 1}} + \\sin\\left({\\theta_0}\\right)\\right)} {\\left({\\lambda} + 2\\right)} + \\frac{2 \\, {\\left({\\theta_1} - \\arcsin\\left(-\\sin\\left({\\theta_0}\\right) - \\sin\\left({\\theta_1}\\right)\\right)\\right)} \\cos\\left({\\theta_0}\\right)}{\\sqrt{-{\\left(\\sin\\left({\\theta_0}\\right) + \\sin\\left({\\theta_1}\\right)\\right)}^{2} + 1}} + 2 \\, {\\theta_0} - 2 \\, {\\theta_1} $"
      ],
      "text/plain": [
       "<IPython.core.display.Markdown object>"
      ]
     },
     "metadata": {},
     "output_type": "display_data"
    }
   ],
   "source": [
    "lprint(tfuncs[1])"
   ]
  },
  {
   "cell_type": "markdown",
   "metadata": {},
   "source": [
    "## Running the implicit function theorem"
   ]
  },
  {
   "cell_type": "code",
   "execution_count": 35,
   "metadata": {},
   "outputs": [
    {
     "data": {
      "text/plain": [
       "2"
      ]
     },
     "execution_count": 35,
     "metadata": {},
     "output_type": "execute_result"
    }
   ],
   "source": [
    "len(tfuncs)"
   ]
  },
  {
   "cell_type": "code",
   "execution_count": 36,
   "metadata": {},
   "outputs": [
    {
     "data": {
      "text/plain": [
       "{'theta0': 0, 'theta1': 0, 'l': 0}"
      ]
     },
     "execution_count": 36,
     "metadata": {},
     "output_type": "execute_result"
    }
   ],
   "source": [
    "position = {key : 0 for key in var_dict_old.keys()}\n",
    "position"
   ]
  },
  {
   "cell_type": "code",
   "execution_count": 37,
   "metadata": {},
   "outputs": [],
   "source": [
    "#code_funcs = [tfuncs[index].function(*list(var_dict_old.values())) for index in [0,1,2,3,4,5,6]] # careful with computer science indexing from zero\n",
    "code_funcs = [tfuncs[index] for index in [0]] # the last function has degenerate first derivative always\n",
    "position = {key : 0 for key in var_dict_old.keys()}\n",
    "# var_dict already loaded\n",
    "var_dict = {'y1' : theta1, 'x1' : l, 'x2' : theta0}\n",
    "x_var_keys = ['l', 'theta0'] # the variables in the kernel\n",
    "x_dim = 2\n",
    "y_dim = 1 # invertible part"
   ]
  },
  {
   "cell_type": "code",
   "execution_count": 38,
   "metadata": {},
   "outputs": [
    {
     "data": {
      "text/plain": [
       "dict_keys(['y1', 'x1', 'x2'])"
      ]
     },
     "execution_count": 38,
     "metadata": {},
     "output_type": "execute_result"
    }
   ],
   "source": [
    "var_dict.keys()"
   ]
  },
  {
   "cell_type": "code",
   "execution_count": 39,
   "metadata": {},
   "outputs": [
    {
     "name": "stdout",
     "output_type": "stream",
     "text": [
      "computing Taylor approximaton to 3 order for speedup\n"
     ]
    }
   ],
   "source": [
    "t_dict = TensorDict(code_funcs, position, var_dict, x_dim, y_dim)"
   ]
  },
  {
   "cell_type": "code",
   "execution_count": 40,
   "metadata": {},
   "outputs": [
    {
     "name": "stderr",
     "output_type": "stream",
     "text": [
      "100%|██████████| 1/1 [00:00<00:00, 2949.58it/s]\n",
      "100%|██████████| 1/1 [00:00<00:00, 16.65it/s]\n"
     ]
    },
    {
     "name": "stdout",
     "output_type": "stream",
     "text": [
      "[1]\n"
     ]
    },
    {
     "name": "stderr",
     "output_type": "stream",
     "text": [
      "100%|██████████| 2/2 [00:00<00:00, 2833.03it/s]\n",
      "100%|██████████| 4/4 [00:00<00:00, 10.54it/s]\n"
     ]
    },
    {
     "name": "stdout",
     "output_type": "stream",
     "text": [
      "[1]\n"
     ]
    },
    {
     "name": "stderr",
     "output_type": "stream",
     "text": [
      "100%|██████████| 3/3 [00:00<00:00, 1403.72it/s]\n",
      "100%|██████████| 14/14 [00:01<00:00,  7.22it/s]\n"
     ]
    },
    {
     "name": "stdout",
     "output_type": "stream",
     "text": [
      "[1]\n"
     ]
    },
    {
     "name": "stderr",
     "output_type": "stream",
     "text": [
      "100%|██████████| 4/4 [00:00<00:00, 646.65it/s]\n",
      "  0%|          | 0/51 [00:00<?, ?it/s]"
     ]
    },
    {
     "name": "stdout",
     "output_type": "stream",
     "text": [
      "updating Taylor series\n"
     ]
    },
    {
     "name": "stderr",
     "output_type": "stream",
     "text": [
      "100%|██████████| 51/51 [00:10<00:00,  5.08it/s]\n"
     ]
    },
    {
     "name": "stdout",
     "output_type": "stream",
     "text": [
      "[1]\n"
     ]
    }
   ],
   "source": [
    "out = get_hkx_polynomial(code_funcs, 4, x_dim, y_dim, var_dict, x_var_keys, t_dict, position)"
   ]
  },
  {
   "cell_type": "code",
   "execution_count": 41,
   "metadata": {},
   "outputs": [
    {
     "data": {
      "text/markdown": [
       "$ \\left[\\frac{2}{27} \\, {\\lambda}^{3} {\\theta_0} - \\frac{25}{108} \\, {\\lambda} {\\theta_0}^{3} + \\frac{1}{9} \\, {\\lambda}^{2} {\\theta_0} - \\frac{1}{18} \\, {\\theta_0}^{3} + \\frac{1}{6} \\, {\\lambda} {\\theta_0}\\right] $"
      ],
      "text/plain": [
       "<IPython.core.display.Markdown object>"
      ]
     },
     "metadata": {},
     "output_type": "display_data"
    }
   ],
   "source": [
    "lprint(out) # our h function"
   ]
  },
  {
   "cell_type": "markdown",
   "metadata": {},
   "source": [
    "## Testing the implicit function theorem"
   ]
  },
  {
   "cell_type": "code",
   "execution_count": 42,
   "metadata": {},
   "outputs": [],
   "source": [
    "subbed = [func(theta1 = out[0]) for func in tfuncs]"
   ]
  },
  {
   "cell_type": "code",
   "execution_count": 43,
   "metadata": {},
   "outputs": [
    {
     "data": {
      "text/plain": [
       "[4.151542327435198e-05, -0.019454674269692947]"
      ]
     },
     "execution_count": 43,
     "metadata": {},
     "output_type": "execute_result"
    }
   ],
   "source": [
    "[float(func(l = 0.1, theta0 = 0.1)) for func in subbed]"
   ]
  },
  {
   "cell_type": "markdown",
   "metadata": {},
   "source": [
    "the last function remains to be solved"
   ]
  },
  {
   "cell_type": "markdown",
   "metadata": {},
   "source": [
    "### Looking for more solutions"
   ]
  },
  {
   "cell_type": "markdown",
   "metadata": {},
   "source": [
    "Now substitute this into the equation that had degenerate image"
   ]
  },
  {
   "cell_type": "code",
   "execution_count": 44,
   "metadata": {},
   "outputs": [
    {
     "data": {
      "text/markdown": [
       "$ \\left(-\\frac{1}{30}\\right) \\theta_{0}^{5} + \\frac{3}{4} \\theta_{0}^{4} \\theta_{1} + \\frac{25}{6} \\theta_{0}^{3} \\theta_{1}^{2} + \\frac{41}{6} \\theta_{0}^{2} \\theta_{1}^{3} + \\frac{47}{12} \\theta_{0} \\theta_{1}^{4} + \\frac{17}{30} \\theta_{1}^{5} + \\frac{1}{3} l \\theta_{0}^{3} - l \\theta_{0}^{2} \\theta_{1} + \\left(-\\frac{3}{2}\\right) l \\theta_{0} \\theta_{1}^{2} + \\left(-\\frac{1}{3}\\right) l \\theta_{1}^{3} + \\frac{2}{3} \\theta_{0}^{3} + \\theta_{0}^{2} \\theta_{1} + 3 \\theta_{0} \\theta_{1}^{2} + \\frac{4}{3} \\theta_{1}^{3} + \\left(-2\\right) l \\theta_{0} - l \\theta_{1} $"
      ],
      "text/plain": [
       "<IPython.core.display.Markdown object>"
      ]
     },
     "metadata": {},
     "output_type": "display_data"
    }
   ],
   "source": [
    "tf_taylor = tfuncs[1].taylor(*[(key,value) for key,value in position.items()],5) # taylor expand the function with degenerate image\n",
    "lprint(tf_taylor.polynomial(SR)) # all three variables are present"
   ]
  },
  {
   "cell_type": "code",
   "execution_count": 45,
   "metadata": {},
   "outputs": [],
   "source": [
    "tf_sub = tf_taylor(theta1 = out[0]) # substitute in h"
   ]
  },
  {
   "cell_type": "code",
   "execution_count": 46,
   "metadata": {},
   "outputs": [
    {
     "data": {
      "text/markdown": [
       "$ -\\frac{1}{9} \\, {\\lambda}^{3} {\\theta_0} + \\frac{5}{9} \\, {\\lambda} {\\theta_0}^{3} - \\frac{1}{6} \\, {\\lambda}^{2} {\\theta_0} + \\frac{2}{3} \\, {\\theta_0}^{3} - 2 \\, {\\lambda} {\\theta_0} $"
      ],
      "text/plain": [
       "<IPython.core.display.Markdown object>"
      ]
     },
     "metadata": {},
     "output_type": "display_data"
    }
   ],
   "source": [
    "local = symbolic_expression(sum([a[0]*a[1] for a in tf_sub.polynomial(SR) if a[1].degree() <= 4]))\n",
    "#local = tf_sub.polynomial(SR).truncate(4)\n",
    "lprint(local) # will see that we can take out a factor of theta0 = xi0"
   ]
  },
  {
   "cell_type": "markdown",
   "metadata": {},
   "source": [
    "We see that this will have solutions, therefore the point $\\lambda$ is indeed a bifurcation point, and if we fix the $p10x$ variable at zero then $\\lambda$ will span the local solutions."
   ]
  },
  {
   "cell_type": "code",
   "execution_count": 47,
   "metadata": {},
   "outputs": [
    {
     "data": {
      "text/markdown": [
       "$ \\left[{\\theta_0} = -\\sqrt{\\frac{{\\lambda}^{3}}{5 \\, {\\lambda} + 6} + \\frac{3 \\, {\\lambda}^{2}}{2 \\, {\\left(5 \\, {\\lambda} + 6\\right)}} + \\frac{18 \\, {\\lambda}}{5 \\, {\\lambda} + 6}}, {\\theta_0} = \\sqrt{\\frac{{\\lambda}^{3}}{5 \\, {\\lambda} + 6} + \\frac{3 \\, {\\lambda}^{2}}{2 \\, {\\left(5 \\, {\\lambda} + 6\\right)}} + \\frac{18 \\, {\\lambda}}{5 \\, {\\lambda} + 6}}, {\\theta_0} = 0\\right] $"
      ],
      "text/plain": [
       "<IPython.core.display.Markdown object>"
      ]
     },
     "metadata": {},
     "output_type": "display_data"
    }
   ],
   "source": [
    "lprint(solve(local, theta0))"
   ]
  },
  {
   "cell_type": "code",
   "execution_count": 48,
   "metadata": {},
   "outputs": [
    {
     "data": {
      "image/png": "[encoded data removed]",
      "text/plain": [
       "Graphics object consisting of 1 graphics primitive"
      ]
     },
     "execution_count": 48,
     "metadata": {},
     "output_type": "execute_result"
    }
   ],
   "source": [
    "implicit_plot(local, (-1,5), (-5,5))"
   ]
  },
  {
   "cell_type": "markdown",
   "metadata": {},
   "source": [
    "looks like a bifurcation to me"
   ]
  },
  {
   "cell_type": "code",
   "execution_count": 49,
   "metadata": {},
   "outputs": [
    {
     "data": {
      "text/markdown": [
       "$ \\left[-\\sqrt{\\frac{{\\lambda}^{3}}{5 \\, {\\lambda} + 6} + \\frac{3 \\, {\\lambda}^{2}}{2 \\, {\\left(5 \\, {\\lambda} + 6\\right)}} + \\frac{18 \\, {\\lambda}}{5 \\, {\\lambda} + 6}}, -\\frac{2}{27} \\, \\sqrt{\\frac{{\\lambda}^{3}}{5 \\, {\\lambda} + 6} + \\frac{3 \\, {\\lambda}^{2}}{2 \\, {\\left(5 \\, {\\lambda} + 6\\right)}} + \\frac{18 \\, {\\lambda}}{5 \\, {\\lambda} + 6}} {\\lambda}^{3} + \\frac{25}{108} \\, {\\left(\\frac{{\\lambda}^{3}}{5 \\, {\\lambda} + 6} + \\frac{3 \\, {\\lambda}^{2}}{2 \\, {\\left(5 \\, {\\lambda} + 6\\right)}} + \\frac{18 \\, {\\lambda}}{5 \\, {\\lambda} + 6}\\right)}^{\\frac{3}{2}} {\\lambda} - \\frac{1}{9} \\, \\sqrt{\\frac{{\\lambda}^{3}}{5 \\, {\\lambda} + 6} + \\frac{3 \\, {\\lambda}^{2}}{2 \\, {\\left(5 \\, {\\lambda} + 6\\right)}} + \\frac{18 \\, {\\lambda}}{5 \\, {\\lambda} + 6}} {\\lambda}^{2} + \\frac{1}{18} \\, {\\left(\\frac{{\\lambda}^{3}}{5 \\, {\\lambda} + 6} + \\frac{3 \\, {\\lambda}^{2}}{2 \\, {\\left(5 \\, {\\lambda} + 6\\right)}} + \\frac{18 \\, {\\lambda}}{5 \\, {\\lambda} + 6}\\right)}^{\\frac{3}{2}} - \\frac{1}{6} \\, \\sqrt{\\frac{{\\lambda}^{3}}{5 \\, {\\lambda} + 6} + \\frac{3 \\, {\\lambda}^{2}}{2 \\, {\\left(5 \\, {\\lambda} + 6\\right)}} + \\frac{18 \\, {\\lambda}}{5 \\, {\\lambda} + 6}} {\\lambda}\\right] $"
      ],
      "text/plain": [
       "<IPython.core.display.Markdown object>"
      ]
     },
     "metadata": {},
     "output_type": "display_data"
    }
   ],
   "source": [
    "sols = [solve(local, theta0)[0].rhs(), out[0](theta0 = solve(local, theta0)[0].rhs())] # now solutions are spanned by lambda\n",
    "        # theta0 = g(l)                 # theta1 = h(g(l), l)\n",
    "\n",
    "lprint(sols) # now only in terms of lambda"
   ]
  },
  {
   "cell_type": "code",
   "execution_count": 50,
   "metadata": {},
   "outputs": [
    {
     "data": {
      "text/plain": [
       "[9.07311435487881e-6, 0.0000138030113128695]"
      ]
     },
     "execution_count": 50,
     "metadata": {},
     "output_type": "execute_result"
    }
   ],
   "source": [
    "coords = { list(var_dict_old.keys())[i] : sols[i] for i in [0,1] }\n",
    "coords\n",
    "[tfuncs[i](**coords)(l = 0.01) for i in [0,1]] # see that we solve both equations"
   ]
  },
  {
   "cell_type": "markdown",
   "metadata": {},
   "source": [
    "However solutions are in the reformed space, needed to undo the action that reorganised the kernel"
   ]
  },
  {
   "cell_type": "markdown",
   "metadata": {},
   "source": [
    "### Generating more solutions"
   ]
  },
  {
   "cell_type": "markdown",
   "metadata": {},
   "source": [
    "We have solved $f \\circ A$ where $A$ orthogonalised the kernel, thus by applying $A$ we can get a traversel of the new solutions."
   ]
  },
  {
   "cell_type": "code",
   "execution_count": 51,
   "metadata": {},
   "outputs": [
    {
     "data": {
      "text/markdown": [
       "$ \\left(\\begin{array}{rr}\n",
       "1 & 0 \\\\\n",
       "0 & 1\n",
       "\\end{array}\\right) $"
      ],
      "text/plain": [
       "<IPython.core.display.Markdown object>"
      ]
     },
     "metadata": {},
     "output_type": "display_data"
    }
   ],
   "source": [
    "lprint(A)"
   ]
  },
  {
   "cell_type": "code",
   "execution_count": 52,
   "metadata": {},
   "outputs": [
    {
     "data": {
      "text/plain": [
       "2"
      ]
     },
     "execution_count": 52,
     "metadata": {},
     "output_type": "execute_result"
    }
   ],
   "source": [
    "fsols = list(A*vector(sols))\n",
    "len(fsols)"
   ]
  },
  {
   "cell_type": "code",
   "execution_count": 53,
   "metadata": {},
   "outputs": [],
   "source": [
    "#fsols = [random.random()/10000 for i in range(0,2)] # can check these are giving solutions"
   ]
  },
  {
   "cell_type": "code",
   "execution_count": 54,
   "metadata": {},
   "outputs": [
    {
     "data": {
      "text/plain": [
       "{'theta0': -sqrt(l^3/(5*l + 6) + 3/2*l^2/(5*l + 6) + 18*l/(5*l + 6)),\n",
       " 'theta1': -2/27*sqrt(l^3/(5*l + 6) + 3/2*l^2/(5*l + 6) + 18*l/(5*l + 6))*l^3 + 25/108*(l^3/(5*l + 6) + 3/2*l^2/(5*l + 6) + 18*l/(5*l + 6))^(3/2)*l - 1/9*sqrt(l^3/(5*l + 6) + 3/2*l^2/(5*l + 6) + 18*l/(5*l + 6))*l^2 + 1/18*(l^3/(5*l + 6) + 3/2*l^2/(5*l + 6) + 18*l/(5*l + 6))^(3/2) - 1/6*sqrt(l^3/(5*l + 6) + 3/2*l^2/(5*l + 6) + 18*l/(5*l + 6))*l}"
      ]
     },
     "execution_count": 54,
     "metadata": {},
     "output_type": "execute_result"
    }
   ],
   "source": [
    "coords = { list(var_dict_old.keys())[i] : fsols[i] for i in [0,1] }\n",
    "coords"
   ]
  },
  {
   "cell_type": "code",
   "execution_count": 55,
   "metadata": {},
   "outputs": [],
   "source": [
    "sym_funcs = [func.function(*list(var_dict_old.values()))(l = l + 2) for func in funcs] # convert to symbolic functions\n",
    "# *** IF SOMETHING IS BREAKING CHECK THAT RIGHT SHIFT HERE ***"
   ]
  },
  {
   "cell_type": "code",
   "execution_count": 56,
   "metadata": {},
   "outputs": [
    {
     "data": {
      "text/plain": [
       "(1.3803011312869535e-05, 5.443868612936998e-05)"
      ]
     },
     "execution_count": 56,
     "metadata": {},
     "output_type": "execute_result"
    }
   ],
   "source": [
    "vector([float(func(**coords)(l = 0.01)) for func in sym_funcs])"
   ]
  },
  {
   "cell_type": "markdown",
   "metadata": {},
   "source": [
    "We see that these solutions do indeed comprise a new set of solutions"
   ]
  },
  {
   "cell_type": "code",
   "execution_count": 57,
   "metadata": {},
   "outputs": [
    {
     "name": "stdout",
     "output_type": "stream",
     "text": [
      "0.0 0.0 0.0\n",
      "0.01 -0.17256020628577268 7.826571945746976e-06\n",
      "0.02 -0.24313795584764322 4.365322774497358e-05\n",
      "0.03 -0.29669644502050385 0.0001186188768942645\n",
      "0.04 -0.3413597100023716 0.0002401312620928511\n",
      "0.05 -0.380289363511524 0.0004137231367202455\n",
      "0.06 -0.4151144420518274 0.0006437041281417003\n",
      "0.07 -0.4468072211965534 0.0009334976550429984\n",
      "0.08 -0.4760042016621282 0.001285846016756629\n",
      "0.09 -0.5031496148102679 0.0017029479000753081\n"
     ]
    }
   ],
   "source": [
    "for i in range(0,10):\n",
    "    print(float(i/100), float(fsols[0](l = i/100)), float(fsols[1](l = i/100)))"
   ]
  },
  {
   "cell_type": "raw",
   "metadata": {},
   "source": [
    "\\_/ bending action"
   ]
  },
  {
   "cell_type": "code",
   "execution_count": null,
   "metadata": {},
   "outputs": [],
   "source": []
  },
  {
   "cell_type": "code",
   "execution_count": null,
   "metadata": {},
   "outputs": [],
   "source": []
  }
 ],
 "metadata": {
  "kernelspec": {
   "display_name": "SageMath 9.2",
   "language": "sage",
   "name": "sagemath"
  },
  "language_info": {
   "codemirror_mode": {
    "name": "ipython",
    "version": 3
   },
   "file_extension": ".py",
   "mimetype": "text/x-python",
   "name": "python",
   "nbconvert_exporter": "python",
   "pygments_lexer": "ipython3",
   "version": "3.7.7"
  }
 },
 "nbformat": 4,
 "nbformat_minor": 4
}
