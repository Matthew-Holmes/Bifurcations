{
 "cells": [
  {
   "cell_type": "markdown",
   "metadata": {},
   "source": [
    "# Elastic Rod Model"
   ]
  },
  {
   "cell_type": "code",
   "execution_count": 4,
   "metadata": {},
   "outputs": [],
   "source": [
    "from IPython.display import display, Markdown\n",
    "import random\n",
    "def latexify(x):\n",
    "    out = '$' + x + '$'\n",
    "    return out\n",
    "\n",
    "def lprint(x):\n",
    "    display(Markdown(latexify(latex(x))))\n",
    "    \n",
    "%run -i 'implicit.py'"
   ]
  },
  {
   "cell_type": "markdown",
   "metadata": {},
   "source": [
    "In this notebook a discretisation of the elastic rod bifurcation problem will be investigated"
   ]
  },
  {
   "cell_type": "markdown",
   "metadata": {},
   "source": [
    "here we consider rods connected by elastic joints that resist angular perturbation, with a forcing action attempting to squash the rod"
   ]
  },
  {
   "cell_type": "code",
   "execution_count": 5,
   "metadata": {},
   "outputs": [
    {
     "data": {
      "text/markdown": [
       "$ \\arcsin\\left(x\\right) $"
      ],
      "text/plain": [
       "<IPython.core.display.Markdown object>"
      ]
     },
     "metadata": {},
     "output_type": "display_data"
    }
   ],
   "source": [
    "var('x')\n",
    "\n",
    "lprint(arcsin(x))"
   ]
  },
  {
   "cell_type": "code",
   "execution_count": 6,
   "metadata": {},
   "outputs": [],
   "source": [
    "def get_funcs(n):\n",
    "    # returns a set of equations to solve\n",
    "\n",
    "    var_dict = {}\n",
    "    for i in range(0,n):\n",
    "        # theta is the angle from the horizontal the ith line branches from\n",
    "        var_dict['theta{}'.format(i)] = var('theta{}'.format(i), latex_name = r'\\theta_{}'.format(i))\n",
    "        \n",
    "    var_dict['theta{}'.format(n)] = 0 # will update\n",
    "        \n",
    "    # compute the last theta, since must have the endpoints both zero on the vertical\n",
    "    for i in range(0,n):\n",
    "        var_dict['theta{}'.format(n)] = var_dict['theta{}'.format(n)] - sin(var_dict['theta{}'.format(i)])\n",
    "        \n",
    "    var_dict['theta{}'.format(n)] = arcsin(var_dict['theta{}'.format(n)])\n",
    "    \n",
    "    var_dict['l'] = var('l', latex_name=r'\\lambda') # compressive force\n",
    "   \n",
    "    \n",
    "    funcs = []\n",
    "    energy = 0\n",
    "    for j in range(1,n+1):\n",
    "        # iterate through each spring in the rod\n",
    "        e_spring = (var_dict['theta{}'.format(j-1)] + var_dict['theta{}'.format(j)])^2 \n",
    "        # since pi - (pi - theta0 - theta1) e.g\n",
    "        energy = energy + e_spring\n",
    "        \n",
    "    hoz = 0\n",
    "    for i in range(0,n+1):\n",
    "        # total horizontal extension\n",
    "        hoz = hoz + cos(var_dict['theta{}'.format(i)])\n",
    "           \n",
    "    # take away the work done by the force\n",
    "    energy = energy - var_dict['l']*(n + 1 - hoz)\n",
    "            \n",
    "    # solutions will be local minima of the energy equation\n",
    "    for j in range(0,n):\n",
    "        #don't care about the last angle\n",
    "        funcs.append(energy.diff(var_dict['theta{}'.format(j)]))\n",
    "        \n",
    "    del var_dict['theta{}'.format(n)] # this was just a latent variable\n",
    "        \n",
    "    return funcs, var_dict\n",
    "    "
   ]
  },
  {
   "cell_type": "code",
   "execution_count": 7,
   "metadata": {},
   "outputs": [],
   "source": [
    "funcs, var_dict = get_funcs(2)"
   ]
  },
  {
   "cell_type": "code",
   "execution_count": 8,
   "metadata": {},
   "outputs": [
    {
     "data": {
      "text/plain": [
       "{'theta0': theta0, 'theta1': theta1, 'l': l}"
      ]
     },
     "execution_count": 8,
     "metadata": {},
     "output_type": "execute_result"
    }
   ],
   "source": [
    "var_dict"
   ]
  },
  {
   "cell_type": "code",
   "execution_count": 9,
   "metadata": {},
   "outputs": [
    {
     "data": {
      "text/markdown": [
       "$ \\left[-{\\left(\\frac{{\\left(\\sin\\left({\\theta_0}\\right) + \\sin\\left({\\theta_1}\\right)\\right)} \\cos\\left({\\theta_0}\\right)}{\\sqrt{-{\\left(\\sin\\left({\\theta_0}\\right) + \\sin\\left({\\theta_1}\\right)\\right)}^{2} + 1}} + \\sin\\left({\\theta_0}\\right)\\right)} {\\lambda} - \\frac{2 \\, {\\left({\\theta_1} + \\arcsin\\left(-\\sin\\left({\\theta_0}\\right) - \\sin\\left({\\theta_1}\\right)\\right)\\right)} \\cos\\left({\\theta_0}\\right)}{\\sqrt{-{\\left(\\sin\\left({\\theta_0}\\right) + \\sin\\left({\\theta_1}\\right)\\right)}^{2} + 1}} + 2 \\, {\\theta_0} + 2 \\, {\\theta_1}, -{\\left(\\frac{{\\left(\\sin\\left({\\theta_0}\\right) + \\sin\\left({\\theta_1}\\right)\\right)} \\cos\\left({\\theta_1}\\right)}{\\sqrt{-{\\left(\\sin\\left({\\theta_0}\\right) + \\sin\\left({\\theta_1}\\right)\\right)}^{2} + 1}} + \\sin\\left({\\theta_1}\\right)\\right)} {\\lambda} - 2 \\, {\\left({\\theta_1} + \\arcsin\\left(-\\sin\\left({\\theta_0}\\right) - \\sin\\left({\\theta_1}\\right)\\right)\\right)} {\\left(\\frac{\\cos\\left({\\theta_1}\\right)}{\\sqrt{-{\\left(\\sin\\left({\\theta_0}\\right) + \\sin\\left({\\theta_1}\\right)\\right)}^{2} + 1}} - 1\\right)} + 2 \\, {\\theta_0} + 2 \\, {\\theta_1}\\right] $"
      ],
      "text/plain": [
       "<IPython.core.display.Markdown object>"
      ]
     },
     "metadata": {},
     "output_type": "display_data"
    }
   ],
   "source": [
    "lprint(funcs)"
   ]
  },
  {
   "cell_type": "code",
   "execution_count": 10,
   "metadata": {},
   "outputs": [
    {
     "data": {
      "text/markdown": [
       "$ 0 $"
      ],
      "text/plain": [
       "<IPython.core.display.Markdown object>"
      ]
     },
     "metadata": {},
     "output_type": "display_data"
    }
   ],
   "source": [
    "lprint(funcs[1](l,0,0))"
   ]
  },
  {
   "cell_type": "markdown",
   "metadata": {},
   "source": [
    "See that we have trivial solutions"
   ]
  },
  {
   "cell_type": "code",
   "execution_count": 11,
   "metadata": {},
   "outputs": [
    {
     "data": {
      "text/markdown": [
       "$ \\left(\\begin{array}{rr}\n",
       "-2 \\, {\\lambda} + 4 & -{\\lambda} + 2 \\\\\n",
       "-{\\lambda} + 2 & -2 \\, {\\lambda} + 2\n",
       "\\end{array}\\right) $"
      ],
      "text/plain": [
       "<IPython.core.display.Markdown object>"
      ]
     },
     "metadata": {},
     "output_type": "display_data"
    }
   ],
   "source": [
    "old_var = var_dict\n",
    "var_dict = {key : var_dict[key] for key in var_dict.keys() if var_dict[key] != 0}\n",
    "var_dict = {key : var_dict[key] for key in var_dict.keys() if key != 'l'}\n",
    "\n",
    "J = jacobian(funcs,tuple(var_dict.values()))(**{var : 0 for var in var_dict.keys()}).apply_map(lambda x: x.full_simplify())\n",
    "lprint(J)"
   ]
  },
  {
   "cell_type": "code",
   "execution_count": 12,
   "metadata": {},
   "outputs": [
    {
     "data": {
      "text/markdown": [
       "$ 4 \\, {\\left({\\lambda} - 1\\right)} {\\left({\\lambda} - 2\\right)} - {\\left({\\lambda} - 2\\right)}^{2} $"
      ],
      "text/plain": [
       "<IPython.core.display.Markdown object>"
      ]
     },
     "metadata": {},
     "output_type": "display_data"
    }
   ],
   "source": [
    "lprint(det(matrix(J))) # potential bifurcation point"
   ]
  },
  {
   "cell_type": "code",
   "execution_count": 13,
   "metadata": {},
   "outputs": [
    {
     "data": {
      "text/markdown": [
       "$ \\left[{\\lambda} = \\left(\\frac{2}{3}\\right), {\\lambda} = 2\\right] $"
      ],
      "text/plain": [
       "<IPython.core.display.Markdown object>"
      ]
     },
     "metadata": {},
     "output_type": "display_data"
    }
   ],
   "source": [
    "lprint(solve(det(matrix(J)), l))"
   ]
  },
  {
   "cell_type": "markdown",
   "metadata": {},
   "source": [
    "We see there are two different force strenghts that seem to produce bifurcations"
   ]
  },
  {
   "cell_type": "markdown",
   "metadata": {},
   "source": [
    "Suggest bifurcations at $\\lambda = \\frac{2}{3}$ and $\\lambda = 2$"
   ]
  },
  {
   "cell_type": "code",
   "execution_count": 14,
   "metadata": {},
   "outputs": [
    {
     "data": {
      "text/markdown": [
       "$ \\left(\\begin{array}{rr}\n",
       "\\frac{8}{3} & \\frac{4}{3} \\\\\n",
       "\\frac{4}{3} & \\frac{2}{3}\n",
       "\\end{array}\\right) $"
      ],
      "text/plain": [
       "<IPython.core.display.Markdown object>"
      ]
     },
     "metadata": {},
     "output_type": "display_data"
    }
   ],
   "source": [
    "#bif_funcs = [func(l = 2/((32*sqrt(2)) + 36)) for func in funcs] #\n",
    "#bif_funcs = [func(l = (sqrt(2)*(9/4))/((225*sqrt(2))/2 + 108)) for func in funcs] #\n",
    "bif_funcs = [func(l = 2/3) for func in funcs]\n",
    "#var_dict['l'] = old_var['l']\n",
    "J = jacobian(bif_funcs,tuple(var_dict.values()))(**{var : 0 for var in var_dict.keys()})\n",
    "\n",
    "lprint(J)"
   ]
  },
  {
   "cell_type": "code",
   "execution_count": 15,
   "metadata": {},
   "outputs": [
    {
     "data": {
      "text/markdown": [
       "$ 0 $"
      ],
      "text/plain": [
       "<IPython.core.display.Markdown object>"
      ]
     },
     "metadata": {},
     "output_type": "display_data"
    }
   ],
   "source": [
    "lprint(det(matrix(J.rows()[0:6])))"
   ]
  },
  {
   "cell_type": "markdown",
   "metadata": {},
   "source": [
    "### Orthogonalising the kernel"
   ]
  },
  {
   "cell_type": "code",
   "execution_count": 16,
   "metadata": {},
   "outputs": [
    {
     "data": {
      "text/markdown": [
       "$ \\left[\\left(1,\\,-2\\right)\\right] $"
      ],
      "text/plain": [
       "<IPython.core.display.Markdown object>"
      ]
     },
     "metadata": {},
     "output_type": "display_data"
    }
   ],
   "source": [
    "K = J.right_kernel().basis()\n",
    "lprint(K)"
   ]
  },
  {
   "cell_type": "code",
   "execution_count": 17,
   "metadata": {},
   "outputs": [
    {
     "data": {
      "text/markdown": [
       "$ \\left[\\left(1,\\,\\frac{1}{2}\\right)\\right] $"
      ],
      "text/plain": [
       "<IPython.core.display.Markdown object>"
      ]
     },
     "metadata": {},
     "output_type": "display_data"
    }
   ],
   "source": [
    "Kperp = matrix(K).right_kernel().basis()\n",
    "lprint(Kperp)"
   ]
  },
  {
   "cell_type": "code",
   "execution_count": 18,
   "metadata": {},
   "outputs": [
    {
     "data": {
      "text/markdown": [
       "$ \\left(\\begin{array}{rr}\n",
       "\\frac{1}{5} & \\frac{4}{5} \\\\\n",
       "-\\frac{2}{5} & \\frac{2}{5}\n",
       "\\end{array}\\right) $"
      ],
      "text/plain": [
       "<IPython.core.display.Markdown object>"
      ]
     },
     "metadata": {},
     "output_type": "display_data"
    }
   ],
   "source": [
    "A = matrix(K+Kperp).inverse().apply_map(lambda x: x.full_simplify())\n",
    "lprint(A)"
   ]
  },
  {
   "cell_type": "code",
   "execution_count": 19,
   "metadata": {},
   "outputs": [],
   "source": [
    "key_list = [str(var) for var in var_dict.values()]\n",
    "value_list = list(A*vector(var_dict.values()))\n",
    "mutate_dict = dict(zip(key_list, value_list))"
   ]
  },
  {
   "cell_type": "code",
   "execution_count": 20,
   "metadata": {},
   "outputs": [
    {
     "data": {
      "text/plain": [
       "{'theta0': 1/5*theta0 + 4/5*theta1, 'theta1': -2/5*theta0 + 2/5*theta1}"
      ]
     },
     "execution_count": 20,
     "metadata": {},
     "output_type": "execute_result"
    }
   ],
   "source": [
    "mutate_dict"
   ]
  },
  {
   "cell_type": "code",
   "execution_count": 21,
   "metadata": {},
   "outputs": [],
   "source": [
    "Afuncs = [func(**mutate_dict) for func in bif_funcs]"
   ]
  },
  {
   "cell_type": "code",
   "execution_count": 22,
   "metadata": {},
   "outputs": [],
   "source": [
    "#lprint(Afuncs) "
   ]
  },
  {
   "cell_type": "code",
   "execution_count": 23,
   "metadata": {},
   "outputs": [
    {
     "data": {
      "text/markdown": [
       "$ \\left(\\begin{array}{rr}\n",
       "0 & \\frac{8}{3} \\\\\n",
       "0 & \\frac{4}{3}\n",
       "\\end{array}\\right) $"
      ],
      "text/plain": [
       "<IPython.core.display.Markdown object>"
      ]
     },
     "metadata": {},
     "output_type": "display_data"
    }
   ],
   "source": [
    "Ja = jacobian(Afuncs,tuple(var_dict.values()))(**{var : 0 for var in var_dict.keys()}).apply_map(lambda x: x.full_simplify())\n",
    "lprint(Ja)"
   ]
  },
  {
   "cell_type": "code",
   "execution_count": 24,
   "metadata": {},
   "outputs": [
    {
     "data": {
      "text/markdown": [
       "$ \\left[\\left(1,\\,0\\right)\\right] $"
      ],
      "text/plain": [
       "<IPython.core.display.Markdown object>"
      ]
     },
     "metadata": {},
     "output_type": "display_data"
    }
   ],
   "source": [
    "Ka = Ja(l=0).right_kernel().basis()\n",
    "lprint(Ka)"
   ]
  },
  {
   "cell_type": "markdown",
   "metadata": {},
   "source": [
    "### Orthogonalising the image"
   ]
  },
  {
   "cell_type": "code",
   "execution_count": 25,
   "metadata": {},
   "outputs": [
    {
     "name": "stdout",
     "output_type": "stream",
     "text": [
      "1\n"
     ]
    }
   ],
   "source": [
    "I = Ja.image().basis()\n",
    "I = [Ja*vec for vec in I]\n",
    "print(len(I))"
   ]
  },
  {
   "cell_type": "code",
   "execution_count": 26,
   "metadata": {},
   "outputs": [
    {
     "data": {
      "text/markdown": [
       "$ \\left[\\left(1,\\,-2\\right)\\right] $"
      ],
      "text/plain": [
       "<IPython.core.display.Markdown object>"
      ]
     },
     "metadata": {},
     "output_type": "display_data"
    }
   ],
   "source": [
    "Iperp = matrix(I).right_kernel().basis()\n",
    "lprint(Iperp)"
   ]
  },
  {
   "cell_type": "code",
   "execution_count": 27,
   "metadata": {},
   "outputs": [
    {
     "data": {
      "text/markdown": [
       "$ \\left(\\begin{array}{rr}\n",
       "\\frac{3}{10} & \\frac{1}{5} \\\\\n",
       "\\frac{3}{20} & -\\frac{2}{5}\n",
       "\\end{array}\\right) $"
      ],
      "text/plain": [
       "<IPython.core.display.Markdown object>"
      ]
     },
     "metadata": {},
     "output_type": "display_data"
    }
   ],
   "source": [
    "B = matrix(I + Iperp).inverse().apply_map(lambda x: x.full_simplify())\n",
    "lprint(B)"
   ]
  },
  {
   "cell_type": "code",
   "execution_count": 28,
   "metadata": {},
   "outputs": [],
   "source": [
    "tfuncs = vector(Afuncs)*B"
   ]
  },
  {
   "cell_type": "code",
   "execution_count": 29,
   "metadata": {},
   "outputs": [],
   "source": [
    "#lprint(tfuncs)"
   ]
  },
  {
   "cell_type": "code",
   "execution_count": 30,
   "metadata": {},
   "outputs": [],
   "source": [
    "Jt = jacobian(tfuncs,tuple(var_dict.values()))(**{var : 0 for var in var_dict.keys()}).apply_map(lambda x: x.full_simplify())"
   ]
  },
  {
   "cell_type": "code",
   "execution_count": 31,
   "metadata": {},
   "outputs": [
    {
     "data": {
      "text/plain": [
       "dict_values([theta0, theta1])"
      ]
     },
     "execution_count": 31,
     "metadata": {},
     "output_type": "execute_result"
    }
   ],
   "source": [
    "var_dict.values()"
   ]
  },
  {
   "cell_type": "code",
   "execution_count": 32,
   "metadata": {},
   "outputs": [
    {
     "data": {
      "text/markdown": [
       "$ \\left(\\begin{array}{rr}\n",
       "0 & 1 \\\\\n",
       "0 & 0\n",
       "\\end{array}\\right) $"
      ],
      "text/plain": [
       "<IPython.core.display.Markdown object>"
      ]
     },
     "metadata": {},
     "output_type": "display_data"
    }
   ],
   "source": [
    "lprint(Jt)"
   ]
  },
  {
   "cell_type": "code",
   "execution_count": 33,
   "metadata": {},
   "outputs": [
    {
     "data": {
      "text/markdown": [
       "$ \\left[\\left(1,\\,0\\right)\\right] $"
      ],
      "text/plain": [
       "<IPython.core.display.Markdown object>"
      ]
     },
     "metadata": {},
     "output_type": "display_data"
    }
   ],
   "source": [
    "It = Jt.image().basis()\n",
    "It = [Jt*vec for vec in It]\n",
    "lprint(It)"
   ]
  },
  {
   "cell_type": "markdown",
   "metadata": {},
   "source": [
    "## Adding lambda back in"
   ]
  },
  {
   "cell_type": "code",
   "execution_count": 34,
   "metadata": {},
   "outputs": [],
   "source": [
    "tfuncs = vector([func(**mutate_dict)(l = l + 2/3) for func in funcs])*B # now lambda is not fixed at the bifurcation point\n",
    "# ***IF SOMETHING IS BROKEN CHECK RIGHT LAMBDA HERE***\n",
    "# but we do shift so that l=0 is the new bifurcation\n",
    "var_dict['l'] = l"
   ]
  },
  {
   "cell_type": "code",
   "execution_count": 35,
   "metadata": {},
   "outputs": [
    {
     "data": {
      "text/plain": [
       "{'theta0': theta0, 'theta1': theta1, 'l': l}"
      ]
     },
     "execution_count": 35,
     "metadata": {},
     "output_type": "execute_result"
    }
   ],
   "source": [
    "var_dict_old = var_dict\n",
    "var_dict_old"
   ]
  },
  {
   "cell_type": "code",
   "execution_count": 36,
   "metadata": {},
   "outputs": [
    {
     "data": {
      "text/plain": [
       "dict_values([theta0, theta1, l])"
      ]
     },
     "execution_count": 36,
     "metadata": {},
     "output_type": "execute_result"
    }
   ],
   "source": [
    "var_dict.values()"
   ]
  },
  {
   "cell_type": "code",
   "execution_count": 37,
   "metadata": {},
   "outputs": [
    {
     "data": {
      "text/markdown": [
       "$ -\\frac{1}{15} \\, {\\left(\\frac{{\\left(\\sin\\left(\\frac{1}{5} \\, {\\theta_0} + \\frac{4}{5} \\, {\\theta_1}\\right) + \\sin\\left(-\\frac{2}{5} \\, {\\theta_0} + \\frac{2}{5} \\, {\\theta_1}\\right)\\right)} \\cos\\left(\\frac{1}{5} \\, {\\theta_0} + \\frac{4}{5} \\, {\\theta_1}\\right)}{\\sqrt{-{\\left(\\sin\\left(\\frac{1}{5} \\, {\\theta_0} + \\frac{4}{5} \\, {\\theta_1}\\right) + \\sin\\left(-\\frac{2}{5} \\, {\\theta_0} + \\frac{2}{5} \\, {\\theta_1}\\right)\\right)}^{2} + 1}} + \\sin\\left(\\frac{1}{5} \\, {\\theta_0} + \\frac{4}{5} \\, {\\theta_1}\\right)\\right)} {\\left(3 \\, {\\lambda} + 2\\right)} + \\frac{2}{15} \\, {\\left(\\frac{{\\left(\\sin\\left(\\frac{1}{5} \\, {\\theta_0} + \\frac{4}{5} \\, {\\theta_1}\\right) + \\sin\\left(-\\frac{2}{5} \\, {\\theta_0} + \\frac{2}{5} \\, {\\theta_1}\\right)\\right)} \\cos\\left(-\\frac{2}{5} \\, {\\theta_0} + \\frac{2}{5} \\, {\\theta_1}\\right)}{\\sqrt{-{\\left(\\sin\\left(\\frac{1}{5} \\, {\\theta_0} + \\frac{4}{5} \\, {\\theta_1}\\right) + \\sin\\left(-\\frac{2}{5} \\, {\\theta_0} + \\frac{2}{5} \\, {\\theta_1}\\right)\\right)}^{2} + 1}} + \\sin\\left(-\\frac{2}{5} \\, {\\theta_0} + \\frac{2}{5} \\, {\\theta_1}\\right)\\right)} {\\left(3 \\, {\\lambda} + 2\\right)} - \\frac{4}{25} \\, {\\left(2 \\, {\\theta_0} - 2 \\, {\\theta_1} - 5 \\, \\arcsin\\left(-\\sin\\left(\\frac{1}{5} \\, {\\theta_0} + \\frac{4}{5} \\, {\\theta_1}\\right) - \\sin\\left(-\\frac{2}{5} \\, {\\theta_0} + \\frac{2}{5} \\, {\\theta_1}\\right)\\right)\\right)} {\\left(\\frac{\\cos\\left(-\\frac{2}{5} \\, {\\theta_0} + \\frac{2}{5} \\, {\\theta_1}\\right)}{\\sqrt{-{\\left(\\sin\\left(\\frac{1}{5} \\, {\\theta_0} + \\frac{4}{5} \\, {\\theta_1}\\right) + \\sin\\left(-\\frac{2}{5} \\, {\\theta_0} + \\frac{2}{5} \\, {\\theta_1}\\right)\\right)}^{2} + 1}} - 1\\right)} + \\frac{2 \\, {\\left(2 \\, {\\theta_0} - 2 \\, {\\theta_1} - 5 \\, \\arcsin\\left(-\\sin\\left(\\frac{1}{5} \\, {\\theta_0} + \\frac{4}{5} \\, {\\theta_1}\\right) - \\sin\\left(-\\frac{2}{5} \\, {\\theta_0} + \\frac{2}{5} \\, {\\theta_1}\\right)\\right)\\right)} \\cos\\left(\\frac{1}{5} \\, {\\theta_0} + \\frac{4}{5} \\, {\\theta_1}\\right)}{25 \\, \\sqrt{-{\\left(\\sin\\left(\\frac{1}{5} \\, {\\theta_0} + \\frac{4}{5} \\, {\\theta_1}\\right) + \\sin\\left(-\\frac{2}{5} \\, {\\theta_0} + \\frac{2}{5} \\, {\\theta_1}\\right)\\right)}^{2} + 1}} + \\frac{2}{25} \\, {\\theta_0} - \\frac{12}{25} \\, {\\theta_1} $"
      ],
      "text/plain": [
       "<IPython.core.display.Markdown object>"
      ]
     },
     "metadata": {},
     "output_type": "display_data"
    }
   ],
   "source": [
    "lprint(tfuncs[1])"
   ]
  },
  {
   "cell_type": "markdown",
   "metadata": {},
   "source": [
    "## Running the implicit function theorem"
   ]
  },
  {
   "cell_type": "code",
   "execution_count": 38,
   "metadata": {},
   "outputs": [
    {
     "data": {
      "text/plain": [
       "2"
      ]
     },
     "execution_count": 38,
     "metadata": {},
     "output_type": "execute_result"
    }
   ],
   "source": [
    "len(tfuncs)"
   ]
  },
  {
   "cell_type": "code",
   "execution_count": 39,
   "metadata": {},
   "outputs": [
    {
     "data": {
      "text/plain": [
       "{'theta0': 0, 'theta1': 0, 'l': 0}"
      ]
     },
     "execution_count": 39,
     "metadata": {},
     "output_type": "execute_result"
    }
   ],
   "source": [
    "position = {key : 0 for key in var_dict_old.keys()}\n",
    "position"
   ]
  },
  {
   "cell_type": "code",
   "execution_count": 40,
   "metadata": {},
   "outputs": [],
   "source": [
    "#code_funcs = [tfuncs[index].function(*list(var_dict_old.values())) for index in [0,1,2,3,4,5,6]] # careful with computer science indexing from zero\n",
    "code_funcs = [tfuncs[index] for index in [0]] # the last function has degenerate first derivative always\n",
    "position = {key : 0 for key in var_dict_old.keys()}\n",
    "# var_dict already loaded\n",
    "var_dict = {'y1' : theta1, 'x1' : l, 'x2' : theta0}\n",
    "x_var_keys = ['l', 'theta0'] # the variables in the kernel\n",
    "x_dim = 2\n",
    "y_dim = 1 # invertible part"
   ]
  },
  {
   "cell_type": "code",
   "execution_count": 41,
   "metadata": {},
   "outputs": [
    {
     "data": {
      "text/plain": [
       "dict_keys(['y1', 'x1', 'x2'])"
      ]
     },
     "execution_count": 41,
     "metadata": {},
     "output_type": "execute_result"
    }
   ],
   "source": [
    "var_dict.keys()"
   ]
  },
  {
   "cell_type": "code",
   "execution_count": 42,
   "metadata": {},
   "outputs": [
    {
     "name": "stdout",
     "output_type": "stream",
     "text": [
      "computing Taylor approximaton to 3 order for speedup\n"
     ]
    }
   ],
   "source": [
    "t_dict = TensorDict(code_funcs, position, var_dict, x_dim, y_dim)"
   ]
  },
  {
   "cell_type": "code",
   "execution_count": 43,
   "metadata": {},
   "outputs": [
    {
     "name": "stderr",
     "output_type": "stream",
     "text": [
      "100%|██████████| 1/1 [00:00<00:00, 377.70it/s]\n",
      "100%|██████████| 1/1 [00:00<00:00,  9.81it/s]\n"
     ]
    },
    {
     "name": "stdout",
     "output_type": "stream",
     "text": [
      "[1]\n"
     ]
    },
    {
     "name": "stderr",
     "output_type": "stream",
     "text": [
      "100%|██████████| 2/2 [00:00<00:00, 3571.14it/s]\n",
      "100%|██████████| 4/4 [00:00<00:00, 16.46it/s]\n"
     ]
    },
    {
     "name": "stdout",
     "output_type": "stream",
     "text": [
      "[1]\n"
     ]
    },
    {
     "name": "stderr",
     "output_type": "stream",
     "text": [
      "100%|██████████| 3/3 [00:00<00:00, 2163.87it/s]\n",
      "100%|██████████| 14/14 [00:01<00:00,  8.75it/s]\n"
     ]
    },
    {
     "name": "stdout",
     "output_type": "stream",
     "text": [
      "[1]\n"
     ]
    },
    {
     "name": "stderr",
     "output_type": "stream",
     "text": [
      "100%|██████████| 4/4 [00:00<00:00, 1046.48it/s]\n",
      "  0%|          | 0/51 [00:00<?, ?it/s]"
     ]
    },
    {
     "name": "stdout",
     "output_type": "stream",
     "text": [
      "updating Taylor series\n"
     ]
    },
    {
     "name": "stderr",
     "output_type": "stream",
     "text": [
      "100%|██████████| 51/51 [00:08<00:00,  6.35it/s]"
     ]
    },
    {
     "name": "stdout",
     "output_type": "stream",
     "text": [
      "[1]\n"
     ]
    },
    {
     "name": "stderr",
     "output_type": "stream",
     "text": [
      "\n"
     ]
    }
   ],
   "source": [
    "out = get_hkx_polynomial(code_funcs, 4, x_dim, y_dim, var_dict, x_var_keys, t_dict, position)"
   ]
  },
  {
   "cell_type": "code",
   "execution_count": 44,
   "metadata": {},
   "outputs": [
    {
     "data": {
      "text/markdown": [
       "$ \\left[-\\frac{3969}{15625} \\, {\\lambda}^{3} {\\theta_0} - \\frac{747}{125000} \\, {\\lambda} {\\theta_0}^{3} - \\frac{189}{1250} \\, {\\lambda}^{2} {\\theta_0} + \\frac{9}{2500} \\, {\\theta_0}^{3} - \\frac{9}{100} \\, {\\lambda} {\\theta_0}\\right] $"
      ],
      "text/plain": [
       "<IPython.core.display.Markdown object>"
      ]
     },
     "metadata": {},
     "output_type": "display_data"
    }
   ],
   "source": [
    "lprint(out) # our h function"
   ]
  },
  {
   "cell_type": "markdown",
   "metadata": {},
   "source": [
    "## Testing the implicit function theorem"
   ]
  },
  {
   "cell_type": "code",
   "execution_count": 45,
   "metadata": {},
   "outputs": [],
   "source": [
    "subbed = [func(theta1 = out[0]) for func in tfuncs]"
   ]
  },
  {
   "cell_type": "code",
   "execution_count": 46,
   "metadata": {},
   "outputs": [
    {
     "data": {
      "text/plain": [
       "[-8.699991032367438e-05, -0.00240402517403639]"
      ]
     },
     "execution_count": 46,
     "metadata": {},
     "output_type": "execute_result"
    }
   ],
   "source": [
    "[float(func(l = 0.1, theta0 = 0.1)) for func in subbed]"
   ]
  },
  {
   "cell_type": "markdown",
   "metadata": {},
   "source": [
    "the last function remains to be solved"
   ]
  },
  {
   "cell_type": "markdown",
   "metadata": {},
   "source": [
    "### Looking for more solutions"
   ]
  },
  {
   "cell_type": "markdown",
   "metadata": {},
   "source": [
    "Now substitute this into the equation that had degenerate image"
   ]
  },
  {
   "cell_type": "code",
   "execution_count": 48,
   "metadata": {},
   "outputs": [
    {
     "data": {
      "text/markdown": [
       "$ \\frac{209}{468750} \\theta_{0}^{5} + \\left(-\\frac{509}{93750}\\right) \\theta_{0}^{4} \\theta_{1} + \\frac{202}{140625} \\theta_{0}^{3} \\theta_{1}^{2} + \\frac{1372}{15625} \\theta_{0}^{2} \\theta_{1}^{3} + \\left(-\\frac{9124}{140625}\\right) \\theta_{0} \\theta_{1}^{4} + \\left(-\\frac{35792}{234375}\\right) \\theta_{1}^{5} + \\frac{7}{625} l \\theta_{0}^{3} + \\left(-\\frac{36}{625}\\right) l \\theta_{0}^{2} \\theta_{1} + \\frac{26}{625} l \\theta_{0} \\theta_{1}^{2} + \\frac{128}{625} l \\theta_{1}^{3} + \\frac{38}{1875} \\theta_{0}^{3} + \\left(-\\frac{18}{625}\\right) \\theta_{0}^{2} \\theta_{1} + \\left(-\\frac{356}{1875}\\right) \\theta_{0} \\theta_{1}^{2} + \\left(-\\frac{128}{1875}\\right) \\theta_{1}^{3} + \\left(-\\frac{6}{25}\\right) l \\theta_{0} + \\frac{6}{25} l \\theta_{1} $"
      ],
      "text/plain": [
       "<IPython.core.display.Markdown object>"
      ]
     },
     "metadata": {},
     "output_type": "display_data"
    }
   ],
   "source": [
    "tf_taylor = tfuncs[1].taylor(*[(key,value) for key,value in position.items()],5) # taylor expand the function with degenerate image\n",
    "lprint(tf_taylor.polynomial(SR)) # all three variables are present"
   ]
  },
  {
   "cell_type": "code",
   "execution_count": 50,
   "metadata": {},
   "outputs": [],
   "source": [
    "tf_sub = tf_taylor(theta1 = out[0]) # substitute in h"
   ]
  },
  {
   "cell_type": "code",
   "execution_count": 52,
   "metadata": {},
   "outputs": [
    {
     "data": {
      "text/markdown": [
       "$ -\\frac{27}{1250} \\, {\\lambda}^{2} {\\theta_0} + \\frac{38}{1875} \\, {\\theta_0}^{3} - \\frac{6}{25} \\, {\\lambda} {\\theta_0} $"
      ],
      "text/plain": [
       "<IPython.core.display.Markdown object>"
      ]
     },
     "metadata": {},
     "output_type": "display_data"
    }
   ],
   "source": [
    "local = symbolic_expression(sum([a[0]*a[1] for a in tf_sub.polynomial(SR) if a[1].degree() <= 3]))\n",
    "#local = tf_sub.polynomial(SR).truncate(4)\n",
    "lprint(local) # will see that we can take out a factor of theta0 = xi0"
   ]
  },
  {
   "cell_type": "markdown",
   "metadata": {},
   "source": [
    "We see that this will have solutions, therefore the point $\\lambda$ is indeed a bifurcation point, and if we fix the $p10x$ variable at zero then $\\lambda$ will span the local solutions."
   ]
  },
  {
   "cell_type": "code",
   "execution_count": 53,
   "metadata": {},
   "outputs": [
    {
     "data": {
      "text/markdown": [
       "$ \\left[{\\theta_0} = -\\frac{3}{2} \\, \\sqrt{\\frac{9}{19} \\, {\\lambda}^{2} + \\frac{100}{19} \\, {\\lambda}}, {\\theta_0} = \\frac{3}{2} \\, \\sqrt{\\frac{9}{19} \\, {\\lambda}^{2} + \\frac{100}{19} \\, {\\lambda}}, {\\theta_0} = 0\\right] $"
      ],
      "text/plain": [
       "<IPython.core.display.Markdown object>"
      ]
     },
     "metadata": {},
     "output_type": "display_data"
    }
   ],
   "source": [
    "lprint(solve(local, theta0))"
   ]
  },
  {
   "cell_type": "code",
   "execution_count": 54,
   "metadata": {},
   "outputs": [
    {
     "data": {
      "image/png": "[encoded data removed]",
      "text/plain": [
       "Graphics object consisting of 1 graphics primitive"
      ]
     },
     "execution_count": 54,
     "metadata": {},
     "output_type": "execute_result"
    }
   ],
   "source": [
    "implicit_plot(local, (-1,5), (-5,5))"
   ]
  },
  {
   "cell_type": "markdown",
   "metadata": {},
   "source": [
    "looks like a bifurcation to me"
   ]
  },
  {
   "cell_type": "code",
   "execution_count": 58,
   "metadata": {},
   "outputs": [
    {
     "data": {
      "text/markdown": [
       "$ \\left[-\\frac{3}{2} \\, \\sqrt{\\frac{9}{19} \\, {\\lambda}^{2} + \\frac{100}{19} \\, {\\lambda}}, \\frac{11907}{31250} \\, \\sqrt{\\frac{9}{19} \\, {\\lambda}^{2} + \\frac{100}{19} \\, {\\lambda}} {\\lambda}^{3} + \\frac{20169}{1000000} \\, {\\left(\\frac{9}{19} \\, {\\lambda}^{2} + \\frac{100}{19} \\, {\\lambda}\\right)}^{\\frac{3}{2}} {\\lambda} + \\frac{567}{2500} \\, \\sqrt{\\frac{9}{19} \\, {\\lambda}^{2} + \\frac{100}{19} \\, {\\lambda}} {\\lambda}^{2} - \\frac{243}{20000} \\, {\\left(\\frac{9}{19} \\, {\\lambda}^{2} + \\frac{100}{19} \\, {\\lambda}\\right)}^{\\frac{3}{2}} + \\frac{27}{200} \\, \\sqrt{\\frac{9}{19} \\, {\\lambda}^{2} + \\frac{100}{19} \\, {\\lambda}} {\\lambda}\\right] $"
      ],
      "text/plain": [
       "<IPython.core.display.Markdown object>"
      ]
     },
     "metadata": {},
     "output_type": "display_data"
    }
   ],
   "source": [
    "sols = [solve(local, theta0)[0].rhs(), out[0](theta0 = solve(local, theta0)[0].rhs())] # now solutions are spanned by lambda\n",
    "        # theta0 = g(l)                 # theta1 = h(g(l), l)\n",
    "\n",
    "lprint(sols) # now only in terms of lambda"
   ]
  },
  {
   "cell_type": "code",
   "execution_count": 171,
   "metadata": {},
   "outputs": [
    {
     "data": {
      "text/plain": [
       "[9.77409948905484e-6, -7.65013934688049e-6]"
      ]
     },
     "execution_count": 171,
     "metadata": {},
     "output_type": "execute_result"
    }
   ],
   "source": [
    "coords = { list(var_dict_old.keys())[i] : sols[i] for i in [0,1] }\n",
    "coords\n",
    "[tfuncs[i](**coords)(l = 0.01) for i in [0,1]] # see that we solve both equations"
   ]
  },
  {
   "cell_type": "markdown",
   "metadata": {},
   "source": [
    "However solutions are in the reformed space, needed to undo the action that reorganised the kernel"
   ]
  },
  {
   "cell_type": "markdown",
   "metadata": {},
   "source": [
    "### Generating more solutions"
   ]
  },
  {
   "cell_type": "markdown",
   "metadata": {},
   "source": [
    "We have solved $f \\circ A$ where $A$ orthogonalised the kernel, thus by applying $A$ we can get a traversel of the new solutions."
   ]
  },
  {
   "cell_type": "code",
   "execution_count": 113,
   "metadata": {},
   "outputs": [
    {
     "data": {
      "text/markdown": [
       "$ \\left(\\begin{array}{rr}\n",
       "\\frac{1}{5} & \\frac{4}{5} \\\\\n",
       "-\\frac{2}{5} & \\frac{2}{5}\n",
       "\\end{array}\\right) $"
      ],
      "text/plain": [
       "<IPython.core.display.Markdown object>"
      ]
     },
     "metadata": {},
     "output_type": "display_data"
    }
   ],
   "source": [
    "lprint(A)"
   ]
  },
  {
   "cell_type": "code",
   "execution_count": 145,
   "metadata": {},
   "outputs": [
    {
     "data": {
      "text/plain": [
       "2"
      ]
     },
     "execution_count": 145,
     "metadata": {},
     "output_type": "execute_result"
    }
   ],
   "source": [
    "fsols = list(A*vector(sols))\n",
    "len(fsols)"
   ]
  },
  {
   "cell_type": "code",
   "execution_count": 141,
   "metadata": {},
   "outputs": [],
   "source": [
    "#fsols = [random.random()/10000 for i in range(0,2)] # can check these are giving solutions"
   ]
  },
  {
   "cell_type": "code",
   "execution_count": 184,
   "metadata": {},
   "outputs": [
    {
     "data": {
      "text/plain": [
       "{'theta0': 23814/78125*sqrt(9/19*l^2 + 100/19*l)*l^3 + 20169/1250000*(9/19*l^2 + 100/19*l)^(3/2)*l + 567/3125*sqrt(9/19*l^2 + 100/19*l)*l^2 - 243/25000*(9/19*l^2 + 100/19*l)^(3/2) + 27/250*sqrt(9/19*l^2 + 100/19*l)*l - 3/10*sqrt(9/19*l^2 + 100/19*l),\n",
       " 'theta1': 11907/78125*sqrt(9/19*l^2 + 100/19*l)*l^3 + 20169/2500000*(9/19*l^2 + 100/19*l)^(3/2)*l + 567/6250*sqrt(9/19*l^2 + 100/19*l)*l^2 - 243/50000*(9/19*l^2 + 100/19*l)^(3/2) + 27/500*sqrt(9/19*l^2 + 100/19*l)*l + 3/5*sqrt(9/19*l^2 + 100/19*l)}"
      ]
     },
     "execution_count": 184,
     "metadata": {},
     "output_type": "execute_result"
    }
   ],
   "source": [
    "coords = { list(var_dict_old.keys())[i] : fsols[i] for i in [0,1] }\n",
    "coords"
   ]
  },
  {
   "cell_type": "code",
   "execution_count": 190,
   "metadata": {},
   "outputs": [],
   "source": [
    "sym_funcs = [func.function(*list(var_dict_old.values()))(l = l + 2/3) for func in funcs] # convert to symbolic functions\n",
    "# *** IF SOMETHING IS BREAKING CHECK THAT RIGHT SHIFT HERE ***"
   ]
  },
  {
   "cell_type": "code",
   "execution_count": 191,
   "metadata": {},
   "outputs": [
    {
     "data": {
      "text/plain": [
       "(1.8414125957238038e-05, 2.833241134583418e-05)"
      ]
     },
     "execution_count": 191,
     "metadata": {},
     "output_type": "execute_result"
    }
   ],
   "source": [
    "vector([float(func(**coords)(l = 0.01)) for func in sym_funcs])"
   ]
  },
  {
   "cell_type": "markdown",
   "metadata": {},
   "source": [
    "We see that these solutions do indeed comprise a new set of solutions"
   ]
  },
  {
   "cell_type": "code",
   "execution_count": 194,
   "metadata": {},
   "outputs": [
    {
     "name": "stdout",
     "output_type": "stream",
     "text": [
      "0.0 0.0 0.0\n",
      "0.01 -0.344278421599361 0.00017067869689780496\n",
      "0.02 -0.48710206430750386 0.0005049807236962491\n",
      "0.03 -0.5968436716771425 0.0009695137268265359\n",
      "0.04 -0.6894849336165443 0.0015585200305396557\n",
      "0.05 -0.7712131591473951 0.002272223899992609\n",
      "0.06 -0.845200069743689 0.0031133976908829554\n",
      "0.07 -0.9133289313506417 0.004086184611077317\n",
      "0.08 -0.97682622491629 0.005195575550890395\n",
      "0.09 -1.0365434715539201 0.006447139173567321\n"
     ]
    }
   ],
   "source": [
    "for i in range(0,10):\n",
    "    print(float(i/100), float(sols[0](l = i/100)), float(sols[1](l = i/100)))"
   ]
  },
  {
   "cell_type": "raw",
   "metadata": {},
   "source": [
    "\\_/ bending action"
   ]
  },
  {
   "cell_type": "code",
   "execution_count": null,
   "metadata": {},
   "outputs": [],
   "source": []
  }
 ],
 "metadata": {
  "kernelspec": {
   "display_name": "SageMath 9.2",
   "language": "sage",
   "name": "sagemath"
  },
  "language_info": {
   "codemirror_mode": {
    "name": "ipython",
    "version": 3
   },
   "file_extension": ".py",
   "mimetype": "text/x-python",
   "name": "python",
   "nbconvert_exporter": "python",
   "pygments_lexer": "ipython3",
   "version": "3.7.7"
  }
 },
 "nbformat": 4,
 "nbformat_minor": 4
}
