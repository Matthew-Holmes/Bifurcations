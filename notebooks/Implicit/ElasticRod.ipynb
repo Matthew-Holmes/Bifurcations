{
 "cells": [
  {
   "cell_type": "markdown",
   "metadata": {},
   "source": [
    "# Elastic Rod Model"
   ]
  },
  {
   "cell_type": "code",
   "execution_count": 1,
   "metadata": {},
   "outputs": [],
   "source": [
    "from IPython.display import display, Markdown\n",
    "import random\n",
    "def latexify(x):\n",
    "    out = '$' + x + '$'\n",
    "    return out\n",
    "\n",
    "def lprint(x):\n",
    "    display(Markdown(latexify(latex(x))))\n",
    "    \n",
    "%run -i 'implicit.py'"
   ]
  },
  {
   "cell_type": "markdown",
   "metadata": {},
   "source": [
    "In this notebook a discretisation of the elastic rod bifurcation problem will be investigated"
   ]
  },
  {
   "cell_type": "markdown",
   "metadata": {},
   "source": [
    "https://pubs.rsc.org/en/content/chapterhtml/2015/bk9781849738132-00001?isbn=978-1-84973-813-2&sercode=bk\n",
    "\n",
    "derives a system of equations that correspond to a period truss network model for an elastic rod."
   ]
  },
  {
   "cell_type": "code",
   "execution_count": 2,
   "metadata": {},
   "outputs": [],
   "source": [
    "def get_funcs(n, k = 1, f = None, fix_end_y = True):\n",
    "    # returns a set of equations to solve\n",
    "    if f is None:\n",
    "        var('x')\n",
    "        f = x # default spring energy function\n",
    "        \n",
    "    var_dict = {}\n",
    "    for i in range(0,n+1):\n",
    "        # create a grid\n",
    "        # Pij is the displacement from the point (i,j) on the grid\n",
    "        # then split into x,y position of where that point goes\n",
    "        var_dict['p{}0x'.format(i)] = var('p{}0x'.format(i))\n",
    "        var_dict['p{}0y'.format(i)] = var('p{}0y'.format(i))\n",
    "        var_dict['p{}1x'.format(i)] = var('p{}1x'.format(i))\n",
    "        var_dict['p{}1y'.format(i)] = var('p{}1y'.format(i))\n",
    "        \n",
    "    # enforce fixed points at left side of truss network\n",
    "    var_dict['p00x'] = 0\n",
    "    var_dict['p00y'] = 0\n",
    "    var_dict['p01x'] = 0\n",
    "    var_dict['p01y'] = 0 \n",
    "    \n",
    "    if fix_end_y == True:\n",
    "        var_dict['p{}0y'.format(n)] = 0\n",
    "        var_dict['p{}1y'.format(n)] = 0 \n",
    "    \n",
    "    #var_dict['p{}0x'.format(n)] = 0 # really n\n",
    "    #var_dict['p{}0y'.format(n)] = 0\n",
    "    #var_dict['p{}1x'.format(n)] = 0 # really n\n",
    "    #var_dict['p{}1y'.format(n)] = 0 # really 1\n",
    "    \n",
    "    var_dict['l'] = var('l', latex_name=r'\\lambda') # lamdba force variable\n",
    "    \n",
    "    # so after constraints at endpoints we have 4(n-1) uknowns\n",
    "    \n",
    "    funcs = []\n",
    "    e_truss = 0\n",
    "    for j in range(1,n+1):\n",
    "        # iterate through each square in the truss\n",
    "        # get the length of each of the five springs\n",
    "        \n",
    "        top_x = 1 + var_dict['p{}1x'.format(j)] - var_dict['p{}1x'.format(j-1)]\n",
    "        top_y = var_dict['p{}1y'.format(j)] - var_dict['p{}1y'.format(j-1)]  \n",
    "        top = f(sqrt(top_x^2 + top_y^2))\n",
    "        \n",
    "        right_x = var_dict['p{}1x'.format(j)] - var_dict['p{}0x'.format(j)] \n",
    "        right_y = 1 + var_dict['p{}1y'.format(j)] - var_dict['p{}0y'.format(j)] \n",
    "        right = f(sqrt(right_x^2 + right_y^2))\n",
    " \n",
    "        bottom_x = 1 + var_dict['p{}0x'.format(j)] - var_dict['p{}0x'.format(j-1)]\n",
    "        bottom_y = var_dict['p{}0y'.format(j)] - var_dict['p{}0y'.format(j-1)]  \n",
    "        bottom = f(sqrt(bottom_x^2 + bottom_y^2))\n",
    "        \n",
    "        \n",
    "        # \\ spring\n",
    "        diag1_x = 1 + var_dict['p{}0x'.format(j)] - var_dict['p{}1x'.format(j-1)]\n",
    "        diag1_y = 1 + var_dict['p{}1y'.format(j-1)] - var_dict['p{}0y'.format(j)]\n",
    "        diag1 = f(sqrt(diag1_x^2 + diag1_y^2)/sqrt(2)) # scale by root 2\n",
    "        \n",
    "        \n",
    "        # / spring\n",
    "        diag2_x = 1 + var_dict['p{}1x'.format(j)] - var_dict['p{}0x'.format(j-1)]\n",
    "        diag2_y = 1 + var_dict['p{}1y'.format(j)] - var_dict['p{}0y'.format(j-1)]\n",
    "        diag2 = f(sqrt(diag1_x^2 + diag1_y^2)/sqrt(2)) # so that zero is indeed a solution \n",
    "        \n",
    "        e_truss = e_truss + top + right + bottom + diag1 + diag2\n",
    "        \n",
    "        \n",
    "    #print(e_truss)\n",
    "    #e_truss = e_truss + var_dict['l'] * (var_dict['p{}1x'.format(n)]) \n",
    "                                          \n",
    "    #e_truss = e_truss + var_dict['l'] * (var_dict['p{}0x'.format(n)])\n",
    "    \n",
    "                                                 \n",
    "    # add work done by a force lambda\n",
    "        \n",
    "    # solutions will be local minima of the energy equation\n",
    "    for j in range(1,n):\n",
    "        # only care about 1,...,n\n",
    "        # 0 and n are fixed points\n",
    "        funcs.append(e_truss.diff(var_dict['p{}0x'.format(j)]))\n",
    "        funcs.append(e_truss.diff(var_dict['p{}0y'.format(j)]))\n",
    "        funcs.append(e_truss.diff(var_dict['p{}1x'.format(j)]))\n",
    "        funcs.append(e_truss.diff(var_dict['p{}1y'.format(j)]))\n",
    "        \n",
    "    funcs.append(e_truss.diff(var_dict['p{}1x'.format(n)]) - var_dict['l'] * (var_dict['p{}1x'.format(n)]) ) \n",
    "    funcs.append(e_truss.diff(var_dict['p{}0x'.format(n)]) - var_dict['l'] * (var_dict['p{}0x'.format(n)]) )\n",
    "    \n",
    "    if fix_end_y is False:\n",
    "        funcs.append(e_truss.diff(var_dict['p{}1y'.format(n)]))\n",
    "        funcs.append(e_truss.diff(var_dict['p{}0y'.format(n)]))\n",
    "        \n",
    "    return funcs, var_dict\n",
    "    "
   ]
  },
  {
   "cell_type": "code",
   "execution_count": 3,
   "metadata": {},
   "outputs": [
    {
     "name": "stderr",
     "output_type": "stream",
     "text": [
      "implicit.py:1: DeprecationWarning: Substitution using function-call syntax and unnamed arguments is deprecated and will be removed from a future release of Sage; you can use named arguments instead, like EXPR(x=..., y=...)\n",
      "See http://trac.sagemath.org/5930 for details.\n",
      "  from math import factorial\n"
     ]
    }
   ],
   "source": [
    "funcs, var_dict = get_funcs(2,f = (x-1)^2)"
   ]
  },
  {
   "cell_type": "code",
   "execution_count": 4,
   "metadata": {},
   "outputs": [
    {
     "data": {
      "text/plain": [
       "{'p00x': 0,\n",
       " 'p00y': 0,\n",
       " 'p01x': 0,\n",
       " 'p01y': 0,\n",
       " 'p10x': p10x,\n",
       " 'p10y': p10y,\n",
       " 'p11x': p11x,\n",
       " 'p11y': p11y,\n",
       " 'p20x': p20x,\n",
       " 'p20y': 0,\n",
       " 'p21x': p21x,\n",
       " 'p21y': 0,\n",
       " 'l': l}"
      ]
     },
     "execution_count": 4,
     "metadata": {},
     "output_type": "execute_result"
    }
   ],
   "source": [
    "var_dict"
   ]
  },
  {
   "cell_type": "code",
   "execution_count": 5,
   "metadata": {},
   "outputs": [
    {
     "data": {
      "text/markdown": [
       "$ 0 $"
      ],
      "text/plain": [
       "<IPython.core.display.Markdown object>"
      ]
     },
     "metadata": {},
     "output_type": "display_data"
    }
   ],
   "source": [
    "lprint(funcs[5](0,0,0,0,0,0,0))"
   ]
  },
  {
   "cell_type": "code",
   "execution_count": 6,
   "metadata": {},
   "outputs": [
    {
     "data": {
      "text/plain": [
       "6"
      ]
     },
     "execution_count": 6,
     "metadata": {},
     "output_type": "execute_result"
    }
   ],
   "source": [
    "len(funcs)"
   ]
  },
  {
   "cell_type": "code",
   "execution_count": 7,
   "metadata": {},
   "outputs": [
    {
     "data": {
      "text/markdown": [
       "$ -\\frac{\\sqrt{2} {\\left(\\sqrt{2} \\sqrt{{\\left(\\mathit{p11x} - \\mathit{p20x} - 1\\right)}^{2} + {\\left(\\mathit{p11y} + 1\\right)}^{2}} - 2\\right)} {\\left(\\mathit{p11x} - \\mathit{p20x} - 1\\right)}}{\\sqrt{{\\left(\\mathit{p11x} - \\mathit{p20x} - 1\\right)}^{2} + {\\left(\\mathit{p11y} + 1\\right)}^{2}}} - {\\lambda} \\mathit{p20x} - \\frac{2 \\, {\\left(\\mathit{p10x} - \\mathit{p20x} - 1\\right)} {\\left(\\sqrt{{\\left(\\mathit{p10x} - \\mathit{p20x} - 1\\right)}^{2} + \\mathit{p10y}^{2}} - 1\\right)}}{\\sqrt{{\\left(\\mathit{p10x} - \\mathit{p20x} - 1\\right)}^{2} + \\mathit{p10y}^{2}}} + \\frac{2 \\, {\\left(\\mathit{p20x} - \\mathit{p21x}\\right)} {\\left(\\sqrt{{\\left(\\mathit{p20x} - \\mathit{p21x}\\right)}^{2} + 1} - 1\\right)}}{\\sqrt{{\\left(\\mathit{p20x} - \\mathit{p21x}\\right)}^{2} + 1}} $"
      ],
      "text/plain": [
       "<IPython.core.display.Markdown object>"
      ]
     },
     "metadata": {},
     "output_type": "display_data"
    }
   ],
   "source": [
    "lprint(funcs[5])"
   ]
  },
  {
   "cell_type": "code",
   "execution_count": 8,
   "metadata": {},
   "outputs": [
    {
     "data": {
      "text/markdown": [
       "$ \\left(\\begin{array}{rrrrrr}\n",
       "5 & -1 & 0 & 0 & -2 & 0 \\\\\n",
       "-1 & 3 & 0 & -2 & 0 & 0 \\\\\n",
       "0 & 0 & 5 & -1 & -1 & -2 \\\\\n",
       "0 & -2 & -1 & 3 & 1 & 0 \\\\\n",
       "0 & 0 & -2 & 0 & 0 & -{\\lambda} + 2 \\\\\n",
       "-2 & 0 & -1 & 1 & -{\\lambda} + 3 & 0\n",
       "\\end{array}\\right) $"
      ],
      "text/plain": [
       "<IPython.core.display.Markdown object>"
      ]
     },
     "metadata": {},
     "output_type": "display_data"
    }
   ],
   "source": [
    "old_var = var_dict\n",
    "var_dict = {key : var_dict[key] for key in var_dict.keys() if var_dict[key] != 0}\n",
    "var_dict = {key : var_dict[key] for key in var_dict.keys() if key != 'l'}\n",
    "\n",
    "J = jacobian(funcs,tuple(var_dict.values()))(**{var : 0 for var in var_dict.keys()})\n",
    "lprint(J)"
   ]
  },
  {
   "cell_type": "code",
   "execution_count": 9,
   "metadata": {},
   "outputs": [
    {
     "data": {
      "text/markdown": [
       "$ -96 \\, {\\lambda}^{2} + 272 \\, {\\lambda} - 176 $"
      ],
      "text/plain": [
       "<IPython.core.display.Markdown object>"
      ]
     },
     "metadata": {},
     "output_type": "display_data"
    }
   ],
   "source": [
    "lprint(det(matrix(J))) # potential bifurcation point"
   ]
  },
  {
   "cell_type": "code",
   "execution_count": 10,
   "metadata": {},
   "outputs": [
    {
     "data": {
      "text/markdown": [
       "$ \\left[{\\lambda} = 1, {\\lambda} = \\left(\\frac{11}{6}\\right)\\right] $"
      ],
      "text/plain": [
       "<IPython.core.display.Markdown object>"
      ]
     },
     "metadata": {},
     "output_type": "display_data"
    }
   ],
   "source": [
    "lprint(solve(det(matrix(J)), l))"
   ]
  },
  {
   "cell_type": "code",
   "execution_count": 11,
   "metadata": {},
   "outputs": [
    {
     "data": {
      "text/markdown": [
       "$ \\left(\\begin{array}{rrrrrr}\n",
       "5 & -1 & 0 & 0 & -2 & 0 \\\\\n",
       "-1 & 3 & 0 & -2 & 0 & 0 \\\\\n",
       "0 & 0 & 5 & -1 & -1 & -2 \\\\\n",
       "0 & -2 & -1 & 3 & 1 & 0 \\\\\n",
       "0 & 0 & -2 & 0 & 0 & \\frac{1}{6} \\\\\n",
       "-2 & 0 & -1 & 1 & \\frac{7}{6} & 0\n",
       "\\end{array}\\right) $"
      ],
      "text/plain": [
       "<IPython.core.display.Markdown object>"
      ]
     },
     "metadata": {},
     "output_type": "display_data"
    }
   ],
   "source": [
    "#bif_funcs = [func(l = 2/((32*sqrt(2)) + 36)) for func in funcs] #\n",
    "#bif_funcs = [func(l = (sqrt(2)*(9/4))/((225*sqrt(2))/2 + 108)) for func in funcs] #\n",
    "bif_funcs = [func(l = 11/6) for func in funcs]\n",
    "#var_dict['l'] = old_var['l']\n",
    "J = jacobian(bif_funcs,tuple(var_dict.values()))(**{var : 0 for var in var_dict.keys()})\n",
    "\n",
    "lprint(J)"
   ]
  },
  {
   "cell_type": "code",
   "execution_count": 12,
   "metadata": {},
   "outputs": [
    {
     "data": {
      "text/markdown": [
       "$ 0 $"
      ],
      "text/plain": [
       "<IPython.core.display.Markdown object>"
      ]
     },
     "metadata": {},
     "output_type": "display_data"
    }
   ],
   "source": [
    "lprint(det(J))"
   ]
  },
  {
   "cell_type": "markdown",
   "metadata": {},
   "source": [
    "### Orthogonalising the kernel"
   ]
  },
  {
   "cell_type": "code",
   "execution_count": 13,
   "metadata": {},
   "outputs": [
    {
     "data": {
      "text/markdown": [
       "$ \\left[\\left(1,\\,-\\frac{7}{13},\\,-\\frac{1}{13},\\,-\\frac{17}{13},\\,\\frac{36}{13},\\,-\\frac{12}{13}\\right)\\right] $"
      ],
      "text/plain": [
       "<IPython.core.display.Markdown object>"
      ]
     },
     "metadata": {},
     "output_type": "display_data"
    }
   ],
   "source": [
    "K = J.right_kernel().basis()\n",
    "lprint(K)"
   ]
  },
  {
   "cell_type": "code",
   "execution_count": 14,
   "metadata": {},
   "outputs": [
    {
     "data": {
      "text/markdown": [
       "$ \\left[\\left(1,\\,0,\\,0,\\,0,\\,0,\\,\\frac{13}{12}\\right), \\left(0,\\,1,\\,0,\\,0,\\,0,\\,-\\frac{7}{12}\\right), \\left(0,\\,0,\\,1,\\,0,\\,0,\\,-\\frac{1}{12}\\right), \\left(0,\\,0,\\,0,\\,1,\\,0,\\,-\\frac{17}{12}\\right), \\left(0,\\,0,\\,0,\\,0,\\,1,\\,3\\right)\\right] $"
      ],
      "text/plain": [
       "<IPython.core.display.Markdown object>"
      ]
     },
     "metadata": {},
     "output_type": "display_data"
    }
   ],
   "source": [
    "Kperp = matrix(K).right_kernel().basis()\n",
    "lprint(Kperp)"
   ]
  },
  {
   "cell_type": "code",
   "execution_count": 15,
   "metadata": {},
   "outputs": [
    {
     "data": {
      "text/markdown": [
       "$ \\left(\\begin{array}{rrrrrr}\n",
       "\\frac{169}{1948} & \\frac{1779}{1948} & \\frac{91}{1948} & \\frac{13}{1948} & \\frac{221}{1948} & -\\frac{117}{487} \\\\\n",
       "-\\frac{91}{1948} & \\frac{91}{1948} & \\frac{1899}{1948} & -\\frac{7}{1948} & -\\frac{119}{1948} & \\frac{63}{487} \\\\\n",
       "-\\frac{13}{1948} & \\frac{13}{1948} & -\\frac{7}{1948} & \\frac{1947}{1948} & -\\frac{17}{1948} & \\frac{9}{487} \\\\\n",
       "-\\frac{221}{1948} & \\frac{221}{1948} & -\\frac{119}{1948} & -\\frac{17}{1948} & \\frac{1659}{1948} & \\frac{153}{487} \\\\\n",
       "\\frac{117}{487} & -\\frac{117}{487} & \\frac{63}{487} & \\frac{9}{487} & \\frac{153}{487} & \\frac{163}{487} \\\\\n",
       "-\\frac{39}{487} & \\frac{39}{487} & -\\frac{21}{487} & -\\frac{3}{487} & -\\frac{51}{487} & \\frac{108}{487}\n",
       "\\end{array}\\right) $"
      ],
      "text/plain": [
       "<IPython.core.display.Markdown object>"
      ]
     },
     "metadata": {},
     "output_type": "display_data"
    }
   ],
   "source": [
    "A = matrix(K+Kperp).inverse().apply_map(lambda x: x.full_simplify())\n",
    "lprint(A)"
   ]
  },
  {
   "cell_type": "code",
   "execution_count": 16,
   "metadata": {},
   "outputs": [],
   "source": [
    "key_list = [str(var) for var in var_dict.values()]\n",
    "value_list = list(A*vector(var_dict.values()))\n",
    "mutate_dict = dict(zip(key_list, value_list))"
   ]
  },
  {
   "cell_type": "code",
   "execution_count": 17,
   "metadata": {},
   "outputs": [
    {
     "data": {
      "text/plain": [
       "{'p10x': 169/1948*p10x + 1779/1948*p10y + 91/1948*p11x + 13/1948*p11y + 221/1948*p20x - 117/487*p21x,\n",
       " 'p10y': -91/1948*p10x + 91/1948*p10y + 1899/1948*p11x - 7/1948*p11y - 119/1948*p20x + 63/487*p21x,\n",
       " 'p11x': -13/1948*p10x + 13/1948*p10y - 7/1948*p11x + 1947/1948*p11y - 17/1948*p20x + 9/487*p21x,\n",
       " 'p11y': -221/1948*p10x + 221/1948*p10y - 119/1948*p11x - 17/1948*p11y + 1659/1948*p20x + 153/487*p21x,\n",
       " 'p20x': 117/487*p10x - 117/487*p10y + 63/487*p11x + 9/487*p11y + 153/487*p20x + 163/487*p21x,\n",
       " 'p21x': -39/487*p10x + 39/487*p10y - 21/487*p11x - 3/487*p11y - 51/487*p20x + 108/487*p21x}"
      ]
     },
     "execution_count": 17,
     "metadata": {},
     "output_type": "execute_result"
    }
   ],
   "source": [
    "mutate_dict"
   ]
  },
  {
   "cell_type": "code",
   "execution_count": 18,
   "metadata": {},
   "outputs": [],
   "source": [
    "Afuncs = [func(**mutate_dict) for func in bif_funcs]"
   ]
  },
  {
   "cell_type": "code",
   "execution_count": 19,
   "metadata": {},
   "outputs": [],
   "source": [
    "#lprint(Afuncs) "
   ]
  },
  {
   "cell_type": "code",
   "execution_count": 20,
   "metadata": {},
   "outputs": [
    {
     "data": {
      "text/markdown": [
       "$ \\left(\\begin{array}{rrrrrr}\n",
       "0 & 5 & -1 & 0 & 0 & -2 \\\\\n",
       "0 & -1 & 3 & 0 & -2 & 0 \\\\\n",
       "0 & 0 & 0 & 5 & -1 & -1 \\\\\n",
       "0 & 0 & -2 & -1 & 3 & 1 \\\\\n",
       "0 & 0 & 0 & -2 & 0 & 0 \\\\\n",
       "0 & -2 & 0 & -1 & 1 & \\frac{7}{6}\n",
       "\\end{array}\\right) $"
      ],
      "text/plain": [
       "<IPython.core.display.Markdown object>"
      ]
     },
     "metadata": {},
     "output_type": "display_data"
    }
   ],
   "source": [
    "Ja = jacobian(Afuncs,tuple(var_dict.values()))(**{var : 0 for var in var_dict.keys()}).apply_map(lambda x: x.full_simplify())\n",
    "lprint(Ja)"
   ]
  },
  {
   "cell_type": "code",
   "execution_count": 21,
   "metadata": {},
   "outputs": [
    {
     "data": {
      "text/markdown": [
       "$ \\left[\\left(1,\\,0,\\,0,\\,0,\\,0,\\,0\\right)\\right] $"
      ],
      "text/plain": [
       "<IPython.core.display.Markdown object>"
      ]
     },
     "metadata": {},
     "output_type": "display_data"
    }
   ],
   "source": [
    "Ka = Ja(l=0).right_kernel().basis()\n",
    "lprint(Ka)"
   ]
  },
  {
   "cell_type": "markdown",
   "metadata": {},
   "source": [
    "### Orthogonalising the image"
   ]
  },
  {
   "cell_type": "code",
   "execution_count": 22,
   "metadata": {},
   "outputs": [
    {
     "name": "stdout",
     "output_type": "stream",
     "text": [
      "5\n"
     ]
    }
   ],
   "source": [
    "I = Ja.image().basis()\n",
    "I = [Ja*vec for vec in I]\n",
    "print(len(I))"
   ]
  },
  {
   "cell_type": "code",
   "execution_count": 91,
   "metadata": {},
   "outputs": [
    {
     "data": {
      "text/markdown": [
       "$ \\left[\\left(1,\\,-\\frac{7}{13},\\,-\\frac{1}{13},\\,-\\frac{17}{13},\\,-\\frac{12}{13},\\,\\frac{36}{13}\\right)\\right] $"
      ],
      "text/plain": [
       "<IPython.core.display.Markdown object>"
      ]
     },
     "metadata": {},
     "output_type": "display_data"
    }
   ],
   "source": [
    "Iperp = matrix(I).right_kernel().basis()\n",
    "lprint(Iperp)"
   ]
  },
  {
   "cell_type": "code",
   "execution_count": 24,
   "metadata": {},
   "outputs": [
    {
     "data": {
      "text/markdown": [
       "$ \\left(\\begin{array}{rrrrrr}\n",
       "-\\frac{35}{1948} & \\frac{301}{974} & -\\frac{39}{974} & \\frac{875}{1948} & -\\frac{639}{974} & \\frac{169}{1948} \\\\\n",
       "-\\frac{131}{1948} & \\frac{737}{974} & \\frac{21}{974} & \\frac{1327}{1948} & -\\frac{555}{974} & -\\frac{91}{1948} \\\\\n",
       "-\\frac{1271}{1948} & \\frac{157}{487} & \\frac{3}{974} & \\frac{1581}{1948} & -\\frac{1749}{974} & -\\frac{13}{1948} \\\\\n",
       "-\\frac{179}{1948} & \\frac{234}{487} & \\frac{51}{974} & \\frac{1553}{1948} & -\\frac{513}{974} & -\\frac{221}{1948} \\\\\n",
       "-\\frac{1295}{974} & \\frac{359}{974} & -\\frac{451}{974} & \\frac{1207}{974} & -\\frac{1728}{487} & -\\frac{39}{487} \\\\\n",
       "-\\frac{249}{487} & \\frac{192}{487} & -\\frac{54}{487} & \\frac{381}{487} & -\\frac{660}{487} & \\frac{117}{487}\n",
       "\\end{array}\\right) $"
      ],
      "text/plain": [
       "<IPython.core.display.Markdown object>"
      ]
     },
     "metadata": {},
     "output_type": "display_data"
    }
   ],
   "source": [
    "B = matrix(I + Iperp).inverse().apply_map(lambda x: x.full_simplify())\n",
    "lprint(B)"
   ]
  },
  {
   "cell_type": "code",
   "execution_count": 25,
   "metadata": {},
   "outputs": [],
   "source": [
    "tfuncs = vector(Afuncs)*B"
   ]
  },
  {
   "cell_type": "code",
   "execution_count": 26,
   "metadata": {},
   "outputs": [],
   "source": [
    "#lprint(tfuncs)"
   ]
  },
  {
   "cell_type": "code",
   "execution_count": 27,
   "metadata": {},
   "outputs": [],
   "source": [
    "Jt = jacobian(tfuncs,tuple(var_dict.values()))(**{var : 0 for var in var_dict.keys()}).apply_map(lambda x: x.full_simplify())"
   ]
  },
  {
   "cell_type": "code",
   "execution_count": 28,
   "metadata": {},
   "outputs": [
    {
     "data": {
      "text/plain": [
       "dict_values([p10x, p10y, p11x, p11y, p20x, p21x])"
      ]
     },
     "execution_count": 28,
     "metadata": {},
     "output_type": "execute_result"
    }
   ],
   "source": [
    "var_dict.values()"
   ]
  },
  {
   "cell_type": "code",
   "execution_count": 29,
   "metadata": {},
   "outputs": [
    {
     "data": {
      "text/markdown": [
       "$ \\left(\\begin{array}{rrrrrr}\n",
       "0 & 1 & 0 & 0 & 0 & 0 \\\\\n",
       "0 & 0 & 1 & 0 & 0 & 0 \\\\\n",
       "0 & 0 & 0 & 1 & 0 & 0 \\\\\n",
       "0 & 0 & 0 & 0 & 1 & 0 \\\\\n",
       "0 & 0 & 0 & 0 & 0 & 1 \\\\\n",
       "0 & 0 & 0 & 0 & 0 & 0\n",
       "\\end{array}\\right) $"
      ],
      "text/plain": [
       "<IPython.core.display.Markdown object>"
      ]
     },
     "metadata": {},
     "output_type": "display_data"
    }
   ],
   "source": [
    "lprint(Jt)"
   ]
  },
  {
   "cell_type": "code",
   "execution_count": 30,
   "metadata": {},
   "outputs": [
    {
     "data": {
      "text/markdown": [
       "$ \\left[\\left(1,\\,0,\\,0,\\,0,\\,0,\\,0\\right), \\left(0,\\,1,\\,0,\\,0,\\,0,\\,0\\right), \\left(0,\\,0,\\,1,\\,0,\\,0,\\,0\\right), \\left(0,\\,0,\\,0,\\,1,\\,0,\\,0\\right), \\left(0,\\,0,\\,0,\\,0,\\,1,\\,0\\right)\\right] $"
      ],
      "text/plain": [
       "<IPython.core.display.Markdown object>"
      ]
     },
     "metadata": {},
     "output_type": "display_data"
    }
   ],
   "source": [
    "It = Jt.image().basis()\n",
    "It = [Jt*vec for vec in It]\n",
    "lprint(It)"
   ]
  },
  {
   "cell_type": "markdown",
   "metadata": {},
   "source": [
    "## Adding lambda back in"
   ]
  },
  {
   "cell_type": "code",
   "execution_count": 31,
   "metadata": {},
   "outputs": [],
   "source": [
    "tfuncs = vector([func(**mutate_dict)(l = l + 11/6) for func in funcs])*B # now lambda is not fixed at the bifurcation point\n",
    "# but we do shift so that l=0 is the new bifurcation\n",
    "var_dict['l'] = l"
   ]
  },
  {
   "cell_type": "code",
   "execution_count": 32,
   "metadata": {},
   "outputs": [
    {
     "data": {
      "text/plain": [
       "{'p10x': p10x,\n",
       " 'p10y': p10y,\n",
       " 'p11x': p11x,\n",
       " 'p11y': p11y,\n",
       " 'p20x': p20x,\n",
       " 'p21x': p21x,\n",
       " 'l': l}"
      ]
     },
     "execution_count": 32,
     "metadata": {},
     "output_type": "execute_result"
    }
   ],
   "source": [
    "var_dict_old = var_dict\n",
    "var_dict_old"
   ]
  },
  {
   "cell_type": "code",
   "execution_count": 33,
   "metadata": {},
   "outputs": [
    {
     "data": {
      "text/plain": [
       "dict_values([p10x, p10y, p11x, p11y, p20x, p21x, l])"
      ]
     },
     "execution_count": 33,
     "metadata": {},
     "output_type": "execute_result"
    }
   ],
   "source": [
    "var_dict.values()"
   ]
  },
  {
   "cell_type": "markdown",
   "metadata": {},
   "source": [
    "## Running the implicit function theorem"
   ]
  },
  {
   "cell_type": "code",
   "execution_count": 34,
   "metadata": {},
   "outputs": [
    {
     "data": {
      "text/plain": [
       "{'p10x': 0, 'p10y': 0, 'p11x': 0, 'p11y': 0, 'p20x': 0, 'p21x': 0, 'l': 0}"
      ]
     },
     "execution_count": 34,
     "metadata": {},
     "output_type": "execute_result"
    }
   ],
   "source": [
    "position = {key : 0 for key in var_dict_old.keys()}\n",
    "position"
   ]
  },
  {
   "cell_type": "code",
   "execution_count": 35,
   "metadata": {},
   "outputs": [],
   "source": [
    "#code_funcs = [tfuncs[index].function(*list(var_dict_old.values())) for index in [0,1,2,3,4,5,6]] # careful with computer science indexing from zero\n",
    "code_funcs = [tfuncs[index] for index in [0,1,2,3,4]] # the last function has degenerate first derivative always\n",
    "position = {key : 0 for key in var_dict_old.keys()}\n",
    "# var_dict already loaded\n",
    "var_dict = {'y1' : p10y, 'y2' : p11x, 'y3' : p11y, 'y4' : p20x, 'y5' : p21x, 'x1' : l, 'x2' : p10x}\n",
    "x_var_keys = ['l', 'p10x'] # the variables in the kernel\n",
    "x_dim = 2\n",
    "y_dim = 5 # invertible part"
   ]
  },
  {
   "cell_type": "code",
   "execution_count": 36,
   "metadata": {},
   "outputs": [
    {
     "data": {
      "text/plain": [
       "dict_keys(['y1', 'y2', 'y3', 'y4', 'y5', 'x1', 'x2'])"
      ]
     },
     "execution_count": 36,
     "metadata": {},
     "output_type": "execute_result"
    }
   ],
   "source": [
    "var_dict.keys()"
   ]
  },
  {
   "cell_type": "code",
   "execution_count": 37,
   "metadata": {},
   "outputs": [
    {
     "name": "stdout",
     "output_type": "stream",
     "text": [
      "computing Taylor approximaton to 3 order for speedup\n"
     ]
    }
   ],
   "source": [
    "t_dict = TensorDict(code_funcs, position, var_dict, x_dim, y_dim)"
   ]
  },
  {
   "cell_type": "code",
   "execution_count": 38,
   "metadata": {},
   "outputs": [
    {
     "name": "stderr",
     "output_type": "stream",
     "text": [
      "100%|██████████| 1/1 [00:00<00:00, 2866.92it/s]\n",
      "100%|██████████| 1/1 [00:00<00:00,  1.39it/s]\n"
     ]
    },
    {
     "name": "stdout",
     "output_type": "stream",
     "text": [
      "[1 0 0 0 0]\n",
      "[0 1 0 0 0]\n",
      "[0 0 1 0 0]\n",
      "[0 0 0 1 0]\n",
      "[0 0 0 0 1]\n"
     ]
    },
    {
     "name": "stderr",
     "output_type": "stream",
     "text": [
      "100%|██████████| 2/2 [00:00<00:00, 4192.21it/s]\n",
      "100%|██████████| 4/4 [00:15<00:00,  3.76s/it]\n"
     ]
    },
    {
     "name": "stdout",
     "output_type": "stream",
     "text": [
      "[1 0 0 0 0]\n",
      "[0 1 0 0 0]\n",
      "[0 0 1 0 0]\n",
      "[0 0 0 1 0]\n",
      "[0 0 0 0 1]\n"
     ]
    },
    {
     "name": "stderr",
     "output_type": "stream",
     "text": [
      "100%|██████████| 3/3 [00:00<00:00, 1507.12it/s]\n",
      "100%|██████████| 14/14 [01:44<00:00,  7.47s/it]\n"
     ]
    },
    {
     "name": "stdout",
     "output_type": "stream",
     "text": [
      "[1 0 0 0 0]\n",
      "[0 1 0 0 0]\n",
      "[0 0 1 0 0]\n",
      "[0 0 0 1 0]\n",
      "[0 0 0 0 1]\n"
     ]
    }
   ],
   "source": [
    "out = get_hkx_polynomial(code_funcs, 3, x_dim, y_dim, var_dict, x_var_keys, t_dict, position)"
   ]
  },
  {
   "cell_type": "code",
   "execution_count": 39,
   "metadata": {},
   "outputs": [
    {
     "data": {
      "text/markdown": [
       "$ \\left[\\frac{1862565120}{56249134561} \\, {\\lambda}^{2} \\mathit{p10x} - \\frac{17346425759091}{219146628249656} \\, {\\lambda} \\mathit{p10x}^{2} - \\frac{14618050990631439}{853795263660659776} \\, \\mathit{p10x}^{3} - \\frac{7761}{474338} \\, {\\lambda} \\mathit{p10x} + \\frac{72142889}{3696041696} \\, \\mathit{p10x}^{2}, \\frac{238153032}{56249134561} \\, {\\lambda}^{2} \\mathit{p10x} + \\frac{861229437237}{219146628249656} \\, {\\lambda} \\mathit{p10x}^{2} - \\frac{1722560570301233}{426897631830329888} \\, \\mathit{p10x}^{3} + \\frac{30927}{474338} \\, {\\lambda} \\mathit{p10x} - \\frac{21736273}{3696041696} \\, \\mathit{p10x}^{2}, \\frac{849398472}{56249134561} \\, {\\lambda}^{2} \\mathit{p10x} - \\frac{5145339199689}{219146628249656} \\, {\\lambda} \\mathit{p10x}^{2} - \\frac{8210817073476069}{853795263660659776} \\, \\mathit{p10x}^{3} + \\frac{4953}{474338} \\, {\\lambda} \\mathit{p10x} + \\frac{40662583}{3696041696} \\, \\mathit{p10x}^{2}, -\\frac{822298464}{56249134561} \\, {\\lambda}^{2} \\mathit{p10x} + \\frac{15796955492487}{219146628249656} \\, {\\lambda} \\mathit{p10x}^{2} + \\frac{3581788524456935}{426897631830329888} \\, \\mathit{p10x}^{3} + \\frac{42081}{474338} \\, {\\lambda} \\mathit{p10x} - \\frac{112245575}{3696041696} \\, \\mathit{p10x}^{2}, \\frac{4998363552}{56249134561} \\, {\\lambda}^{2} \\mathit{p10x} - \\frac{5438284088679}{27393328531207} \\, {\\lambda} \\mathit{p10x}^{2} - \\frac{4834400363378001}{106724407957582472} \\, \\mathit{p10x}^{3} - \\frac{9828}{237169} \\, {\\lambda} \\mathit{p10x} + \\frac{19446999}{462005212} \\, \\mathit{p10x}^{2}\\right] $"
      ],
      "text/plain": [
       "<IPython.core.display.Markdown object>"
      ]
     },
     "metadata": {},
     "output_type": "display_data"
    }
   ],
   "source": [
    "lprint(out)"
   ]
  },
  {
   "cell_type": "markdown",
   "metadata": {},
   "source": [
    "## Testing the implicit function theorem"
   ]
  },
  {
   "cell_type": "code",
   "execution_count": 40,
   "metadata": {},
   "outputs": [],
   "source": [
    "subbed = [func(p10y = out[0], p11x = out[1], p11y = out[2], p20x = out[3], p21x = out[4]) for func in tfuncs]"
   ]
  },
  {
   "cell_type": "code",
   "execution_count": 41,
   "metadata": {},
   "outputs": [
    {
     "data": {
      "text/plain": [
       "[-2.478087648367228e-05,\n",
       " 3.075029642342353e-06,\n",
       " -5.787273457645353e-06,\n",
       " 2.9851252631746695e-05,\n",
       " -5.8006366546048274e-05,\n",
       " -0.000536909038703223]"
      ]
     },
     "execution_count": 41,
     "metadata": {},
     "output_type": "execute_result"
    }
   ],
   "source": [
    "[float(func(l = 0.1, p10x = 0.1)) for func in subbed]"
   ]
  },
  {
   "cell_type": "markdown",
   "metadata": {},
   "source": [
    "the last function remains to be solved"
   ]
  },
  {
   "cell_type": "markdown",
   "metadata": {},
   "source": [
    "### Looking for more solutions"
   ]
  },
  {
   "cell_type": "markdown",
   "metadata": {},
   "source": [
    "Now substitute this into the equation that had degenerate image"
   ]
  },
  {
   "cell_type": "code",
   "execution_count": 42,
   "metadata": {},
   "outputs": [
    {
     "name": "stdout",
     "output_type": "stream",
     "text": [
      "[(p10x, 0), (p10y, 0), (p11x, 0), (p11y, 0), (p20x, 0), (p21x, 0), (l, 0), 3]\n"
     ]
    }
   ],
   "source": [
    "loc = [(value,0) for value in var_dict_old.values() ] + [3]\n",
    "print(loc)"
   ]
  },
  {
   "cell_type": "code",
   "execution_count": 43,
   "metadata": {},
   "outputs": [],
   "source": [
    "#lprint(taylor(tfuncs[5], *loc))"
   ]
  },
  {
   "cell_type": "code",
   "execution_count": 44,
   "metadata": {},
   "outputs": [],
   "source": [
    "tf_taylor = tfuncs[5].taylor(*[(key,value) for key,value in position.items()],3)\n",
    "#lprint(tf_taylor.polynomial(SR))"
   ]
  },
  {
   "cell_type": "code",
   "execution_count": 45,
   "metadata": {},
   "outputs": [],
   "source": [
    "#var_dict_old"
   ]
  },
  {
   "cell_type": "code",
   "execution_count": 46,
   "metadata": {},
   "outputs": [],
   "source": [
    "tf_sub = tf_taylor(p10y = out[0], p11x = out[1], p11y = out[2], p20x = out[3], p21x = out[4])"
   ]
  },
  {
   "cell_type": "code",
   "execution_count": 98,
   "metadata": {},
   "outputs": [
    {
     "data": {
      "text/markdown": [
       "$ -\\frac{15210}{237169} \\, {\\lambda} \\mathit{p10x} + \\frac{9141717}{924010424} \\, \\mathit{p10x}^{2} $"
      ],
      "text/plain": [
       "<IPython.core.display.Markdown object>"
      ]
     },
     "metadata": {},
     "output_type": "display_data"
    }
   ],
   "source": [
    "local = symbolic_expression(sum([a[0]*a[1] for a in tf_sub.polynomial(SR) if a[1].degree() <= 2]))\n",
    "#local = tf_sub.polynomial(SR).truncate(4)\n",
    "lprint(local)"
   ]
  },
  {
   "cell_type": "markdown",
   "metadata": {},
   "source": [
    "We see that this will have solutions, therefore the point $\\lambda$ is indeed a bifurcation point, and if we fix the $p10x$ variable at zero then $\\lambda$ will span the local solutions."
   ]
  },
  {
   "cell_type": "code",
   "execution_count": 99,
   "metadata": {},
   "outputs": [
    {
     "data": {
      "text/markdown": [
       "$ \\left[\\mathit{p10x} = \\frac{116880}{18031} \\, {\\lambda}, \\mathit{p10x} = 0\\right] $"
      ],
      "text/plain": [
       "<IPython.core.display.Markdown object>"
      ]
     },
     "metadata": {},
     "output_type": "display_data"
    }
   ],
   "source": [
    "lprint(solve(local, p10x))"
   ]
  },
  {
   "cell_type": "code",
   "execution_count": 100,
   "metadata": {},
   "outputs": [
    {
     "data": {
      "image/png": "[encoded data removed]",
      "text/plain": [
       "Graphics object consisting of 1 graphics primitive"
      ]
     },
     "execution_count": 100,
     "metadata": {},
     "output_type": "execute_result"
    }
   ],
   "source": [
    "implicit_plot(local, (-1,5), (-5,5))"
   ]
  },
  {
   "cell_type": "markdown",
   "metadata": {},
   "source": [
    "seems to be a new strand of solutions, the looping back behaviour is likely a quirk of the choice of 3rd degree restriction"
   ]
  },
  {
   "cell_type": "markdown",
   "metadata": {},
   "source": [
    "### Generating more solutions"
   ]
  },
  {
   "cell_type": "markdown",
   "metadata": {},
   "source": [
    "We have solved $f \\circ A$ where $A$ orthogonalised the kernel, thus by applying $A$ we can get a traversel of the new solutions."
   ]
  },
  {
   "cell_type": "code",
   "execution_count": 147,
   "metadata": {},
   "outputs": [],
   "source": [
    "eps = 0.01"
   ]
  },
  {
   "cell_type": "code",
   "execution_count": 148,
   "metadata": {},
   "outputs": [],
   "source": [
    "strand = solve(local, p10x)[0].rhs()\n",
    "\n",
    "out2 = [exp(p10x = strand) for exp in out]\n",
    "sols = [strand] + out2\n",
    "#[sol(l = 0.01) for sol in sols]\n",
    "\n",
    "#sols = [0.1] + [exp(p10x = 0.1, l = 0.1) for exp in out]\n",
    "#[sol(l = 0.001) for sol in sols]\n",
    "#lprint(sols)"
   ]
  },
  {
   "cell_type": "code",
   "execution_count": 149,
   "metadata": {},
   "outputs": [
    {
     "data": {
      "text/plain": [
       "116880/18031*l"
      ]
     },
     "execution_count": 149,
     "metadata": {},
     "output_type": "execute_result"
    }
   ],
   "source": [
    "strand"
   ]
  },
  {
   "cell_type": "code",
   "execution_count": 150,
   "metadata": {},
   "outputs": [
    {
     "data": {
      "text/plain": [
       "0.0648216959680550"
      ]
     },
     "execution_count": 150,
     "metadata": {},
     "output_type": "execute_result"
    }
   ],
   "source": [
    "strand(l = eps) # the big scaling means we need to choose a very small lambda"
   ]
  },
  {
   "cell_type": "code",
   "execution_count": 151,
   "metadata": {},
   "outputs": [
    {
     "data": {
      "text/plain": [
       "[-4.688088363526545e-07,\n",
       " -7.820094548591575e-07,\n",
       " -4.07472064792541e-07,\n",
       " -1.026162221428456e-08,\n",
       " -5.740146634006325e-07,\n",
       " 2.6668599663525958e-06]"
      ]
     },
     "execution_count": 151,
     "metadata": {},
     "output_type": "execute_result"
    }
   ],
   "source": [
    "#subbed = [func(p10y = out[0], p11x = out[1], p11y = out[2], p20x = out[3], p21x = out[4]) for func in tfuncs]\n",
    "\n",
    "subbed = [func(p10x = sols[0], p10y = sols[1], p11x = sols[2], p11y = sols[3], p20x = sols[4], p21x = sols[5]) for func in tfuncs]\n",
    "[float(func(l = eps)) for func in subbed]"
   ]
  },
  {
   "cell_type": "code",
   "execution_count": 152,
   "metadata": {},
   "outputs": [],
   "source": [
    "#lprint(A*vector(sols))"
   ]
  },
  {
   "cell_type": "code",
   "execution_count": 153,
   "metadata": {},
   "outputs": [
    {
     "data": {
      "text/plain": [
       "[0.00564430137578377,\n",
       " -0.00298832752749882,\n",
       " -0.000379794066442600,\n",
       " -0.00736267478843593,\n",
       " 0.0155840544804703,\n",
       " -0.00515138418668753]"
      ]
     },
     "execution_count": 153,
     "metadata": {},
     "output_type": "execute_result"
    }
   ],
   "source": [
    "fsols = list(A*vector(sols)(l = eps))\n",
    "fsols"
   ]
  },
  {
   "cell_type": "code",
   "execution_count": 154,
   "metadata": {},
   "outputs": [],
   "source": [
    "#fsols = [random.random()/1000 for i in range(0,6)] # can check these are giving solutions"
   ]
  },
  {
   "cell_type": "code",
   "execution_count": 155,
   "metadata": {},
   "outputs": [
    {
     "data": {
      "text/plain": [
       "{'p10x': 0.00564430137578377,\n",
       " 'p10y': -0.00298832752749882,\n",
       " 'p11x': -0.000379794066442600,\n",
       " 'p11y': -0.00736267478843593,\n",
       " 'p20x': 0.0155840544804703,\n",
       " 'p21x': -0.00515138418668753,\n",
       " 'l': 0.0100000000000000}"
      ]
     },
     "execution_count": 155,
     "metadata": {},
     "output_type": "execute_result"
    }
   ],
   "source": [
    "coords = { list(var_dict_old.keys())[i] : fsols[i] for i in [0,1,2,3,4,5] }\n",
    "coords['l'] = eps\n",
    "coords"
   ]
  },
  {
   "cell_type": "code",
   "execution_count": 156,
   "metadata": {},
   "outputs": [
    {
     "data": {
      "text/plain": [
       "0.708041155045321*sqrt(2)*(1.42031899446779*sqrt(2) - 2) - 0.00864354153019233"
      ]
     },
     "execution_count": 156,
     "metadata": {},
     "output_type": "execute_result"
    }
   ],
   "source": [
    "funcs[0].function(*list(var_dict_old.values()))(**coords)"
   ]
  },
  {
   "cell_type": "code",
   "execution_count": 157,
   "metadata": {},
   "outputs": [],
   "source": [
    "sym_funcs = [func.function(*list(var_dict_old.values())) for func in funcs] # convert to symbolic functions"
   ]
  },
  {
   "cell_type": "code",
   "execution_count": 158,
   "metadata": {},
   "outputs": [
    {
     "data": {
      "text/plain": [
       "[2.252854566757098e-06,\n",
       " -3.2926978045834387e-06,\n",
       " -1.6582271128683101e-06,\n",
       " -2.120740818813832e-06,\n",
       " -0.00944585111502315,\n",
       " 0.028578816842546872]"
      ]
     },
     "execution_count": 158,
     "metadata": {},
     "output_type": "execute_result"
    }
   ],
   "source": [
    "[float(func(**coords)) for func in sym_funcs]"
   ]
  },
  {
   "cell_type": "code",
   "execution_count": 137,
   "metadata": {},
   "outputs": [
    {
     "data": {
      "text/markdown": [
       "$ \\left(\\begin{array}{rrrrrr}\n",
       "\\frac{169}{1948} & \\frac{1779}{1948} & \\frac{91}{1948} & \\frac{13}{1948} & \\frac{221}{1948} & -\\frac{117}{487} \\\\\n",
       "-\\frac{91}{1948} & \\frac{91}{1948} & \\frac{1899}{1948} & -\\frac{7}{1948} & -\\frac{119}{1948} & \\frac{63}{487} \\\\\n",
       "-\\frac{13}{1948} & \\frac{13}{1948} & -\\frac{7}{1948} & \\frac{1947}{1948} & -\\frac{17}{1948} & \\frac{9}{487} \\\\\n",
       "-\\frac{221}{1948} & \\frac{221}{1948} & -\\frac{119}{1948} & -\\frac{17}{1948} & \\frac{1659}{1948} & \\frac{153}{487} \\\\\n",
       "\\frac{117}{487} & -\\frac{117}{487} & \\frac{63}{487} & \\frac{9}{487} & \\frac{153}{487} & \\frac{163}{487} \\\\\n",
       "-\\frac{39}{487} & \\frac{39}{487} & -\\frac{21}{487} & -\\frac{3}{487} & -\\frac{51}{487} & \\frac{108}{487}\n",
       "\\end{array}\\right) $"
      ],
      "text/plain": [
       "<IPython.core.display.Markdown object>"
      ]
     },
     "metadata": {},
     "output_type": "display_data"
    }
   ],
   "source": [
    "lprint(A)"
   ]
  },
  {
   "cell_type": "code",
   "execution_count": 63,
   "metadata": {},
   "outputs": [
    {
     "data": {
      "text/markdown": [
       "$ \\left( \\mathit{p10x}, \\mathit{p10y}, \\mathit{p11x}, \\mathit{p11y}, \\mathit{p20x}, \\mathit{p21x}, {\\lambda} \\right) \\ {\\mapsto} \\ \\frac{\\sqrt{2} {\\left(\\sqrt{2} \\sqrt{{\\left(\\mathit{p10x} + 1\\right)}^{2} + {\\left(\\mathit{p10y} - 1\\right)}^{2}} - 2\\right)} {\\left(\\mathit{p10x} + 1\\right)}}{\\sqrt{{\\left(\\mathit{p10x} + 1\\right)}^{2} + {\\left(\\mathit{p10y} - 1\\right)}^{2}}} + \\frac{2 \\, {\\left(\\mathit{p10x} - \\mathit{p11x}\\right)} {\\left(\\sqrt{{\\left(\\mathit{p10x} - \\mathit{p11x}\\right)}^{2} + {\\left(\\mathit{p10y} - \\mathit{p11y} - 1\\right)}^{2}} - 1\\right)}}{\\sqrt{{\\left(\\mathit{p10x} - \\mathit{p11x}\\right)}^{2} + {\\left(\\mathit{p10y} - \\mathit{p11y} - 1\\right)}^{2}}} + \\frac{2 \\, {\\left(\\mathit{p10x} - \\mathit{p20x} - 1\\right)} {\\left(\\sqrt{{\\left(\\mathit{p10x} - \\mathit{p20x} - 1\\right)}^{2} + \\mathit{p10y}^{2}} - 1\\right)}}{\\sqrt{{\\left(\\mathit{p10x} - \\mathit{p20x} - 1\\right)}^{2} + \\mathit{p10y}^{2}}} + \\frac{2 \\, {\\left(\\mathit{p10x} + 1\\right)} {\\left(\\sqrt{{\\left(\\mathit{p10x} + 1\\right)}^{2} + \\mathit{p10y}^{2}} - 1\\right)}}{\\sqrt{{\\left(\\mathit{p10x} + 1\\right)}^{2} + \\mathit{p10y}^{2}}} $"
      ],
      "text/plain": [
       "<IPython.core.display.Markdown object>"
      ]
     },
     "metadata": {},
     "output_type": "display_data"
    }
   ],
   "source": [
    "lprint(sym_funcs[0])"
   ]
  },
  {
   "cell_type": "code",
   "execution_count": 64,
   "metadata": {},
   "outputs": [
    {
     "data": {
      "text/plain": [
       "{'p10x': 169/1948*p10x + 1779/1948*p10y + 91/1948*p11x + 13/1948*p11y + 221/1948*p20x - 117/487*p21x,\n",
       " 'p10y': -91/1948*p10x + 91/1948*p10y + 1899/1948*p11x - 7/1948*p11y - 119/1948*p20x + 63/487*p21x,\n",
       " 'p11x': -13/1948*p10x + 13/1948*p10y - 7/1948*p11x + 1947/1948*p11y - 17/1948*p20x + 9/487*p21x,\n",
       " 'p11y': -221/1948*p10x + 221/1948*p10y - 119/1948*p11x - 17/1948*p11y + 1659/1948*p20x + 153/487*p21x,\n",
       " 'p20x': 117/487*p10x - 117/487*p10y + 63/487*p11x + 9/487*p11y + 153/487*p20x + 163/487*p21x,\n",
       " 'p21x': -39/487*p10x + 39/487*p10y - 21/487*p11x - 3/487*p11y - 51/487*p20x + 108/487*p21x}"
      ]
     },
     "execution_count": 64,
     "metadata": {},
     "output_type": "execute_result"
    }
   ],
   "source": [
    "mutate_dict"
   ]
  },
  {
   "cell_type": "code",
   "execution_count": 65,
   "metadata": {},
   "outputs": [
    {
     "data": {
      "text/markdown": [
       "$ \\left( \\mathit{p10x}, \\mathit{p10y}, \\mathit{p11x}, \\mathit{p11y}, \\mathit{p20x}, \\mathit{p21x}, {\\lambda} \\right) \\ {\\mapsto} \\ -{\\lambda} \\mathit{p21x} - \\frac{2 \\, {\\left(\\mathit{p11x} - \\mathit{p21x} - 1\\right)} {\\left(\\sqrt{{\\left(\\mathit{p11x} - \\mathit{p21x} - 1\\right)}^{2} + \\mathit{p11y}^{2}} - 1\\right)}}{\\sqrt{{\\left(\\mathit{p11x} - \\mathit{p21x} - 1\\right)}^{2} + \\mathit{p11y}^{2}}} - \\frac{2 \\, {\\left(\\mathit{p20x} - \\mathit{p21x}\\right)} {\\left(\\sqrt{{\\left(\\mathit{p20x} - \\mathit{p21x}\\right)}^{2} + 1} - 1\\right)}}{\\sqrt{{\\left(\\mathit{p20x} - \\mathit{p21x}\\right)}^{2} + 1}} $"
      ],
      "text/plain": [
       "<IPython.core.display.Markdown object>"
      ]
     },
     "metadata": {},
     "output_type": "display_data"
    }
   ],
   "source": [
    "lprint(sym_funcs[4])"
   ]
  },
  {
   "cell_type": "code",
   "execution_count": null,
   "metadata": {},
   "outputs": [],
   "source": []
  },
  {
   "cell_type": "code",
   "execution_count": null,
   "metadata": {},
   "outputs": [],
   "source": []
  },
  {
   "cell_type": "code",
   "execution_count": null,
   "metadata": {},
   "outputs": [],
   "source": []
  }
 ],
 "metadata": {
  "kernelspec": {
   "display_name": "SageMath 9.2",
   "language": "sage",
   "name": "sagemath"
  },
  "language_info": {
   "codemirror_mode": {
    "name": "ipython",
    "version": 3
   },
   "file_extension": ".py",
   "mimetype": "text/x-python",
   "name": "python",
   "nbconvert_exporter": "python",
   "pygments_lexer": "ipython3",
   "version": "3.7.7"
  }
 },
 "nbformat": 4,
 "nbformat_minor": 4
}
