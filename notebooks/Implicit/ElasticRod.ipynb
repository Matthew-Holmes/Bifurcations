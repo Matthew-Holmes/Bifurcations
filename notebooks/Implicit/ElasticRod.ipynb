{
 "cells": [
  {
   "cell_type": "markdown",
   "metadata": {},
   "source": [
    "# Elastic Rod Model"
   ]
  },
  {
   "cell_type": "code",
   "execution_count": 1,
   "metadata": {},
   "outputs": [],
   "source": [
    "from IPython.display import display, Markdown\n",
    "def latexify(x):\n",
    "    out = '$' + x + '$'\n",
    "    return out\n",
    "\n",
    "def lprint(x):\n",
    "    display(Markdown(latexify(latex(x))))\n",
    "    \n",
    "%run -i 'implicit.py'"
   ]
  },
  {
   "cell_type": "markdown",
   "metadata": {},
   "source": [
    "In this notebook a discretisation of the elastic rod bifurcation problem will be investigated"
   ]
  },
  {
   "cell_type": "markdown",
   "metadata": {},
   "source": [
    "https://pubs.rsc.org/en/content/chapterhtml/2015/bk9781849738132-00001?isbn=978-1-84973-813-2&sercode=bk\n",
    "\n",
    "derives a system of equations that correspond to a period truss network model for an elastic rod."
   ]
  },
  {
   "cell_type": "code",
   "execution_count": null,
   "metadata": {},
   "outputs": [],
   "source": []
  },
  {
   "cell_type": "code",
   "execution_count": 2,
   "metadata": {},
   "outputs": [],
   "source": [
    "def get_funcs(n, k = 1, b = 1):\n",
    "    # returns a set of equations to solve\n",
    "    var_dict = {}\n",
    "    for i in range(0,n+1):\n",
    "        # create a grid\n",
    "        # Pij is the displacement from the point (i,j) on the grid\n",
    "        # then split into x,y position of where that point goes\n",
    "        var_dict['p{}0x'.format(i)] = var('p{}0x'.format(i))\n",
    "        var_dict['p{}0y'.format(i)] = var('p{}0y'.format(i))\n",
    "        var_dict['p{}1x'.format(i)] = var('p{}1x'.format(i))\n",
    "        var_dict['p{}1y'.format(i)] = var('p{}1y'.format(i))\n",
    "        \n",
    "    # enforce fixed points at either end of the truss network\n",
    "    var_dict['p00x'] = 0\n",
    "    var_dict['p00y'] = 0\n",
    "    var_dict['p01x'] = 0\n",
    "    var_dict['p01y'] = 0 # really 1\n",
    "    \n",
    "    #var_dict['p{}0x'.format(n)] = 0 # really n\n",
    "    #var_dict['p{}0y'.format(n)] = 0\n",
    "    #var_dict['p{}1x'.format(n)] = 0 # really n\n",
    "    #var_dict['p{}1y'.format(n)] = 0 # really 1\n",
    "    \n",
    "    var_dict['l'] = var('l', latex_name=r'\\lambda') # lamdba force variable\n",
    "    \n",
    "    # so after constraints at endpoints we have 4(n-1) uknowns\n",
    "    \n",
    "    b = 1\n",
    "    k = 1\n",
    "    \n",
    "    funcs = []\n",
    "    e_truss = 0\n",
    "    for j in range(1,n+1):\n",
    "        # iterate through each square in the truss\n",
    "        # some values are used to generate the equations\n",
    "            \n",
    "        # xy displacements of the derived values\n",
    "        ux = (var_dict['p{}0x'.format(j)] + var_dict['p{}1x'.format(j)])/2 - (var_dict['p{}0x'.format(j-1)] + var_dict['p{}1x'.format(j-1)])/2\n",
    "        uy = (var_dict['p{}0y'.format(j)] + var_dict['p{}1y'.format(j)])/2 - (var_dict['p{}0y'.format(j-1)] + var_dict['p{}1y'.format(j-1)])/2 \n",
    "               \n",
    "                      \n",
    "        vx = (var_dict['p{}1x'.format(j-1)] + var_dict['p{}1x'.format(j)])/2 - (var_dict['p{}0x'.format(j-1)] + var_dict['p{}0x'.format(j)])/2\n",
    "        vy = (var_dict['p{}1y'.format(j-1)] + var_dict['p{}1y'.format(j)])/2 - (var_dict['p{}0y'.format(j-1)] + var_dict['p{}0y'.format(j)])/2\n",
    "        \n",
    "        wx = (var_dict['p{}0x'.format(j-1)] - var_dict['p{}0x'.format(j)] - var_dict['p{}1x'.format(j-1)] + var_dict['p{}1x'.format(j)])/2\n",
    "        wy = (var_dict['p{}0y'.format(j-1)] - var_dict['p{}0y'.format(j)] - var_dict['p{}1y'.format(j-1)] + var_dict['p{}1y'.format(j)])/2\n",
    "        \n",
    "        q = 2*k*(ux*( b*(1+b)*ux + b*vy ) + vy*( b*ux + (1+b)*vy ))\n",
    "        e1 = 2*k*b*((uy + vx)^2)\n",
    "        e2 = 2*k*b*b*wx*wx\n",
    "        e3 = 2*k*wy*wy\n",
    "        \n",
    "        e_truss = e_truss + (q + e1 + e2 + e3)/2\n",
    "        \n",
    "    e_truss = e_truss - (var_dict['l'] * (var_dict['p{}1x'.format(n)] + var_dict['p{}0x'.format(n)])^2)\n",
    "    # add work done by a force lambda\n",
    "        \n",
    "    # solutions will be local minima of the energy equation\n",
    "    for j in range(1,n+1):\n",
    "        # only care about 1,...,n\n",
    "        # 0 and n are fixed points\n",
    "        funcs.append(e_truss.diff(var_dict['p{}0x'.format(j)]))\n",
    "        funcs.append(e_truss.diff(var_dict['p{}0y'.format(j)]))\n",
    "        funcs.append(e_truss.diff(var_dict['p{}1x'.format(j)]))\n",
    "        funcs.append(e_truss.diff(var_dict['p{}1y'.format(j)]))\n",
    "        \n",
    "    return funcs, var_dict\n",
    "    "
   ]
  },
  {
   "cell_type": "code",
   "execution_count": 53,
   "metadata": {},
   "outputs": [],
   "source": [
    "funcs, var_dict = get_funcs(3)"
   ]
  },
  {
   "cell_type": "code",
   "execution_count": 54,
   "metadata": {},
   "outputs": [
    {
     "data": {
      "text/markdown": [
       "$ \\left[4 \\, \\mathit{p10x} - \\mathit{p20x} - \\mathit{p21x} - \\mathit{p21y}, 4 \\, \\mathit{p10y} - 2 \\, \\mathit{p11y} - \\mathit{p21x} - \\mathit{p21y}, 4 \\, \\mathit{p11x} - \\mathit{p20x} + \\mathit{p20y} - \\mathit{p21x}, -2 \\, \\mathit{p10y} + 4 \\, \\mathit{p11y} + \\mathit{p20x} - \\mathit{p20y}, -\\mathit{p10x} - \\mathit{p11x} + \\mathit{p11y} + 4 \\, \\mathit{p20x} - \\mathit{p30x} - \\mathit{p31x} - \\mathit{p31y}, \\mathit{p11x} - \\mathit{p11y} + 4 \\, \\mathit{p20y} - 2 \\, \\mathit{p21y} - \\mathit{p31x} - \\mathit{p31y}, -\\mathit{p10x} - \\mathit{p10y} - \\mathit{p11x} + 4 \\, \\mathit{p21x} - \\mathit{p30x} + \\mathit{p30y} - \\mathit{p31x}, -\\mathit{p10x} - \\mathit{p10y} - 2 \\, \\mathit{p20y} + 4 \\, \\mathit{p21y} + \\mathit{p30x} - \\mathit{p30y}, -2 \\, {\\lambda} {\\left(\\mathit{p30x} + \\mathit{p31x}\\right)} - \\mathit{p20x} - \\mathit{p21x} + \\mathit{p21y} + 2 \\, \\mathit{p30x} - \\mathit{p30y}, \\mathit{p21x} - \\mathit{p21y} - \\mathit{p30x} + 2 \\, \\mathit{p30y} - \\mathit{p31y}, -2 \\, {\\lambda} {\\left(\\mathit{p30x} + \\mathit{p31x}\\right)} - \\mathit{p20x} - \\mathit{p20y} - \\mathit{p21x} + 2 \\, \\mathit{p31x} + \\mathit{p31y}, -\\mathit{p20x} - \\mathit{p20y} - \\mathit{p30y} + \\mathit{p31x} + 2 \\, \\mathit{p31y}\\right] $"
      ],
      "text/plain": [
       "<IPython.core.display.Markdown object>"
      ]
     },
     "metadata": {},
     "output_type": "display_data"
    }
   ],
   "source": [
    "lprint(funcs)"
   ]
  },
  {
   "cell_type": "code",
   "execution_count": 55,
   "metadata": {},
   "outputs": [
    {
     "data": {
      "text/markdown": [
       "$ \\left(\\begin{array}{rrrrrrrrrrrr}\n",
       "4 & 0 & 0 & 0 & -1 & 0 & -1 & -1 & 0 & 0 & 0 & 0 \\\\\n",
       "0 & 4 & 0 & -2 & 0 & 0 & -1 & -1 & 0 & 0 & 0 & 0 \\\\\n",
       "0 & 0 & 4 & 0 & -1 & 1 & -1 & 0 & 0 & 0 & 0 & 0 \\\\\n",
       "0 & -2 & 0 & 4 & 1 & -1 & 0 & 0 & 0 & 0 & 0 & 0 \\\\\n",
       "-1 & 0 & -1 & 1 & 4 & 0 & 0 & 0 & -1 & 0 & -1 & -1 \\\\\n",
       "0 & 0 & 1 & -1 & 0 & 4 & 0 & -2 & 0 & 0 & -1 & -1 \\\\\n",
       "-1 & -1 & -1 & 0 & 0 & 0 & 4 & 0 & -1 & 1 & -1 & 0 \\\\\n",
       "-1 & -1 & 0 & 0 & 0 & -2 & 0 & 4 & 1 & -1 & 0 & 0 \\\\\n",
       "0 & 0 & 0 & 0 & -1 & 0 & -1 & 1 & -2 \\, {\\lambda} + 2 & -1 & -2 \\, {\\lambda} & 0 \\\\\n",
       "0 & 0 & 0 & 0 & 0 & 0 & 1 & -1 & -1 & 2 & 0 & -1 \\\\\n",
       "0 & 0 & 0 & 0 & -1 & -1 & -1 & 0 & -2 \\, {\\lambda} & 0 & -2 \\, {\\lambda} + 2 & 1 \\\\\n",
       "0 & 0 & 0 & 0 & -1 & -1 & 0 & 0 & 0 & -1 & 1 & 2\n",
       "\\end{array}\\right) $"
      ],
      "text/plain": [
       "<IPython.core.display.Markdown object>"
      ]
     },
     "metadata": {},
     "output_type": "display_data"
    }
   ],
   "source": [
    "old_var = var_dict\n",
    "var_dict = {key : var_dict[key] for key in var_dict.keys() if var_dict[key] != 0}\n",
    "var_dict = {key : var_dict[key] for key in var_dict.keys() if key != 'l'}\n",
    "\n",
    "J = jacobian(funcs,tuple(var_dict.values()))(**{var : 0 for var in var_dict.keys()})\n",
    "lprint(J)"
   ]
  },
  {
   "cell_type": "code",
   "execution_count": 56,
   "metadata": {},
   "outputs": [
    {
     "data": {
      "text/markdown": [
       "$ -3748 \\, {\\lambda} + 485 $"
      ],
      "text/plain": [
       "<IPython.core.display.Markdown object>"
      ]
     },
     "metadata": {},
     "output_type": "display_data"
    }
   ],
   "source": [
    "lprint(det(J))"
   ]
  },
  {
   "cell_type": "markdown",
   "metadata": {},
   "source": [
    "Here we see that $\\lambda = \\frac{49}{248}$ will lead to degeneracy, so fix that and continue"
   ]
  },
  {
   "cell_type": "code",
   "execution_count": 57,
   "metadata": {},
   "outputs": [
    {
     "data": {
      "text/markdown": [
       "$ \\left(\\begin{array}{rrrrrrrrrrrr}\n",
       "4 & 0 & 0 & 0 & -1 & 0 & -1 & -1 & 0 & 0 & 0 & 0 \\\\\n",
       "0 & 4 & 0 & -2 & 0 & 0 & -1 & -1 & 0 & 0 & 0 & 0 \\\\\n",
       "0 & 0 & 4 & 0 & -1 & 1 & -1 & 0 & 0 & 0 & 0 & 0 \\\\\n",
       "0 & -2 & 0 & 4 & 1 & -1 & 0 & 0 & 0 & 0 & 0 & 0 \\\\\n",
       "-1 & 0 & -1 & 1 & 4 & 0 & 0 & 0 & -1 & 0 & -1 & -1 \\\\\n",
       "0 & 0 & 1 & -1 & 0 & 4 & 0 & -2 & 0 & 0 & -1 & -1 \\\\\n",
       "-1 & -1 & -1 & 0 & 0 & 0 & 4 & 0 & -1 & 1 & -1 & 0 \\\\\n",
       "-1 & -1 & 0 & 0 & 0 & -2 & 0 & 4 & 1 & -1 & 0 & 0 \\\\\n",
       "0 & 0 & 0 & 0 & -1 & 0 & -1 & 1 & \\frac{3263}{1874} & -1 & -\\frac{485}{1874} & 0 \\\\\n",
       "0 & 0 & 0 & 0 & 0 & 0 & 1 & -1 & -1 & 2 & 0 & -1 \\\\\n",
       "0 & 0 & 0 & 0 & -1 & -1 & -1 & 0 & -\\frac{485}{1874} & 0 & \\frac{3263}{1874} & 1 \\\\\n",
       "0 & 0 & 0 & 0 & -1 & -1 & 0 & 0 & 0 & -1 & 1 & 2\n",
       "\\end{array}\\right) $"
      ],
      "text/plain": [
       "<IPython.core.display.Markdown object>"
      ]
     },
     "metadata": {},
     "output_type": "display_data"
    }
   ],
   "source": [
    "bif_funcs = [func(l = 485/3748) for func in funcs] #\n",
    "J = jacobian(bif_funcs,tuple(var_dict.values()))(**{var : 0 for var in var_dict.keys()})\n",
    "lprint(J)"
   ]
  },
  {
   "cell_type": "markdown",
   "metadata": {},
   "source": [
    "### Orthogonalising the kernel"
   ]
  },
  {
   "cell_type": "code",
   "execution_count": 58,
   "metadata": {},
   "outputs": [
    {
     "data": {
      "text/markdown": [
       "$ \\left[\\left(1,\\,\\frac{89}{287},\\,1,\\,-\\frac{89}{287},\\,\\frac{614}{287},\\,\\frac{80}{287},\\,\\frac{614}{287},\\,-\\frac{80}{287},\\,\\frac{937}{287},\\,\\frac{81}{287},\\,\\frac{937}{287},\\,-\\frac{81}{287}\\right)\\right] $"
      ],
      "text/plain": [
       "<IPython.core.display.Markdown object>"
      ]
     },
     "metadata": {},
     "output_type": "display_data"
    }
   ],
   "source": [
    "K = J.right_kernel().basis()\n",
    "lprint(K)"
   ]
  },
  {
   "cell_type": "code",
   "execution_count": 59,
   "metadata": {},
   "outputs": [
    {
     "data": {
      "text/markdown": [
       "$ \\left[\\left(1,\\,0,\\,0,\\,0,\\,0,\\,0,\\,0,\\,0,\\,0,\\,0,\\,0,\\,\\frac{287}{81}\\right), \\left(0,\\,1,\\,0,\\,0,\\,0,\\,0,\\,0,\\,0,\\,0,\\,0,\\,0,\\,\\frac{89}{81}\\right), \\left(0,\\,0,\\,1,\\,0,\\,0,\\,0,\\,0,\\,0,\\,0,\\,0,\\,0,\\,\\frac{287}{81}\\right), \\left(0,\\,0,\\,0,\\,1,\\,0,\\,0,\\,0,\\,0,\\,0,\\,0,\\,0,\\,-\\frac{89}{81}\\right), \\left(0,\\,0,\\,0,\\,0,\\,1,\\,0,\\,0,\\,0,\\,0,\\,0,\\,0,\\,\\frac{614}{81}\\right), \\left(0,\\,0,\\,0,\\,0,\\,0,\\,1,\\,0,\\,0,\\,0,\\,0,\\,0,\\,\\frac{80}{81}\\right), \\left(0,\\,0,\\,0,\\,0,\\,0,\\,0,\\,1,\\,0,\\,0,\\,0,\\,0,\\,\\frac{614}{81}\\right), \\left(0,\\,0,\\,0,\\,0,\\,0,\\,0,\\,0,\\,1,\\,0,\\,0,\\,0,\\,-\\frac{80}{81}\\right), \\left(0,\\,0,\\,0,\\,0,\\,0,\\,0,\\,0,\\,0,\\,1,\\,0,\\,0,\\,\\frac{937}{81}\\right), \\left(0,\\,0,\\,0,\\,0,\\,0,\\,0,\\,0,\\,0,\\,0,\\,1,\\,0,\\,1\\right), \\left(0,\\,0,\\,0,\\,0,\\,0,\\,0,\\,0,\\,0,\\,0,\\,0,\\,1,\\,\\frac{937}{81}\\right)\\right] $"
      ],
      "text/plain": [
       "<IPython.core.display.Markdown object>"
      ]
     },
     "metadata": {},
     "output_type": "display_data"
    }
   ],
   "source": [
    "Kperp = matrix(K).right_kernel().basis()\n",
    "lprint(Kperp)"
   ]
  },
  {
   "cell_type": "code",
   "execution_count": 60,
   "metadata": {},
   "outputs": [
    {
     "data": {
      "text/markdown": [
       "$ \\left(\\begin{array}{rrrrrrrrrrrr}\n",
       "\\frac{82369}{2716432} & \\frac{2634063}{2716432} & -\\frac{25543}{2716432} & -\\frac{82369}{2716432} & \\frac{25543}{2716432} & -\\frac{88109}{1358216} & -\\frac{1435}{169777} & -\\frac{88109}{1358216} & \\frac{1435}{169777} & -\\frac{268919}{2716432} & -\\frac{23247}{2716432} & -\\frac{268919}{2716432} \\\\\n",
       "\\frac{25543}{2716432} & -\\frac{25543}{2716432} & \\frac{2708511}{2716432} & -\\frac{25543}{2716432} & \\frac{7921}{2716432} & -\\frac{27323}{1358216} & -\\frac{445}{169777} & -\\frac{27323}{1358216} & \\frac{445}{169777} & -\\frac{83393}{2716432} & -\\frac{7209}{2716432} & -\\frac{83393}{2716432} \\\\\n",
       "\\frac{82369}{2716432} & -\\frac{82369}{2716432} & -\\frac{25543}{2716432} & \\frac{2634063}{2716432} & \\frac{25543}{2716432} & -\\frac{88109}{1358216} & -\\frac{1435}{169777} & -\\frac{88109}{1358216} & \\frac{1435}{169777} & -\\frac{268919}{2716432} & -\\frac{23247}{2716432} & -\\frac{268919}{2716432} \\\\\n",
       "-\\frac{25543}{2716432} & \\frac{25543}{2716432} & \\frac{7921}{2716432} & \\frac{25543}{2716432} & \\frac{2708511}{2716432} & \\frac{27323}{1358216} & \\frac{445}{169777} & \\frac{27323}{1358216} & -\\frac{445}{169777} & \\frac{83393}{2716432} & \\frac{7209}{2716432} & \\frac{83393}{2716432} \\\\\n",
       "\\frac{88109}{1358216} & -\\frac{88109}{1358216} & -\\frac{27323}{1358216} & -\\frac{88109}{1358216} & \\frac{27323}{1358216} & \\frac{584859}{679108} & -\\frac{3070}{169777} & -\\frac{94249}{679108} & \\frac{3070}{169777} & -\\frac{287659}{1358216} & -\\frac{24867}{1358216} & -\\frac{287659}{1358216} \\\\\n",
       "\\frac{1435}{169777} & -\\frac{1435}{169777} & -\\frac{445}{169777} & -\\frac{1435}{169777} & \\frac{445}{169777} & -\\frac{3070}{169777} & \\frac{169377}{169777} & -\\frac{3070}{169777} & \\frac{400}{169777} & -\\frac{4685}{169777} & -\\frac{405}{169777} & -\\frac{4685}{169777} \\\\\n",
       "\\frac{88109}{1358216} & -\\frac{88109}{1358216} & -\\frac{27323}{1358216} & -\\frac{88109}{1358216} & \\frac{27323}{1358216} & -\\frac{94249}{679108} & -\\frac{3070}{169777} & \\frac{584859}{679108} & \\frac{3070}{169777} & -\\frac{287659}{1358216} & -\\frac{24867}{1358216} & -\\frac{287659}{1358216} \\\\\n",
       "-\\frac{1435}{169777} & \\frac{1435}{169777} & \\frac{445}{169777} & \\frac{1435}{169777} & -\\frac{445}{169777} & \\frac{3070}{169777} & \\frac{400}{169777} & \\frac{3070}{169777} & \\frac{169377}{169777} & \\frac{4685}{169777} & \\frac{405}{169777} & \\frac{4685}{169777} \\\\\n",
       "\\frac{268919}{2716432} & -\\frac{268919}{2716432} & -\\frac{83393}{2716432} & -\\frac{268919}{2716432} & \\frac{83393}{2716432} & -\\frac{287659}{1358216} & -\\frac{4685}{169777} & -\\frac{287659}{1358216} & \\frac{4685}{169777} & \\frac{1838463}{2716432} & -\\frac{75897}{2716432} & -\\frac{877969}{2716432} \\\\\n",
       "\\frac{23247}{2716432} & -\\frac{23247}{2716432} & -\\frac{7209}{2716432} & -\\frac{23247}{2716432} & \\frac{7209}{2716432} & -\\frac{24867}{1358216} & -\\frac{405}{169777} & -\\frac{24867}{1358216} & \\frac{405}{169777} & -\\frac{75897}{2716432} & \\frac{2709871}{2716432} & -\\frac{75897}{2716432} \\\\\n",
       "\\frac{268919}{2716432} & -\\frac{268919}{2716432} & -\\frac{83393}{2716432} & -\\frac{268919}{2716432} & \\frac{83393}{2716432} & -\\frac{287659}{1358216} & -\\frac{4685}{169777} & -\\frac{287659}{1358216} & \\frac{4685}{169777} & -\\frac{877969}{2716432} & -\\frac{75897}{2716432} & \\frac{1838463}{2716432} \\\\\n",
       "-\\frac{23247}{2716432} & \\frac{23247}{2716432} & \\frac{7209}{2716432} & \\frac{23247}{2716432} & -\\frac{7209}{2716432} & \\frac{24867}{1358216} & \\frac{405}{169777} & \\frac{24867}{1358216} & -\\frac{405}{169777} & \\frac{75897}{2716432} & \\frac{6561}{2716432} & \\frac{75897}{2716432}\n",
       "\\end{array}\\right) $"
      ],
      "text/plain": [
       "<IPython.core.display.Markdown object>"
      ]
     },
     "metadata": {},
     "output_type": "display_data"
    }
   ],
   "source": [
    "A = matrix(K+Kperp).inverse().apply_map(lambda x: x.full_simplify())\n",
    "lprint(A)"
   ]
  },
  {
   "cell_type": "code",
   "execution_count": 61,
   "metadata": {},
   "outputs": [],
   "source": [
    "key_list = [str(var) for var in var_dict.values()]\n",
    "value_list = list(A*vector(var_dict.values()))\n",
    "mutate_dict = dict(zip(key_list, value_list))"
   ]
  },
  {
   "cell_type": "code",
   "execution_count": 62,
   "metadata": {},
   "outputs": [],
   "source": [
    "Afuncs = [func(**mutate_dict) for func in bif_funcs]"
   ]
  },
  {
   "cell_type": "code",
   "execution_count": 63,
   "metadata": {},
   "outputs": [
    {
     "data": {
      "text/markdown": [
       "$ \\left[4 \\, \\mathit{p10y} - \\mathit{p20y} - \\mathit{p21y} - \\mathit{p30x}, 4 \\, \\mathit{p11x} - 2 \\, \\mathit{p20x} - \\mathit{p21y} - \\mathit{p30x}, 4 \\, \\mathit{p11y} - \\mathit{p20y} + \\mathit{p21x} - \\mathit{p21y}, -2 \\, \\mathit{p11x} + 4 \\, \\mathit{p20x} + \\mathit{p20y} - \\mathit{p21x}, -\\mathit{p10y} - \\mathit{p11y} + \\mathit{p20x} + 4 \\, \\mathit{p20y} - \\mathit{p30y} - \\mathit{p31y}, \\mathit{p11y} - \\mathit{p20x} + 4 \\, \\mathit{p21x} - 2 \\, \\mathit{p30x} - \\mathit{p31y}, -\\mathit{p10y} - \\mathit{p11x} - \\mathit{p11y} + 4 \\, \\mathit{p21y} - \\mathit{p30y} + \\mathit{p31x} - \\mathit{p31y}, -\\mathit{p10y} - \\mathit{p11x} - 2 \\, \\mathit{p21x} + 4 \\, \\mathit{p30x} + \\mathit{p30y} - \\mathit{p31x}, -\\mathit{p20y} - \\mathit{p21y} + \\mathit{p30x} + \\frac{3263}{1874} \\, \\mathit{p30y} - \\mathit{p31x} - \\frac{485}{1874} \\, \\mathit{p31y}, \\mathit{p21y} - \\mathit{p30x} - \\mathit{p30y} + 2 \\, \\mathit{p31x}, -\\mathit{p20y} - \\mathit{p21x} - \\mathit{p21y} - \\frac{485}{1874} \\, \\mathit{p30y} + \\frac{3263}{1874} \\, \\mathit{p31y}, -\\mathit{p20y} - \\mathit{p21x} - \\mathit{p31x} + \\mathit{p31y}\\right] $"
      ],
      "text/plain": [
       "<IPython.core.display.Markdown object>"
      ]
     },
     "metadata": {},
     "output_type": "display_data"
    }
   ],
   "source": [
    "lprint(Afuncs) # they don't change much, many cancellations"
   ]
  },
  {
   "cell_type": "code",
   "execution_count": 64,
   "metadata": {},
   "outputs": [
    {
     "data": {
      "text/markdown": [
       "$ \\left(\\begin{array}{rrrrrrrrrrrr}\n",
       "0 & 4 & 0 & 0 & 0 & -1 & 0 & -1 & -1 & 0 & 0 & 0 \\\\\n",
       "0 & 0 & 4 & 0 & -2 & 0 & 0 & -1 & -1 & 0 & 0 & 0 \\\\\n",
       "0 & 0 & 0 & 4 & 0 & -1 & 1 & -1 & 0 & 0 & 0 & 0 \\\\\n",
       "0 & 0 & -2 & 0 & 4 & 1 & -1 & 0 & 0 & 0 & 0 & 0 \\\\\n",
       "0 & -1 & 0 & -1 & 1 & 4 & 0 & 0 & 0 & -1 & 0 & -1 \\\\\n",
       "0 & 0 & 0 & 1 & -1 & 0 & 4 & 0 & -2 & 0 & 0 & -1 \\\\\n",
       "0 & -1 & -1 & -1 & 0 & 0 & 0 & 4 & 0 & -1 & 1 & -1 \\\\\n",
       "0 & -1 & -1 & 0 & 0 & 0 & -2 & 0 & 4 & 1 & -1 & 0 \\\\\n",
       "0 & 0 & 0 & 0 & 0 & -1 & 0 & -1 & 1 & \\frac{3263}{1874} & -1 & -\\frac{485}{1874} \\\\\n",
       "0 & 0 & 0 & 0 & 0 & 0 & 0 & 1 & -1 & -1 & 2 & 0 \\\\\n",
       "0 & 0 & 0 & 0 & 0 & -1 & -1 & -1 & 0 & -\\frac{485}{1874} & 0 & \\frac{3263}{1874} \\\\\n",
       "0 & 0 & 0 & 0 & 0 & -1 & -1 & 0 & 0 & 0 & -1 & 1\n",
       "\\end{array}\\right) $"
      ],
      "text/plain": [
       "<IPython.core.display.Markdown object>"
      ]
     },
     "metadata": {},
     "output_type": "display_data"
    }
   ],
   "source": [
    "Ja = jacobian(Afuncs,tuple(var_dict.values()))(**{var : 0 for var in var_dict.keys()}).apply_map(lambda x: x.full_simplify())\n",
    "lprint(Ja)"
   ]
  },
  {
   "cell_type": "code",
   "execution_count": 65,
   "metadata": {},
   "outputs": [
    {
     "data": {
      "text/markdown": [
       "$ \\left[\\left(1,\\,0,\\,0,\\,0,\\,0,\\,0,\\,0,\\,0,\\,0,\\,0,\\,0,\\,0\\right)\\right] $"
      ],
      "text/plain": [
       "<IPython.core.display.Markdown object>"
      ]
     },
     "metadata": {},
     "output_type": "display_data"
    }
   ],
   "source": [
    "Ka = Ja.right_kernel().basis()\n",
    "lprint(Ka)"
   ]
  },
  {
   "cell_type": "markdown",
   "metadata": {},
   "source": [
    "### Orthogonalising the image"
   ]
  },
  {
   "cell_type": "code",
   "execution_count": 66,
   "metadata": {},
   "outputs": [
    {
     "name": "stdout",
     "output_type": "stream",
     "text": [
      "11\n"
     ]
    }
   ],
   "source": [
    "I = Ja.image().basis()\n",
    "I = [Ja*vec for vec in I]\n",
    "print(len(I))"
   ]
  },
  {
   "cell_type": "code",
   "execution_count": 67,
   "metadata": {},
   "outputs": [
    {
     "data": {
      "text/markdown": [
       "$ \\left[\\left(1,\\,\\frac{89}{287},\\,1,\\,-\\frac{89}{287},\\,\\frac{614}{287},\\,\\frac{80}{287},\\,\\frac{614}{287},\\,-\\frac{80}{287},\\,\\frac{937}{287},\\,\\frac{81}{287},\\,\\frac{937}{287},\\,-\\frac{81}{287}\\right)\\right] $"
      ],
      "text/plain": [
       "<IPython.core.display.Markdown object>"
      ]
     },
     "metadata": {},
     "output_type": "display_data"
    }
   ],
   "source": [
    "Iperp = matrix(I).right_kernel().basis()\n",
    "lprint(Iperp)"
   ]
  },
  {
   "cell_type": "code",
   "execution_count": 68,
   "metadata": {},
   "outputs": [
    {
     "data": {
      "text/markdown": [
       "$ \\left(\\begin{array}{rrrrrrrrrrrr}\n",
       "\\frac{527035427}{55007748} & \\frac{361007485}{110015496} & \\frac{472027679}{55007748} & -\\frac{250991989}{110015496} & \\frac{2162555455}{110015496} & \\frac{871076075}{220030992} & \\frac{2052539959}{110015496} & -\\frac{210983099}{220030992} & \\frac{814781993}{27503874} & 5 & \\frac{787278119}{27503874} & \\frac{82369}{2716432} \\\\\n",
       "\\frac{613765129}{55007748} & \\frac{483017507}{110015496} & \\frac{558757381}{55007748} & -\\frac{262986515}{110015496} & \\frac{2562807161}{110015496} & \\frac{1089010573}{220030992} & \\frac{2452791665}{110015496} & -\\frac{208886605}{220030992} & \\frac{969428221}{27503874} & 6 & \\frac{941924347}{27503874} & \\frac{25543}{2716432} \\\\\n",
       "-\\frac{502492301}{55007748} & -\\frac{353414131}{110015496} & -\\frac{447484553}{55007748} & \\frac{243398635}{110015496} & -\\frac{2117183161}{110015496} & -\\frac{875589701}{220030992} & -\\frac{2007167665}{110015496} & \\frac{215496725}{220030992} & -\\frac{803532371}{27503874} & -5 & -\\frac{776028497}{27503874} & \\frac{82369}{2716432} \\\\\n",
       "\\frac{610666595}{55007748} & \\frac{462300829}{110015496} & \\frac{555658847}{55007748} & -\\frac{242269837}{110015496} & \\frac{2550876079}{110015496} & \\frac{1095000755}{220030992} & \\frac{2440860583}{110015496} & -\\frac{214876787}{220030992} & \\frac{967048241}{27503874} & 6 & \\frac{939544367}{27503874} & -\\frac{25543}{2716432} \\\\\n",
       "\\frac{409703317}{27503874} & \\frac{273288533}{55007748} & \\frac{382199443}{27503874} & -\\frac{218280785}{55007748} & \\frac{1750372667}{55007748} & \\frac{659131759}{110015496} & \\frac{1640357171}{55007748} & -\\frac{219069775}{110015496} & \\frac{657755785}{13751937} & 8 & \\frac{630251911}{13751937} & \\frac{88109}{1358216} \\\\\n",
       "\\frac{508635689}{13751937} & \\frac{178718171}{13751937} & \\frac{467379878}{13751937} & -\\frac{123710423}{13751937} & \\frac{1072329416}{13751937} & \\frac{220015337}{13751937} & \\frac{1017321668}{13751937} & -\\frac{54992093}{13751937} & \\frac{1622424046}{13751937} & 20 & \\frac{1567416298}{13751937} & \\frac{1435}{169777} \\\\\n",
       "-\\frac{397416541}{27503874} & -\\frac{265244111}{55007748} & -\\frac{369912667}{27503874} & \\frac{210236363}{55007748} & -\\frac{1695421325}{55007748} & -\\frac{650188465}{110015496} & -\\frac{1585405829}{55007748} & \\frac{210126481}{110015496} & -\\frac{642396481}{13751937} & -8 & -\\frac{614892607}{13751937} & \\frac{88109}{1358216} \\\\\n",
       "\\frac{507140102}{13751937} & \\frac{178492637}{13751937} & \\frac{465884291}{13751937} & -\\frac{123484889}{13751937} & \\frac{1067539892}{13751937} & \\frac{216651107}{13751937} & \\frac{1012532144}{13751937} & -\\frac{51627863}{13751937} & \\frac{1614204682}{13751937} & 20 & \\frac{1559196934}{13751937} & -\\frac{1435}{169777} \\\\\n",
       "\\frac{895858693}{55007748} & \\frac{593631419}{110015496} & \\frac{840850945}{55007748} & -\\frac{483615923}{110015496} & \\frac{3832625825}{110015496} & \\frac{1415043757}{220030992} & \\frac{3612594833}{110015496} & -\\frac{534919789}{220030992} & \\frac{1465851871}{27503874} & 9 & \\frac{1383340249}{27503874} & \\frac{268919}{2716432} \\\\\n",
       "\\frac{3800214257}{55007748} & \\frac{2601880075}{110015496} & \\frac{3525175517}{55007748} & -\\frac{1941787099}{110015496} & \\frac{16111269097}{110015496} & \\frac{6280137173}{220030992} & \\frac{15231145129}{110015496} & -\\frac{1879517333}{220030992} & \\frac{6105582929}{27503874} & 38 & \\frac{5858048063}{27503874} & \\frac{23247}{2716432} \\\\\n",
       "-\\frac{913285019}{55007748} & -\\frac{604315093}{110015496} & -\\frac{858277271}{55007748} & \\frac{494299597}{110015496} & -\\frac{3892906783}{110015496} & -\\frac{1420911251}{220030992} & -\\frac{3672875791}{110015496} & \\frac{540787283}{220030992} & -\\frac{1480118633}{27503874} & -9 & -\\frac{1397607011}{27503874} & \\frac{268919}{2716432} \\\\\n",
       "\\frac{3881176331}{55007748} & \\frac{2651699413}{110015496} & \\frac{3606137591}{55007748} & -\\frac{1991606437}{110015496} & \\frac{16458750583}{110015496} & \\frac{6378435947}{220030992} & \\frac{15578626615}{110015496} & -\\frac{1977816107}{220030992} & \\frac{6232111661}{27503874} & 38 & \\frac{5984576795}{27503874} & -\\frac{23247}{2716432}\n",
       "\\end{array}\\right) $"
      ],
      "text/plain": [
       "<IPython.core.display.Markdown object>"
      ]
     },
     "metadata": {},
     "output_type": "display_data"
    }
   ],
   "source": [
    "B = matrix(I + Iperp).inverse().apply_map(lambda x: x.full_simplify())\n",
    "lprint(B)"
   ]
  },
  {
   "cell_type": "code",
   "execution_count": 69,
   "metadata": {},
   "outputs": [],
   "source": [
    "tfuncs = vector(Afuncs)*B"
   ]
  },
  {
   "cell_type": "code",
   "execution_count": 70,
   "metadata": {},
   "outputs": [
    {
     "data": {
      "text/markdown": [
       "$ \\left(\\mathit{p10y},\\,\\mathit{p11x},\\,\\mathit{p11y},\\,\\mathit{p20x},\\,\\mathit{p20y},\\,\\mathit{p21x},\\,\\mathit{p21y},\\,\\mathit{p30x},\\,\\mathit{p30y},\\,\\mathit{p31x},\\,\\mathit{p31y},\\,0\\right) $"
      ],
      "text/plain": [
       "<IPython.core.display.Markdown object>"
      ]
     },
     "metadata": {},
     "output_type": "display_data"
    }
   ],
   "source": [
    "lprint(tfuncs)"
   ]
  },
  {
   "cell_type": "code",
   "execution_count": 71,
   "metadata": {},
   "outputs": [],
   "source": [
    "Jt = jacobian(tfuncs,tuple(var_dict.values()))(**{var : 0 for var in var_dict.keys()}).apply_map(lambda x: x.full_simplify())"
   ]
  },
  {
   "cell_type": "code",
   "execution_count": 72,
   "metadata": {},
   "outputs": [
    {
     "data": {
      "text/markdown": [
       "$ \\left(\\begin{array}{rrrrrrrrrrrr}\n",
       "0 & 1 & 0 & 0 & 0 & 0 & 0 & 0 & 0 & 0 & 0 & 0 \\\\\n",
       "0 & 0 & 1 & 0 & 0 & 0 & 0 & 0 & 0 & 0 & 0 & 0 \\\\\n",
       "0 & 0 & 0 & 1 & 0 & 0 & 0 & 0 & 0 & 0 & 0 & 0 \\\\\n",
       "0 & 0 & 0 & 0 & 1 & 0 & 0 & 0 & 0 & 0 & 0 & 0 \\\\\n",
       "0 & 0 & 0 & 0 & 0 & 1 & 0 & 0 & 0 & 0 & 0 & 0 \\\\\n",
       "0 & 0 & 0 & 0 & 0 & 0 & 1 & 0 & 0 & 0 & 0 & 0 \\\\\n",
       "0 & 0 & 0 & 0 & 0 & 0 & 0 & 1 & 0 & 0 & 0 & 0 \\\\\n",
       "0 & 0 & 0 & 0 & 0 & 0 & 0 & 0 & 1 & 0 & 0 & 0 \\\\\n",
       "0 & 0 & 0 & 0 & 0 & 0 & 0 & 0 & 0 & 1 & 0 & 0 \\\\\n",
       "0 & 0 & 0 & 0 & 0 & 0 & 0 & 0 & 0 & 0 & 1 & 0 \\\\\n",
       "0 & 0 & 0 & 0 & 0 & 0 & 0 & 0 & 0 & 0 & 0 & 1 \\\\\n",
       "0 & 0 & 0 & 0 & 0 & 0 & 0 & 0 & 0 & 0 & 0 & 0\n",
       "\\end{array}\\right) $"
      ],
      "text/plain": [
       "<IPython.core.display.Markdown object>"
      ]
     },
     "metadata": {},
     "output_type": "display_data"
    }
   ],
   "source": [
    "lprint(Jt)"
   ]
  },
  {
   "cell_type": "code",
   "execution_count": 73,
   "metadata": {},
   "outputs": [
    {
     "data": {
      "text/markdown": [
       "$ \\left[\\left(1,\\,0,\\,0,\\,0,\\,0,\\,0,\\,0,\\,0,\\,0,\\,0,\\,0,\\,0\\right), \\left(0,\\,1,\\,0,\\,0,\\,0,\\,0,\\,0,\\,0,\\,0,\\,0,\\,0,\\,0\\right), \\left(0,\\,0,\\,1,\\,0,\\,0,\\,0,\\,0,\\,0,\\,0,\\,0,\\,0,\\,0\\right), \\left(0,\\,0,\\,0,\\,1,\\,0,\\,0,\\,0,\\,0,\\,0,\\,0,\\,0,\\,0\\right), \\left(0,\\,0,\\,0,\\,0,\\,1,\\,0,\\,0,\\,0,\\,0,\\,0,\\,0,\\,0\\right), \\left(0,\\,0,\\,0,\\,0,\\,0,\\,1,\\,0,\\,0,\\,0,\\,0,\\,0,\\,0\\right), \\left(0,\\,0,\\,0,\\,0,\\,0,\\,0,\\,1,\\,0,\\,0,\\,0,\\,0,\\,0\\right), \\left(0,\\,0,\\,0,\\,0,\\,0,\\,0,\\,0,\\,1,\\,0,\\,0,\\,0,\\,0\\right), \\left(0,\\,0,\\,0,\\,0,\\,0,\\,0,\\,0,\\,0,\\,1,\\,0,\\,0,\\,0\\right), \\left(0,\\,0,\\,0,\\,0,\\,0,\\,0,\\,0,\\,0,\\,0,\\,1,\\,0,\\,0\\right), \\left(0,\\,0,\\,0,\\,0,\\,0,\\,0,\\,0,\\,0,\\,0,\\,0,\\,1,\\,0\\right)\\right] $"
      ],
      "text/plain": [
       "<IPython.core.display.Markdown object>"
      ]
     },
     "metadata": {},
     "output_type": "display_data"
    }
   ],
   "source": [
    "It = Jt.image().basis()\n",
    "It = [Jt*vec for vec in It]\n",
    "lprint(It)"
   ]
  },
  {
   "cell_type": "code",
   "execution_count": 74,
   "metadata": {},
   "outputs": [
    {
     "data": {
      "text/plain": [
       "{'p10x': p10x,\n",
       " 'p10y': p10y,\n",
       " 'p11x': p11x,\n",
       " 'p11y': p11y,\n",
       " 'p20x': p20x,\n",
       " 'p20y': p20y,\n",
       " 'p21x': p21x,\n",
       " 'p21y': p21y,\n",
       " 'p30x': p30x,\n",
       " 'p30y': p30y,\n",
       " 'p31x': p31x,\n",
       " 'p31y': p31y}"
      ]
     },
     "execution_count": 74,
     "metadata": {},
     "output_type": "execute_result"
    }
   ],
   "source": [
    "var_dict_old = var_dict\n",
    "var_dict_old"
   ]
  },
  {
   "cell_type": "code",
   "execution_count": 25,
   "metadata": {},
   "outputs": [
    {
     "data": {
      "text/markdown": [
       "$ \\left(\\mathit{p10y},\\,\\mathit{p11x},\\,\\mathit{p11y},\\,\\mathit{p20x},\\,\\mathit{p20y},\\,\\mathit{p21x},\\,\\mathit{p21y},\\,0\\right) $"
      ],
      "text/plain": [
       "<IPython.core.display.Markdown object>"
      ]
     },
     "metadata": {},
     "output_type": "display_data"
    }
   ],
   "source": [
    "lprint(tfuncs)"
   ]
  },
  {
   "cell_type": "markdown",
   "metadata": {},
   "source": [
    "We see that this trivially has solution for every possible value in the kernel, thus bifurcation methods are unecessary"
   ]
  },
  {
   "cell_type": "code",
   "execution_count": 26,
   "metadata": {},
   "outputs": [
    {
     "data": {
      "text/plain": [
       "dict_values([p10x, p10y, p11x, p11y, p20x, p20y, p21x, p21y])"
      ]
     },
     "execution_count": 26,
     "metadata": {},
     "output_type": "execute_result"
    }
   ],
   "source": [
    "var_dict.values()"
   ]
  },
  {
   "cell_type": "code",
   "execution_count": 27,
   "metadata": {},
   "outputs": [
    {
     "data": {
      "text/plain": [
       "{'p10x': 0,\n",
       " 'p10y': 0,\n",
       " 'p11x': 0,\n",
       " 'p11y': 0,\n",
       " 'p20x': 0,\n",
       " 'p20y': 0,\n",
       " 'p21x': 0,\n",
       " 'p21y': 0}"
      ]
     },
     "execution_count": 27,
     "metadata": {},
     "output_type": "execute_result"
    }
   ],
   "source": [
    "position = {key : 0 for key in var_dict_old.keys()}\n",
    "position"
   ]
  },
  {
   "cell_type": "code",
   "execution_count": 45,
   "metadata": {},
   "outputs": [],
   "source": [
    "#code_funcs = [tfuncs[index].function(*list(var_dict_old.values())) for index in [0,1,2,3,4,5,6]] # careful with computer science indexing from zero\n",
    "code_funcs = [tfuncs[index] for index in [0,1,2,3,4,5,6]]\n",
    "position = {key : 0 for key in var_dict_old.keys()}\n",
    "# var_dict already loaded\n",
    "var_dict = {'y1' : p10y, 'y2' : p11x, 'y3' : p11y, 'y4' : p20x, 'y5' : p20y, 'y6' : p21x, 'y7': p21y, 'x1' : p10x}\n",
    "x_var_keys = [list(var_dict.keys())[index] for index in [7] ] # the variables in the kernel\n",
    "x_dim = 1\n",
    "y_dim = 7 # invertible part"
   ]
  },
  {
   "cell_type": "code",
   "execution_count": 46,
   "metadata": {},
   "outputs": [
    {
     "data": {
      "text/plain": [
       "[p10y, p11x, p11y, p20x, p20y, p21x, p21y]"
      ]
     },
     "execution_count": 46,
     "metadata": {},
     "output_type": "execute_result"
    }
   ],
   "source": [
    "code_funcs"
   ]
  },
  {
   "cell_type": "code",
   "execution_count": 47,
   "metadata": {},
   "outputs": [
    {
     "data": {
      "text/plain": [
       "dict_keys(['y1', 'y2', 'y3', 'y4', 'y5', 'y6', 'y7', 'x1'])"
      ]
     },
     "execution_count": 47,
     "metadata": {},
     "output_type": "execute_result"
    }
   ],
   "source": [
    "var_dict.keys()"
   ]
  },
  {
   "cell_type": "code",
   "execution_count": 48,
   "metadata": {},
   "outputs": [
    {
     "name": "stdout",
     "output_type": "stream",
     "text": [
      "computing Taylor approximaton to 3 order for speedup\n"
     ]
    }
   ],
   "source": [
    "t_dict = TensorDict(code_funcs, position, var_dict, x_dim, y_dim)"
   ]
  },
  {
   "cell_type": "code",
   "execution_count": 51,
   "metadata": {},
   "outputs": [
    {
     "name": "stderr",
     "output_type": "stream",
     "text": [
      "100%|██████████| 1/1 [00:00<00:00, 3495.25it/s]\n",
      "100%|██████████| 1/1 [00:00<00:00, 270.53it/s]"
     ]
    },
    {
     "name": "stdout",
     "output_type": "stream",
     "text": [
      "[1 0 0 0 0 0 0]\n",
      "[0 1 0 0 0 0 0]\n",
      "[0 0 1 0 0 0 0]\n",
      "[0 0 0 1 0 0 0]\n",
      "[0 0 0 0 1 0 0]\n",
      "[0 0 0 0 0 1 0]\n",
      "[0 0 0 0 0 0 1]\n"
     ]
    },
    {
     "name": "stderr",
     "output_type": "stream",
     "text": [
      "\n"
     ]
    }
   ],
   "source": [
    "out = get_hkx_polynomial(code_funcs, 1, x_dim, y_dim, var_dict, x_var_keys, t_dict, position)"
   ]
  },
  {
   "cell_type": "code",
   "execution_count": 52,
   "metadata": {},
   "outputs": [
    {
     "data": {
      "text/plain": [
       "[0, 0, 0, 0, 0, 0, 0]"
      ]
     },
     "execution_count": 52,
     "metadata": {},
     "output_type": "execute_result"
    }
   ],
   "source": [
    "out"
   ]
  },
  {
   "cell_type": "code",
   "execution_count": null,
   "metadata": {},
   "outputs": [],
   "source": []
  }
 ],
 "metadata": {
  "kernelspec": {
   "display_name": "SageMath 9.2",
   "language": "sage",
   "name": "sagemath"
  },
  "language_info": {
   "codemirror_mode": {
    "name": "ipython",
    "version": 3
   },
   "file_extension": ".py",
   "mimetype": "text/x-python",
   "name": "python",
   "nbconvert_exporter": "python",
   "pygments_lexer": "ipython3",
   "version": "3.7.7"
  }
 },
 "nbformat": 4,
 "nbformat_minor": 4
}
