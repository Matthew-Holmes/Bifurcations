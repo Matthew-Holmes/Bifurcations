{
 "cells": [
  {
   "cell_type": "markdown",
   "metadata": {},
   "source": [
    "# Testing Implicit Function code"
   ]
  },
  {
   "cell_type": "code",
   "execution_count": 1,
   "metadata": {},
   "outputs": [],
   "source": [
    "from IPython.display import display, Markdown\n",
    "def latexify(x):\n",
    "    out = '$' + x + '$'\n",
    "    return out\n",
    "\n",
    "def lprint(x):\n",
    "    display(Markdown(latexify(latex(x))))"
   ]
  },
  {
   "cell_type": "code",
   "execution_count": 2,
   "metadata": {},
   "outputs": [],
   "source": [
    "%run -i 'implicit.py'"
   ]
  },
  {
   "cell_type": "markdown",
   "metadata": {},
   "source": [
    "Lets test the implicit function code to see if it can find a paramatrisations for a solution set"
   ]
  },
  {
   "cell_type": "markdown",
   "metadata": {},
   "source": [
    "## A simple example"
   ]
  },
  {
   "cell_type": "code",
   "execution_count": 51,
   "metadata": {},
   "outputs": [],
   "source": [
    "var('x1 x2 y1 y2')\n",
    "f1 = y1 + y2 - x1*x2^2\n",
    "f2 = y1 - y2 + x2*x1^3"
   ]
  },
  {
   "cell_type": "code",
   "execution_count": 52,
   "metadata": {},
   "outputs": [
    {
     "data": {
      "text/markdown": [
       "$ -x_{1} x_{2}^{2} + y_{1} + y_{2} $"
      ],
      "text/plain": [
       "<IPython.core.display.Markdown object>"
      ]
     },
     "metadata": {},
     "output_type": "display_data"
    },
    {
     "data": {
      "text/markdown": [
       "$ x_{1}^{3} x_{2} + y_{1} - y_{2} $"
      ],
      "text/plain": [
       "<IPython.core.display.Markdown object>"
      ]
     },
     "metadata": {},
     "output_type": "display_data"
    }
   ],
   "source": [
    "lprint(f1)\n",
    "lprint(f2)"
   ]
  },
  {
   "cell_type": "markdown",
   "metadata": {},
   "source": [
    "We see that the $f_Y$ partial wil be invertible for all y, so this function is fit for application of the implicit function theorem"
   ]
  },
  {
   "cell_type": "code",
   "execution_count": 53,
   "metadata": {},
   "outputs": [],
   "source": [
    "funcs = [f1,f2]\n",
    "position = {'x1' : 0, 'x2' : 0, 'y1' : 0, 'y2' : 0} # clean evaluations here\n",
    "var_dict = {'x1' : x1, 'x2' : x2, 'y1' : y1, 'y2' : y2}\n",
    "x_var_keys = ['x1', 'x2']\n",
    "x_dim = 2\n",
    "y_dim = 2"
   ]
  },
  {
   "cell_type": "code",
   "execution_count": 54,
   "metadata": {},
   "outputs": [],
   "source": [
    "t_dict = TensorDict(funcs, position, var_dict, x_dim, y_dim)"
   ]
  },
  {
   "cell_type": "code",
   "execution_count": 55,
   "metadata": {},
   "outputs": [
    {
     "data": {
      "text/html": [
       "<div>\n",
       "<style scoped>\n",
       "    .dataframe tbody tr th:only-of-type {\n",
       "        vertical-align: middle;\n",
       "    }\n",
       "\n",
       "    .dataframe tbody tr th {\n",
       "        vertical-align: top;\n",
       "    }\n",
       "\n",
       "    .dataframe thead th {\n",
       "        text-align: right;\n",
       "    }\n",
       "</style>\n",
       "<table border=\"1\" class=\"dataframe\">\n",
       "  <thead>\n",
       "    <tr style=\"text-align: right;\">\n",
       "      <th></th>\n",
       "      <th>data</th>\n",
       "    </tr>\n",
       "    <tr>\n",
       "      <th>1</th>\n",
       "      <th></th>\n",
       "    </tr>\n",
       "  </thead>\n",
       "  <tbody>\n",
       "    <tr>\n",
       "      <th>y1</th>\n",
       "      <td>1</td>\n",
       "    </tr>\n",
       "    <tr>\n",
       "      <th>y2</th>\n",
       "      <td>1</td>\n",
       "    </tr>\n",
       "  </tbody>\n",
       "</table>\n",
       "</div>"
      ],
      "text/plain": [
       "   data\n",
       "1      \n",
       "y1    1\n",
       "y2    1"
      ]
     },
     "execution_count": 55,
     "metadata": {},
     "output_type": "execute_result"
    }
   ],
   "source": [
    "# check fY invertible\n",
    "A = SymbolicXYVectorTensor(x_dim, y_dim, xy_order = 'Y', vec_length = y_dim)\n",
    "A.fill_from_functions(funcs, var_dict, position)\n",
    "A.tensors[0].data"
   ]
  },
  {
   "cell_type": "code",
   "execution_count": 7,
   "metadata": {},
   "outputs": [
    {
     "name": "stdout",
     "output_type": "stream",
     "text": [
      "[0, 0]\n",
      "generating fX\n",
      "[0, 0]\n",
      "generating fXX\n",
      "generating fXY\n",
      "generating fYY\n",
      "[0, 0]\n",
      "generating fXXX\n",
      "generating fXXY\n",
      "generating fXYY\n",
      "generating fYYY\n",
      "[1/2*x1*x2^2, 1/2*x1*x2^2]\n",
      "generating fXXXX\n",
      "generating fXXXY\n",
      "generating fXXYY\n",
      "generating fXYYY\n",
      "generating fYYYY\n"
     ]
    }
   ],
   "source": [
    "out = get_hkx_polynomial(funcs, 4, x_dim, y_dim, var_dict, x_var_keys, t_dict, position)"
   ]
  },
  {
   "cell_type": "code",
   "execution_count": 8,
   "metadata": {},
   "outputs": [
    {
     "data": {
      "text/markdown": [
       "$ \\left[-\\frac{1}{2} \\, x_{1}^{3} x_{2} + \\frac{1}{2} \\, x_{1} x_{2}^{2}, \\frac{1}{2} \\, x_{1}^{3} x_{2} + \\frac{1}{2} \\, x_{1} x_{2}^{2}\\right] $"
      ],
      "text/plain": [
       "<IPython.core.display.Markdown object>"
      ]
     },
     "metadata": {},
     "output_type": "display_data"
    }
   ],
   "source": [
    "lprint(out)"
   ]
  },
  {
   "cell_type": "code",
   "execution_count": 9,
   "metadata": {},
   "outputs": [
    {
     "name": "stderr",
     "output_type": "stream",
     "text": [
      "implicit.py:1: DeprecationWarning: Substitution using function-call syntax and unnamed arguments is deprecated and will be removed from a future release of Sage; you can use named arguments instead, like EXPR(x=..., y=...)\n",
      "See http://trac.sagemath.org/5930 for details.\n",
      "  from math import factorial\n"
     ]
    },
    {
     "data": {
      "text/plain": [
       "[0.000450000000000000, 0.000550000000000000]"
      ]
     },
     "execution_count": 9,
     "metadata": {},
     "output_type": "execute_result"
    }
   ],
   "source": [
    "[h(0.1,0.1) for h in out]"
   ]
  },
  {
   "cell_type": "code",
   "execution_count": 10,
   "metadata": {},
   "outputs": [
    {
     "data": {
      "text/markdown": [
       "$ -x_{1} x_{2}^{2} + y_{1} + y_{2} $"
      ],
      "text/plain": [
       "<IPython.core.display.Markdown object>"
      ]
     },
     "metadata": {},
     "output_type": "display_data"
    }
   ],
   "source": [
    "lprint(f1)"
   ]
  },
  {
   "cell_type": "code",
   "execution_count": 11,
   "metadata": {},
   "outputs": [
    {
     "data": {
      "text/plain": [
       "-2.16840434497101e-19"
      ]
     },
     "execution_count": 11,
     "metadata": {},
     "output_type": "execute_result"
    }
   ],
   "source": [
    "f1(0.1,0.1,0.000450000000000000, 0.000550000000000000)"
   ]
  },
  {
   "cell_type": "code",
   "execution_count": 12,
   "metadata": {},
   "outputs": [
    {
     "data": {
      "text/markdown": [
       "$ x_{1}^{3} x_{2} + y_{1} - y_{2} $"
      ],
      "text/plain": [
       "<IPython.core.display.Markdown object>"
      ]
     },
     "metadata": {},
     "output_type": "display_data"
    },
    {
     "data": {
      "text/plain": [
       "0.000000000000000"
      ]
     },
     "execution_count": 12,
     "metadata": {},
     "output_type": "execute_result"
    }
   ],
   "source": [
    "lprint(f2)\n",
    "f2(0.1,0.1,0.000450000000000000, 0.000550000000000000)"
   ]
  },
  {
   "cell_type": "markdown",
   "metadata": {},
   "source": [
    "We see that the code can solve for the $h(x)$ polynomial, which in this case can be found exactly since the functions were polynomial themselves"
   ]
  },
  {
   "cell_type": "markdown",
   "metadata": {},
   "source": [
    "## A harder example"
   ]
  },
  {
   "cell_type": "markdown",
   "metadata": {},
   "source": [
    "Lets try something harder, for this implementation we always insist that zero is a solution.\n",
    "\n",
    "It is also necessary that the $y$ derivatives are invertible"
   ]
  },
  {
   "cell_type": "code",
   "execution_count": 59,
   "metadata": {},
   "outputs": [],
   "source": [
    "var('x1 x2 x3 y1 y2 y3')\n",
    "f1 = y1 + sin(y2 + y3) - x1*x2^2 + x3*exp(y1 + y2)\n",
    "f2 = exp(y1) - 1 + sin(x2*x1^3) + 3*y2 + x3^4 - 2*y3\n",
    "f3 = x2*x3 + x1*x2 + x3*x1 + y1 - y2 + y3"
   ]
  },
  {
   "cell_type": "code",
   "execution_count": 60,
   "metadata": {},
   "outputs": [],
   "source": [
    "funcs = [f1,f2,f3]\n",
    "position = {'x1' : 0, 'x2' : 0, 'x3' : 0, 'y1' : 0, 'y2' : 0, 'y3' : 0} # clean evaluations here\n",
    "var_dict = {'x1' : x1, 'x2' : x2,'x3' : x3, 'y1' : y1, 'y2' : y2, 'y3' : y3}\n",
    "x_var_keys = ['x1', 'x2', 'x3']\n",
    "x_dim = 3\n",
    "y_dim = 3"
   ]
  },
  {
   "cell_type": "code",
   "execution_count": 20,
   "metadata": {},
   "outputs": [],
   "source": [
    "t_dict = TensorDict(funcs, position, var_dict, x_dim, y_dim)"
   ]
  },
  {
   "cell_type": "markdown",
   "metadata": {},
   "source": [
    "### First order "
   ]
  },
  {
   "cell_type": "code",
   "execution_count": 34,
   "metadata": {},
   "outputs": [
    {
     "name": "stdout",
     "output_type": "stream",
     "text": [
      "[0, 0, 0]\n"
     ]
    },
    {
     "data": {
      "text/markdown": [
       "$ \\left[\\frac{1}{6} \\, x_{3}, -\\frac{1}{2} \\, x_{3}, -\\frac{2}{3} \\, x_{3}\\right] $"
      ],
      "text/plain": [
       "<IPython.core.display.Markdown object>"
      ]
     },
     "metadata": {},
     "output_type": "display_data"
    }
   ],
   "source": [
    "out = get_hkx_polynomial(funcs, 1, x_dim, y_dim, var_dict, x_var_keys, t_dict, position)\n",
    "lprint(out)"
   ]
  },
  {
   "cell_type": "code",
   "execution_count": 35,
   "metadata": {},
   "outputs": [
    {
     "name": "stderr",
     "output_type": "stream",
     "text": [
      "implicit.py:1: DeprecationWarning: Substitution using function-call syntax and unnamed arguments is deprecated and will be removed from a future release of Sage; you can use named arguments instead, like EXPR(x=..., y=...)\n",
      "See http://trac.sagemath.org/5930 for details.\n",
      "  from math import factorial\n"
     ]
    },
    {
     "data": {
      "text/plain": [
       "[0.0166666666666667, -0.0500000000000000, -0.0666666666666667]"
      ]
     },
     "execution_count": 35,
     "metadata": {},
     "output_type": "execute_result"
    }
   ],
   "source": [
    "[h(0.1) for h in out]"
   ]
  },
  {
   "cell_type": "code",
   "execution_count": 36,
   "metadata": {},
   "outputs": [
    {
     "name": "stderr",
     "output_type": "stream",
     "text": [
      "implicit.py:1: DeprecationWarning: Substitution using function-call syntax and unnamed arguments is deprecated and will be removed from a future release of Sage; you can use named arguments instead, like EXPR(x=..., y=...)\n",
      "See http://trac.sagemath.org/5930 for details.\n",
      "  from math import factorial\n"
     ]
    },
    {
     "data": {
      "text/plain": [
       "[-0.00401390951578171, 0.000339663719427924, 0.0300000000000000]"
      ]
     },
     "execution_count": 36,
     "metadata": {},
     "output_type": "execute_result"
    }
   ],
   "source": [
    "[f(0.1,0.1,0.1,0.0166666666666667, -0.0500000000000000, -0.0666666666666667) for f in funcs]"
   ]
  },
  {
   "cell_type": "markdown",
   "metadata": {},
   "source": [
    "### Second order"
   ]
  },
  {
   "cell_type": "markdown",
   "metadata": {},
   "source": [
    "Lets try the second order"
   ]
  },
  {
   "cell_type": "code",
   "execution_count": 37,
   "metadata": {},
   "outputs": [
    {
     "name": "stdout",
     "output_type": "stream",
     "text": [
      "[0, 0, 0]\n",
      "[1/6*x3, -1/2*x3, -2/3*x3]\n"
     ]
    },
    {
     "data": {
      "text/markdown": [
       "$ \\left[-\\frac{5}{6} \\, x_{1} x_{2} - \\frac{5}{6} \\, x_{1} x_{3} - \\frac{5}{6} \\, x_{2} x_{3} - \\frac{13}{216} \\, x_{3}^{2} + \\frac{1}{6} \\, x_{3}, \\frac{1}{2} \\, x_{1} x_{2} + \\frac{1}{2} \\, x_{1} x_{3} + \\frac{1}{2} \\, x_{2} x_{3} + \\frac{1}{6} \\, x_{3}^{2} - \\frac{1}{2} \\, x_{3}, \\frac{1}{3} \\, x_{1} x_{2} + \\frac{1}{3} \\, x_{1} x_{3} + \\frac{1}{3} \\, x_{2} x_{3} + \\frac{49}{216} \\, x_{3}^{2} - \\frac{2}{3} \\, x_{3}\\right] $"
      ],
      "text/plain": [
       "<IPython.core.display.Markdown object>"
      ]
     },
     "metadata": {},
     "output_type": "display_data"
    }
   ],
   "source": [
    "out = get_hkx_polynomial(funcs, 2, x_dim, y_dim, var_dict, x_var_keys, t_dict, position)\n",
    "lprint(out)"
   ]
  },
  {
   "cell_type": "code",
   "execution_count": 39,
   "metadata": {},
   "outputs": [
    {
     "name": "stderr",
     "output_type": "stream",
     "text": [
      "implicit.py:1: DeprecationWarning: Substitution using function-call syntax and unnamed arguments is deprecated and will be removed from a future release of Sage; you can use named arguments instead, like EXPR(x=..., y=...)\n",
      "See http://trac.sagemath.org/5930 for details.\n",
      "  from math import factorial\n"
     ]
    },
    {
     "data": {
      "text/plain": [
       "[-0.00893518518518519, -0.0333333333333333, -0.0543981481481481]"
      ]
     },
     "execution_count": 39,
     "metadata": {},
     "output_type": "execute_result"
    }
   ],
   "source": [
    "[h(0.1,0.1,0.1) for h in out]"
   ]
  },
  {
   "cell_type": "code",
   "execution_count": 40,
   "metadata": {},
   "outputs": [
    {
     "name": "stderr",
     "output_type": "stream",
     "text": [
      "implicit.py:1: DeprecationWarning: Substitution using function-call syntax and unnamed arguments is deprecated and will be removed from a future release of Sage; you can use named arguments instead, like EXPR(x=..., y=...)\n",
      "See http://trac.sagemath.org/5930 for details.\n",
      "  from math import factorial\n"
     ]
    },
    {
     "data": {
      "text/plain": [
       "[-0.00169293375280738, 0.000100911249343111, 1.56125112837913e-17]"
      ]
     },
     "execution_count": 40,
     "metadata": {},
     "output_type": "execute_result"
    }
   ],
   "source": [
    "[f(0.1,0.1,0.1,-0.00893518518518519, -0.0333333333333333, -0.0543981481481481) for f in funcs]"
   ]
  },
  {
   "cell_type": "markdown",
   "metadata": {},
   "source": [
    "### Third order"
   ]
  },
  {
   "cell_type": "markdown",
   "metadata": {},
   "source": [
    "3rd order"
   ]
  },
  {
   "cell_type": "code",
   "execution_count": 41,
   "metadata": {},
   "outputs": [
    {
     "name": "stdout",
     "output_type": "stream",
     "text": [
      "[0, 0, 0]\n",
      "[1/6*x3, -1/2*x3, -2/3*x3]\n",
      "[-5/6*x1*x2 - 5/6*x1*x3 - 5/6*x2*x3 - 13/216*x3^2 + 1/6*x3, 1/2*x1*x2 + 1/2*x1*x3 + 1/2*x2*x3 + 1/6*x3^2 - 1/2*x3, 1/3*x1*x2 + 1/3*x1*x3 + 1/3*x2*x3 + 49/216*x3^2 - 2/3*x3]\n",
      "generating fXXX\n",
      "generating fXXY\n",
      "generating fXYY\n",
      "generating fYYY\n"
     ]
    },
    {
     "data": {
      "text/markdown": [
       "$ \\left[-\\frac{1}{6} \\, x_{1} x_{2}^{2} - \\frac{1}{108} \\, x_{1} x_{2} x_{3} - \\frac{1}{108} \\, x_{1} x_{3}^{2} - \\frac{1}{108} \\, x_{2} x_{3}^{2} + \\frac{577}{7776} \\, x_{3}^{3} - \\frac{5}{6} \\, x_{1} x_{2} - \\frac{5}{6} \\, x_{1} x_{3} - \\frac{5}{6} \\, x_{2} x_{3} - \\frac{13}{216} \\, x_{3}^{2} + \\frac{1}{6} \\, x_{3}, \\frac{1}{2} \\, x_{1} x_{2}^{2} + \\frac{1}{6} \\, x_{1} x_{2} x_{3} + \\frac{1}{6} \\, x_{1} x_{3}^{2} + \\frac{1}{6} \\, x_{2} x_{3}^{2} - \\frac{553}{2592} \\, x_{3}^{3} + \\frac{1}{2} \\, x_{1} x_{2} + \\frac{1}{2} \\, x_{1} x_{3} + \\frac{1}{2} \\, x_{2} x_{3} + \\frac{1}{6} \\, x_{3}^{2} - \\frac{1}{2} \\, x_{3}, \\frac{2}{3} \\, x_{1} x_{2}^{2} + \\frac{19}{108} \\, x_{1} x_{2} x_{3} + \\frac{19}{108} \\, x_{1} x_{3}^{2} + \\frac{19}{108} \\, x_{2} x_{3}^{2} - \\frac{559}{1944} \\, x_{3}^{3} + \\frac{1}{3} \\, x_{1} x_{2} + \\frac{1}{3} \\, x_{1} x_{3} + \\frac{1}{3} \\, x_{2} x_{3} + \\frac{49}{216} \\, x_{3}^{2} - \\frac{2}{3} \\, x_{3}\\right] $"
      ],
      "text/plain": [
       "<IPython.core.display.Markdown object>"
      ]
     },
     "metadata": {},
     "output_type": "display_data"
    }
   ],
   "source": [
    "out = get_hkx_polynomial(funcs, 3, x_dim, y_dim, var_dict, x_var_keys, t_dict, position)\n",
    "lprint(out)"
   ]
  },
  {
   "cell_type": "code",
   "execution_count": 42,
   "metadata": {},
   "outputs": [
    {
     "name": "stderr",
     "output_type": "stream",
     "text": [
      "implicit.py:1: DeprecationWarning: Substitution using function-call syntax and unnamed arguments is deprecated and will be removed from a future release of Sage; you can use named arguments instead, like EXPR(x=..., y=...)\n",
      "See http://trac.sagemath.org/5930 for details.\n",
      "  from math import factorial\n"
     ]
    },
    {
     "data": {
      "text/plain": [
       "[-0.00905542695473252, -0.0325466820987654, -0.0534912551440329]"
      ]
     },
     "execution_count": 42,
     "metadata": {},
     "output_type": "execute_result"
    }
   ],
   "source": [
    "[h(0.1,0.1,0.1) for h in out]"
   ]
  },
  {
   "cell_type": "code",
   "execution_count": 43,
   "metadata": {},
   "outputs": [
    {
     "name": "stderr",
     "output_type": "stream",
     "text": [
      "implicit.py:1: DeprecationWarning: Substitution using function-call syntax and unnamed arguments is deprecated and will be removed from a future release of Sage; you can use named arguments instead, like EXPR(x=..., y=...)\n",
      "See http://trac.sagemath.org/5930 for details.\n",
      "  from math import factorial\n"
     ]
    },
    {
     "data": {
      "text/plain": [
       "[-0.0000621155832569581, 0.000527913936557017, -1.38777878078145e-17]"
      ]
     },
     "execution_count": 43,
     "metadata": {},
     "output_type": "execute_result"
    }
   ],
   "source": [
    "[f(0.1,0.1,0.1,-0.00905542695473252, -0.0325466820987654, -0.0534912551440329) for f in funcs]"
   ]
  },
  {
   "cell_type": "markdown",
   "metadata": {},
   "source": [
    "### Fourth order"
   ]
  },
  {
   "cell_type": "code",
   "execution_count": 46,
   "metadata": {},
   "outputs": [
    {
     "name": "stdout",
     "output_type": "stream",
     "text": [
      "[0, 0, 0]\n",
      "[1/6*x3, -1/2*x3, -2/3*x3]\n",
      "[-5/6*x1*x2 - 5/6*x1*x3 - 5/6*x2*x3 - 13/216*x3^2 + 1/6*x3, 1/2*x1*x2 + 1/2*x1*x3 + 1/2*x2*x3 + 1/6*x3^2 - 1/2*x3, 1/3*x1*x2 + 1/3*x1*x3 + 1/3*x2*x3 + 49/216*x3^2 - 2/3*x3]\n",
      "[-1/6*x1*x2^2 - 1/108*x1*x2*x3 - 1/108*x1*x3^2 - 1/108*x2*x3^2 + 577/7776*x3^3 - 5/6*x1*x2 - 5/6*x1*x3 - 5/6*x2*x3 - 13/216*x3^2 + 1/6*x3, 1/2*x1*x2^2 + 1/6*x1*x2*x3 + 1/6*x1*x3^2 + 1/6*x2*x3^2 - 553/2592*x3^3 + 1/2*x1*x2 + 1/2*x1*x3 + 1/2*x2*x3 + 1/6*x3^2 - 1/2*x3, 2/3*x1*x2^2 + 19/108*x1*x2*x3 + 19/108*x1*x3^2 + 19/108*x2*x3^2 - 559/1944*x3^3 + 1/3*x1*x2 + 1/3*x1*x3 + 1/3*x2*x3 + 49/216*x3^2 - 2/3*x3]\n"
     ]
    },
    {
     "data": {
      "text/markdown": [
       "$ \\left[-\\frac{1}{3} \\, x_{1}^{3} x_{2} - \\frac{25}{216} \\, x_{1}^{2} x_{2}^{2} - \\frac{25}{108} \\, x_{1}^{2} x_{2} x_{3} - \\frac{1}{6} \\, x_{1} x_{2}^{2} x_{3} - \\frac{25}{216} \\, x_{1}^{2} x_{3}^{2} - \\frac{761}{2592} \\, x_{1} x_{2} x_{3}^{2} - \\frac{25}{216} \\, x_{2}^{2} x_{3}^{2} - \\frac{161}{2592} \\, x_{1} x_{3}^{3} - \\frac{161}{2592} \\, x_{2} x_{3}^{3} - \\frac{38497}{93312} \\, x_{3}^{4} - \\frac{1}{6} \\, x_{1} x_{2}^{2} - \\frac{1}{108} \\, x_{1} x_{2} x_{3} - \\frac{1}{108} \\, x_{1} x_{3}^{2} - \\frac{1}{108} \\, x_{2} x_{3}^{2} + \\frac{577}{7776} \\, x_{3}^{3} - \\frac{5}{6} \\, x_{1} x_{2} - \\frac{5}{6} \\, x_{1} x_{3} - \\frac{5}{6} \\, x_{2} x_{3} - \\frac{13}{216} \\, x_{3}^{2} + \\frac{1}{6} \\, x_{3}, -\\frac{1}{6} \\, x_{1} x_{2}^{2} x_{3} + \\frac{43}{288} \\, x_{1} x_{2} x_{3}^{2} + \\frac{43}{288} \\, x_{1} x_{3}^{3} + \\frac{43}{288} \\, x_{2} x_{3}^{3} + \\frac{6977}{31104} \\, x_{3}^{4} + \\frac{1}{2} \\, x_{1} x_{2}^{2} + \\frac{1}{6} \\, x_{1} x_{2} x_{3} + \\frac{1}{6} \\, x_{1} x_{3}^{2} + \\frac{1}{6} \\, x_{2} x_{3}^{2} - \\frac{553}{2592} \\, x_{3}^{3} + \\frac{1}{2} \\, x_{1} x_{2} + \\frac{1}{2} \\, x_{1} x_{3} + \\frac{1}{2} \\, x_{2} x_{3} + \\frac{1}{6} \\, x_{3}^{2} - \\frac{1}{2} \\, x_{3}, \\frac{1}{3} \\, x_{1}^{3} x_{2} + \\frac{25}{216} \\, x_{1}^{2} x_{2}^{2} + \\frac{25}{108} \\, x_{1}^{2} x_{2} x_{3} + \\frac{25}{216} \\, x_{1}^{2} x_{3}^{2} + \\frac{287}{648} \\, x_{1} x_{2} x_{3}^{2} + \\frac{25}{216} \\, x_{2}^{2} x_{3}^{2} + \\frac{137}{648} \\, x_{1} x_{3}^{3} + \\frac{137}{648} \\, x_{2} x_{3}^{3} + \\frac{14857}{23328} \\, x_{3}^{4} + \\frac{2}{3} \\, x_{1} x_{2}^{2} + \\frac{19}{108} \\, x_{1} x_{2} x_{3} + \\frac{19}{108} \\, x_{1} x_{3}^{2} + \\frac{19}{108} \\, x_{2} x_{3}^{2} - \\frac{559}{1944} \\, x_{3}^{3} + \\frac{1}{3} \\, x_{1} x_{2} + \\frac{1}{3} \\, x_{1} x_{3} + \\frac{1}{3} \\, x_{2} x_{3} + \\frac{49}{216} \\, x_{3}^{2} - \\frac{2}{3} \\, x_{3}\\right] $"
      ],
      "text/plain": [
       "<IPython.core.display.Markdown object>"
      ]
     },
     "metadata": {},
     "output_type": "display_data"
    }
   ],
   "source": [
    "out = get_hkx_polynomial(funcs, 4, x_dim, y_dim, var_dict, x_var_keys, t_dict, position)\n",
    "lprint(out)"
   ]
  },
  {
   "cell_type": "code",
   "execution_count": 47,
   "metadata": {},
   "outputs": [
    {
     "name": "stderr",
     "output_type": "stream",
     "text": [
      "implicit.py:1: DeprecationWarning: Substitution using function-call syntax and unnamed arguments is deprecated and will be removed from a future release of Sage; you can use named arguments instead, like EXPR(x=..., y=...)\n",
      "See http://trac.sagemath.org/5930 for details.\n",
      "  from math import factorial\n"
     ]
    },
    {
     "data": {
      "text/plain": [
       "[-0.00924633594821674, -0.0324961259002058, -0.0532497899519890]"
      ]
     },
     "execution_count": 47,
     "metadata": {},
     "output_type": "execute_result"
    }
   ],
   "source": [
    "[h(0.1,0.1,0.1) for h in out]"
   ]
  },
  {
   "cell_type": "code",
   "execution_count": 48,
   "metadata": {},
   "outputs": [
    {
     "name": "stderr",
     "output_type": "stream",
     "text": [
      "implicit.py:1: DeprecationWarning: Substitution using function-call syntax and unnamed arguments is deprecated and will be removed from a future release of Sage; you can use named arguments instead, like EXPR(x=..., y=...)\n",
      "See http://trac.sagemath.org/5930 for details.\n",
      "  from math import factorial\n"
     ]
    },
    {
     "data": {
      "text/plain": [
       "[0.0000244578757480577, 7.48217104111493e-6, 6.41847686111419e-17]"
      ]
     },
     "execution_count": 48,
     "metadata": {},
     "output_type": "execute_result"
    }
   ],
   "source": [
    "[f(0.1,0.1,0.1,-0.00924633594821674, -0.0324961259002058, -0.0532497899519890) for f in funcs]"
   ]
  },
  {
   "cell_type": "code",
   "execution_count": 49,
   "metadata": {},
   "outputs": [
    {
     "data": {
      "text/markdown": [
       "$ -x_{1} x_{2}^{2} + x_{3} e^{\\left(y_{1} + y_{2}\\right)} + y_{1} + \\sin\\left(y_{2} + y_{3}\\right) $"
      ],
      "text/plain": [
       "<IPython.core.display.Markdown object>"
      ]
     },
     "metadata": {},
     "output_type": "display_data"
    },
    {
     "data": {
      "text/markdown": [
       "$ x_{3}^{4} + 3 \\, y_{2} - 2 \\, y_{3} + e^{y_{1}} + \\sin\\left(x_{1}^{3} x_{2}\\right) - 1 $"
      ],
      "text/plain": [
       "<IPython.core.display.Markdown object>"
      ]
     },
     "metadata": {},
     "output_type": "display_data"
    },
    {
     "data": {
      "text/markdown": [
       "$ x_{1} x_{2} + x_{1} x_{3} + x_{2} x_{3} + y_{1} - y_{2} + y_{3} $"
      ],
      "text/plain": [
       "<IPython.core.display.Markdown object>"
      ]
     },
     "metadata": {},
     "output_type": "display_data"
    },
    {
     "data": {
      "text/plain": [
       "[None, None, None]"
      ]
     },
     "execution_count": 49,
     "metadata": {},
     "output_type": "execute_result"
    }
   ],
   "source": [
    "[lprint(f) for f in funcs]"
   ]
  },
  {
   "cell_type": "markdown",
   "metadata": {},
   "source": [
    "We see that as we increase the order of the taylor polynomial the function becomes a better approximation of the solution curve."
   ]
  },
  {
   "cell_type": "markdown",
   "metadata": {},
   "source": [
    "The last function is completely solved since it is just a polynomial"
   ]
  },
  {
   "cell_type": "code",
   "execution_count": null,
   "metadata": {},
   "outputs": [],
   "source": []
  }
 ],
 "metadata": {
  "kernelspec": {
   "display_name": "SageMath 9.2",
   "language": "sage",
   "name": "sagemath"
  },
  "language_info": {
   "codemirror_mode": {
    "name": "ipython",
    "version": 3
   },
   "file_extension": ".py",
   "mimetype": "text/x-python",
   "name": "python",
   "nbconvert_exporter": "python",
   "pygments_lexer": "ipython3",
   "version": "3.7.7"
  }
 },
 "nbformat": 4,
 "nbformat_minor": 4
}
