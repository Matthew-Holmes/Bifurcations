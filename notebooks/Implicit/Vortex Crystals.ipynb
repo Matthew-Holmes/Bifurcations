{
 "cells": [
  {
   "cell_type": "markdown",
   "metadata": {},
   "source": [
    "# Vortex Crystals"
   ]
  },
  {
   "cell_type": "code",
   "execution_count": 1,
   "metadata": {},
   "outputs": [],
   "source": [
    "from IPython.display import display, Markdown\n",
    "def latexify(x):\n",
    "    out = '$' + x + '$'\n",
    "    return out\n",
    "\n",
    "def lprint(x):\n",
    "    display(Markdown(latexify(latex(x))))\n",
    "    \n",
    "%run -i 'implicit.py'"
   ]
  },
  {
   "cell_type": "markdown",
   "metadata": {},
   "source": [
    "Here we investigate a more complicated example"
   ]
  },
  {
   "cell_type": "markdown",
   "metadata": {},
   "source": [
    "Consider $n$ points in $\\mathbb{R}^2$\n",
    "\n",
    "$z_{1}, ... , z_{n}$"
   ]
  },
  {
   "cell_type": "markdown",
   "metadata": {},
   "source": [
    "Each rotation with angular speed $\\Gamma _{i}$"
   ]
  },
  {
   "cell_type": "markdown",
   "metadata": {},
   "source": [
    "We are interested in critical points of the function:\n",
    "\n",
    "$$ -\\frac{1}{4\\pi} \\sum_{i \\neq j}{\\Gamma_{i} \\Gamma_{j} \\log | z_{i} - z_{j} |} - u \\sum {\\Gamma_{i} y_{i} } + \\frac{\\omega}{2} \\sum{\\Gamma_{i} |z_{i}| ^2} + v \\sum{\\Gamma_{i} x_{i}}   $$"
   ]
  },
  {
   "cell_type": "markdown",
   "metadata": {},
   "source": [
    "Viewing the $z_{i}$ points in $\\mathbb{C}$ with $z = x + yi$, these critical points are solutions of the equations:\n",
    "\n",
    "$$u - iv - i \\omega \\bar{z_{j}} = \\frac{1}{2 \\pi i}  \\sum_{i \\neq j}{\\frac{\\Gamma_{i}}{z_{j} - z_{i}}} \\;\\;\\;\\; j = 1,...,n $$"
   ]
  },
  {
   "cell_type": "markdown",
   "metadata": {},
   "source": [
    "Expanding this out by setting $z_{i} = x_{i} + y_{i}i$ we have:\n",
    "\n",
    "$$u - iv - i \\omega (x_{j} - y_{j}i) = \\frac{1}{2 \\pi i}  \\sum_{i \\neq j}{\\frac{\\Gamma_{i}}{(x_{i} - x_{j}) + (y_{i} - y_{j})i}} \\;\\;\\;\\; j = 1,...,n $$"
   ]
  },
  {
   "cell_type": "markdown",
   "metadata": {},
   "source": [
    "Applying the reciprocal formula:\n",
    "$$u - iv - \\omega x_{j} i - \\omega y_{j} = -i \\frac{1}{2 \\pi}  \\sum_{i \\neq j}{\\Gamma_{i}} \\frac{x_{i} - x_{j}}{(x_{i} - x_{j})^2 + (y_{i} - y_{j})^2} + \\Gamma_{i} \\frac{y_{i} - y_{j}}{(x_{i} - x_{j})^2 + (y_{i} - y_{j})^2}i\\;\\;\\;\\; j = 1,...,n $$"
   ]
  },
  {
   "cell_type": "markdown",
   "metadata": {},
   "source": [
    "Multiplying through the $i$:\n",
    "$$u - iv - \\omega x_{j} i - \\omega y_{j} =  \\frac{1}{2 \\pi}  \\sum_{i \\neq j}{-\\Gamma_{i}} \\frac{x_{i} - x_{j}}{(x_{i} - x_{j})^2 + (y_{i} - y_{j})^2}i + \\Gamma_{i} \\frac{y_{i} - y_{j}}{(x_{i} - x_{j})^2 + (y_{i} - y_{j})^2}\\;\\;\\;\\; j = 1,...,n $$"
   ]
  },
  {
   "cell_type": "markdown",
   "metadata": {},
   "source": [
    "So we get the following two sets of equations:\n",
    "\n",
    "$$u - \\omega y_{j} = \\frac{1}{2 \\pi} \\sum_{i \\neq j}{\\Gamma_{i} \\frac{y_{i} - y_{j}}{(x_{i} - x_{j})^2 + (y_{i} - y_{j})^2}} \\;\\;\\;\\; j = 1,...,n$$\n",
    "\n",
    "$$v + \\omega x_{j} = \\frac{1}{2 \\pi} \\sum_{i \\neq j}{\\Gamma_{i}} \\frac{x_{i} - x_{j}}{(x_{i} - x_{j})^2 + (y_{i} - y_{j})^2} \\;\\;\\;\\; j = 1,...,n$$"
   ]
  },
  {
   "cell_type": "markdown",
   "metadata": {},
   "source": [
    "## Building the equations programmatically"
   ]
  },
  {
   "cell_type": "markdown",
   "metadata": {},
   "source": [
    "lets be able to specify the values to input"
   ]
  },
  {
   "cell_type": "code",
   "execution_count": 22,
   "metadata": {},
   "outputs": [],
   "source": [
    "def get_funcs(n):\n",
    "    # returns a set of equations to solve\n",
    "    var_dict = {}\n",
    "    for i in range(1,n+1):\n",
    "        var_dict['x{}'.format(i)] = var('x{}'.format(i))\n",
    "        var_dict['y{}'.format(i)] = var('y{}'.format(i))\n",
    "        var_dict['r{}'.format(i)] = var('r{}'.format(i))\n",
    "        \n",
    "         \n",
    "    var_dict['u'] = var('u')\n",
    "    var_dict['v'] = var('v')\n",
    "    var_dict['w'] = var('w')\n",
    "    \n",
    "    funcs = []\n",
    "    for i in range(1,n+1):\n",
    "        \n",
    "\n",
    "        \n",
    "    return out\n",
    "    "
   ]
  },
  {
   "cell_type": "code",
   "execution_count": 24,
   "metadata": {},
   "outputs": [
    {
     "data": {
      "text/markdown": [
       "$ \\Im \\left( w \\right) \\Im \\left( x_{1} \\right) - \\Im \\left( y_{1} \\right) \\Re \\left( w \\right) + \\Re \\left( w \\right) \\Re \\left( x_{1} \\right) + \\Im \\left( w \\right) \\Re \\left( y_{1} \\right) - \\frac{\\Im \\left( r_{1} \\right) \\Im \\left( y_{1} \\right)}{2 \\, \\pi {\\left(\\Im \\left( x_{1} \\right)^{2} - 2 \\, \\Im \\left( x_{1} \\right) \\Im \\left( x_{2} \\right) + \\Im \\left( x_{2} \\right)^{2} + \\Im \\left( y_{1} \\right)^{2} - 2 \\, \\Im \\left( y_{1} \\right) \\Im \\left( y_{2} \\right) + \\Im \\left( y_{2} \\right)^{2} - 2 \\, \\Im \\left( y_{1} \\right) \\Re \\left( x_{1} \\right) + 2 \\, \\Im \\left( y_{2} \\right) \\Re \\left( x_{1} \\right) + \\Re \\left( x_{1} \\right)^{2} + 2 \\, \\Im \\left( y_{1} \\right) \\Re \\left( x_{2} \\right) - 2 \\, \\Im \\left( y_{2} \\right) \\Re \\left( x_{2} \\right) - 2 \\, \\Re \\left( x_{1} \\right) \\Re \\left( x_{2} \\right) + \\Re \\left( x_{2} \\right)^{2} + 2 \\, \\Im \\left( x_{1} \\right) \\Re \\left( y_{1} \\right) - 2 \\, \\Im \\left( x_{2} \\right) \\Re \\left( y_{1} \\right) + \\Re \\left( y_{1} \\right)^{2} - 2 \\, \\Im \\left( x_{1} \\right) \\Re \\left( y_{2} \\right) + 2 \\, \\Im \\left( x_{2} \\right) \\Re \\left( y_{2} \\right) - 2 \\, \\Re \\left( y_{1} \\right) \\Re \\left( y_{2} \\right) + \\Re \\left( y_{2} \\right)^{2}\\right)}} + \\frac{\\Im \\left( r_{1} \\right) \\Im \\left( y_{2} \\right)}{2 \\, \\pi {\\left(\\Im \\left( x_{1} \\right)^{2} - 2 \\, \\Im \\left( x_{1} \\right) \\Im \\left( x_{2} \\right) + \\Im \\left( x_{2} \\right)^{2} + \\Im \\left( y_{1} \\right)^{2} - 2 \\, \\Im \\left( y_{1} \\right) \\Im \\left( y_{2} \\right) + \\Im \\left( y_{2} \\right)^{2} - 2 \\, \\Im \\left( y_{1} \\right) \\Re \\left( x_{1} \\right) + 2 \\, \\Im \\left( y_{2} \\right) \\Re \\left( x_{1} \\right) + \\Re \\left( x_{1} \\right)^{2} + 2 \\, \\Im \\left( y_{1} \\right) \\Re \\left( x_{2} \\right) - 2 \\, \\Im \\left( y_{2} \\right) \\Re \\left( x_{2} \\right) - 2 \\, \\Re \\left( x_{1} \\right) \\Re \\left( x_{2} \\right) + \\Re \\left( x_{2} \\right)^{2} + 2 \\, \\Im \\left( x_{1} \\right) \\Re \\left( y_{1} \\right) - 2 \\, \\Im \\left( x_{2} \\right) \\Re \\left( y_{1} \\right) + \\Re \\left( y_{1} \\right)^{2} - 2 \\, \\Im \\left( x_{1} \\right) \\Re \\left( y_{2} \\right) + 2 \\, \\Im \\left( x_{2} \\right) \\Re \\left( y_{2} \\right) - 2 \\, \\Re \\left( y_{1} \\right) \\Re \\left( y_{2} \\right) + \\Re \\left( y_{2} \\right)^{2}\\right)}} - \\frac{\\Im \\left( x_{1} \\right) \\Re \\left( r_{1} \\right)}{2 \\, \\pi {\\left(\\Im \\left( x_{1} \\right)^{2} - 2 \\, \\Im \\left( x_{1} \\right) \\Im \\left( x_{2} \\right) + \\Im \\left( x_{2} \\right)^{2} + \\Im \\left( y_{1} \\right)^{2} - 2 \\, \\Im \\left( y_{1} \\right) \\Im \\left( y_{2} \\right) + \\Im \\left( y_{2} \\right)^{2} - 2 \\, \\Im \\left( y_{1} \\right) \\Re \\left( x_{1} \\right) + 2 \\, \\Im \\left( y_{2} \\right) \\Re \\left( x_{1} \\right) + \\Re \\left( x_{1} \\right)^{2} + 2 \\, \\Im \\left( y_{1} \\right) \\Re \\left( x_{2} \\right) - 2 \\, \\Im \\left( y_{2} \\right) \\Re \\left( x_{2} \\right) - 2 \\, \\Re \\left( x_{1} \\right) \\Re \\left( x_{2} \\right) + \\Re \\left( x_{2} \\right)^{2} + 2 \\, \\Im \\left( x_{1} \\right) \\Re \\left( y_{1} \\right) - 2 \\, \\Im \\left( x_{2} \\right) \\Re \\left( y_{1} \\right) + \\Re \\left( y_{1} \\right)^{2} - 2 \\, \\Im \\left( x_{1} \\right) \\Re \\left( y_{2} \\right) + 2 \\, \\Im \\left( x_{2} \\right) \\Re \\left( y_{2} \\right) - 2 \\, \\Re \\left( y_{1} \\right) \\Re \\left( y_{2} \\right) + \\Re \\left( y_{2} \\right)^{2}\\right)}} + \\frac{\\Im \\left( x_{2} \\right) \\Re \\left( r_{1} \\right)}{2 \\, \\pi {\\left(\\Im \\left( x_{1} \\right)^{2} - 2 \\, \\Im \\left( x_{1} \\right) \\Im \\left( x_{2} \\right) + \\Im \\left( x_{2} \\right)^{2} + \\Im \\left( y_{1} \\right)^{2} - 2 \\, \\Im \\left( y_{1} \\right) \\Im \\left( y_{2} \\right) + \\Im \\left( y_{2} \\right)^{2} - 2 \\, \\Im \\left( y_{1} \\right) \\Re \\left( x_{1} \\right) + 2 \\, \\Im \\left( y_{2} \\right) \\Re \\left( x_{1} \\right) + \\Re \\left( x_{1} \\right)^{2} + 2 \\, \\Im \\left( y_{1} \\right) \\Re \\left( x_{2} \\right) - 2 \\, \\Im \\left( y_{2} \\right) \\Re \\left( x_{2} \\right) - 2 \\, \\Re \\left( x_{1} \\right) \\Re \\left( x_{2} \\right) + \\Re \\left( x_{2} \\right)^{2} + 2 \\, \\Im \\left( x_{1} \\right) \\Re \\left( y_{1} \\right) - 2 \\, \\Im \\left( x_{2} \\right) \\Re \\left( y_{1} \\right) + \\Re \\left( y_{1} \\right)^{2} - 2 \\, \\Im \\left( x_{1} \\right) \\Re \\left( y_{2} \\right) + 2 \\, \\Im \\left( x_{2} \\right) \\Re \\left( y_{2} \\right) - 2 \\, \\Re \\left( y_{1} \\right) \\Re \\left( y_{2} \\right) + \\Re \\left( y_{2} \\right)^{2}\\right)}} + \\frac{\\Im \\left( r_{1} \\right) \\Re \\left( x_{1} \\right)}{2 \\, \\pi {\\left(\\Im \\left( x_{1} \\right)^{2} - 2 \\, \\Im \\left( x_{1} \\right) \\Im \\left( x_{2} \\right) + \\Im \\left( x_{2} \\right)^{2} + \\Im \\left( y_{1} \\right)^{2} - 2 \\, \\Im \\left( y_{1} \\right) \\Im \\left( y_{2} \\right) + \\Im \\left( y_{2} \\right)^{2} - 2 \\, \\Im \\left( y_{1} \\right) \\Re \\left( x_{1} \\right) + 2 \\, \\Im \\left( y_{2} \\right) \\Re \\left( x_{1} \\right) + \\Re \\left( x_{1} \\right)^{2} + 2 \\, \\Im \\left( y_{1} \\right) \\Re \\left( x_{2} \\right) - 2 \\, \\Im \\left( y_{2} \\right) \\Re \\left( x_{2} \\right) - 2 \\, \\Re \\left( x_{1} \\right) \\Re \\left( x_{2} \\right) + \\Re \\left( x_{2} \\right)^{2} + 2 \\, \\Im \\left( x_{1} \\right) \\Re \\left( y_{1} \\right) - 2 \\, \\Im \\left( x_{2} \\right) \\Re \\left( y_{1} \\right) + \\Re \\left( y_{1} \\right)^{2} - 2 \\, \\Im \\left( x_{1} \\right) \\Re \\left( y_{2} \\right) + 2 \\, \\Im \\left( x_{2} \\right) \\Re \\left( y_{2} \\right) - 2 \\, \\Re \\left( y_{1} \\right) \\Re \\left( y_{2} \\right) + \\Re \\left( y_{2} \\right)^{2}\\right)}} - \\frac{\\Im \\left( r_{1} \\right) \\Re \\left( x_{2} \\right)}{2 \\, \\pi {\\left(\\Im \\left( x_{1} \\right)^{2} - 2 \\, \\Im \\left( x_{1} \\right) \\Im \\left( x_{2} \\right) + \\Im \\left( x_{2} \\right)^{2} + \\Im \\left( y_{1} \\right)^{2} - 2 \\, \\Im \\left( y_{1} \\right) \\Im \\left( y_{2} \\right) + \\Im \\left( y_{2} \\right)^{2} - 2 \\, \\Im \\left( y_{1} \\right) \\Re \\left( x_{1} \\right) + 2 \\, \\Im \\left( y_{2} \\right) \\Re \\left( x_{1} \\right) + \\Re \\left( x_{1} \\right)^{2} + 2 \\, \\Im \\left( y_{1} \\right) \\Re \\left( x_{2} \\right) - 2 \\, \\Im \\left( y_{2} \\right) \\Re \\left( x_{2} \\right) - 2 \\, \\Re \\left( x_{1} \\right) \\Re \\left( x_{2} \\right) + \\Re \\left( x_{2} \\right)^{2} + 2 \\, \\Im \\left( x_{1} \\right) \\Re \\left( y_{1} \\right) - 2 \\, \\Im \\left( x_{2} \\right) \\Re \\left( y_{1} \\right) + \\Re \\left( y_{1} \\right)^{2} - 2 \\, \\Im \\left( x_{1} \\right) \\Re \\left( y_{2} \\right) + 2 \\, \\Im \\left( x_{2} \\right) \\Re \\left( y_{2} \\right) - 2 \\, \\Re \\left( y_{1} \\right) \\Re \\left( y_{2} \\right) + \\Re \\left( y_{2} \\right)^{2}\\right)}} - \\frac{\\Re \\left( r_{1} \\right) \\Re \\left( y_{1} \\right)}{2 \\, \\pi {\\left(\\Im \\left( x_{1} \\right)^{2} - 2 \\, \\Im \\left( x_{1} \\right) \\Im \\left( x_{2} \\right) + \\Im \\left( x_{2} \\right)^{2} + \\Im \\left( y_{1} \\right)^{2} - 2 \\, \\Im \\left( y_{1} \\right) \\Im \\left( y_{2} \\right) + \\Im \\left( y_{2} \\right)^{2} - 2 \\, \\Im \\left( y_{1} \\right) \\Re \\left( x_{1} \\right) + 2 \\, \\Im \\left( y_{2} \\right) \\Re \\left( x_{1} \\right) + \\Re \\left( x_{1} \\right)^{2} + 2 \\, \\Im \\left( y_{1} \\right) \\Re \\left( x_{2} \\right) - 2 \\, \\Im \\left( y_{2} \\right) \\Re \\left( x_{2} \\right) - 2 \\, \\Re \\left( x_{1} \\right) \\Re \\left( x_{2} \\right) + \\Re \\left( x_{2} \\right)^{2} + 2 \\, \\Im \\left( x_{1} \\right) \\Re \\left( y_{1} \\right) - 2 \\, \\Im \\left( x_{2} \\right) \\Re \\left( y_{1} \\right) + \\Re \\left( y_{1} \\right)^{2} - 2 \\, \\Im \\left( x_{1} \\right) \\Re \\left( y_{2} \\right) + 2 \\, \\Im \\left( x_{2} \\right) \\Re \\left( y_{2} \\right) - 2 \\, \\Re \\left( y_{1} \\right) \\Re \\left( y_{2} \\right) + \\Re \\left( y_{2} \\right)^{2}\\right)}} + \\frac{\\Re \\left( r_{1} \\right) \\Re \\left( y_{2} \\right)}{2 \\, \\pi {\\left(\\Im \\left( x_{1} \\right)^{2} - 2 \\, \\Im \\left( x_{1} \\right) \\Im \\left( x_{2} \\right) + \\Im \\left( x_{2} \\right)^{2} + \\Im \\left( y_{1} \\right)^{2} - 2 \\, \\Im \\left( y_{1} \\right) \\Im \\left( y_{2} \\right) + \\Im \\left( y_{2} \\right)^{2} - 2 \\, \\Im \\left( y_{1} \\right) \\Re \\left( x_{1} \\right) + 2 \\, \\Im \\left( y_{2} \\right) \\Re \\left( x_{1} \\right) + \\Re \\left( x_{1} \\right)^{2} + 2 \\, \\Im \\left( y_{1} \\right) \\Re \\left( x_{2} \\right) - 2 \\, \\Im \\left( y_{2} \\right) \\Re \\left( x_{2} \\right) - 2 \\, \\Re \\left( x_{1} \\right) \\Re \\left( x_{2} \\right) + \\Re \\left( x_{2} \\right)^{2} + 2 \\, \\Im \\left( x_{1} \\right) \\Re \\left( y_{1} \\right) - 2 \\, \\Im \\left( x_{2} \\right) \\Re \\left( y_{1} \\right) + \\Re \\left( y_{1} \\right)^{2} - 2 \\, \\Im \\left( x_{1} \\right) \\Re \\left( y_{2} \\right) + 2 \\, \\Im \\left( x_{2} \\right) \\Re \\left( y_{2} \\right) - 2 \\, \\Re \\left( y_{1} \\right) \\Re \\left( y_{2} \\right) + \\Re \\left( y_{2} \\right)^{2}\\right)}} - \\Im \\left( v \\right) - \\Re \\left( u \\right) $"
      ],
      "text/plain": [
       "<IPython.core.display.Markdown object>"
      ]
     },
     "metadata": {},
     "output_type": "display_data"
    },
    {
     "ename": "AttributeError",
     "evalue": "'NoneType' object has no attribute 'full_simplify'",
     "output_type": "error",
     "traceback": [
      "\u001b[0;31m---------------------------------------------------------------------------\u001b[0m",
      "\u001b[0;31mAttributeError\u001b[0m                            Traceback (most recent call last)",
      "\u001b[0;32m~/Documents/Work/Homework/Uni/Year 5/YLP/notebooks/implicit.py\u001b[0m in \u001b[0;36m<module>\u001b[0;34m\u001b[0m\n\u001b[0;32m----> 1\u001b[0;31m \u001b[0mlprint\u001b[0m\u001b[0;34m(\u001b[0m\u001b[0mget_funcs\u001b[0m\u001b[0;34m(\u001b[0m\u001b[0mInteger\u001b[0m\u001b[0;34m(\u001b[0m\u001b[0;36m2\u001b[0m\u001b[0;34m)\u001b[0m\u001b[0;34m)\u001b[0m\u001b[0;34m[\u001b[0m\u001b[0mInteger\u001b[0m\u001b[0;34m(\u001b[0m\u001b[0;36m0\u001b[0m\u001b[0;34m)\u001b[0m\u001b[0;34m]\u001b[0m\u001b[0;34m)\u001b[0m\u001b[0;34m.\u001b[0m\u001b[0mfull_simplify\u001b[0m\u001b[0;34m(\u001b[0m\u001b[0;34m)\u001b[0m\u001b[0;34m\u001b[0m\u001b[0;34m\u001b[0m\u001b[0m\n\u001b[0m",
      "\u001b[0;31mAttributeError\u001b[0m: 'NoneType' object has no attribute 'full_simplify'"
     ]
    }
   ],
   "source": [
    "lprint(get_funcs(2)[0]).full_simplify()"
   ]
  },
  {
   "cell_type": "code",
   "execution_count": 17,
   "metadata": {},
   "outputs": [
    {
     "data": {
      "text/plain": [
       "r1/(z1 + z2)"
      ]
     },
     "execution_count": 17,
     "metadata": {},
     "output_type": "execute_result"
    }
   ],
   "source": [
    "r1/(z1 + z2)"
   ]
  },
  {
   "cell_type": "code",
   "execution_count": null,
   "metadata": {},
   "outputs": [],
   "source": []
  }
 ],
 "metadata": {
  "kernelspec": {
   "display_name": "SageMath 9.2",
   "language": "sage",
   "name": "sagemath"
  },
  "language_info": {
   "codemirror_mode": {
    "name": "ipython",
    "version": 3
   },
   "file_extension": ".py",
   "mimetype": "text/x-python",
   "name": "python",
   "nbconvert_exporter": "python",
   "pygments_lexer": "ipython3",
   "version": "3.7.7"
  }
 },
 "nbformat": 4,
 "nbformat_minor": 4
}
