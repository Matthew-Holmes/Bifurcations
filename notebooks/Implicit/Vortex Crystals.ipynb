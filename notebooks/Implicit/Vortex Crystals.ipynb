{
 "cells": [
  {
   "cell_type": "markdown",
   "metadata": {},
   "source": [
    "# Vortex Crystals"
   ]
  },
  {
   "cell_type": "code",
   "execution_count": 1,
   "metadata": {},
   "outputs": [],
   "source": [
    "from IPython.display import display, Markdown\n",
    "def latexify(x):\n",
    "    out = '$' + x + '$'\n",
    "    return out\n",
    "\n",
    "def lprint(x):\n",
    "    display(Markdown(latexify(latex(x))))\n",
    "    \n",
    "%run -i 'implicit.py'"
   ]
  },
  {
   "cell_type": "markdown",
   "metadata": {},
   "source": [
    "Here we investigate a more complicated example"
   ]
  },
  {
   "cell_type": "markdown",
   "metadata": {},
   "source": [
    "Consider $n$ points in $\\mathbb{R}^2$\n",
    "\n",
    "$z_{1}, ... , z_{n}$"
   ]
  },
  {
   "cell_type": "markdown",
   "metadata": {},
   "source": [
    "Each rotation with angular speed $\\Gamma _{i}$"
   ]
  },
  {
   "cell_type": "markdown",
   "metadata": {},
   "source": [
    "We are interested in critical points of the function:\n",
    "\n",
    "$$ -\\frac{1}{4\\pi} \\sum_{i \\neq j}{\\Gamma_{i} \\Gamma_{j} \\log | z_{i} - z_{j} |} - u \\sum {\\Gamma_{i} y_{i} } + \\frac{\\omega}{2} \\sum{\\Gamma_{i} |z_{i}| ^2} + v \\sum{\\Gamma_{i} x_{i}}   $$"
   ]
  },
  {
   "cell_type": "markdown",
   "metadata": {},
   "source": [
    "Viewing the $z_{i}$ points in $\\mathbb{C}$ with $z = x + yi$, these critical points are solutions of the equations:\n",
    "\n",
    "$$u - iv - i \\omega \\bar{z_{j}} = \\frac{1}{2 \\pi i}  \\sum_{i \\neq j}{\\frac{\\Gamma_{i}}{z_{j} - z_{i}}} \\;\\;\\;\\; j = 1,...,n $$"
   ]
  },
  {
   "cell_type": "markdown",
   "metadata": {},
   "source": [
    "Expanding this out by setting $z_{i} = x_{i} + y_{i}i$ we have:\n",
    "\n",
    "$$u - iv - i \\omega (x_{j} - y_{j}i) = \\frac{1}{2 \\pi i}  \\sum_{i \\neq j}{\\frac{\\Gamma_{i}}{(x_{i} - x_{j}) + (y_{i} - y_{j})i}} \\;\\;\\;\\; j = 1,...,n $$"
   ]
  },
  {
   "cell_type": "markdown",
   "metadata": {},
   "source": [
    "Applying the reciprocal formula:\n",
    "$$u - iv - \\omega x_{j} i - \\omega y_{j} = -i \\frac{1}{2 \\pi}  \\sum_{i \\neq j}{\\Gamma_{i}} \\frac{x_{i} - x_{j}}{(x_{i} - x_{j})^2 + (y_{i} - y_{j})^2} + \\Gamma_{i} \\frac{y_{i} - y_{j}}{(x_{i} - x_{j})^2 + (y_{i} - y_{j})^2}i\\;\\;\\;\\; j = 1,...,n $$"
   ]
  },
  {
   "cell_type": "markdown",
   "metadata": {},
   "source": [
    "Multiplying through the $i$:\n",
    "$$u - iv - \\omega x_{j} i - \\omega y_{j} =  \\frac{1}{2 \\pi}  \\sum_{i \\neq j}{-\\Gamma_{i}} \\frac{x_{i} - x_{j}}{(x_{i} - x_{j})^2 + (y_{i} - y_{j})^2}i + \\Gamma_{i} \\frac{y_{i} - y_{j}}{(x_{i} - x_{j})^2 + (y_{i} - y_{j})^2}\\;\\;\\;\\; j = 1,...,n $$"
   ]
  },
  {
   "cell_type": "markdown",
   "metadata": {},
   "source": [
    "So we get the following two sets of equations:\n",
    "\n",
    "$$u - \\omega y_{j} = \\frac{1}{2 \\pi} \\sum_{i \\neq j}{\\Gamma_{i} \\frac{y_{i} - y_{j}}{(x_{i} - x_{j})^2 + (y_{i} - y_{j})^2}} \\;\\;\\;\\; j = 1,...,n$$\n",
    "\n",
    "$$v + \\omega x_{j} = \\frac{1}{2 \\pi} \\sum_{i \\neq j}{\\Gamma_{i}} \\frac{x_{i} - x_{j}}{(x_{i} - x_{j})^2 + (y_{i} - y_{j})^2} \\;\\;\\;\\; j = 1,...,n$$"
   ]
  },
  {
   "cell_type": "markdown",
   "metadata": {},
   "source": [
    "## Building the equations programmatically"
   ]
  },
  {
   "cell_type": "markdown",
   "metadata": {},
   "source": [
    "lets be able to specify the values to input"
   ]
  },
  {
   "cell_type": "code",
   "execution_count": 2,
   "metadata": {},
   "outputs": [],
   "source": [
    "def get_funcs(n):\n",
    "    # returns a set of equations to solve\n",
    "    var_dict = {}\n",
    "    for i in range(1,n+1):\n",
    "        var_dict['x{}'.format(i)] = var('x{}'.format(i))\n",
    "        var_dict['y{}'.format(i)] = var('y{}'.format(i))\n",
    "        var_dict['r{}'.format(i)] = var('r{}'.format(i))\n",
    "        \n",
    "         \n",
    "    var_dict['u'] = var('u')\n",
    "    var_dict['v'] = var('v')\n",
    "    var_dict['w'] = var('w')\n",
    "    \n",
    "    funcs = []\n",
    "    for j in range(1,n+1):\n",
    "        xj = var_dict['x{}'.format(j)]\n",
    "        yj = var_dict['y{}'.format(j)]\n",
    "        rj = var_dict['r{}'.format(j)]\n",
    "        funcr = u - w*yj - (rj/(2*pi))*sum([(yj - var_dict['y{}'.format(i)]) /\n",
    "            (  (xj - var_dict['x{}'.format(i)])^2 + (yj - var_dict['y{}'.format(i)])^2)\n",
    "            for i in range(1, n+1) if i != j])\n",
    "        \n",
    "        funci = v + w*xj - (rj/(2*pi))*sum([(xj - var_dict['x{}'.format(i)]) /\n",
    "            (  (xj - var_dict['x{}'.format(i)])^2 + (yj - var_dict['y{}'.format(i)])^2)\n",
    "            for i in range(1, n+1) if i != j])\n",
    "        \n",
    "        funcs.append(funcr)\n",
    "        funcs.append(funci)\n",
    "        \n",
    "    return funcs, var_dict\n",
    "    "
   ]
  },
  {
   "cell_type": "code",
   "execution_count": 3,
   "metadata": {},
   "outputs": [
    {
     "data": {
      "text/markdown": [
       "$ \\left[-w y_{1} + u - \\frac{r_{1} {\\left(y_{1} - y_{2}\\right)}}{2 \\, \\pi {\\left({\\left(x_{1} - x_{2}\\right)}^{2} + {\\left(y_{1} - y_{2}\\right)}^{2}\\right)}}, w x_{1} + v - \\frac{r_{1} {\\left(x_{1} - x_{2}\\right)}}{2 \\, \\pi {\\left({\\left(x_{1} - x_{2}\\right)}^{2} + {\\left(y_{1} - y_{2}\\right)}^{2}\\right)}}, -w y_{2} + u + \\frac{r_{2} {\\left(y_{1} - y_{2}\\right)}}{2 \\, \\pi {\\left({\\left(x_{1} - x_{2}\\right)}^{2} + {\\left(y_{1} - y_{2}\\right)}^{2}\\right)}}, w x_{2} + v + \\frac{r_{2} {\\left(x_{1} - x_{2}\\right)}}{2 \\, \\pi {\\left({\\left(x_{1} - x_{2}\\right)}^{2} + {\\left(y_{1} - y_{2}\\right)}^{2}\\right)}}\\right] $"
      ],
      "text/plain": [
       "<IPython.core.display.Markdown object>"
      ]
     },
     "metadata": {},
     "output_type": "display_data"
    }
   ],
   "source": [
    "lprint(get_funcs(2)[0])"
   ]
  },
  {
   "cell_type": "markdown",
   "metadata": {},
   "source": [
    "$$u - \\omega y_{j} = \\frac{1}{2 \\pi} \\sum_{i \\neq j}{\\Gamma_{i} \\frac{y_{i} - y_{j}}{(x_{i} - x_{j})^2 + (y_{i} - y_{j})^2}} \\;\\;\\;\\; j = 1,...,n$$\n",
    "\n",
    "$$v + \\omega x_{j} = \\frac{1}{2 \\pi} \\sum_{i \\neq j}{\\Gamma_{i}} \\frac{x_{i} - x_{j}}{(x_{i} - x_{j})^2 + (y_{i} - y_{j})^2} \\;\\;\\;\\; j = 1,...,n$$"
   ]
  },
  {
   "cell_type": "markdown",
   "metadata": {},
   "source": [
    "## Doing Crandall-Rabinowitz"
   ]
  },
  {
   "cell_type": "markdown",
   "metadata": {},
   "source": [
    "Now lets follow the same process as before, it is apparent that for any $x,y$ values that there is a solution for\n",
    "\n",
    "$$u = v = \\omega = \\Gamma_{i} = 0$$"
   ]
  },
  {
   "cell_type": "markdown",
   "metadata": {},
   "source": [
    "### $n = 2$"
   ]
  },
  {
   "cell_type": "markdown",
   "metadata": {},
   "source": [
    "Lets try an example with $n = 2$ and set \n",
    "\n",
    "$$ x_{1} = 1 \\;\\;\\;\\; x_{2} = -1$$\n",
    "$$ y_{1} = y_{2} = 0 $$"
   ]
  },
  {
   "cell_type": "code",
   "execution_count": 4,
   "metadata": {},
   "outputs": [
    {
     "data": {
      "text/markdown": [
       "$ \\left[-w y_{1} + u - \\frac{r_{1} {\\left(y_{1} - y_{2}\\right)}}{2 \\, \\pi {\\left({\\left(x_{1} - x_{2}\\right)}^{2} + {\\left(y_{1} - y_{2}\\right)}^{2}\\right)}}, w x_{1} + v - \\frac{r_{1} {\\left(x_{1} - x_{2}\\right)}}{2 \\, \\pi {\\left({\\left(x_{1} - x_{2}\\right)}^{2} + {\\left(y_{1} - y_{2}\\right)}^{2}\\right)}}, -w y_{2} + u + \\frac{r_{2} {\\left(y_{1} - y_{2}\\right)}}{2 \\, \\pi {\\left({\\left(x_{1} - x_{2}\\right)}^{2} + {\\left(y_{1} - y_{2}\\right)}^{2}\\right)}}, w x_{2} + v + \\frac{r_{2} {\\left(x_{1} - x_{2}\\right)}}{2 \\, \\pi {\\left({\\left(x_{1} - x_{2}\\right)}^{2} + {\\left(y_{1} - y_{2}\\right)}^{2}\\right)}}\\right] $"
      ],
      "text/plain": [
       "<IPython.core.display.Markdown object>"
      ]
     },
     "metadata": {},
     "output_type": "display_data"
    }
   ],
   "source": [
    "funcs, var_dict = get_funcs(2)\n",
    "lprint(funcs)"
   ]
  },
  {
   "cell_type": "markdown",
   "metadata": {},
   "source": [
    "Now lets centralise everything so that we always are considering solutions branching off from zero at all variables"
   ]
  },
  {
   "cell_type": "code",
   "execution_count": 5,
   "metadata": {},
   "outputs": [],
   "source": [
    "position = {'u' : 0, 'v' : 0, 'w' : 0, 'r1' : 0, 'r2' : 0, 'x1' : 1, 'x2' : -1, 'y1' : 0, 'y2' : 0}"
   ]
  },
  {
   "cell_type": "code",
   "execution_count": 6,
   "metadata": {},
   "outputs": [],
   "source": [
    "new_funcs = []\n",
    "for func in funcs:\n",
    "    new_func = func(*[var_dict[str(var)] + position[str(var)] for var in func.variables()])\n",
    "    new_funcs.append(new_func)"
   ]
  },
  {
   "cell_type": "code",
   "execution_count": 7,
   "metadata": {},
   "outputs": [
    {
     "data": {
      "text/markdown": [
       "$ \\left[-w y_{1} + u - \\frac{r_{1} {\\left(y_{1} - y_{2}\\right)}}{2 \\, \\pi {\\left({\\left(x_{1} - x_{2} + 2\\right)}^{2} + {\\left(y_{1} - y_{2}\\right)}^{2}\\right)}}, w {\\left(x_{1} + 1\\right)} + v - \\frac{r_{1} {\\left(x_{1} - x_{2} + 2\\right)}}{2 \\, \\pi {\\left({\\left(x_{1} - x_{2} + 2\\right)}^{2} + {\\left(y_{1} - y_{2}\\right)}^{2}\\right)}}, -w y_{2} + u + \\frac{r_{2} {\\left(y_{1} - y_{2}\\right)}}{2 \\, \\pi {\\left({\\left(x_{1} - x_{2} + 2\\right)}^{2} + {\\left(y_{1} - y_{2}\\right)}^{2}\\right)}}, w {\\left(x_{2} - 1\\right)} + v + \\frac{r_{2} {\\left(x_{1} - x_{2} + 2\\right)}}{2 \\, \\pi {\\left({\\left(x_{1} - x_{2} + 2\\right)}^{2} + {\\left(y_{1} - y_{2}\\right)}^{2}\\right)}}\\right] $"
      ],
      "text/plain": [
       "<IPython.core.display.Markdown object>"
      ]
     },
     "metadata": {},
     "output_type": "display_data"
    }
   ],
   "source": [
    "lprint(new_funcs)"
   ]
  },
  {
   "cell_type": "markdown",
   "metadata": {},
   "source": [
    "#### Orthogonalising the kernel"
   ]
  },
  {
   "cell_type": "code",
   "execution_count": 8,
   "metadata": {},
   "outputs": [
    {
     "data": {
      "text/markdown": [
       "$ \\left(\\begin{array}{rrrrrrrrr}\n",
       "0 & 0 & 0 & 0 & 0 & 0 & 1 & 0 & 0 \\\\\n",
       "0 & 0 & -\\frac{1}{4 \\, \\pi} & 0 & 0 & 0 & 0 & 1 & 1 \\\\\n",
       "0 & 0 & 0 & 0 & 0 & 0 & 1 & 0 & 0 \\\\\n",
       "0 & 0 & 0 & 0 & 0 & \\frac{1}{4 \\, \\pi} & 0 & 1 & -1\n",
       "\\end{array}\\right) $"
      ],
      "text/plain": [
       "<IPython.core.display.Markdown object>"
      ]
     },
     "metadata": {},
     "output_type": "display_data"
    }
   ],
   "source": [
    "J = jacobian(new_funcs,tuple(var_dict.values()))(**{var : 0 for var in var_dict.keys()})\n",
    "lprint(J)"
   ]
  },
  {
   "cell_type": "markdown",
   "metadata": {},
   "source": [
    "We see that the Jacobian matrix is not square, but hopefully we can still proceed"
   ]
  },
  {
   "cell_type": "code",
   "execution_count": 9,
   "metadata": {},
   "outputs": [
    {
     "data": {
      "text/markdown": [
       "$ \\left[\\left(1,\\,0,\\,0,\\,0,\\,0,\\,0,\\,0,\\,0,\\,0\\right), \\left(0,\\,1,\\,0,\\,0,\\,0,\\,0,\\,0,\\,0,\\,0\\right), \\left(0,\\,0,\\,1,\\,0,\\,0,\\,0,\\,0,\\,\\frac{1}{8 \\, \\pi},\\,\\frac{1}{8 \\, \\pi}\\right), \\left(0,\\,0,\\,0,\\,1,\\,0,\\,0,\\,0,\\,0,\\,0\\right), \\left(0,\\,0,\\,0,\\,0,\\,1,\\,0,\\,0,\\,0,\\,0\\right), \\left(0,\\,0,\\,0,\\,0,\\,0,\\,1,\\,0,\\,-\\frac{1}{8 \\, \\pi},\\,\\frac{1}{8 \\, \\pi}\\right)\\right] $"
      ],
      "text/plain": [
       "<IPython.core.display.Markdown object>"
      ]
     },
     "metadata": {},
     "output_type": "display_data"
    }
   ],
   "source": [
    "K = J.right_kernel().basis()\n",
    "lprint(K)"
   ]
  },
  {
   "cell_type": "code",
   "execution_count": 10,
   "metadata": {},
   "outputs": [
    {
     "data": {
      "text/markdown": [
       "$ \\left[\\left(0,\\,0,\\,1,\\,0,\\,0,\\,0,\\,0,\\,-4 \\, \\pi,\\,-4 \\, \\pi\\right), \\left(0,\\,0,\\,0,\\,0,\\,0,\\,1,\\,0,\\,4 \\, \\pi,\\,-4 \\, \\pi\\right), \\left(0,\\,0,\\,0,\\,0,\\,0,\\,0,\\,1,\\,0,\\,0\\right)\\right] $"
      ],
      "text/plain": [
       "<IPython.core.display.Markdown object>"
      ]
     },
     "metadata": {},
     "output_type": "display_data"
    }
   ],
   "source": [
    "Kperp = matrix(K).right_kernel().basis()\n",
    "lprint(Kperp)"
   ]
  },
  {
   "cell_type": "code",
   "execution_count": 11,
   "metadata": {},
   "outputs": [
    {
     "data": {
      "text/markdown": [
       "$ \\left(\\begin{array}{rrrrrrrrr}\n",
       "1 & 0 & 0 & 0 & 0 & 0 & 0 & 0 & 0 \\\\\n",
       "0 & 1 & 0 & 0 & 0 & 0 & 0 & 0 & 0 \\\\\n",
       "0 & 0 & -\\frac{1}{\\pi {\\left(32 \\, \\pi + \\frac{1}{\\pi}\\right)}} + 1 & 0 & 0 & 0 & \\frac{1}{\\pi {\\left(32 \\, \\pi + \\frac{1}{\\pi}\\right)}} & 0 & 0 \\\\\n",
       "0 & 0 & 0 & 1 & 0 & 0 & 0 & 0 & 0 \\\\\n",
       "0 & 0 & 0 & 0 & 1 & 0 & 0 & 0 & 0 \\\\\n",
       "0 & 0 & 0 & 0 & 0 & -\\frac{1}{\\pi {\\left(32 \\, \\pi + \\frac{1}{\\pi}\\right)}} + 1 & 0 & \\frac{1}{\\pi {\\left(32 \\, \\pi + \\frac{1}{\\pi}\\right)}} & 0 \\\\\n",
       "0 & 0 & 0 & 0 & 0 & 0 & 0 & 0 & 1 \\\\\n",
       "0 & 0 & \\frac{4}{32 \\, \\pi + \\frac{1}{\\pi}} & 0 & 0 & -\\frac{4}{32 \\, \\pi + \\frac{1}{\\pi}} & -\\frac{4}{32 \\, \\pi + \\frac{1}{\\pi}} & \\frac{4}{32 \\, \\pi + \\frac{1}{\\pi}} & 0 \\\\\n",
       "0 & 0 & \\frac{4}{32 \\, \\pi + \\frac{1}{\\pi}} & 0 & 0 & \\frac{4}{32 \\, \\pi + \\frac{1}{\\pi}} & -\\frac{4}{32 \\, \\pi + \\frac{1}{\\pi}} & -\\frac{4}{32 \\, \\pi + \\frac{1}{\\pi}} & 0\n",
       "\\end{array}\\right) $"
      ],
      "text/plain": [
       "<IPython.core.display.Markdown object>"
      ]
     },
     "metadata": {},
     "output_type": "display_data"
    }
   ],
   "source": [
    "A = matrix(K+Kperp).inverse()\n",
    "lprint(A) # inverse so is change of basis"
   ]
  },
  {
   "cell_type": "code",
   "execution_count": 12,
   "metadata": {},
   "outputs": [],
   "source": [
    "key_list = [str(var) for var in var_dict.values()]\n",
    "value_list = list(A*vector(var_dict.values()))\n",
    "mutate_dict = dict(zip(key_list, value_list))"
   ]
  },
  {
   "cell_type": "markdown",
   "metadata": {},
   "source": [
    "Lets create the new combined input variables"
   ]
  },
  {
   "cell_type": "code",
   "execution_count": 13,
   "metadata": {},
   "outputs": [],
   "source": [
    "Afuncs = [func(**mutate_dict) for func in new_funcs]"
   ]
  },
  {
   "cell_type": "code",
   "execution_count": 14,
   "metadata": {},
   "outputs": [
    {
     "data": {
      "text/markdown": [
       "$ -4 \\, y_{1} {\\left(\\frac{r_{1}}{32 \\, \\pi + \\frac{1}{\\pi}} + \\frac{r_{2}}{32 \\, \\pi + \\frac{1}{\\pi}} - \\frac{u}{32 \\, \\pi + \\frac{1}{\\pi}} - \\frac{v}{32 \\, \\pi + \\frac{1}{\\pi}}\\right)} + w + \\frac{{\\left(r_{1} {\\left(\\frac{1}{\\pi {\\left(32 \\, \\pi + \\frac{1}{\\pi}\\right)}} - 1\\right)} - \\frac{u}{\\pi {\\left(32 \\, \\pi + \\frac{1}{\\pi}\\right)}}\\right)} {\\left(y_{1} - y_{2}\\right)}}{2 \\, \\pi {\\left({\\left(x_{1} - x_{2} + 2\\right)}^{2} + {\\left(y_{1} - y_{2}\\right)}^{2}\\right)}} $"
      ],
      "text/plain": [
       "<IPython.core.display.Markdown object>"
      ]
     },
     "metadata": {},
     "output_type": "display_data"
    }
   ],
   "source": [
    "lprint(Afuncs[0])"
   ]
  },
  {
   "cell_type": "code",
   "execution_count": 15,
   "metadata": {},
   "outputs": [
    {
     "data": {
      "text/markdown": [
       "$ \\left(\\begin{array}{rrrrrrrrr}\n",
       "0 & 0 & 0 & 0 & 0 & 0 & 0 & 0 & 1 \\\\\n",
       "0 & 0 & \\frac{\\frac{1}{\\pi {\\left(32 \\, \\pi + \\frac{1}{\\pi}\\right)}} - 1}{4 \\, \\pi} + \\frac{8}{32 \\, \\pi + \\frac{1}{\\pi}} & 0 & 0 & 0 & -\\frac{8}{32 \\, \\pi + \\frac{1}{\\pi}} - \\frac{1}{4 \\, \\pi^{2} {\\left(32 \\, \\pi + \\frac{1}{\\pi}\\right)}} & 0 & 0 \\\\\n",
       "0 & 0 & 0 & 0 & 0 & 0 & 0 & 0 & 1 \\\\\n",
       "0 & 0 & 0 & 0 & 0 & -\\frac{\\frac{1}{\\pi {\\left(32 \\, \\pi + \\frac{1}{\\pi}\\right)}} - 1}{4 \\, \\pi} - \\frac{8}{32 \\, \\pi + \\frac{1}{\\pi}} & 0 & \\frac{8}{32 \\, \\pi + \\frac{1}{\\pi}} + \\frac{1}{4 \\, \\pi^{2} {\\left(32 \\, \\pi + \\frac{1}{\\pi}\\right)}} & 0\n",
       "\\end{array}\\right) $"
      ],
      "text/plain": [
       "<IPython.core.display.Markdown object>"
      ]
     },
     "metadata": {},
     "output_type": "display_data"
    }
   ],
   "source": [
    "Ja = jacobian(Afuncs,tuple(var_dict.values()))(**{var : 0 for var in var_dict.keys()})\n",
    "lprint(Ja)"
   ]
  },
  {
   "cell_type": "code",
   "execution_count": 16,
   "metadata": {},
   "outputs": [
    {
     "data": {
      "text/markdown": [
       "$ \\left[\\left(1,\\,0,\\,0,\\,0,\\,0,\\,0,\\,0,\\,0,\\,0\\right), \\left(0,\\,1,\\,0,\\,0,\\,0,\\,0,\\,0,\\,0,\\,0\\right), \\left(0,\\,0,\\,1,\\,0,\\,0,\\,0,\\,-\\frac{\\frac{1}{\\pi {\\left(32 \\, \\pi + \\frac{1}{\\pi}\\right)}} - 1}{4 \\, \\pi} - \\frac{8}{32 \\, \\pi + \\frac{1}{\\pi}},\\,0,\\,0\\right), \\left(0,\\,0,\\,0,\\,1,\\,0,\\,0,\\,0,\\,0,\\,0\\right), \\left(0,\\,0,\\,0,\\,0,\\,1,\\,0,\\,0,\\,0,\\,0\\right), \\left(0,\\,0,\\,0,\\,0,\\,0,\\,1,\\,0,\\,\\frac{\\frac{1}{\\pi {\\left(32 \\, \\pi + \\frac{1}{\\pi}\\right)}} - 1}{4 \\, \\pi} + \\frac{8}{32 \\, \\pi + \\frac{1}{\\pi}},\\,0\\right)\\right] $"
      ],
      "text/plain": [
       "<IPython.core.display.Markdown object>"
      ]
     },
     "metadata": {},
     "output_type": "display_data"
    }
   ],
   "source": [
    "Ka = Ja.right_kernel().basis()\n",
    "lprint(Ka)"
   ]
  },
  {
   "cell_type": "markdown",
   "metadata": {},
   "source": [
    "At first it appears this hasn't worked, but in fact the complicated expression here all evaluate to zero"
   ]
  },
  {
   "cell_type": "code",
   "execution_count": 17,
   "metadata": {},
   "outputs": [
    {
     "data": {
      "text/plain": [
       "-1/4*(1/(pi*(32*pi + 1/pi)) - 1)/pi - 8/(32*pi + 1/pi)"
      ]
     },
     "execution_count": 17,
     "metadata": {},
     "output_type": "execute_result"
    }
   ],
   "source": [
    "Ka[2][6]"
   ]
  },
  {
   "cell_type": "code",
   "execution_count": 18,
   "metadata": {},
   "outputs": [
    {
     "data": {
      "text/plain": [
       "0"
      ]
     },
     "execution_count": 18,
     "metadata": {},
     "output_type": "execute_result"
    }
   ],
   "source": [
    "Ka[2][6].full_simplify()"
   ]
  },
  {
   "cell_type": "markdown",
   "metadata": {},
   "source": [
    "### Orthogonalising the image"
   ]
  },
  {
   "cell_type": "code",
   "execution_count": 19,
   "metadata": {},
   "outputs": [
    {
     "data": {
      "text/markdown": [
       "$ \\left[\\left(0,\\,\\frac{1}{16} \\, {\\left(\\frac{\\frac{1}{\\pi {\\left(32 \\, \\pi + \\frac{1}{\\pi}\\right)}} - 1}{\\pi} + \\frac{32}{32 \\, \\pi + \\frac{1}{\\pi}}\\right)}^{2} - \\frac{8}{32 \\, \\pi + \\frac{1}{\\pi}} - \\frac{1}{4 \\, \\pi^{2} {\\left(32 \\, \\pi + \\frac{1}{\\pi}\\right)}},\\,0,\\,0\\right), \\left(0,\\,0,\\,0,\\,\\frac{1}{16} \\, {\\left(\\frac{\\frac{1}{\\pi {\\left(32 \\, \\pi + \\frac{1}{\\pi}\\right)}} - 1}{\\pi} + \\frac{32}{32 \\, \\pi + \\frac{1}{\\pi}}\\right)}^{2} + \\frac{8}{32 \\, \\pi + \\frac{1}{\\pi}} + \\frac{1}{4 \\, \\pi^{2} {\\left(32 \\, \\pi + \\frac{1}{\\pi}\\right)}}\\right), \\left(1,\\,0,\\,1,\\,0\\right)\\right] $"
      ],
      "text/plain": [
       "<IPython.core.display.Markdown object>"
      ]
     },
     "metadata": {},
     "output_type": "display_data"
    }
   ],
   "source": [
    "I = Ja.image().basis()\n",
    "I = [Ja*vec for vec in I]\n",
    "lprint(I)"
   ]
  },
  {
   "cell_type": "code",
   "execution_count": 20,
   "metadata": {},
   "outputs": [
    {
     "data": {
      "text/markdown": [
       "$ \\left[\\left(1,\\,0,\\,-1,\\,0\\right)\\right] $"
      ],
      "text/plain": [
       "<IPython.core.display.Markdown object>"
      ]
     },
     "metadata": {},
     "output_type": "display_data"
    }
   ],
   "source": [
    "Iperp = matrix(I).right_kernel().basis()\n",
    "lprint(Iperp)"
   ]
  },
  {
   "cell_type": "code",
   "execution_count": 21,
   "metadata": {},
   "outputs": [],
   "source": [
    "B = matrix(I + Iperp).inverse()\n",
    "#lprint(B)"
   ]
  },
  {
   "cell_type": "code",
   "execution_count": 22,
   "metadata": {},
   "outputs": [],
   "source": [
    "tfuncs = vector(Afuncs)*B\n",
    "#lprint(tfuncs)"
   ]
  },
  {
   "cell_type": "code",
   "execution_count": 23,
   "metadata": {},
   "outputs": [],
   "source": [
    "Jt = jacobian(tfuncs,tuple(var_dict.values()))(**{var : 0 for var in var_dict.keys()})"
   ]
  },
  {
   "cell_type": "code",
   "execution_count": 24,
   "metadata": {},
   "outputs": [
    {
     "data": {
      "text/markdown": [
       "$ \\left[\\left(\\frac{16 \\, {\\left(\\frac{\\frac{1}{\\pi {\\left(32 \\, \\pi + \\frac{1}{\\pi}\\right)}} - 1}{\\pi} + \\frac{32}{32 \\, \\pi + \\frac{1}{\\pi}}\\right)}^{2}}{{\\left({\\left(\\frac{\\frac{1}{\\pi {\\left(32 \\, \\pi + \\frac{1}{\\pi}\\right)}} - 1}{\\pi} + \\frac{32}{32 \\, \\pi + \\frac{1}{\\pi}}\\right)}^{2} - \\frac{128}{32 \\, \\pi + \\frac{1}{\\pi}} - \\frac{4}{\\pi^{2} {\\left(32 \\, \\pi + \\frac{1}{\\pi}\\right)}}\\right)}^{2}} - \\frac{4 \\, {\\left(\\frac{32}{32 \\, \\pi + \\frac{1}{\\pi}} + \\frac{1}{\\pi^{2} {\\left(32 \\, \\pi + \\frac{1}{\\pi}\\right)}}\\right)}}{{\\left(\\frac{\\frac{1}{\\pi {\\left(32 \\, \\pi + \\frac{1}{\\pi}\\right)}} - 1}{\\pi} + \\frac{32}{32 \\, \\pi + \\frac{1}{\\pi}}\\right)}^{2} - \\frac{128}{32 \\, \\pi + \\frac{1}{\\pi}} - \\frac{4}{\\pi^{2} {\\left(32 \\, \\pi + \\frac{1}{\\pi}\\right)}}},\\,0,\\,0,\\,0\\right), \\left(0,\\,\\frac{16 \\, {\\left(\\frac{\\frac{1}{\\pi {\\left(32 \\, \\pi + \\frac{1}{\\pi}\\right)}} - 1}{\\pi} + \\frac{32}{32 \\, \\pi + \\frac{1}{\\pi}}\\right)}^{2}}{{\\left({\\left(\\frac{\\frac{1}{\\pi {\\left(32 \\, \\pi + \\frac{1}{\\pi}\\right)}} - 1}{\\pi} + \\frac{32}{32 \\, \\pi + \\frac{1}{\\pi}}\\right)}^{2} + \\frac{128}{32 \\, \\pi + \\frac{1}{\\pi}} + \\frac{4}{\\pi^{2} {\\left(32 \\, \\pi + \\frac{1}{\\pi}\\right)}}\\right)}^{2}} + \\frac{4 \\, {\\left(\\frac{32}{32 \\, \\pi + \\frac{1}{\\pi}} + \\frac{1}{\\pi^{2} {\\left(32 \\, \\pi + \\frac{1}{\\pi}\\right)}}\\right)}}{{\\left(\\frac{\\frac{1}{\\pi {\\left(32 \\, \\pi + \\frac{1}{\\pi}\\right)}} - 1}{\\pi} + \\frac{32}{32 \\, \\pi + \\frac{1}{\\pi}}\\right)}^{2} + \\frac{128}{32 \\, \\pi + \\frac{1}{\\pi}} + \\frac{4}{\\pi^{2} {\\left(32 \\, \\pi + \\frac{1}{\\pi}\\right)}}},\\,0,\\,0\\right), \\left(0,\\,0,\\,1,\\,0\\right)\\right] $"
      ],
      "text/plain": [
       "<IPython.core.display.Markdown object>"
      ]
     },
     "metadata": {},
     "output_type": "display_data"
    }
   ],
   "source": [
    "It = Jt.image().basis()\n",
    "It = [Jt*vec for vec in It]\n",
    "lprint(It)"
   ]
  },
  {
   "cell_type": "code",
   "execution_count": 25,
   "metadata": {},
   "outputs": [
    {
     "data": {
      "text/plain": [
       "1"
      ]
     },
     "execution_count": 25,
     "metadata": {},
     "output_type": "execute_result"
    }
   ],
   "source": [
    "It[0][0].full_simplify()"
   ]
  },
  {
   "cell_type": "markdown",
   "metadata": {},
   "source": [
    "### Running the implicit function code"
   ]
  },
  {
   "cell_type": "markdown",
   "metadata": {},
   "source": [
    "Now we need to translate the given information into a format applicable for the implicit function code"
   ]
  },
  {
   "cell_type": "code",
   "execution_count": 26,
   "metadata": {},
   "outputs": [
    {
     "data": {
      "text/plain": [
       "{'x1': x1,\n",
       " 'y1': y1,\n",
       " 'r1': r1,\n",
       " 'x2': x2,\n",
       " 'y2': y2,\n",
       " 'r2': r2,\n",
       " 'u': u,\n",
       " 'v': v,\n",
       " 'w': w}"
      ]
     },
     "execution_count": 26,
     "metadata": {},
     "output_type": "execute_result"
    }
   ],
   "source": [
    "var_dict_old = var_dict\n",
    "var_dict_old"
   ]
  },
  {
   "cell_type": "code",
   "execution_count": 27,
   "metadata": {},
   "outputs": [],
   "source": [
    "code_funcs = [tfuncs[index] for index in [0,1,2]] # careful with computer science indexing from zero\n",
    "position = {'u' : 0, 'v' : 0, 'w' : 0, 'r1' : 0, 'r2' : 0, 'x1' : 0, 'x2' : 0, 'y1' : 0, 'y2' : 0}\n",
    "# var_dict already loaded\n",
    "var_dict = {'x1' : x1, 'x2' : y1, 'x3' : r1, 'x4' : x2, 'x5' : y2, 'x6' : r2, 'y1' : u, 'y2' : v, 'y3' : w}\n",
    "x_var_keys = [list(var_dict.keys())[index] for index in [0,1,2,3,4,5]] # the variables in the kernel\n",
    "x_dim = 6\n",
    "y_dim = 3"
   ]
  },
  {
   "cell_type": "code",
   "execution_count": 28,
   "metadata": {},
   "outputs": [
    {
     "name": "stdout",
     "output_type": "stream",
     "text": [
      "computing Taylor approximaton to 3 order for speedup\n"
     ]
    }
   ],
   "source": [
    "t_dict = TensorDict(code_funcs, position, var_dict, x_dim, y_dim)"
   ]
  },
  {
   "cell_type": "code",
   "execution_count": 29,
   "metadata": {},
   "outputs": [
    {
     "name": "stderr",
     "output_type": "stream",
     "text": [
      "100%|██████████| 1/1 [00:00<00:00, 1106.97it/s]\n",
      "100%|██████████| 1/1 [00:03<00:00,  4.00s/it]\n",
      "100%|██████████| 2/2 [00:00<00:00, 3205.43it/s]\n",
      "100%|██████████| 4/4 [00:46<00:00, 11.55s/it]\n",
      "100%|██████████| 3/3 [00:00<00:00, 1219.51it/s]\n",
      "100%|██████████| 14/14 [06:08<00:00, 26.29s/it]\n"
     ]
    }
   ],
   "source": [
    "out = get_hkx_polynomial(code_funcs, 3, x_dim, y_dim, var_dict, x_var_keys, t_dict, position)"
   ]
  },
  {
   "cell_type": "code",
   "execution_count": 30,
   "metadata": {},
   "outputs": [
    {
     "data": {
      "text/markdown": [
       "$ \\frac{1024 \\, \\pi^{4} r_{2} x_{1} x_{2}}{{\\left(32 \\, \\pi^{2} + 1\\right)}^{2}} - \\frac{8 \\, \\pi^{2} r_{1} x_{1}^{2}}{32 \\, \\pi^{2} + 1} - \\frac{32 \\, \\pi^{2} {\\left(32 \\, \\pi^{2} - 1\\right)} r_{1} x_{1}^{2}}{{\\left(32 \\, \\pi^{2} + 1\\right)}^{2}} - 16 \\, {\\left(\\frac{32 \\, \\pi^{4}}{{\\left(32 \\, \\pi^{2} + 1\\right)}^{2}} + \\frac{\\pi^{2} {\\left(32 \\, \\pi^{2} - 1\\right)}}{{\\left(32 \\, \\pi^{2} + 1\\right)}^{2}}\\right)} r_{2} x_{1}^{2} + \\frac{16 \\, \\pi^{2} r_{1} x_{1} x_{2}}{32 \\, \\pi^{2} + 1} + 16 \\, {\\left(\\frac{32 \\, \\pi^{4}}{{\\left(32 \\, \\pi^{2} + 1\\right)}^{2}} + \\frac{\\pi^{2} {\\left(32 \\, \\pi^{2} - 1\\right)}}{{\\left(32 \\, \\pi^{2} + 1\\right)}^{2}}\\right)} r_{1} x_{1} x_{2} - \\frac{8 \\, \\pi^{2} r_{1} x_{2}^{2}}{32 \\, \\pi^{2} + 1} + \\frac{8 \\, \\pi^{2} r_{1} y_{1}^{2}}{32 \\, \\pi^{2} + 1} - \\frac{16 \\, \\pi^{2} r_{1} y_{1} y_{2}}{32 \\, \\pi^{2} + 1} + \\frac{8 \\, \\pi^{2} r_{1} y_{2}^{2}}{32 \\, \\pi^{2} + 1} + \\frac{32 \\, \\pi^{2} r_{1} x_{1}}{32 \\, \\pi^{2} + 1} + \\frac{16 \\, \\pi^{2} r_{2} x_{1}}{32 \\, \\pi^{2} + 1} - \\frac{16 \\, \\pi^{2} r_{1} x_{2}}{32 \\, \\pi^{2} + 1} - \\frac{32 \\, \\pi^{2} r_{1} x_{1} x_{2}}{{\\left(32 \\, \\pi^{2} + 1\\right)}^{2}} - \\frac{16 \\, \\pi^{2} r_{2} x_{1} x_{2}}{{\\left(32 \\, \\pi^{2} + 1\\right)}^{2}} + \\frac{16 \\, \\pi^{2} r_{1} x_{2}^{2}}{{\\left(32 \\, \\pi^{2} + 1\\right)}^{2}} $"
      ],
      "text/plain": [
       "<IPython.core.display.Markdown object>"
      ]
     },
     "metadata": {},
     "output_type": "display_data"
    }
   ],
   "source": [
    "lprint(out[0])"
   ]
  },
  {
   "cell_type": "markdown",
   "metadata": {},
   "source": [
    "This is the parametrisation of the zero set of the 1st, 2nd and 3rd compoments of $\\tilde{F}$, lets substitute into the last equation, we'll use the first three terms in the taylor expansion"
   ]
  },
  {
   "cell_type": "code",
   "execution_count": 31,
   "metadata": {},
   "outputs": [
    {
     "data": {
      "text/markdown": [
       "$ \\left(-\\frac{3 \\, \\pi^{2}}{2 \\, {\\left(\\pi + 32 \\, \\pi^{3}\\right)}}\\right) r_{1} x_{1}^{2} y_{1} + \\left(-\\frac{3 \\, \\pi^{2}}{2 \\, {\\left(\\pi + 32 \\, \\pi^{3}\\right)}}\\right) r_{2} x_{1}^{2} y_{1} + \\left(-\\frac{3}{64 \\, {\\left(\\pi + 32 \\, \\pi^{3}\\right)}}\\right) u x_{1}^{2} y_{1} + \\left(-\\frac{3}{64 \\, {\\left(\\pi + 32 \\, \\pi^{3}\\right)}}\\right) v x_{1}^{2} y_{1} + \\left(\\frac{3 \\, \\pi^{2}}{\\pi + 32 \\, \\pi^{3}}\\right) r_{1} x_{1} x_{2} y_{1} + \\left(\\frac{3 \\, \\pi^{2}}{\\pi + 32 \\, \\pi^{3}}\\right) r_{2} x_{1} x_{2} y_{1} + \\left(\\frac{3}{32 \\, {\\left(\\pi + 32 \\, \\pi^{3}\\right)}}\\right) u x_{1} x_{2} y_{1} + \\left(\\frac{3}{32 \\, {\\left(\\pi + 32 \\, \\pi^{3}\\right)}}\\right) v x_{1} x_{2} y_{1} + \\left(-\\frac{3 \\, \\pi^{2}}{2 \\, {\\left(\\pi + 32 \\, \\pi^{3}\\right)}}\\right) r_{1} x_{2}^{2} y_{1} + \\left(-\\frac{3 \\, \\pi^{2}}{2 \\, {\\left(\\pi + 32 \\, \\pi^{3}\\right)}}\\right) r_{2} x_{2}^{2} y_{1} + \\left(-\\frac{3}{64 \\, {\\left(\\pi + 32 \\, \\pi^{3}\\right)}}\\right) u x_{2}^{2} y_{1} + \\left(-\\frac{3}{64 \\, {\\left(\\pi + 32 \\, \\pi^{3}\\right)}}\\right) v x_{2}^{2} y_{1} + \\left(\\frac{\\pi^{2}}{2 \\, {\\left(\\pi + 32 \\, \\pi^{3}\\right)}}\\right) r_{1} y_{1}^{3} + \\left(\\frac{\\pi^{2}}{2 \\, {\\left(\\pi + 32 \\, \\pi^{3}\\right)}}\\right) r_{2} y_{1}^{3} + \\left(\\frac{1}{64 \\, {\\left(\\pi + 32 \\, \\pi^{3}\\right)}}\\right) u y_{1}^{3} + \\left(\\frac{1}{64 \\, {\\left(\\pi + 32 \\, \\pi^{3}\\right)}}\\right) v y_{1}^{3} + \\left(\\frac{3 \\, \\pi^{2}}{2 \\, {\\left(\\pi + 32 \\, \\pi^{3}\\right)}}\\right) r_{1} x_{1}^{2} y_{2} + \\left(\\frac{3 \\, \\pi^{2}}{2 \\, {\\left(\\pi + 32 \\, \\pi^{3}\\right)}}\\right) r_{2} x_{1}^{2} y_{2} + \\left(\\frac{3}{64 \\, {\\left(\\pi + 32 \\, \\pi^{3}\\right)}}\\right) u x_{1}^{2} y_{2} + \\left(\\frac{3}{64 \\, {\\left(\\pi + 32 \\, \\pi^{3}\\right)}}\\right) v x_{1}^{2} y_{2} + \\left(-\\frac{3 \\, \\pi^{2}}{\\pi + 32 \\, \\pi^{3}}\\right) r_{1} x_{1} x_{2} y_{2} + \\left(-\\frac{3 \\, \\pi^{2}}{\\pi + 32 \\, \\pi^{3}}\\right) r_{2} x_{1} x_{2} y_{2} + \\left(-\\frac{3}{32 \\, {\\left(\\pi + 32 \\, \\pi^{3}\\right)}}\\right) u x_{1} x_{2} y_{2} + \\left(-\\frac{3}{32 \\, {\\left(\\pi + 32 \\, \\pi^{3}\\right)}}\\right) v x_{1} x_{2} y_{2} + \\left(\\frac{3 \\, \\pi^{2}}{2 \\, {\\left(\\pi + 32 \\, \\pi^{3}\\right)}}\\right) r_{1} x_{2}^{2} y_{2} + \\left(\\frac{3 \\, \\pi^{2}}{2 \\, {\\left(\\pi + 32 \\, \\pi^{3}\\right)}}\\right) r_{2} x_{2}^{2} y_{2} + \\left(\\frac{3}{64 \\, {\\left(\\pi + 32 \\, \\pi^{3}\\right)}}\\right) u x_{2}^{2} y_{2} + \\left(\\frac{3}{64 \\, {\\left(\\pi + 32 \\, \\pi^{3}\\right)}}\\right) v x_{2}^{2} y_{2} + \\left(-\\frac{3 \\, \\pi^{2}}{2 \\, {\\left(\\pi + 32 \\, \\pi^{3}\\right)}}\\right) r_{1} y_{1}^{2} y_{2} + \\left(-\\frac{3 \\, \\pi^{2}}{2 \\, {\\left(\\pi + 32 \\, \\pi^{3}\\right)}}\\right) r_{2} y_{1}^{2} y_{2} + \\left(-\\frac{3}{64 \\, {\\left(\\pi + 32 \\, \\pi^{3}\\right)}}\\right) u y_{1}^{2} y_{2} + \\left(-\\frac{3}{64 \\, {\\left(\\pi + 32 \\, \\pi^{3}\\right)}}\\right) v y_{1}^{2} y_{2} + \\left(\\frac{3 \\, \\pi^{2}}{2 \\, {\\left(\\pi + 32 \\, \\pi^{3}\\right)}}\\right) r_{1} y_{1} y_{2}^{2} + \\left(\\frac{3 \\, \\pi^{2}}{2 \\, {\\left(\\pi + 32 \\, \\pi^{3}\\right)}}\\right) r_{2} y_{1} y_{2}^{2} + \\left(\\frac{3}{64 \\, {\\left(\\pi + 32 \\, \\pi^{3}\\right)}}\\right) u y_{1} y_{2}^{2} + \\left(\\frac{3}{64 \\, {\\left(\\pi + 32 \\, \\pi^{3}\\right)}}\\right) v y_{1} y_{2}^{2} + \\left(-\\frac{\\pi^{2}}{2 \\, {\\left(\\pi + 32 \\, \\pi^{3}\\right)}}\\right) r_{1} y_{2}^{3} + \\left(-\\frac{\\pi^{2}}{2 \\, {\\left(\\pi + 32 \\, \\pi^{3}\\right)}}\\right) r_{2} y_{2}^{3} + \\left(-\\frac{1}{64 \\, {\\left(\\pi + 32 \\, \\pi^{3}\\right)}}\\right) u y_{2}^{3} + \\left(-\\frac{1}{64 \\, {\\left(\\pi + 32 \\, \\pi^{3}\\right)}}\\right) v y_{2}^{3} + \\left(\\frac{2 \\, \\pi^{2}}{\\pi + 32 \\, \\pi^{3}}\\right) r_{1} x_{1} y_{1} + \\left(\\frac{2 \\, \\pi^{2}}{\\pi + 32 \\, \\pi^{3}}\\right) r_{2} x_{1} y_{1} + \\left(\\frac{1}{16 \\, {\\left(\\pi + 32 \\, \\pi^{3}\\right)}}\\right) u x_{1} y_{1} + \\left(\\frac{1}{16 \\, {\\left(\\pi + 32 \\, \\pi^{3}\\right)}}\\right) v x_{1} y_{1} + \\left(-\\frac{2 \\, \\pi^{2}}{\\pi + 32 \\, \\pi^{3}}\\right) r_{1} x_{2} y_{1} + \\left(-\\frac{2 \\, \\pi^{2}}{\\pi + 32 \\, \\pi^{3}}\\right) r_{2} x_{2} y_{1} + \\left(-\\frac{1}{16 \\, {\\left(\\pi + 32 \\, \\pi^{3}\\right)}}\\right) u x_{2} y_{1} + \\left(-\\frac{1}{16 \\, {\\left(\\pi + 32 \\, \\pi^{3}\\right)}}\\right) v x_{2} y_{1} + \\left(-\\frac{2 \\, \\pi^{2}}{\\pi + 32 \\, \\pi^{3}}\\right) r_{1} x_{1} y_{2} + \\left(-\\frac{2 \\, \\pi^{2}}{\\pi + 32 \\, \\pi^{3}}\\right) r_{2} x_{1} y_{2} + \\left(-\\frac{1}{16 \\, {\\left(\\pi + 32 \\, \\pi^{3}\\right)}}\\right) u x_{1} y_{2} + \\left(-\\frac{1}{16 \\, {\\left(\\pi + 32 \\, \\pi^{3}\\right)}}\\right) v x_{1} y_{2} + \\left(\\frac{2 \\, \\pi^{2}}{\\pi + 32 \\, \\pi^{3}}\\right) r_{1} x_{2} y_{2} + \\left(\\frac{2 \\, \\pi^{2}}{\\pi + 32 \\, \\pi^{3}}\\right) r_{2} x_{2} y_{2} + \\left(\\frac{1}{16 \\, {\\left(\\pi + 32 \\, \\pi^{3}\\right)}}\\right) u x_{2} y_{2} + \\left(\\frac{1}{16 \\, {\\left(\\pi + 32 \\, \\pi^{3}\\right)}}\\right) v x_{2} y_{2} + \\left(-\\frac{4 \\, \\pi^{2}}{\\pi + 32 \\, \\pi^{3}}\\right) r_{1} y_{1} + \\left(-\\frac{4 \\, \\pi^{2}}{\\pi + 32 \\, \\pi^{3}}\\right) r_{2} y_{1} + \\left(\\frac{32 \\, \\pi^{2} - 1}{16 \\, {\\left(\\pi + 32 \\, \\pi^{3}\\right)}}\\right) u y_{1} + \\left(\\frac{32 \\, \\pi^{2} - 1}{16 \\, {\\left(\\pi + 32 \\, \\pi^{3}\\right)}}\\right) v y_{1} + \\left(\\frac{4 \\, \\pi^{2}}{\\pi + 32 \\, \\pi^{3}}\\right) r_{1} y_{2} + \\left(\\frac{4 \\, \\pi^{2}}{\\pi + 32 \\, \\pi^{3}}\\right) r_{2} y_{2} + \\left(-\\frac{32 \\, \\pi^{2} - 1}{16 \\, {\\left(\\pi + 32 \\, \\pi^{3}\\right)}}\\right) u y_{2} + \\left(-\\frac{32 \\, \\pi^{2} - 1}{16 \\, {\\left(\\pi + 32 \\, \\pi^{3}\\right)}}\\right) v y_{2} $"
      ],
      "text/plain": [
       "<IPython.core.display.Markdown object>"
      ]
     },
     "metadata": {},
     "output_type": "display_data"
    }
   ],
   "source": [
    "ft3_taylor = taylor(tfuncs[3],*[(var,0) for var in var_dict.keys()], 3)\n",
    "lprint(ft3_taylor.polynomial(SR))"
   ]
  },
  {
   "cell_type": "code",
   "execution_count": 32,
   "metadata": {},
   "outputs": [],
   "source": [
    "ft3_sub = ft3_taylor(u = out[0], v = out[1], w = out[2])\n",
    "#lprint(ft1_sub) # this is too much for latex to cope with and not incinerate my laptop"
   ]
  },
  {
   "cell_type": "code",
   "execution_count": 33,
   "metadata": {},
   "outputs": [],
   "source": [
    "local = sum([a[0]*a[1] for a in ft3_sub.polynomial(SR) if a[1].degree() <= 3])"
   ]
  },
  {
   "cell_type": "code",
   "execution_count": 34,
   "metadata": {},
   "outputs": [
    {
     "data": {
      "text/markdown": [
       "$ \\left(\\frac{2 \\, \\pi^{2}}{\\pi + 32 \\, \\pi^{3}} + \\frac{2 \\, \\pi^{2} {\\left(32 \\, \\pi^{2} - 1\\right)}}{{\\left(\\pi + 32 \\, \\pi^{3}\\right)} {\\left(32 \\, \\pi^{2} + 1\\right)}}\\right) r_{1} x_{1} y_{1} + \\left(\\frac{2 \\, \\pi^{2}}{\\pi + 32 \\, \\pi^{3}} + \\frac{2 \\, \\pi^{2} {\\left(32 \\, \\pi^{2} - 1\\right)}}{{\\left(\\pi + 32 \\, \\pi^{3}\\right)} {\\left(32 \\, \\pi^{2} + 1\\right)}}\\right) r_{2} x_{1} y_{1} + \\left(-\\frac{2 \\, \\pi^{2}}{\\pi + 32 \\, \\pi^{3}} - \\frac{2 \\, \\pi^{2} {\\left(32 \\, \\pi^{2} - 1\\right)}}{{\\left(\\pi + 32 \\, \\pi^{3}\\right)} {\\left(32 \\, \\pi^{2} + 1\\right)}}\\right) r_{1} x_{2} y_{1} + \\left(-\\frac{2 \\, \\pi^{2}}{\\pi + 32 \\, \\pi^{3}} - \\frac{2 \\, \\pi^{2} {\\left(32 \\, \\pi^{2} - 1\\right)}}{{\\left(\\pi + 32 \\, \\pi^{3}\\right)} {\\left(32 \\, \\pi^{2} + 1\\right)}}\\right) r_{2} x_{2} y_{1} + \\left(-\\frac{2 \\, \\pi^{2}}{\\pi + 32 \\, \\pi^{3}} - \\frac{2 \\, \\pi^{2} {\\left(32 \\, \\pi^{2} - 1\\right)}}{{\\left(\\pi + 32 \\, \\pi^{3}\\right)} {\\left(32 \\, \\pi^{2} + 1\\right)}}\\right) r_{1} x_{1} y_{2} + \\left(-\\frac{2 \\, \\pi^{2}}{\\pi + 32 \\, \\pi^{3}} - \\frac{2 \\, \\pi^{2} {\\left(32 \\, \\pi^{2} - 1\\right)}}{{\\left(\\pi + 32 \\, \\pi^{3}\\right)} {\\left(32 \\, \\pi^{2} + 1\\right)}}\\right) r_{2} x_{1} y_{2} + \\left(\\frac{2 \\, \\pi^{2}}{\\pi + 32 \\, \\pi^{3}} + \\frac{2 \\, \\pi^{2} {\\left(32 \\, \\pi^{2} - 1\\right)}}{{\\left(\\pi + 32 \\, \\pi^{3}\\right)} {\\left(32 \\, \\pi^{2} + 1\\right)}}\\right) r_{1} x_{2} y_{2} + \\left(\\frac{2 \\, \\pi^{2}}{\\pi + 32 \\, \\pi^{3}} + \\frac{2 \\, \\pi^{2} {\\left(32 \\, \\pi^{2} - 1\\right)}}{{\\left(\\pi + 32 \\, \\pi^{3}\\right)} {\\left(32 \\, \\pi^{2} + 1\\right)}}\\right) r_{2} x_{2} y_{2} + \\left(-\\frac{4 \\, \\pi^{2}}{\\pi + 32 \\, \\pi^{3}}\\right) r_{1} y_{1} + \\left(-\\frac{4 \\, \\pi^{2}}{\\pi + 32 \\, \\pi^{3}}\\right) r_{2} y_{1} + \\left(\\frac{4 \\, \\pi^{2}}{\\pi + 32 \\, \\pi^{3}}\\right) r_{1} y_{2} + \\left(\\frac{4 \\, \\pi^{2}}{\\pi + 32 \\, \\pi^{3}}\\right) r_{2} y_{2} $"
      ],
      "text/plain": [
       "<IPython.core.display.Markdown object>"
      ]
     },
     "metadata": {},
     "output_type": "display_data"
    }
   ],
   "source": [
    "lprint(local)"
   ]
  },
  {
   "cell_type": "markdown",
   "metadata": {},
   "source": [
    "Lets try some lower order terms to investigate the bifurcation properties"
   ]
  },
  {
   "cell_type": "code",
   "execution_count": 35,
   "metadata": {},
   "outputs": [
    {
     "data": {
      "text/markdown": [
       "$ \\left(-\\frac{4 \\, \\pi^{2}}{\\pi + 32 \\, \\pi^{3}}\\right) r_{1} y_{1} + \\left(-\\frac{4 \\, \\pi^{2}}{\\pi + 32 \\, \\pi^{3}}\\right) r_{2} y_{1} + \\left(\\frac{4 \\, \\pi^{2}}{\\pi + 32 \\, \\pi^{3}}\\right) r_{1} y_{2} + \\left(\\frac{4 \\, \\pi^{2}}{\\pi + 32 \\, \\pi^{3}}\\right) r_{2} y_{2} $"
      ],
      "text/plain": [
       "<IPython.core.display.Markdown object>"
      ]
     },
     "metadata": {},
     "output_type": "display_data"
    }
   ],
   "source": [
    "lprint(sum([a[0]*a[1] for a in ft3_sub.polynomial(SR) if a[1].degree() <= 2]))"
   ]
  },
  {
   "cell_type": "markdown",
   "metadata": {},
   "source": [
    "Interestingly there are no $x_{i}$ terms present here, we see this is a multiple of $(y_{2} - y_{1})(r_{2} - r_{1})$ so we can begin to get an idea about what the solutions are"
   ]
  },
  {
   "cell_type": "markdown",
   "metadata": {},
   "source": []
  },
  {
   "cell_type": "code",
   "execution_count": null,
   "metadata": {},
   "outputs": [],
   "source": []
  }
 ],
 "metadata": {
  "kernelspec": {
   "display_name": "SageMath 9.2",
   "language": "sage",
   "name": "sagemath"
  },
  "language_info": {
   "codemirror_mode": {
    "name": "ipython",
    "version": 3
   },
   "file_extension": ".py",
   "mimetype": "text/x-python",
   "name": "python",
   "nbconvert_exporter": "python",
   "pygments_lexer": "ipython3",
   "version": "3.7.7"
  }
 },
 "nbformat": 4,
 "nbformat_minor": 4
}
