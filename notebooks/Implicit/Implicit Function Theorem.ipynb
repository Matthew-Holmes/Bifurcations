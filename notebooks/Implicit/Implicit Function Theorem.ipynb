{
 "cells": [
  {
   "cell_type": "code",
   "execution_count": 1,
   "metadata": {},
   "outputs": [],
   "source": [
    "from IPython.display import display, Markdown\n",
    "def latexify(x):\n",
    "    out = '$' + x + '$'\n",
    "    return out\n",
    "\n",
    "def lprint(x):\n",
    "    display(Markdown(latexify(latex(x))))"
   ]
  },
  {
   "cell_type": "markdown",
   "metadata": {},
   "source": [
    "# Implicit Function Theorem"
   ]
  },
  {
   "cell_type": "markdown",
   "metadata": {},
   "source": [
    "The implicit function theorem is a core ingredient in bifurcation theory, in this notebook we will explore how to apply it algorithmically "
   ]
  },
  {
   "cell_type": "markdown",
   "metadata": {},
   "source": [
    "## Statement of theorem"
   ]
  },
  {
   "cell_type": "markdown",
   "metadata": {},
   "source": [
    "We will consider functions of the form:\n",
    "\n",
    "$$f : \\mathbb{R}^n+m \\rightarrow \\mathbb{R}^m $$\n",
    "\n",
    "usually k-times continuously differentiable for $k \\in \\mathbb{N}$\n",
    "\n",
    "The implicit function theorem is used to characterise the zero set of the function around a know solution, suppose (without loss of generality) that:\n",
    "\n",
    "$$f(0) = 0$$\n",
    "\n",
    "We then split $\\mathbb{R}^n$ into the product of two spaces:\n",
    "\n",
    "$$\\mathbb{R}^{n+m} = \\mathbb{R}^n \\times \\mathbb{R}^m$$ \n",
    "\n",
    "From here on we denote $\\mathbb{R}^n = X$ and $\\mathbb{R}^m = Y$\n",
    "\n",
    "So that:\n",
    "\n",
    "$$f : X \\times Y \\rightarrow \\mathbb{R}^m$$\n",
    "\n",
    "If we then suppose that the derivtative with respect to $Y$ is an isomorphism at 0, i.e:\n",
    "\n",
    "$$\\partial_{Y}f(0,0)$$ is invertible\n",
    "\n",
    "Then the Implict Function Theorem states that there exists, open subsets of $X$ and $Y$ and a k-times differentiable function:\n",
    "\n",
    "$$h : U_{X} \\rightarrow U_{y}$$\n",
    "\n",
    "That paramatrises the zero set of $f$ close to zero:\n",
    "\n",
    "$$\\{ (x,y) \\in U_{X} \\times U_{Y} \\;| \\;\\; f(x,y) = 0 \\} = \\{ (x,h(x)) \\;\\; | \\;\\; x \\in U_{X} \\}$$"
   ]
  },
  {
   "cell_type": "markdown",
   "metadata": {},
   "source": [
    "## Computing $h$"
   ]
  },
  {
   "cell_type": "markdown",
   "metadata": {},
   "source": [
    "We will now construct an algorithm, that can produce a Taylor polynomial approximation of the $h$ function, assuming we know that $\\mathbb{R}^{n+m}$ meets the conditions required."
   ]
  },
  {
   "cell_type": "markdown",
   "metadata": {},
   "source": [
    "Recall that:\n",
    "\n",
    "$$h(x) = h(a) + \\frac{h'(a)}{1!}(x-a) + \\frac{h(a)}{2!}(x-a)^2 + \\frac{h'(a)}{3!}(x-a)^3+\\dotsb = \\sum_{k=0}^\\infty \\frac{h^{\\left(k\\right)}(a)}{k!} (x-a)^k$$\n",
    "\n",
    "is the k-th order Taylor expansion of $h$ at 0"
   ]
  },
  {
   "cell_type": "markdown",
   "metadata": {},
   "source": [
    "We require a way to find the derivatives of $h$, specifically:\n",
    "\n",
    "$\\partial_{X}h$,     $\\partial_{XX}h$,     $\\partial_{XXX}h$ \n",
    "\n",
    "and so on"
   ]
  },
  {
   "cell_type": "markdown",
   "metadata": {},
   "source": [
    "To do this observe that since $f(x, h(x)) = 0 \\;\\;\\forall x \\in U_{X}$\n",
    "\n",
    "$$ \\partial_{X}^{k}f(x,h(x)) = 0 \\;\\; \\forall k \\in \\mathbb{N}, \\forall x \\in U_{X}$$"
   ]
  },
  {
   "cell_type": "markdown",
   "metadata": {},
   "source": [
    "The first couple of applications of this idea are:"
   ]
  },
  {
   "cell_type": "markdown",
   "metadata": {},
   "source": [
    "$$ 0 = f(x, h(x))$$\n",
    "\n",
    "$$ 0 = f_{X} + f_{Y}h_{X}$$ \n",
    "\n",
    "$$ 0 = f_{XX} + 2f_{XY}h_{X} + f_{YY}h_{X}^2 + f_{Y}h_{XX}$$\n",
    "\n",
    "(now omitting inner variables since always implicitely known) "
   ]
  },
  {
   "cell_type": "markdown",
   "metadata": {},
   "source": [
    "https://math.stackexchange.com/questions/2037753/implicit-function-theorem-second-derivative-calculation-help"
   ]
  },
  {
   "cell_type": "markdown",
   "metadata": {},
   "source": [
    "By assumption $f_{Y}$ is always invertible, so we can solve for the values of $h_{X}$ and $h_{XX}$.\n",
    "\n",
    "Note that:\n",
    "\n",
    "$$ h(0) = 0$$ \n",
    "\n",
    "since it can't be anything else, otherwise $(0,0)$, wouldn't be in the zero set - a contradiction"
   ]
  },
  {
   "cell_type": "markdown",
   "metadata": {},
   "source": [
    "### Iterating the derivative"
   ]
  },
  {
   "cell_type": "markdown",
   "metadata": {},
   "source": [
    "First we consider how to generate equation of the form above, we can split each term at each plus sign into a generalised term of the form:"
   ]
  },
  {
   "cell_type": "markdown",
   "metadata": {},
   "source": [
    "$$ c \\; f_{\\alpha X \\beta Y} \\prod_{i = 1}^{n} {h_{\\gamma _{i} X}^{k_{i}} } $$"
   ]
  },
  {
   "cell_type": "markdown",
   "metadata": {},
   "source": [
    "I.e. a constant multiplied by a mixed partial of $f$ multiplied by a product of varying powers of varying $X$ partials of h"
   ]
  },
  {
   "cell_type": "markdown",
   "metadata": {},
   "source": [
    "If we can form an encoding scheme for terms like this, and a way to differentiate them with respect to $X$ then we have a method to generate arbitrarlily high order equations to solve."
   ]
  },
  {
   "cell_type": "markdown",
   "metadata": {},
   "source": [
    "#### Differentiating"
   ]
  },
  {
   "cell_type": "markdown",
   "metadata": {},
   "source": [
    "We consider:\n",
    "\n",
    "$$ \\partial_{X} \\left[ c \\; f_{\\alpha X \\beta Y} \\prod_{i = 1}^{n} {h_{\\gamma_{i} X}^{k_{i}} } \\right] $$\n",
    "\n",
    "\n",
    "$$ = c \\left[ \\left( \\partial_{X} f_{\\alpha X \\beta Y} \\right)\\prod_{i = 1}^{n} {h_{\\gamma_{i} X}^{k_{i}} } + f_{\\alpha X \\beta Y}\\left( \\partial_{X} \\prod_{i = 1}^{n} {h_{\\gamma_{i} X}^{k_{i}} } \\right) \\right] $$"
   ]
  },
  {
   "cell_type": "markdown",
   "metadata": {},
   "source": [
    "Splitting this into the two expressions either side of the $+$"
   ]
  },
  {
   "cell_type": "markdown",
   "metadata": {},
   "source": [
    "$$ \\left( \\partial_{X} f_{\\alpha X \\beta Y} \\right)\\prod_{i = 1}^{n} {h_{\\gamma_{i} X}^{k_{i}} } = \\left(f_{(\\alpha +1)X \\beta Y} + f_{\\alpha X (\\beta + 1)Y} h_{X} \\right) \\prod_{i = 1}^{n} {h_{\\gamma_{i} X}^{k_{i}}} $$"
   ]
  },
  {
   "cell_type": "markdown",
   "metadata": {},
   "source": [
    "And:"
   ]
  },
  {
   "cell_type": "markdown",
   "metadata": {},
   "source": [
    "$$ f_{\\alpha X \\beta Y}\\left( \\partial_{X} \\prod_{i = 1}^{n} {h_{\\gamma_{i} X}^{k_{i}} } \\right) = f_{\\alpha X \\beta Y} \\sum_{i = 1}^{n} {\\left( \\partial_{X} h_{\\gamma_{i} X}^{k_{i}} \\right) \\prod_{\\substack{j = 1 \\\\ j \\neq i}}^{k} h_{\\gamma _{j}x}^{k_{j}} } = f_{\\alpha X \\beta Y} \\sum_{i = 1}^{n} {\\left( k_{i} \\; h_{\\gamma _{i} X}^{k_{i}-1} \\; h_{(\\gamma _{i} - 1)X} \\right) \\prod_{\\substack{j = 1 \\\\ j \\neq i}}^{k} h_{\\gamma _{j}x}^{k_{j}} } $$"
   ]
  },
  {
   "cell_type": "markdown",
   "metadata": {},
   "source": [
    "While very complicated, we see that all the terms we computed stay as sums of expressions of the form:\n",
    "\n",
    "$$ c \\; f_{\\alpha X \\beta Y} \\prod_{i = 1}^{n} {h_{\\gamma _{i} X}^{k_{i}} } $$"
   ]
  },
  {
   "cell_type": "markdown",
   "metadata": {},
   "source": [
    "So inductively we see how the code can proceed"
   ]
  },
  {
   "cell_type": "markdown",
   "metadata": {},
   "source": [
    "#### Coding the expression block storage + representation"
   ]
  },
  {
   "cell_type": "markdown",
   "metadata": {},
   "source": [
    "$$ c \\; f_{\\alpha X \\beta Y} \\prod_{i = 1}^{n} {h_{\\gamma _{i} X}^{k_{i}} } $$"
   ]
  },
  {
   "cell_type": "code",
   "execution_count": 76,
   "metadata": {},
   "outputs": [
    {
     "data": {
      "text/markdown": [
       "$ 4 f_{XX Y } h_{XXX}^{4} h $"
      ],
      "text/plain": [
       "<IPython.core.display.Markdown object>"
      ]
     },
     "metadata": {},
     "output_type": "display_data"
    },
    {
     "data": {
      "text/markdown": [
       "$ f $"
      ],
      "text/plain": [
       "<IPython.core.display.Markdown object>"
      ]
     },
     "metadata": {},
     "output_type": "display_data"
    }
   ],
   "source": [
    "class ExpressionBlock:\n",
    "    def __init__(self, c = 1, alpha = 0, beta = 0, ktuples = (), func1 = 'f', func2 = 'h', X = 'X', Y = 'Y'):\n",
    "        self.c = c\n",
    "        self.alpha = alpha\n",
    "        self.beta = beta\n",
    "        self.ktuples = ktuples\n",
    "        self.func1 = func1\n",
    "        self.func2 = func2\n",
    "        self.X = X\n",
    "        self.Y = Y\n",
    "        \n",
    "    def __str__(self):\n",
    "        # overide representation so can be printed as latex\n",
    "        if self.c == 0:\n",
    "            return \"\"\n",
    "        \n",
    "        out = \"\"\n",
    "        # add the constant\n",
    "        if self.c != 1:\n",
    "            out += str(self.c) + \" \"\n",
    "            \n",
    "        # add f\n",
    "        out += self.func1\n",
    "        \n",
    "        # add partials if there are any\n",
    "        if (self.alpha != 0) or (self.beta != 0):\n",
    "            out += \"_{\"\n",
    "            # just concatenate them\n",
    "            # TODO use numbers for values greater than 5\n",
    "            if self.alpha != 0:\n",
    "                out += self.X*self.alpha + \" \"\n",
    "            if self.beta != 0:\n",
    "                out += self.Y*self.beta + \" \"\n",
    "            out += \"} \"\n",
    "            \n",
    "        for pair in self.ktuples:\n",
    "            # pairs are (gamma, k)\n",
    "            if pair[1] == 0:\n",
    "                # zeroth power of anything is 1, factor of 1 changes nothing - skip\n",
    "                continue\n",
    "            out += self.func2\n",
    "            if pair[0] != 0:\n",
    "                # gamma\n",
    "                out += \"_{\" + self.X*pair[0] + \"}\"\n",
    "            if pair[1] != 1:\n",
    "                # k\n",
    "                # already ruled out possibility of zero\n",
    "                out += \"^{\" + str(pair[1]) + \"} \" \n",
    "                \n",
    "        # and we are done, here just list out the h terms               \n",
    "        return out\n",
    "\n",
    "    def _latex_(self):\n",
    "        # so works with lprint\n",
    "        return str(self)\n",
    "\n",
    "        \n",
    "        \n",
    "        \n",
    "k = ExpressionBlock(c = 4,alpha = 2, beta = 1, ktuples = ((3,4),(0,1),(10,0)))\n",
    "lprint(k)\n",
    "k = ExpressionBlock()\n",
    "lprint(k)"
   ]
  },
  {
   "cell_type": "code",
   "execution_count": null,
   "metadata": {},
   "outputs": [],
   "source": []
  }
 ],
 "metadata": {
  "kernelspec": {
   "display_name": "SageMath 9.2",
   "language": "sage",
   "name": "sagemath"
  },
  "language_info": {
   "codemirror_mode": {
    "name": "ipython",
    "version": 3
   },
   "file_extension": ".py",
   "mimetype": "text/x-python",
   "name": "python",
   "nbconvert_exporter": "python",
   "pygments_lexer": "ipython3",
   "version": "3.7.7"
  }
 },
 "nbformat": 4,
 "nbformat_minor": 4
}
