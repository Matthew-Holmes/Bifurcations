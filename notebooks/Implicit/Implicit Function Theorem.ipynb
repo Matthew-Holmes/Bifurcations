{
 "cells": [
  {
   "cell_type": "code",
   "execution_count": 1,
   "metadata": {},
   "outputs": [],
   "source": [
    "from IPython.display import display, Markdown#\n",
    "import pandas as pd\n",
    "import numpy as np\n",
    "import copy\n",
    "def latexify(x):\n",
    "    out = '$' + x + '$'\n",
    "    return out\n",
    "\n",
    "def lprint(x):\n",
    "    display(Markdown(latexify(latex(x))))"
   ]
  },
  {
   "cell_type": "markdown",
   "metadata": {},
   "source": [
    "# Implicit Function Theorem"
   ]
  },
  {
   "cell_type": "markdown",
   "metadata": {},
   "source": [
    "The implicit function theorem is a core ingredient in bifurcation theory, in this notebook we will explore how to apply it algorithmically "
   ]
  },
  {
   "cell_type": "markdown",
   "metadata": {},
   "source": [
    "## Statement of theorem"
   ]
  },
  {
   "cell_type": "markdown",
   "metadata": {},
   "source": [
    "We will consider functions of the form:\n",
    "\n",
    "$$f : \\mathbb{R}^n+m \\rightarrow \\mathbb{R}^m $$\n",
    "\n",
    "usually k-times continuously differentiable for $k \\in \\mathbb{N}$\n",
    "\n",
    "The implicit function theorem is used to characterise the zero set of the function around a know solution, suppose (without loss of generality) that:\n",
    "\n",
    "$$f(0) = 0$$\n",
    "\n",
    "We then split $\\mathbb{R}^n$ into the product of two spaces:\n",
    "\n",
    "$$\\mathbb{R}^{n+m} = \\mathbb{R}^n \\times \\mathbb{R}^m$$ \n",
    "\n",
    "From here on we denote $\\mathbb{R}^n = X$ and $\\mathbb{R}^m = Y$\n",
    "\n",
    "So that:\n",
    "\n",
    "$$f : X \\times Y \\rightarrow \\mathbb{R}^m$$\n",
    "\n",
    "If we then suppose that the derivtative with respect to $Y$ is an isomorphism at 0, i.e:\n",
    "\n",
    "$$\\partial_{Y}f(0,0)$$ is invertible\n",
    "\n",
    "Then the Implict Function Theorem states that there exists, open subsets of $X$ and $Y$ and a k-times differentiable function:\n",
    "\n",
    "$$h : U_{X} \\rightarrow U_{y}$$\n",
    "\n",
    "That paramatrises the zero set of $f$ close to zero:\n",
    "\n",
    "$$\\{ (x,y) \\in U_{X} \\times U_{Y} \\;| \\;\\; f(x,y) = 0 \\} = \\{ (x,h(x)) \\;\\; | \\;\\; x \\in U_{X} \\}$$"
   ]
  },
  {
   "cell_type": "markdown",
   "metadata": {},
   "source": [
    "## Computing $h$"
   ]
  },
  {
   "cell_type": "markdown",
   "metadata": {},
   "source": [
    "We will now construct an algorithm, that can produce a Taylor polynomial approximation of the $h$ function, assuming we know that $\\mathbb{R}^{n+m}$ meets the conditions required."
   ]
  },
  {
   "cell_type": "markdown",
   "metadata": {},
   "source": [
    "Recall that:\n",
    "\n",
    "$$h(x) = h(a) + \\frac{h'(a)}{1!}(x-a) + \\frac{h(a)}{2!}(x-a)^2 + \\frac{h'(a)}{3!}(x-a)^3+\\dotsb = \\sum_{k=0}^\\infty \\frac{h^{\\left(k\\right)}(a)}{k!} (x-a)^k$$\n",
    "\n",
    "is the k-th order Taylor expansion of $h$ at 0"
   ]
  },
  {
   "cell_type": "markdown",
   "metadata": {},
   "source": [
    "We require a way to find the derivatives of $h$, specifically:\n",
    "\n",
    "$\\partial_{X}h$,     $\\partial_{XX}h$,     $\\partial_{XXX}h$ \n",
    "\n",
    "and so on"
   ]
  },
  {
   "cell_type": "markdown",
   "metadata": {},
   "source": [
    "To do this observe that since $f(x, h(x)) = 0 \\;\\;\\forall x \\in U_{X}$\n",
    "\n",
    "$$ \\partial_{X}^{k}f(x,h(x)) = 0 \\;\\; \\forall k \\in \\mathbb{N}, \\forall x \\in U_{X}$$"
   ]
  },
  {
   "cell_type": "markdown",
   "metadata": {},
   "source": [
    "The first couple of applications of this idea are:"
   ]
  },
  {
   "cell_type": "markdown",
   "metadata": {},
   "source": [
    "$$ 0 = f(x, h(x))$$\n",
    "\n",
    "$$ 0 = f_{X} + f_{Y}h_{X}$$ \n",
    "\n",
    "$$ 0 = f_{XX} + 2f_{XY}h_{X} + f_{YY}h_{X}^2 + f_{Y}h_{XX}$$\n",
    "\n",
    "(now omitting inner variables for brevity) "
   ]
  },
  {
   "cell_type": "markdown",
   "metadata": {},
   "source": [
    "https://math.stackexchange.com/questions/2037753/implicit-function-theorem-second-derivative-calculation-help"
   ]
  },
  {
   "cell_type": "markdown",
   "metadata": {},
   "source": [
    "By assumption $f_{Y}$ is always invertible, so we can solve for the values of $h_{X}$ and $h_{XX}$.\n",
    "\n",
    "Note that:\n",
    "\n",
    "$$ h(0) = 0$$ \n",
    "\n",
    "since it can't be anything else, otherwise $(0,0)$, wouldn't be in the zero set - a contradiction"
   ]
  },
  {
   "cell_type": "markdown",
   "metadata": {},
   "source": [
    "### Iterating the derivative"
   ]
  },
  {
   "cell_type": "markdown",
   "metadata": {},
   "source": [
    "First we consider how to generate equation of the form above, we can split each term at each plus sign into a generalised term of the form:"
   ]
  },
  {
   "cell_type": "markdown",
   "metadata": {},
   "source": [
    "\n",
    "$$ c \\; f_{S_{1}S_{2} \\cdots S_{k}}(x,h(x)) \\cdot \\left[P_{1}(X_{i_{1,1}}, \\cdots, X_{i_{1,l_{1}}}), \\cdots, P_{k}(X_{i_{k,1}}, \\cdots, X_{i_{k,l_{k}}}) \\right] $$"
   ]
  },
  {
   "cell_type": "markdown",
   "metadata": {},
   "source": [
    "Where:\n",
    "\n",
    "$$ S_{i} \\in \\{X,Y\\} $$\n",
    "\n",
    "And the $P_{i}$'s are either the identity map: $id: X \\rightarrow X$, or a $l_{i}$th derivative of $h$\n",
    "\n",
    "The $X_{\\cdots}$ maps indicate where to put the input spaces' values, the $P_{i}$ maps can be viewed as \"premultiples\", preparing the input from: $X \\times \\cdots \\times X$ to be fed in the $f$ partial.\n",
    "\n",
    "Previously little attention was payed to the ordering, but now it is imperative to keep track of how the derivatives develop.\n",
    "\n",
    "Translating the earlier work into this format (now omit $(x,h(x))$ for brevity):"
   ]
  },
  {
   "cell_type": "markdown",
   "metadata": {},
   "source": [
    "$$ 0 = f$$\n",
    "\n",
    "$$ 0 = f_{X} \\cdot \\left[ id(X_{1}) \\right] + f_{Y} \\cdot \\left[ (h_{X}(X_{1}) \\right]$$ \n",
    "\n",
    "$$ 0 = f_{XX} \\cdot \\left[ id(X_{1}), id(X_{2}) \\right] + f_{XY} \\cdot \\left[ id(X_{1}),h_{X}(X_{2}) \\right] + f_{YX}\\left[ h_{X}(X_{1}),id(X_{2}) \\right]+ f_{YY} \\left[ h_{X}(X_{1}), h_{X}(X_{2}) \\right] + f_{YY} \\cdot \\left[ (h_{XX}(X_{1}, X_{2}) \\right] $$"
   ]
  },
  {
   "cell_type": "markdown",
   "metadata": {},
   "source": [
    "Note: here taking a further derivative is indicated by appending $X$ or $Y$ to the end, contrary to common use, the reason for this is that it makes the book-keeping a lot easier"
   ]
  },
  {
   "cell_type": "markdown",
   "metadata": {},
   "source": [
    "If we can form an encoding scheme for terms like this, and a way to differentiate them with respect to $X$ then we have a method to generate arbitrarlily high order equations to solve."
   ]
  },
  {
   "cell_type": "markdown",
   "metadata": {},
   "source": [
    "#### Differentiating"
   ]
  },
  {
   "cell_type": "markdown",
   "metadata": {},
   "source": [
    "We consider:\n",
    "\n",
    "$$ \\partial_{X} \\left( c \\; f_{S_{1}S_{2} \\cdots S_{k}} \\cdot \\left[P_{1}(X_{i_{1,1}}, \\cdots, X_{i_{1,l_{1}}}), \\cdots, P_{k}(X_{i_{k,1}}, \\cdots, X_{i_{k,l_{k}}}) \\right] \\right)$$\n",
    "\n",
    "\n",
    "$$ = c \\left[ \\left( \\partial_{X}f_{S_{1}S_{2} \\cdots S_{k}}  \\right)\\cdot \\left[P_{1}(X_{i_{1,1}}, \\cdots, X_{i_{1,l_{1}}}), \\cdots, P_{k}(X_{i_{k,1}}, \\cdots, X_{i_{k,l_{k}}}) \\right] + f_{S_{1}S_{2} \\cdots S_{k}} \\cdot \\left( \\partial_{X} \\left[P_{1}(X_{i_{1,1}}, \\cdots, X_{i_{1,l_{1}}}), \\cdots, P_{k}(X_{i_{k,1}}, \\cdots, X_{i_{k,l_{k}}}) \\right]  \\right) \\right] $$"
   ]
  },
  {
   "cell_type": "markdown",
   "metadata": {},
   "source": [
    "Splitting this into the two expressions either side of the $+$"
   ]
  },
  {
   "cell_type": "markdown",
   "metadata": {},
   "source": [
    "$$  \\left( \\partial_{X}f_{S_{1}S_{2} \\cdots S_{k}}  \\right)\\cdot \\left[P_{1}(X_{i_{1,1}}, \\cdots, X_{i_{1,l_{1}}}), \\cdots, P_{k}(X_{i_{k,1}}, \\cdots, X_{i_{k,l_{k}}}) \\right]  = f_{S_{1}S_{2} \\cdots S_{k}X} \\cdot \\left[P_{1}(X_{i_{1,1}}, \\cdots, X_{i_{1,l_{1}}}), \\cdots, P_{k}(X_{i_{k,1}}, \\cdots, X_{i_{k,l_{k}}}), id(X_{n+1}) \\right] + f_{S_{1}S_{2} \\cdots S_{k}Y} \\cdot \\left[P_{1}(X_{i_{1,1}}, \\cdots, X_{i_{1,l_{1}}}), \\cdots, P_{k}(X_{i_{n,1}}, \\cdots, X_{i_{k,l_{k}}}), h_{X}(X_{n+1}) \\right]\n",
    "$$"
   ]
  },
  {
   "cell_type": "markdown",
   "metadata": {},
   "source": [
    "This happens since the partial derivative is evaluated at $(x,h(x))$, $n$ was the order of the orginal function, i.e the maximum value for $X_{\\cdots}$"
   ]
  },
  {
   "cell_type": "markdown",
   "metadata": {},
   "source": [
    "And:"
   ]
  },
  {
   "cell_type": "markdown",
   "metadata": {},
   "source": [
    "$$ f_{S_{1}S_{2} \\cdots S_{k}} \\cdot \\left( \\partial_{X} \\left[P_{1}(X_{i_{1,1}}, \\cdots, X_{i_{1,l_{1}}}), \\cdots, P_{k}(X_{i_{k,1}}, \\cdots, X_{i_{k,l_{k}}}) \\right]  \\right) =  f_{S_{1}S_{2} \\cdots S_{k}} \\sum_{i = 1}^{j} { \\left[P_{1}(X_{i_{1,1}}, \\cdots, X_{i_{1,l_{1}}}), \\cdots, (\\partial_{X}P_{i})(X_{i_{i,1}}, \\cdots, X_{i_{i,l_{i}}}, X_{n+1}) , \\cdots, P_{k}(X_{i_{k,1}}, \\cdots, X_{i_{k,l_{k}}}) \\right] } $$"
   ]
  },
  {
   "cell_type": "markdown",
   "metadata": {},
   "source": [
    "Here we abuse notation by using $i$ twice, unfortunately we have run out the usual indices.\n",
    "\n",
    "Observe that the $X_{k+1}$ is now embedded inside the pre-multiples.\n",
    "\n",
    "When $P_{i}$ is the identity $\\partial_{X}P_{i} = \\partial_{X}id = 0$, and so as expected the sum only picks up non-trivial premultiples.\n"
   ]
  },
  {
   "cell_type": "markdown",
   "metadata": {},
   "source": [
    "While very complicated, we see that all the terms we computed stay as sums of expressions of the form:\n",
    "\n",
    "$$ c \\; f_{S_{1}S_{2} \\cdots S_{k}}(x,h(x)) \\cdot \\left[P_{1}(X_{i_{1,1}}, \\cdots, X_{i_{1,l_{1}}}), \\cdots, P_{k}(X_{i_{k,1}}, \\cdots, X_{i_{k,l_{k}}}) \\right] $$"
   ]
  },
  {
   "cell_type": "markdown",
   "metadata": {},
   "source": [
    "So inductively we see how the code can proceed"
   ]
  },
  {
   "cell_type": "markdown",
   "metadata": {},
   "source": [
    "#### Coding the expression block storage + representation"
   ]
  },
  {
   "cell_type": "markdown",
   "metadata": {},
   "source": [
    "Now we build the framework to do this, to stay in the spirit of sage, a latex output will be avaible. For expressions of the form:"
   ]
  },
  {
   "cell_type": "markdown",
   "metadata": {},
   "source": [
    "$$ c \\; f_{S_{1}S_{2} \\cdots S_{k}}(x,h(x)) \\cdot \\left[P_{1}(X_{i_{1,1}}, \\cdots, X_{i_{1,l_{1}}}), \\cdots, P_{k}(X_{i_{k,1}}, \\cdots, X_{i_{k,l_{k}}}) \\right] $$"
   ]
  },
  {
   "cell_type": "markdown",
   "metadata": {},
   "source": [
    "Also implemented is the differentiation rule derived earlier, returning a list of ExpressionBlock objects"
   ]
  },
  {
   "cell_type": "code",
   "execution_count": 2,
   "metadata": {},
   "outputs": [
    {
     "data": {
      "text/markdown": [
       "$ 3 f_{XYX} \\cdot \\left[id(X_{1}), h_{XXX}(X_{3}, X_{4}, X_{5}), id(X_{2})\\right] $"
      ],
      "text/plain": [
       "<IPython.core.display.Markdown object>"
      ]
     },
     "metadata": {},
     "output_type": "display_data"
    },
    {
     "data": {
      "text/markdown": [
       "$ f $"
      ],
      "text/plain": [
       "<IPython.core.display.Markdown object>"
      ]
     },
     "metadata": {},
     "output_type": "display_data"
    },
    {
     "data": {
      "text/markdown": [
       "$ \\left[f_{X} \\cdot \\left[id(X_{1})\\right], f_{Y} \\cdot \\left[h_{X}(X_{1})\\right]\\right] $"
      ],
      "text/plain": [
       "<IPython.core.display.Markdown object>"
      ]
     },
     "metadata": {},
     "output_type": "display_data"
    }
   ],
   "source": [
    "class ExpressionBlock:\n",
    "    def __init__(self, c = 1, s_string = '', n = 0, p_dict = {}, xs_dict = {}, func1 = 'f', func2 = 'h', X = 'X', Y = 'Y'):\n",
    "        self.c = c # constant\n",
    "        self.s_string = s_string # partials, i.e. 'XXY'\n",
    "        self.n = n # number of X inputs the expression has\n",
    "        self.k = len(s_string) # even if no partials, still include an identity premultiple\n",
    "        self.p_dict = p_dict # P functions, 0 --> id, otherwise is a partial of h\n",
    "        self.xs_dict = xs_dict # which X's go into each P\n",
    "        \n",
    "        # the rest are just for the cosmetic output\n",
    "        self.func1 = func1 \n",
    "        self.func2 = func2\n",
    "        self.X = X\n",
    "        self.Y = Y\n",
    "        \n",
    "    def __str__(self):\n",
    "        # overide representation so can be printed as latex\n",
    "        if self.c == 0:\n",
    "            return \"\"\n",
    "        \n",
    "        out = \"\"\n",
    "        # add the constant\n",
    "        if self.c != 1:\n",
    "            out += str(self.c) + \" \"\n",
    "            \n",
    "        # add f\n",
    "        out += self.func1\n",
    "        \n",
    "        # add partials if there are any\n",
    "        if len(self.s_string) != 0:\n",
    "            out += \"_{\"\n",
    "            out += self.s_string\n",
    "            out += \"} \"\n",
    "            out += r\"\\cdot \\left[\"\n",
    "            \n",
    "\n",
    "        for i in range(1,self.k + 1):\n",
    "            if self.p_dict[i] == 0:\n",
    "                out += \"id(\"\n",
    "            else:\n",
    "                out += \"h_{\"\n",
    "                out += \"X\"*len(self.xs_dict[i])\n",
    "                out += \"}(\"\n",
    "                \n",
    "            for xi in self.xs_dict[i]:\n",
    "                out += \"X_{\" + str(xi) + \"}, \"\n",
    "                \n",
    "            # inner excess comma deletion\n",
    "            out = out[:-2]\n",
    "            \n",
    "            out += \"), \"\n",
    "        \n",
    "        if len(self.s_string) != 0:\n",
    "            out = out[:-2] # outer excess comma deletion\n",
    "            out += r\"\\right]\"       \n",
    "            \n",
    "                \n",
    "        # and we are done, here just list out the h terms               \n",
    "        return out\n",
    "\n",
    "    def _latex_(self):\n",
    "        # so works with lprint\n",
    "        return str(self)\n",
    "    \n",
    "    def diff(self):\n",
    "        # apply the rule we worked out before\n",
    "        # returns a list of ExpressionBlock instances\n",
    "        \n",
    "        out = []\n",
    "        # first half\n",
    "        temp = copy.deepcopy(self)\n",
    "        temp.n += 1\n",
    "        temp.s_string += 'X'\n",
    "        temp.k += 1\n",
    "        temp.p_dict[temp.k] = 0 # identity\n",
    "        temp.xs_dict[temp.k] = (temp.n,)\n",
    "        out.append(temp)\n",
    "        \n",
    "        temp = copy.deepcopy(self)\n",
    "        temp.n += 1\n",
    "        temp.s_string += 'Y'\n",
    "        temp.k += 1\n",
    "        temp.p_dict[temp.k] = 1 # identity\n",
    "        temp.xs_dict[temp.k] = (temp.n,)\n",
    "        out.append(temp)\n",
    "        \n",
    "        # second half\n",
    "        # loop over each term in the sum\n",
    "        for i in range(1,self.k + 1):\n",
    "            # ktuple = (gamma, k)\n",
    "            # indexing starts from 0\n",
    "            if self.p_dict[i] == 0:\n",
    "                # differentiating id --> zeros out\n",
    "                continue \n",
    "            \n",
    "            temp = copy.deepcopy(self)\n",
    "            temp.n += 1\n",
    "            temp.p_dict[i] = temp.p_dict[i] + 1 # take a further derivative of h\n",
    "            new_xs = list(temp.xs_dict[i])\n",
    "            new_xs.append(temp.n)\n",
    "            \n",
    "            temp.xs_dict[i] = tuple(new_xs)\n",
    "\n",
    "            out.append(temp)\n",
    "            \n",
    "        # and we are done\n",
    "        return out\n",
    "            \n",
    "            \n",
    "            \n",
    "\n",
    "        \n",
    "        \n",
    "k1 = ExpressionBlock(c = 3, s_string = 'XYX', n = 5,\n",
    "                     p_dict = {1 : 0, 2: 3, 3 : 0},\n",
    "                     xs_dict = {1 : (1,), 2 : (3,4,5), 3 : (2,)},)\n",
    "lprint(k1)\n",
    "k2 = ExpressionBlock()\n",
    "lprint(k2)\n",
    "lprint(k2.diff())\n",
    "\n",
    "#[lprint(i) for i in k2.diff()]"
   ]
  },
  {
   "cell_type": "markdown",
   "metadata": {},
   "source": [
    "We see that at least for $f$ the rule works, lets wrap this up into a new class that deals with multiple blocks"
   ]
  },
  {
   "cell_type": "code",
   "execution_count": 3,
   "metadata": {},
   "outputs": [
    {
     "data": {
      "text/markdown": [
       "$ 3 f_{XYX} \\cdot \\left[id(X_{1}), h_{XXX}(X_{3}, X_{4}, X_{5}), id(X_{2})\\right] $"
      ],
      "text/plain": [
       "<IPython.core.display.Markdown object>"
      ]
     },
     "metadata": {},
     "output_type": "display_data"
    },
    {
     "data": {
      "text/markdown": [
       "$ 3 f_{XYXX} \\cdot \\left[id(X_{1}), h_{XXX}(X_{3}, X_{4}, X_{5}), id(X_{2}), id(X_{6})\\right] + 3 f_{XYXY} \\cdot \\left[id(X_{1}), h_{XXX}(X_{3}, X_{4}, X_{5}), id(X_{2}), h_{X}(X_{6})\\right] + 3 f_{XYX} \\cdot \\left[id(X_{1}), h_{XXXX}(X_{3}, X_{4}, X_{5}, X_{6}), id(X_{2})\\right] $"
      ],
      "text/plain": [
       "<IPython.core.display.Markdown object>"
      ]
     },
     "metadata": {},
     "output_type": "display_data"
    }
   ],
   "source": [
    "class Expression:\n",
    "    def __init__(self, blocks = [ExpressionBlock()]):\n",
    "        if blocks is None:\n",
    "            self.blocks = [] # python reasons - list is mutable\n",
    "        else:\n",
    "            self.blocks = blocks\n",
    "            \n",
    "    def __str__(self):\n",
    "        if not self.blocks:\n",
    "            # empty list\n",
    "            return \"\"\n",
    "        out = \"\"\n",
    "        for block in self.blocks:\n",
    "            # should be an instance of the ExpressionBlock class\n",
    "            out += str(block) + \" + \"\n",
    "        \n",
    "        out = out[:-3] # remove last plus\n",
    "        \n",
    "        return out\n",
    "    \n",
    "    def _latex_(self):\n",
    "        # so works with lprint\n",
    "        return str(self)\n",
    "    \n",
    "    \n",
    "    def diff(self):\n",
    "        # returns a new Expression object that is the partial x derivative of the old one\n",
    "        out = []\n",
    "        for block in self.blocks:\n",
    "            block_list = block.diff()\n",
    "            \n",
    "            # append to the list\n",
    "            out += block_list\n",
    "            \n",
    "        return Expression(blocks = out)\n",
    "            \n",
    "        \n",
    "            \n",
    "    \n",
    "\n",
    "e = Expression(blocks = [k1])\n",
    "lprint(e)\n",
    "lprint(e.diff())"
   ]
  },
  {
   "cell_type": "markdown",
   "metadata": {},
   "source": [
    "This all seems to be working fine"
   ]
  },
  {
   "cell_type": "code",
   "execution_count": 4,
   "metadata": {},
   "outputs": [
    {
     "data": {
      "text/markdown": [
       "$ f $"
      ],
      "text/plain": [
       "<IPython.core.display.Markdown object>"
      ]
     },
     "metadata": {},
     "output_type": "display_data"
    }
   ],
   "source": [
    "b = ExpressionBlock()\n",
    "lprint(b)"
   ]
  },
  {
   "cell_type": "markdown",
   "metadata": {},
   "source": [
    "Now put into an expresssion so we can differentiate:"
   ]
  },
  {
   "cell_type": "code",
   "execution_count": 5,
   "metadata": {},
   "outputs": [
    {
     "data": {
      "text/markdown": [
       "$ f $"
      ],
      "text/plain": [
       "<IPython.core.display.Markdown object>"
      ]
     },
     "metadata": {},
     "output_type": "display_data"
    }
   ],
   "source": [
    "e = Expression(blocks = [b])\n",
    "lprint(e)"
   ]
  },
  {
   "cell_type": "code",
   "execution_count": 6,
   "metadata": {},
   "outputs": [
    {
     "data": {
      "text/markdown": [
       "$ f_{X} \\cdot \\left[id(X_{1})\\right] + f_{Y} \\cdot \\left[h_{X}(X_{1})\\right] $"
      ],
      "text/plain": [
       "<IPython.core.display.Markdown object>"
      ]
     },
     "metadata": {},
     "output_type": "display_data"
    }
   ],
   "source": [
    "lprint(e.diff())"
   ]
  },
  {
   "cell_type": "code",
   "execution_count": 7,
   "metadata": {},
   "outputs": [
    {
     "data": {
      "text/markdown": [
       "$ f_{XX} \\cdot \\left[id(X_{1}), id(X_{2})\\right] + f_{XY} \\cdot \\left[id(X_{1}), h_{X}(X_{2})\\right] + f_{YX} \\cdot \\left[h_{X}(X_{1}), id(X_{2})\\right] + f_{YY} \\cdot \\left[h_{X}(X_{1}), h_{X}(X_{2})\\right] + f_{Y} \\cdot \\left[h_{XX}(X_{1}, X_{2})\\right] $"
      ],
      "text/plain": [
       "<IPython.core.display.Markdown object>"
      ]
     },
     "metadata": {},
     "output_type": "display_data"
    }
   ],
   "source": [
    "lprint(e.diff().diff())"
   ]
  },
  {
   "cell_type": "markdown",
   "metadata": {},
   "source": [
    "We see that this is working as we expect, observe how the symmetry of the total expression is conserved"
   ]
  },
  {
   "cell_type": "code",
   "execution_count": 8,
   "metadata": {},
   "outputs": [
    {
     "data": {
      "text/markdown": [
       "$ f_{XXX} \\cdot \\left[id(X_{1}), id(X_{2}), id(X_{3})\\right] + f_{XXY} \\cdot \\left[id(X_{1}), id(X_{2}), h_{X}(X_{3})\\right] + f_{XYX} \\cdot \\left[id(X_{1}), h_{X}(X_{2}), id(X_{3})\\right] + f_{XYY} \\cdot \\left[id(X_{1}), h_{X}(X_{2}), h_{X}(X_{3})\\right] + f_{XY} \\cdot \\left[id(X_{1}), h_{XX}(X_{2}, X_{3})\\right] + f_{YXX} \\cdot \\left[h_{X}(X_{1}), id(X_{2}), id(X_{3})\\right] + f_{YXY} \\cdot \\left[h_{X}(X_{1}), id(X_{2}), h_{X}(X_{3})\\right] + f_{YX} \\cdot \\left[h_{XX}(X_{1}, X_{3}), id(X_{2})\\right] + f_{YYX} \\cdot \\left[h_{X}(X_{1}), h_{X}(X_{2}), id(X_{3})\\right] + f_{YYY} \\cdot \\left[h_{X}(X_{1}), h_{X}(X_{2}), h_{X}(X_{3})\\right] + f_{YY} \\cdot \\left[h_{XX}(X_{1}, X_{3}), h_{X}(X_{2})\\right] + f_{YY} \\cdot \\left[h_{X}(X_{1}), h_{XX}(X_{2}, X_{3})\\right] + f_{YX} \\cdot \\left[h_{XX}(X_{1}, X_{2}), id(X_{3})\\right] + f_{YY} \\cdot \\left[h_{XX}(X_{1}, X_{2}), h_{X}(X_{3})\\right] + f_{Y} \\cdot \\left[h_{XXX}(X_{1}, X_{2}, X_{3})\\right] $"
      ],
      "text/plain": [
       "<IPython.core.display.Markdown object>"
      ]
     },
     "metadata": {},
     "output_type": "display_data"
    }
   ],
   "source": [
    "lprint(e.diff().diff().diff())"
   ]
  },
  {
   "cell_type": "code",
   "execution_count": 9,
   "metadata": {},
   "outputs": [
    {
     "data": {
      "text/markdown": [
       "$ f_{XXXX} \\cdot \\left[id(X_{1}), id(X_{2}), id(X_{3}), id(X_{4})\\right] + f_{XXXY} \\cdot \\left[id(X_{1}), id(X_{2}), id(X_{3}), h_{X}(X_{4})\\right] + f_{XXYX} \\cdot \\left[id(X_{1}), id(X_{2}), h_{X}(X_{3}), id(X_{4})\\right] + f_{XXYY} \\cdot \\left[id(X_{1}), id(X_{2}), h_{X}(X_{3}), h_{X}(X_{4})\\right] + f_{XXY} \\cdot \\left[id(X_{1}), id(X_{2}), h_{XX}(X_{3}, X_{4})\\right] + f_{XYXX} \\cdot \\left[id(X_{1}), h_{X}(X_{2}), id(X_{3}), id(X_{4})\\right] + f_{XYXY} \\cdot \\left[id(X_{1}), h_{X}(X_{2}), id(X_{3}), h_{X}(X_{4})\\right] + f_{XYX} \\cdot \\left[id(X_{1}), h_{XX}(X_{2}, X_{4}), id(X_{3})\\right] + f_{XYYX} \\cdot \\left[id(X_{1}), h_{X}(X_{2}), h_{X}(X_{3}), id(X_{4})\\right] + f_{XYYY} \\cdot \\left[id(X_{1}), h_{X}(X_{2}), h_{X}(X_{3}), h_{X}(X_{4})\\right] + f_{XYY} \\cdot \\left[id(X_{1}), h_{XX}(X_{2}, X_{4}), h_{X}(X_{3})\\right] + f_{XYY} \\cdot \\left[id(X_{1}), h_{X}(X_{2}), h_{XX}(X_{3}, X_{4})\\right] + f_{XYX} \\cdot \\left[id(X_{1}), h_{XX}(X_{2}, X_{3}), id(X_{4})\\right] + f_{XYY} \\cdot \\left[id(X_{1}), h_{XX}(X_{2}, X_{3}), h_{X}(X_{4})\\right] + f_{XY} \\cdot \\left[id(X_{1}), h_{XXX}(X_{2}, X_{3}, X_{4})\\right] + f_{YXXX} \\cdot \\left[h_{X}(X_{1}), id(X_{2}), id(X_{3}), id(X_{4})\\right] + f_{YXXY} \\cdot \\left[h_{X}(X_{1}), id(X_{2}), id(X_{3}), h_{X}(X_{4})\\right] + f_{YXX} \\cdot \\left[h_{XX}(X_{1}, X_{4}), id(X_{2}), id(X_{3})\\right] + f_{YXYX} \\cdot \\left[h_{X}(X_{1}), id(X_{2}), h_{X}(X_{3}), id(X_{4})\\right] + f_{YXYY} \\cdot \\left[h_{X}(X_{1}), id(X_{2}), h_{X}(X_{3}), h_{X}(X_{4})\\right] + f_{YXY} \\cdot \\left[h_{XX}(X_{1}, X_{4}), id(X_{2}), h_{X}(X_{3})\\right] + f_{YXY} \\cdot \\left[h_{X}(X_{1}), id(X_{2}), h_{XX}(X_{3}, X_{4})\\right] + f_{YXX} \\cdot \\left[h_{XX}(X_{1}, X_{3}), id(X_{2}), id(X_{4})\\right] + f_{YXY} \\cdot \\left[h_{XX}(X_{1}, X_{3}), id(X_{2}), h_{X}(X_{4})\\right] + f_{YX} \\cdot \\left[h_{XXX}(X_{1}, X_{3}, X_{4}), id(X_{2})\\right] + f_{YYXX} \\cdot \\left[h_{X}(X_{1}), h_{X}(X_{2}), id(X_{3}), id(X_{4})\\right] + f_{YYXY} \\cdot \\left[h_{X}(X_{1}), h_{X}(X_{2}), id(X_{3}), h_{X}(X_{4})\\right] + f_{YYX} \\cdot \\left[h_{XX}(X_{1}, X_{4}), h_{X}(X_{2}), id(X_{3})\\right] + f_{YYX} \\cdot \\left[h_{X}(X_{1}), h_{XX}(X_{2}, X_{4}), id(X_{3})\\right] + f_{YYYX} \\cdot \\left[h_{X}(X_{1}), h_{X}(X_{2}), h_{X}(X_{3}), id(X_{4})\\right] + f_{YYYY} \\cdot \\left[h_{X}(X_{1}), h_{X}(X_{2}), h_{X}(X_{3}), h_{X}(X_{4})\\right] + f_{YYY} \\cdot \\left[h_{XX}(X_{1}, X_{4}), h_{X}(X_{2}), h_{X}(X_{3})\\right] + f_{YYY} \\cdot \\left[h_{X}(X_{1}), h_{XX}(X_{2}, X_{4}), h_{X}(X_{3})\\right] + f_{YYY} \\cdot \\left[h_{X}(X_{1}), h_{X}(X_{2}), h_{XX}(X_{3}, X_{4})\\right] + f_{YYX} \\cdot \\left[h_{XX}(X_{1}, X_{3}), h_{X}(X_{2}), id(X_{4})\\right] + f_{YYY} \\cdot \\left[h_{XX}(X_{1}, X_{3}), h_{X}(X_{2}), h_{X}(X_{4})\\right] + f_{YY} \\cdot \\left[h_{XXX}(X_{1}, X_{3}, X_{4}), h_{X}(X_{2})\\right] + f_{YY} \\cdot \\left[h_{XX}(X_{1}, X_{3}), h_{XX}(X_{2}, X_{4})\\right] + f_{YYX} \\cdot \\left[h_{X}(X_{1}), h_{XX}(X_{2}, X_{3}), id(X_{4})\\right] + f_{YYY} \\cdot \\left[h_{X}(X_{1}), h_{XX}(X_{2}, X_{3}), h_{X}(X_{4})\\right] + f_{YY} \\cdot \\left[h_{XX}(X_{1}, X_{4}), h_{XX}(X_{2}, X_{3})\\right] + f_{YY} \\cdot \\left[h_{X}(X_{1}), h_{XXX}(X_{2}, X_{3}, X_{4})\\right] + f_{YXX} \\cdot \\left[h_{XX}(X_{1}, X_{2}), id(X_{3}), id(X_{4})\\right] + f_{YXY} \\cdot \\left[h_{XX}(X_{1}, X_{2}), id(X_{3}), h_{X}(X_{4})\\right] + f_{YX} \\cdot \\left[h_{XXX}(X_{1}, X_{2}, X_{4}), id(X_{3})\\right] + f_{YYX} \\cdot \\left[h_{XX}(X_{1}, X_{2}), h_{X}(X_{3}), id(X_{4})\\right] + f_{YYY} \\cdot \\left[h_{XX}(X_{1}, X_{2}), h_{X}(X_{3}), h_{X}(X_{4})\\right] + f_{YY} \\cdot \\left[h_{XXX}(X_{1}, X_{2}, X_{4}), h_{X}(X_{3})\\right] + f_{YY} \\cdot \\left[h_{XX}(X_{1}, X_{2}), h_{XX}(X_{3}, X_{4})\\right] + f_{YX} \\cdot \\left[h_{XXX}(X_{1}, X_{2}, X_{3}), id(X_{4})\\right] + f_{YY} \\cdot \\left[h_{XXX}(X_{1}, X_{2}, X_{3}), h_{X}(X_{4})\\right] + f_{Y} \\cdot \\left[h_{XXXX}(X_{1}, X_{2}, X_{3}, X_{4})\\right] $"
      ],
      "text/plain": [
       "<IPython.core.display.Markdown object>"
      ]
     },
     "metadata": {},
     "output_type": "display_data"
    }
   ],
   "source": [
    "lprint(e.diff().diff().diff().diff())"
   ]
  },
  {
   "cell_type": "markdown",
   "metadata": {},
   "source": [
    "### How to evaluate?"
   ]
  },
  {
   "cell_type": "markdown",
   "metadata": {},
   "source": [
    "This is a good exercise, but how can we use this to get the Taylor polynomial of f?, for each differentiation level, observe each term can be evaluated at a constant number of vectors $v \\in X$"
   ]
  },
  {
   "cell_type": "markdown",
   "metadata": {},
   "source": [
    "Recalling that we can view derivatives as linear maps"
   ]
  },
  {
   "cell_type": "markdown",
   "metadata": {},
   "source": [
    "### Extracting the Taylor polynomial"
   ]
  },
  {
   "cell_type": "markdown",
   "metadata": {},
   "source": [
    "We want to get a polynomial from the k-th partial of $h$, to do this we evaluate on variants of the basis vector to get coefficients of the term in the polynomial, for example; if we want to find the coefficient of:\n",
    "\n",
    "$$x_{1}^2 x_{3}$$"
   ]
  },
  {
   "cell_type": "markdown",
   "metadata": {},
   "source": [
    "then we would evaluate:\n",
    "\n",
    "\n",
    "$$h_{XXX}(e_{1}, e_{1}, e_{3})$$"
   ]
  },
  {
   "cell_type": "markdown",
   "metadata": {},
   "source": [
    "Well almost, in fact we would need to combine the coefficients of:\n",
    "\n",
    "$$x_{1} x_{1} x_{3}, \\;\\; x_{1} x_{3} x_{1}, \\;\\; x_{3} x_{1} x_{1}$$\n",
    "\n",
    "Summming them"
   ]
  },
  {
   "cell_type": "markdown",
   "metadata": {},
   "source": [
    "See that the formula for the number of these evaluations is:"
   ]
  },
  {
   "cell_type": "markdown",
   "metadata": {},
   "source": [
    "$$\\frac{3!}{2! 1!}$$"
   ]
  },
  {
   "cell_type": "markdown",
   "metadata": {},
   "source": [
    "Since we can view as a permuation of $S_n$ where some are indistinguishable since variable have the same name"
   ]
  },
  {
   "cell_type": "markdown",
   "metadata": {},
   "source": [
    "In general:\n",
    "\n",
    "$$n_{\\text{evals}}\\left(\\prod_{i = 1}^{n} {x_{i}^{k_{i}}}\\right) = \\frac{n!}{k_{1}! \\cdots k_{n}!} $$"
   ]
  },
  {
   "cell_type": "markdown",
   "metadata": {},
   "source": [
    "But by symmetry of the derivative multilinear map we only need to evaluate once, then multiple by this $n_{\\text{evals}}$ value and we are done"
   ]
  },
  {
   "cell_type": "code",
   "execution_count": 10,
   "metadata": {},
   "outputs": [],
   "source": [
    "# TODO will need to use tensors\n",
    "# since h will lead to arbitrary elements of Y\n",
    "# numpy implementation probably the best way to go\n",
    "# but will need a way to extract partial information in a sensible way to build the tensor"
   ]
  },
  {
   "cell_type": "markdown",
   "metadata": {},
   "source": [
    "### Tensor implementation"
   ]
  },
  {
   "cell_type": "markdown",
   "metadata": {},
   "source": [
    "I will implement a symbolic tensor class, interestingly the pandas dataframe class supports both multindexing and custom index collapsing operations, as such I will store the tensor information in one of these for now"
   ]
  },
  {
   "cell_type": "markdown",
   "metadata": {},
   "source": [
    "We will aim to mimic the functionality of the numpy tensor class, here we build a 3-dimensional tensor"
   ]
  },
  {
   "cell_type": "code",
   "execution_count": 11,
   "metadata": {},
   "outputs": [],
   "source": [
    "x = np.array([[[56, 183, 1],\n",
    "               [65, 164, 0]],\n",
    "              [[85, 176, 1],\n",
    "               [44, 164, 0]]])"
   ]
  },
  {
   "cell_type": "code",
   "execution_count": 12,
   "metadata": {},
   "outputs": [
    {
     "name": "stdout",
     "output_type": "stream",
     "text": [
      "[[[ 56 183   1]\n",
      "  [ 65 164   0]]\n",
      "\n",
      " [[ 85 176   1]\n",
      "  [ 44 164   0]]]\n"
     ]
    }
   ],
   "source": [
    "print(x)"
   ]
  },
  {
   "cell_type": "code",
   "execution_count": 13,
   "metadata": {},
   "outputs": [
    {
     "data": {
      "text/plain": [
       "164"
      ]
     },
     "execution_count": 13,
     "metadata": {},
     "output_type": "execute_result"
    }
   ],
   "source": [
    "x[0][1][1]"
   ]
  },
  {
   "cell_type": "code",
   "execution_count": 14,
   "metadata": {},
   "outputs": [
    {
     "name": "stdout",
     "output_type": "stream",
     "text": [
      "[[0, 1, 2]]\n"
     ]
    }
   ],
   "source": [
    "a = []\n",
    "a.append(list(range(0, 3)))\n",
    "print(a)"
   ]
  },
  {
   "cell_type": "code",
   "execution_count": 140,
   "metadata": {},
   "outputs": [],
   "source": [
    "class SymbolicXYTensor():\n",
    "        def __init__(self, x_dim, y_dim, xy_order):\n",
    "            self.x_dim = x_dim\n",
    "            self.y_dim = y_dim\n",
    "            self.xy_order = xy_order\n",
    "            self.data = pd.DataFrame\n",
    "            \n",
    "            # the sets from which we draw the possible multi-indices\n",
    "            x_dims = list(range(1, x_dim+1)) \n",
    "            y_dims = list(range(1, y_dim+1))\n",
    "            x_dims = ['x' + str(dim) for dim in x_dims]\n",
    "            y_dims = ['y' + str(dim) for dim in y_dims]\n",
    "\n",
    "            iterables = [] \n",
    "\n",
    "            self.size = 1\n",
    "            for space in self.xy_order:\n",
    "                if (space == 'x') or (space == 'X'):\n",
    "                    iterables.append(x_dims)\n",
    "                    self.size = self.size*x_dim \n",
    "                elif (space == 'y') or (space == 'Y'):\n",
    "                    iterables.append(y_dims)\n",
    "                    self.size = self.size*y_dim\n",
    "                else:\n",
    "                    raise(Exception('invalid xy_order syntax'))\n",
    "\n",
    "            multindex = pd.MultiIndex.from_product(iterables, names = list(range(1, len(xy_order) + 1)))\n",
    "\n",
    "            self.data = pd.DataFrame(pd.Series(np.zeros(self.size), index = multindex), columns = ['data'] )\n",
    "            \n",
    "        def fill_from_function(self, function, var_dict, position):\n",
    "            def row_func(row):\n",
    "                partials = row.name # a tuple\n",
    "                temp = function # will be differentiating\n",
    "                #print(row.name)\n",
    "                for partial in partials:\n",
    "                    temp = temp.diff(var_dict[partial])\n",
    "                    #lprint(temp)\n",
    "                return temp(*position) # unpack tuple as coordinates\n",
    "\n",
    "                \n",
    "            self.data['data'] = self.data.apply(row_func, axis = 1)\n",
    "            \n",
    "        def vec_mult(self, vec):\n",
    "            if len(self.xy_order) == 1:\n",
    "                # dual space case\n",
    "                return sum(self.data['data']*vec)\n",
    "            \n",
    "            out = SymbolicXYTensor(x_dim = self.x_dim, y_dim = self.y_dim, xy_order = self.xy_order[:-1])\n",
    "            \n",
    "            out.data = self.data.copy(deep = True)\n",
    "            out.data['vec'] = list(vec)*int(out.size)\n",
    "            out.data['data'] = out.data['data']*out.data['vec']\n",
    "            \n",
    "            out.data = out.data.groupby(level=[Integer(i) for i in range(1,len(self.xy_order))]).sum().drop(columns = 'vec')\n",
    "            return out\n",
    "            # for some reason only sage integers work here, who knows why\n",
    "   \n"
   ]
  },
  {
   "cell_type": "code",
   "execution_count": 141,
   "metadata": {},
   "outputs": [
    {
     "data": {
      "text/markdown": [
       "$ \\left( x_{1}, x_{2}, x_{3}, y_{1}, y_{2} \\right) \\ {\\mapsto} \\ x_{1} x_{2} x_{3} y_{1} + \\cos\\left(y_{2}\\right) $"
      ],
      "text/plain": [
       "<IPython.core.display.Markdown object>"
      ]
     },
     "metadata": {},
     "output_type": "display_data"
    },
    {
     "data": {
      "text/markdown": [
       "$ \\left( x_{1}, x_{2}, x_{3}, y_{1}, y_{2} \\right) \\ {\\mapsto} \\ {\\left(x_{3} - y_{2}\\right)}^{3} + \\sin\\left(x_{1} + x_{2} + y_{1}\\right) $"
      ],
      "text/plain": [
       "<IPython.core.display.Markdown object>"
      ]
     },
     "metadata": {},
     "output_type": "display_data"
    }
   ],
   "source": [
    "var('x1 x2 x3 y1 y2')\n",
    "var('l', latex_name=r'\\lambda') # raw string kills off some random error\n",
    "f1(x1, x2, x3, y1, y2) = x1*x2*x3*y1 + cos(y2)\n",
    "f2(x1, x2, x3, y1, y2) = sin(x1 + x2 + y1) + (x3 - y2)^3\n",
    "lprint(f1)\n",
    "lprint(f2)"
   ]
  },
  {
   "cell_type": "code",
   "execution_count": 148,
   "metadata": {},
   "outputs": [
    {
     "data": {
      "text/html": [
       "<div>\n",
       "<style scoped>\n",
       "    .dataframe tbody tr th:only-of-type {\n",
       "        vertical-align: middle;\n",
       "    }\n",
       "\n",
       "    .dataframe tbody tr th {\n",
       "        vertical-align: top;\n",
       "    }\n",
       "\n",
       "    .dataframe thead th {\n",
       "        text-align: right;\n",
       "    }\n",
       "</style>\n",
       "<table border=\"1\" class=\"dataframe\">\n",
       "  <thead>\n",
       "    <tr style=\"text-align: right;\">\n",
       "      <th></th>\n",
       "      <th></th>\n",
       "      <th></th>\n",
       "      <th>data</th>\n",
       "    </tr>\n",
       "    <tr>\n",
       "      <th>1</th>\n",
       "      <th>2</th>\n",
       "      <th>3</th>\n",
       "      <th></th>\n",
       "    </tr>\n",
       "  </thead>\n",
       "  <tbody>\n",
       "    <tr>\n",
       "      <th rowspan=\"5\" valign=\"top\">x1</th>\n",
       "      <th rowspan=\"3\" valign=\"top\">y1</th>\n",
       "      <th>x1</th>\n",
       "      <td>-cos(3)</td>\n",
       "    </tr>\n",
       "    <tr>\n",
       "      <th>x2</th>\n",
       "      <td>-cos(3)</td>\n",
       "    </tr>\n",
       "    <tr>\n",
       "      <th>x3</th>\n",
       "      <td>0</td>\n",
       "    </tr>\n",
       "    <tr>\n",
       "      <th rowspan=\"2\" valign=\"top\">y2</th>\n",
       "      <th>x1</th>\n",
       "      <td>0</td>\n",
       "    </tr>\n",
       "    <tr>\n",
       "      <th>x2</th>\n",
       "      <td>0</td>\n",
       "    </tr>\n",
       "  </tbody>\n",
       "</table>\n",
       "</div>"
      ],
      "text/plain": [
       "             data\n",
       "1  2  3          \n",
       "x1 y1 x1  -cos(3)\n",
       "      x2  -cos(3)\n",
       "      x3        0\n",
       "   y2 x1        0\n",
       "      x2        0"
      ]
     },
     "execution_count": 148,
     "metadata": {},
     "output_type": "execute_result"
    }
   ],
   "source": [
    "a = SymbolicXYTensor(x_dim = 3, y_dim = 2,xy_order = 'XYX')\n",
    "\n",
    "a.fill_from_function(f2, {'x1' : x1, 'x2' : x2, 'x3' : x3, 'y1' : y1, 'y2' : y2}, (1,1,1,1,1))\n",
    "\n",
    "vec1 = (1,2,1)\n",
    "vec2 = (-1,1)\n",
    "vec3 = (1,2,3)\n",
    "\n",
    "a.data.head()"
   ]
  },
  {
   "cell_type": "code",
   "execution_count": 143,
   "metadata": {},
   "outputs": [
    {
     "data": {
      "text/html": [
       "<div>\n",
       "<style scoped>\n",
       "    .dataframe tbody tr th:only-of-type {\n",
       "        vertical-align: middle;\n",
       "    }\n",
       "\n",
       "    .dataframe tbody tr th {\n",
       "        vertical-align: top;\n",
       "    }\n",
       "\n",
       "    .dataframe thead th {\n",
       "        text-align: right;\n",
       "    }\n",
       "</style>\n",
       "<table border=\"1\" class=\"dataframe\">\n",
       "  <thead>\n",
       "    <tr style=\"text-align: right;\">\n",
       "      <th></th>\n",
       "      <th></th>\n",
       "      <th>data</th>\n",
       "    </tr>\n",
       "    <tr>\n",
       "      <th>1</th>\n",
       "      <th>2</th>\n",
       "      <th></th>\n",
       "    </tr>\n",
       "  </thead>\n",
       "  <tbody>\n",
       "    <tr>\n",
       "      <th rowspan=\"2\" valign=\"top\">x1</th>\n",
       "      <th>y1</th>\n",
       "      <td>-3*cos(3)</td>\n",
       "    </tr>\n",
       "    <tr>\n",
       "      <th>y2</th>\n",
       "      <td>0</td>\n",
       "    </tr>\n",
       "    <tr>\n",
       "      <th rowspan=\"2\" valign=\"top\">x2</th>\n",
       "      <th>y1</th>\n",
       "      <td>-3*cos(3)</td>\n",
       "    </tr>\n",
       "    <tr>\n",
       "      <th>y2</th>\n",
       "      <td>0</td>\n",
       "    </tr>\n",
       "    <tr>\n",
       "      <th rowspan=\"2\" valign=\"top\">x3</th>\n",
       "      <th>y1</th>\n",
       "      <td>0</td>\n",
       "    </tr>\n",
       "    <tr>\n",
       "      <th>y2</th>\n",
       "      <td>-6</td>\n",
       "    </tr>\n",
       "  </tbody>\n",
       "</table>\n",
       "</div>"
      ],
      "text/plain": [
       "            data\n",
       "1  2            \n",
       "x1 y1  -3*cos(3)\n",
       "   y2          0\n",
       "x2 y1  -3*cos(3)\n",
       "   y2          0\n",
       "x3 y1          0\n",
       "   y2         -6"
      ]
     },
     "execution_count": 143,
     "metadata": {},
     "output_type": "execute_result"
    }
   ],
   "source": [
    "a.vec_mult(vec1).data"
   ]
  },
  {
   "cell_type": "code",
   "execution_count": 144,
   "metadata": {},
   "outputs": [
    {
     "data": {
      "text/html": [
       "<div>\n",
       "<style scoped>\n",
       "    .dataframe tbody tr th:only-of-type {\n",
       "        vertical-align: middle;\n",
       "    }\n",
       "\n",
       "    .dataframe tbody tr th {\n",
       "        vertical-align: top;\n",
       "    }\n",
       "\n",
       "    .dataframe thead th {\n",
       "        text-align: right;\n",
       "    }\n",
       "</style>\n",
       "<table border=\"1\" class=\"dataframe\">\n",
       "  <thead>\n",
       "    <tr style=\"text-align: right;\">\n",
       "      <th></th>\n",
       "      <th>data</th>\n",
       "    </tr>\n",
       "    <tr>\n",
       "      <th>1</th>\n",
       "      <th></th>\n",
       "    </tr>\n",
       "  </thead>\n",
       "  <tbody>\n",
       "    <tr>\n",
       "      <th>x1</th>\n",
       "      <td>3*cos(3)</td>\n",
       "    </tr>\n",
       "    <tr>\n",
       "      <th>x2</th>\n",
       "      <td>3*cos(3)</td>\n",
       "    </tr>\n",
       "    <tr>\n",
       "      <th>x3</th>\n",
       "      <td>-6</td>\n",
       "    </tr>\n",
       "  </tbody>\n",
       "</table>\n",
       "</div>"
      ],
      "text/plain": [
       "        data\n",
       "1           \n",
       "x1  3*cos(3)\n",
       "x2  3*cos(3)\n",
       "x3        -6"
      ]
     },
     "execution_count": 144,
     "metadata": {},
     "output_type": "execute_result"
    }
   ],
   "source": [
    "a.vec_mult(vec1).vec_mult(vec2).data"
   ]
  },
  {
   "cell_type": "code",
   "execution_count": 149,
   "metadata": {},
   "outputs": [
    {
     "data": {
      "text/markdown": [
       "$ 9 \\, \\cos\\left(3\\right) - 18 $"
      ],
      "text/plain": [
       "<IPython.core.display.Markdown object>"
      ]
     },
     "metadata": {},
     "output_type": "display_data"
    }
   ],
   "source": [
    "lprint(a.vec_mult(vec1).vec_mult(vec2).vec_mult(vec3))"
   ]
  },
  {
   "cell_type": "markdown",
   "metadata": {},
   "source": [
    "It works! we evaluated the slots of $f_{XYX}$ right from left\n",
    "\n",
    "This tensor just got us the value for the first slot of the output, a similar process with the f2 function would get that"
   ]
  },
  {
   "cell_type": "code",
   "execution_count": 150,
   "metadata": {},
   "outputs": [],
   "source": [
    "# TODO - check this works like the numpy version"
   ]
  },
  {
   "cell_type": "code",
   "execution_count": null,
   "metadata": {},
   "outputs": [],
   "source": []
  }
 ],
 "metadata": {
  "kernelspec": {
   "display_name": "SageMath 9.2",
   "language": "sage",
   "name": "sagemath"
  },
  "language_info": {
   "codemirror_mode": {
    "name": "ipython",
    "version": 3
   },
   "file_extension": ".py",
   "mimetype": "text/x-python",
   "name": "python",
   "nbconvert_exporter": "python",
   "pygments_lexer": "ipython3",
   "version": "3.7.7"
  }
 },
 "nbformat": 4,
 "nbformat_minor": 4
}
