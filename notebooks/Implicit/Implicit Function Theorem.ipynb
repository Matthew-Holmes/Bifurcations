{
 "cells": [
  {
   "cell_type": "code",
   "execution_count": 11,
   "metadata": {},
   "outputs": [],
   "source": [
    "from IPython.display import display, Markdown\n",
    "import copy\n",
    "def latexify(x):\n",
    "    out = '$' + x + '$'\n",
    "    return out\n",
    "\n",
    "def lprint(x):\n",
    "    display(Markdown(latexify(latex(x))))"
   ]
  },
  {
   "cell_type": "markdown",
   "metadata": {},
   "source": [
    "# Implicit Function Theorem"
   ]
  },
  {
   "cell_type": "markdown",
   "metadata": {},
   "source": [
    "The implicit function theorem is a core ingredient in bifurcation theory, in this notebook we will explore how to apply it algorithmically "
   ]
  },
  {
   "cell_type": "markdown",
   "metadata": {},
   "source": [
    "## Statement of theorem"
   ]
  },
  {
   "cell_type": "markdown",
   "metadata": {},
   "source": [
    "We will consider functions of the form:\n",
    "\n",
    "$$f : \\mathbb{R}^n+m \\rightarrow \\mathbb{R}^m $$\n",
    "\n",
    "usually k-times continuously differentiable for $k \\in \\mathbb{N}$\n",
    "\n",
    "The implicit function theorem is used to characterise the zero set of the function around a know solution, suppose (without loss of generality) that:\n",
    "\n",
    "$$f(0) = 0$$\n",
    "\n",
    "We then split $\\mathbb{R}^n$ into the product of two spaces:\n",
    "\n",
    "$$\\mathbb{R}^{n+m} = \\mathbb{R}^n \\times \\mathbb{R}^m$$ \n",
    "\n",
    "From here on we denote $\\mathbb{R}^n = X$ and $\\mathbb{R}^m = Y$\n",
    "\n",
    "So that:\n",
    "\n",
    "$$f : X \\times Y \\rightarrow \\mathbb{R}^m$$\n",
    "\n",
    "If we then suppose that the derivtative with respect to $Y$ is an isomorphism at 0, i.e:\n",
    "\n",
    "$$\\partial_{Y}f(0,0)$$ is invertible\n",
    "\n",
    "Then the Implict Function Theorem states that there exists, open subsets of $X$ and $Y$ and a k-times differentiable function:\n",
    "\n",
    "$$h : U_{X} \\rightarrow U_{y}$$\n",
    "\n",
    "That paramatrises the zero set of $f$ close to zero:\n",
    "\n",
    "$$\\{ (x,y) \\in U_{X} \\times U_{Y} \\;| \\;\\; f(x,y) = 0 \\} = \\{ (x,h(x)) \\;\\; | \\;\\; x \\in U_{X} \\}$$"
   ]
  },
  {
   "cell_type": "markdown",
   "metadata": {},
   "source": [
    "## Computing $h$"
   ]
  },
  {
   "cell_type": "markdown",
   "metadata": {},
   "source": [
    "We will now construct an algorithm, that can produce a Taylor polynomial approximation of the $h$ function, assuming we know that $\\mathbb{R}^{n+m}$ meets the conditions required."
   ]
  },
  {
   "cell_type": "markdown",
   "metadata": {},
   "source": [
    "Recall that:\n",
    "\n",
    "$$h(x) = h(a) + \\frac{h'(a)}{1!}(x-a) + \\frac{h(a)}{2!}(x-a)^2 + \\frac{h'(a)}{3!}(x-a)^3+\\dotsb = \\sum_{k=0}^\\infty \\frac{h^{\\left(k\\right)}(a)}{k!} (x-a)^k$$\n",
    "\n",
    "is the k-th order Taylor expansion of $h$ at 0"
   ]
  },
  {
   "cell_type": "markdown",
   "metadata": {},
   "source": [
    "We require a way to find the derivatives of $h$, specifically:\n",
    "\n",
    "$\\partial_{X}h$,     $\\partial_{XX}h$,     $\\partial_{XXX}h$ \n",
    "\n",
    "and so on"
   ]
  },
  {
   "cell_type": "markdown",
   "metadata": {},
   "source": [
    "To do this observe that since $f(x, h(x)) = 0 \\;\\;\\forall x \\in U_{X}$\n",
    "\n",
    "$$ \\partial_{X}^{k}f(x,h(x)) = 0 \\;\\; \\forall k \\in \\mathbb{N}, \\forall x \\in U_{X}$$"
   ]
  },
  {
   "cell_type": "markdown",
   "metadata": {},
   "source": [
    "The first couple of applications of this idea are:"
   ]
  },
  {
   "cell_type": "markdown",
   "metadata": {},
   "source": [
    "$$ 0 = f(x, h(x))$$\n",
    "\n",
    "$$ 0 = f_{X} + f_{Y}h_{X}$$ \n",
    "\n",
    "$$ 0 = f_{XX} + 2f_{XY}h_{X} + f_{YY}h_{X}^2 + f_{Y}h_{XX}$$\n",
    "\n",
    "(now omitting inner variables for brevity) "
   ]
  },
  {
   "cell_type": "markdown",
   "metadata": {},
   "source": [
    "https://math.stackexchange.com/questions/2037753/implicit-function-theorem-second-derivative-calculation-help"
   ]
  },
  {
   "cell_type": "markdown",
   "metadata": {},
   "source": [
    "By assumption $f_{Y}$ is always invertible, so we can solve for the values of $h_{X}$ and $h_{XX}$.\n",
    "\n",
    "Note that:\n",
    "\n",
    "$$ h(0) = 0$$ \n",
    "\n",
    "since it can't be anything else, otherwise $(0,0)$, wouldn't be in the zero set - a contradiction"
   ]
  },
  {
   "cell_type": "markdown",
   "metadata": {},
   "source": [
    "### Iterating the derivative"
   ]
  },
  {
   "cell_type": "markdown",
   "metadata": {},
   "source": [
    "First we consider how to generate equation of the form above, we can split each term at each plus sign into a generalised term of the form:"
   ]
  },
  {
   "cell_type": "markdown",
   "metadata": {},
   "source": [
    "$$ c \\; f_{\\alpha X \\beta Y} \\prod_{i = 1}^{n} {h_{\\gamma _{i} X}^{k_{i}} } $$"
   ]
  },
  {
   "cell_type": "markdown",
   "metadata": {},
   "source": [
    "I.e. a constant multiplied by a mixed partial of $f$ multiplied by a product of varying powers of varying $X$ partials of h"
   ]
  },
  {
   "cell_type": "markdown",
   "metadata": {},
   "source": [
    "If we can form an encoding scheme for terms like this, and a way to differentiate them with respect to $X$ then we have a method to generate arbitrarlily high order equations to solve."
   ]
  },
  {
   "cell_type": "markdown",
   "metadata": {},
   "source": [
    "#### Differentiating"
   ]
  },
  {
   "cell_type": "markdown",
   "metadata": {},
   "source": [
    "We consider:\n",
    "\n",
    "$$ \\partial_{X} \\left[ c \\; f_{\\alpha X \\beta Y} \\prod_{i = 1}^{n} {h_{\\gamma_{i} X}^{k_{i}} } \\right] $$\n",
    "\n",
    "\n",
    "$$ = c \\left[ \\left( \\partial_{X} f_{\\alpha X \\beta Y} \\right)\\prod_{i = 1}^{n} {h_{\\gamma_{i} X}^{k_{i}} } + f_{\\alpha X \\beta Y}\\left( \\partial_{X} \\prod_{i = 1}^{n} {h_{\\gamma_{i} X}^{k_{i}} } \\right) \\right] $$"
   ]
  },
  {
   "cell_type": "markdown",
   "metadata": {},
   "source": [
    "Splitting this into the two expressions either side of the $+$"
   ]
  },
  {
   "cell_type": "markdown",
   "metadata": {},
   "source": [
    "$$ \\left( \\partial_{X} f_{\\alpha X \\beta Y} \\right)\\prod_{i = 1}^{n} {h_{\\gamma_{i} X}^{k_{i}} } = \\left(f_{(\\alpha +1)X \\beta Y} + f_{\\alpha X (\\beta + 1)Y} h_{X} \\right) \\prod_{i = 1}^{n} {h_{\\gamma_{i} X}^{k_{i}}} $$"
   ]
  },
  {
   "cell_type": "markdown",
   "metadata": {},
   "source": [
    "And:"
   ]
  },
  {
   "cell_type": "markdown",
   "metadata": {},
   "source": [
    "$$ f_{\\alpha X \\beta Y}\\left( \\partial_{X} \\prod_{i = 1}^{n} {h_{\\gamma_{i} X}^{k_{i}} } \\right) = f_{\\alpha X \\beta Y} \\sum_{i = 1}^{n} {\\left( \\partial_{X} h_{\\gamma_{i} X}^{k_{i}} \\right) \\prod_{\\substack{j = 1 \\\\ j \\neq i}}^{k} h_{\\gamma _{j}x}^{k_{j}} } = f_{\\alpha X \\beta Y} \\sum_{i = 1}^{n} {\\left( k_{i} \\; h_{\\gamma _{i} X}^{k_{i}-1} \\; h_{(\\gamma _{i} + 1)X} \\right) \\prod_{\\substack{j = 1 \\\\ j \\neq i}}^{k} h_{\\gamma _{j}x}^{k_{j}} } $$"
   ]
  },
  {
   "cell_type": "markdown",
   "metadata": {},
   "source": [
    "While very complicated, we see that all the terms we computed stay as sums of expressions of the form:\n",
    "\n",
    "$$ c \\; f_{\\alpha X \\beta Y} \\prod_{i = 1}^{n} {h_{\\gamma _{i} X}^{k_{i}} } $$"
   ]
  },
  {
   "cell_type": "markdown",
   "metadata": {},
   "source": [
    "So inductively we see how the code can proceed"
   ]
  },
  {
   "cell_type": "markdown",
   "metadata": {},
   "source": [
    "#### Coding the expression block storage + representation"
   ]
  },
  {
   "cell_type": "markdown",
   "metadata": {},
   "source": [
    "Now we build the framework to do this, to stay in the spirit of sage, a latex output will be avaible. For expressions of the form:"
   ]
  },
  {
   "cell_type": "markdown",
   "metadata": {},
   "source": [
    "$$ c \\; f_{\\alpha X \\beta Y} \\prod_{i = 1}^{n} {h_{\\gamma _{i} X}^{k_{i}} } $$"
   ]
  },
  {
   "cell_type": "markdown",
   "metadata": {},
   "source": [
    "Also implemented is the differentiation rule derived earlier, returning a list of ExpressionBlock objects"
   ]
  },
  {
   "cell_type": "code",
   "execution_count": 87,
   "metadata": {},
   "outputs": [
    {
     "data": {
      "text/markdown": [
       "$ 4 f_{XX Y } h_{XXX}^{4} h $"
      ],
      "text/plain": [
       "<IPython.core.display.Markdown object>"
      ]
     },
     "metadata": {},
     "output_type": "display_data"
    },
    {
     "data": {
      "text/markdown": [
       "$ f $"
      ],
      "text/plain": [
       "<IPython.core.display.Markdown object>"
      ]
     },
     "metadata": {},
     "output_type": "display_data"
    },
    {
     "data": {
      "text/markdown": [
       "$ f_{X } $"
      ],
      "text/plain": [
       "<IPython.core.display.Markdown object>"
      ]
     },
     "metadata": {},
     "output_type": "display_data"
    },
    {
     "data": {
      "text/markdown": [
       "$ f_{Y } h_{X} $"
      ],
      "text/plain": [
       "<IPython.core.display.Markdown object>"
      ]
     },
     "metadata": {},
     "output_type": "display_data"
    },
    {
     "data": {
      "text/plain": [
       "[None, None]"
      ]
     },
     "execution_count": 87,
     "metadata": {},
     "output_type": "execute_result"
    }
   ],
   "source": [
    "class ExpressionBlock:\n",
    "    def __init__(self, c = 1, alpha = 0, beta = 0, ktuples = (), func1 = 'f', func2 = 'h', X = 'X', Y = 'Y'):\n",
    "        self.c = c\n",
    "        self.alpha = alpha\n",
    "        self.beta = beta\n",
    "        self.ktuples = ktuples # for python reason is important to be immutable, i.e. tuple not list\n",
    "        self.func1 = func1\n",
    "        self.func2 = func2\n",
    "        self.X = X\n",
    "        self.Y = Y\n",
    "        \n",
    "    def __str__(self):\n",
    "        # overide representation so can be printed as latex\n",
    "        if self.c == 0:\n",
    "            return \"\"\n",
    "        \n",
    "        out = \"\"\n",
    "        # add the constant\n",
    "        if self.c != 1:\n",
    "            out += str(self.c) + \" \"\n",
    "            \n",
    "        # add f\n",
    "        out += self.func1\n",
    "        \n",
    "        # add partials if there are any\n",
    "        if (self.alpha != 0) or (self.beta != 0):\n",
    "            out += \"_{\"\n",
    "            # just concatenate them\n",
    "            # TODO use numbers for values greater than 5\n",
    "            if self.alpha != 0:\n",
    "                out += self.X*self.alpha + \" \"\n",
    "            if self.beta != 0:\n",
    "                out += self.Y*self.beta + \" \"\n",
    "            out += \"} \"\n",
    "            \n",
    "        for pair in self.ktuples:\n",
    "            # pairs are (gamma, k)\n",
    "            if pair[1] == 0:\n",
    "                # zeroth power of anything is 1, factor of 1 changes nothing - skip\n",
    "                continue\n",
    "            out += self.func2\n",
    "            if pair[0] != 0:\n",
    "                # gamma\n",
    "                out += \"_{\" + self.X*pair[0] + \"}\"\n",
    "            if pair[1] != 1:\n",
    "                # k\n",
    "                # already ruled out possibility of zero\n",
    "                out += \"^{\" + str(pair[1]) + \"} \" \n",
    "                \n",
    "        # and we are done, here just list out the h terms               \n",
    "        return out\n",
    "\n",
    "    def _latex_(self):\n",
    "        # so works with lprint\n",
    "        return str(self)\n",
    "    \n",
    "    def diff(self):\n",
    "        # apply the rule we worked out before\n",
    "        # returns a list of ExpressionBlock instances\n",
    "        \n",
    "        out = []\n",
    "        # first half\n",
    "        temp = copy.deepcopy(self)\n",
    "        temp.alpha +=1\n",
    "        out.append(temp)\n",
    "        \n",
    "        temp = copy.deepcopy(self)\n",
    "        temp.beta += 1\n",
    "        temp.ktuples = ((1,1),) + temp.ktuples # comma so reads as ( (1,1) ) not just (1,1)\n",
    "        out.append(temp)\n",
    "        \n",
    "        # second half\n",
    "        # loop over each term in the sum\n",
    "        for idi, ktuple in enumerate(self.ktuples):\n",
    "            # ktuple = (gamma, k)\n",
    "            # indexing starts from 0\n",
    "            temp = copy.deepcopy(self)\n",
    "            temp.c = temp.c * ktuple[1] # update constant\n",
    "            \n",
    "            # remove the term we differentiate here, i=j \n",
    "            temp.ktuples = temp.ktuples[:idi] + temp.ktuples[idi+1:]\n",
    "            \n",
    "            # add higher X partial\n",
    "            temp.ktuples = ((ktuple[0] + 1, 1),) + temp.ktuples\n",
    "            \n",
    "            # if we end up with h^0 then don't need to add, since will just be a multiple of 1\n",
    "            if ktuple[1] != 1:\n",
    "                temp.ktuples = ((ktuple[0], ktuple[1] - 1),) + temp.ktuples\n",
    "\n",
    "            out.append(temp)\n",
    "            \n",
    "        # and we are done\n",
    "        return out\n",
    "            \n",
    "            \n",
    "            \n",
    "            \n",
    "\n",
    "        \n",
    "        \n",
    "        \n",
    "\n",
    "        \n",
    "        \n",
    "        \n",
    "k1 = ExpressionBlock(c = 4,alpha = 2, beta = 1, ktuples = ((3,4),(0,1)))\n",
    "lprint(k1)\n",
    "k2 = ExpressionBlock()\n",
    "lprint(k2)\n",
    "\n",
    "[lprint(i) for i in k2.diff()]"
   ]
  },
  {
   "cell_type": "markdown",
   "metadata": {},
   "source": [
    "We see that at least for $f$ the rule works, lets wrap this up into a new class that deals with multiple blocks"
   ]
  },
  {
   "cell_type": "code",
   "execution_count": 118,
   "metadata": {},
   "outputs": [
    {
     "data": {
      "text/markdown": [
       "$ 4 f_{XX Y } h_{XXX}^{4} h $"
      ],
      "text/plain": [
       "<IPython.core.display.Markdown object>"
      ]
     },
     "metadata": {},
     "output_type": "display_data"
    },
    {
     "data": {
      "text/markdown": [
       "$ 4 f_{XXX Y } h_{XXX}^{4} h + 4 f_{XX YY } h_{X}h_{XXX}^{4} h + 16 f_{XX Y } h_{XXX}^{3} h_{XXXX}h + 4 f_{XX Y } h_{X}h_{XXX}^{4} $"
      ],
      "text/plain": [
       "<IPython.core.display.Markdown object>"
      ]
     },
     "metadata": {},
     "output_type": "display_data"
    }
   ],
   "source": [
    "class Expression:\n",
    "    def __init__(self, blocks = [ExpressionBlock()]):\n",
    "        if blocks is None:\n",
    "            self.blocks = [] # python reasons - list is mutable\n",
    "        else:\n",
    "            self.blocks = blocks\n",
    "            \n",
    "    def __str__(self):\n",
    "        if not self.blocks:\n",
    "            # empty list\n",
    "            return \"\"\n",
    "        out = \"\"\n",
    "        for block in self.blocks:\n",
    "            # should be an instance of the ExpressionBlock class\n",
    "            out += str(block) + \" + \"\n",
    "        \n",
    "        out = out[:-3] # remove last plus\n",
    "        \n",
    "        return out\n",
    "    \n",
    "    def _latex_(self):\n",
    "        # so works with lprint\n",
    "        return str(self)\n",
    "    \n",
    "    \n",
    "    def diff(self):\n",
    "        # returns a new Expression object that is the partial x derivative of the old one\n",
    "        out = []\n",
    "        for block in self.blocks:\n",
    "            block_list = block.diff()\n",
    "            \n",
    "            # append to the list\n",
    "            out += block_list\n",
    "            \n",
    "        return Expression(blocks = out)\n",
    "            \n",
    "        \n",
    "            \n",
    "    \n",
    "\n",
    "e = Expression(blocks = [k1])\n",
    "lprint(e)\n",
    "lprint(e.diff())"
   ]
  },
  {
   "cell_type": "markdown",
   "metadata": {},
   "source": [
    "This all seems to be working fine"
   ]
  },
  {
   "cell_type": "code",
   "execution_count": 119,
   "metadata": {},
   "outputs": [
    {
     "data": {
      "text/markdown": [
       "$ f $"
      ],
      "text/plain": [
       "<IPython.core.display.Markdown object>"
      ]
     },
     "metadata": {},
     "output_type": "display_data"
    }
   ],
   "source": [
    "b = ExpressionBlock()\n",
    "lprint(b)"
   ]
  },
  {
   "cell_type": "markdown",
   "metadata": {},
   "source": [
    "Now put into an expresssion so we can differentiate:"
   ]
  },
  {
   "cell_type": "code",
   "execution_count": 120,
   "metadata": {},
   "outputs": [
    {
     "data": {
      "text/markdown": [
       "$ f $"
      ],
      "text/plain": [
       "<IPython.core.display.Markdown object>"
      ]
     },
     "metadata": {},
     "output_type": "display_data"
    }
   ],
   "source": [
    "e = Expression(blocks = [b])\n",
    "lprint(e)"
   ]
  },
  {
   "cell_type": "code",
   "execution_count": 121,
   "metadata": {},
   "outputs": [
    {
     "data": {
      "text/markdown": [
       "$ f_{X }  + f_{Y } h_{X} $"
      ],
      "text/plain": [
       "<IPython.core.display.Markdown object>"
      ]
     },
     "metadata": {},
     "output_type": "display_data"
    }
   ],
   "source": [
    "lprint(e.diff())"
   ]
  },
  {
   "cell_type": "code",
   "execution_count": 122,
   "metadata": {},
   "outputs": [
    {
     "data": {
      "text/markdown": [
       "$ f_{XX }  + f_{X Y } h_{X} + f_{X Y } h_{X} + f_{YY } h_{X}h_{X} + f_{Y } h_{XX} $"
      ],
      "text/plain": [
       "<IPython.core.display.Markdown object>"
      ]
     },
     "metadata": {},
     "output_type": "display_data"
    }
   ],
   "source": [
    "lprint(e.diff().diff())"
   ]
  },
  {
   "cell_type": "markdown",
   "metadata": {},
   "source": [
    "We see that this is working as we expect, though w"
   ]
  },
  {
   "cell_type": "code",
   "execution_count": 123,
   "metadata": {},
   "outputs": [
    {
     "data": {
      "text/markdown": [
       "$ f_{XXX }  + f_{XX Y } h_{X} + f_{XX Y } h_{X} + f_{X YY } h_{X}h_{X} + f_{X Y } h_{XX} + f_{XX Y } h_{X} + f_{X YY } h_{X}h_{X} + f_{X Y } h_{XX} + f_{X YY } h_{X}h_{X} + f_{YYY } h_{X}h_{X}h_{X} + f_{YY } h_{XX}h_{X} + f_{YY } h_{XX}h_{X} + f_{X Y } h_{XX} + f_{YY } h_{X}h_{XX} + f_{Y } h_{XXX} $"
      ],
      "text/plain": [
       "<IPython.core.display.Markdown object>"
      ]
     },
     "metadata": {},
     "output_type": "display_data"
    }
   ],
   "source": [
    "lprint(e.diff().diff().diff())"
   ]
  },
  {
   "cell_type": "code",
   "execution_count": 124,
   "metadata": {},
   "outputs": [
    {
     "data": {
      "text/markdown": [
       "$ f_{XXXX }  + f_{XXX Y } h_{X} + f_{XXX Y } h_{X} + f_{XX YY } h_{X}h_{X} + f_{XX Y } h_{XX} + f_{XXX Y } h_{X} + f_{XX YY } h_{X}h_{X} + f_{XX Y } h_{XX} + f_{XX YY } h_{X}h_{X} + f_{X YYY } h_{X}h_{X}h_{X} + f_{X YY } h_{XX}h_{X} + f_{X YY } h_{XX}h_{X} + f_{XX Y } h_{XX} + f_{X YY } h_{X}h_{XX} + f_{X Y } h_{XXX} + f_{XXX Y } h_{X} + f_{XX YY } h_{X}h_{X} + f_{XX Y } h_{XX} + f_{XX YY } h_{X}h_{X} + f_{X YYY } h_{X}h_{X}h_{X} + f_{X YY } h_{XX}h_{X} + f_{X YY } h_{XX}h_{X} + f_{XX Y } h_{XX} + f_{X YY } h_{X}h_{XX} + f_{X Y } h_{XXX} + f_{XX YY } h_{X}h_{X} + f_{X YYY } h_{X}h_{X}h_{X} + f_{X YY } h_{XX}h_{X} + f_{X YY } h_{XX}h_{X} + f_{X YYY } h_{X}h_{X}h_{X} + f_{YYYY } h_{X}h_{X}h_{X}h_{X} + f_{YYY } h_{XX}h_{X}h_{X} + f_{YYY } h_{XX}h_{X}h_{X} + f_{YYY } h_{XX}h_{X}h_{X} + f_{X YY } h_{XX}h_{X} + f_{YYY } h_{X}h_{XX}h_{X} + f_{YY } h_{XXX}h_{X} + f_{YY } h_{XX}h_{XX} + f_{X YY } h_{XX}h_{X} + f_{YYY } h_{X}h_{XX}h_{X} + f_{YY } h_{XXX}h_{X} + f_{YY } h_{XX}h_{XX} + f_{XX Y } h_{XX} + f_{X YY } h_{X}h_{XX} + f_{X Y } h_{XXX} + f_{X YY } h_{X}h_{XX} + f_{YYY } h_{X}h_{X}h_{XX} + f_{YY } h_{XX}h_{XX} + f_{YY } h_{XXX}h_{X} + f_{X Y } h_{XXX} + f_{YY } h_{X}h_{XXX} + f_{Y } h_{XXXX} $"
      ],
      "text/plain": [
       "<IPython.core.display.Markdown object>"
      ]
     },
     "metadata": {},
     "output_type": "display_data"
    }
   ],
   "source": [
    "lprint(e.diff().diff().diff().diff())"
   ]
  },
  {
   "cell_type": "markdown",
   "metadata": {},
   "source": [
    "### How to evaluate?"
   ]
  },
  {
   "cell_type": "markdown",
   "metadata": {},
   "source": [
    "This is a good exercise, but how can we use this to get the Taylor polynomial of f?, for each differentiation level, observe each term can be evaluated at a constant number of vectors $v \\in X$"
   ]
  },
  {
   "cell_type": "markdown",
   "metadata": {},
   "source": [
    "In the last huge expansion, four such vectors can evaluated, e.g.:\n",
    "(without loss of generality to ordering)\n",
    "\n",
    "$$f_{XYY}h_{XX}h_{X} (v_{1}, v_{2}, v_{3}, v_{4}) = f_{XYY}(v_{1}, h_{XX}(v_{2}, v_{3}), h_{x}(v_{4})) $$"
   ]
  },
  {
   "cell_type": "markdown",
   "metadata": {},
   "source": [
    "Recalling that we can view derivatives as linear maps"
   ]
  },
  {
   "cell_type": "markdown",
   "metadata": {},
   "source": [
    "But why didn't we have to worry about the ordering? \n",
    "\n",
    "Just consider the case where the $v_{i}$'s are basis vectors:\n",
    "\n",
    "see that if we evaluate all the but the last term fully, we will have an equation:\n",
    "\n",
    "$$f_{Y}h_{XXXX}(e_{i_{1}}, e_{i_{2}}, e_{i_{3}}, e_{i_{4}}) = -w$$\n",
    "\n",
    "Where $w \\in Y$ and is the evaluation of the other terms summed\n",
    "\n",
    "Then using the fact that $f_{Y}$ is invertible:\n",
    "\n",
    "$$ h_{XXXX}(e_{i_{1}}, e_{i_{2}}, e_{i_{3}}, e_{i_{4}}) = f_{Y}^{-1}(-w)$$"
   ]
  },
  {
   "cell_type": "markdown",
   "metadata": {},
   "source": [
    "We see that this value can be viewed as a value in the tensor representation of $h_{XXXX}$ as a 4-linear map, one property of these derivative maps is symmetry so we see that for any permutation $\\sigma \\in S_{4}$\n",
    "\n",
    "$$ h_{XXXX}(e_{i_{\\sigma(1)}}, e_{i_{\\sigma(2)}}, e_{i_{\\sigma(3)}}, e_{i_{\\sigma(4)}}) = f_{Y}^{-1}(-w) $$"
   ]
  },
  {
   "cell_type": "markdown",
   "metadata": {},
   "source": [
    "But starting from this permuation we could have got an equation (i.e evaluating all the terms with the input vectors in the new ordering):"
   ]
  },
  {
   "cell_type": "markdown",
   "metadata": {},
   "source": [
    "$$ h_{XXXX}(e_{i_{\\sigma(1)}}, e_{i_{\\sigma(2)}}, e_{i_{\\sigma(3)}}, e_{i_{\\sigma(4)}}) = f_{Y}^{-1}(-\\tilde{w}) $$"
   ]
  },
  {
   "cell_type": "markdown",
   "metadata": {},
   "source": [
    "In practice we only care about these cumulative evaluations, and can observe that:\n",
    "\n",
    "$$w = \\tilde{w}$$\n",
    "\n",
    "by bijectivity of $f_{y}$, and so can plug in the basis vectors in any order we wish, the evaluation will always stay the same."
   ]
  },
  {
   "cell_type": "markdown",
   "metadata": {},
   "source": [
    "### Extracting the Taylor polynomial"
   ]
  },
  {
   "cell_type": "markdown",
   "metadata": {},
   "source": [
    "We want to get a polynomial from the k-th partial of $h$, to do this we evaluate on variants of the basis vector to get coefficients of the term in the polynomial, for example; if we want to find the coefficient of:\n",
    "\n",
    "$$x_{1}^2 x_{3}$$"
   ]
  },
  {
   "cell_type": "markdown",
   "metadata": {},
   "source": [
    "then we would evaluate:\n",
    "\n",
    "\n",
    "$$h_{XXX}(e_{1}, e_{1}, e_{3})$$"
   ]
  },
  {
   "cell_type": "markdown",
   "metadata": {},
   "source": [
    "Well almost, in fact we would need to combine the coefficients of:\n",
    "\n",
    "$$x_{1} x_{1} x_{3}, \\;\\; x_{1} x_{3} x_{1}, \\;\\; x_{3} x_{1} x_{1}$$\n",
    "\n",
    "And combine them"
   ]
  },
  {
   "cell_type": "markdown",
   "metadata": {},
   "source": [
    "See that the formula for the number of these evaluations is:"
   ]
  },
  {
   "cell_type": "markdown",
   "metadata": {},
   "source": [
    "$$\\frac{3!}{2! 1!}$$"
   ]
  },
  {
   "cell_type": "markdown",
   "metadata": {},
   "source": [
    "Since we can view as a permuation of $S_n$ where some are indistinguishable since variable have the same name"
   ]
  },
  {
   "cell_type": "markdown",
   "metadata": {},
   "source": [
    "In general:\n",
    "\n",
    "$$n_{\\text{evals}}\\left(\\prod_{i = 1}^{n} {x_{i}^{k_{i}}}\\right) = \\frac{n!}{k_{1}! \\cdots k_{n}!} $$"
   ]
  },
  {
   "cell_type": "markdown",
   "metadata": {},
   "source": [
    "But by symmetry of the derivative multilinear map we only need to evaluate once, then multiple by this $n_{\\text{evals}}$ value and we are done"
   ]
  },
  {
   "cell_type": "markdown",
   "metadata": {},
   "source": [
    "#### Tidying up"
   ]
  },
  {
   "cell_type": "markdown",
   "metadata": {},
   "source": [
    "Now we know that we can swap without worry, lets write a class to simplify these expressions:"
   ]
  },
  {
   "cell_type": "code",
   "execution_count": 148,
   "metadata": {},
   "outputs": [
    {
     "data": {
      "text/markdown": [
       "$ f_{XX }  + f_{X Y } h_{X} + f_{X Y } h_{X} + f_{YY } h_{X}^{2}  + f_{Y } h_{XX} $"
      ],
      "text/plain": [
       "<IPython.core.display.Markdown object>"
      ]
     },
     "metadata": {},
     "output_type": "display_data"
    },
    {
     "data": {
      "text/markdown": [
       "$ \\mathrm{None} $"
      ],
      "text/plain": [
       "<IPython.core.display.Markdown object>"
      ]
     },
     "metadata": {},
     "output_type": "display_data"
    }
   ],
   "source": [
    "# TODO - fix this\n",
    "\n",
    "class SimpleExpression(Expression):\n",
    "    def __init__(self, blocks = [ExpressionBlock()]):\n",
    "        super().__init__(blocks)\n",
    "\n",
    "    def diff(self):\n",
    "        return SimpleExpression(super().diff().blocks)\n",
    "        \n",
    "    def simplify(self):\n",
    "\n",
    "        # first standardise each ExpressionBlock\n",
    "        for block in self.blocks:\n",
    "            if not block.ktuples:\n",
    "                # no h's\n",
    "                continue\n",
    "            # first update the h's to be largest to smallest\n",
    "            # ktuple = (gamma, k) thankfully in right order\n",
    "            block.ktuples = sorted(block.ktuples, reverse = True)\n",
    "\n",
    "            # collects like terms, i.e. gamma is the same\n",
    "            max_gamma = block.ktuples[0][0] # since sorted\n",
    "            temp_tuples = ()\n",
    "            for i in range(max_gamma,-1,-1):\n",
    "                like_terms = [term for term in block.ktuples if term[0] == i]\n",
    "                if not like_terms:\n",
    "                    # no terms of this form\n",
    "                    continue\n",
    "                    \n",
    "                total = 0\n",
    "                for term in like_terms:\n",
    "                    total += term[1] # sum up the powers since a^x * a^y = a^(x+y)\n",
    "                    \n",
    "                temp_tuples += ((i, total), )\n",
    "                \n",
    "            block.ktuples = temp_tuples\n",
    "            \n",
    "    \n",
    "\n",
    "\n",
    "        \n",
    "a = SimpleExpression().diff().diff()\n",
    "simplify(a)\n",
    "lprint(a)\n",
    "\n",
    "lprint(simplify(a.diff()))\n",
    "\n",
    "\n",
    "        \n",
    "        "
   ]
  },
  {
   "cell_type": "code",
   "execution_count": 132,
   "metadata": {},
   "outputs": [
    {
     "name": "stdout",
     "output_type": "stream",
     "text": [
      "3\n",
      "2\n",
      "1\n",
      "0\n"
     ]
    }
   ],
   "source": [
    "for i in range(3,-1,-1):\n",
    "    print(i)"
   ]
  },
  {
   "cell_type": "code",
   "execution_count": 149,
   "metadata": {},
   "outputs": [],
   "source": [
    "# TODO will need to use tensors\n",
    "# since h will lead to arbitrary elements of Y\n",
    "# numpy implementation probably the best way to go\n",
    "# but will need a way to extract partial information in a sensible way to build the tensor"
   ]
  },
  {
   "cell_type": "code",
   "execution_count": null,
   "metadata": {},
   "outputs": [],
   "source": []
  },
  {
   "cell_type": "code",
   "execution_count": null,
   "metadata": {},
   "outputs": [],
   "source": []
  },
  {
   "cell_type": "code",
   "execution_count": null,
   "metadata": {},
   "outputs": [],
   "source": []
  },
  {
   "cell_type": "code",
   "execution_count": null,
   "metadata": {},
   "outputs": [],
   "source": []
  }
 ],
 "metadata": {
  "kernelspec": {
   "display_name": "SageMath 9.2",
   "language": "sage",
   "name": "sagemath"
  },
  "language_info": {
   "codemirror_mode": {
    "name": "ipython",
    "version": 3
   },
   "file_extension": ".py",
   "mimetype": "text/x-python",
   "name": "python",
   "nbconvert_exporter": "python",
   "pygments_lexer": "ipython3",
   "version": "3.7.7"
  }
 },
 "nbformat": 4,
 "nbformat_minor": 4
}
