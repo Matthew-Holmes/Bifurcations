{
 "cells": [
  {
   "cell_type": "markdown",
   "metadata": {},
   "source": [
    "# Differential equationas - Taylor approximations"
   ]
  },
  {
   "cell_type": "code",
   "execution_count": 240,
   "metadata": {},
   "outputs": [],
   "source": [
    "from IPython.display import display, Markdown\n",
    "def latexify(x):\n",
    "    out = '$' + x + '$'\n",
    "    return out\n",
    "\n",
    "def lprint(x):\n",
    "    display(Markdown(latexify(latex(x))))"
   ]
  },
  {
   "cell_type": "code",
   "execution_count": 241,
   "metadata": {},
   "outputs": [],
   "source": [
    "%run -i 'implicit.py'"
   ]
  },
  {
   "cell_type": "markdown",
   "metadata": {},
   "source": [
    "We encode differential equations just as in the attempt using Fourier series, but now implement taylor approximations"
   ]
  },
  {
   "cell_type": "code",
   "execution_count": 242,
   "metadata": {},
   "outputs": [],
   "source": [
    "class PDE():\n",
    "    def __init__(self, k , phi, phi_var):\n",
    "        if len(phi_var) != k+2:\n",
    "            raise(Exception('wrong number of functions given, should be a list {} long'.format(k)))\n",
    "        self.k = k # order of the PDE\n",
    "        self.phi = phi # list of $k + 1$ functions\n",
    "        self.phi_var = phi_var # should be a dictionary\n",
    "        \n",
    "    \n",
    "    def __str__(self):\n",
    "        # reformat phi so shows as a pde\n",
    "        out = latex(self.phi)\n",
    "        for var in self.phi_var.keys():\n",
    "            if var == 'x':\n",
    "                continue\n",
    "            out = out.replace(latex(self.phi_var[var]), var)\n",
    "            \n",
    "        return out\n",
    "    \n",
    "    def _latex_(self):\n",
    "        return str(self)               \n",
    "            \n",
    "        \n",
    "        \n",
    "    def taylor_approx_raw(self, x, an, n = 2, interval = (0,1)):\n",
    "        # n is the order of the Fourier approximation\n",
    "        # x should be a SageMath variable\n",
    "        if len(an) != n + 1:\n",
    "            raise(Exception('Should be {} coefficients'.format(n + 1)))\n",
    "        \n",
    "        # first generate the taylor approx f(x)\n",
    "        \n",
    "        f(x) = an[0] \n",
    "        for i in range(1,n+1):\n",
    "            f(x) = f(x) + (an[i]*x^i)/(factorial(i))\n",
    "\n",
    "        temp(x) = x\n",
    "        fr_vars = [temp, f]\n",
    "        if self.k > 0:\n",
    "            for i in range(1, self.k +1):\n",
    "                f = f.diff()[0] # returns a matrix of one, so take first elt\n",
    "                fr_vars.append(f)\n",
    "        out(x) = phi(*fr_vars)\n",
    "        \n",
    "        return out\n",
    "    \n",
    "    def taylor_approx_l2(self, x, an, n = 2, interval = (0,1)):\n",
    "        raw = self.taylor_approx_raw(x, an, n, interval)\n",
    "        out = [0]*(n+1)\n",
    "        \n",
    "        # first get a0\n",
    "        a0 = integral(raw, (x,interval[0],interval[1]))\n",
    "        \n",
    "        out[0] = a0\n",
    "        for i in range(1, n+1):\n",
    "            ai = integral(raw * x^i, (x,interval[0],interval[1]))\n",
    "            out[i] = ai/(factorial(i))\n",
    "\n",
    "        return out\n",
    "    \n",
    "    \n",
    "    def taylor_approx_at0(self, x, an, n = 2):\n",
    "        raw = self.taylor_approx_raw(x, an, n, interval)\n",
    "        out = [0]*(n+1)\n",
    "        \n",
    "        for i in range(0, n+1):\n",
    "            ai = raw(x = 0)\n",
    "            raw = raw.diff(x)\n",
    "            out[i] = ai/factorial(i)\n",
    "        return out\n",
    "        \n",
    "    def taylor_approx_atx(self, x, an, n = 2):\n",
    "        raw = self.taylor_approx_raw(x, an, n, interval)\n",
    "        out = [0]*(n+1)\n",
    "        \n",
    "        for i in range(0, n+1):\n",
    "            ai = raw(x)\n",
    "            raw = raw.diff(x)\n",
    "            out[i] = ai/factorial(i)\n",
    "        return out\n",
    "        \n",
    "    # TODO overide display method, so can view the PDE"
   ]
  },
  {
   "cell_type": "code",
   "execution_count": 243,
   "metadata": {},
   "outputs": [
    {
     "data": {
      "text/plain": [
       "l"
      ]
     },
     "execution_count": 243,
     "metadata": {},
     "output_type": "execute_result"
    }
   ],
   "source": [
    "var('x a0 a1 a2 a3 a4 a5 a6 a7 x0 x1 x2')\n",
    "var('l', latex_name=r'\\lambda')"
   ]
  },
  {
   "cell_type": "code",
   "execution_count": 244,
   "metadata": {},
   "outputs": [
    {
     "data": {
      "text/markdown": [
       "$ \\left( x, x_{0}, x_{1}, x_{2} \\right) \\ {\\mapsto} \\ {\\lambda} \\sin\\left(x_{0}\\right) + x_{2} $"
      ],
      "text/plain": [
       "<IPython.core.display.Markdown object>"
      ]
     },
     "metadata": {},
     "output_type": "display_data"
    }
   ],
   "source": [
    "phi(x, x0, x1, x2) = x2 + l * sin(x0) \n",
    "lprint(phi)"
   ]
  },
  {
   "cell_type": "code",
   "execution_count": 245,
   "metadata": {},
   "outputs": [],
   "source": [
    "pde = PDE(2, phi, phi_var = {'x' : x, 'f(x)' : x0, 'f^{1}(x)' : x1, 'f^{2}(x)' : x2} )"
   ]
  },
  {
   "cell_type": "code",
   "execution_count": 246,
   "metadata": {},
   "outputs": [
    {
     "data": {
      "text/markdown": [
       "$ \\left( x, f(x), f^{1}(x), f^{2}(x) \\right) \\ {\\mapsto} \\ {\\lambda} \\sin\\left(f(x)\\right) + f^{2}(x) $"
      ],
      "text/plain": [
       "<IPython.core.display.Markdown object>"
      ]
     },
     "metadata": {},
     "output_type": "display_data"
    }
   ],
   "source": [
    "lprint(pde)"
   ]
  },
  {
   "cell_type": "code",
   "execution_count": 247,
   "metadata": {},
   "outputs": [
    {
     "data": {
      "text/markdown": [
       "$ x \\ {\\mapsto}\\ \\frac{1}{6} \\, a_{5} x^{3} + \\frac{1}{2} \\, a_{4} x^{2} + a_{3} x + {\\lambda} \\sin\\left(\\frac{1}{120} \\, a_{5} x^{5} + \\frac{1}{24} \\, a_{4} x^{4} + \\frac{1}{6} \\, a_{3} x^{3} + \\frac{1}{2} \\, a_{2} x^{2} + a_{1} x + a_{0}\\right) + a_{2} $"
      ],
      "text/plain": [
       "<IPython.core.display.Markdown object>"
      ]
     },
     "metadata": {},
     "output_type": "display_data"
    }
   ],
   "source": [
    "f = pde.taylor_approx_raw(x, [a0, a1, a2, a3, a4, a5], n = 5)\n",
    "lprint(f)"
   ]
  },
  {
   "cell_type": "code",
   "execution_count": 248,
   "metadata": {},
   "outputs": [
    {
     "data": {
      "text/plain": [
       "l*sin(a0) + a2"
      ]
     },
     "execution_count": 248,
     "metadata": {},
     "output_type": "execute_result"
    }
   ],
   "source": [
    "f(x = 0)"
   ]
  },
  {
   "cell_type": "code",
   "execution_count": 249,
   "metadata": {},
   "outputs": [],
   "source": [
    "flist = pde.taylor_approx_at0(x, [a0,a1,a2,a3,a4,a5], n = 5)"
   ]
  },
  {
   "cell_type": "code",
   "execution_count": 250,
   "metadata": {},
   "outputs": [
    {
     "data": {
      "text/markdown": [
       "$ \\left[{\\lambda} \\sin\\left(a_{0}\\right) + a_{2}, a_{1} {\\lambda} \\cos\\left(a_{0}\\right) + a_{3}, -\\frac{1}{2} \\, a_{1}^{2} {\\lambda} \\sin\\left(a_{0}\\right) + \\frac{1}{2} \\, a_{2} {\\lambda} \\cos\\left(a_{0}\\right) + \\frac{1}{2} \\, a_{4}, -\\frac{1}{6} \\, a_{1}^{3} {\\lambda} \\cos\\left(a_{0}\\right) - \\frac{1}{2} \\, a_{1} a_{2} {\\lambda} \\sin\\left(a_{0}\\right) + \\frac{1}{6} \\, a_{3} {\\lambda} \\cos\\left(a_{0}\\right) + \\frac{1}{6} \\, a_{5}, \\frac{1}{24} \\, a_{1}^{4} {\\lambda} \\sin\\left(a_{0}\\right) - \\frac{1}{4} \\, a_{1}^{2} a_{2} {\\lambda} \\cos\\left(a_{0}\\right) - \\frac{1}{8} \\, a_{2}^{2} {\\lambda} \\sin\\left(a_{0}\\right) - \\frac{1}{6} \\, a_{1} a_{3} {\\lambda} \\sin\\left(a_{0}\\right) + \\frac{1}{24} \\, a_{4} {\\lambda} \\cos\\left(a_{0}\\right), \\frac{1}{120} \\, a_{1}^{5} {\\lambda} \\cos\\left(a_{0}\\right) + \\frac{1}{12} \\, a_{1}^{3} a_{2} {\\lambda} \\sin\\left(a_{0}\\right) - \\frac{1}{8} \\, a_{1} a_{2}^{2} {\\lambda} \\cos\\left(a_{0}\\right) - \\frac{1}{12} \\, a_{1}^{2} a_{3} {\\lambda} \\cos\\left(a_{0}\\right) - \\frac{1}{12} \\, a_{2} a_{3} {\\lambda} \\sin\\left(a_{0}\\right) - \\frac{1}{24} \\, a_{1} a_{4} {\\lambda} \\sin\\left(a_{0}\\right) + \\frac{1}{120} \\, a_{5} {\\lambda} \\cos\\left(a_{0}\\right)\\right] $"
      ],
      "text/plain": [
       "<IPython.core.display.Markdown object>"
      ]
     },
     "metadata": {},
     "output_type": "display_data"
    }
   ],
   "source": [
    "lprint(flist)"
   ]
  },
  {
   "cell_type": "markdown",
   "metadata": {},
   "source": [
    "## Applying implicit function theorem"
   ]
  },
  {
   "cell_type": "code",
   "execution_count": 251,
   "metadata": {},
   "outputs": [],
   "source": [
    "f1(a0, a1, a2, a3, a4, a5, l) = flist[0]\n",
    "f2(a0, a1, a2, a3, a4, a5, l) = flist[1]\n",
    "f3(a0, a1, a2, a3, a4, a5, l) = flist[2]\n",
    "f4(a0, a1, a2, a3, a4, a5, l) = flist[3]\n",
    "f5(a0, a1, a2, a3, a4, a5, l) = flist[4]\n",
    "f6(a0, a1, a2, a3, a4, a5, l) = flist[5]\n",
    "\n",
    "\n",
    "funcs = [f1,f2,f3,f4,f5,f6]"
   ]
  },
  {
   "cell_type": "code",
   "execution_count": 252,
   "metadata": {},
   "outputs": [
    {
     "data": {
      "text/plain": [
       "[0, 0, 0, 0, 0, 0]"
      ]
     },
     "execution_count": 252,
     "metadata": {},
     "output_type": "execute_result"
    }
   ],
   "source": [
    "[func(0,0,0,0,0,0,l) for func in funcs]"
   ]
  },
  {
   "cell_type": "code",
   "execution_count": 253,
   "metadata": {},
   "outputs": [
    {
     "data": {
      "text/markdown": [
       "$ \\left(\\begin{array}{rrrrrr}\n",
       "0 & 0 & 1 & 0 & 0 & 0 \\\\\n",
       "0 & 0 & 0 & 1 & 0 & 0 \\\\\n",
       "0 & 0 & 0 & 0 & \\frac{1}{2} & 0 \\\\\n",
       "0 & 0 & 0 & 0 & 0 & \\frac{1}{6} \\\\\n",
       "0 & 0 & 0 & 0 & 0 & 0 \\\\\n",
       "0 & 0 & 0 & 0 & 0 & 0\n",
       "\\end{array}\\right) $"
      ],
      "text/plain": [
       "<IPython.core.display.Markdown object>"
      ]
     },
     "metadata": {},
     "output_type": "display_data"
    }
   ],
   "source": [
    "J = jacobian(funcs, (a0, a1, a2, a3, a4, a5))(a0=0, a1=0, a2=0, a3 = 0, a4 = 0, a5 = 0, l=0 )\n",
    "lprint(J)"
   ]
  },
  {
   "cell_type": "markdown",
   "metadata": {},
   "source": [
    "The matrix has full rank"
   ]
  },
  {
   "cell_type": "code",
   "execution_count": 254,
   "metadata": {},
   "outputs": [
    {
     "data": {
      "text/markdown": [
       "$ \\left[\\left(1,\\,0,\\,0,\\,0,\\,0,\\,0\\right), \\left(0,\\,1,\\,0,\\,0,\\,0,\\,0\\right)\\right] $"
      ],
      "text/plain": [
       "<IPython.core.display.Markdown object>"
      ]
     },
     "metadata": {},
     "output_type": "display_data"
    }
   ],
   "source": [
    "K = J.right_kernel().basis()\n",
    "lprint(K)"
   ]
  },
  {
   "cell_type": "code",
   "execution_count": 255,
   "metadata": {},
   "outputs": [
    {
     "data": {
      "text/markdown": [
       "$ \\left[\\left(0,\\,0,\\,1,\\,0,\\,0,\\,0\\right), \\left(0,\\,0,\\,0,\\,1,\\,0,\\,0\\right), \\left(0,\\,0,\\,0,\\,0,\\,1,\\,0\\right), \\left(0,\\,0,\\,0,\\,0,\\,0,\\,1\\right)\\right] $"
      ],
      "text/plain": [
       "<IPython.core.display.Markdown object>"
      ]
     },
     "metadata": {},
     "output_type": "display_data"
    }
   ],
   "source": [
    "I = J.image().basis()\n",
    "lprint(I)"
   ]
  },
  {
   "cell_type": "code",
   "execution_count": 256,
   "metadata": {},
   "outputs": [
    {
     "data": {
      "text/markdown": [
       "$ \\left( a_{0}, a_{1}, a_{2}, a_{3}, a_{4}, a_{5}, {\\lambda} \\right) \\ {\\mapsto} \\ -\\frac{1}{12} \\, a_{1}^{2} {\\lambda} \\cos\\left(a_{0}\\right) - \\frac{1}{12} \\, a_{2} {\\lambda} \\sin\\left(a_{0}\\right) $"
      ],
      "text/plain": [
       "<IPython.core.display.Markdown object>"
      ]
     },
     "metadata": {},
     "output_type": "display_data"
    }
   ],
   "source": [
    "lprint(f6.diff(a3))"
   ]
  },
  {
   "cell_type": "code",
   "execution_count": 257,
   "metadata": {},
   "outputs": [],
   "source": [
    "funcs = [f1, f2, f3, f4] # cokernel directions\n",
    "position = {'a0' : 0, 'a1' : 0, 'a2' : 0, 'a3' : 0, 'a4' : 0, 'a5' : 0, 'l' : 0}\n",
    "var_dict = {'y1' : a2, 'y2' : a3, 'y3' : a4, 'y4' : a5, 'x1' : a0, 'x2' : a1, 'x3' : l}\n",
    "x_var_keys = {'x1', 'x2', 'x3'}\n",
    "x_dim = 3\n",
    "y_dim = 4"
   ]
  },
  {
   "cell_type": "code",
   "execution_count": 258,
   "metadata": {},
   "outputs": [
    {
     "name": "stdout",
     "output_type": "stream",
     "text": [
      "computing Taylor approximaton to 3 order for speedup\n"
     ]
    }
   ],
   "source": [
    "t_dict = TensorDict(funcs, position, var_dict, x_dim, y_dim)"
   ]
  },
  {
   "cell_type": "code",
   "execution_count": 259,
   "metadata": {},
   "outputs": [
    {
     "name": "stderr",
     "output_type": "stream",
     "text": [
      "100%|██████████| 1/1 [00:00<00:00, 2145.42it/s]\n",
      "100%|██████████| 1/1 [00:00<00:00,  4.23it/s]\n",
      "100%|██████████| 2/2 [00:00<00:00, 2997.00it/s]\n",
      "100%|██████████| 4/4 [00:03<00:00,  1.33it/s]\n"
     ]
    }
   ],
   "source": [
    "out = get_hkx_polynomial(funcs, 2, x_dim, y_dim, var_dict, x_var_keys, t_dict, position)"
   ]
  },
  {
   "cell_type": "code",
   "execution_count": 260,
   "metadata": {},
   "outputs": [
    {
     "data": {
      "text/markdown": [
       "$ \\left[-a_{0} {\\lambda}, -a_{1} {\\lambda}, 0, 0\\right] $"
      ],
      "text/plain": [
       "<IPython.core.display.Markdown object>"
      ]
     },
     "metadata": {},
     "output_type": "display_data"
    }
   ],
   "source": [
    "lprint(out)"
   ]
  },
  {
   "cell_type": "code",
   "execution_count": 32,
   "metadata": {},
   "outputs": [
    {
     "data": {
      "text/html": [
       "<div>\n",
       "<style scoped>\n",
       "    .dataframe tbody tr th:only-of-type {\n",
       "        vertical-align: middle;\n",
       "    }\n",
       "\n",
       "    .dataframe tbody tr th {\n",
       "        vertical-align: top;\n",
       "    }\n",
       "\n",
       "    .dataframe thead th {\n",
       "        text-align: right;\n",
       "    }\n",
       "</style>\n",
       "<table border=\"1\" class=\"dataframe\">\n",
       "  <thead>\n",
       "    <tr style=\"text-align: right;\">\n",
       "      <th></th>\n",
       "      <th>data</th>\n",
       "    </tr>\n",
       "    <tr>\n",
       "      <th>1</th>\n",
       "      <th></th>\n",
       "    </tr>\n",
       "  </thead>\n",
       "  <tbody>\n",
       "    <tr>\n",
       "      <th>y1</th>\n",
       "      <td>sin(1)</td>\n",
       "    </tr>\n",
       "    <tr>\n",
       "      <th>y2</th>\n",
       "      <td>cos(1) + sin(1) - 1</td>\n",
       "    </tr>\n",
       "    <tr>\n",
       "      <th>y3</th>\n",
       "      <td>cos(1) - 1/2*sin(1)</td>\n",
       "    </tr>\n",
       "  </tbody>\n",
       "</table>\n",
       "</div>"
      ],
      "text/plain": [
       "                   data\n",
       "1                      \n",
       "y1               sin(1)\n",
       "y2  cos(1) + sin(1) - 1\n",
       "y3  cos(1) - 1/2*sin(1)"
      ]
     },
     "execution_count": 32,
     "metadata": {},
     "output_type": "execute_result"
    }
   ],
   "source": [
    "t_dict['fY'].tensors[0].data"
   ]
  },
  {
   "cell_type": "code",
   "execution_count": 28,
   "metadata": {},
   "outputs": [
    {
     "data": {
      "text/markdown": [
       "$ \\left( a_{0}, a_{1}, a_{2}, {\\lambda} \\right) \\ {\\mapsto} \\ -\\frac{1}{6} \\, a_{0}^{2} - \\frac{1}{4} \\, {\\left(a_{0} + 6 \\, \\cos\\left(1\\right) + 10 \\, \\sin\\left(1\\right)\\right)} a_{1} - \\frac{1}{10} \\, a_{1}^{2} - \\frac{1}{60} \\, {\\left(6 \\, a_{0} + 5 \\, a_{1} + 300 \\, \\cos\\left(1\\right) - 195 \\, \\sin\\left(1\\right)\\right)} a_{2} - \\frac{1}{56} \\, a_{2}^{2} + \\frac{1}{24} \\, {\\left(4 \\, a_{1} + 3 \\, a_{2}\\right)} {\\lambda} + \\frac{1}{2} \\, a_{0} {\\left(2 \\, \\cos\\left(1\\right) - \\sin\\left(1\\right)\\right)} + 3 \\, a_{1} $"
      ],
      "text/plain": [
       "<IPython.core.display.Markdown object>"
      ]
     },
     "metadata": {},
     "output_type": "display_data"
    }
   ],
   "source": [
    "lprint(f3)"
   ]
  },
  {
   "cell_type": "code",
   "execution_count": null,
   "metadata": {},
   "outputs": [],
   "source": []
  }
 ],
 "metadata": {
  "kernelspec": {
   "display_name": "SageMath 9.2",
   "language": "sage",
   "name": "sagemath"
  },
  "language_info": {
   "codemirror_mode": {
    "name": "ipython",
    "version": 3
   },
   "file_extension": ".py",
   "mimetype": "text/x-python",
   "name": "python",
   "nbconvert_exporter": "python",
   "pygments_lexer": "ipython3",
   "version": "3.7.7"
  }
 },
 "nbformat": 4,
 "nbformat_minor": 4
}
