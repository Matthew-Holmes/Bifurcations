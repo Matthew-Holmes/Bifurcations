{
 "cells": [
  {
   "cell_type": "code",
   "execution_count": 1,
   "metadata": {},
   "outputs": [],
   "source": [
    "from IPython.display import display, Markdown\n",
    "def latexify(x):\n",
    "    out = '$' + x + '$'\n",
    "    return out\n",
    "\n",
    "def lprint(x):\n",
    "    display(Markdown(latexify(latex(x))))\n",
    "    \n",
    "%run -i 'implicit.py'"
   ]
  },
  {
   "cell_type": "markdown",
   "metadata": {},
   "source": [
    "# Crandall-Rabinowitz"
   ]
  },
  {
   "cell_type": "markdown",
   "metadata": {},
   "source": [
    "We now have a readily callable implicit function theorem, lets put it to work and automate the method of Crandall-Rabinowitz"
   ]
  },
  {
   "cell_type": "markdown",
   "metadata": {},
   "source": [
    "Crandall-Rabinowitz pertains to the following case:\n",
    "\n",
    "$$F : \\mathbb{R} \\times X \\rightarrow Y $$\n",
    "\n",
    "$$ X = \\mathbb{R}^n $$\n",
    "\n",
    "Where we have that $\\partial_{x}F$ has Fredholm index 0 and a one-dimensional kernel."
   ]
  },
  {
   "cell_type": "markdown",
   "metadata": {},
   "source": [
    "From this we can recover that:\n",
    "\n",
    "$$dim X = dim Y$$\n",
    "\n",
    "and:\n",
    "\n",
    "$$ \\text{dimRange} \\;\\partial_{x}F = n-1 $$"
   ]
  },
  {
   "cell_type": "markdown",
   "metadata": {},
   "source": [
    "### Changing basis"
   ]
  },
  {
   "cell_type": "markdown",
   "metadata": {},
   "source": [
    "To begin to untangle the parts we can deal with the implict function theorem, consider the following bases for $X$ and $Y$:\n",
    "\n",
    "$(u_{1}, \\dots, u_{n-1}, \\tilde{u}_{n})$ and $(v_{1}, \\dots, v_{n-1}, \\tilde{v}_{n})$\n",
    "\n",
    "such that:\n",
    "\n",
    "$$ \\text{Ker} \\;\\partial_{x}F = \\left< \\tilde{u}_{n}\\right>$$\n",
    "$$ \\text{Range} \\;\\partial_{x}F = \\left< v_{1}, \\cdots, v_{n-1} \\right>$$\n",
    "\n",
    "Let $A$ and $B \\in \\mathcal{L}(\\mathbb{R}^n, \\mathbb{R}^n)$ be the respective change of basis matrices"
   ]
  },
  {
   "cell_type": "markdown",
   "metadata": {},
   "source": [
    "See that $$\\tilde{F} = B^{-1} \\circ F \\circ A$$\n",
    "\n",
    "Now has one input variable acting in the kernel and one output not in the range, (abusing notation here, $A$,$B$ leave the $\\mathbb{R}$ input alone)"
   ]
  },
  {
   "cell_type": "markdown",
   "metadata": {},
   "source": [
    "### Worked example"
   ]
  },
  {
   "cell_type": "markdown",
   "metadata": {},
   "source": [
    "To build up the method lets use a previous example:"
   ]
  },
  {
   "cell_type": "code",
   "execution_count": 2,
   "metadata": {},
   "outputs": [
    {
     "data": {
      "text/markdown": [
       "$ \\left( x, y, z, {\\lambda} \\right) \\ {\\mapsto} \\ -y \\cos\\left(\\frac{1}{3} \\, \\sqrt{\\pi^{2} + 9 \\, x^{2} + 9 \\, y^{2}}\\right) + x \\sin\\left(\\frac{1}{3} \\, \\sqrt{\\pi^{2} + 9 \\, x^{2} + 9 \\, y^{2}}\\right) + e^{z} - 1 $"
      ],
      "text/plain": [
       "<IPython.core.display.Markdown object>"
      ]
     },
     "metadata": {},
     "output_type": "display_data"
    },
    {
     "data": {
      "text/markdown": [
       "$ \\left( x, y, z, {\\lambda} \\right) \\ {\\mapsto} \\ x \\cos\\left({\\lambda}\\right) + y \\sin\\left({\\lambda}\\right) + z $"
      ],
      "text/plain": [
       "<IPython.core.display.Markdown object>"
      ]
     },
     "metadata": {},
     "output_type": "display_data"
    },
    {
     "data": {
      "text/markdown": [
       "$ \\left( x, y, z, {\\lambda} \\right) \\ {\\mapsto} \\ y^{3} + x^{2} + {\\lambda} z + z^{2} + 4 \\, z $"
      ],
      "text/plain": [
       "<IPython.core.display.Markdown object>"
      ]
     },
     "metadata": {},
     "output_type": "display_data"
    }
   ],
   "source": [
    "var('x y z')\n",
    "var('l', latex_name=r'\\lambda')\n",
    "f1(x,y,z,l) = x*sin(sqrt(x^2 + y^2 +  (pi^2)/9)) - y*cos(sqrt(x^2 + y^2 +  (pi^2)/9)) + exp(z) - 1 # zeros when z = 0\n",
    "f2(x,y,z,l) = x*cos(l) + y*sin(l) + z \n",
    "f3(x,y,z,l) = z^2 + 4*z + z*l + x^2 + y^3 # zeros out at when X = 0   [X = <x,y,z>]\n",
    "lprint(f1)\n",
    "lprint(f2)\n",
    "lprint(f3)"
   ]
  },
  {
   "cell_type": "markdown",
   "metadata": {},
   "source": [
    "We aim to describe the solution set when $\\lambda = -\\frac{\\pi}{6} $, and determine that it is indeed a bifucation point"
   ]
  },
  {
   "cell_type": "code",
   "execution_count": 3,
   "metadata": {},
   "outputs": [
    {
     "data": {
      "text/markdown": [
       "$ \\left(\\begin{array}{rrr}\n",
       "\\frac{1}{2} \\, \\sqrt{3} & -\\frac{1}{2} & 1 \\\\\n",
       "\\frac{1}{2} \\, \\sqrt{3} & -\\frac{1}{2} & 1 \\\\\n",
       "0 & 0 & -\\frac{1}{6} \\, \\pi + 4\n",
       "\\end{array}\\right) $"
      ],
      "text/plain": [
       "<IPython.core.display.Markdown object>"
      ]
     },
     "metadata": {},
     "output_type": "display_data"
    }
   ],
   "source": [
    "J = jacobian([f1,f2,f3],(x,y,z))(x=0,y=0,z=0,l=-pi/6)\n",
    "lprint(J)"
   ]
  },
  {
   "cell_type": "code",
   "execution_count": 4,
   "metadata": {},
   "outputs": [
    {
     "data": {
      "text/markdown": [
       "$ \\left[\\left(1,\\,\\sqrt{3},\\,0\\right)\\right] $"
      ],
      "text/plain": [
       "<IPython.core.display.Markdown object>"
      ]
     },
     "metadata": {},
     "output_type": "display_data"
    }
   ],
   "source": [
    "K = J.right_kernel().basis()\n",
    "lprint(K)"
   ]
  },
  {
   "cell_type": "code",
   "execution_count": 5,
   "metadata": {},
   "outputs": [
    {
     "data": {
      "text/markdown": [
       "$ \\left[\\left(1,\\,-\\frac{1}{3} \\, \\sqrt{3},\\,0\\right), \\left(0,\\,0,\\,1\\right)\\right] $"
      ],
      "text/plain": [
       "<IPython.core.display.Markdown object>"
      ]
     },
     "metadata": {},
     "output_type": "display_data"
    }
   ],
   "source": [
    "I = J.image().basis()\n",
    "lprint(I)"
   ]
  },
  {
   "cell_type": "markdown",
   "metadata": {},
   "source": [
    "#### Extending to bases"
   ]
  },
  {
   "cell_type": "markdown",
   "metadata": {},
   "source": [
    "We can use this trick as per math stackexhange https://math.stackexchange.com/questions/465870/how-to-extend-a-basis"
   ]
  },
  {
   "cell_type": "code",
   "execution_count": 6,
   "metadata": {},
   "outputs": [
    {
     "data": {
      "text/markdown": [
       "$ \\left[\\left(1,\\,-\\frac{1}{3} \\, \\sqrt{3},\\,0\\right), \\left(0,\\,0,\\,1\\right)\\right] $"
      ],
      "text/plain": [
       "<IPython.core.display.Markdown object>"
      ]
     },
     "metadata": {},
     "output_type": "display_data"
    }
   ],
   "source": [
    "Kperp = matrix(K).right_kernel().basis()\n",
    "lprint(Kperp)"
   ]
  },
  {
   "cell_type": "code",
   "execution_count": 7,
   "metadata": {},
   "outputs": [
    {
     "data": {
      "text/markdown": [
       "$ \\left[\\left(1,\\,\\sqrt{3},\\,0\\right)\\right] $"
      ],
      "text/plain": [
       "<IPython.core.display.Markdown object>"
      ]
     },
     "metadata": {},
     "output_type": "display_data"
    }
   ],
   "source": [
    "Iperp = matrix(I).right_kernel().basis()\n",
    "lprint(Iperp)"
   ]
  },
  {
   "cell_type": "markdown",
   "metadata": {},
   "source": [
    "#### Getting the A,B matrices"
   ]
  },
  {
   "cell_type": "code",
   "execution_count": 8,
   "metadata": {},
   "outputs": [
    {
     "data": {
      "text/markdown": [
       "$ \\left(\\begin{array}{rrr}\n",
       "\\frac{1}{4} & \\frac{3}{4} & 0 \\\\\n",
       "\\frac{1}{4} \\, \\sqrt{3} & -\\frac{1}{4} \\, \\sqrt{3} & 0 \\\\\n",
       "0 & 0 & 1\n",
       "\\end{array}\\right) $"
      ],
      "text/plain": [
       "<IPython.core.display.Markdown object>"
      ]
     },
     "metadata": {},
     "output_type": "display_data"
    }
   ],
   "source": [
    "A = matrix(K+Kperp).inverse()\n",
    "lprint(A) # inverse so is change of basis"
   ]
  },
  {
   "cell_type": "code",
   "execution_count": 9,
   "metadata": {},
   "outputs": [
    {
     "data": {
      "text/markdown": [
       "$ \\left(\\begin{array}{rrr}\n",
       "\\frac{3}{4} & 0 & \\frac{1}{4} \\\\\n",
       "-\\frac{1}{4} \\, \\sqrt{3} & 0 & \\frac{1}{4} \\, \\sqrt{3} \\\\\n",
       "0 & 1 & 0\n",
       "\\end{array}\\right) $"
      ],
      "text/plain": [
       "<IPython.core.display.Markdown object>"
      ]
     },
     "metadata": {},
     "output_type": "display_data"
    }
   ],
   "source": [
    "B = matrix(I + Iperp).inverse()\n",
    "lprint(B)"
   ]
  },
  {
   "cell_type": "markdown",
   "metadata": {},
   "source": [
    "These are the required matrices for the formulation above"
   ]
  },
  {
   "cell_type": "markdown",
   "metadata": {},
   "source": [
    "#### The new f"
   ]
  },
  {
   "cell_type": "markdown",
   "metadata": {},
   "source": [
    "Now we can setup a new function $\\tilde{f}$ that behaves as we need to apply the implicit function code - in all but the first slot that is"
   ]
  },
  {
   "cell_type": "code",
   "execution_count": 10,
   "metadata": {},
   "outputs": [
    {
     "data": {
      "text/markdown": [
       "$ \\left( x, y, z, {\\lambda} \\right) \\ {\\mapsto} \\ -\\frac{1}{4} \\, {\\left(\\sqrt{3} x - \\sqrt{3} y\\right)} \\cos\\left(\\frac{1}{6} \\, \\sqrt{4 \\, \\pi^{2} + 9 \\, x^{2} + 27 \\, y^{2}}\\right) + \\frac{1}{4} \\, {\\left(x + 3 \\, y\\right)} \\sin\\left(\\frac{1}{6} \\, \\sqrt{4 \\, \\pi^{2} + 9 \\, x^{2} + 27 \\, y^{2}}\\right) + e^{z} - 1 $"
      ],
      "text/plain": [
       "<IPython.core.display.Markdown object>"
      ]
     },
     "metadata": {},
     "output_type": "display_data"
    },
    {
     "data": {
      "text/markdown": [
       "$ \\left( x, y, z, {\\lambda} \\right) \\ {\\mapsto} \\ \\frac{1}{4} \\, {\\left(x + 3 \\, y\\right)} \\cos\\left({\\lambda}\\right) + \\frac{1}{4} \\, {\\left(\\sqrt{3} x - \\sqrt{3} y\\right)} \\sin\\left({\\lambda}\\right) + z $"
      ],
      "text/plain": [
       "<IPython.core.display.Markdown object>"
      ]
     },
     "metadata": {},
     "output_type": "display_data"
    },
    {
     "data": {
      "text/markdown": [
       "$ \\left( x, y, z, {\\lambda} \\right) \\ {\\mapsto} \\ \\frac{1}{4} \\, {\\left(x + 3 \\, y\\right)} \\cos\\left({\\lambda}\\right) + \\frac{1}{4} \\, {\\left(\\sqrt{3} x - \\sqrt{3} y\\right)} \\sin\\left({\\lambda}\\right) + z $"
      ],
      "text/plain": [
       "<IPython.core.display.Markdown object>"
      ]
     },
     "metadata": {},
     "output_type": "display_data"
    }
   ],
   "source": [
    "f1A(x,y,z,l) = f1(*list(A*vector([x,y,z])),l)\n",
    "f2A(x,y,z,l) = f2(*list(A*vector([x,y,z])),l)\n",
    "f3A(x,y,z,l) = f3(*list(A*vector([x,y,z])),l)\n",
    "lprint(f1A)\n",
    "lprint(f2A)\n",
    "lprint(f2A)"
   ]
  },
  {
   "cell_type": "code",
   "execution_count": 11,
   "metadata": {},
   "outputs": [
    {
     "data": {
      "text/markdown": [
       "$ \\left( x, y, z, {\\lambda} \\right) \\ {\\mapsto} \\ -\\frac{1}{4} \\, {\\left(\\sqrt{3} x - \\sqrt{3} y\\right)} \\cos\\left(\\frac{1}{6} \\, \\sqrt{4 \\, \\pi^{2} + 9 \\, x^{2} + 27 \\, y^{2}}\\right) + \\frac{1}{4} \\, {\\left(x + 3 \\, y\\right)} \\sin\\left(\\frac{1}{6} \\, \\sqrt{4 \\, \\pi^{2} + 9 \\, x^{2} + 27 \\, y^{2}}\\right) - \\frac{1}{12} \\, \\sqrt{3} {\\left({\\left(x + 3 \\, y\\right)} \\cos\\left({\\lambda}\\right) + {\\left(\\sqrt{3} x - \\sqrt{3} y\\right)} \\sin\\left({\\lambda}\\right) + 4 \\, z\\right)} + e^{z} - 1 $"
      ],
      "text/plain": [
       "<IPython.core.display.Markdown object>"
      ]
     },
     "metadata": {},
     "output_type": "display_data"
    },
    {
     "data": {
      "text/markdown": [
       "$ \\left( x, y, z, {\\lambda} \\right) \\ {\\mapsto} \\ \\frac{1}{64} \\, {\\left(\\sqrt{3} x - \\sqrt{3} y\\right)}^{3} + \\frac{1}{16} \\, {\\left(x + 3 \\, y\\right)}^{2} + {\\lambda} z + z^{2} + 4 \\, z $"
      ],
      "text/plain": [
       "<IPython.core.display.Markdown object>"
      ]
     },
     "metadata": {},
     "output_type": "display_data"
    },
    {
     "data": {
      "text/markdown": [
       "$ \\left( x, y, z, {\\lambda} \\right) \\ {\\mapsto} \\ -\\frac{1}{4} \\, {\\left(\\sqrt{3} x - \\sqrt{3} y\\right)} \\cos\\left(\\frac{1}{6} \\, \\sqrt{4 \\, \\pi^{2} + 9 \\, x^{2} + 27 \\, y^{2}}\\right) + \\frac{1}{4} \\, {\\left(x + 3 \\, y\\right)} \\sin\\left(\\frac{1}{6} \\, \\sqrt{4 \\, \\pi^{2} + 9 \\, x^{2} + 27 \\, y^{2}}\\right) + \\frac{1}{4} \\, \\sqrt{3} {\\left({\\left(x + 3 \\, y\\right)} \\cos\\left({\\lambda}\\right) + {\\left(\\sqrt{3} x - \\sqrt{3} y\\right)} \\sin\\left({\\lambda}\\right) + 4 \\, z\\right)} + e^{z} - 1 $"
      ],
      "text/plain": [
       "<IPython.core.display.Markdown object>"
      ]
     },
     "metadata": {},
     "output_type": "display_data"
    }
   ],
   "source": [
    "[ft1,ft2,ft3] = B.inverse()*vector([f1A,f2A,f3A])\n",
    "lprint(ft1)\n",
    "lprint(ft2)\n",
    "lprint(ft3)"
   ]
  },
  {
   "cell_type": "code",
   "execution_count": 12,
   "metadata": {},
   "outputs": [
    {
     "data": {
      "text/markdown": [
       "$ \\left(\\begin{array}{rrr}\n",
       "0 & \\frac{1}{2} \\, \\sqrt{3} - \\frac{1}{2} & -\\frac{1}{3} \\, \\sqrt{3} + 1 \\\\\n",
       "0 & 0 & -\\frac{1}{6} \\, \\pi + 4 \\\\\n",
       "0 & \\frac{1}{2} \\, \\sqrt{3} + \\frac{3}{2} & \\sqrt{3} + 1\n",
       "\\end{array}\\right) $"
      ],
      "text/plain": [
       "<IPython.core.display.Markdown object>"
      ]
     },
     "metadata": {},
     "output_type": "display_data"
    }
   ],
   "source": [
    "Jt = jacobian([ft1,ft2,ft3],(x,y,z))(x=0,y=0,z=0,l=-pi/6)\n",
    "lprint(Jt)"
   ]
  },
  {
   "cell_type": "code",
   "execution_count": 13,
   "metadata": {},
   "outputs": [
    {
     "data": {
      "text/markdown": [
       "$ \\left[\\left(1,\\,0,\\,0\\right)\\right] $"
      ],
      "text/plain": [
       "<IPython.core.display.Markdown object>"
      ]
     },
     "metadata": {},
     "output_type": "display_data"
    }
   ],
   "source": [
    "Kt = Jt.right_kernel().basis()\n",
    "lprint(Kt)"
   ]
  },
  {
   "cell_type": "code",
   "execution_count": 14,
   "metadata": {},
   "outputs": [
    {
     "data": {
      "text/markdown": [
       "$ \\left[\\left(0,\\,1,\\,0\\right), \\left(0,\\,0,\\,1\\right)\\right] $"
      ],
      "text/plain": [
       "<IPython.core.display.Markdown object>"
      ]
     },
     "metadata": {},
     "output_type": "display_data"
    }
   ],
   "source": [
    "It = Jt.image().basis()\n",
    "lprint(It)"
   ]
  },
  {
   "cell_type": "markdown",
   "metadata": {},
   "source": [
    "Success! - we see that now the kernel and image directions are teased out."
   ]
  },
  {
   "cell_type": "markdown",
   "metadata": {},
   "source": [
    "### Running the implicit function code"
   ]
  },
  {
   "cell_type": "markdown",
   "metadata": {},
   "source": [
    "The implicit function method only works for the case when the $f_{Y}$ partial is invertible, in this case that means we omit $\\lambda$ and the kernel direction, which for our $\\tilde{f}$ means ingnoring $x$\n",
    "\n",
    "Similarly we omit $\\tilde{f}_{1}$ from consideration from the implicit function theorem, since this traverses the cokernel of the Jacobian"
   ]
  },
  {
   "cell_type": "markdown",
   "metadata": {},
   "source": [
    "Translating into the language of the implicit function theorem code, somewhat confusingly we set:\n",
    "\n",
    "$y_{1} = y$\n",
    "\n",
    "$y_{2} = z$\n",
    "\n",
    "$x_{1} = \\lambda$\n",
    "\n",
    "$x_{2} = x$\n"
   ]
  },
  {
   "cell_type": "code",
   "execution_count": 47,
   "metadata": {},
   "outputs": [],
   "source": [
    "funcs = [ft2, ft3]\n",
    "position = {'x' : 0, 'y' : 0, 'z' : 0, 'l' : -pi/6} # drawback that have to write this way\n",
    "var_dict = {'y1' : y, 'y2' : z, 'x1' : l, 'x2' : x}\n",
    "x_var_keys = ['x1','x2']\n",
    "x_dim = 2\n",
    "y_dim = 2"
   ]
  },
  {
   "cell_type": "code",
   "execution_count": 48,
   "metadata": {},
   "outputs": [],
   "source": [
    "t_dict = TensorDict(funcs, position, var_dict, x_dim, y_dim)"
   ]
  },
  {
   "cell_type": "code",
   "execution_count": 53,
   "metadata": {},
   "outputs": [
    {
     "name": "stdout",
     "output_type": "stream",
     "text": [
      "[0, 0]\n",
      "[0, 0]\n"
     ]
    }
   ],
   "source": [
    "out = get_hkx_polynomial(funcs, 2, x_dim, y_dim, var_dict, x_var_keys, t_dict, position)"
   ]
  },
  {
   "cell_type": "code",
   "execution_count": 54,
   "metadata": {},
   "outputs": [
    {
     "data": {
      "text/markdown": [
       "$ \\left[-\\frac{\\sqrt{3} {\\lambda} x}{\\sqrt{3} + 3} - \\frac{3 \\, x^{2} {\\left(\\sqrt{3} + 1\\right)}}{4 \\, {\\left(\\pi - 24\\right)} {\\left(\\sqrt{3} + 3\\right)}}, \\frac{3 \\, x^{2}}{8 \\, {\\left(\\pi - 24\\right)}}\\right] $"
      ],
      "text/plain": [
       "<IPython.core.display.Markdown object>"
      ]
     },
     "metadata": {},
     "output_type": "display_data"
    }
   ],
   "source": [
    "lprint(out)"
   ]
  },
  {
   "cell_type": "markdown",
   "metadata": {},
   "source": [
    "This is the parametrisation of the zero set of "
   ]
  }
 ],
 "metadata": {
  "kernelspec": {
   "display_name": "SageMath 9.2",
   "language": "sage",
   "name": "sagemath"
  },
  "language_info": {
   "codemirror_mode": {
    "name": "ipython",
    "version": 3
   },
   "file_extension": ".py",
   "mimetype": "text/x-python",
   "name": "python",
   "nbconvert_exporter": "python",
   "pygments_lexer": "ipython3",
   "version": "3.7.7"
  }
 },
 "nbformat": 4,
 "nbformat_minor": 4
}
