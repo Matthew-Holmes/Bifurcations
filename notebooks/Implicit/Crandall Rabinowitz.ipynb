{
 "cells": [
  {
   "cell_type": "code",
   "execution_count": 1,
   "metadata": {},
   "outputs": [],
   "source": [
    "from IPython.display import display, Markdown\n",
    "def latexify(x):\n",
    "    out = '$' + x + '$'\n",
    "    return out\n",
    "\n",
    "def lprint(x):\n",
    "    display(Markdown(latexify(latex(x))))\n",
    "    \n",
    "%run -i 'implicit.py'"
   ]
  },
  {
   "cell_type": "markdown",
   "metadata": {},
   "source": [
    "# Crandall-Rabinowitz"
   ]
  },
  {
   "cell_type": "markdown",
   "metadata": {},
   "source": [
    "We now have a readily callable implicit function theorem, lets put it to work and automate the method of Crandall-Rabinowitz"
   ]
  },
  {
   "cell_type": "markdown",
   "metadata": {},
   "source": [
    "Crandall-Rabinowitz pertains to the following case:\n",
    "\n",
    "$$F : \\mathbb{R} \\times X \\rightarrow Y $$\n",
    "\n",
    "$$ X = \\mathbb{R}^n $$\n",
    "\n",
    "Where we have that $\\partial_{x}F$ has Fredholm index 0 and a one-dimensional kernel."
   ]
  },
  {
   "cell_type": "markdown",
   "metadata": {},
   "source": [
    "From this we can recover that:\n",
    "\n",
    "$$dim X = dim Y$$\n",
    "\n",
    "and:\n",
    "\n",
    "$$ \\text{dimRange} \\;\\partial_{x}F = n-1 $$"
   ]
  },
  {
   "cell_type": "markdown",
   "metadata": {},
   "source": [
    "### Changing basis"
   ]
  },
  {
   "cell_type": "markdown",
   "metadata": {},
   "source": [
    "To begin to untangle the parts we can deal with the implict function theorem, consider the following bases for $X$ and $Y$:\n",
    "\n",
    "$(u_{1}, \\dots, u_{n-1}, \\tilde{u}_{n})$ and $(v_{1}, \\dots, v_{n-1}, \\tilde{v}_{n})$\n",
    "\n",
    "such that:\n",
    "\n",
    "$$ \\text{Ker} \\;\\partial_{x}F = \\left< \\tilde{u}_{n}\\right>$$\n",
    "$$ \\text{Range} \\;\\partial_{x}F = \\left< v_{1}, \\cdots, v_{n-1} \\right>$$\n",
    "\n",
    "Let $A$ and $B \\in \\mathcal{L}(\\mathbb{R}^n, \\mathbb{R}^n)$ be the respective change of basis matrices"
   ]
  },
  {
   "cell_type": "markdown",
   "metadata": {},
   "source": [
    "See that $$\\tilde{F} = B^{-1} \\circ F \\circ A$$\n",
    "\n",
    "Now has one input variable acting in the kernel and one output not in the range, (abusing notation here, $A$,$B$ leave the $\\mathbb{R}$ input alone)"
   ]
  },
  {
   "cell_type": "markdown",
   "metadata": {},
   "source": [
    "### Worked example"
   ]
  },
  {
   "cell_type": "markdown",
   "metadata": {},
   "source": [
    "To build up the method lets use a previous example:"
   ]
  },
  {
   "cell_type": "code",
   "execution_count": 2,
   "metadata": {},
   "outputs": [
    {
     "data": {
      "text/markdown": [
       "$ -y \\cos\\left(\\frac{1}{3} \\, \\sqrt{\\pi^{2} + 9 \\, x^{2} + 9 \\, y^{2}}\\right) + x \\sin\\left(\\frac{1}{3} \\, \\sqrt{\\pi^{2} + 9 \\, x^{2} + 9 \\, y^{2}}\\right) + e^{z} - 1 $"
      ],
      "text/plain": [
       "<IPython.core.display.Markdown object>"
      ]
     },
     "metadata": {},
     "output_type": "display_data"
    },
    {
     "data": {
      "text/markdown": [
       "$ x \\cos\\left({\\lambda}\\right) + y \\sin\\left({\\lambda}\\right) + z $"
      ],
      "text/plain": [
       "<IPython.core.display.Markdown object>"
      ]
     },
     "metadata": {},
     "output_type": "display_data"
    },
    {
     "data": {
      "text/markdown": [
       "$ y^{3} + x^{2} + {\\lambda} z + z^{2} + 4 \\, z $"
      ],
      "text/plain": [
       "<IPython.core.display.Markdown object>"
      ]
     },
     "metadata": {},
     "output_type": "display_data"
    }
   ],
   "source": [
    "var('x y z')\n",
    "var('l', latex_name=r'\\lambda')\n",
    "f1 = x*sin(sqrt(x^2 + y^2 +  (pi^2)/9)) - y*cos(sqrt(x^2 + y^2 +  (pi^2)/9)) + exp(z) - 1 # zeros when z = 0\n",
    "f2 = x*cos(l) + y*sin(l) + z \n",
    "f3 = z^2 + 4*z + z*l + x^2 + y^3 # zeros out at when X = 0   [X = <x,y,z>]\n",
    "lprint(f1)\n",
    "lprint(f2)\n",
    "lprint(f3)"
   ]
  },
  {
   "cell_type": "markdown",
   "metadata": {},
   "source": [
    "We aim to describe the solution set when $\\lambda = -\\frac{\\pi}{6} $, and determine that it is indeed a bifucation point"
   ]
  },
  {
   "cell_type": "code",
   "execution_count": 12,
   "metadata": {},
   "outputs": [
    {
     "data": {
      "text/markdown": [
       "$ \\left(\\begin{array}{rrr}\n",
       "\\frac{1}{2} \\, \\sqrt{3} & -\\frac{1}{2} & 1 \\\\\n",
       "\\frac{1}{2} \\, \\sqrt{3} & -\\frac{1}{2} & 1 \\\\\n",
       "0 & 0 & -\\frac{1}{6} \\, \\pi + 4\n",
       "\\end{array}\\right) $"
      ],
      "text/plain": [
       "<IPython.core.display.Markdown object>"
      ]
     },
     "metadata": {},
     "output_type": "display_data"
    }
   ],
   "source": [
    "J = jacobian([f1,f2,f3],(x,y,z))(x=0,y=0,z=0,l=-pi/6)\n",
    "lprint(J)"
   ]
  },
  {
   "cell_type": "code",
   "execution_count": 20,
   "metadata": {},
   "outputs": [
    {
     "data": {
      "text/markdown": [
       "$ \\left[\\left(1,\\,\\sqrt{3},\\,0\\right)\\right] $"
      ],
      "text/plain": [
       "<IPython.core.display.Markdown object>"
      ]
     },
     "metadata": {},
     "output_type": "display_data"
    }
   ],
   "source": [
    "K = J.right_kernel().basis()\n",
    "lprint(K)"
   ]
  },
  {
   "cell_type": "code",
   "execution_count": 22,
   "metadata": {},
   "outputs": [
    {
     "data": {
      "text/markdown": [
       "$ \\left[\\left(1,\\,-\\frac{1}{3} \\, \\sqrt{3},\\,0\\right), \\left(0,\\,0,\\,1\\right)\\right] $"
      ],
      "text/plain": [
       "<IPython.core.display.Markdown object>"
      ]
     },
     "metadata": {},
     "output_type": "display_data"
    }
   ],
   "source": [
    "I = J.image().basis()\n",
    "lprint(I)"
   ]
  },
  {
   "cell_type": "markdown",
   "metadata": {},
   "source": [
    "#### Extending to bases"
   ]
  },
  {
   "cell_type": "markdown",
   "metadata": {},
   "source": [
    "We can use this trick as per math stackexhange https://math.stackexchange.com/questions/465870/how-to-extend-a-basis"
   ]
  },
  {
   "cell_type": "code",
   "execution_count": 26,
   "metadata": {},
   "outputs": [
    {
     "data": {
      "text/markdown": [
       "$ \\left[\\left(1,\\,-\\frac{1}{3} \\, \\sqrt{3},\\,0\\right), \\left(0,\\,0,\\,1\\right)\\right] $"
      ],
      "text/plain": [
       "<IPython.core.display.Markdown object>"
      ]
     },
     "metadata": {},
     "output_type": "display_data"
    }
   ],
   "source": [
    "Kperp = matrix(K).right_kernel().basis()\n",
    "lprint(Kperp)"
   ]
  },
  {
   "cell_type": "code",
   "execution_count": 28,
   "metadata": {},
   "outputs": [
    {
     "data": {
      "text/markdown": [
       "$ \\left[\\left(1,\\,\\sqrt{3},\\,0\\right)\\right] $"
      ],
      "text/plain": [
       "<IPython.core.display.Markdown object>"
      ]
     },
     "metadata": {},
     "output_type": "display_data"
    }
   ],
   "source": [
    "Iperp = matrix(I).right_kernel().basis()\n",
    "lprint(Iperp)"
   ]
  },
  {
   "cell_type": "markdown",
   "metadata": {},
   "source": [
    "#### Getting the A,B matrices"
   ]
  },
  {
   "cell_type": "code",
   "execution_count": 34,
   "metadata": {},
   "outputs": [
    {
     "data": {
      "text/markdown": [
       "$ \\left(\\begin{array}{rrr}\n",
       "1 & \\sqrt{3} & 0 \\\\\n",
       "1 & -\\frac{1}{3} \\, \\sqrt{3} & 0 \\\\\n",
       "0 & 0 & 1\n",
       "\\end{array}\\right) $"
      ],
      "text/plain": [
       "<IPython.core.display.Markdown object>"
      ]
     },
     "metadata": {},
     "output_type": "display_data"
    }
   ],
   "source": [
    "A = matrix(K+Kperp)\n",
    "lprint(A)"
   ]
  },
  {
   "cell_type": "code",
   "execution_count": 35,
   "metadata": {},
   "outputs": [
    {
     "data": {
      "text/markdown": [
       "$ \\left(\\begin{array}{rrr}\n",
       "1 & -\\frac{1}{3} \\, \\sqrt{3} & 0 \\\\\n",
       "0 & 0 & 1 \\\\\n",
       "1 & \\sqrt{3} & 0\n",
       "\\end{array}\\right) $"
      ],
      "text/plain": [
       "<IPython.core.display.Markdown object>"
      ]
     },
     "metadata": {},
     "output_type": "display_data"
    }
   ],
   "source": [
    "B = matrix(I + Iperp)\n",
    "lprint(B)"
   ]
  },
  {
   "cell_type": "markdown",
   "metadata": {},
   "source": [
    "These are the required matrices for the formulation above"
   ]
  },
  {
   "cell_type": "code",
   "execution_count": null,
   "metadata": {},
   "outputs": [],
   "source": []
  }
 ],
 "metadata": {
  "kernelspec": {
   "display_name": "SageMath 9.2",
   "language": "sage",
   "name": "sagemath"
  },
  "language_info": {
   "codemirror_mode": {
    "name": "ipython",
    "version": 3
   },
   "file_extension": ".py",
   "mimetype": "text/x-python",
   "name": "python",
   "nbconvert_exporter": "python",
   "pygments_lexer": "ipython3",
   "version": "3.7.7"
  }
 },
 "nbformat": 4,
 "nbformat_minor": 4
}
