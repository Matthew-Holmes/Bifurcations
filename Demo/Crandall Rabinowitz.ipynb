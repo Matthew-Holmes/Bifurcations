{
 "cells": [
  {
   "cell_type": "code",
   "execution_count": 1,
   "metadata": {},
   "outputs": [],
   "source": [
    "from IPython.display import display, Markdown\n",
    "def latexify(x):\n",
    "    out = '$' + x + '$'\n",
    "    return out\n",
    "\n",
    "def lprint(x):\n",
    "    display(Markdown(latexify(latex(x))))\n",
    "    \n",
    "%run -i 'implicit.py'"
   ]
  },
  {
   "cell_type": "markdown",
   "metadata": {},
   "source": [
    "# Crandall-Rabinowitz"
   ]
  },
  {
   "cell_type": "markdown",
   "metadata": {},
   "source": [
    "We now have a readily callable implicit function theorem, lets put it to work and automate the method of Crandall-Rabinowitz"
   ]
  },
  {
   "cell_type": "markdown",
   "metadata": {},
   "source": [
    "Crandall-Rabinowitz pertains to the following case:\n",
    "\n",
    "$$F : \\mathbb{R} \\times X \\rightarrow Y $$\n",
    "\n",
    "$$ X = \\mathbb{R}^n $$\n",
    "\n",
    "Where we have that $\\partial_{x}F$ has Fredholm index 0 and a one-dimensional kernel."
   ]
  },
  {
   "cell_type": "markdown",
   "metadata": {},
   "source": [
    "From this we can recover that:\n",
    "\n",
    "$$dim X = dim Y$$\n",
    "\n",
    "and:\n",
    "\n",
    "$$ \\text{dimRange} \\;\\partial_{x}F = n-1 $$"
   ]
  },
  {
   "cell_type": "markdown",
   "metadata": {},
   "source": [
    "### Changing basis"
   ]
  },
  {
   "cell_type": "markdown",
   "metadata": {},
   "source": [
    "To begin to untangle the parts we can deal with the implict function theorem, consider the following bases for $X$ and $Y$:\n",
    "\n",
    "$(u_{1}, \\dots, u_{n-1}, \\tilde{u}_{n})$ and $(v_{1}, \\dots, v_{n-1}, \\tilde{v}_{n})$\n",
    "\n",
    "such that:\n",
    "\n",
    "$$ \\text{Ker} \\;\\partial_{x}F = \\left< \\tilde{u}_{n}\\right>$$\n",
    "$$ \\text{Range} \\;\\partial_{x}F = \\left< v_{1}, \\cdots, v_{n-1} \\right>$$\n",
    "\n",
    "Let $A$ and $B \\in \\mathcal{L}(\\mathbb{R}^n, \\mathbb{R}^n)$ be the respective change of basis matrices"
   ]
  },
  {
   "cell_type": "markdown",
   "metadata": {},
   "source": [
    "See that $$\\tilde{F} = B^{-1} \\circ F \\circ A$$\n",
    "\n",
    "Now has one input variable acting in the kernel and one output not in the range, (abusing notation here, $A$,$B$ leave the $\\mathbb{R}$ input alone)"
   ]
  },
  {
   "cell_type": "markdown",
   "metadata": {},
   "source": [
    "### Worked example"
   ]
  },
  {
   "cell_type": "markdown",
   "metadata": {},
   "source": [
    "To build up the method lets use a previous example:"
   ]
  },
  {
   "cell_type": "code",
   "execution_count": 2,
   "metadata": {},
   "outputs": [
    {
     "data": {
      "text/markdown": [
       "$ \\left( x, y, z, {\\lambda} \\right) \\ {\\mapsto} \\ -y \\cos\\left(\\frac{1}{3} \\, \\sqrt{\\pi^{2} + 9 \\, x^{2} + 9 \\, y^{2}}\\right) + x \\sin\\left(\\frac{1}{3} \\, \\sqrt{\\pi^{2} + 9 \\, x^{2} + 9 \\, y^{2}}\\right) + e^{z} - 1 $"
      ],
      "text/plain": [
       "<IPython.core.display.Markdown object>"
      ]
     },
     "metadata": {},
     "output_type": "display_data"
    },
    {
     "data": {
      "text/markdown": [
       "$ \\left( x, y, z, {\\lambda} \\right) \\ {\\mapsto} \\ x \\cos\\left({\\lambda}\\right) + y \\sin\\left({\\lambda}\\right) + z $"
      ],
      "text/plain": [
       "<IPython.core.display.Markdown object>"
      ]
     },
     "metadata": {},
     "output_type": "display_data"
    },
    {
     "data": {
      "text/markdown": [
       "$ \\left( x, y, z, {\\lambda} \\right) \\ {\\mapsto} \\ y^{3} + x^{2} + {\\lambda} z + z^{2} + 4 \\, z $"
      ],
      "text/plain": [
       "<IPython.core.display.Markdown object>"
      ]
     },
     "metadata": {},
     "output_type": "display_data"
    }
   ],
   "source": [
    "var('x y z')\n",
    "var('l', latex_name=r'\\lambda')\n",
    "f1(x,y,z,l) = x*sin(sqrt(x^2 + y^2 +  (pi^2)/9)) - y*cos(sqrt(x^2 + y^2 +  (pi^2)/9)) + exp(z) - 1 # zeros when z = 0\n",
    "f2(x,y,z,l) = x*cos(l) + y*sin(l) + z \n",
    "f3(x,y,z,l) = z^2 + 4*z + z*l + x^2 + y^3 # zeros out at when X = 0   [X = <x,y,z>]\n",
    "lprint(f1)\n",
    "lprint(f2)\n",
    "lprint(f3)"
   ]
  },
  {
   "cell_type": "code",
   "execution_count": 3,
   "metadata": {},
   "outputs": [
    {
     "data": {
      "text/markdown": [
       "$ \\left(\\begin{array}{rrr}\n",
       "\\frac{1}{2} \\, \\sqrt{3} & -\\frac{1}{2} & 1 \\\\\n",
       "\\cos\\left({\\lambda}\\right) & \\sin\\left({\\lambda}\\right) & 1 \\\\\n",
       "0 & 0 & {\\lambda} + 4\n",
       "\\end{array}\\right) $"
      ],
      "text/plain": [
       "<IPython.core.display.Markdown object>"
      ]
     },
     "metadata": {},
     "output_type": "display_data"
    }
   ],
   "source": [
    "J = jacobian([f1,f2,f3],(x,y,z))(x=0,y=0,z=0)\n",
    "lprint(J)"
   ]
  },
  {
   "cell_type": "code",
   "execution_count": 4,
   "metadata": {},
   "outputs": [
    {
     "data": {
      "text/markdown": [
       "$ \\frac{1}{2} \\, \\sqrt{3} {\\left({\\lambda} + 4\\right)} \\sin\\left({\\lambda}\\right) + \\frac{1}{2} \\, {\\left({\\lambda} + 4\\right)} \\cos\\left({\\lambda}\\right) $"
      ],
      "text/plain": [
       "<IPython.core.display.Markdown object>"
      ]
     },
     "metadata": {},
     "output_type": "display_data"
    }
   ],
   "source": [
    "lprint(det(J))"
   ]
  },
  {
   "cell_type": "code",
   "execution_count": 5,
   "metadata": {},
   "outputs": [
    {
     "data": {
      "text/markdown": [
       "$ 0 $"
      ],
      "text/plain": [
       "<IPython.core.display.Markdown object>"
      ]
     },
     "metadata": {},
     "output_type": "display_data"
    }
   ],
   "source": [
    "lprint(det(J)(l = -pi/6))"
   ]
  },
  {
   "cell_type": "markdown",
   "metadata": {},
   "source": [
    "So we see that $\\lambda = - \\frac{\\pi}{6}$ satisfies the necessary condition for a bifurcation point."
   ]
  },
  {
   "cell_type": "markdown",
   "metadata": {},
   "source": [
    "We aim to describe the solution set when $\\lambda = -\\frac{\\pi}{6} $, and determine that it is indeed a bifucation point"
   ]
  },
  {
   "cell_type": "markdown",
   "metadata": {},
   "source": [
    "But before all that to make things a lot easier lets shift our functions so that we are considering $\\lambda = 0$, otherwise the taylor expansions can get very confusing, whatever conclusions we draw about the shifted functions will hold for the originals"
   ]
  },
  {
   "cell_type": "code",
   "execution_count": 6,
   "metadata": {},
   "outputs": [
    {
     "data": {
      "text/markdown": [
       "$ \\left( x, y, z, {\\lambda} \\right) \\ {\\mapsto} \\ -y \\cos\\left(\\frac{1}{3} \\, \\sqrt{\\pi^{2} + 9 \\, x^{2} + 9 \\, y^{2}}\\right) + x \\sin\\left(\\frac{1}{3} \\, \\sqrt{\\pi^{2} + 9 \\, x^{2} + 9 \\, y^{2}}\\right) + e^{z} - 1 $"
      ],
      "text/plain": [
       "<IPython.core.display.Markdown object>"
      ]
     },
     "metadata": {},
     "output_type": "display_data"
    },
    {
     "data": {
      "text/markdown": [
       "$ \\left( x, y, z, {\\lambda} \\right) \\ {\\mapsto} \\ x \\cos\\left(-\\frac{1}{6} \\, \\pi + {\\lambda}\\right) + y \\sin\\left(-\\frac{1}{6} \\, \\pi + {\\lambda}\\right) + z $"
      ],
      "text/plain": [
       "<IPython.core.display.Markdown object>"
      ]
     },
     "metadata": {},
     "output_type": "display_data"
    },
    {
     "data": {
      "text/markdown": [
       "$ \\left( x, y, z, {\\lambda} \\right) \\ {\\mapsto} \\ y^{3} + x^{2} - \\frac{1}{6} \\, {\\left(\\pi - 6 \\, {\\lambda}\\right)} z + z^{2} + 4 \\, z $"
      ],
      "text/plain": [
       "<IPython.core.display.Markdown object>"
      ]
     },
     "metadata": {},
     "output_type": "display_data"
    }
   ],
   "source": [
    "old_funcs = [f1,f2,f3]\n",
    "f1(x,y,z,l) = f1(x,y,z,l-pi/6)\n",
    "f2(x,y,z,l) = f2(x,y,z,l-pi/6)\n",
    "f3(x,y,z,l) = f3(x,y,z,l-pi/6)\n",
    "lprint(f1)\n",
    "lprint(f2)\n",
    "lprint(f3)"
   ]
  },
  {
   "cell_type": "markdown",
   "metadata": {},
   "source": [
    "Now lets proceed, with the potential bifucation point taken to be $\\lambda = 0$"
   ]
  },
  {
   "cell_type": "code",
   "execution_count": 7,
   "metadata": {},
   "outputs": [
    {
     "data": {
      "text/markdown": [
       "$ \\frac{1}{2} \\, \\sqrt{3} $"
      ],
      "text/plain": [
       "<IPython.core.display.Markdown object>"
      ]
     },
     "metadata": {},
     "output_type": "display_data"
    }
   ],
   "source": [
    "lprint(cos(-pi/6))"
   ]
  },
  {
   "cell_type": "code",
   "execution_count": 8,
   "metadata": {},
   "outputs": [
    {
     "data": {
      "text/markdown": [
       "$ \\left(\\begin{array}{rrr}\n",
       "\\frac{1}{2} \\, \\sqrt{3} & -\\frac{1}{2} & 1 \\\\\n",
       "\\frac{1}{2} \\, \\sqrt{3} & -\\frac{1}{2} & 1 \\\\\n",
       "0 & 0 & -\\frac{1}{6} \\, \\pi + 4\n",
       "\\end{array}\\right) $"
      ],
      "text/plain": [
       "<IPython.core.display.Markdown object>"
      ]
     },
     "metadata": {},
     "output_type": "display_data"
    }
   ],
   "source": [
    "J = jacobian([f1,f2,f3],(x,y,z))(x=0,y=0,z=0,l=0)\n",
    "lprint(J)"
   ]
  },
  {
   "cell_type": "code",
   "execution_count": 9,
   "metadata": {},
   "outputs": [
    {
     "data": {
      "text/markdown": [
       "$ \\left[\\left(1,\\,\\sqrt{3},\\,0\\right)\\right] $"
      ],
      "text/plain": [
       "<IPython.core.display.Markdown object>"
      ]
     },
     "metadata": {},
     "output_type": "display_data"
    }
   ],
   "source": [
    "K = J.right_kernel().basis()\n",
    "lprint(K)"
   ]
  },
  {
   "cell_type": "code",
   "execution_count": 10,
   "metadata": {},
   "outputs": [
    {
     "data": {
      "text/markdown": [
       "$ \\left[\\left(1,\\,-\\frac{1}{3} \\, \\sqrt{3},\\,0\\right), \\left(0,\\,0,\\,1\\right)\\right] $"
      ],
      "text/plain": [
       "<IPython.core.display.Markdown object>"
      ]
     },
     "metadata": {},
     "output_type": "display_data"
    }
   ],
   "source": [
    "lprint(J.image().basis())"
   ]
  },
  {
   "cell_type": "markdown",
   "metadata": {},
   "source": [
    "#### Extending to bases"
   ]
  },
  {
   "cell_type": "markdown",
   "metadata": {},
   "source": [
    "We can use this trick as per math stackexhange https://math.stackexchange.com/questions/465870/how-to-extend-a-basis"
   ]
  },
  {
   "cell_type": "code",
   "execution_count": 11,
   "metadata": {},
   "outputs": [
    {
     "data": {
      "text/markdown": [
       "$ \\left[\\left(1,\\,-\\frac{1}{3} \\, \\sqrt{3},\\,0\\right), \\left(0,\\,0,\\,1\\right)\\right] $"
      ],
      "text/plain": [
       "<IPython.core.display.Markdown object>"
      ]
     },
     "metadata": {},
     "output_type": "display_data"
    }
   ],
   "source": [
    "Kperp = matrix(K).right_kernel().basis()\n",
    "lprint(Kperp)"
   ]
  },
  {
   "cell_type": "markdown",
   "metadata": {},
   "source": [
    "#### Orthogonalising the Kernel"
   ]
  },
  {
   "cell_type": "code",
   "execution_count": 12,
   "metadata": {},
   "outputs": [
    {
     "data": {
      "text/markdown": [
       "$ \\left(\\begin{array}{rrr}\n",
       "1 & 1 & 0 \\\\\n",
       "\\sqrt{3} & -\\frac{1}{3} \\, \\sqrt{3} & 0 \\\\\n",
       "0 & 0 & 1\n",
       "\\end{array}\\right) $"
      ],
      "text/plain": [
       "<IPython.core.display.Markdown object>"
      ]
     },
     "metadata": {},
     "output_type": "display_data"
    }
   ],
   "source": [
    "A = matrix(K+Kperp).transpose()\n",
    "lprint(A) # transpose so pick out the kernel direction when multiplied by e_1"
   ]
  },
  {
   "cell_type": "markdown",
   "metadata": {},
   "source": [
    "These are the required matrices for the formulation above"
   ]
  },
  {
   "cell_type": "markdown",
   "metadata": {},
   "source": [
    "Now we can setup a new function $\\tilde{f}$ that behaves as we need to apply the implicit function code - in all but the first slot that is"
   ]
  },
  {
   "cell_type": "markdown",
   "metadata": {},
   "source": [
    "#### The new f"
   ]
  },
  {
   "cell_type": "code",
   "execution_count": 13,
   "metadata": {},
   "outputs": [
    {
     "data": {
      "text/markdown": [
       "$ \\left( x, y, z, {\\lambda} \\right) \\ {\\mapsto} \\ -\\frac{1}{3} \\, {\\left(3 \\, \\sqrt{3} x - \\sqrt{3} y\\right)} \\cos\\left(\\frac{1}{3} \\, \\sqrt{\\pi^{2} + 36 \\, x^{2} + 12 \\, y^{2}}\\right) + {\\left(x + y\\right)} \\sin\\left(\\frac{1}{3} \\, \\sqrt{\\pi^{2} + 36 \\, x^{2} + 12 \\, y^{2}}\\right) + e^{z} - 1 $"
      ],
      "text/plain": [
       "<IPython.core.display.Markdown object>"
      ]
     },
     "metadata": {},
     "output_type": "display_data"
    },
    {
     "data": {
      "text/markdown": [
       "$ \\left( x, y, z, {\\lambda} \\right) \\ {\\mapsto} \\ {\\left(x + y\\right)} \\cos\\left(-\\frac{1}{6} \\, \\pi + {\\lambda}\\right) + \\frac{1}{3} \\, {\\left(3 \\, \\sqrt{3} x - \\sqrt{3} y\\right)} \\sin\\left(-\\frac{1}{6} \\, \\pi + {\\lambda}\\right) + z $"
      ],
      "text/plain": [
       "<IPython.core.display.Markdown object>"
      ]
     },
     "metadata": {},
     "output_type": "display_data"
    },
    {
     "data": {
      "text/markdown": [
       "$ \\left( x, y, z, {\\lambda} \\right) \\ {\\mapsto} \\ {\\left(x + y\\right)} \\cos\\left(-\\frac{1}{6} \\, \\pi + {\\lambda}\\right) + \\frac{1}{3} \\, {\\left(3 \\, \\sqrt{3} x - \\sqrt{3} y\\right)} \\sin\\left(-\\frac{1}{6} \\, \\pi + {\\lambda}\\right) + z $"
      ],
      "text/plain": [
       "<IPython.core.display.Markdown object>"
      ]
     },
     "metadata": {},
     "output_type": "display_data"
    }
   ],
   "source": [
    "f1A(x,y,z,l) = f1(*list(A*vector([x,y,z])),l)\n",
    "f2A(x,y,z,l) = f2(*list(A*vector([x,y,z])),l)\n",
    "f3A(x,y,z,l) = f3(*list(A*vector([x,y,z])),l)\n",
    "lprint(f1A)\n",
    "lprint(f2A)\n",
    "lprint(f2A)"
   ]
  },
  {
   "cell_type": "code",
   "execution_count": 14,
   "metadata": {},
   "outputs": [
    {
     "data": {
      "text/markdown": [
       "$ \\left(\\begin{array}{rrr}\n",
       "0 & \\frac{2}{3} \\, \\sqrt{3} & 1 \\\\\n",
       "0 & \\frac{2}{3} \\, \\sqrt{3} & 1 \\\\\n",
       "0 & 0 & -\\frac{1}{6} \\, \\pi + 4\n",
       "\\end{array}\\right) $"
      ],
      "text/plain": [
       "<IPython.core.display.Markdown object>"
      ]
     },
     "metadata": {},
     "output_type": "display_data"
    }
   ],
   "source": [
    "Ja = jacobian([f1A,f2A,f3A],(x,y,z))(x=0,y=0,z=0,l=0)\n",
    "lprint(Ja)"
   ]
  },
  {
   "cell_type": "markdown",
   "metadata": {},
   "source": [
    "We see that the kernel direction is no restricted to one canonical coordinate direction"
   ]
  },
  {
   "cell_type": "markdown",
   "metadata": {},
   "source": [
    "### Orthogonalising the Image"
   ]
  },
  {
   "cell_type": "code",
   "execution_count": 15,
   "metadata": {},
   "outputs": [
    {
     "data": {
      "text/markdown": [
       "$ \\left[\\left(\\frac{2}{3} \\, \\sqrt{3},\\,\\frac{2}{3} \\, \\sqrt{3},\\,0\\right), \\left(1,\\,1,\\,-\\frac{1}{6} \\, \\pi + 4\\right)\\right] $"
      ],
      "text/plain": [
       "<IPython.core.display.Markdown object>"
      ]
     },
     "metadata": {},
     "output_type": "display_data"
    }
   ],
   "source": [
    "I = Ja.image().basis()\n",
    "I = [Ja*vec for vec in I]\n",
    "lprint(I)"
   ]
  },
  {
   "cell_type": "code",
   "execution_count": 16,
   "metadata": {},
   "outputs": [
    {
     "data": {
      "text/markdown": [
       "$ \\left[\\left(1,\\,-1,\\,0\\right)\\right] $"
      ],
      "text/plain": [
       "<IPython.core.display.Markdown object>"
      ]
     },
     "metadata": {},
     "output_type": "display_data"
    }
   ],
   "source": [
    "Iperp = matrix(I).right_kernel().basis()\n",
    "lprint(Iperp)"
   ]
  },
  {
   "cell_type": "code",
   "execution_count": 17,
   "metadata": {},
   "outputs": [],
   "source": [
    "B = matrix(I + Iperp).transpose().inverse()"
   ]
  },
  {
   "cell_type": "code",
   "execution_count": 18,
   "metadata": {},
   "outputs": [
    {
     "data": {
      "text/markdown": [
       "$ \\left(\\begin{array}{rrr}\n",
       "\\frac{1}{4} \\, \\sqrt{3} & \\frac{1}{4} \\, \\sqrt{3} & \\frac{3 \\, \\sqrt{3}}{\\pi - 24} \\\\\n",
       "0 & 0 & -\\frac{6}{\\pi - 24} \\\\\n",
       "\\frac{1}{2} & -\\frac{1}{2} & 0\n",
       "\\end{array}\\right) $"
      ],
      "text/plain": [
       "<IPython.core.display.Markdown object>"
      ]
     },
     "metadata": {},
     "output_type": "display_data"
    }
   ],
   "source": [
    "lprint(B)"
   ]
  },
  {
   "cell_type": "code",
   "execution_count": 19,
   "metadata": {},
   "outputs": [
    {
     "data": {
      "text/markdown": [
       "$ \\left( x, y, z, {\\lambda} \\right) \\ {\\mapsto} \\ \\frac{1}{12} \\, \\sqrt{3} {\\left(3 \\, {\\left(x + y\\right)} \\cos\\left(-\\frac{1}{6} \\, \\pi + {\\lambda}\\right) + {\\left(3 \\, \\sqrt{3} x - \\sqrt{3} y\\right)} \\sin\\left(-\\frac{1}{6} \\, \\pi + {\\lambda}\\right) + 3 \\, z\\right)} - \\frac{1}{12} \\, \\sqrt{3} {\\left({\\left(3 \\, \\sqrt{3} x - \\sqrt{3} y\\right)} \\cos\\left(\\frac{1}{3} \\, \\sqrt{\\pi^{2} + 36 \\, x^{2} + 12 \\, y^{2}}\\right) - 3 \\, {\\left(x + y\\right)} \\sin\\left(\\frac{1}{3} \\, \\sqrt{\\pi^{2} + 36 \\, x^{2} + 12 \\, y^{2}}\\right) - 3 \\, e^{z} + 3\\right)} + \\frac{\\sqrt{3} {\\left(2 \\, {\\left(3 \\, \\sqrt{3} x - \\sqrt{3} y\\right)}^{3} + 54 \\, {\\left(x + y\\right)}^{2} - 9 \\, {\\left(\\pi - 6 \\, {\\lambda}\\right)} z + 54 \\, z^{2} + 216 \\, z\\right)}}{18 \\, {\\left(\\pi - 24\\right)}} $"
      ],
      "text/plain": [
       "<IPython.core.display.Markdown object>"
      ]
     },
     "metadata": {},
     "output_type": "display_data"
    },
    {
     "data": {
      "text/markdown": [
       "$ \\left( x, y, z, {\\lambda} \\right) \\ {\\mapsto} \\ -\\frac{2 \\, {\\left(3 \\, \\sqrt{3} x - \\sqrt{3} y\\right)}^{3} + 54 \\, {\\left(x + y\\right)}^{2} - 9 \\, {\\left(\\pi - 6 \\, {\\lambda}\\right)} z + 54 \\, z^{2} + 216 \\, z}{9 \\, {\\left(\\pi - 24\\right)}} $"
      ],
      "text/plain": [
       "<IPython.core.display.Markdown object>"
      ]
     },
     "metadata": {},
     "output_type": "display_data"
    },
    {
     "data": {
      "text/markdown": [
       "$ \\left( x, y, z, {\\lambda} \\right) \\ {\\mapsto} \\ -\\frac{1}{2} \\, {\\left(x + y\\right)} \\cos\\left(-\\frac{1}{6} \\, \\pi + {\\lambda}\\right) - \\frac{1}{6} \\, {\\left(3 \\, \\sqrt{3} x - \\sqrt{3} y\\right)} \\cos\\left(\\frac{1}{3} \\, \\sqrt{\\pi^{2} + 36 \\, x^{2} + 12 \\, y^{2}}\\right) - \\frac{1}{6} \\, {\\left(3 \\, \\sqrt{3} x - \\sqrt{3} y\\right)} \\sin\\left(-\\frac{1}{6} \\, \\pi + {\\lambda}\\right) + \\frac{1}{2} \\, {\\left(x + y\\right)} \\sin\\left(\\frac{1}{3} \\, \\sqrt{\\pi^{2} + 36 \\, x^{2} + 12 \\, y^{2}}\\right) - \\frac{1}{2} \\, z + \\frac{1}{2} \\, e^{z} - \\frac{1}{2} $"
      ],
      "text/plain": [
       "<IPython.core.display.Markdown object>"
      ]
     },
     "metadata": {},
     "output_type": "display_data"
    }
   ],
   "source": [
    "[ft1,ft2,ft3] = B*vector([f1A,f2A,f3A])\n",
    "lprint(ft1)\n",
    "lprint(ft2)\n",
    "lprint(ft3)"
   ]
  },
  {
   "cell_type": "code",
   "execution_count": 20,
   "metadata": {},
   "outputs": [
    {
     "data": {
      "text/markdown": [
       "$ \\left(\\begin{array}{rrr}\n",
       "0 & 1 & 0 \\\\\n",
       "0 & 0 & 1 \\\\\n",
       "0 & 0 & 0\n",
       "\\end{array}\\right) $"
      ],
      "text/plain": [
       "<IPython.core.display.Markdown object>"
      ]
     },
     "metadata": {},
     "output_type": "display_data"
    }
   ],
   "source": [
    "Jt = jacobian([ft1,ft2,ft3],(x,y,z))(x=0,y=0,z=0,l=0)\n",
    "lprint(Jt)"
   ]
  },
  {
   "cell_type": "code",
   "execution_count": 21,
   "metadata": {},
   "outputs": [
    {
     "data": {
      "text/markdown": [
       "$ \\left[\\left(1,\\,0,\\,0\\right)\\right] $"
      ],
      "text/plain": [
       "<IPython.core.display.Markdown object>"
      ]
     },
     "metadata": {},
     "output_type": "display_data"
    }
   ],
   "source": [
    "Kt = Jt.right_kernel().basis()\n",
    "lprint(Kt)"
   ]
  },
  {
   "cell_type": "code",
   "execution_count": 22,
   "metadata": {},
   "outputs": [
    {
     "data": {
      "text/markdown": [
       "$ \\left[\\left(0,\\,1,\\,0\\right), \\left(0,\\,0,\\,1\\right)\\right] $"
      ],
      "text/plain": [
       "<IPython.core.display.Markdown object>"
      ]
     },
     "metadata": {},
     "output_type": "display_data"
    }
   ],
   "source": [
    "It = Jt.image().basis()\n",
    "lprint(It)"
   ]
  },
  {
   "cell_type": "markdown",
   "metadata": {},
   "source": [
    "Success! - we see that now the kernel and image directions are teased out."
   ]
  },
  {
   "cell_type": "markdown",
   "metadata": {},
   "source": [
    "### Running the implicit function code"
   ]
  },
  {
   "cell_type": "markdown",
   "metadata": {},
   "source": [
    "The implicit function method only works for the case when the $f_{Y}$ partial is invertible, in this case that means we omit $\\lambda$ and the kernel direction, which for our $\\tilde{f}$ means ingnoring $x$\n",
    "\n",
    "Similarly we omit $\\tilde{f}_{1}$ from consideration from the implicit function theorem, since this traverses the cokernel of the Jacobian"
   ]
  },
  {
   "cell_type": "markdown",
   "metadata": {},
   "source": [
    "Translating into the language of the implicit function theorem code, somewhat confusingly we set:\n",
    "\n",
    "$y_{1} = y$\n",
    "\n",
    "$y_{2} = z$\n",
    "\n",
    "$x_{1} = \\lambda$\n",
    "\n",
    "$x_{2} = x$\n"
   ]
  },
  {
   "cell_type": "code",
   "execution_count": 23,
   "metadata": {},
   "outputs": [],
   "source": [
    "funcs = [ft1, ft2]\n",
    "position = {'x' : 0, 'y' : 0, 'z' : 0, 'l' : 0} # drawback that have to write this way\n",
    "var_dict = {'y1' : y, 'y2' : z, 'x1' : l, 'x2' : x}\n",
    "x_var_keys = ['x1','x2']\n",
    "x_dim = 2\n",
    "y_dim = 2"
   ]
  },
  {
   "cell_type": "code",
   "execution_count": 24,
   "metadata": {},
   "outputs": [
    {
     "name": "stdout",
     "output_type": "stream",
     "text": [
      "computing Taylor approximaton to 3 order for speedup\n"
     ]
    }
   ],
   "source": [
    "t_dict = TensorDict(funcs, position, var_dict, x_dim, y_dim)"
   ]
  },
  {
   "cell_type": "code",
   "execution_count": 25,
   "metadata": {},
   "outputs": [
    {
     "name": "stderr",
     "output_type": "stream",
     "text": [
      "100%|██████████| 1/1 [00:00<00:00, 1700.85it/s]\n",
      "100%|██████████| 1/1 [00:00<00:00,  6.29it/s]\n"
     ]
    },
    {
     "name": "stdout",
     "output_type": "stream",
     "text": [
      "[1 0]\n",
      "[0 1]\n"
     ]
    },
    {
     "name": "stderr",
     "output_type": "stream",
     "text": [
      "100%|██████████| 2/2 [00:00<00:00, 2863.01it/s]\n",
      "100%|██████████| 4/4 [00:00<00:00,  4.25it/s]"
     ]
    },
    {
     "name": "stdout",
     "output_type": "stream",
     "text": [
      "[1 0]\n",
      "[0 1]\n"
     ]
    },
    {
     "name": "stderr",
     "output_type": "stream",
     "text": [
      "\n"
     ]
    }
   ],
   "source": [
    "out = get_hkx_polynomial(funcs, 2, x_dim, y_dim, var_dict, x_var_keys, t_dict, position)"
   ]
  },
  {
   "cell_type": "code",
   "execution_count": 26,
   "metadata": {},
   "outputs": [
    {
     "data": {
      "text/markdown": [
       "$ \\left[-\\frac{3 \\, {\\left(\\pi - 24\\right)} {\\lambda} x}{2 \\, {\\left(\\sqrt{3} \\pi - 24 \\, \\sqrt{3}\\right)}} - \\frac{9 \\, x^{2}}{\\sqrt{3} \\pi - 24 \\, \\sqrt{3}}, \\frac{6 \\, x^{2}}{\\pi - 24}\\right] $"
      ],
      "text/plain": [
       "<IPython.core.display.Markdown object>"
      ]
     },
     "metadata": {},
     "output_type": "display_data"
    }
   ],
   "source": [
    "lprint(out)"
   ]
  },
  {
   "cell_type": "code",
   "execution_count": 27,
   "metadata": {},
   "outputs": [
    {
     "data": {
      "text/markdown": [
       "$ \\left( x, y, z, {\\lambda} \\right) \\ {\\mapsto} \\ -\\frac{1}{2} \\, {\\left(x + y\\right)} \\cos\\left(-\\frac{1}{6} \\, \\pi + {\\lambda}\\right) - \\frac{1}{6} \\, {\\left(3 \\, \\sqrt{3} x - \\sqrt{3} y\\right)} \\cos\\left(\\frac{1}{3} \\, \\sqrt{\\pi^{2} + 36 \\, x^{2} + 12 \\, y^{2}}\\right) - \\frac{1}{6} \\, {\\left(3 \\, \\sqrt{3} x - \\sqrt{3} y\\right)} \\sin\\left(-\\frac{1}{6} \\, \\pi + {\\lambda}\\right) + \\frac{1}{2} \\, {\\left(x + y\\right)} \\sin\\left(\\frac{1}{3} \\, \\sqrt{\\pi^{2} + 36 \\, x^{2} + 12 \\, y^{2}}\\right) - \\frac{1}{2} \\, z + \\frac{1}{2} \\, e^{z} - \\frac{1}{2} $"
      ],
      "text/plain": [
       "<IPython.core.display.Markdown object>"
      ]
     },
     "metadata": {},
     "output_type": "display_data"
    }
   ],
   "source": [
    "lprint(ft3)"
   ]
  },
  {
   "cell_type": "code",
   "execution_count": 28,
   "metadata": {},
   "outputs": [
    {
     "data": {
      "text/plain": [
       "\\left( x, y, z, {\\lambda} \\right) \\ {\\mapsto} \\ -\\frac{1}{2} \\, {\\left(x + y\\right)} \\cos\\left(-\\frac{1}{6} \\, \\pi + {\\lambda}\\right) - \\frac{1}{6} \\, {\\left(3 \\, \\sqrt{3} x - \\sqrt{3} y\\right)} \\cos\\left(\\frac{1}{3} \\, \\sqrt{\\pi^{2} + 36 \\, x^{2} + 12 \\, y^{2}}\\right) - \\frac{1}{6} \\, {\\left(3 \\, \\sqrt{3} x - \\sqrt{3} y\\right)} \\sin\\left(-\\frac{1}{6} \\, \\pi + {\\lambda}\\right) + \\frac{1}{2} \\, {\\left(x + y\\right)} \\sin\\left(\\frac{1}{3} \\, \\sqrt{\\pi^{2} + 36 \\, x^{2} + 12 \\, y^{2}}\\right) - \\frac{1}{2} \\, z + \\frac{1}{2} \\, e^{z} - \\frac{1}{2}"
      ]
     },
     "execution_count": 28,
     "metadata": {},
     "output_type": "execute_result"
    }
   ],
   "source": [
    "latex(ft3)"
   ]
  },
  {
   "cell_type": "markdown",
   "metadata": {},
   "source": [
    "This is the parametrisation of the zero set of the 2nd and 3rd compoments of $\\tilde{F} = B^{-1} \\circ F \\circ A$, lets substitute into the first equation, we'll only require the first two terms in its taylor expansion"
   ]
  },
  {
   "cell_type": "code",
   "execution_count": 29,
   "metadata": {},
   "outputs": [
    {
     "data": {
      "text/markdown": [
       "$ \\left( x, y, z, {\\lambda} \\right) \\ {\\mapsto} \\ -{\\lambda} x + \\frac{1}{4} \\, z^{2} + \\frac{2 \\, \\sqrt{3} \\pi {\\lambda}^{2} y + \\pi z^{3} + 72 \\, x^{3} + 24 \\, x y^{2}}{12 \\, \\pi} $"
      ],
      "text/plain": [
       "<IPython.core.display.Markdown object>"
      ]
     },
     "metadata": {},
     "output_type": "display_data"
    }
   ],
   "source": [
    "lprint(taylor(ft3,(x,0), (y,0), (z,0), (l, 0), 3)) # 3rd order seems necessary"
   ]
  },
  {
   "cell_type": "code",
   "execution_count": 30,
   "metadata": {},
   "outputs": [
    {
     "data": {
      "text/markdown": [
       "$ \\frac{1}{6} l^{3} x + \\frac{1}{48} z^{4} + \\frac{6}{\\pi} x^{3} + \\left(\\frac{1}{6} \\, \\sqrt{3}\\right) l^{2} y + \\frac{2}{\\pi} x y^{2} + \\frac{1}{12} z^{3} - l x + \\frac{1}{4} z^{2} $"
      ],
      "text/plain": [
       "<IPython.core.display.Markdown object>"
      ]
     },
     "metadata": {},
     "output_type": "display_data"
    }
   ],
   "source": [
    "#ft1_taylor = ft1.taylor(*[(key,value) for key,value in position.items() if key != 'l'], 2)(l = -pi/6)\n",
    "ft3_taylor = ft3.taylor(*[(key,value) for key,value in position.items()],4)\n",
    "# unpacking the position we take the expansion at\n",
    "lprint(ft3_taylor.polynomial(SR))"
   ]
  },
  {
   "cell_type": "code",
   "execution_count": 31,
   "metadata": {},
   "outputs": [],
   "source": [
    "ft3_sub = ft3_taylor(y = out[0], z = out[1])\n",
    "#lprint(ft3_sub.polynomial(SR))"
   ]
  },
  {
   "cell_type": "code",
   "execution_count": 32,
   "metadata": {},
   "outputs": [],
   "source": [
    "#latex(ft3_sub.polynomial(SR))"
   ]
  },
  {
   "cell_type": "code",
   "execution_count": 33,
   "metadata": {},
   "outputs": [
    {
     "data": {
      "text/markdown": [
       "$ -l x $"
      ],
      "text/plain": [
       "<IPython.core.display.Markdown object>"
      ]
     },
     "metadata": {},
     "output_type": "display_data"
    }
   ],
   "source": [
    "local = sum([a[0]*a[1] for a in ft3_sub.polynomial(SR) if a[1].degree() <= 2])\n",
    "lprint(local)"
   ]
  },
  {
   "cell_type": "code",
   "execution_count": 34,
   "metadata": {},
   "outputs": [
    {
     "data": {
      "text/plain": [
       "-l x"
      ]
     },
     "execution_count": 34,
     "metadata": {},
     "output_type": "execute_result"
    }
   ],
   "source": [
    "latex(local)"
   ]
  },
  {
   "cell_type": "code",
   "execution_count": 35,
   "metadata": {},
   "outputs": [
    {
     "data": {
      "image/png": "[encoded data removed]",
      "text/plain": [
       "Graphics object consisting of 1 graphics primitive"
      ]
     },
     "execution_count": 35,
     "metadata": {},
     "output_type": "execute_result"
    }
   ],
   "source": [
    "implicit_plot(local, (-3,3), (-3,3))"
   ]
  },
  {
   "cell_type": "markdown",
   "metadata": {},
   "source": [
    "The solution set of this will locally approximate the full solution set, we see that the trivial solution is still preserved for $x,y,z = 0$"
   ]
  },
  {
   "cell_type": "markdown",
   "metadata": {},
   "source": [
    "We see that $\\lambda = 0$ is a potential solution approximation, and will be close to a true bifurcation. Why? regardless of what happens in the higher order terms, the value of $\\lambda$ can be adjusted to accomodate, since the $\\lambda x$ term dominates close to the bifurcation point"
   ]
  },
  {
   "cell_type": "markdown",
   "metadata": {},
   "source": [
    "So we see that we can find an approximation of a solution for the set of equations dependant on $\\lambda$"
   ]
  },
  {
   "cell_type": "markdown",
   "metadata": {},
   "source": [
    "Lets try evaluating at $\\lambda = 0, x = 0.1$"
   ]
  },
  {
   "cell_type": "code",
   "execution_count": 36,
   "metadata": {},
   "outputs": [],
   "source": [
    "phi = out"
   ]
  },
  {
   "cell_type": "code",
   "execution_count": 37,
   "metadata": {},
   "outputs": [
    {
     "name": "stdout",
     "output_type": "stream",
     "text": [
      "2.3832034103186824e-07\n",
      "1.634707100460723e-06\n",
      "1.9098957265272637e-06\n"
     ]
    }
   ],
   "source": [
    "eps = 0.01\n",
    "\n",
    "y_est = phi[0](x = eps, l = 0)\n",
    "z_est = phi[1](x = eps, l = 0)\n",
    "\n",
    "print(float(ft1(eps, y_est, z_est, 0)))\n",
    "print(float(ft2(eps, y_est, z_est, 0)))\n",
    "print(float(ft3(eps, y_est, z_est, 0)))"
   ]
  },
  {
   "cell_type": "markdown",
   "metadata": {},
   "source": [
    "A sucess! lets try to incorporate the cubic adjustment"
   ]
  },
  {
   "cell_type": "code",
   "execution_count": 38,
   "metadata": {},
   "outputs": [
    {
     "name": "stderr",
     "output_type": "stream",
     "text": [
      "100%|██████████| 1/1 [00:00<00:00, 578.21it/s]\n",
      "100%|██████████| 1/1 [00:00<00:00, 248.18it/s]\n"
     ]
    },
    {
     "name": "stdout",
     "output_type": "stream",
     "text": [
      "[1 0]\n",
      "[0 1]\n"
     ]
    },
    {
     "name": "stderr",
     "output_type": "stream",
     "text": [
      "100%|██████████| 2/2 [00:00<00:00, 3918.08it/s]\n",
      "100%|██████████| 4/4 [00:00<00:00, 20.19it/s]\n"
     ]
    },
    {
     "name": "stdout",
     "output_type": "stream",
     "text": [
      "[1 0]\n",
      "[0 1]\n"
     ]
    },
    {
     "name": "stderr",
     "output_type": "stream",
     "text": [
      "100%|██████████| 3/3 [00:00<00:00, 1826.79it/s]\n",
      "100%|██████████| 14/14 [00:03<00:00,  4.24it/s]\n"
     ]
    },
    {
     "name": "stdout",
     "output_type": "stream",
     "text": [
      "[1 0]\n",
      "[0 1]\n"
     ]
    }
   ],
   "source": [
    "out = get_hkx_polynomial(funcs, 3, x_dim, y_dim, var_dict, x_var_keys, t_dict, position)"
   ]
  },
  {
   "cell_type": "code",
   "execution_count": 39,
   "metadata": {},
   "outputs": [],
   "source": [
    "ft3_sub = ft3_taylor(y = out[0], z = out[1])"
   ]
  },
  {
   "cell_type": "code",
   "execution_count": 40,
   "metadata": {},
   "outputs": [],
   "source": [
    "#lprint(local)\n",
    "local = sum([a[0]*a[1] for a in ft3_sub.polynomial(SR) if a[1].degree() <= 3])"
   ]
  },
  {
   "cell_type": "code",
   "execution_count": 41,
   "metadata": {},
   "outputs": [
    {
     "data": {
      "text/markdown": [
       "$ \\frac{6}{\\pi} x^{3} - l x $"
      ],
      "text/plain": [
       "<IPython.core.display.Markdown object>"
      ]
     },
     "metadata": {},
     "output_type": "display_data"
    }
   ],
   "source": [
    "lprint(local)"
   ]
  },
  {
   "cell_type": "code",
   "execution_count": 42,
   "metadata": {},
   "outputs": [
    {
     "data": {
      "image/png": "[encoded data removed]",
      "text/plain": [
       "Graphics object consisting of 1 graphics primitive"
      ]
     },
     "execution_count": 42,
     "metadata": {},
     "output_type": "execute_result"
    }
   ],
   "source": [
    "implicit_plot(local, (-2.1,3), (-1.75,1.75), axes_labels=[r'$\\lambda$', r'$x$'])"
   ]
  },
  {
   "cell_type": "code",
   "execution_count": 43,
   "metadata": {},
   "outputs": [],
   "source": [
    "better = symbolic_expression(local).full_simplify().solve(l)\n",
    "#lprint(better)"
   ]
  },
  {
   "cell_type": "code",
   "execution_count": 44,
   "metadata": {},
   "outputs": [],
   "source": [
    "phi = out"
   ]
  },
  {
   "cell_type": "code",
   "execution_count": 45,
   "metadata": {},
   "outputs": [
    {
     "data": {
      "text/markdown": [
       "$ \\left[{\\lambda} = \\frac{6 \\, x^{2}}{\\pi}\\right] $"
      ],
      "text/plain": [
       "<IPython.core.display.Markdown object>"
      ]
     },
     "metadata": {},
     "output_type": "display_data"
    }
   ],
   "source": [
    "lprint(better)"
   ]
  },
  {
   "cell_type": "code",
   "execution_count": 46,
   "metadata": {},
   "outputs": [],
   "source": [
    "l_est = float(better[0].right()(x = eps))\n",
    "y_est = float(phi[0](x = eps, l = l_est))\n",
    "z_est = float(phi[1](x = eps, l = l_est))"
   ]
  },
  {
   "cell_type": "code",
   "execution_count": 47,
   "metadata": {},
   "outputs": [
    {
     "name": "stdout",
     "output_type": "stream",
     "text": [
      "1.1792126274142682e-07\n",
      "-1.3610204373291223e-07\n",
      "6.221208791179489e-11\n"
     ]
    }
   ],
   "source": [
    "print(float(ft1(eps, y_est, z_est, l_est)))\n",
    "print(float(ft2(eps, y_est, z_est, l_est)))\n",
    "print(float(ft3(eps, y_est, z_est, l_est)))"
   ]
  },
  {
   "cell_type": "markdown",
   "metadata": {},
   "source": [
    "Interestingly we see that now only the $\\tilde{f}_{3}$ error has significantly reduced, this suggest that for further improvements for the others we need to to a bigger taylor expansion right at the start"
   ]
  },
  {
   "cell_type": "markdown",
   "metadata": {},
   "source": [
    "## Converting back"
   ]
  },
  {
   "cell_type": "markdown",
   "metadata": {},
   "source": [
    "Now we need to translate this all back to the original problem"
   ]
  },
  {
   "cell_type": "markdown",
   "metadata": {},
   "source": [
    "Lets try to paramtrise by $x = t$, using the third order approximation for lambda for most precision available"
   ]
  },
  {
   "cell_type": "markdown",
   "metadata": {},
   "source": [
    "Take $t = 0.1$"
   ]
  },
  {
   "cell_type": "markdown",
   "metadata": {},
   "source": [
    "This parametrises the solutions of $\\tilde{F} = B^{-1} \\circ F \\circ A$, by invertibility of $B$ we see that these also are the solutions of $F \\circ A$, so premultiplication by $A$ will yield the new solution set:"
   ]
  },
  {
   "cell_type": "code",
   "execution_count": 49,
   "metadata": {},
   "outputs": [],
   "source": [
    "l_est = better[0].right()\n",
    "xt_est = x\n",
    "yt_est = out[0](x = xt_est, l = l_est)\n",
    "zt_est = out[1](x = xt_est, l = l_est)"
   ]
  },
  {
   "cell_type": "code",
   "execution_count": 50,
   "metadata": {},
   "outputs": [],
   "source": [
    "[x_est, y_est, z_est] = list(A*vector([xt_est,yt_est,zt_est]))"
   ]
  },
  {
   "cell_type": "code",
   "execution_count": 51,
   "metadata": {},
   "outputs": [
    {
     "name": "stdout",
     "output_type": "stream",
     "text": [
      "1.2391393119925986e-10\n",
      "-5.102544882403431e-13\n",
      "-4.7314531147663847e-07\n"
     ]
    }
   ],
   "source": [
    "x_est1 = x_est(x = eps)\n",
    "y_est1 = y_est(x = eps)\n",
    "z_est1 = z_est(x = eps)\n",
    "l_est1 = l_est(x = eps)\n",
    "print(float(f1(x_est1, y_est1, z_est1, l_est1)))\n",
    "print(float(f2(x_est1, y_est1, z_est1, l_est1)))\n",
    "print(float(f3(x_est1, y_est1, z_est1, l_est1)))"
   ]
  },
  {
   "cell_type": "markdown",
   "metadata": {},
   "source": [
    "Perfect - we have translated back, the method documented above allows us to do this to arbitrary precision :)"
   ]
  },
  {
   "cell_type": "code",
   "execution_count": null,
   "metadata": {},
   "outputs": [],
   "source": []
  },
  {
   "cell_type": "code",
   "execution_count": null,
   "metadata": {},
   "outputs": [],
   "source": []
  },
  {
   "cell_type": "code",
   "execution_count": null,
   "metadata": {},
   "outputs": [],
   "source": []
  }
 ],
 "metadata": {
  "kernelspec": {
   "display_name": "SageMath 9.2",
   "language": "sage",
   "name": "sagemath"
  },
  "language_info": {
   "codemirror_mode": {
    "name": "ipython",
    "version": 3
   },
   "file_extension": ".py",
   "mimetype": "text/x-python",
   "name": "python",
   "nbconvert_exporter": "python",
   "pygments_lexer": "ipython3",
   "version": "3.7.7"
  }
 },
 "nbformat": 4,
 "nbformat_minor": 4
}
