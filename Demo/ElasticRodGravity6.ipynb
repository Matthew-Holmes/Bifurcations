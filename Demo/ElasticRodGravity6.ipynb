{
 "cells": [
  {
   "cell_type": "markdown",
   "metadata": {},
   "source": [
    "# Elastic Rod Model"
   ]
  },
  {
   "cell_type": "code",
   "execution_count": 1,
   "metadata": {},
   "outputs": [],
   "source": [
    "from IPython.display import display, Markdown\n",
    "import random\n",
    "def latexify(x):\n",
    "    out = '$' + x + '$'\n",
    "    return out\n",
    "\n",
    "def lprint(x):\n",
    "    display(Markdown(latexify(latex(x))))\n",
    "    \n",
    "%run -i 'implicit.py'\n",
    "\n",
    "import matplotlib.pyplot as plt"
   ]
  },
  {
   "cell_type": "markdown",
   "metadata": {},
   "source": [
    "In this notebook a discretisation of the elastic rod bifurcation problem will be investigated"
   ]
  },
  {
   "cell_type": "markdown",
   "metadata": {},
   "source": [
    "here we consider rods connected by elastic joints that resist angular perturbation, with a forcing action attempting to squash the rod"
   ]
  },
  {
   "cell_type": "code",
   "execution_count": 2,
   "metadata": {},
   "outputs": [
    {
     "data": {
      "text/markdown": [
       "$ \\arcsin\\left(x\\right) $"
      ],
      "text/plain": [
       "<IPython.core.display.Markdown object>"
      ]
     },
     "metadata": {},
     "output_type": "display_data"
    }
   ],
   "source": [
    "var('x')\n",
    "\n",
    "lprint(arcsin(x))"
   ]
  },
  {
   "cell_type": "code",
   "execution_count": 3,
   "metadata": {},
   "outputs": [],
   "source": [
    "def get_funcs(n):\n",
    "    # returns a set of equations to solve\n",
    "\n",
    "    var_dict = {}\n",
    "    \n",
    "    var_dict['g'] = var('g')\n",
    "    \n",
    "    for i in range(0,n):\n",
    "        # theta is the angle from the horizontal the ith line branches from\n",
    "        var_dict['theta{}'.format(i)] = var('theta{}'.format(i), latex_name = r'\\theta_{}'.format(i))\n",
    "        \n",
    "    var_dict['theta{}'.format(n)] = 0 # will update\n",
    "        \n",
    "    # compute the last theta, since must have the endpoints both zero on the vertical\n",
    "    for i in range(0,n):\n",
    "        var_dict['theta{}'.format(n)] = var_dict['theta{}'.format(n)] - sin(var_dict['theta{}'.format(i)])\n",
    "        \n",
    "    var_dict['theta{}'.format(n)] = arcsin(var_dict['theta{}'.format(n)])\n",
    "    \n",
    "    var_dict['l'] = var('l', latex_name=r'\\lambda') # compressive force\n",
    "   \n",
    "    \n",
    "    funcs = []\n",
    "    energy = 0\n",
    "    height = 0\n",
    "    for j in range(1,n+1):\n",
    "        # iterate through each spring in the rod\n",
    "        e_spring = (var_dict['theta{}'.format(j-1)] - var_dict['theta{}'.format(j)])^2 \n",
    "        height = height + sin(var_dict['theta{}'.format(j - 1)]) # a bit of trigonometry\n",
    "        # since pi - (pi - theta0 - theta1) e.g\n",
    "        energy = energy + e_spring + var_dict['g']*height # each spring has unit mass \n",
    "        \n",
    "    hoz = 0\n",
    "    for i in range(0,n+1):\n",
    "        # total horizontal extension\n",
    "        hoz = hoz + cos(var_dict['theta{}'.format(i)])\n",
    "        \n",
    "           \n",
    "    # take away the work done by the force\n",
    "    energy = energy - var_dict['l']*(n + 1 - hoz)\n",
    "            \n",
    "    # solutions will be local minima of the energy equation\n",
    "    for j in range(0,n):\n",
    "        #don't care about the last angle\n",
    "        funcs.append(energy.diff(var_dict['theta{}'.format(j)]))\n",
    "        \n",
    "    del var_dict['theta{}'.format(n)] # this was just a latent variable\n",
    "        \n",
    "    return funcs, var_dict\n",
    "    "
   ]
  },
  {
   "cell_type": "code",
   "execution_count": 4,
   "metadata": {},
   "outputs": [],
   "source": [
    "funcs, var_dict = get_funcs(2)"
   ]
  },
  {
   "cell_type": "code",
   "execution_count": 5,
   "metadata": {},
   "outputs": [
    {
     "data": {
      "text/plain": [
       "{'g': g, 'theta0': theta0, 'theta1': theta1, 'l': l}"
      ]
     },
     "execution_count": 5,
     "metadata": {},
     "output_type": "execute_result"
    }
   ],
   "source": [
    "var_dict"
   ]
  },
  {
   "cell_type": "code",
   "execution_count": 6,
   "metadata": {},
   "outputs": [
    {
     "data": {
      "text/markdown": [
       "$ \\left[-{\\left(\\frac{{\\left(\\sin\\left({\\theta_0}\\right) + \\sin\\left({\\theta_1}\\right)\\right)} \\cos\\left({\\theta_0}\\right)}{\\sqrt{-{\\left(\\sin\\left({\\theta_0}\\right) + \\sin\\left({\\theta_1}\\right)\\right)}^{2} + 1}} + \\sin\\left({\\theta_0}\\right)\\right)} {\\lambda} + 2 \\, g \\cos\\left({\\theta_0}\\right) + \\frac{2 \\, {\\left({\\theta_1} - \\arcsin\\left(-\\sin\\left({\\theta_0}\\right) - \\sin\\left({\\theta_1}\\right)\\right)\\right)} \\cos\\left({\\theta_0}\\right)}{\\sqrt{-{\\left(\\sin\\left({\\theta_0}\\right) + \\sin\\left({\\theta_1}\\right)\\right)}^{2} + 1}} + 2 \\, {\\theta_0} - 2 \\, {\\theta_1}, -{\\left(\\frac{{\\left(\\sin\\left({\\theta_0}\\right) + \\sin\\left({\\theta_1}\\right)\\right)} \\cos\\left({\\theta_1}\\right)}{\\sqrt{-{\\left(\\sin\\left({\\theta_0}\\right) + \\sin\\left({\\theta_1}\\right)\\right)}^{2} + 1}} + \\sin\\left({\\theta_1}\\right)\\right)} {\\lambda} + 2 \\, {\\left({\\theta_1} - \\arcsin\\left(-\\sin\\left({\\theta_0}\\right) - \\sin\\left({\\theta_1}\\right)\\right)\\right)} {\\left(\\frac{\\cos\\left({\\theta_1}\\right)}{\\sqrt{-{\\left(\\sin\\left({\\theta_0}\\right) + \\sin\\left({\\theta_1}\\right)\\right)}^{2} + 1}} + 1\\right)} + g \\cos\\left({\\theta_1}\\right) - 2 \\, {\\theta_0} + 2 \\, {\\theta_1}\\right] $"
      ],
      "text/plain": [
       "<IPython.core.display.Markdown object>"
      ]
     },
     "metadata": {},
     "output_type": "display_data"
    }
   ],
   "source": [
    "lprint(funcs)"
   ]
  },
  {
   "cell_type": "code",
   "execution_count": 7,
   "metadata": {},
   "outputs": [
    {
     "data": {
      "text/plain": [
       "-((sin(theta0) + sin(theta1))*cos(theta1)/sqrt(-(sin(theta0) + sin(theta1))^2 + 1) + sin(theta1))*l + 2*(theta1 - arcsin(-sin(theta0) - sin(theta1)))*(cos(theta1)/sqrt(-(sin(theta0) + sin(theta1))^2 + 1) + 1) + g*cos(theta1) - 2*theta0 + 2*theta1"
      ]
     },
     "execution_count": 7,
     "metadata": {},
     "output_type": "execute_result"
    }
   ],
   "source": [
    "funcs[1]"
   ]
  },
  {
   "cell_type": "code",
   "execution_count": 8,
   "metadata": {},
   "outputs": [
    {
     "data": {
      "text/markdown": [
       "$ g $"
      ],
      "text/plain": [
       "<IPython.core.display.Markdown object>"
      ]
     },
     "metadata": {},
     "output_type": "display_data"
    }
   ],
   "source": [
    "lprint(funcs[1](g,l,0,0)) # no trivial plane of solutions"
   ]
  },
  {
   "cell_type": "code",
   "execution_count": 9,
   "metadata": {},
   "outputs": [
    {
     "data": {
      "text/markdown": [
       "$ 0 $"
      ],
      "text/plain": [
       "<IPython.core.display.Markdown object>"
      ]
     },
     "metadata": {},
     "output_type": "display_data"
    }
   ],
   "source": [
    "lprint(funcs[1](0,l,0,0)) # still trivial solutons if we treat g as an x variable"
   ]
  },
  {
   "cell_type": "markdown",
   "metadata": {},
   "source": [
    "lets ignore $g$ for the time being, we will just treat it as another variable in the implicit function theorem, since that only insists on requirements on the $X$ variables"
   ]
  },
  {
   "cell_type": "code",
   "execution_count": 10,
   "metadata": {},
   "outputs": [
    {
     "data": {
      "text/markdown": [
       "$ \\left(\\begin{array}{rr}\n",
       "-2 \\, {\\lambda} + 4 & -{\\lambda} + 2 \\\\\n",
       "-{\\lambda} + 2 & -2 \\, {\\lambda} + 10\n",
       "\\end{array}\\right) $"
      ],
      "text/plain": [
       "<IPython.core.display.Markdown object>"
      ]
     },
     "metadata": {},
     "output_type": "display_data"
    }
   ],
   "source": [
    "old_var = var_dict\n",
    "var_dict = {key : var_dict[key] for key in var_dict.keys() if var_dict[key] != 0}\n",
    "var_dict = {key : var_dict[key] for key in var_dict.keys() if key != 'l' and key != 'g'}\n",
    "\n",
    "J = jacobian(funcs,tuple(var_dict.values()))(**{var : 0 for var in var_dict.keys()}).apply_map(lambda x: x.full_simplify())\n",
    "lprint(J)"
   ]
  },
  {
   "cell_type": "code",
   "execution_count": 11,
   "metadata": {},
   "outputs": [
    {
     "data": {
      "text/markdown": [
       "$ -{\\left({\\lambda} - 2\\right)}^{2} + 4 \\, {\\left({\\lambda} - 2\\right)} {\\left({\\lambda} - 5\\right)} $"
      ],
      "text/plain": [
       "<IPython.core.display.Markdown object>"
      ]
     },
     "metadata": {},
     "output_type": "display_data"
    }
   ],
   "source": [
    "lprint(det(matrix(J))) # potential bifurcation point"
   ]
  },
  {
   "cell_type": "code",
   "execution_count": 12,
   "metadata": {},
   "outputs": [
    {
     "data": {
      "text/markdown": [
       "$ \\left[{\\lambda} = 2, {\\lambda} = 6\\right] $"
      ],
      "text/plain": [
       "<IPython.core.display.Markdown object>"
      ]
     },
     "metadata": {},
     "output_type": "display_data"
    }
   ],
   "source": [
    "lprint(solve(det(matrix(J)), l))"
   ]
  },
  {
   "cell_type": "markdown",
   "metadata": {},
   "source": [
    "We see there are four different force strenghts that seem to produce bifurcations"
   ]
  },
  {
   "cell_type": "code",
   "execution_count": 13,
   "metadata": {},
   "outputs": [
    {
     "data": {
      "text/plain": [
       "[2.0, 6.0]"
      ]
     },
     "execution_count": 13,
     "metadata": {},
     "output_type": "execute_result"
    }
   ],
   "source": [
    "bifs = list(solve(det(matrix(J)), l))\n",
    "[float(bif.rhs()) for bif in bifs]"
   ]
  },
  {
   "cell_type": "code",
   "execution_count": 14,
   "metadata": {},
   "outputs": [
    {
     "name": "stderr",
     "output_type": "stream",
     "text": [
      "100%|██████████| 2/2 [00:00<00:00,  5.50it/s]\n"
     ]
    }
   ],
   "source": [
    "bif_tuples = []\n",
    "\n",
    "for i in tqdm.tqdm([0,1]):\n",
    "    bif_funcs = [func(l = bifs[i].rhs()) for func in funcs]\n",
    "    J = jacobian(bif_funcs,tuple(var_dict.values()))(**{var : 0 for var in var_dict.keys()}).apply_map(lambda x : float(x))\n",
    "    # do floating point since we are only looking right now\n",
    "    K = [epair for epair in J.eigenvectors_right() if abs(epair[0]) < 10e-15][0][1][0] # since float now a solution is found as a highly degenerate eigenvector\n",
    "    bif_tuples.append((bifs[i].rhs(), K))"
   ]
  },
  {
   "cell_type": "code",
   "execution_count": 15,
   "metadata": {},
   "outputs": [],
   "source": [
    "def angles_to_coords(angles):\n",
    "    # produces the coordinates of a line with angles inputted\n",
    "    coords = []\n",
    "    coords.append((0,0))\n",
    "    \n",
    "    sin_sum = sum([sin(angle) for angle in angles])\n",
    "    temp_angles = list(angles)\n",
    "    temp_angles.append(arcsin(-sin_sum))\n",
    "    \n",
    "    for angle in temp_angles:\n",
    "        now = coords[-1]\n",
    "        new_x = now[0] + cos(angle)\n",
    "        new_y = now[1] + sin(angle)\n",
    "        coords.append((new_x, new_y))\n",
    "        \n",
    "        \n",
    "    return coords"
   ]
  },
  {
   "cell_type": "code",
   "execution_count": 16,
   "metadata": {},
   "outputs": [],
   "source": [
    "def plot_angles(angles, save = False, save_name = 'plot1', folder = 'plots', show = True, title=None):\n",
    "\n",
    "    plt.axes\n",
    "    plt.xlim([-1,5])\n",
    "    plt.ylim([-2,2])\n",
    "\n",
    "    points = angles_to_coords(tuple(angles))\n",
    "    for i in range(int(0), int(len(points) - 1)):\n",
    "        line = plt.Line2D((points[i][0], points[i+1][0]), (points[i][1], points[i+1][1]), lw=2.5)\n",
    "        plt.gca().add_line(line)\n",
    "        plt.gca().set_aspect('equal')\n",
    "        if title is not None:\n",
    "            plt.title(title)\n",
    "    if save is True:\n",
    "        plt.savefig('{}/{}.png'.format(folder, save_name))\n",
    "        \n",
    "    if show is True:\n",
    "        plt.show()\n",
    "        \n",
    "    plt.cla()\n",
    "    return   "
   ]
  },
  {
   "cell_type": "code",
   "execution_count": 17,
   "metadata": {},
   "outputs": [
    {
     "name": "stdout",
     "output_type": "stream",
     "text": [
      "2\n"
     ]
    },
    {
     "data": {
      "image/png": "[encoded data removed]",
      "text/plain": [
       "<Figure size 432x288 with 1 Axes>"
      ]
     },
     "metadata": {
      "needs_background": "light"
     },
     "output_type": "display_data"
    },
    {
     "name": "stdout",
     "output_type": "stream",
     "text": [
      "6\n"
     ]
    },
    {
     "data": {
      "image/png": "[encoded data removed]",
      "text/plain": [
       "<Figure size 432x288 with 1 Axes>"
      ]
     },
     "metadata": {
      "needs_background": "light"
     },
     "output_type": "display_data"
    },
    {
     "data": {
      "image/png": "[encoded data removed]",
      "text/plain": [
       "<Figure size 432x288 with 1 Axes>"
      ]
     },
     "metadata": {
      "needs_background": "light"
     },
     "output_type": "display_data"
    }
   ],
   "source": [
    "count = 1\n",
    "for bif_tuple in bif_tuples:\n",
    "    print(bif_tuple[0])\n",
    "    plot_angles(bif_tuple[1], save = True, save_name = 'plot{}'.format(count))\n",
    "    count+=1"
   ]
  },
  {
   "cell_type": "markdown",
   "metadata": {},
   "source": [
    "These are the bifurcations in absence of gravity"
   ]
  },
  {
   "cell_type": "code",
   "execution_count": 18,
   "metadata": {},
   "outputs": [
    {
     "data": {
      "text/markdown": [
       "$ \\left(\\begin{array}{rr}\n",
       "-8 & -4 \\\\\n",
       "-4 & -2\n",
       "\\end{array}\\right) $"
      ],
      "text/plain": [
       "<IPython.core.display.Markdown object>"
      ]
     },
     "metadata": {},
     "output_type": "display_data"
    }
   ],
   "source": [
    "#bif_funcs = [func(l = 2/((32*sqrt(2)) + 36)) for func in funcs] #\n",
    "#bif_funcs = [func(l = (sqrt(2)*(9/4))/((225*sqrt(2))/2 + 108)) for func in funcs] #\n",
    "bif_funcs = [func(l = 6) for func in funcs]\n",
    "#var_dict['l'] = old_var['l']\n",
    "J = jacobian(bif_funcs,tuple(var_dict.values()))(**{var : 0 for var in var_dict.keys()})\n",
    "\n",
    "lprint(J)"
   ]
  },
  {
   "cell_type": "markdown",
   "metadata": {},
   "source": [
    "### Orthogonalising the kernel"
   ]
  },
  {
   "cell_type": "code",
   "execution_count": 19,
   "metadata": {},
   "outputs": [
    {
     "data": {
      "text/markdown": [
       "$ \\left(1,\\,-2\\right) $"
      ],
      "text/plain": [
       "<IPython.core.display.Markdown object>"
      ]
     },
     "metadata": {},
     "output_type": "display_data"
    }
   ],
   "source": [
    "K = J.right_kernel().basis()\n",
    "K = K[0].apply_map(lambda x: x.full_simplify())\n",
    "lprint(K)"
   ]
  },
  {
   "cell_type": "code",
   "execution_count": 20,
   "metadata": {},
   "outputs": [
    {
     "data": {
      "text/markdown": [
       "$ \\left[\\left(1,\\,\\frac{1}{2}\\right)\\right] $"
      ],
      "text/plain": [
       "<IPython.core.display.Markdown object>"
      ]
     },
     "metadata": {},
     "output_type": "display_data"
    }
   ],
   "source": [
    "Kperp = matrix(K).right_kernel().basis()\n",
    "lprint(Kperp)"
   ]
  },
  {
   "cell_type": "code",
   "execution_count": 21,
   "metadata": {},
   "outputs": [
    {
     "data": {
      "text/markdown": [
       "$ \\left(\\begin{array}{rr}\n",
       "1 & 1 \\\\\n",
       "-2 & \\frac{1}{2}\n",
       "\\end{array}\\right) $"
      ],
      "text/plain": [
       "<IPython.core.display.Markdown object>"
      ]
     },
     "metadata": {},
     "output_type": "display_data"
    }
   ],
   "source": [
    "A = matrix([K]+Kperp).transpose().apply_map(lambda x: x.full_simplify())\n",
    "lprint(A)"
   ]
  },
  {
   "cell_type": "code",
   "execution_count": 22,
   "metadata": {},
   "outputs": [],
   "source": [
    "key_list = [str(var) for var in var_dict.values()]\n",
    "value_list = list(A*vector(var_dict.values()))\n",
    "mutate_dict = dict(zip(key_list, value_list))"
   ]
  },
  {
   "cell_type": "code",
   "execution_count": 23,
   "metadata": {},
   "outputs": [
    {
     "data": {
      "text/plain": [
       "{'theta0': theta0 + theta1, 'theta1': -2*theta0 + 1/2*theta1}"
      ]
     },
     "execution_count": 23,
     "metadata": {},
     "output_type": "execute_result"
    }
   ],
   "source": [
    "mutate_dict"
   ]
  },
  {
   "cell_type": "code",
   "execution_count": 24,
   "metadata": {},
   "outputs": [],
   "source": [
    "Afuncs = [func(**mutate_dict) for func in bif_funcs]"
   ]
  },
  {
   "cell_type": "code",
   "execution_count": 25,
   "metadata": {},
   "outputs": [],
   "source": [
    "#lprint(Afuncs) "
   ]
  },
  {
   "cell_type": "code",
   "execution_count": 26,
   "metadata": {},
   "outputs": [
    {
     "data": {
      "text/markdown": [
       "$ \\left(\\begin{array}{rr}\n",
       "0 & -10 \\\\\n",
       "0 & -5\n",
       "\\end{array}\\right) $"
      ],
      "text/plain": [
       "<IPython.core.display.Markdown object>"
      ]
     },
     "metadata": {},
     "output_type": "display_data"
    }
   ],
   "source": [
    "Ja = jacobian(Afuncs,tuple(var_dict.values()))(**{var : 0 for var in var_dict.keys()}).apply_map(lambda x: x.full_simplify())\n",
    "lprint(Ja)"
   ]
  },
  {
   "cell_type": "code",
   "execution_count": 27,
   "metadata": {},
   "outputs": [
    {
     "data": {
      "text/markdown": [
       "$ \\left[\\left(1,\\,0\\right)\\right] $"
      ],
      "text/plain": [
       "<IPython.core.display.Markdown object>"
      ]
     },
     "metadata": {},
     "output_type": "display_data"
    }
   ],
   "source": [
    "Ka = Ja(l=0).right_kernel().basis()\n",
    "lprint(Ka)"
   ]
  },
  {
   "cell_type": "markdown",
   "metadata": {},
   "source": [
    "### Orthogonalising the image"
   ]
  },
  {
   "cell_type": "code",
   "execution_count": 28,
   "metadata": {},
   "outputs": [
    {
     "name": "stdout",
     "output_type": "stream",
     "text": [
      "1\n"
     ]
    }
   ],
   "source": [
    "I = Ja.image().basis()\n",
    "I = [Ja*vec for vec in I]\n",
    "print(len(I))"
   ]
  },
  {
   "cell_type": "code",
   "execution_count": 29,
   "metadata": {},
   "outputs": [
    {
     "data": {
      "text/markdown": [
       "$ \\left(1,\\,-2\\right) $"
      ],
      "text/plain": [
       "<IPython.core.display.Markdown object>"
      ]
     },
     "metadata": {},
     "output_type": "display_data"
    }
   ],
   "source": [
    "Iperp = matrix(I).right_kernel().basis()\n",
    "Iperp = Iperp[0].apply_map(lambda x: x.full_simplify())\n",
    "lprint(Iperp)"
   ]
  },
  {
   "cell_type": "code",
   "execution_count": 30,
   "metadata": {},
   "outputs": [
    {
     "data": {
      "text/markdown": [
       "$ \\left(\\begin{array}{rr}\n",
       "-\\frac{2}{25} & \\frac{1}{5} \\\\\n",
       "-\\frac{1}{25} & -\\frac{2}{5}\n",
       "\\end{array}\\right) $"
      ],
      "text/plain": [
       "<IPython.core.display.Markdown object>"
      ]
     },
     "metadata": {},
     "output_type": "display_data"
    }
   ],
   "source": [
    "B = matrix(I + [Iperp]).inverse().apply_map(lambda x: x.full_simplify())\n",
    "lprint(B)"
   ]
  },
  {
   "cell_type": "code",
   "execution_count": 31,
   "metadata": {},
   "outputs": [],
   "source": [
    "tfuncs = vector(Afuncs)*B"
   ]
  },
  {
   "cell_type": "code",
   "execution_count": 32,
   "metadata": {},
   "outputs": [],
   "source": [
    "#lprint(tfuncs)"
   ]
  },
  {
   "cell_type": "code",
   "execution_count": 33,
   "metadata": {},
   "outputs": [],
   "source": [
    "Jt = jacobian(tfuncs,tuple(var_dict.values()))(**{var : 0 for var in var_dict.keys()}).apply_map(lambda x: x.full_simplify())"
   ]
  },
  {
   "cell_type": "code",
   "execution_count": 34,
   "metadata": {},
   "outputs": [
    {
     "data": {
      "text/plain": [
       "dict_values([theta0, theta1])"
      ]
     },
     "execution_count": 34,
     "metadata": {},
     "output_type": "execute_result"
    }
   ],
   "source": [
    "var_dict.values()"
   ]
  },
  {
   "cell_type": "code",
   "execution_count": 35,
   "metadata": {},
   "outputs": [
    {
     "data": {
      "text/markdown": [
       "$ \\left(\\begin{array}{rr}\n",
       "0 & 1 \\\\\n",
       "0 & 0\n",
       "\\end{array}\\right) $"
      ],
      "text/plain": [
       "<IPython.core.display.Markdown object>"
      ]
     },
     "metadata": {},
     "output_type": "display_data"
    }
   ],
   "source": [
    "lprint(Jt)"
   ]
  },
  {
   "cell_type": "code",
   "execution_count": 36,
   "metadata": {},
   "outputs": [
    {
     "data": {
      "text/markdown": [
       "$ \\left[\\left(1,\\,0\\right)\\right] $"
      ],
      "text/plain": [
       "<IPython.core.display.Markdown object>"
      ]
     },
     "metadata": {},
     "output_type": "display_data"
    }
   ],
   "source": [
    "It = Jt.image().basis()\n",
    "It = [Jt*vec for vec in It]\n",
    "lprint(It)"
   ]
  },
  {
   "cell_type": "markdown",
   "metadata": {},
   "source": [
    "## Adding lambda back in"
   ]
  },
  {
   "cell_type": "code",
   "execution_count": 37,
   "metadata": {},
   "outputs": [],
   "source": [
    "tfuncs = vector([func(**mutate_dict)(l = l + 6) for func in funcs])*B # now lambda is not fixed at the bifurcation point\n",
    "# ***IF SOMETHING IS BROKEN CHECK RIGHT LAMBDA HERE***\n",
    "# but we do shift so that l=0 is the new bifurcation\n",
    "var_dict['l'] = l\n",
    "var_dict['g'] = g"
   ]
  },
  {
   "cell_type": "code",
   "execution_count": 38,
   "metadata": {},
   "outputs": [
    {
     "data": {
      "text/plain": [
       "{'theta0': theta0, 'theta1': theta1, 'l': l, 'g': g}"
      ]
     },
     "execution_count": 38,
     "metadata": {},
     "output_type": "execute_result"
    }
   ],
   "source": [
    "var_dict_old = var_dict\n",
    "var_dict_old"
   ]
  },
  {
   "cell_type": "code",
   "execution_count": 39,
   "metadata": {},
   "outputs": [
    {
     "data": {
      "text/plain": [
       "dict_values([theta0, theta1, l, g])"
      ]
     },
     "execution_count": 39,
     "metadata": {},
     "output_type": "execute_result"
    }
   ],
   "source": [
    "var_dict.values()"
   ]
  },
  {
   "cell_type": "code",
   "execution_count": 40,
   "metadata": {},
   "outputs": [],
   "source": [
    "#lprint(tfuncs[1])"
   ]
  },
  {
   "cell_type": "markdown",
   "metadata": {},
   "source": [
    "## Running the implicit function theorem"
   ]
  },
  {
   "cell_type": "code",
   "execution_count": 41,
   "metadata": {},
   "outputs": [
    {
     "data": {
      "text/plain": [
       "2"
      ]
     },
     "execution_count": 41,
     "metadata": {},
     "output_type": "execute_result"
    }
   ],
   "source": [
    "len(tfuncs)"
   ]
  },
  {
   "cell_type": "code",
   "execution_count": 42,
   "metadata": {},
   "outputs": [
    {
     "data": {
      "text/plain": [
       "{'theta0': 0, 'theta1': 0, 'l': 0, 'g': 0}"
      ]
     },
     "execution_count": 42,
     "metadata": {},
     "output_type": "execute_result"
    }
   ],
   "source": [
    "position = {key : 0 for key in var_dict_old.keys()}\n",
    "position"
   ]
  },
  {
   "cell_type": "code",
   "execution_count": 43,
   "metadata": {},
   "outputs": [],
   "source": [
    "#code_funcs = [tfuncs[index].function(*list(var_dict_old.values())) for index in [0,1,2,3,4,5,6]] # careful with computer science indexing from zero\n",
    "code_funcs = [tfuncs[index] for index in [0]] # the last function has degenerate first derivative always\n",
    "position = {key : 0 for key in var_dict_old.keys()}\n",
    "# var_dict already loaded\n",
    "var_dict = {'y1' : theta1, 'x1' : g, 'x2' : l, 'x3' : theta0}\n",
    "x_var_keys = ['g', 'l', 'theta0'] # the variables in the kernel\n",
    "x_dim = 3\n",
    "y_dim = 1 # invertible part"
   ]
  },
  {
   "cell_type": "code",
   "execution_count": 44,
   "metadata": {},
   "outputs": [
    {
     "data": {
      "text/plain": [
       "dict_keys(['y1', 'x1', 'x2', 'x3'])"
      ]
     },
     "execution_count": 44,
     "metadata": {},
     "output_type": "execute_result"
    }
   ],
   "source": [
    "var_dict.keys()"
   ]
  },
  {
   "cell_type": "code",
   "execution_count": 45,
   "metadata": {},
   "outputs": [
    {
     "name": "stdout",
     "output_type": "stream",
     "text": [
      "computing Taylor approximaton to 3 order for speedup\n"
     ]
    }
   ],
   "source": [
    "t_dict = TensorDict(code_funcs, position, var_dict, x_dim, y_dim)"
   ]
  },
  {
   "cell_type": "code",
   "execution_count": 46,
   "metadata": {},
   "outputs": [
    {
     "name": "stderr",
     "output_type": "stream",
     "text": [
      "100%|██████████| 1/1 [00:00<00:00, 2031.14it/s]\n",
      "100%|██████████| 1/1 [00:00<00:00,  5.96it/s]\n"
     ]
    },
    {
     "name": "stdout",
     "output_type": "stream",
     "text": [
      "[1]\n"
     ]
    },
    {
     "name": "stderr",
     "output_type": "stream",
     "text": [
      "100%|██████████| 2/2 [00:00<00:00, 2559.06it/s]\n",
      "100%|██████████| 4/4 [00:01<00:00,  3.72it/s]\n"
     ]
    },
    {
     "name": "stdout",
     "output_type": "stream",
     "text": [
      "[1]\n"
     ]
    },
    {
     "name": "stderr",
     "output_type": "stream",
     "text": [
      "100%|██████████| 3/3 [00:00<00:00, 2249.36it/s]\n",
      "100%|██████████| 14/14 [00:06<00:00,  2.07it/s]\n"
     ]
    },
    {
     "name": "stdout",
     "output_type": "stream",
     "text": [
      "[1]\n"
     ]
    },
    {
     "name": "stderr",
     "output_type": "stream",
     "text": [
      "100%|██████████| 4/4 [00:00<00:00, 386.46it/s]\n",
      "  0%|          | 0/51 [00:00<?, ?it/s]"
     ]
    },
    {
     "name": "stdout",
     "output_type": "stream",
     "text": [
      "updating Taylor series\n"
     ]
    },
    {
     "name": "stderr",
     "output_type": "stream",
     "text": [
      "100%|██████████| 51/51 [00:42<00:00,  1.21it/s]\n"
     ]
    },
    {
     "name": "stdout",
     "output_type": "stream",
     "text": [
      "[1]\n"
     ]
    },
    {
     "name": "stderr",
     "output_type": "stream",
     "text": [
      "100%|██████████| 5/5 [00:00<00:00, 186.99it/s]\n",
      "  0%|          | 0/202 [00:00<?, ?it/s]"
     ]
    },
    {
     "name": "stdout",
     "output_type": "stream",
     "text": [
      "updating Taylor series\n"
     ]
    },
    {
     "name": "stderr",
     "output_type": "stream",
     "text": [
      "100%|██████████| 202/202 [04:36<00:00,  1.37s/it]\n"
     ]
    },
    {
     "name": "stdout",
     "output_type": "stream",
     "text": [
      "[1]\n"
     ]
    }
   ],
   "source": [
    "out = get_hkx_polynomial(code_funcs, 5, x_dim, y_dim, var_dict, x_var_keys, t_dict, position)"
   ]
  },
  {
   "cell_type": "code",
   "execution_count": 47,
   "metadata": {},
   "outputs": [
    {
     "data": {
      "text/markdown": [
       "$ \\frac{887927}{750000000} \\, g^{5} + \\frac{38416}{1953125} \\, g {\\lambda}^{4} + \\frac{279601}{75000} \\, g {\\theta_0}^{4} - \\frac{7669}{2500} \\, {\\theta_0}^{5} - \\frac{2744}{78125} \\, g {\\lambda}^{3} - \\frac{1}{31250} \\, {\\left(2248 \\, g^{2} + 20333 \\, {\\lambda}^{2} - 24025 \\, {\\lambda} + 23750\\right)} {\\theta_0}^{3} - \\frac{277}{25000} \\, g^{3} - \\frac{7}{234375} \\, {\\left(499 \\, g^{3} - 2100 \\, g\\right)} {\\lambda}^{2} - \\frac{1}{1250000} \\, {\\left(145057 \\, g^{3} - 853806 \\, g {\\lambda}^{2} + 989200 \\, g {\\lambda} - 1015000 \\, g\\right)} {\\theta_0}^{2} + \\frac{1}{937500} \\, {\\left(14963 \\, g^{3} - 105000 \\, g\\right)} {\\lambda} + \\frac{1}{4687500} \\, {\\left(5285 \\, g^{4} - 98784 \\, {\\lambda}^{4} - 360 \\, {\\left(163 \\, g^{2} + 875\\right)} {\\lambda}^{2} + 176400 \\, {\\lambda}^{3} + 236250 \\, g^{2} - 900 \\, {\\left(123 \\, g^{2} - 625\\right)} {\\lambda}\\right)} {\\theta_0} + \\frac{1}{5} \\, g $"
      ],
      "text/plain": [
       "<IPython.core.display.Markdown object>"
      ]
     },
     "metadata": {},
     "output_type": "display_data"
    }
   ],
   "source": [
    "lprint(out[0].full_simplify()) # our h function # its too big"
   ]
  },
  {
   "cell_type": "markdown",
   "metadata": {},
   "source": [
    "## Testing the implicit function theorem"
   ]
  },
  {
   "cell_type": "code",
   "execution_count": 48,
   "metadata": {},
   "outputs": [
    {
     "name": "stderr",
     "output_type": "stream",
     "text": [
      "100%|██████████| 2/2 [00:00<00:00, 109.60it/s]\n"
     ]
    }
   ],
   "source": [
    "subbed = [func(theta1 = out[0]) for func in tqdm.tqdm(tfuncs)]"
   ]
  },
  {
   "cell_type": "code",
   "execution_count": 49,
   "metadata": {},
   "outputs": [
    {
     "name": "stderr",
     "output_type": "stream",
     "text": [
      "100%|██████████| 2/2 [00:00<00:00, 54.76it/s]\n"
     ]
    },
    {
     "data": {
      "text/plain": [
       "[-1.2305474541461519, 7.134246421667008]"
      ]
     },
     "execution_count": 49,
     "metadata": {},
     "output_type": "execute_result"
    }
   ],
   "source": [
    "[float(func(g = 2, l = 0.1, theta0 = 1)) for func in tqdm.tqdm(subbed)]"
   ]
  },
  {
   "cell_type": "markdown",
   "metadata": {},
   "source": [
    "the last function remains to be solved"
   ]
  },
  {
   "cell_type": "markdown",
   "metadata": {},
   "source": [
    "### Looking for more solutions"
   ]
  },
  {
   "cell_type": "markdown",
   "metadata": {},
   "source": [
    "Now substitute this into the equation that had degenerate image"
   ]
  },
  {
   "cell_type": "code",
   "execution_count": 50,
   "metadata": {},
   "outputs": [
    {
     "data": {
      "text/markdown": [
       "$ \\left(-\\frac{1}{4}\\right) g \\theta_{0}^{4} + \\left(-\\frac{213}{50}\\right) \\theta_{0}^{5} + \\frac{1}{3} g \\theta_{0}^{3} \\theta_{1} + \\frac{313}{40} \\theta_{0}^{4} \\theta_{1} + \\frac{81}{40} \\theta_{0}^{3} \\theta_{1}^{2} + \\frac{1}{12} g \\theta_{0} \\theta_{1}^{3} + \\left(-\\frac{553}{80}\\right) \\theta_{0}^{2} \\theta_{1}^{3} + \\frac{1}{64} g \\theta_{1}^{4} + \\left(-\\frac{161}{320}\\right) \\theta_{0} \\theta_{1}^{4} + \\frac{68}{75} \\theta_{1}^{5} + \\frac{7}{5} l \\theta_{0}^{3} + \\left(-\\frac{9}{5}\\right) l \\theta_{0}^{2} \\theta_{1} + \\frac{13}{40} l \\theta_{0} \\theta_{1}^{2} + \\frac{2}{5} l \\theta_{1}^{3} + \\frac{3}{5} g \\theta_{0}^{2} + \\frac{18}{5} \\theta_{0}^{3} + \\left(-\\frac{4}{5}\\right) g \\theta_{0} \\theta_{1} + \\left(-\\frac{57}{10}\\right) \\theta_{0}^{2} \\theta_{1} + \\left(-\\frac{3}{20}\\right) g \\theta_{1}^{2} + \\frac{81}{20} \\theta_{0} \\theta_{1}^{2} + \\frac{17}{20} \\theta_{1}^{3} + \\left(-\\frac{6}{5}\\right) l \\theta_{0} + \\frac{3}{10} l \\theta_{1} $"
      ],
      "text/plain": [
       "<IPython.core.display.Markdown object>"
      ]
     },
     "metadata": {},
     "output_type": "display_data"
    }
   ],
   "source": [
    "tf_taylor = tfuncs[1].taylor(*[(key,value) for key,value in position.items()],5) # taylor expand the function with degenerate image\n",
    "lprint(tf_taylor.polynomial(SR)) # all three variables are present"
   ]
  },
  {
   "cell_type": "code",
   "execution_count": 51,
   "metadata": {},
   "outputs": [],
   "source": [
    "tf_sub = tf_taylor(theta1 = out[0]) # substitute in h"
   ]
  },
  {
   "cell_type": "code",
   "execution_count": 52,
   "metadata": {},
   "outputs": [
    {
     "data": {
      "text/markdown": [
       "$ -\\frac{11267}{75000000} \\, g^{5} + \\frac{20507}{3125000} \\, g^{3} {\\lambda}^{2} - \\frac{4116}{390625} \\, g {\\lambda}^{4} - \\frac{106607}{15000000} \\, g^{4} {\\theta_0} + \\frac{11539}{156250} \\, g^{2} {\\lambda}^{2} {\\theta_0} + \\frac{882}{78125} \\, {\\lambda}^{4} {\\theta_0} + \\frac{10411}{125000} \\, g^{3} {\\theta_0}^{2} - \\frac{33531}{62500} \\, g {\\lambda}^{2} {\\theta_0}^{2} + \\frac{37073}{75000} \\, g^{2} {\\theta_0}^{3} + \\frac{57}{125} \\, {\\lambda}^{2} {\\theta_0}^{3} - \\frac{19683}{5000} \\, g {\\theta_0}^{4} + \\frac{9}{125} \\, {\\theta_0}^{5} - \\frac{1207}{250000} \\, g^{3} {\\lambda} + \\frac{294}{15625} \\, g {\\lambda}^{3} - \\frac{1467}{25000} \\, g^{2} {\\lambda} {\\theta_0} - \\frac{63}{3125} \\, {\\lambda}^{3} {\\theta_0} + \\frac{1551}{2500} \\, g {\\lambda} {\\theta_0}^{2} + \\frac{61}{125} \\, {\\lambda} {\\theta_0}^{3} + \\frac{1}{1250} \\, g^{3} - \\frac{21}{625} \\, g {\\lambda}^{2} + \\frac{1}{500} \\, g^{2} {\\theta_0} + \\frac{9}{250} \\, {\\lambda}^{2} {\\theta_0} - \\frac{27}{50} \\, g {\\theta_0}^{2} + \\frac{18}{5} \\, {\\theta_0}^{3} + \\frac{3}{50} \\, g {\\lambda} - \\frac{6}{5} \\, {\\lambda} {\\theta_0} $"
      ],
      "text/plain": [
       "<IPython.core.display.Markdown object>"
      ]
     },
     "metadata": {},
     "output_type": "display_data"
    }
   ],
   "source": [
    "local = symbolic_expression(sum([a[0]*a[1] for a in tf_sub.polynomial(SR) if a[1].degree() <= 5]))\n",
    "#local = tf_sub.polynomial(SR).truncate(4)\n",
    "lprint(local) # will see that we can take out a factor of theta0 = xi0"
   ]
  },
  {
   "cell_type": "code",
   "execution_count": 69,
   "metadata": {},
   "outputs": [
    {
     "data": {
      "text/plain": [
       "-\\frac{11267}{75000000} \\, g^{5} + \\frac{20507}{3125000} \\, g^{3} {\\lambda}^{2} - \\frac{4116}{390625} \\, g {\\lambda}^{4} - \\frac{106607}{15000000} \\, g^{4} {\\theta_0} + \\frac{11539}{156250} \\, g^{2} {\\lambda}^{2} {\\theta_0} + \\frac{882}{78125} \\, {\\lambda}^{4} {\\theta_0} + \\frac{10411}{125000} \\, g^{3} {\\theta_0}^{2} - \\frac{33531}{62500} \\, g {\\lambda}^{2} {\\theta_0}^{2} + \\frac{37073}{75000} \\, g^{2} {\\theta_0}^{3} + \\frac{57}{125} \\, {\\lambda}^{2} {\\theta_0}^{3} - \\frac{19683}{5000} \\, g {\\theta_0}^{4} + \\frac{9}{125} \\, {\\theta_0}^{5} - \\frac{1207}{250000} \\, g^{3} {\\lambda} + \\frac{294}{15625} \\, g {\\lambda}^{3} - \\frac{1467}{25000} \\, g^{2} {\\lambda} {\\theta_0} - \\frac{63}{3125} \\, {\\lambda}^{3} {\\theta_0} + \\frac{1551}{2500} \\, g {\\lambda} {\\theta_0}^{2} + \\frac{61}{125} \\, {\\lambda} {\\theta_0}^{3} + \\frac{1}{1250} \\, g^{3} - \\frac{21}{625} \\, g {\\lambda}^{2} + \\frac{1}{500} \\, g^{2} {\\theta_0} + \\frac{9}{250} \\, {\\lambda}^{2} {\\theta_0} - \\frac{27}{50} \\, g {\\theta_0}^{2} + \\frac{18}{5} \\, {\\theta_0}^{3} + \\frac{3}{50} \\, g {\\lambda} - \\frac{6}{5} \\, {\\lambda} {\\theta_0}"
      ]
     },
     "execution_count": 69,
     "metadata": {},
     "output_type": "execute_result"
    }
   ],
   "source": [
    "latex(local)"
   ]
  },
  {
   "cell_type": "markdown",
   "metadata": {},
   "source": [
    "We see that this will have solutions, therefore the point $\\lambda$ is indeed a bifurcation point, and if we fix the $p10x$ variable at zero then $\\lambda$ will span the local solutions."
   ]
  },
  {
   "cell_type": "code",
   "execution_count": 53,
   "metadata": {},
   "outputs": [
    {
     "data": {
      "image/png": "[encoded data removed]",
      "text/plain": [
       "Graphics object consisting of 1 graphics primitive"
      ]
     },
     "execution_count": 53,
     "metadata": {},
     "output_type": "execute_result"
    }
   ],
   "source": [
    "implicit_plot(local(g = 0), (-1,5), (-5,5))"
   ]
  },
  {
   "cell_type": "code",
   "execution_count": 54,
   "metadata": {},
   "outputs": [
    {
     "data": {
      "image/png": "[encoded data removed]",
      "text/plain": [
       "Graphics object consisting of 1 graphics primitive"
      ]
     },
     "execution_count": 54,
     "metadata": {},
     "output_type": "execute_result"
    }
   ],
   "source": [
    "implicit_plot(local(g = 0.1), (-1,5), (-5,5))"
   ]
  },
  {
   "cell_type": "code",
   "execution_count": 55,
   "metadata": {},
   "outputs": [],
   "source": [
    "implicit_plot(local(g = 2), (-1,5), (-5,5)).save('imperf.png')"
   ]
  },
  {
   "cell_type": "code",
   "execution_count": 67,
   "metadata": {},
   "outputs": [
    {
     "name": "stderr",
     "output_type": "stream",
     "text": [
      "100%|██████████| 100/100 [02:03<00:00,  1.23s/it]\n"
     ]
    }
   ],
   "source": [
    "n = 100\n",
    "\n",
    "for i in tqdm.tqdm(range(0,n)):\n",
    "    implicit_plot(local(g = i/n), (-1,5), (-5,5), axes_labels=['$\\\\lambda$', '$\\\\theta_{0}$'], title = 'g = 0.{}'.format(f'{i:02d}')).save('plots/multi_imperf6/plot{}.png'.format({i}))\n"
   ]
  }
 ],
 "metadata": {
  "kernelspec": {
   "display_name": "SageMath 9.2",
   "language": "sage",
   "name": "sagemath"
  },
  "language_info": {
   "codemirror_mode": {
    "name": "ipython",
    "version": 3
   },
   "file_extension": ".py",
   "mimetype": "text/x-python",
   "name": "python",
   "nbconvert_exporter": "python",
   "pygments_lexer": "ipython3",
   "version": "3.7.7"
  }
 },
 "nbformat": 4,
 "nbformat_minor": 4
}
