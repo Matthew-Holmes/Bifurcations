{
 "cells": [
  {
   "cell_type": "markdown",
   "metadata": {},
   "source": [
    "# Testing Implicit Function code"
   ]
  },
  {
   "cell_type": "code",
   "execution_count": 1,
   "metadata": {},
   "outputs": [],
   "source": [
    "from IPython.display import display, Markdown\n",
    "def latexify(x):\n",
    "    out = '$' + x + '$'\n",
    "    return out\n",
    "\n",
    "def lprint(x):\n",
    "    display(Markdown(latexify(latex(x))))"
   ]
  },
  {
   "cell_type": "code",
   "execution_count": 2,
   "metadata": {},
   "outputs": [],
   "source": [
    "%run -i 'implicit.py'"
   ]
  },
  {
   "cell_type": "markdown",
   "metadata": {},
   "source": [
    "Lets test the implicit function code to see if it can find a paramatrisations for a solution set"
   ]
  },
  {
   "cell_type": "markdown",
   "metadata": {},
   "source": [
    "## A simple example"
   ]
  },
  {
   "cell_type": "code",
   "execution_count": 3,
   "metadata": {},
   "outputs": [],
   "source": [
    "var('x1 x2 y1 y2')\n",
    "f1 = y1 + y2 - x1*x2^2\n",
    "f2 = y1 - y2 + x2*x1^3"
   ]
  },
  {
   "cell_type": "code",
   "execution_count": 4,
   "metadata": {},
   "outputs": [
    {
     "data": {
      "text/markdown": [
       "$ -x_{1} x_{2}^{2} + y_{1} + y_{2} $"
      ],
      "text/plain": [
       "<IPython.core.display.Markdown object>"
      ]
     },
     "metadata": {},
     "output_type": "display_data"
    },
    {
     "data": {
      "text/markdown": [
       "$ x_{1}^{3} x_{2} + y_{1} - y_{2} $"
      ],
      "text/plain": [
       "<IPython.core.display.Markdown object>"
      ]
     },
     "metadata": {},
     "output_type": "display_data"
    }
   ],
   "source": [
    "lprint(f1)\n",
    "lprint(f2)"
   ]
  },
  {
   "cell_type": "markdown",
   "metadata": {},
   "source": [
    "We see that the $f_Y$ partial wil be invertible for all y, so this function is fit for application of the implicit function theorem"
   ]
  },
  {
   "cell_type": "code",
   "execution_count": 5,
   "metadata": {},
   "outputs": [],
   "source": [
    "funcs = [f1,f2]\n",
    "position = {'x1' : 0, 'x2' : 0, 'y1' : 0, 'y2' : 0} # clean evaluations here\n",
    "var_dict = {'x1' : x1, 'x2' : x2, 'y1' : y1, 'y2' : y2}\n",
    "x_var_keys = ['x1', 'x2']\n",
    "x_dim = 2\n",
    "y_dim = 2"
   ]
  },
  {
   "cell_type": "code",
   "execution_count": 6,
   "metadata": {},
   "outputs": [
    {
     "name": "stdout",
     "output_type": "stream",
     "text": [
      "computing Taylor approximaton to 3 order for speedup\n"
     ]
    }
   ],
   "source": [
    "t_dict = TensorDict(funcs, position, var_dict, x_dim, y_dim)"
   ]
  },
  {
   "cell_type": "code",
   "execution_count": 7,
   "metadata": {},
   "outputs": [
    {
     "name": "stderr",
     "output_type": "stream",
     "text": [
      "100%|██████████| 1/1 [00:00<00:00, 3163.13it/s]\n",
      "100%|██████████| 1/1 [00:00<00:00,  1.05it/s]\n"
     ]
    },
    {
     "name": "stdout",
     "output_type": "stream",
     "text": [
      "[ 1  1]\n",
      "[ 1 -1]\n"
     ]
    },
    {
     "name": "stderr",
     "output_type": "stream",
     "text": [
      "100%|██████████| 2/2 [00:00<00:00, 1568.84it/s]\n",
      "100%|██████████| 4/4 [00:00<00:00,  6.80it/s]\n"
     ]
    },
    {
     "name": "stdout",
     "output_type": "stream",
     "text": [
      "[ 1  1]\n",
      "[ 1 -1]\n"
     ]
    },
    {
     "name": "stderr",
     "output_type": "stream",
     "text": [
      "100%|██████████| 3/3 [00:00<00:00, 2527.70it/s]\n",
      "100%|██████████| 14/14 [00:02<00:00,  5.30it/s]\n"
     ]
    },
    {
     "name": "stdout",
     "output_type": "stream",
     "text": [
      "[ 1  1]\n",
      "[ 1 -1]\n"
     ]
    },
    {
     "name": "stderr",
     "output_type": "stream",
     "text": [
      "100%|██████████| 4/4 [00:00<00:00, 865.83it/s]\n",
      "  0%|          | 0/51 [00:00<?, ?it/s]"
     ]
    },
    {
     "name": "stdout",
     "output_type": "stream",
     "text": [
      "updating Taylor series\n"
     ]
    },
    {
     "name": "stderr",
     "output_type": "stream",
     "text": [
      "100%|██████████| 51/51 [00:17<00:00,  2.92it/s]\n"
     ]
    },
    {
     "name": "stdout",
     "output_type": "stream",
     "text": [
      "[ 1  1]\n",
      "[ 1 -1]\n"
     ]
    }
   ],
   "source": [
    "out = get_hkx_polynomial(funcs, 4, x_dim, y_dim, var_dict, x_var_keys, t_dict, position)\n",
    "# prints the f_Y partial so we can check is invertible"
   ]
  },
  {
   "cell_type": "code",
   "execution_count": 8,
   "metadata": {},
   "outputs": [
    {
     "data": {
      "text/markdown": [
       "$ \\left[-\\frac{1}{2} \\, x_{1}^{3} x_{2} + \\frac{1}{2} \\, x_{1} x_{2}^{2}, \\frac{1}{2} \\, x_{1}^{3} x_{2} + \\frac{1}{2} \\, x_{1} x_{2}^{2}\\right] $"
      ],
      "text/plain": [
       "<IPython.core.display.Markdown object>"
      ]
     },
     "metadata": {},
     "output_type": "display_data"
    }
   ],
   "source": [
    "lprint(out)"
   ]
  },
  {
   "cell_type": "markdown",
   "metadata": {},
   "source": [
    "Computing the approximate solutions of the functions in the Y dimensions:"
   ]
  },
  {
   "cell_type": "code",
   "execution_count": 9,
   "metadata": {},
   "outputs": [
    {
     "data": {
      "text/plain": [
       "[0.000450000000000000, 0.000550000000000000]"
      ]
     },
     "execution_count": 9,
     "metadata": {},
     "output_type": "execute_result"
    }
   ],
   "source": [
    "[h(x1 = 0.1,x2 = 0.1) for h in out] # [ y1, y2 ]"
   ]
  },
  {
   "cell_type": "markdown",
   "metadata": {},
   "source": [
    "Now lets substitue these approximations back into the original functions to see if they solve them:"
   ]
  },
  {
   "cell_type": "code",
   "execution_count": 10,
   "metadata": {},
   "outputs": [
    {
     "data": {
      "text/markdown": [
       "$ -x_{1} x_{2}^{2} + y_{1} + y_{2} $"
      ],
      "text/plain": [
       "<IPython.core.display.Markdown object>"
      ]
     },
     "metadata": {},
     "output_type": "display_data"
    }
   ],
   "source": [
    "lprint(f1)"
   ]
  },
  {
   "cell_type": "code",
   "execution_count": 11,
   "metadata": {},
   "outputs": [
    {
     "data": {
      "text/plain": [
       "-2.16840434497101e-19"
      ]
     },
     "execution_count": 11,
     "metadata": {},
     "output_type": "execute_result"
    }
   ],
   "source": [
    "f1(0.1,0.1,0.000450000000000000, 0.000550000000000000)"
   ]
  },
  {
   "cell_type": "code",
   "execution_count": 12,
   "metadata": {},
   "outputs": [
    {
     "data": {
      "text/markdown": [
       "$ x_{1}^{3} x_{2} + y_{1} - y_{2} $"
      ],
      "text/plain": [
       "<IPython.core.display.Markdown object>"
      ]
     },
     "metadata": {},
     "output_type": "display_data"
    },
    {
     "data": {
      "text/plain": [
       "0.000000000000000"
      ]
     },
     "execution_count": 12,
     "metadata": {},
     "output_type": "execute_result"
    }
   ],
   "source": [
    "lprint(f2)\n",
    "f2(0.1,0.1,0.000450000000000000, 0.000550000000000000)"
   ]
  },
  {
   "cell_type": "markdown",
   "metadata": {},
   "source": [
    "We see that the code can solve for the $h(x)$ polynomial, which in this case can be found exactly since the functions were polynomial themselves"
   ]
  },
  {
   "cell_type": "markdown",
   "metadata": {},
   "source": [
    "## A harder example"
   ]
  },
  {
   "cell_type": "markdown",
   "metadata": {},
   "source": [
    "Lets try something harder, for this implementation we always insist that zero is a solution.\n",
    "\n",
    "It is also necessary that the $y$ derivatives are invertible"
   ]
  },
  {
   "cell_type": "code",
   "execution_count": 13,
   "metadata": {},
   "outputs": [],
   "source": [
    "var('x1 x2 x3 y1 y2 y3')\n",
    "f1 = y1 + sin(y2 + y3) - x1*x2^2 + x3*exp(y1 + y2)\n",
    "f2 = exp(y1) - 1 + sin(x2*x1^3) + 3*y2 + x3^4 - 2*y3\n",
    "f3 = x2*x3 + x1*x2 + x3*x1 + y1 - y2 + y3"
   ]
  },
  {
   "cell_type": "code",
   "execution_count": 14,
   "metadata": {},
   "outputs": [],
   "source": [
    "funcs = [f1,f2,f3]\n",
    "position = {'x1' : 0, 'x2' : 0, 'x3' : 0, 'y1' : 0, 'y2' : 0, 'y3' : 0} # clean evaluations here\n",
    "var_dict = {'x1' : x1, 'x2' : x2,'x3' : x3, 'y1' : y1, 'y2' : y2, 'y3' : y3}\n",
    "x_var_keys = ['x1', 'x2', 'x3']\n",
    "x_dim = 3\n",
    "y_dim = 3"
   ]
  },
  {
   "cell_type": "code",
   "execution_count": 15,
   "metadata": {},
   "outputs": [
    {
     "name": "stdout",
     "output_type": "stream",
     "text": [
      "computing Taylor approximaton to 3 order for speedup\n"
     ]
    }
   ],
   "source": [
    "t_dict = TensorDict(funcs, position, var_dict, x_dim, y_dim)"
   ]
  },
  {
   "cell_type": "markdown",
   "metadata": {},
   "source": [
    "### First order "
   ]
  },
  {
   "cell_type": "code",
   "execution_count": 16,
   "metadata": {},
   "outputs": [
    {
     "name": "stderr",
     "output_type": "stream",
     "text": [
      "100%|██████████| 1/1 [00:00<00:00, 2629.66it/s]\n",
      "100%|██████████| 1/1 [00:00<00:00,  2.21it/s]\n"
     ]
    },
    {
     "name": "stdout",
     "output_type": "stream",
     "text": [
      "[ 1  1  1]\n",
      "[ 1  3 -2]\n",
      "[ 1 -1  1]\n"
     ]
    },
    {
     "data": {
      "text/markdown": [
       "$ \\left[\\frac{1}{6} \\, x_{3}, -\\frac{1}{2} \\, x_{3}, -\\frac{2}{3} \\, x_{3}\\right] $"
      ],
      "text/plain": [
       "<IPython.core.display.Markdown object>"
      ]
     },
     "metadata": {},
     "output_type": "display_data"
    }
   ],
   "source": [
    "out = get_hkx_polynomial(funcs, 1, x_dim, y_dim, var_dict, x_var_keys, t_dict, position)\n",
    "lprint(out)"
   ]
  },
  {
   "cell_type": "code",
   "execution_count": 17,
   "metadata": {},
   "outputs": [
    {
     "data": {
      "text/plain": [
       "[0.0166666666666667, -0.0500000000000000, -0.0666666666666667]"
      ]
     },
     "execution_count": 17,
     "metadata": {},
     "output_type": "execute_result"
    }
   ],
   "source": [
    "[h(x3 = 0.1) for h in out]"
   ]
  },
  {
   "cell_type": "code",
   "execution_count": 18,
   "metadata": {},
   "outputs": [
    {
     "data": {
      "text/plain": [
       "[-0.00401390951578171, 0.000339663719427841, 0.0300000000000000]"
      ]
     },
     "execution_count": 18,
     "metadata": {},
     "output_type": "execute_result"
    }
   ],
   "source": [
    "[f(x1 = 0.1,x2 = 0.1,x3 = 0.1,y1 = 0.0166666666666667,y2 = -0.0500000000000000,y3 = -0.0666666666666667) for f in funcs]"
   ]
  },
  {
   "cell_type": "markdown",
   "metadata": {},
   "source": [
    "### Second order"
   ]
  },
  {
   "cell_type": "markdown",
   "metadata": {},
   "source": [
    "Lets try the second order"
   ]
  },
  {
   "cell_type": "code",
   "execution_count": 22,
   "metadata": {},
   "outputs": [
    {
     "name": "stderr",
     "output_type": "stream",
     "text": [
      "100%|██████████| 1/1 [00:00<00:00, 2700.78it/s]\n",
      "100%|██████████| 1/1 [00:00<00:00, 158.14it/s]\n"
     ]
    },
    {
     "name": "stdout",
     "output_type": "stream",
     "text": [
      "[ 1  1  1]\n",
      "[ 1  3 -2]\n",
      "[ 1 -1  1]\n"
     ]
    },
    {
     "name": "stderr",
     "output_type": "stream",
     "text": [
      "100%|██████████| 2/2 [00:00<00:00, 5849.80it/s]\n",
      "100%|██████████| 4/4 [00:00<00:00,  7.94it/s]\n"
     ]
    },
    {
     "name": "stdout",
     "output_type": "stream",
     "text": [
      "[ 1  1  1]\n",
      "[ 1  3 -2]\n",
      "[ 1 -1  1]\n"
     ]
    },
    {
     "data": {
      "text/markdown": [
       "$ \\left[-\\frac{5}{6} \\, x_{1} x_{2} - \\frac{5}{6} \\, x_{1} x_{3} - \\frac{5}{6} \\, x_{2} x_{3} - \\frac{25}{216} \\, x_{3}^{2} + \\frac{1}{6} \\, x_{3}, \\frac{1}{2} \\, x_{1} x_{2} + \\frac{1}{2} \\, x_{1} x_{3} + \\frac{1}{2} \\, x_{2} x_{3} + \\frac{1}{3} \\, x_{3}^{2} - \\frac{1}{2} \\, x_{3}, \\frac{1}{3} \\, x_{1} x_{2} + \\frac{1}{3} \\, x_{1} x_{3} + \\frac{1}{3} \\, x_{2} x_{3} + \\frac{97}{216} \\, x_{3}^{2} - \\frac{2}{3} \\, x_{3}\\right] $"
      ],
      "text/plain": [
       "<IPython.core.display.Markdown object>"
      ]
     },
     "metadata": {},
     "output_type": "display_data"
    }
   ],
   "source": [
    "out = get_hkx_polynomial(funcs, 2, x_dim, y_dim, var_dict, x_var_keys, t_dict, position)\n",
    "lprint(out)"
   ]
  },
  {
   "cell_type": "code",
   "execution_count": 23,
   "metadata": {},
   "outputs": [
    {
     "data": {
      "text/plain": [
       "[-0.00949074074074075, -0.0316666666666667, -0.0521759259259259]"
      ]
     },
     "execution_count": 23,
     "metadata": {},
     "output_type": "execute_result"
    }
   ],
   "source": [
    "[h(x1 = 0.1,x2 = 0.1,x3 = 0.1) for h in out]"
   ]
  },
  {
   "cell_type": "code",
   "execution_count": 24,
   "metadata": {},
   "outputs": [
    {
     "data": {
      "text/plain": [
       "[-0.00169293375280738, 0.000100911249343083, 1.56125112837913e-17]"
      ]
     },
     "execution_count": 24,
     "metadata": {},
     "output_type": "execute_result"
    }
   ],
   "source": [
    "[f(x1 = 0.1,x2 = 0.1,x3 = 0.1,y1 = -0.00893518518518519,y2 = -0.0333333333333333, y3 =-0.0543981481481481) for f in funcs]"
   ]
  },
  {
   "cell_type": "markdown",
   "metadata": {},
   "source": [
    "### Third order"
   ]
  },
  {
   "cell_type": "markdown",
   "metadata": {},
   "source": [
    "3rd order"
   ]
  },
  {
   "cell_type": "code",
   "execution_count": 25,
   "metadata": {},
   "outputs": [
    {
     "name": "stderr",
     "output_type": "stream",
     "text": [
      "100%|██████████| 1/1 [00:00<00:00, 3352.76it/s]\n",
      "100%|██████████| 1/1 [00:00<00:00, 136.00it/s]\n"
     ]
    },
    {
     "name": "stdout",
     "output_type": "stream",
     "text": [
      "[ 1  1  1]\n",
      "[ 1  3 -2]\n",
      "[ 1 -1  1]\n"
     ]
    },
    {
     "name": "stderr",
     "output_type": "stream",
     "text": [
      "100%|██████████| 2/2 [00:00<00:00, 3685.68it/s]\n",
      "100%|██████████| 4/4 [00:01<00:00,  3.57it/s]\n"
     ]
    },
    {
     "name": "stdout",
     "output_type": "stream",
     "text": [
      "[ 1  1  1]\n",
      "[ 1  3 -2]\n",
      "[ 1 -1  1]\n"
     ]
    },
    {
     "name": "stderr",
     "output_type": "stream",
     "text": [
      "100%|██████████| 3/3 [00:00<00:00, 2092.62it/s]\n",
      "100%|██████████| 14/14 [00:05<00:00,  2.64it/s]\n"
     ]
    },
    {
     "name": "stdout",
     "output_type": "stream",
     "text": [
      "[ 1  1  1]\n",
      "[ 1  3 -2]\n",
      "[ 1 -1  1]\n"
     ]
    },
    {
     "data": {
      "text/markdown": [
       "$ \\left[-\\frac{1}{6} \\, x_{1} x_{2}^{2} - \\frac{7}{108} \\, x_{1} x_{2} x_{3} - \\frac{7}{108} \\, x_{1} x_{3}^{2} - \\frac{7}{108} \\, x_{2} x_{3}^{2} + \\frac{1171}{7776} \\, x_{3}^{3} - \\frac{5}{6} \\, x_{1} x_{2} - \\frac{5}{6} \\, x_{1} x_{3} - \\frac{5}{6} \\, x_{2} x_{3} - \\frac{25}{216} \\, x_{3}^{2} + \\frac{1}{6} \\, x_{3}, \\frac{1}{2} \\, x_{1} x_{2}^{2} + \\frac{1}{3} \\, x_{1} x_{2} x_{3} + \\frac{1}{3} \\, x_{1} x_{3}^{2} + \\frac{1}{3} \\, x_{2} x_{3}^{2} - \\frac{1123}{2592} \\, x_{3}^{3} + \\frac{1}{2} \\, x_{1} x_{2} + \\frac{1}{2} \\, x_{1} x_{3} + \\frac{1}{2} \\, x_{2} x_{3} + \\frac{1}{3} \\, x_{3}^{2} - \\frac{1}{2} \\, x_{3}, \\frac{2}{3} \\, x_{1} x_{2}^{2} + \\frac{43}{108} \\, x_{1} x_{2} x_{3} + \\frac{43}{108} \\, x_{1} x_{3}^{2} + \\frac{43}{108} \\, x_{2} x_{3}^{2} - \\frac{1135}{1944} \\, x_{3}^{3} + \\frac{1}{3} \\, x_{1} x_{2} + \\frac{1}{3} \\, x_{1} x_{3} + \\frac{1}{3} \\, x_{2} x_{3} + \\frac{97}{216} \\, x_{3}^{2} - \\frac{2}{3} \\, x_{3}\\right] $"
      ],
      "text/plain": [
       "<IPython.core.display.Markdown object>"
      ]
     },
     "metadata": {},
     "output_type": "display_data"
    }
   ],
   "source": [
    "out = get_hkx_polynomial(funcs, 3, x_dim, y_dim, var_dict, x_var_keys, t_dict, position)\n",
    "lprint(out)"
   ]
  },
  {
   "cell_type": "code",
   "execution_count": 27,
   "metadata": {},
   "outputs": [
    {
     "data": {
      "text/plain": [
       "[-0.00970126028806585, -0.0305999228395062, -0.0508986625514403]"
      ]
     },
     "execution_count": 27,
     "metadata": {},
     "output_type": "execute_result"
    }
   ],
   "source": [
    "[h(x1 = 0.1,x2 = 0.1,x3 = 0.1) for h in out]"
   ]
  },
  {
   "cell_type": "code",
   "execution_count": 29,
   "metadata": {},
   "outputs": [
    {
     "data": {
      "text/plain": [
       "[-0.0000621155832569581, 0.000527913936557045, -1.38777878078145e-17]"
      ]
     },
     "execution_count": 29,
     "metadata": {},
     "output_type": "execute_result"
    }
   ],
   "source": [
    "[f(x1 = 0.1,x2 = 0.1,x3 = 0.1,y1 = -0.00905542695473252,y2 =-0.0325466820987654, y3 =-0.0534912551440329) for f in funcs]"
   ]
  },
  {
   "cell_type": "markdown",
   "metadata": {},
   "source": [
    "### Fourth order"
   ]
  },
  {
   "cell_type": "code",
   "execution_count": 30,
   "metadata": {},
   "outputs": [
    {
     "name": "stderr",
     "output_type": "stream",
     "text": [
      "100%|██████████| 1/1 [00:00<00:00, 1971.93it/s]\n",
      "100%|██████████| 1/1 [00:00<00:00, 130.25it/s]\n"
     ]
    },
    {
     "name": "stdout",
     "output_type": "stream",
     "text": [
      "[ 1  1  1]\n",
      "[ 1  3 -2]\n",
      "[ 1 -1  1]\n"
     ]
    },
    {
     "name": "stderr",
     "output_type": "stream",
     "text": [
      "100%|██████████| 2/2 [00:00<00:00, 3977.53it/s]\n",
      "100%|██████████| 4/4 [00:00<00:00,  6.08it/s]\n"
     ]
    },
    {
     "name": "stdout",
     "output_type": "stream",
     "text": [
      "[ 1  1  1]\n",
      "[ 1  3 -2]\n",
      "[ 1 -1  1]\n"
     ]
    },
    {
     "name": "stderr",
     "output_type": "stream",
     "text": [
      "100%|██████████| 3/3 [00:00<00:00, 2950.27it/s]\n",
      "100%|██████████| 14/14 [00:05<00:00,  2.59it/s]\n"
     ]
    },
    {
     "name": "stdout",
     "output_type": "stream",
     "text": [
      "[ 1  1  1]\n",
      "[ 1  3 -2]\n",
      "[ 1 -1  1]\n"
     ]
    },
    {
     "name": "stderr",
     "output_type": "stream",
     "text": [
      "100%|██████████| 4/4 [00:00<00:00, 1516.65it/s]\n",
      "  0%|          | 0/51 [00:00<?, ?it/s]"
     ]
    },
    {
     "name": "stdout",
     "output_type": "stream",
     "text": [
      "updating Taylor series\n"
     ]
    },
    {
     "name": "stderr",
     "output_type": "stream",
     "text": [
      "100%|██████████| 51/51 [02:08<00:00,  2.53s/it]\n"
     ]
    },
    {
     "name": "stdout",
     "output_type": "stream",
     "text": [
      "[ 1  1  1]\n",
      "[ 1  3 -2]\n",
      "[ 1 -1  1]\n"
     ]
    },
    {
     "data": {
      "text/markdown": [
       "$ \\left[-\\frac{1}{3} \\, x_{1}^{3} x_{2} - \\frac{25}{216} \\, x_{1}^{2} x_{2}^{2} - \\frac{25}{108} \\, x_{1}^{2} x_{2} x_{3} - \\frac{1}{9} \\, x_{1} x_{2}^{2} x_{3} - \\frac{25}{216} \\, x_{1}^{2} x_{3}^{2} - \\frac{533}{2592} \\, x_{1} x_{2} x_{3}^{2} - \\frac{25}{216} \\, x_{2}^{2} x_{3}^{2} + \\frac{67}{2592} \\, x_{1} x_{3}^{3} + \\frac{67}{2592} \\, x_{2} x_{3}^{3} - \\frac{52885}{93312} \\, x_{3}^{4} - \\frac{1}{6} \\, x_{1} x_{2}^{2} - \\frac{7}{108} \\, x_{1} x_{2} x_{3} - \\frac{7}{108} \\, x_{1} x_{3}^{2} - \\frac{7}{108} \\, x_{2} x_{3}^{2} + \\frac{1171}{7776} \\, x_{3}^{3} - \\frac{5}{6} \\, x_{1} x_{2} - \\frac{5}{6} \\, x_{1} x_{3} - \\frac{5}{6} \\, x_{2} x_{3} - \\frac{25}{216} \\, x_{3}^{2} + \\frac{1}{6} \\, x_{3}, -\\frac{1}{3} \\, x_{1} x_{2}^{2} x_{3} - \\frac{131}{864} \\, x_{1} x_{2} x_{3}^{2} - \\frac{131}{864} \\, x_{1} x_{3}^{3} - \\frac{131}{864} \\, x_{2} x_{3}^{3} + \\frac{6947}{10368} \\, x_{3}^{4} + \\frac{1}{2} \\, x_{1} x_{2}^{2} + \\frac{1}{3} \\, x_{1} x_{2} x_{3} + \\frac{1}{3} \\, x_{1} x_{3}^{2} + \\frac{1}{3} \\, x_{2} x_{3}^{2} - \\frac{1123}{2592} \\, x_{3}^{3} + \\frac{1}{2} \\, x_{1} x_{2} + \\frac{1}{2} \\, x_{1} x_{3} + \\frac{1}{2} \\, x_{2} x_{3} + \\frac{1}{3} \\, x_{3}^{2} - \\frac{1}{2} \\, x_{3}, \\frac{1}{3} \\, x_{1}^{3} x_{2} + \\frac{25}{216} \\, x_{1}^{2} x_{2}^{2} + \\frac{25}{108} \\, x_{1}^{2} x_{2} x_{3} - \\frac{2}{9} \\, x_{1} x_{2}^{2} x_{3} + \\frac{25}{216} \\, x_{1}^{2} x_{3}^{2} + \\frac{35}{648} \\, x_{1} x_{2} x_{3}^{2} + \\frac{25}{216} \\, x_{2}^{2} x_{3}^{2} - \\frac{115}{648} \\, x_{1} x_{3}^{3} - \\frac{115}{648} \\, x_{2} x_{3}^{3} + \\frac{7213}{5832} \\, x_{3}^{4} + \\frac{2}{3} \\, x_{1} x_{2}^{2} + \\frac{43}{108} \\, x_{1} x_{2} x_{3} + \\frac{43}{108} \\, x_{1} x_{3}^{2} + \\frac{43}{108} \\, x_{2} x_{3}^{2} - \\frac{1135}{1944} \\, x_{3}^{3} + \\frac{1}{3} \\, x_{1} x_{2} + \\frac{1}{3} \\, x_{1} x_{3} + \\frac{1}{3} \\, x_{2} x_{3} + \\frac{97}{216} \\, x_{3}^{2} - \\frac{2}{3} \\, x_{3}\\right] $"
      ],
      "text/plain": [
       "<IPython.core.display.Markdown object>"
      ]
     },
     "metadata": {},
     "output_type": "display_data"
    }
   ],
   "source": [
    "out = get_hkx_polynomial(funcs, 4, x_dim, y_dim, var_dict, x_var_keys, t_dict, position)\n",
    "lprint(out)"
   ]
  },
  {
   "cell_type": "code",
   "execution_count": 32,
   "metadata": {},
   "outputs": [
    {
     "data": {
      "text/plain": [
       "[-0.00987564407578875, -0.0306117380401235, -0.0507360939643347]"
      ]
     },
     "execution_count": 32,
     "metadata": {},
     "output_type": "execute_result"
    }
   ],
   "source": [
    "[h(x1 =0.1,x2=0.1,x3=0.1) for h in out]"
   ]
  },
  {
   "cell_type": "code",
   "execution_count": 34,
   "metadata": {},
   "outputs": [
    {
     "data": {
      "text/plain": [
       "[0.0000244578757480629, 7.48217104107318e-6, 6.41847686111419e-17]"
      ]
     },
     "execution_count": 34,
     "metadata": {},
     "output_type": "execute_result"
    }
   ],
   "source": [
    "[f(x1=0.1,x2=0.1,x3=0.1,y1=-0.00924633594821674,y2= -0.0324961259002058, y3=-0.0532497899519890) for f in funcs]"
   ]
  },
  {
   "cell_type": "markdown",
   "metadata": {},
   "source": [
    "We see that as we increase the order of the taylor polynomial the function becomes a better approximation of the solution curve."
   ]
  },
  {
   "cell_type": "markdown",
   "metadata": {},
   "source": [
    "The last function is completely solved since it is just a polynomial"
   ]
  },
  {
   "cell_type": "code",
   "execution_count": 35,
   "metadata": {},
   "outputs": [
    {
     "data": {
      "text/markdown": [
       "$ -x_{1} x_{2}^{2} + x_{3} e^{\\left(y_{1} + y_{2}\\right)} + y_{1} + \\sin\\left(y_{2} + y_{3}\\right) $"
      ],
      "text/plain": [
       "<IPython.core.display.Markdown object>"
      ]
     },
     "metadata": {},
     "output_type": "display_data"
    },
    {
     "data": {
      "text/markdown": [
       "$ x_{3}^{4} + 3 \\, y_{2} - 2 \\, y_{3} + e^{y_{1}} + \\sin\\left(x_{1}^{3} x_{2}\\right) - 1 $"
      ],
      "text/plain": [
       "<IPython.core.display.Markdown object>"
      ]
     },
     "metadata": {},
     "output_type": "display_data"
    },
    {
     "data": {
      "text/markdown": [
       "$ x_{1} x_{2} + x_{1} x_{3} + x_{2} x_{3} + y_{1} - y_{2} + y_{3} $"
      ],
      "text/plain": [
       "<IPython.core.display.Markdown object>"
      ]
     },
     "metadata": {},
     "output_type": "display_data"
    },
    {
     "data": {
      "text/plain": [
       "[None, None, None]"
      ]
     },
     "execution_count": 35,
     "metadata": {},
     "output_type": "execute_result"
    }
   ],
   "source": [
    "[lprint(f) for f in funcs]"
   ]
  }
 ],
 "metadata": {
  "kernelspec": {
   "display_name": "SageMath 9.2",
   "language": "sage",
   "name": "sagemath"
  },
  "language_info": {
   "codemirror_mode": {
    "name": "ipython",
    "version": 3
   },
   "file_extension": ".py",
   "mimetype": "text/x-python",
   "name": "python",
   "nbconvert_exporter": "python",
   "pygments_lexer": "ipython3",
   "version": "3.7.7"
  }
 },
 "nbformat": 4,
 "nbformat_minor": 4
}
