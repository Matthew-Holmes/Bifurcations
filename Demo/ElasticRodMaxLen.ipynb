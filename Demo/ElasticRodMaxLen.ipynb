{
 "cells": [
  {
   "cell_type": "markdown",
   "metadata": {},
   "source": [
    "# Elastic Rod Model"
   ]
  },
  {
   "cell_type": "code",
   "execution_count": 1,
   "metadata": {},
   "outputs": [],
   "source": [
    "from IPython.display import display, Markdown\n",
    "import random\n",
    "def latexify(x):\n",
    "    out = '$' + x + '$'\n",
    "    return out\n",
    "\n",
    "def lprint(x):\n",
    "    display(Markdown(latexify(latex(x))))\n",
    "    \n",
    "%run -i 'implicit.py'\n",
    "\n",
    "import matplotlib.pyplot as plt"
   ]
  },
  {
   "cell_type": "markdown",
   "metadata": {},
   "source": [
    "In this notebook we attempt to perform computation bifurcation theory on a high dimensional problem"
   ]
  },
  {
   "cell_type": "markdown",
   "metadata": {},
   "source": [
    "here we consider rods connected by elastic joints that resist angular perturbation, with a forcing action attempting to squash the rod"
   ]
  },
  {
   "cell_type": "code",
   "execution_count": 3,
   "metadata": {},
   "outputs": [],
   "source": [
    "def get_funcs(n):\n",
    "    # returns a set of equations to solve\n",
    "\n",
    "    var_dict = {}\n",
    "    for i in range(0,n):\n",
    "        # theta is the angle from the horizontal the ith line branches from\n",
    "        var_dict['theta{}'.format(i)] = var('theta{}'.format(i), latex_name = r'\\theta_{}'.format(i))\n",
    "        \n",
    "    var_dict['theta{}'.format(n)] = 0 # will update\n",
    "        \n",
    "    # compute the last theta, since must have the endpoints both zero on the vertical\n",
    "    for i in range(0,n):\n",
    "        var_dict['theta{}'.format(n)] = var_dict['theta{}'.format(n)] - sin(var_dict['theta{}'.format(i)])\n",
    "        \n",
    "    var_dict['theta{}'.format(n)] = arcsin(var_dict['theta{}'.format(n)])\n",
    "    \n",
    "    var_dict['l'] = var('l', latex_name=r'\\lambda') # compressive force\n",
    "   \n",
    "    \n",
    "    funcs = []\n",
    "    energy = 0\n",
    "    for j in range(1,n+1):\n",
    "        # iterate through each spring in the rod\n",
    "        e_spring = (var_dict['theta{}'.format(j-1)] - var_dict['theta{}'.format(j)])^2 \n",
    "        # since pi - (pi - theta0 - theta1) e.g\n",
    "        energy = energy + e_spring\n",
    "        \n",
    "    hoz = 0\n",
    "    for i in range(0,n+1):\n",
    "        # total horizontal extension\n",
    "        hoz = hoz + cos(var_dict['theta{}'.format(i)])\n",
    "           \n",
    "    # take away the work done by the force\n",
    "    energy = energy - var_dict['l']*(n + 1 - hoz)\n",
    "            \n",
    "    # solutions will be local minima of the energy equation\n",
    "    for j in range(0,n):\n",
    "        #don't care about the last angle\n",
    "        funcs.append(energy.diff(var_dict['theta{}'.format(j)]))\n",
    "        \n",
    "    del var_dict['theta{}'.format(n)] # this was just a latent variable\n",
    "        \n",
    "    return funcs, var_dict\n",
    "    "
   ]
  },
  {
   "cell_type": "code",
   "execution_count": 4,
   "metadata": {},
   "outputs": [],
   "source": [
    "funcs, var_dict = get_funcs(7)"
   ]
  },
  {
   "cell_type": "code",
   "execution_count": 5,
   "metadata": {},
   "outputs": [
    {
     "data": {
      "text/markdown": [
       "$ -{\\left(\\frac{{\\left(\\sin\\left({\\theta_0}\\right) + \\sin\\left({\\theta_1}\\right) + \\sin\\left({\\theta_2}\\right) + \\sin\\left({\\theta_3}\\right) + \\sin\\left({\\theta_4}\\right) + \\sin\\left({\\theta_5}\\right) + \\sin\\left({\\theta_6}\\right)\\right)} \\cos\\left({\\theta_6}\\right)}{\\sqrt{-{\\left(\\sin\\left({\\theta_0}\\right) + \\sin\\left({\\theta_1}\\right) + \\sin\\left({\\theta_2}\\right) + \\sin\\left({\\theta_3}\\right) + \\sin\\left({\\theta_4}\\right) + \\sin\\left({\\theta_5}\\right) + \\sin\\left({\\theta_6}\\right)\\right)}^{2} + 1}} + \\sin\\left({\\theta_6}\\right)\\right)} {\\lambda} + 2 \\, {\\left({\\theta_6} - \\arcsin\\left(-\\sin\\left({\\theta_0}\\right) - \\sin\\left({\\theta_1}\\right) - \\sin\\left({\\theta_2}\\right) - \\sin\\left({\\theta_3}\\right) - \\sin\\left({\\theta_4}\\right) - \\sin\\left({\\theta_5}\\right) - \\sin\\left({\\theta_6}\\right)\\right)\\right)} {\\left(\\frac{\\cos\\left({\\theta_6}\\right)}{\\sqrt{-{\\left(\\sin\\left({\\theta_0}\\right) + \\sin\\left({\\theta_1}\\right) + \\sin\\left({\\theta_2}\\right) + \\sin\\left({\\theta_3}\\right) + \\sin\\left({\\theta_4}\\right) + \\sin\\left({\\theta_5}\\right) + \\sin\\left({\\theta_6}\\right)\\right)}^{2} + 1}} + 1\\right)} - 2 \\, {\\theta_5} + 2 \\, {\\theta_6} $"
      ],
      "text/plain": [
       "<IPython.core.display.Markdown object>"
      ]
     },
     "metadata": {},
     "output_type": "display_data"
    }
   ],
   "source": [
    "lprint(funcs[6])"
   ]
  },
  {
   "cell_type": "code",
   "execution_count": 6,
   "metadata": {},
   "outputs": [
    {
     "data": {
      "text/plain": [
       "{'theta0': theta0,\n",
       " 'theta1': theta1,\n",
       " 'theta2': theta2,\n",
       " 'theta3': theta3,\n",
       " 'theta4': theta4,\n",
       " 'theta5': theta5,\n",
       " 'theta6': theta6,\n",
       " 'l': l}"
      ]
     },
     "execution_count": 6,
     "metadata": {},
     "output_type": "execute_result"
    }
   ],
   "source": [
    "var_dict"
   ]
  },
  {
   "cell_type": "markdown",
   "metadata": {},
   "source": [
    "Compute the Jacobian so we can search for values of $\\lambda$ that satisfy the necessary condition"
   ]
  },
  {
   "cell_type": "code",
   "execution_count": 11,
   "metadata": {},
   "outputs": [
    {
     "data": {
      "text/markdown": [
       "$ \\left(\\begin{array}{rrrrrrr}\n",
       "-2 \\, {\\lambda} + 4 & -{\\lambda} & -{\\lambda} + 2 & -{\\lambda} + 2 & -{\\lambda} + 2 & -{\\lambda} + 2 & -{\\lambda} + 4 \\\\\n",
       "-{\\lambda} & -2 \\, {\\lambda} + 6 & -{\\lambda} & -{\\lambda} + 2 & -{\\lambda} + 2 & -{\\lambda} + 2 & -{\\lambda} + 4 \\\\\n",
       "-{\\lambda} + 2 & -{\\lambda} & -2 \\, {\\lambda} + 6 & -{\\lambda} & -{\\lambda} + 2 & -{\\lambda} + 2 & -{\\lambda} + 4 \\\\\n",
       "-{\\lambda} + 2 & -{\\lambda} + 2 & -{\\lambda} & -2 \\, {\\lambda} + 6 & -{\\lambda} & -{\\lambda} + 2 & -{\\lambda} + 4 \\\\\n",
       "-{\\lambda} + 2 & -{\\lambda} + 2 & -{\\lambda} + 2 & -{\\lambda} & -2 \\, {\\lambda} + 6 & -{\\lambda} & -{\\lambda} + 4 \\\\\n",
       "-{\\lambda} + 2 & -{\\lambda} + 2 & -{\\lambda} + 2 & -{\\lambda} + 2 & -{\\lambda} & -2 \\, {\\lambda} + 6 & -{\\lambda} + 2 \\\\\n",
       "-{\\lambda} + 4 & -{\\lambda} + 4 & -{\\lambda} + 4 & -{\\lambda} + 4 & -{\\lambda} + 4 & -{\\lambda} + 2 & -2 \\, {\\lambda} + 10\n",
       "\\end{array}\\right) $"
      ],
      "text/plain": [
       "<IPython.core.display.Markdown object>"
      ]
     },
     "metadata": {},
     "output_type": "display_data"
    }
   ],
   "source": [
    "old_var = var_dict\n",
    "var_dict = {key : var_dict[key] for key in var_dict.keys() if var_dict[key] != 0}\n",
    "var_dict = {key : var_dict[key] for key in var_dict.keys() if key != 'l'}\n",
    "\n",
    "J = jacobian(funcs,tuple(var_dict.values()))(**{var : 0 for var in var_dict.keys()}).apply_map(lambda x: x.full_simplify())\n",
    "lprint(J)"
   ]
  },
  {
   "cell_type": "code",
   "execution_count": 12,
   "metadata": {},
   "outputs": [
    {
     "data": {
      "text/markdown": [
       "$ -8 \\, {\\lambda}^{7} + 224 \\, {\\lambda}^{6} - 2496 \\, {\\lambda}^{5} + 14080 \\, {\\lambda}^{4} - 42240 \\, {\\lambda}^{3} + 64512 \\, {\\lambda}^{2} - 43008 \\, {\\lambda} + 8192 $"
      ],
      "text/plain": [
       "<IPython.core.display.Markdown object>"
      ]
     },
     "metadata": {},
     "output_type": "display_data"
    }
   ],
   "source": [
    "lprint(det(matrix(J))) # potential bifurcation point"
   ]
  },
  {
   "cell_type": "code",
   "execution_count": 13,
   "metadata": {},
   "outputs": [
    {
     "data": {
      "text/markdown": [
       "$ \\left[{\\lambda} = -2 \\, \\sqrt{2} + 4, {\\lambda} = 2 \\, \\sqrt{2} + 4, {\\lambda} = 4, {\\lambda} = -\\frac{1}{2} \\, \\sqrt{-16 \\, \\sqrt{2} + 32} + 4, {\\lambda} = \\frac{1}{2} \\, \\sqrt{-16 \\, \\sqrt{2} + 32} + 4, {\\lambda} = -2 \\, \\sqrt{\\sqrt{2} + 2} + 4, {\\lambda} = 2 \\, \\sqrt{\\sqrt{2} + 2} + 4\\right] $"
      ],
      "text/plain": [
       "<IPython.core.display.Markdown object>"
      ]
     },
     "metadata": {},
     "output_type": "display_data"
    }
   ],
   "source": [
    "bifs = list(solve(det(matrix(J)), l))\n",
    "lprint(bifs)"
   ]
  },
  {
   "cell_type": "code",
   "execution_count": 14,
   "metadata": {},
   "outputs": [
    {
     "data": {
      "text/plain": [
       "[1.1715728752538097,\n",
       " 6.82842712474619,\n",
       " 4.0,\n",
       " 2.469266270539641,\n",
       " 5.5307337294603585,\n",
       " 0.30448186995485305,\n",
       " 7.695518130045147]"
      ]
     },
     "execution_count": 14,
     "metadata": {},
     "output_type": "execute_result"
    }
   ],
   "source": [
    "[float(bif.rhs()) for bif in bifs]"
   ]
  },
  {
   "cell_type": "markdown",
   "metadata": {},
   "source": [
    "Lets loop throught the bifurcations forces and see the shapes produced as the force increases"
   ]
  },
  {
   "cell_type": "code",
   "execution_count": 15,
   "metadata": {},
   "outputs": [
    {
     "name": "stderr",
     "output_type": "stream",
     "text": [
      "100%|██████████| 7/7 [00:00<00:00, 16.21it/s]\n"
     ]
    }
   ],
   "source": [
    "bif_tuples = []\n",
    "\n",
    "# use numerical methods due to high computational cost if solving eigenproblems in closed form\n",
    "for i in tqdm.tqdm([5,0,3,2,4,1,6]):\n",
    "    bif_funcs = [func(l = bifs[i].rhs()) for func in funcs]\n",
    "    J = jacobian(bif_funcs,tuple(var_dict.values()))(**{var : 0 for var in var_dict.keys()}).apply_map(lambda x : float(x))\n",
    "    # do floating point since we are only looking right now\n",
    "    K = [epair for epair in J.eigenvectors_right() if abs(epair[0]) < 10e-15][0][1][0] # since float now a solution is found as a highly degenerate eigenvector\n",
    "    bif_tuples.append((bifs[i].rhs(), K))"
   ]
  },
  {
   "cell_type": "code",
   "execution_count": 17,
   "metadata": {},
   "outputs": [],
   "source": [
    "def angles_to_coords(angles):\n",
    "    # produces the coordinates of a line with angles inputted\n",
    "    coords = []\n",
    "    coords.append((0,0))\n",
    "    \n",
    "    sin_sum = sum([sin(angle) for angle in angles])\n",
    "    temp_angles = list(angles)\n",
    "    temp_angles.append(arcsin(-sin_sum))\n",
    "    \n",
    "    for angle in temp_angles:\n",
    "        now = coords[-1]\n",
    "        new_x = now[0] + cos(angle)\n",
    "        new_y = now[1] + sin(angle)\n",
    "        coords.append((new_x, new_y))\n",
    "        \n",
    "        \n",
    "    return coords"
   ]
  },
  {
   "cell_type": "code",
   "execution_count": 19,
   "metadata": {},
   "outputs": [],
   "source": [
    "def plot_angles(angles, save = False, save_name = 'plot1', folder = 'plots', show = True, title=None):\n",
    "\n",
    "    plt.axes\n",
    "    plt.xlim([-1,9])\n",
    "    plt.ylim([-5,5])\n",
    "\n",
    "    points = angles_to_coords(tuple(angles))\n",
    "    for i in range(int(0), int(len(points) - 1)):\n",
    "        line = plt.Line2D((points[i][0], points[i+1][0]), (points[i][1], points[i+1][1]), lw=2.5)\n",
    "        plt.gca().add_line(line)\n",
    "        plt.gca().set_aspect('equal')\n",
    "        if title is not None:\n",
    "            plt.title(title)\n",
    "    if save is True:\n",
    "        plt.savefig('{}/{}.png'.format(folder, save_name))\n",
    "        \n",
    "    if show is True:\n",
    "        plt.show()\n",
    "        \n",
    "    plt.cla()\n",
    "    return   "
   ]
  },
  {
   "cell_type": "markdown",
   "metadata": {},
   "source": [
    "We now plot all the potential bifurcation points:"
   ]
  },
  {
   "cell_type": "code",
   "execution_count": 21,
   "metadata": {},
   "outputs": [
    {
     "name": "stdout",
     "output_type": "stream",
     "text": [
      "-2*sqrt(sqrt(2) + 2) + 4\n"
     ]
    },
    {
     "data": {
      "image/png": "[encoded data removed]",
      "text/plain": [
       "<Figure size 432x288 with 1 Axes>"
      ]
     },
     "metadata": {
      "needs_background": "light"
     },
     "output_type": "display_data"
    },
    {
     "name": "stdout",
     "output_type": "stream",
     "text": [
      "-2*sqrt(2) + 4\n"
     ]
    },
    {
     "data": {
      "image/png": "[encoded data removed]",
      "text/plain": [
       "<Figure size 432x288 with 1 Axes>"
      ]
     },
     "metadata": {
      "needs_background": "light"
     },
     "output_type": "display_data"
    },
    {
     "name": "stdout",
     "output_type": "stream",
     "text": [
      "-1/2*sqrt(-16*sqrt(2) + 32) + 4\n"
     ]
    },
    {
     "data": {
      "image/png": "[encoded data removed]",
      "text/plain": [
       "<Figure size 432x288 with 1 Axes>"
      ]
     },
     "metadata": {
      "needs_background": "light"
     },
     "output_type": "display_data"
    },
    {
     "name": "stdout",
     "output_type": "stream",
     "text": [
      "4\n"
     ]
    },
    {
     "data": {
      "image/png": "[encoded data removed]",
      "text/plain": [
       "<Figure size 432x288 with 1 Axes>"
      ]
     },
     "metadata": {
      "needs_background": "light"
     },
     "output_type": "display_data"
    },
    {
     "name": "stdout",
     "output_type": "stream",
     "text": [
      "1/2*sqrt(-16*sqrt(2) + 32) + 4\n"
     ]
    },
    {
     "data": {
      "image/png": "[encoded data removed]",
      "text/plain": [
       "<Figure size 432x288 with 1 Axes>"
      ]
     },
     "metadata": {
      "needs_background": "light"
     },
     "output_type": "display_data"
    },
    {
     "name": "stdout",
     "output_type": "stream",
     "text": [
      "2*sqrt(2) + 4\n"
     ]
    },
    {
     "data": {
      "image/png": "[encoded data removed]",
      "text/plain": [
       "<Figure size 432x288 with 1 Axes>"
      ]
     },
     "metadata": {
      "needs_background": "light"
     },
     "output_type": "display_data"
    },
    {
     "name": "stdout",
     "output_type": "stream",
     "text": [
      "2*sqrt(sqrt(2) + 2) + 4\n"
     ]
    },
    {
     "data": {
      "image/png": "[encoded data removed]",
      "text/plain": [
       "<Figure size 432x288 with 1 Axes>"
      ]
     },
     "metadata": {
      "needs_background": "light"
     },
     "output_type": "display_data"
    },
    {
     "data": {
      "image/png": "[encoded data removed]",
      "text/plain": [
       "<Figure size 432x288 with 1 Axes>"
      ]
     },
     "metadata": {
      "needs_background": "light"
     },
     "output_type": "display_data"
    }
   ],
   "source": [
    "count = 1\n",
    "for bif_tuple in bif_tuples:\n",
    "    print(bif_tuple[0])\n",
    "    plot_angles(bif_tuple[1], save = True, save_name = 'plot{}'.format(count))\n",
    "    count+=1"
   ]
  },
  {
   "cell_type": "markdown",
   "metadata": {},
   "source": [
    "Lets do the further investigation with the $\\lambda = 4$ case since this will be least computationally intensive"
   ]
  },
  {
   "cell_type": "code",
   "execution_count": 22,
   "metadata": {},
   "outputs": [],
   "source": [
    "bif_funcs = [func(l = 4) for func in funcs]\n",
    "J = jacobian(bif_funcs,tuple(var_dict.values()))(**{var : 0 for var in var_dict.keys()})\n",
    "K = J.right_kernel().basis() # do floating point since we are only looking right now"
   ]
  },
  {
   "cell_type": "code",
   "execution_count": 23,
   "metadata": {},
   "outputs": [
    {
     "data": {
      "text/markdown": [
       "$ \\left(\\begin{array}{rrrrrrr}\n",
       "-4 & -4 & -2 & -2 & -2 & -2 & 0 \\\\\n",
       "-4 & -2 & -4 & -2 & -2 & -2 & 0 \\\\\n",
       "-2 & -4 & -2 & -4 & -2 & -2 & 0 \\\\\n",
       "-2 & -2 & -4 & -2 & -4 & -2 & 0 \\\\\n",
       "-2 & -2 & -2 & -4 & -2 & -4 & 0 \\\\\n",
       "-2 & -2 & -2 & -2 & -4 & -2 & -2 \\\\\n",
       "0 & 0 & 0 & 0 & 0 & -2 & 2\n",
       "\\end{array}\\right) $"
      ],
      "text/plain": [
       "<IPython.core.display.Markdown object>"
      ]
     },
     "metadata": {},
     "output_type": "display_data"
    }
   ],
   "source": [
    "lprint(J)"
   ]
  },
  {
   "cell_type": "markdown",
   "metadata": {},
   "source": [
    "### Orthogonalising the kernel"
   ]
  },
  {
   "cell_type": "code",
   "execution_count": 24,
   "metadata": {},
   "outputs": [
    {
     "data": {
      "text/markdown": [
       "$ \\left(1.0,\\,-1.0,\\,-1.0,\\,1.0,\\,1.0,\\,-1.0,\\,-1.0\\right) $"
      ],
      "text/plain": [
       "<IPython.core.display.Markdown object>"
      ]
     },
     "metadata": {},
     "output_type": "display_data"
    }
   ],
   "source": [
    "K = J.right_kernel().basis()[0].apply_map(lambda x: x.full_simplify())\n",
    "lprint(K.apply_map(lambda x: float(x)))"
   ]
  },
  {
   "cell_type": "code",
   "execution_count": 25,
   "metadata": {},
   "outputs": [
    {
     "data": {
      "text/markdown": [
       "$ \\left(1,\\,-1,\\,-1,\\,1,\\,1,\\,-1,\\,-1\\right) $"
      ],
      "text/plain": [
       "<IPython.core.display.Markdown object>"
      ]
     },
     "metadata": {},
     "output_type": "display_data"
    }
   ],
   "source": [
    "lprint(K)"
   ]
  },
  {
   "cell_type": "code",
   "execution_count": 26,
   "metadata": {},
   "outputs": [],
   "source": [
    "Kperp = matrix(K).right_kernel().basis()\n",
    "#lprint(Kperp)"
   ]
  },
  {
   "cell_type": "code",
   "execution_count": 27,
   "metadata": {},
   "outputs": [
    {
     "data": {
      "text/markdown": [
       "$ \\left(\\begin{array}{rrrrrrr}\n",
       "1 & 1 & 0 & 0 & 0 & 0 & 0 \\\\\n",
       "-1 & 0 & 1 & 0 & 0 & 0 & 0 \\\\\n",
       "-1 & 0 & 0 & 1 & 0 & 0 & 0 \\\\\n",
       "1 & 0 & 0 & 0 & 1 & 0 & 0 \\\\\n",
       "1 & 0 & 0 & 0 & 0 & 1 & 0 \\\\\n",
       "-1 & 0 & 0 & 0 & 0 & 0 & 1 \\\\\n",
       "-1 & 1 & -1 & -1 & 1 & 1 & -1\n",
       "\\end{array}\\right) $"
      ],
      "text/plain": [
       "<IPython.core.display.Markdown object>"
      ]
     },
     "metadata": {},
     "output_type": "display_data"
    }
   ],
   "source": [
    "A = matrix([K]+Kperp).transpose().apply_map(lambda x: x.full_simplify())\n",
    "lprint(A)"
   ]
  },
  {
   "cell_type": "code",
   "execution_count": 28,
   "metadata": {},
   "outputs": [],
   "source": [
    "key_list = [str(var) for var in var_dict.values()]\n",
    "value_list = list(A*vector(var_dict.values()))\n",
    "mutate_dict = dict(zip(key_list, value_list))"
   ]
  },
  {
   "cell_type": "code",
   "execution_count": 29,
   "metadata": {},
   "outputs": [
    {
     "data": {
      "text/plain": [
       "{'theta0': theta0 + theta1,\n",
       " 'theta1': -theta0 + theta2,\n",
       " 'theta2': -theta0 + theta3,\n",
       " 'theta3': theta0 + theta4,\n",
       " 'theta4': theta0 + theta5,\n",
       " 'theta5': -theta0 + theta6,\n",
       " 'theta6': -theta0 + theta1 - theta2 - theta3 + theta4 + theta5 - theta6}"
      ]
     },
     "execution_count": 29,
     "metadata": {},
     "output_type": "execute_result"
    }
   ],
   "source": [
    "mutate_dict"
   ]
  },
  {
   "cell_type": "code",
   "execution_count": 30,
   "metadata": {},
   "outputs": [],
   "source": [
    "Afuncs = [func(**mutate_dict) for func in bif_funcs]"
   ]
  },
  {
   "cell_type": "code",
   "execution_count": 31,
   "metadata": {},
   "outputs": [],
   "source": [
    "#lprint(Afuncs) "
   ]
  },
  {
   "cell_type": "code",
   "execution_count": 32,
   "metadata": {},
   "outputs": [
    {
     "data": {
      "text/markdown": [
       "$ \\left(\\begin{array}{rrrrrrr}\n",
       "0 & -4 & -4 & -2 & -2 & -2 & -2 \\\\\n",
       "0 & -4 & -2 & -4 & -2 & -2 & -2 \\\\\n",
       "0 & -2 & -4 & -2 & -4 & -2 & -2 \\\\\n",
       "0 & -2 & -2 & -4 & -2 & -4 & -2 \\\\\n",
       "0 & -2 & -2 & -2 & -4 & -2 & -4 \\\\\n",
       "0 & -4 & 0 & 0 & -4 & -6 & 0 \\\\\n",
       "0 & 2 & -2 & -2 & 2 & 2 & -4\n",
       "\\end{array}\\right) $"
      ],
      "text/plain": [
       "<IPython.core.display.Markdown object>"
      ]
     },
     "metadata": {},
     "output_type": "display_data"
    }
   ],
   "source": [
    "Ja = jacobian(Afuncs,tuple(var_dict.values()))(**{var : 0 for var in var_dict.keys()}).apply_map(lambda x: x.full_simplify())\n",
    "lprint(Ja)"
   ]
  },
  {
   "cell_type": "code",
   "execution_count": 33,
   "metadata": {},
   "outputs": [
    {
     "data": {
      "text/markdown": [
       "$ \\left[\\left(1,\\,0,\\,0,\\,0,\\,0,\\,0,\\,0\\right)\\right] $"
      ],
      "text/plain": [
       "<IPython.core.display.Markdown object>"
      ]
     },
     "metadata": {},
     "output_type": "display_data"
    }
   ],
   "source": [
    "Ka = Ja(l=0).right_kernel().basis()\n",
    "lprint(Ka)"
   ]
  },
  {
   "cell_type": "markdown",
   "metadata": {},
   "source": [
    "### Orthogonalising the image"
   ]
  },
  {
   "cell_type": "code",
   "execution_count": 34,
   "metadata": {},
   "outputs": [
    {
     "name": "stdout",
     "output_type": "stream",
     "text": [
      "6\n"
     ]
    }
   ],
   "source": [
    "I = Ja.image().basis()\n",
    "I = [Ja*vec for vec in I]\n",
    "print(len(I))"
   ]
  },
  {
   "cell_type": "code",
   "execution_count": 35,
   "metadata": {},
   "outputs": [],
   "source": [
    "Iperp = matrix(I).apply_map(lambda x: x.full_simplify()).right_kernel().basis()\n",
    "#lprint(Iperp)"
   ]
  },
  {
   "cell_type": "code",
   "execution_count": 36,
   "metadata": {},
   "outputs": [
    {
     "data": {
      "text/markdown": [
       "$ \\left(\\begin{array}{rrrrrrr}\n",
       "-\\frac{17}{98} & -\\frac{9}{49} & \\frac{17}{98} & \\frac{9}{49} & -\\frac{3}{98} & -\\frac{2}{49} & \\frac{1}{7} \\\\\n",
       "-\\frac{9}{49} & \\frac{65}{392} & -\\frac{75}{392} & -\\frac{2}{49} & \\frac{17}{98} & \\frac{9}{392} & -\\frac{1}{7} \\\\\n",
       "\\frac{17}{98} & -\\frac{75}{392} & -\\frac{19}{392} & -\\frac{9}{49} & \\frac{3}{98} & \\frac{65}{392} & -\\frac{1}{7} \\\\\n",
       "\\frac{9}{49} & -\\frac{2}{49} & -\\frac{9}{49} & \\frac{2}{49} & -\\frac{17}{98} & \\frac{5}{49} & \\frac{1}{7} \\\\\n",
       "-\\frac{3}{98} & \\frac{17}{98} & \\frac{3}{98} & -\\frac{17}{98} & \\frac{11}{98} & -\\frac{9}{49} & \\frac{1}{7} \\\\\n",
       "-\\frac{2}{49} & \\frac{9}{392} & \\frac{65}{392} & \\frac{5}{49} & -\\frac{9}{49} & -\\frac{47}{392} & -\\frac{1}{7} \\\\\n",
       "\\frac{3}{98} & -\\frac{19}{392} & \\frac{37}{392} & \\frac{17}{98} & -\\frac{11}{98} & -\\frac{75}{392} & -\\frac{1}{7}\n",
       "\\end{array}\\right) $"
      ],
      "text/plain": [
       "<IPython.core.display.Markdown object>"
      ]
     },
     "metadata": {},
     "output_type": "display_data"
    }
   ],
   "source": [
    "B = matrix(I + Iperp).inverse().apply_map(lambda x: x.full_simplify())\n",
    "lprint(B)"
   ]
  },
  {
   "cell_type": "code",
   "execution_count": 37,
   "metadata": {},
   "outputs": [],
   "source": [
    "tfuncs = vector(Afuncs)*B"
   ]
  },
  {
   "cell_type": "code",
   "execution_count": 38,
   "metadata": {},
   "outputs": [],
   "source": [
    "#lprint(tfuncs)"
   ]
  },
  {
   "cell_type": "code",
   "execution_count": 39,
   "metadata": {},
   "outputs": [],
   "source": [
    "Jt = jacobian(tfuncs,tuple(var_dict.values()))(**{var : 0 for var in var_dict.keys()}).apply_map(lambda x: x.full_simplify())"
   ]
  },
  {
   "cell_type": "code",
   "execution_count": 40,
   "metadata": {},
   "outputs": [
    {
     "data": {
      "text/plain": [
       "dict_values([theta0, theta1, theta2, theta3, theta4, theta5, theta6])"
      ]
     },
     "execution_count": 40,
     "metadata": {},
     "output_type": "execute_result"
    }
   ],
   "source": [
    "var_dict.values()"
   ]
  },
  {
   "cell_type": "code",
   "execution_count": 41,
   "metadata": {},
   "outputs": [
    {
     "data": {
      "text/markdown": [
       "$ \\left(\\begin{array}{rrrrrrr}\n",
       "0 & 1 & 0 & 0 & 0 & 0 & 0 \\\\\n",
       "0 & 0 & 1 & 0 & 0 & 0 & 0 \\\\\n",
       "0 & 0 & 0 & 1 & 0 & 0 & 0 \\\\\n",
       "0 & 0 & 0 & 0 & 1 & 0 & 0 \\\\\n",
       "0 & 0 & 0 & 0 & 0 & 1 & 0 \\\\\n",
       "0 & 0 & 0 & 0 & 0 & 0 & 1 \\\\\n",
       "0 & 0 & 0 & 0 & 0 & 0 & 0\n",
       "\\end{array}\\right) $"
      ],
      "text/plain": [
       "<IPython.core.display.Markdown object>"
      ]
     },
     "metadata": {},
     "output_type": "display_data"
    }
   ],
   "source": [
    "lprint(Jt)"
   ]
  },
  {
   "cell_type": "code",
   "execution_count": 42,
   "metadata": {},
   "outputs": [
    {
     "data": {
      "text/plain": [
       "\\left(\\begin{array}{rrrrrrr}\n",
       "0 & 1 & 0 & 0 & 0 & 0 & 0 \\\\\n",
       "0 & 0 & 1 & 0 & 0 & 0 & 0 \\\\\n",
       "0 & 0 & 0 & 1 & 0 & 0 & 0 \\\\\n",
       "0 & 0 & 0 & 0 & 1 & 0 & 0 \\\\\n",
       "0 & 0 & 0 & 0 & 0 & 1 & 0 \\\\\n",
       "0 & 0 & 0 & 0 & 0 & 0 & 1 \\\\\n",
       "0 & 0 & 0 & 0 & 0 & 0 & 0\n",
       "\\end{array}\\right)"
      ]
     },
     "execution_count": 42,
     "metadata": {},
     "output_type": "execute_result"
    }
   ],
   "source": [
    "latex(Jt)"
   ]
  },
  {
   "cell_type": "code",
   "execution_count": 43,
   "metadata": {},
   "outputs": [
    {
     "data": {
      "text/markdown": [
       "$ \\left[\\left(1,\\,0,\\,0,\\,0,\\,0,\\,0,\\,0\\right), \\left(0,\\,1,\\,0,\\,0,\\,0,\\,0,\\,0\\right), \\left(0,\\,0,\\,1,\\,0,\\,0,\\,0,\\,0\\right), \\left(0,\\,0,\\,0,\\,1,\\,0,\\,0,\\,0\\right), \\left(0,\\,0,\\,0,\\,0,\\,1,\\,0,\\,0\\right), \\left(0,\\,0,\\,0,\\,0,\\,0,\\,1,\\,0\\right)\\right] $"
      ],
      "text/plain": [
       "<IPython.core.display.Markdown object>"
      ]
     },
     "metadata": {},
     "output_type": "display_data"
    }
   ],
   "source": [
    "It = Jt.image().basis()\n",
    "It = [Jt*vec for vec in It]\n",
    "lprint(It)"
   ]
  },
  {
   "cell_type": "markdown",
   "metadata": {},
   "source": [
    "## Adding lambda back in"
   ]
  },
  {
   "cell_type": "code",
   "execution_count": 44,
   "metadata": {},
   "outputs": [],
   "source": [
    "tfuncs = vector([func(**mutate_dict)(l = l + 4) for func in funcs])*B # now lambda is not fixed at the bifurcation point\n",
    "# ***IF SOMETHING IS BROKEN CHECK RIGHT LAMBDA HERE***\n",
    "# but we do shift so that l=0 is the new bifurcation\n",
    "var_dict['l'] = l"
   ]
  },
  {
   "cell_type": "code",
   "execution_count": 45,
   "metadata": {},
   "outputs": [
    {
     "data": {
      "text/plain": [
       "{'theta0': theta0,\n",
       " 'theta1': theta1,\n",
       " 'theta2': theta2,\n",
       " 'theta3': theta3,\n",
       " 'theta4': theta4,\n",
       " 'theta5': theta5,\n",
       " 'theta6': theta6,\n",
       " 'l': l}"
      ]
     },
     "execution_count": 45,
     "metadata": {},
     "output_type": "execute_result"
    }
   ],
   "source": [
    "var_dict_old = var_dict\n",
    "var_dict_old"
   ]
  },
  {
   "cell_type": "code",
   "execution_count": 46,
   "metadata": {},
   "outputs": [
    {
     "data": {
      "text/plain": [
       "dict_values([theta0, theta1, theta2, theta3, theta4, theta5, theta6, l])"
      ]
     },
     "execution_count": 46,
     "metadata": {},
     "output_type": "execute_result"
    }
   ],
   "source": [
    "var_dict.values()"
   ]
  },
  {
   "cell_type": "code",
   "execution_count": 47,
   "metadata": {},
   "outputs": [],
   "source": [
    "#lprint(tfuncs[1])"
   ]
  },
  {
   "cell_type": "markdown",
   "metadata": {},
   "source": [
    "## Running the implicit function theorem"
   ]
  },
  {
   "cell_type": "code",
   "execution_count": 48,
   "metadata": {},
   "outputs": [
    {
     "data": {
      "text/plain": [
       "7"
      ]
     },
     "execution_count": 48,
     "metadata": {},
     "output_type": "execute_result"
    }
   ],
   "source": [
    "len(tfuncs)"
   ]
  },
  {
   "cell_type": "code",
   "execution_count": 49,
   "metadata": {},
   "outputs": [
    {
     "data": {
      "text/plain": [
       "{'theta0': 0,\n",
       " 'theta1': 0,\n",
       " 'theta2': 0,\n",
       " 'theta3': 0,\n",
       " 'theta4': 0,\n",
       " 'theta5': 0,\n",
       " 'theta6': 0,\n",
       " 'l': 0}"
      ]
     },
     "execution_count": 49,
     "metadata": {},
     "output_type": "execute_result"
    }
   ],
   "source": [
    "position = {key : 0 for key in var_dict_old.keys()}\n",
    "position"
   ]
  },
  {
   "cell_type": "code",
   "execution_count": 50,
   "metadata": {},
   "outputs": [],
   "source": [
    "#code_funcs = [tfuncs[index].function(*list(var_dict_old.values())) for index in [0,1,2,3,4,5,6]] # careful with computer science indexing from zero\n",
    "code_funcs = [tfuncs[index] for index in [0,1,2,3,4,5]] # the last function has degenerate first derivative always\n",
    "position = {key : 0 for key in var_dict_old.keys()}\n",
    "# var_dict already loaded\n",
    "var_dict = {'y1' : theta1, 'y2' : theta2, 'y3' : theta3, 'y4' : theta4, 'y5' : theta5, 'y6' : theta6, 'x1' : l, 'x2' : theta0}\n",
    "x_var_keys = ['l', 'theta0'] # the variables in the kernel\n",
    "x_dim = 2\n",
    "y_dim = 6 # invertible part"
   ]
  },
  {
   "cell_type": "code",
   "execution_count": 51,
   "metadata": {},
   "outputs": [
    {
     "data": {
      "text/plain": [
       "dict_keys(['y1', 'y2', 'y3', 'y4', 'y5', 'y6', 'x1', 'x2'])"
      ]
     },
     "execution_count": 51,
     "metadata": {},
     "output_type": "execute_result"
    }
   ],
   "source": [
    "var_dict.keys()"
   ]
  },
  {
   "cell_type": "code",
   "execution_count": 52,
   "metadata": {},
   "outputs": [
    {
     "name": "stdout",
     "output_type": "stream",
     "text": [
      "computing Taylor approximaton to 3 order for speedup\n"
     ]
    }
   ],
   "source": [
    "t_dict = TensorDict(code_funcs, position, var_dict, x_dim, y_dim)"
   ]
  },
  {
   "cell_type": "code",
   "execution_count": 53,
   "metadata": {},
   "outputs": [
    {
     "name": "stderr",
     "output_type": "stream",
     "text": [
      "100%|██████████| 1/1 [00:00<00:00, 3113.81it/s]\n",
      "100%|██████████| 1/1 [00:01<00:00,  1.14s/it]\n"
     ]
    },
    {
     "name": "stdout",
     "output_type": "stream",
     "text": [
      "[1 0 0 0 0 0]\n",
      "[0 1 0 0 0 0]\n",
      "[0 0 1 0 0 0]\n",
      "[0 0 0 1 0 0]\n",
      "[0 0 0 0 1 0]\n",
      "[0 0 0 0 0 1]\n"
     ]
    },
    {
     "name": "stderr",
     "output_type": "stream",
     "text": [
      "100%|██████████| 2/2 [00:00<00:00, 4215.38it/s]\n",
      "100%|██████████| 4/4 [00:30<00:00,  7.68s/it]\n"
     ]
    },
    {
     "name": "stdout",
     "output_type": "stream",
     "text": [
      "[1 0 0 0 0 0]\n",
      "[0 1 0 0 0 0]\n",
      "[0 0 1 0 0 0]\n",
      "[0 0 0 1 0 0]\n",
      "[0 0 0 0 1 0]\n",
      "[0 0 0 0 0 1]\n"
     ]
    },
    {
     "name": "stderr",
     "output_type": "stream",
     "text": [
      "100%|██████████| 3/3 [00:00<00:00, 2154.98it/s]\n",
      "100%|██████████| 14/14 [03:29<00:00, 14.97s/it]\n"
     ]
    },
    {
     "name": "stdout",
     "output_type": "stream",
     "text": [
      "[1 0 0 0 0 0]\n",
      "[0 1 0 0 0 0]\n",
      "[0 0 1 0 0 0]\n",
      "[0 0 0 1 0 0]\n",
      "[0 0 0 0 1 0]\n",
      "[0 0 0 0 0 1]\n"
     ]
    }
   ],
   "source": [
    "out = get_hkx_polynomial(code_funcs, 3, x_dim, y_dim, var_dict, x_var_keys, t_dict, position)"
   ]
  },
  {
   "cell_type": "code",
   "execution_count": 54,
   "metadata": {},
   "outputs": [
    {
     "data": {
      "text/markdown": [
       "$ \\left[-\\frac{398}{2401} \\, {\\lambda}^{2} {\\theta_0} - \\frac{4}{147} \\, {\\theta_0}^{3} + \\frac{2}{49} \\, {\\lambda} {\\theta_0}, \\frac{411}{4802} \\, {\\lambda}^{2} {\\theta_0} - \\frac{10}{147} \\, {\\theta_0}^{3} + \\frac{5}{49} \\, {\\lambda} {\\theta_0}, \\frac{453}{4802} \\, {\\lambda}^{2} {\\theta_0} + \\frac{4}{147} \\, {\\theta_0}^{3} - \\frac{2}{49} \\, {\\lambda} {\\theta_0}, -\\frac{34}{2401} \\, {\\lambda}^{2} {\\theta_0} + \\frac{10}{147} \\, {\\theta_0}^{3} - \\frac{5}{49} \\, {\\lambda} {\\theta_0}, -\\frac{76}{2401} \\, {\\lambda}^{2} {\\theta_0} - \\frac{6}{49} \\, {\\theta_0}^{3} + \\frac{9}{49} \\, {\\lambda} {\\theta_0}, -\\frac{1003}{4802} \\, {\\lambda}^{2} {\\theta_0} - \\frac{8}{49} \\, {\\theta_0}^{3} + \\frac{12}{49} \\, {\\lambda} {\\theta_0}\\right] $"
      ],
      "text/plain": [
       "<IPython.core.display.Markdown object>"
      ]
     },
     "metadata": {},
     "output_type": "display_data"
    }
   ],
   "source": [
    "lprint(out) # our h function"
   ]
  },
  {
   "cell_type": "markdown",
   "metadata": {},
   "source": [
    "## Testing the implicit function theorem"
   ]
  },
  {
   "cell_type": "code",
   "execution_count": 55,
   "metadata": {},
   "outputs": [],
   "source": [
    "subbed = [func(theta1 = out[0],theta2 = out[1], theta3 = out[2], theta4 = out[3], theta5 = out[4], theta6 = out[5]) for func in tfuncs]"
   ]
  },
  {
   "cell_type": "code",
   "execution_count": 57,
   "metadata": {},
   "outputs": [
    {
     "data": {
      "text/plain": [
       "[-0.00010729963262554043,\n",
       " 5.021452201396659e-05,\n",
       " 6.771609026705316e-05,\n",
       " 4.0313362924260243e-07,\n",
       " -2.9115836210461682e-05,\n",
       " -0.00014216602500417147,\n",
       " -0.010626372799809637]"
      ]
     },
     "execution_count": 57,
     "metadata": {},
     "output_type": "execute_result"
    }
   ],
   "source": [
    "[float(func(l = 0.1, theta0 = 0.1)) for func in subbed]  # check that the first six are solved"
   ]
  },
  {
   "cell_type": "markdown",
   "metadata": {},
   "source": [
    "the last function remains to be solved"
   ]
  },
  {
   "cell_type": "markdown",
   "metadata": {},
   "source": [
    "### Looking for more solutions"
   ]
  },
  {
   "cell_type": "markdown",
   "metadata": {},
   "source": [
    "Now substitute this into the equation that had degenerate image"
   ]
  },
  {
   "cell_type": "code",
   "execution_count": 58,
   "metadata": {},
   "outputs": [
    {
     "data": {
      "text/markdown": [
       "$ \\frac{16}{21} \\theta_{0}^{3} + \\left(-\\frac{4}{7}\\right) \\theta_{0}^{2} \\theta_{1} + \\frac{12}{7} \\theta_{0} \\theta_{1}^{2} + \\left(-\\frac{4}{21}\\right) \\theta_{1}^{3} + \\left(-\\frac{4}{7}\\right) \\theta_{0} \\theta_{1} \\theta_{2} + \\frac{8}{7} \\theta_{1}^{2} \\theta_{2} + \\frac{4}{7} \\theta_{0} \\theta_{2}^{2} + \\left(-\\frac{2}{7}\\right) \\theta_{1} \\theta_{2}^{2} + \\left(-\\frac{2}{7}\\right) \\theta_{2}^{3} + \\left(-\\frac{4}{7}\\right) \\theta_{0} \\theta_{1} \\theta_{3} + \\frac{8}{7} \\theta_{1}^{2} \\theta_{3} + \\frac{4}{7} \\theta_{0} \\theta_{2} \\theta_{3} + \\left(-\\frac{2}{7}\\right) \\theta_{1} \\theta_{2} \\theta_{3} + \\left(-\\frac{2}{7}\\right) \\theta_{2}^{2} \\theta_{3} + \\frac{4}{7} \\theta_{0} \\theta_{3}^{2} + \\left(-\\frac{2}{7}\\right) \\theta_{1} \\theta_{3}^{2} + \\left(-\\frac{2}{7}\\right) \\theta_{2} \\theta_{3}^{2} + \\left(-\\frac{2}{7}\\right) \\theta_{3}^{3} + \\left(-\\frac{4}{7}\\right) \\theta_{0}^{2} \\theta_{4} + \\frac{20}{7} \\theta_{0} \\theta_{1} \\theta_{4} + \\left(-\\frac{8}{7}\\right) \\theta_{1}^{2} \\theta_{4} + \\left(-\\frac{4}{7}\\right) \\theta_{0} \\theta_{2} \\theta_{4} + 2 \\theta_{1} \\theta_{2} \\theta_{4} + \\left(-\\frac{2}{7}\\right) \\theta_{2}^{2} \\theta_{4} + \\left(-\\frac{4}{7}\\right) \\theta_{0} \\theta_{3} \\theta_{4} + 2 \\theta_{1} \\theta_{3} \\theta_{4} + \\left(-\\frac{2}{7}\\right) \\theta_{2} \\theta_{3} \\theta_{4} + \\left(-\\frac{2}{7}\\right) \\theta_{3}^{2} \\theta_{4} + \\frac{12}{7} \\theta_{0} \\theta_{4}^{2} + \\left(-\\frac{8}{7}\\right) \\theta_{1} \\theta_{4}^{2} + \\frac{8}{7} \\theta_{2} \\theta_{4}^{2} + \\frac{8}{7} \\theta_{3} \\theta_{4}^{2} + \\left(-\\frac{4}{21}\\right) \\theta_{4}^{3} + \\left(-\\frac{4}{7}\\right) \\theta_{0}^{2} \\theta_{5} + \\frac{20}{7} \\theta_{0} \\theta_{1} \\theta_{5} + \\left(-\\frac{8}{7}\\right) \\theta_{1}^{2} \\theta_{5} + \\left(-\\frac{4}{7}\\right) \\theta_{0} \\theta_{2} \\theta_{5} + 2 \\theta_{1} \\theta_{2} \\theta_{5} + \\left(-\\frac{2}{7}\\right) \\theta_{2}^{2} \\theta_{5} + \\left(-\\frac{4}{7}\\right) \\theta_{0} \\theta_{3} \\theta_{5} + 2 \\theta_{1} \\theta_{3} \\theta_{5} + \\left(-\\frac{2}{7}\\right) \\theta_{2} \\theta_{3} \\theta_{5} + \\left(-\\frac{2}{7}\\right) \\theta_{3}^{2} \\theta_{5} + \\frac{20}{7} \\theta_{0} \\theta_{4} \\theta_{5} + \\left(-\\frac{18}{7}\\right) \\theta_{1} \\theta_{4} \\theta_{5} + 2 \\theta_{2} \\theta_{4} \\theta_{5} + 2 \\theta_{3} \\theta_{4} \\theta_{5} + \\left(-\\frac{8}{7}\\right) \\theta_{4}^{2} \\theta_{5} + \\frac{12}{7} \\theta_{0} \\theta_{5}^{2} + \\left(-\\frac{8}{7}\\right) \\theta_{1} \\theta_{5}^{2} + \\frac{8}{7} \\theta_{2} \\theta_{5}^{2} + \\frac{8}{7} \\theta_{3} \\theta_{5}^{2} + \\left(-\\frac{8}{7}\\right) \\theta_{4} \\theta_{5}^{2} + \\left(-\\frac{4}{21}\\right) \\theta_{5}^{3} + \\left(-\\frac{4}{7}\\right) \\theta_{0} \\theta_{1} \\theta_{6} + \\frac{8}{7} \\theta_{1}^{2} \\theta_{6} + \\frac{4}{7} \\theta_{0} \\theta_{2} \\theta_{6} + \\left(-\\frac{2}{7}\\right) \\theta_{1} \\theta_{2} \\theta_{6} + \\left(-\\frac{2}{7}\\right) \\theta_{2}^{2} \\theta_{6} + \\frac{4}{7} \\theta_{0} \\theta_{3} \\theta_{6} + \\left(-\\frac{2}{7}\\right) \\theta_{1} \\theta_{3} \\theta_{6} + \\left(-\\frac{2}{7}\\right) \\theta_{2} \\theta_{3} \\theta_{6} + \\left(-\\frac{2}{7}\\right) \\theta_{3}^{2} \\theta_{6} + \\left(-\\frac{4}{7}\\right) \\theta_{0} \\theta_{4} \\theta_{6} + 2 \\theta_{1} \\theta_{4} \\theta_{6} + \\left(-\\frac{2}{7}\\right) \\theta_{2} \\theta_{4} \\theta_{6} + \\left(-\\frac{2}{7}\\right) \\theta_{3} \\theta_{4} \\theta_{6} + \\frac{8}{7} \\theta_{4}^{2} \\theta_{6} + \\left(-\\frac{4}{7}\\right) \\theta_{0} \\theta_{5} \\theta_{6} + 2 \\theta_{1} \\theta_{5} \\theta_{6} + \\left(-\\frac{2}{7}\\right) \\theta_{2} \\theta_{5} \\theta_{6} + \\left(-\\frac{2}{7}\\right) \\theta_{3} \\theta_{5} \\theta_{6} + 2 \\theta_{4} \\theta_{5} \\theta_{6} + \\frac{8}{7} \\theta_{5}^{2} \\theta_{6} + \\frac{4}{7} \\theta_{0} \\theta_{6}^{2} + \\left(-\\frac{2}{7}\\right) \\theta_{1} \\theta_{6}^{2} + \\left(-\\frac{2}{7}\\right) \\theta_{2} \\theta_{6}^{2} + \\left(-\\frac{2}{7}\\right) \\theta_{3} \\theta_{6}^{2} + \\left(-\\frac{2}{7}\\right) \\theta_{4} \\theta_{6}^{2} + \\left(-\\frac{2}{7}\\right) \\theta_{5} \\theta_{6}^{2} + \\left(-\\frac{2}{7}\\right) \\theta_{6}^{3} + \\left(-\\frac{8}{7}\\right) l \\theta_{0} + \\frac{2}{7} l \\theta_{1} + \\frac{2}{7} l \\theta_{4} + \\frac{2}{7} l \\theta_{5} $"
      ],
      "text/plain": [
       "<IPython.core.display.Markdown object>"
      ]
     },
     "metadata": {},
     "output_type": "display_data"
    }
   ],
   "source": [
    "tf_taylor = tfuncs[6].taylor(*[(key,value) for key,value in position.items()],3) # taylor expand the function with degenerate image\n",
    "# *** CHECK SUBBING INTO CORRECT FUNCTION - SHOULD BE THE LAST ONE ***\n",
    "lprint(tf_taylor.polynomial(SR)) # all three variables are present"
   ]
  },
  {
   "cell_type": "code",
   "execution_count": 59,
   "metadata": {},
   "outputs": [],
   "source": [
    "tf_sub = tf_taylor(theta1 = out[0],theta2 = out[1], theta3 = out[2], theta4 = out[3], theta5 = out[4], theta6 = out[5]) # substitute in h"
   ]
  },
  {
   "cell_type": "code",
   "execution_count": 60,
   "metadata": {},
   "outputs": [
    {
     "data": {
      "text/markdown": [
       "$ \\frac{12}{343} \\, {\\lambda}^{2} {\\theta_0} + \\frac{16}{21} \\, {\\theta_0}^{3} - \\frac{8}{7} \\, {\\lambda} {\\theta_0} $"
      ],
      "text/plain": [
       "<IPython.core.display.Markdown object>"
      ]
     },
     "metadata": {},
     "output_type": "display_data"
    }
   ],
   "source": [
    "local = symbolic_expression(sum([a[0]*a[1] for a in tf_sub.polynomial(SR) if a[1].degree() <= 3]))\n",
    "#local = tf_sub.polynomial(SR).truncate(4)\n",
    "lprint(local) # will see that we can take out a factor of theta0 = xi0"
   ]
  },
  {
   "cell_type": "code",
   "execution_count": 61,
   "metadata": {},
   "outputs": [
    {
     "data": {
      "text/plain": [
       "\\frac{12}{343} \\, {\\lambda}^{2} {\\theta_0} + \\frac{16}{21} \\, {\\theta_0}^{3} - \\frac{8}{7} \\, {\\lambda} {\\theta_0}"
      ]
     },
     "execution_count": 61,
     "metadata": {},
     "output_type": "execute_result"
    }
   ],
   "source": [
    "latex(local)"
   ]
  },
  {
   "cell_type": "code",
   "execution_count": 62,
   "metadata": {},
   "outputs": [
    {
     "data": {
      "text/markdown": [
       "$ \\left[{\\theta_0} = -\\frac{1}{14} \\, \\sqrt{-9 \\, {\\lambda}^{2} + 294 \\, {\\lambda}}, {\\theta_0} = \\frac{1}{14} \\, \\sqrt{-9 \\, {\\lambda}^{2} + 294 \\, {\\lambda}}, {\\theta_0} = 0\\right] $"
      ],
      "text/plain": [
       "<IPython.core.display.Markdown object>"
      ]
     },
     "metadata": {},
     "output_type": "display_data"
    }
   ],
   "source": [
    "lprint(solve(local, theta0))"
   ]
  },
  {
   "cell_type": "code",
   "execution_count": 63,
   "metadata": {},
   "outputs": [
    {
     "data": {
      "image/png": "[encoded data removed]",
      "text/plain": [
       "Graphics object consisting of 1 graphics primitive"
      ]
     },
     "execution_count": 63,
     "metadata": {},
     "output_type": "execute_result"
    }
   ],
   "source": [
    "implicit_plot(local, (-1,5), (-5,5))"
   ]
  },
  {
   "cell_type": "markdown",
   "metadata": {},
   "source": [
    "looks like a bifurcation to me"
   ]
  },
  {
   "cell_type": "code",
   "execution_count": 65,
   "metadata": {},
   "outputs": [],
   "source": [
    "sols = [solve(local, theta0)[0].rhs()] + [ sol(theta0 = solve(local, theta0)[0].rhs()) for sol in out] # now solutions are spanned by lambda\n",
    "        # theta0 = g(l)                 # theta_n = h(g(l), l)"
   ]
  },
  {
   "cell_type": "code",
   "execution_count": 66,
   "metadata": {},
   "outputs": [
    {
     "data": {
      "text/plain": [
       "7"
      ]
     },
     "execution_count": 66,
     "metadata": {},
     "output_type": "execute_result"
    }
   ],
   "source": [
    "len(sols)"
   ]
  },
  {
   "cell_type": "code",
   "execution_count": 67,
   "metadata": {},
   "outputs": [
    {
     "data": {
      "text/plain": [
       "[1.93136248855831e-6,\n",
       " -1.28374528715559e-6,\n",
       " -1.03942747079833e-6,\n",
       " 4.26848870662956e-7,\n",
       " -4.42692823763332e-8,\n",
       " 1.98711727109773e-6,\n",
       " -2.03258755476223e-6]"
      ]
     },
     "execution_count": 67,
     "metadata": {},
     "output_type": "execute_result"
    }
   ],
   "source": [
    "coords = { list(var_dict_old.keys())[i] : sols[i] for i in [0,1,2,3,4,5,6] }\n",
    "coords\n",
    "[tfuncs[i](**coords)(l = 0.01) for i in [0,1,2,3,4,5,6]] # see that we solve both equations"
   ]
  },
  {
   "cell_type": "markdown",
   "metadata": {},
   "source": [
    "However solutions are in the reformed space, need to undo the action that reorganised the kernel"
   ]
  },
  {
   "cell_type": "markdown",
   "metadata": {},
   "source": [
    "### Generating more solutions"
   ]
  },
  {
   "cell_type": "markdown",
   "metadata": {},
   "source": [
    "We have solved $f \\circ A$ where $A$ orthogonalised the kernel, thus by applying $A$ we can get a traversel of the new solutions."
   ]
  },
  {
   "cell_type": "code",
   "execution_count": 68,
   "metadata": {},
   "outputs": [
    {
     "data": {
      "text/markdown": [
       "$ \\left(\\begin{array}{rrrrrrr}\n",
       "1 & 1 & 0 & 0 & 0 & 0 & 0 \\\\\n",
       "-1 & 0 & 1 & 0 & 0 & 0 & 0 \\\\\n",
       "-1 & 0 & 0 & 1 & 0 & 0 & 0 \\\\\n",
       "1 & 0 & 0 & 0 & 1 & 0 & 0 \\\\\n",
       "1 & 0 & 0 & 0 & 0 & 1 & 0 \\\\\n",
       "-1 & 0 & 0 & 0 & 0 & 0 & 1 \\\\\n",
       "-1 & 1 & -1 & -1 & 1 & 1 & -1\n",
       "\\end{array}\\right) $"
      ],
      "text/plain": [
       "<IPython.core.display.Markdown object>"
      ]
     },
     "metadata": {},
     "output_type": "display_data"
    }
   ],
   "source": [
    "lprint(A)"
   ]
  },
  {
   "cell_type": "code",
   "execution_count": 69,
   "metadata": {},
   "outputs": [
    {
     "data": {
      "text/plain": [
       "7"
      ]
     },
     "execution_count": 69,
     "metadata": {},
     "output_type": "execute_result"
    }
   ],
   "source": [
    "fsols = list(A*vector(sols))\n",
    "len(fsols)"
   ]
  },
  {
   "cell_type": "code",
   "execution_count": 70,
   "metadata": {},
   "outputs": [],
   "source": [
    "#fsols = [random.random()/10000 for i in range(0,2)] # can check these are giving solutions"
   ]
  },
  {
   "cell_type": "code",
   "execution_count": 72,
   "metadata": {},
   "outputs": [],
   "source": [
    "coords = { list(var_dict_old.keys())[i] : fsols[i] for i in [0,1,2,3,4,5,6] } \n",
    "# *** makes sure it is fsols[i] ***"
   ]
  },
  {
   "cell_type": "code",
   "execution_count": 73,
   "metadata": {},
   "outputs": [],
   "source": [
    "sym_funcs = [func.function(*list(var_dict_old.values()))(l = l + 4) for func in funcs] # convert to symbolic functions\n",
    "# *** IF SOMETHING IS BREAKING CHECK THAT RIGHT SHIFT HERE ***"
   ]
  },
  {
   "cell_type": "code",
   "execution_count": 74,
   "metadata": {},
   "outputs": [
    {
     "data": {
      "text/plain": [
       "(-7.283595137586989e-06, -3.7070556607700844e-06, -2.0939279230653123e-07, -3.820967228557095e-06, -1.0816293018275198e-05, -7.134642188059244e-06, 3.3583481402186567e-06)"
      ]
     },
     "execution_count": 74,
     "metadata": {},
     "output_type": "execute_result"
    }
   ],
   "source": [
    "vector([float(func(**coords)(l = 0.01)) for func in sym_funcs])"
   ]
  },
  {
   "cell_type": "markdown",
   "metadata": {},
   "source": [
    "We see that these solutions do indeed comprise a new set of solutions"
   ]
  },
  {
   "cell_type": "code",
   "execution_count": 75,
   "metadata": {},
   "outputs": [
    {
     "name": "stdout",
     "output_type": "stream",
     "text": [
      "0.0 0.0 0.0 0.0 0.0 0.0 0.0 0.0\n",
      "0.01 -0.1225 0.1225 0.1225 -0.1225 -0.1225 0.1225 0.1225\n",
      "0.02 -0.1731 0.1731 0.1731 -0.1732 -0.1732 0.1732 0.1732\n",
      "0.03 -0.212 0.212 0.212 -0.212 -0.212 0.2121 0.2121\n",
      "0.04 -0.2447 0.2448 0.2448 -0.2448 -0.2448 0.2449 0.2449\n",
      "0.05 -0.2735 0.2736 0.2736 -0.2736 -0.2736 0.2738 0.2738\n",
      "0.06 -0.2995 0.2996 0.2996 -0.2997 -0.2997 0.2999 0.2999\n",
      "0.07 -0.3234 0.3235 0.3235 -0.3237 -0.3236 0.324 0.324\n",
      "0.08 -0.3456 0.3458 0.3458 -0.3459 -0.3459 0.3464 0.3464\n",
      "0.09 -0.3664 0.3667 0.3666 -0.3669 -0.3668 0.3675 0.3675\n"
     ]
    }
   ],
   "source": [
    "for i in range(0,10):\n",
    "    to_print = [float(i/100)]\n",
    "    for j in [0,1,2,3,4,5,6]:\n",
    "        to_print.append(round(float(fsols[j](l = i/100)), 4))\n",
    "    print(*to_print)"
   ]
  },
  {
   "cell_type": "markdown",
   "metadata": {},
   "source": [
    "\\\\/\\ bending action"
   ]
  },
  {
   "cell_type": "code",
   "execution_count": 68,
   "metadata": {},
   "outputs": [
    {
     "name": "stderr",
     "output_type": "stream",
     "text": [
      "100%|██████████| 500/500 [01:27<00:00,  5.69it/s]\n"
     ]
    },
    {
     "data": {
      "image/png": "[encoded data removed]",
      "text/plain": [
       "<Figure size 432x288 with 1 Axes>"
      ]
     },
     "metadata": {
      "needs_background": "light"
     },
     "output_type": "display_data"
    }
   ],
   "source": [
    "for i in tqdm.tqdm(range(0,500)):\n",
    "    \n",
    "    angles = [fsol(l = i/1000) for fsol in fsols]\n",
    "    plot_angles(angles, save = True, save_name = 'multi/plot{}'.format(str(i)), show = False, title = 'lambda = 4.{}'.format(f'{i:03d}'))"
   ]
  }
 ],
 "metadata": {
  "kernelspec": {
   "display_name": "SageMath 9.2",
   "language": "sage",
   "name": "sagemath"
  },
  "language_info": {
   "codemirror_mode": {
    "name": "ipython",
    "version": 3
   },
   "file_extension": ".py",
   "mimetype": "text/x-python",
   "name": "python",
   "nbconvert_exporter": "python",
   "pygments_lexer": "ipython3",
   "version": "3.7.7"
  }
 },
 "nbformat": 4,
 "nbformat_minor": 4
}
